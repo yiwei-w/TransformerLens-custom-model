{
    "cells": [
        {
            "cell_type": "markdown",
            "metadata": {},
            "source": [
                "<a target=\"_blank\" href=\"https://colab.research.google.com/github/TransformerLensOrg/TransformerLens/blob/main/demos/Main_Demo.ipynb\">\n",
                "  <img src=\"https://colab.research.google.com/assets/colab-badge.svg\" alt=\"Open In Colab\"/>\n",
                "</a>"
            ]
        },
        {
            "attachments": {},
            "cell_type": "markdown",
            "metadata": {},
            "source": [
                "# Transformer Lens Main Demo Notebook\n",
                "\n",
                "<b style=\"color: red\">To use this notebook, go to Runtime > Change Runtime Type and select GPU as the hardware accelerator.</b>\n",
                "\n",
                "This is a reference notebook covering the main features of the [TransformerLens](https://github.com/TransformerLensOrg/TransformerLens) library for mechanistic interpretability. See [Callum McDougall's tutorial](https://transformerlens-intro.streamlit.app/TransformerLens_&_induction_circuits) for a more structured and gentler introduction to the library"
            ]
        },
        {
            "attachments": {},
            "cell_type": "markdown",
            "metadata": {},
            "source": [
                "**Tips for reading this Colab:**\n",
                "* You can run all this code for yourself! \n",
                "* The graphs are interactive!\n",
                "* Use the table of contents pane in the sidebar to navigate\n",
                "* Collapse irrelevant sections with the dropdown arrows\n",
                "* Search the page using the search in the sidebar, not CTRL+F"
            ]
        },
        {
            "attachments": {},
            "cell_type": "markdown",
            "metadata": {},
            "source": [
                "# Setup\n",
                "(No need to read)"
            ]
        },
        {
            "cell_type": "code",
            "execution_count": 1,
            "metadata": {},
            "outputs": [],
            "source": [
                "%load_ext autoreload\n",
                "%autoreload 2"
            ]
        },
        {
            "cell_type": "code",
            "execution_count": 1,
            "metadata": {},
            "outputs": [],
            "source": [
                "import os\n",
                "DEVELOPMENT_MODE = True\n",
                "\n",
                "IN_COLAB = False\n",
                "\n",
                "# Install if in Colab\n",
                "if IN_COLAB:\n",
                "    %pip install transformer_lens\n",
                "    %pip install circuitsvis\n",
                "    # Install a faster Node version\n",
                "    !curl -fsSL https://deb.nodesource.com/setup_16.x | sudo -E bash -; sudo apt-get install -y nodejs  # noqa\n",
                "\n",
                "# Hot reload in development mode & not running on the CD\n",
                "if not IN_COLAB:\n",
                "    from IPython import get_ipython\n",
                "    ip = get_ipython()\n",
                "    if not ip.extension_manager.loaded:\n",
                "        ip.extension_manager.load('autoreload')\n",
                "        %autoreload 2\n",
                "        \n",
                "IN_GITHUB = os.getenv(\"GITHUB_ACTIONS\") == \"true\"\n"
            ]
        },
        {
            "cell_type": "code",
            "execution_count": 4,
            "metadata": {},
            "outputs": [
                {
                    "name": "stdout",
                    "output_type": "stream",
                    "text": [
                        "Using renderer: vscode\n"
                    ]
                }
            ],
            "source": [
                "# Plotly needs a different renderer for VSCode/Notebooks vs Colab argh\n",
                "import plotly.io as pio\n",
                "\n",
                "if IN_COLAB or not DEVELOPMENT_MODE:\n",
                "    pio.renderers.default = \"colab\"\n",
                "else:\n",
                "    pio.renderers.default = \"vscode\"\n",
                "print(f\"Using renderer: {pio.renderers.default}\")"
            ]
        },
        {
            "cell_type": "code",
            "execution_count": 5,
            "metadata": {},
            "outputs": [
                {
                    "data": {
                        "text/html": [
                            "<div id=\"circuits-vis-bddd82ef-6bbe\" style=\"margin: 15px 0;\"/>\n",
                            "    <script crossorigin type=\"module\">\n",
                            "    import { render, Hello } from \"https://unpkg.com/circuitsvis@1.40.0/dist/cdn/esm.js\";\n",
                            "    render(\n",
                            "      \"circuits-vis-bddd82ef-6bbe\",\n",
                            "      Hello,\n",
                            "      {\"name\": \"Yiwei\"}\n",
                            "    )\n",
                            "    </script>"
                        ],
                        "text/plain": [
                            "<circuitsvis.utils.render.RenderedHTML at 0x13efedf10>"
                        ]
                    },
                    "execution_count": 5,
                    "metadata": {},
                    "output_type": "execute_result"
                }
            ],
            "source": [
                "import circuitsvis as cv\n",
                "\n",
                "# Testing that the library works\n",
                "cv.examples.hello(\"Yiwei\")"
            ]
        },
        {
            "cell_type": "code",
            "execution_count": 6,
            "metadata": {},
            "outputs": [
                {
                    "name": "stderr",
                    "output_type": "stream",
                    "text": [
                        "/Users/yiweiwu/.pyenv/versions/3.11.2/lib/python3.11/site-packages/tqdm/auto.py:21: TqdmWarning:\n",
                        "\n",
                        "IProgress not found. Please update jupyter and ipywidgets. See https://ipywidgets.readthedocs.io/en/stable/user_install.html\n",
                        "\n"
                    ]
                }
            ],
            "source": [
                "# Import stuff\n",
                "import torch\n",
                "import torch.nn as nn\n",
                "import einops\n",
                "from fancy_einsum import einsum\n",
                "import tqdm.auto as tqdm\n",
                "import plotly.express as px\n",
                "\n",
                "from jaxtyping import Float\n",
                "from functools import partial"
            ]
        },
        {
            "cell_type": "code",
            "execution_count": 7,
            "metadata": {},
            "outputs": [],
            "source": [
                "import transformer_lens\n",
                "import transformer_lens.utils as utils\n",
                "from transformer_lens.hook_points import (\n",
                "    HookPoint,\n",
                ")  # Hooking utilities\n",
                "from transformer_lens import HookedTransformer, FactoredMatrix"
            ]
        },
        {
            "cell_type": "markdown",
            "metadata": {},
            "source": [
                "We turn automatic differentiation off, to save GPU memory, as this notebook focuses on model inference not model training."
            ]
        },
        {
            "cell_type": "code",
            "execution_count": 8,
            "metadata": {},
            "outputs": [
                {
                    "data": {
                        "text/plain": [
                            "<torch.autograd.grad_mode.set_grad_enabled at 0x31a2a4790>"
                        ]
                    },
                    "execution_count": 8,
                    "metadata": {},
                    "output_type": "execute_result"
                }
            ],
            "source": [
                "torch.set_grad_enabled(False)"
            ]
        },
        {
            "cell_type": "markdown",
            "metadata": {},
            "source": [
                "Plotting helper functions:"
            ]
        },
        {
            "cell_type": "code",
            "execution_count": 9,
            "metadata": {},
            "outputs": [],
            "source": [
                "def imshow(tensor, renderer=None, xaxis=\"\", yaxis=\"\", **kwargs):\n",
                "    px.imshow(\n",
                "        utils.to_numpy(tensor),\n",
                "        color_continuous_midpoint=0.0,\n",
                "        color_continuous_scale=\"RdBu\",\n",
                "        labels={\"x\": xaxis, \"y\": yaxis},\n",
                "        **kwargs\n",
                "    ).show(renderer)\n",
                "\n",
                "\n",
                "def line(tensor, renderer=None, xaxis=\"\", yaxis=\"\", **kwargs):\n",
                "    px.line(utils.to_numpy(tensor), labels={\"x\": xaxis, \"y\": yaxis}, **kwargs).show(renderer)\n",
                "\n",
                "\n",
                "def scatter(x, y, xaxis=\"\", yaxis=\"\", caxis=\"\", renderer=None, **kwargs):\n",
                "    x = utils.to_numpy(x)\n",
                "    y = utils.to_numpy(y)\n",
                "    px.scatter(y=y, x=x, labels={\"x\": xaxis, \"y\": yaxis, \"color\": caxis}, **kwargs).show(renderer)"
            ]
        },
        {
            "attachments": {},
            "cell_type": "markdown",
            "metadata": {},
            "source": [
                "# Introduction"
            ]
        },
        {
            "attachments": {},
            "cell_type": "markdown",
            "metadata": {},
            "source": [
                "This is a demo notebook for [TransformerLens](https://github.com/TransformerLensOrg/TransformerLens), **a library I ([Neel Nanda](https://neelnanda.io)) wrote for doing [mechanistic interpretability](https://distill.pub/2020/circuits/zoom-in/) of GPT-2 Style language models.** The goal of mechanistic interpretability is to take a trained model and reverse engineer the algorithms the model learned during training from its weights. It is a fact about the world today that we have computer programs that can essentially speak English at a human level (GPT-3, PaLM, etc), yet we have no idea how they work nor how to write one ourselves. This offends me greatly, and I would like to solve this! Mechanistic interpretability is a very young and small field, and there are a *lot* of open problems - if you would like to help, please try working on one! **If you want to skill up, check out [my guide to getting started](https://neelnanda.io/getting-started), and if you want to jump into an open problem check out my sequence [200 Concrete Open Problems in Mechanistic Interpretability](https://neelnanda.io/concrete-open-problems).**\n",
                "\n",
                "I wrote this library because after I left the Anthropic interpretability team and started doing independent research, I got extremely frustrated by the state of open source tooling. There's a lot of excellent infrastructure like HuggingFace and DeepSpeed to *use* or *train* models, but very little to dig into their internals and reverse engineer how they work. **This library tries to solve that**, and to make it easy to get into the field even if you don't work at an industry org with real infrastructure! The core features were heavily inspired by [Anthropic's excellent Garcon tool](https://transformer-circuits.pub/2021/garcon/index.html). Credit to Nelson Elhage and Chris Olah for building Garcon and showing me the value of good infrastructure for accelerating exploratory research!\n",
                "\n",
                "The core design principle I've followed is to enable exploratory analysis - one of the most fun parts of mechanistic interpretability compared to normal ML is the extremely short feedback loops! The point of this library is to keep the gap between having an experiment idea and seeing the results as small as possible, to make it easy for **research to feel like play** and to enter a flow state. This notebook demonstrates how the library works and how to use it, but if you want to see how well it works for exploratory research, check out [my notebook analysing Indirect Objection Identification](https://neelnanda.io/exploratory-analysis-demo) or [my recording of myself doing research](https://www.youtube.com/watch?v=yo4QvDn-vsU)!"
            ]
        },
        {
            "attachments": {},
            "cell_type": "markdown",
            "metadata": {},
            "source": [
                "## Loading and Running Models\n",
                "\n",
                "TransformerLens comes loaded with >40 open source GPT-style models. You can load any of them in with `HookedTransformer.from_pretrained(MODEL_NAME)`. For this demo notebook we'll look at GPT-2 Small, an 80M parameter model, see the Available Models section for info on the rest."
            ]
        },
        {
            "cell_type": "code",
            "execution_count": 10,
            "metadata": {},
            "outputs": [],
            "source": [
                "# device = utils.get_device()\n",
                "device = torch.device(\"cpu\")"
            ]
        },
        {
            "cell_type": "code",
            "execution_count": 11,
            "metadata": {},
            "outputs": [],
            "source": [
                "from tokenizers import Tokenizer\n",
                "from transformers import PreTrainedTokenizerFast\n",
                "\n",
                "tokenizer = Tokenizer.from_file(\"./tokenizer/toy_tokenizer.json\")\n",
                "wrapped_tokenizer = PreTrainedTokenizerFast(\n",
                "    tokenizer_object=tokenizer,\n",
                "    # tokenizer_file=\"./tokenizer/toy_tokenizer.json\", # You can load from the tokenizer file, alternatively\n",
                "    pad_token=\"<|padding|>\",\n",
                "    eos_token=\"<|endoftext|>\",\n",
                "    bos_token=\"<|endoftext|>\",\n",
                ")"
            ]
        },
        {
            "cell_type": "code",
            "execution_count": 12,
            "metadata": {},
            "outputs": [
                {
                    "name": "stdout",
                    "output_type": "stream",
                    "text": [
                        "Loaded pretrained model ./../by_val_model_8H_12L_64HD_balanced_alphabet_26_step_105400.pt into HookedTransformer\n"
                    ]
                }
            ],
            "source": [
                "# NBVAL_IGNORE_OUTPUT\n",
                "# Double check get_pretrained_model_config in loading_from_pretrained.py\n",
                "\n",
                "model = HookedTransformer.from_pretrained(\n",
                "    \"./../by_val_model_8H_12L_64HD_balanced_alphabet_26_step_105400.pt\",\n",
                "    device=device,\n",
                "    fold_ln=False,\n",
                "    fold_value_biases=False,\n",
                "    center_writing_weights=False,\n",
                "    center_unembed=False,\n",
                "    default_prepend_bos=False,\n",
                "    tokenizer=wrapped_tokenizer,\n",
                ")"
            ]
        },
        {
            "cell_type": "code",
            "execution_count": 13,
            "metadata": {},
            "outputs": [],
            "source": [
                "import json\n",
                "from tqdm import tqdm\n",
                "\n",
                "\n",
                "def compare_logits(model, tokenizer, jsonl_file):\n",
                "    correct = 0\n",
                "    total = 0\n",
                "\n",
                "    with open(jsonl_file, \"r\") as file:\n",
                "        for line in tqdm(list(file)):\n",
                "            data = json.loads(line)\n",
                "            input_string = data[\"string\"]\n",
                "            file_logits = torch.tensor(data[\"logits\"], device=device)\n",
                "\n",
                "            # Tokenize and run through the model\n",
                "            input_tokens = model.to_tokens(input_string, prepend_bos=False)\n",
                "            model_logits = model(input_tokens, return_type=\"logits\")\n",
                "            assert model_logits[0].shape == file_logits.shape\n",
                "\n",
                "            # Compare logits\n",
                "            if torch.allclose(model_logits[0], file_logits, atol=1e-4):\n",
                "                correct += 1\n",
                "            total += 1\n",
                "\n",
                "    accuracy = correct / total\n",
                "    return accuracy\n",
                "\n",
                "\n",
                "# Usage\n",
                "jsonl_file = \"./../variable-binding/model_output_logits.jsonl\"\n",
                "# accuracy = compare_logits(model, wrapped_tokenizer, jsonl_file)\n",
                "# print(f\"Accuracy: {accuracy:.4f}\")"
            ]
        },
        {
            "cell_type": "code",
            "execution_count": 14,
            "metadata": {},
            "outputs": [
                {
                    "name": "stdout",
                    "output_type": "stream",
                    "text": [
                        "HookedTransformer(\n",
                        "  (embed): Embed()\n",
                        "  (hook_embed): HookPoint()\n",
                        "  (blocks): ModuleList(\n",
                        "    (0-11): 12 x TransformerBlock(\n",
                        "      (ln1): LayerNorm(\n",
                        "        (hook_scale): HookPoint()\n",
                        "        (hook_normalized): HookPoint()\n",
                        "      )\n",
                        "      (ln2): LayerNorm(\n",
                        "        (hook_scale): HookPoint()\n",
                        "        (hook_normalized): HookPoint()\n",
                        "      )\n",
                        "      (attn): Attention(\n",
                        "        (hook_k): HookPoint()\n",
                        "        (hook_q): HookPoint()\n",
                        "        (hook_v): HookPoint()\n",
                        "        (hook_z): HookPoint()\n",
                        "        (hook_attn_scores): HookPoint()\n",
                        "        (hook_pattern): HookPoint()\n",
                        "        (hook_result): HookPoint()\n",
                        "        (hook_rot_k): HookPoint()\n",
                        "        (hook_rot_q): HookPoint()\n",
                        "      )\n",
                        "      (mlp): MLP(\n",
                        "        (hook_pre): HookPoint()\n",
                        "        (hook_post): HookPoint()\n",
                        "      )\n",
                        "      (hook_attn_in): HookPoint()\n",
                        "      (hook_q_input): HookPoint()\n",
                        "      (hook_k_input): HookPoint()\n",
                        "      (hook_v_input): HookPoint()\n",
                        "      (hook_mlp_in): HookPoint()\n",
                        "      (hook_attn_out): HookPoint()\n",
                        "      (hook_mlp_out): HookPoint()\n",
                        "      (hook_resid_pre): HookPoint()\n",
                        "      (hook_resid_mid): HookPoint()\n",
                        "      (hook_resid_post): HookPoint()\n",
                        "    )\n",
                        "  )\n",
                        "  (ln_final): LayerNorm(\n",
                        "    (hook_scale): HookPoint()\n",
                        "    (hook_normalized): HookPoint()\n",
                        "  )\n",
                        "  (unembed): Unembed()\n",
                        ")\n"
                    ]
                }
            ],
            "source": [
                "print(model)"
            ]
        },
        {
            "attachments": {},
            "cell_type": "markdown",
            "metadata": {},
            "source": [
                "To try the model out, let's find the loss on this text! Models can be run on a single string or a tensor of tokens (shape: [batch, position], all integers), and the possible return types are: \n",
                "* \"logits\" (shape [batch, position, d_vocab], floats), \n",
                "* \"loss\" (the cross-entropy loss when predicting the next token), \n",
                "* \"both\" (a tuple of (logits, loss)) \n",
                "* None (run the model, but don't calculate the logits - this is faster when we only want to use intermediate activations)"
            ]
        },
        {
            "cell_type": "code",
            "execution_count": 15,
            "metadata": {},
            "outputs": [
                {
                    "name": "stdout",
                    "output_type": "stream",
                    "text": [
                        "Loss:  1.385172963142395\n",
                        "Token: '3' Probability: 0.9975681900978088\n",
                        "Token: '7' Probability: 0.0017260456224903464\n",
                        "Token: '2' Probability: 0.00037265749415382743\n"
                    ]
                }
            ],
            "source": [
                "test_input = {\n",
                "    \"program\": \"o=3,e=o,v=7,t=3,e=e,q=2,t=v,o=3,o=2,l=e,n=t,v=e,m=1,o=v,o=l,t=7,#o:\",\n",
                "    \"result\": \"2\",\n",
                "    \"result_var\": \"o\",\n",
                "    \"ref_depth\": 4,\n",
                "    \"num_assigns\": 3,\n",
                "    \"longest_distractor_depth\": 4,\n",
                "    \"num_lines\": 16,\n",
                "}\n",
                "test_input = test_input[\"program\"]\n",
                "logits, loss = model(test_input, return_type=\"both\")\n",
                "next_probs = torch.softmax(logits[0][-1], -1)\n",
                "\n",
                "topk_probs, topk_indices = torch.topk(next_probs, 3)\n",
                "\n",
                "# Assuming tokenizer is your model's tokenizer\n",
                "topk_tokens = [tokenizer.decode([idx]) for idx in topk_indices.tolist()]\n",
                "print(\"Loss: \", loss.item())\n",
                "for i in range(3):\n",
                "    print(f\"Token: {repr(topk_tokens[i])} Probability: {topk_probs[i]}\")"
            ]
        },
        {
            "cell_type": "code",
            "execution_count": 16,
            "metadata": {},
            "outputs": [],
            "source": [
                "# model_description_text = \"\"\"## Loading Models\n",
                "\n",
                "# HookedTransformer comes loaded with >40 open source GPT-style models. You can load any of them in with `HookedTransformer.from_pretrained(MODEL_NAME)`. See my explainer for documentation of all supported models, and this table for hyper-parameters and the name used to load them. Each model is loaded into the consistent HookedTransformer architecture, designed to be clean, consistent and interpretability-friendly.\n",
                "\n",
                "# For this demo notebook we'll look at GPT-2 Small, an 80M parameter model. To try the model the model out, let's find the loss on this paragraph!\"\"\"\n",
                "# loss = model(model_description_text, return_type=\"loss\")\n",
                "# print(\"Model loss:\", loss)"
            ]
        },
        {
            "attachments": {},
            "cell_type": "markdown",
            "metadata": {},
            "source": [
                "## Caching all Activations\n",
                "\n",
                "The first basic operation when doing mechanistic interpretability is to break open the black box of the model and look at all of the internal activations of a model. This can be done with `logits, cache = model.run_with_cache(tokens)`. Let's try this out on the first line of the abstract of the GPT-2 paper.\n",
                "\n",
                "<details><summary>On `remove_batch_dim`</summary>\n",
                "\n",
                "Every activation inside the model begins with a batch dimension. Here, because we only entered a single batch dimension, that dimension is always length 1 and kinda annoying, so passing in the `remove_batch_dim=True` keyword removes it. `gpt2_cache_no_batch_dim = gpt2_cache.remove_batch_dim()` would have achieved the same effect.\n",
                "</details?>"
            ]
        },
        {
            "cell_type": "code",
            "execution_count": 17,
            "metadata": {},
            "outputs": [
                {
                    "name": "stdout",
                    "output_type": "stream",
                    "text": [
                        "cpu\n"
                    ]
                }
            ],
            "source": [
                "gpt2_text = test_input\n",
                "gpt2_tokens = model.to_tokens(gpt2_text)\n",
                "print(gpt2_tokens.device)\n",
                "gpt2_logits, gpt2_cache = model.run_with_cache(gpt2_tokens, remove_batch_dim=True)"
            ]
        },
        {
            "attachments": {},
            "cell_type": "markdown",
            "metadata": {},
            "source": [
                "Let's visualize the attention pattern of all the heads in layer 0, using [Alan Cooney's CircuitsVis library](https://github.com/alan-cooney/CircuitsVis) (based on [Anthropic's PySvelte library](https://github.com/anthropics/PySvelte)). \n",
                "\n",
                "We look this the attention pattern in `gpt2_cache`, an `ActivationCache` object, by entering in the name of the activation, followed by the layer index (here, the activation is called \"attn\" and the layer index is 0). This has shape [head_index, destination_position, source_position], and we use the `model.to_str_tokens` method to convert the text to a list of tokens as strings, since there is an attention weight between each pair of tokens.\n",
                "\n",
                "This visualization is interactive! Try hovering over a token or head, and click to lock. The grid on the top left and for each head is the attention pattern as a destination position by source position grid. It's lower triangular because GPT-2 has **causal attention**, attention can only look backwards, so information can only move forwards in the network.\n",
                "\n",
                "See the ActivationCache section for more on what `gpt2_cache` can do."
            ]
        },
        {
            "cell_type": "code",
            "execution_count": 18,
            "metadata": {},
            "outputs": [
                {
                    "name": "stdout",
                    "output_type": "stream",
                    "text": [
                        "<class 'transformer_lens.ActivationCache.ActivationCache'>\n",
                        "torch.Size([8, 67, 67])\n"
                    ]
                }
            ],
            "source": [
                "layer_idx = 3\n",
                "\n",
                "print(type(gpt2_cache))\n",
                "attention_pattern = gpt2_cache[\"pattern\", layer_idx, \"attn\"]\n",
                "print(attention_pattern.shape)\n",
                "gpt2_str_tokens = model.to_str_tokens(gpt2_text)"
            ]
        },
        {
            "cell_type": "code",
            "execution_count": 19,
            "metadata": {},
            "outputs": [
                {
                    "name": "stdout",
                    "output_type": "stream",
                    "text": [
                        "Layer 3 Head Attention Patterns:\n"
                    ]
                },
                {
                    "data": {
                        "text/html": [
                            "<div id=\"circuits-vis-32a416e4-09fc\" style=\"margin: 15px 0;\"/>\n",
                            "    <script crossorigin type=\"module\">\n",
                            "    import { render, AttentionPatterns } from \"https://unpkg.com/circuitsvis@1.40.0/dist/cdn/esm.js\";\n",
                            "    render(\n",
                            "      \"circuits-vis-32a416e4-09fc\",\n",
                            "      AttentionPatterns,\n",
                            "      {\"tokens\": [\"o\", \"=\", \"3\", \",\", \"e\", \"=\", \"o\", \",\", \"v\", \"=\", \"7\", \",\", \"t\", \"=\", \"3\", \",\", \"e\", \"=\", \"e\", \",\", \"q\", \"=\", \"2\", \",\", \"t\", \"=\", \"v\", \",\", \"o\", \"=\", \"3\", \",\", \"o\", \"=\", \"2\", \",\", \"l\", \"=\", \"e\", \",\", \"n\", \"=\", \"t\", \",\", \"v\", \"=\", \"e\", \",\", \"m\", \"=\", \"1\", \",\", \"o\", \"=\", \"v\", \",\", \"o\", \"=\", \"l\", \",\", \"t\", \"=\", \"7\", \",\", \"#\", \"o\", \":\"], \"attention\": [[[1.0, 0.0, 0.0, 0.0, 0.0, 0.0, 0.0, 0.0, 0.0, 0.0, 0.0, 0.0, 0.0, 0.0, 0.0, 0.0, 0.0, 0.0, 0.0, 0.0, 0.0, 0.0, 0.0, 0.0, 0.0, 0.0, 0.0, 0.0, 0.0, 0.0, 0.0, 0.0, 0.0, 0.0, 0.0, 0.0, 0.0, 0.0, 0.0, 0.0, 0.0, 0.0, 0.0, 0.0, 0.0, 0.0, 0.0, 0.0, 0.0, 0.0, 0.0, 0.0, 0.0, 0.0, 0.0, 0.0, 0.0, 0.0, 0.0, 0.0, 0.0, 0.0, 0.0, 0.0, 0.0, 0.0, 0.0], [0.8100467920303345, 0.18995317816734314, 0.0, 0.0, 0.0, 0.0, 0.0, 0.0, 0.0, 0.0, 0.0, 0.0, 0.0, 0.0, 0.0, 0.0, 0.0, 0.0, 0.0, 0.0, 0.0, 0.0, 0.0, 0.0, 0.0, 0.0, 0.0, 0.0, 0.0, 0.0, 0.0, 0.0, 0.0, 0.0, 0.0, 0.0, 0.0, 0.0, 0.0, 0.0, 0.0, 0.0, 0.0, 0.0, 0.0, 0.0, 0.0, 0.0, 0.0, 0.0, 0.0, 0.0, 0.0, 0.0, 0.0, 0.0, 0.0, 0.0, 0.0, 0.0, 0.0, 0.0, 0.0, 0.0, 0.0, 0.0, 0.0], [0.8701221346855164, 0.05598475784063339, 0.07389311492443085, 0.0, 0.0, 0.0, 0.0, 0.0, 0.0, 0.0, 0.0, 0.0, 0.0, 0.0, 0.0, 0.0, 0.0, 0.0, 0.0, 0.0, 0.0, 0.0, 0.0, 0.0, 0.0, 0.0, 0.0, 0.0, 0.0, 0.0, 0.0, 0.0, 0.0, 0.0, 0.0, 0.0, 0.0, 0.0, 0.0, 0.0, 0.0, 0.0, 0.0, 0.0, 0.0, 0.0, 0.0, 0.0, 0.0, 0.0, 0.0, 0.0, 0.0, 0.0, 0.0, 0.0, 0.0, 0.0, 0.0, 0.0, 0.0, 0.0, 0.0, 0.0, 0.0, 0.0, 0.0], [0.6936500072479248, 0.1543811410665512, 0.07929228991270065, 0.07267649471759796, 0.0, 0.0, 0.0, 0.0, 0.0, 0.0, 0.0, 0.0, 0.0, 0.0, 0.0, 0.0, 0.0, 0.0, 0.0, 0.0, 0.0, 0.0, 0.0, 0.0, 0.0, 0.0, 0.0, 0.0, 0.0, 0.0, 0.0, 0.0, 0.0, 0.0, 0.0, 0.0, 0.0, 0.0, 0.0, 0.0, 0.0, 0.0, 0.0, 0.0, 0.0, 0.0, 0.0, 0.0, 0.0, 0.0, 0.0, 0.0, 0.0, 0.0, 0.0, 0.0, 0.0, 0.0, 0.0, 0.0, 0.0, 0.0, 0.0, 0.0, 0.0, 0.0, 0.0], [0.1757601946592331, 0.13973520696163177, 0.3406674563884735, 0.24262303113937378, 0.10121411085128784, 0.0, 0.0, 0.0, 0.0, 0.0, 0.0, 0.0, 0.0, 0.0, 0.0, 0.0, 0.0, 0.0, 0.0, 0.0, 0.0, 0.0, 0.0, 0.0, 0.0, 0.0, 0.0, 0.0, 0.0, 0.0, 0.0, 0.0, 0.0, 0.0, 0.0, 0.0, 0.0, 0.0, 0.0, 0.0, 0.0, 0.0, 0.0, 0.0, 0.0, 0.0, 0.0, 0.0, 0.0, 0.0, 0.0, 0.0, 0.0, 0.0, 0.0, 0.0, 0.0, 0.0, 0.0, 0.0, 0.0, 0.0, 0.0, 0.0, 0.0, 0.0, 0.0], [0.2094397395849228, 0.04480403661727905, 0.18735304474830627, 0.3618238568305969, 0.007390831131488085, 0.18918852508068085, 0.0, 0.0, 0.0, 0.0, 0.0, 0.0, 0.0, 0.0, 0.0, 0.0, 0.0, 0.0, 0.0, 0.0, 0.0, 0.0, 0.0, 0.0, 0.0, 0.0, 0.0, 0.0, 0.0, 0.0, 0.0, 0.0, 0.0, 0.0, 0.0, 0.0, 0.0, 0.0, 0.0, 0.0, 0.0, 0.0, 0.0, 0.0, 0.0, 0.0, 0.0, 0.0, 0.0, 0.0, 0.0, 0.0, 0.0, 0.0, 0.0, 0.0, 0.0, 0.0, 0.0, 0.0, 0.0, 0.0, 0.0, 0.0, 0.0, 0.0, 0.0], [0.055138252675533295, 0.10700548440217972, 0.12535138428211212, 0.16952605545520782, 0.43957093358039856, 0.030465876683592796, 0.07294201850891113, 0.0, 0.0, 0.0, 0.0, 0.0, 0.0, 0.0, 0.0, 0.0, 0.0, 0.0, 0.0, 0.0, 0.0, 0.0, 0.0, 0.0, 0.0, 0.0, 0.0, 0.0, 0.0, 0.0, 0.0, 0.0, 0.0, 0.0, 0.0, 0.0, 0.0, 0.0, 0.0, 0.0, 0.0, 0.0, 0.0, 0.0, 0.0, 0.0, 0.0, 0.0, 0.0, 0.0, 0.0, 0.0, 0.0, 0.0, 0.0, 0.0, 0.0, 0.0, 0.0, 0.0, 0.0, 0.0, 0.0, 0.0, 0.0, 0.0, 0.0], [0.07616964727640152, 0.0352192148566246, 0.07000873982906342, 0.014292193576693535, 0.48112550377845764, 0.019113890826702118, 0.28955087065696716, 0.014519859105348587, 0.0, 0.0, 0.0, 0.0, 0.0, 0.0, 0.0, 0.0, 0.0, 0.0, 0.0, 0.0, 0.0, 0.0, 0.0, 0.0, 0.0, 0.0, 0.0, 0.0, 0.0, 0.0, 0.0, 0.0, 0.0, 0.0, 0.0, 0.0, 0.0, 0.0, 0.0, 0.0, 0.0, 0.0, 0.0, 0.0, 0.0, 0.0, 0.0, 0.0, 0.0, 0.0, 0.0, 0.0, 0.0, 0.0, 0.0, 0.0, 0.0, 0.0, 0.0, 0.0, 0.0, 0.0, 0.0, 0.0, 0.0, 0.0, 0.0], [0.11333025991916656, 0.04780823364853859, 0.0933379977941513, 0.07667940855026245, 0.05110415816307068, 0.030166123062372208, 0.4855283796787262, 0.08467518538236618, 0.01737024448812008, 0.0, 0.0, 0.0, 0.0, 0.0, 0.0, 0.0, 0.0, 0.0, 0.0, 0.0, 0.0, 0.0, 0.0, 0.0, 0.0, 0.0, 0.0, 0.0, 0.0, 0.0, 0.0, 0.0, 0.0, 0.0, 0.0, 0.0, 0.0, 0.0, 0.0, 0.0, 0.0, 0.0, 0.0, 0.0, 0.0, 0.0, 0.0, 0.0, 0.0, 0.0, 0.0, 0.0, 0.0, 0.0, 0.0, 0.0, 0.0, 0.0, 0.0, 0.0, 0.0, 0.0, 0.0, 0.0, 0.0, 0.0, 0.0], [0.36438876390457153, 0.2093459516763687, 0.023663824424147606, 0.17613869905471802, 0.04522043094038963, 0.06803962588310242, 0.004913195036351681, 0.08129361271858215, 0.0071550942957401276, 0.01984080858528614, 0.0, 0.0, 0.0, 0.0, 0.0, 0.0, 0.0, 0.0, 0.0, 0.0, 0.0, 0.0, 0.0, 0.0, 0.0, 0.0, 0.0, 0.0, 0.0, 0.0, 0.0, 0.0, 0.0, 0.0, 0.0, 0.0, 0.0, 0.0, 0.0, 0.0, 0.0, 0.0, 0.0, 0.0, 0.0, 0.0, 0.0, 0.0, 0.0, 0.0, 0.0, 0.0, 0.0, 0.0, 0.0, 0.0, 0.0, 0.0, 0.0, 0.0, 0.0, 0.0, 0.0, 0.0, 0.0, 0.0, 0.0], [0.0009977160952985287, 0.004946647211909294, 0.009450923651456833, 0.004507857840508223, 0.1777033507823944, 0.014700323343276978, 0.003180380677804351, 0.007071531377732754, 0.3528907895088196, 0.037747737020254135, 0.38680270314216614, 0.0, 0.0, 0.0, 0.0, 0.0, 0.0, 0.0, 0.0, 0.0, 0.0, 0.0, 0.0, 0.0, 0.0, 0.0, 0.0, 0.0, 0.0, 0.0, 0.0, 0.0, 0.0, 0.0, 0.0, 0.0, 0.0, 0.0, 0.0, 0.0, 0.0, 0.0, 0.0, 0.0, 0.0, 0.0, 0.0, 0.0, 0.0, 0.0, 0.0, 0.0, 0.0, 0.0, 0.0, 0.0, 0.0, 0.0, 0.0, 0.0, 0.0, 0.0, 0.0, 0.0, 0.0, 0.0, 0.0], [0.09197384119033813, 0.017441485077142715, 0.017621148377656937, 0.007032307796180248, 0.22632166743278503, 0.008583647198975086, 0.16141630709171295, 0.004884383175522089, 0.0034888209775090218, 0.40668004751205444, 0.046257779002189636, 0.008298564702272415, 0.0, 0.0, 0.0, 0.0, 0.0, 0.0, 0.0, 0.0, 0.0, 0.0, 0.0, 0.0, 0.0, 0.0, 0.0, 0.0, 0.0, 0.0, 0.0, 0.0, 0.0, 0.0, 0.0, 0.0, 0.0, 0.0, 0.0, 0.0, 0.0, 0.0, 0.0, 0.0, 0.0, 0.0, 0.0, 0.0, 0.0, 0.0, 0.0, 0.0, 0.0, 0.0, 0.0, 0.0, 0.0, 0.0, 0.0, 0.0, 0.0, 0.0, 0.0, 0.0, 0.0, 0.0, 0.0], [0.06848957389593124, 0.02837735414505005, 0.021433591842651367, 0.028553100302815437, 0.04866901412606239, 0.017197903245687485, 0.04546080529689789, 0.037785716354846954, 0.003741488792002201, 0.5543491244316101, 0.08623092621564865, 0.030927756801247597, 0.028783632442355156, 0.0, 0.0, 0.0, 0.0, 0.0, 0.0, 0.0, 0.0, 0.0, 0.0, 0.0, 0.0, 0.0, 0.0, 0.0, 0.0, 0.0, 0.0, 0.0, 0.0, 0.0, 0.0, 0.0, 0.0, 0.0, 0.0, 0.0, 0.0, 0.0, 0.0, 0.0, 0.0, 0.0, 0.0, 0.0, 0.0, 0.0, 0.0, 0.0, 0.0, 0.0, 0.0, 0.0, 0.0, 0.0, 0.0, 0.0, 0.0, 0.0, 0.0, 0.0, 0.0, 0.0, 0.0], [0.07717692852020264, 0.11314097046852112, 0.026811864227056503, 0.04445963352918625, 0.11489926278591156, 0.23671172559261322, 0.004268485587090254, 0.05294880270957947, 0.20352886617183685, 0.01117750909179449, 0.015835341066122055, 0.030452122911810875, 0.01068431418389082, 0.057904183864593506, 0.0, 0.0, 0.0, 0.0, 0.0, 0.0, 0.0, 0.0, 0.0, 0.0, 0.0, 0.0, 0.0, 0.0, 0.0, 0.0, 0.0, 0.0, 0.0, 0.0, 0.0, 0.0, 0.0, 0.0, 0.0, 0.0, 0.0, 0.0, 0.0, 0.0, 0.0, 0.0, 0.0, 0.0, 0.0, 0.0, 0.0, 0.0, 0.0, 0.0, 0.0, 0.0, 0.0, 0.0, 0.0, 0.0, 0.0, 0.0, 0.0, 0.0, 0.0, 0.0, 0.0], [0.07448228448629379, 0.15169429779052734, 0.15074297785758972, 0.033318303525447845, 0.036690931767225266, 0.011366715654730797, 0.08317393064498901, 0.01948241889476776, 0.04181092977523804, 0.12433501332998276, 0.042492058128118515, 0.06610461324453354, 0.10987041145563126, 0.029474718496203423, 0.024960294365882874, 0.0, 0.0, 0.0, 0.0, 0.0, 0.0, 0.0, 0.0, 0.0, 0.0, 0.0, 0.0, 0.0, 0.0, 0.0, 0.0, 0.0, 0.0, 0.0, 0.0, 0.0, 0.0, 0.0, 0.0, 0.0, 0.0, 0.0, 0.0, 0.0, 0.0, 0.0, 0.0, 0.0, 0.0, 0.0, 0.0, 0.0, 0.0, 0.0, 0.0, 0.0, 0.0, 0.0, 0.0, 0.0, 0.0, 0.0, 0.0, 0.0, 0.0, 0.0, 0.0], [0.1168060302734375, 0.03840366750955582, 0.024170562624931335, 0.006430376786738634, 0.2543322741985321, 0.01301418524235487, 0.12192365527153015, 0.00738483015447855, 0.0016734246164560318, 0.18756765127182007, 0.015893682837486267, 0.005020795855671167, 0.07077281922101974, 0.12641526758670807, 0.004306918941438198, 0.005883858073502779, 0.0, 0.0, 0.0, 0.0, 0.0, 0.0, 0.0, 0.0, 0.0, 0.0, 0.0, 0.0, 0.0, 0.0, 0.0, 0.0, 0.0, 0.0, 0.0, 0.0, 0.0, 0.0, 0.0, 0.0, 0.0, 0.0, 0.0, 0.0, 0.0, 0.0, 0.0, 0.0, 0.0, 0.0, 0.0, 0.0, 0.0, 0.0, 0.0, 0.0, 0.0, 0.0, 0.0, 0.0, 0.0, 0.0, 0.0, 0.0, 0.0, 0.0, 0.0], [0.0496208593249321, 0.03660542890429497, 0.059224098920822144, 0.023977601900696754, 0.028002284467220306, 0.01785295642912388, 0.20818592607975006, 0.022263389080762863, 0.021484550088644028, 0.09445895999670029, 0.06884510815143585, 0.024985847994685173, 0.017658915370702744, 0.09642548114061356, 0.11731448024511337, 0.02626245841383934, 0.08683163672685623, 0.0, 0.0, 0.0, 0.0, 0.0, 0.0, 0.0, 0.0, 0.0, 0.0, 0.0, 0.0, 0.0, 0.0, 0.0, 0.0, 0.0, 0.0, 0.0, 0.0, 0.0, 0.0, 0.0, 0.0, 0.0, 0.0, 0.0, 0.0, 0.0, 0.0, 0.0, 0.0, 0.0, 0.0, 0.0, 0.0, 0.0, 0.0, 0.0, 0.0, 0.0, 0.0, 0.0, 0.0, 0.0, 0.0, 0.0, 0.0, 0.0, 0.0], [0.15143954753875732, 0.07422138750553131, 0.028963692486286163, 0.02879277803003788, 0.07959297299385071, 0.05725281685590744, 0.009744863025844097, 0.020216219127178192, 0.4073007106781006, 0.036245666444301605, 0.006675148848444223, 0.02624303661286831, 0.030890442430973053, 0.011462599039077759, 0.009309733286499977, 0.013156820088624954, 0.001913827727548778, 0.006577773485332727, 0.0, 0.0, 0.0, 0.0, 0.0, 0.0, 0.0, 0.0, 0.0, 0.0, 0.0, 0.0, 0.0, 0.0, 0.0, 0.0, 0.0, 0.0, 0.0, 0.0, 0.0, 0.0, 0.0, 0.0, 0.0, 0.0, 0.0, 0.0, 0.0, 0.0, 0.0, 0.0, 0.0, 0.0, 0.0, 0.0, 0.0, 0.0, 0.0, 0.0, 0.0, 0.0, 0.0, 0.0, 0.0, 0.0, 0.0, 0.0, 0.0], [0.03552156686782837, 0.0319741889834404, 0.06297866255044937, 0.032250091433525085, 0.03170933201909065, 0.011368152685463428, 0.03681880608201027, 0.05073637142777443, 0.055587369948625565, 0.050897806882858276, 0.10197854787111282, 0.048739224672317505, 0.0761990174651146, 0.03164235129952431, 0.17690706253051758, 0.04513423517346382, 0.04731181636452675, 0.03122595138847828, 0.04101945459842682, 0.0, 0.0, 0.0, 0.0, 0.0, 0.0, 0.0, 0.0, 0.0, 0.0, 0.0, 0.0, 0.0, 0.0, 0.0, 0.0, 0.0, 0.0, 0.0, 0.0, 0.0, 0.0, 0.0, 0.0, 0.0, 0.0, 0.0, 0.0, 0.0, 0.0, 0.0, 0.0, 0.0, 0.0, 0.0, 0.0, 0.0, 0.0, 0.0, 0.0, 0.0, 0.0, 0.0, 0.0, 0.0, 0.0, 0.0, 0.0], [0.03993651643395424, 0.014576095156371593, 0.006981514859944582, 0.003078942187130451, 0.08169267326593399, 0.016306577250361443, 0.016842704266309738, 0.002863435074687004, 0.003434114158153534, 0.08872703462839127, 0.010030371136963367, 0.0029216634575277567, 0.01433577761054039, 0.040555719286203384, 0.002012646524235606, 0.0018278926145285368, 0.20077738165855408, 0.04959907382726669, 0.4006952941417694, 0.0028045466169714928, 0.0, 0.0, 0.0, 0.0, 0.0, 0.0, 0.0, 0.0, 0.0, 0.0, 0.0, 0.0, 0.0, 0.0, 0.0, 0.0, 0.0, 0.0, 0.0, 0.0, 0.0, 0.0, 0.0, 0.0, 0.0, 0.0, 0.0, 0.0, 0.0, 0.0, 0.0, 0.0, 0.0, 0.0, 0.0, 0.0, 0.0, 0.0, 0.0, 0.0, 0.0, 0.0, 0.0, 0.0, 0.0, 0.0, 0.0], [0.05098677799105644, 0.017391754314303398, 0.014941935427486897, 0.007952958345413208, 0.03431200608611107, 0.015645794570446014, 0.03766492381691933, 0.009948217310011387, 0.0065268888138234615, 0.22238056361675262, 0.013320079073309898, 0.007235963828861713, 0.008255195803940296, 0.10126083344221115, 0.03558136522769928, 0.007173271384090185, 0.07497880607843399, 0.06744260340929031, 0.2405824363231659, 0.009264444932341576, 0.017153147608041763, 0.0, 0.0, 0.0, 0.0, 0.0, 0.0, 0.0, 0.0, 0.0, 0.0, 0.0, 0.0, 0.0, 0.0, 0.0, 0.0, 0.0, 0.0, 0.0, 0.0, 0.0, 0.0, 0.0, 0.0, 0.0, 0.0, 0.0, 0.0, 0.0, 0.0, 0.0, 0.0, 0.0, 0.0, 0.0, 0.0, 0.0, 0.0, 0.0, 0.0, 0.0, 0.0, 0.0, 0.0, 0.0, 0.0], [0.08704356104135513, 0.02350763976573944, 0.0074775330722332, 0.023229993879795074, 0.038104742765426636, 0.030882399529218674, 0.004315267316997051, 0.013676641508936882, 0.5616036653518677, 0.012477733194828033, 0.025677697733044624, 0.018040578812360764, 0.02319086529314518, 0.009993408806622028, 0.008890543133020401, 0.0203538928180933, 0.01853981800377369, 0.007402111776173115, 0.020101185888051987, 0.017777394503355026, 0.010921480134129524, 0.016791773959994316, 0.0, 0.0, 0.0, 0.0, 0.0, 0.0, 0.0, 0.0, 0.0, 0.0, 0.0, 0.0, 0.0, 0.0, 0.0, 0.0, 0.0, 0.0, 0.0, 0.0, 0.0, 0.0, 0.0, 0.0, 0.0, 0.0, 0.0, 0.0, 0.0, 0.0, 0.0, 0.0, 0.0, 0.0, 0.0, 0.0, 0.0, 0.0, 0.0, 0.0, 0.0, 0.0, 0.0, 0.0, 0.0], [0.05512812361121178, 0.04187837988138199, 0.022527014836668968, 0.012105150148272514, 0.044784609228372574, 0.02311800606548786, 0.010417885147035122, 0.014682966284453869, 0.2461836189031601, 0.019779065623879433, 0.015022643841803074, 0.011979371309280396, 0.0045988368801772594, 0.008687271736562252, 0.00903784018009901, 0.00885337870568037, 0.0032909847795963287, 0.0058206841349601746, 0.0014728071400895715, 0.009891769848763943, 0.396161288022995, 0.02518748864531517, 0.009390940889716148, 0.0, 0.0, 0.0, 0.0, 0.0, 0.0, 0.0, 0.0, 0.0, 0.0, 0.0, 0.0, 0.0, 0.0, 0.0, 0.0, 0.0, 0.0, 0.0, 0.0, 0.0, 0.0, 0.0, 0.0, 0.0, 0.0, 0.0, 0.0, 0.0, 0.0, 0.0, 0.0, 0.0, 0.0, 0.0, 0.0, 0.0, 0.0, 0.0, 0.0, 0.0, 0.0, 0.0, 0.0], [0.011803588829934597, 0.004449938889592886, 0.002790662460029125, 0.002044383902102709, 0.04376722872257233, 0.0077234008349478245, 0.011080402880907059, 0.0013437228044494987, 0.0010478090262040496, 0.09009239822626114, 0.003589504398405552, 0.0012218464398756623, 0.012555987574160099, 0.03576149046421051, 0.0018312408355996013, 0.0010811237152665854, 0.08712214231491089, 0.02590595744550228, 0.6165720820426941, 0.0014922196278348565, 0.015568467788398266, 0.017844872549176216, 0.001047985046170652, 0.002261541550979018, 0.0, 0.0, 0.0, 0.0, 0.0, 0.0, 0.0, 0.0, 0.0, 0.0, 0.0, 0.0, 0.0, 0.0, 0.0, 0.0, 0.0, 0.0, 0.0, 0.0, 0.0, 0.0, 0.0, 0.0, 0.0, 0.0, 0.0, 0.0, 0.0, 0.0, 0.0, 0.0, 0.0, 0.0, 0.0, 0.0, 0.0, 0.0, 0.0, 0.0, 0.0, 0.0, 0.0], [0.022776508703827858, 0.016387473791837692, 0.009906289167702198, 0.006021030247211456, 0.02786267176270485, 0.01634995825588703, 0.012262043543159962, 0.00875118002295494, 0.004971051122993231, 0.10648462176322937, 0.015686459839344025, 0.005963085684925318, 0.012974058277904987, 0.12582279741764069, 0.0999889075756073, 0.006601827684789896, 0.0574897900223732, 0.053151000291109085, 0.09782589226961136, 0.006442129146307707, 0.007578520104289055, 0.0496961735188961, 0.07519518584012985, 0.010213206522166729, 0.14359816908836365, 0.0, 0.0, 0.0, 0.0, 0.0, 0.0, 0.0, 0.0, 0.0, 0.0, 0.0, 0.0, 0.0, 0.0, 0.0, 0.0, 0.0, 0.0, 0.0, 0.0, 0.0, 0.0, 0.0, 0.0, 0.0, 0.0, 0.0, 0.0, 0.0, 0.0, 0.0, 0.0, 0.0, 0.0, 0.0, 0.0, 0.0, 0.0, 0.0, 0.0, 0.0, 0.0], [0.02388136461377144, 0.018675656989216805, 0.00193957076407969, 0.003427204443141818, 0.010710473172366619, 0.007085513323545456, 0.006853036116808653, 0.0027500581927597523, 0.8374444246292114, 0.004384036175906658, 0.006652647629380226, 0.0026390524581074715, 0.015591299161314964, 0.005298369098454714, 0.0007045491365715861, 0.002950620837509632, 0.0028831714298576117, 0.0031509764958173037, 0.003943166695535183, 0.002501927549019456, 0.016800718382000923, 0.006513448432087898, 0.004734133370220661, 0.00361409573815763, 0.0002628859074320644, 0.0046075740829110146, 0.0, 0.0, 0.0, 0.0, 0.0, 0.0, 0.0, 0.0, 0.0, 0.0, 0.0, 0.0, 0.0, 0.0, 0.0, 0.0, 0.0, 0.0, 0.0, 0.0, 0.0, 0.0, 0.0, 0.0, 0.0, 0.0, 0.0, 0.0, 0.0, 0.0, 0.0, 0.0, 0.0, 0.0, 0.0, 0.0, 0.0, 0.0, 0.0, 0.0, 0.0], [0.06918460130691528, 0.008994191884994507, 0.00869983434677124, 0.010608657263219357, 0.016278959810733795, 0.007682100869715214, 0.1209210678935051, 0.01425157766789198, 0.00824193749576807, 0.10076142847537994, 0.011985856108367443, 0.014464274048805237, 0.02126760594546795, 0.09951118379831314, 0.02139722928404808, 0.016318343579769135, 0.038374029099941254, 0.07375329732894897, 0.1016610786318779, 0.020366402342915535, 0.03223901987075806, 0.03539145737886429, 0.04074793681502342, 0.01878957450389862, 0.020806165412068367, 0.039998579770326614, 0.02730361558496952, 0.0, 0.0, 0.0, 0.0, 0.0, 0.0, 0.0, 0.0, 0.0, 0.0, 0.0, 0.0, 0.0, 0.0, 0.0, 0.0, 0.0, 0.0, 0.0, 0.0, 0.0, 0.0, 0.0, 0.0, 0.0, 0.0, 0.0, 0.0, 0.0, 0.0, 0.0, 0.0, 0.0, 0.0, 0.0, 0.0, 0.0, 0.0, 0.0, 0.0], [0.0054749962873756886, 0.001120255677960813, 0.001643086550757289, 0.0017780069028958678, 0.021743981167674065, 0.0018450220813974738, 0.01047573983669281, 0.0027260887436568737, 0.0013219320680946112, 0.090321384370327, 0.005362440831959248, 0.0015133920824155211, 0.010001890361309052, 0.025453098118305206, 0.0015888961497694254, 0.0013064800295978785, 0.07916567474603653, 0.03623531386256218, 0.5920854210853577, 0.002928513567894697, 0.0040227011777460575, 0.006151387933641672, 0.001050592982210219, 0.002026720903813839, 0.05653359368443489, 0.020768415182828903, 0.013535638339817524, 0.0018192139687016606, 0.0, 0.0, 0.0, 0.0, 0.0, 0.0, 0.0, 0.0, 0.0, 0.0, 0.0, 0.0, 0.0, 0.0, 0.0, 0.0, 0.0, 0.0, 0.0, 0.0, 0.0, 0.0, 0.0, 0.0, 0.0, 0.0, 0.0, 0.0, 0.0, 0.0, 0.0, 0.0, 0.0, 0.0, 0.0, 0.0, 0.0, 0.0, 0.0], [0.021399587392807007, 0.01690169796347618, 0.02557642199099064, 0.015074479393661022, 0.053590040653944016, 0.010062556713819504, 0.02235971763730049, 0.019958265125751495, 0.02069155126810074, 0.05600591003894806, 0.03397966921329498, 0.01586265303194523, 0.023051317781209946, 0.03673519566655159, 0.05892276391386986, 0.016654890030622482, 0.10418816655874252, 0.04321175441145897, 0.12259060144424438, 0.020863095298409462, 0.010671637952327728, 0.020865486934781075, 0.04874461516737938, 0.017455419525504112, 0.03213455528020859, 0.03258919343352318, 0.00854537170380354, 0.028150593861937523, 0.06316282600164413, 0.0, 0.0, 0.0, 0.0, 0.0, 0.0, 0.0, 0.0, 0.0, 0.0, 0.0, 0.0, 0.0, 0.0, 0.0, 0.0, 0.0, 0.0, 0.0, 0.0, 0.0, 0.0, 0.0, 0.0, 0.0, 0.0, 0.0, 0.0, 0.0, 0.0, 0.0, 0.0, 0.0, 0.0, 0.0, 0.0, 0.0, 0.0], [0.0035828661639243364, 0.0037135889288038015, 0.008001990616321564, 0.001972084166482091, 0.012569170445203781, 0.1419258564710617, 0.0003988594689872116, 0.002262255409732461, 0.01770780049264431, 0.0022833244875073433, 0.0008152123191393912, 0.0019809699151664972, 0.009655051864683628, 0.0015779765089973807, 0.006424490828067064, 0.003462650813162327, 0.0029536893125623465, 0.0010379761224612594, 0.0013586030108854175, 0.0033187437802553177, 0.0020806239917874336, 0.009608526714146137, 0.0026846034452319145, 0.006186449434608221, 0.7464607357978821, 0.0019925397355109453, 0.0010829552775248885, 0.0018794701900333166, 0.000626657682005316, 0.00039422730333171785, 0.0, 0.0, 0.0, 0.0, 0.0, 0.0, 0.0, 0.0, 0.0, 0.0, 0.0, 0.0, 0.0, 0.0, 0.0, 0.0, 0.0, 0.0, 0.0, 0.0, 0.0, 0.0, 0.0, 0.0, 0.0, 0.0, 0.0, 0.0, 0.0, 0.0, 0.0, 0.0, 0.0, 0.0, 0.0, 0.0, 0.0], [0.004517346620559692, 0.01126306876540184, 0.01512822974473238, 0.008336511440575123, 0.009652886539697647, 0.0051202671602368355, 0.06860485672950745, 0.0038146316073834896, 0.0062860772013664246, 0.03148627653717995, 0.007152574136853218, 0.005561666563153267, 0.005768313072621822, 0.005479656625539064, 0.004655560944229364, 0.0049908640794456005, 0.005815134383738041, 0.007892880588769913, 0.006624611094594002, 0.0061913151293993, 0.0220890361815691, 0.006061425432562828, 0.0019346688641235232, 0.004001998342573643, 0.0008876979700289667, 0.002795765409246087, 0.056943587958812714, 0.00573753472417593, 0.6677864789962769, 0.0028435552958399057, 0.004575598053634167, 0.0, 0.0, 0.0, 0.0, 0.0, 0.0, 0.0, 0.0, 0.0, 0.0, 0.0, 0.0, 0.0, 0.0, 0.0, 0.0, 0.0, 0.0, 0.0, 0.0, 0.0, 0.0, 0.0, 0.0, 0.0, 0.0, 0.0, 0.0, 0.0, 0.0, 0.0, 0.0, 0.0, 0.0, 0.0, 0.0], [0.006618646904826164, 0.003979077562689781, 0.003692190395668149, 0.0022731756325811148, 0.017819229513406754, 0.0013631037436425686, 0.025272415950894356, 0.002691017696633935, 0.000807809759862721, 0.181344673037529, 0.020871896296739578, 0.003763240994885564, 0.0438639335334301, 0.05072500929236412, 0.0021762161049991846, 0.0015970033127814531, 0.1632072478532791, 0.0524454191327095, 0.21402962505817413, 0.002839938970282674, 0.007233432959765196, 0.01381877064704895, 0.0013514740858227015, 0.002880367450416088, 0.017779868096113205, 0.023781782016158104, 0.004596631042659283, 0.002284305403009057, 0.03305044397711754, 0.08515575528144836, 0.004034219775348902, 0.002652033930644393, 0.0, 0.0, 0.0, 0.0, 0.0, 0.0, 0.0, 0.0, 0.0, 0.0, 0.0, 0.0, 0.0, 0.0, 0.0, 0.0, 0.0, 0.0, 0.0, 0.0, 0.0, 0.0, 0.0, 0.0, 0.0, 0.0, 0.0, 0.0, 0.0, 0.0, 0.0, 0.0, 0.0, 0.0, 0.0], [0.040826622396707535, 0.033348191529512405, 0.031647320836782455, 0.015256647020578384, 0.059068575501441956, 0.009889787063002586, 0.019474826753139496, 0.012852140702307224, 0.001568044419400394, 0.04500770941376686, 0.01850091852247715, 0.017553288489580154, 0.027729924768209457, 0.03264828026294708, 0.03066772222518921, 0.011691509746015072, 0.11348092555999756, 0.02794257178902626, 0.07247688621282578, 0.01528944168239832, 0.009989411570131779, 0.031210241839289665, 0.029425526037812233, 0.021362384781241417, 0.027102824300527573, 0.021631646901369095, 0.0039217304438352585, 0.020625991746783257, 0.044718991965055466, 0.039778172969818115, 0.03592342883348465, 0.026112409308552742, 0.05127592384815216, 0.0, 0.0, 0.0, 0.0, 0.0, 0.0, 0.0, 0.0, 0.0, 0.0, 0.0, 0.0, 0.0, 0.0, 0.0, 0.0, 0.0, 0.0, 0.0, 0.0, 0.0, 0.0, 0.0, 0.0, 0.0, 0.0, 0.0, 0.0, 0.0, 0.0, 0.0, 0.0, 0.0, 0.0], [0.04160367697477341, 0.04469873383641243, 0.009970483370125294, 0.017447078600525856, 0.015127311460673809, 0.1447911411523819, 0.03128238394856453, 0.005827169865369797, 0.05550886318087578, 0.02042095549404621, 0.0033258222974836826, 0.01307437289506197, 0.07226194441318512, 0.009079051204025745, 0.003881380194798112, 0.012865383177995682, 0.019837964326143265, 0.006449231877923012, 0.004401272162795067, 0.00693905632942915, 0.05301576852798462, 0.03775559365749359, 0.00689797755330801, 0.0174002293497324, 0.11834406107664108, 0.009062249213457108, 0.08316703140735626, 0.008253512904047966, 0.0077859144657850266, 0.0019218521192669868, 0.015508902259171009, 0.00870831310749054, 3.758386810659431e-05, 0.09334781765937805, 0.0, 0.0, 0.0, 0.0, 0.0, 0.0, 0.0, 0.0, 0.0, 0.0, 0.0, 0.0, 0.0, 0.0, 0.0, 0.0, 0.0, 0.0, 0.0, 0.0, 0.0, 0.0, 0.0, 0.0, 0.0, 0.0, 0.0, 0.0, 0.0, 0.0, 0.0, 0.0, 0.0], [0.022066064178943634, 0.005135056097060442, 0.011112346313893795, 0.0039945850148797035, 0.019749414175748825, 0.006546116434037685, 0.004509774036705494, 0.006546725053340197, 0.004850288387387991, 0.005224275402724743, 0.0031709002796560526, 0.003614824265241623, 0.0015962469624355435, 0.002455266425386071, 0.0021956958808004856, 0.0037788478657603264, 0.008845166303217411, 0.003006531624123454, 0.005973209626972675, 0.004575797822326422, 0.0014212846290320158, 0.004909914918243885, 0.0021029405761510134, 0.005055427551269531, 0.000997276627458632, 0.0021403117571026087, 0.003187215654179454, 0.004198155365884304, 0.0016416851431131363, 0.02487553097307682, 0.0020003376994282007, 0.013776922598481178, 0.8027521371841431, 0.000797504500951618, 0.0011963092256337404, 0.0, 0.0, 0.0, 0.0, 0.0, 0.0, 0.0, 0.0, 0.0, 0.0, 0.0, 0.0, 0.0, 0.0, 0.0, 0.0, 0.0, 0.0, 0.0, 0.0, 0.0, 0.0, 0.0, 0.0, 0.0, 0.0, 0.0, 0.0, 0.0, 0.0, 0.0, 0.0], [0.0042429897002875805, 0.0028995804022997618, 0.0024329519364982843, 0.00118695804849267, 0.005693477112799883, 0.001602207776159048, 0.030419092625379562, 0.0017263477202504873, 0.0006543594063259661, 0.05412183329463005, 0.005541796796023846, 0.0013484416995197535, 0.009700302965939045, 0.056264668703079224, 0.0034725465811789036, 0.0017539343098178506, 0.21655680239200592, 0.04150307551026344, 0.34285491704940796, 0.001457897713407874, 0.009376938454806805, 0.011181619018316269, 0.0020128795877099037, 0.0016122865490615368, 0.01583070121705532, 0.020544640719890594, 0.005326630547642708, 0.001935316831804812, 0.005085986573249102, 0.06960175186395645, 0.0028286161832511425, 0.0012792798224836588, 0.051006220281124115, 0.011560995131731033, 0.0037984035443514585, 0.001583447097800672, 0.0, 0.0, 0.0, 0.0, 0.0, 0.0, 0.0, 0.0, 0.0, 0.0, 0.0, 0.0, 0.0, 0.0, 0.0, 0.0, 0.0, 0.0, 0.0, 0.0, 0.0, 0.0, 0.0, 0.0, 0.0, 0.0, 0.0, 0.0, 0.0, 0.0, 0.0], [0.01174849458038807, 0.0034321134444326162, 0.003073445986956358, 0.0011613010428845882, 0.008904559537768364, 0.0020738423336297274, 0.05075038596987724, 0.00098905258346349, 0.0006721129757352173, 0.04688204079866409, 0.0040963334031403065, 0.0010032204445451498, 0.004001600667834282, 0.04338168352842331, 0.0032424775417894125, 0.0011388094862923026, 0.041239287704229355, 0.04260818660259247, 0.13009575009346008, 0.001024517579935491, 0.001955878222361207, 0.020550725981593132, 0.006021589506417513, 0.0016021536430343986, 0.00613437732681632, 0.019254060462117195, 0.0035068788565695286, 0.001757079386152327, 0.25484320521354675, 0.19678469002246857, 0.003854247974231839, 0.0013061522040516138, 0.04190496727824211, 0.028517883270978928, 0.00817357562482357, 0.001345996162854135, 0.0009672262822277844, 0.0, 0.0, 0.0, 0.0, 0.0, 0.0, 0.0, 0.0, 0.0, 0.0, 0.0, 0.0, 0.0, 0.0, 0.0, 0.0, 0.0, 0.0, 0.0, 0.0, 0.0, 0.0, 0.0, 0.0, 0.0, 0.0, 0.0, 0.0, 0.0, 0.0], [0.00875936821103096, 0.006185016129165888, 0.011102212592959404, 0.0022110487334430218, 0.04087075963616371, 0.1047983467578888, 0.006550992839038372, 0.003297429531812668, 0.24167890846729279, 0.007052448112517595, 0.005618798080831766, 0.0020730707328766584, 0.09570982307195663, 0.005379983689635992, 0.00290389871224761, 0.004193374887108803, 0.011788908392190933, 0.0045126089826226234, 0.006411021109670401, 0.0033517770934849977, 0.04183460399508476, 0.01998255029320717, 0.0019499778281897306, 0.003539837896823883, 0.28384000062942505, 0.005256412550806999, 0.02160852774977684, 0.002004240406677127, 0.004085888620465994, 0.0030188814271241426, 0.006797409150749445, 0.0031508689280599356, 0.013903141021728516, 0.006706118583679199, 0.002994230482727289, 0.002429029205814004, 0.00024551618844270706, 0.0022029969841241837, 0.0, 0.0, 0.0, 0.0, 0.0, 0.0, 0.0, 0.0, 0.0, 0.0, 0.0, 0.0, 0.0, 0.0, 0.0, 0.0, 0.0, 0.0, 0.0, 0.0, 0.0, 0.0, 0.0, 0.0, 0.0, 0.0, 0.0, 0.0, 0.0], [0.03811712563037872, 0.003374158637598157, 0.01176510937511921, 0.0028909880202263594, 0.025342993438243866, 0.008816483430564404, 0.02052227593958378, 0.002780191134661436, 0.03890848904848099, 0.035811398178339005, 0.017112860456109047, 0.0017435079207643867, 0.004561881069093943, 0.01754377968609333, 0.004477865528315306, 0.002460511401295662, 0.010620222426950932, 0.028710970655083656, 0.04226401820778847, 0.0036830336321145296, 0.0031199364457279444, 0.013583068735897541, 0.003556628944352269, 0.003444462548941374, 0.007894600741565228, 0.006116577889770269, 0.0022332677617669106, 0.00687600439414382, 0.07745223492383957, 0.1308128833770752, 0.005130518693476915, 0.006512308027595282, 0.36972248554229736, 0.006010890938341618, 0.010089895687997341, 0.004311289172619581, 0.0006331131444312632, 0.012809987179934978, 0.008182007819414139, 0.0, 0.0, 0.0, 0.0, 0.0, 0.0, 0.0, 0.0, 0.0, 0.0, 0.0, 0.0, 0.0, 0.0, 0.0, 0.0, 0.0, 0.0, 0.0, 0.0, 0.0, 0.0, 0.0, 0.0, 0.0, 0.0, 0.0, 0.0], [0.009112132713198662, 0.003299166914075613, 0.002267592353746295, 0.0016118556959554553, 0.006942575331777334, 0.0017877784557640553, 0.03434521704912186, 0.0018593491986393929, 0.00013330543879419565, 0.03828063979744911, 0.0019468370592221618, 0.00185187510214746, 0.003660200396552682, 0.04804228991270065, 0.0031538582406938076, 0.0016674173530191183, 0.08556726574897766, 0.03572394326329231, 0.37557345628738403, 0.002304807770997286, 0.010106036439538002, 0.008991047739982605, 0.002176338341087103, 0.002347838832065463, 0.02321631833910942, 0.019036216661334038, 0.0032367161475121975, 0.0025421755854040384, 0.016138149425387383, 0.12200424820184708, 0.0025398225989192724, 0.0024222286883741617, 0.015324476175010204, 0.0120840510353446, 0.006990489549934864, 0.0022187421564012766, 0.008364435285329819, 0.020485011860728264, 0.057968419045209885, 0.002675738651305437, 0.0, 0.0, 0.0, 0.0, 0.0, 0.0, 0.0, 0.0, 0.0, 0.0, 0.0, 0.0, 0.0, 0.0, 0.0, 0.0, 0.0, 0.0, 0.0, 0.0, 0.0, 0.0, 0.0, 0.0, 0.0, 0.0, 0.0], [0.01647447794675827, 0.008214614354074001, 0.004657655023038387, 0.003321769181638956, 0.018549583852291107, 0.003752055112272501, 0.0279118400067091, 0.0038242118898779154, 0.007135959342122078, 0.09043814241886139, 0.007566919084638357, 0.0035448900889605284, 0.009696020744740963, 0.05370980501174927, 0.006281222682446241, 0.002656148513779044, 0.027226870879530907, 0.04537484049797058, 0.03617146238684654, 0.0035013228189200163, 0.02039777673780918, 0.036142028868198395, 0.004414220806211233, 0.0028295041993260384, 0.01009388081729412, 0.029830805957317352, 0.01571657881140709, 0.004053044598549604, 0.09122374653816223, 0.2430008202791214, 0.0020597283728420734, 0.0038091354072093964, 0.023953432217240334, 0.04391542077064514, 0.010960767976939678, 0.003973734565079212, 0.0016865257639437914, 0.026918523013591766, 0.027032900601625443, 0.007157871033996344, 0.010819651186466217, 0.0, 0.0, 0.0, 0.0, 0.0, 0.0, 0.0, 0.0, 0.0, 0.0, 0.0, 0.0, 0.0, 0.0, 0.0, 0.0, 0.0, 0.0, 0.0, 0.0, 0.0, 0.0, 0.0, 0.0, 0.0, 0.0], [0.039636943489313126, 0.08673899620771408, 0.020878570154309273, 0.01141587644815445, 0.019596844911575317, 0.01982138492166996, 0.04626128822565079, 0.008636550977826118, 0.06702908873558044, 0.042593616992235184, 0.044149551540613174, 0.018908439204096794, 0.05977225676178932, 0.0221237875521183, 0.009469076991081238, 0.004812800325453281, 0.011197843588888645, 0.016163941472768784, 0.0009128803503699601, 0.007923956029117107, 0.0550900399684906, 0.012350299395620823, 0.0029281778261065483, 0.010692127048969269, 0.09091436862945557, 0.006695650517940521, 0.03194449469447136, 0.010952222160995007, 0.003002746030688286, 0.003013696987181902, 0.03538905456662178, 0.01038430631160736, 0.030373288318514824, 0.004622078500688076, 0.012530955485999584, 0.012240113690495491, 0.07716668397188187, 0.005056873429566622, 0.0035845558159053326, 0.0038282289169728756, 0.013524511829018593, 0.0056717898696660995, 0.0, 0.0, 0.0, 0.0, 0.0, 0.0, 0.0, 0.0, 0.0, 0.0, 0.0, 0.0, 0.0, 0.0, 0.0, 0.0, 0.0, 0.0, 0.0, 0.0, 0.0, 0.0, 0.0, 0.0, 0.0], [0.09733667969703674, 0.014864467084407806, 0.00950391311198473, 0.0036975282710045576, 0.05373957008123398, 0.005349311977624893, 0.0037336989771574736, 0.004075984004884958, 0.001555402297526598, 0.06228412687778473, 0.010647345334291458, 0.003282709512859583, 0.007934466004371643, 0.02807416394352913, 0.00974542647600174, 0.0016137295169755816, 0.04876498505473137, 0.037822868674993515, 0.011531371623277664, 0.003348575672134757, 0.0038876808248460293, 0.055138181895017624, 0.00447038933634758, 0.00389634957537055, 0.03893902525305748, 0.01677803136408329, 0.0024117655120790005, 0.005344182252883911, 0.015545648522675037, 0.11610402911901474, 0.004823138006031513, 0.005541414022445679, 0.15893687307834625, 0.02745816856622696, 0.0058831158094108105, 0.004401286132633686, 0.0030374189373105764, 0.011952848173677921, 0.001709636184386909, 0.0046024019829928875, 0.03224506601691246, 0.05358259752392769, 0.004404449835419655, 0.0, 0.0, 0.0, 0.0, 0.0, 0.0, 0.0, 0.0, 0.0, 0.0, 0.0, 0.0, 0.0, 0.0, 0.0, 0.0, 0.0, 0.0, 0.0, 0.0, 0.0, 0.0, 0.0, 0.0], [0.006736143492162228, 0.0008658395963720977, 0.0006244880496524274, 0.001527932588942349, 0.007030869834125042, 0.002960040234029293, 0.0033123355824500322, 0.0015133213018998504, 0.00022933745640330017, 0.02237802930176258, 0.0026751006953418255, 0.0013908793916925788, 0.0016444684006273746, 0.026596441864967346, 0.0029495717026293278, 0.0015110739041119814, 0.03139831870794296, 0.018412817269563675, 0.3777724504470825, 0.002190147992223501, 0.0020293183624744415, 0.004611920099705458, 0.0037772199138998985, 0.003750573145225644, 0.08783110231161118, 0.017363039776682854, 0.0007177470251917839, 0.002265616785734892, 0.007855972275137901, 0.05654488503932953, 0.003072353545576334, 0.001740630716085434, 0.01773533597588539, 0.02498779632151127, 0.0036169439554214478, 0.0025049203541129827, 0.0020667011849582195, 0.014993153512477875, 0.14465196430683136, 0.0024742207024246454, 0.03953975439071655, 0.023620542138814926, 0.016602667048573494, 0.0019259853288531303, 0.0, 0.0, 0.0, 0.0, 0.0, 0.0, 0.0, 0.0, 0.0, 0.0, 0.0, 0.0, 0.0, 0.0, 0.0, 0.0, 0.0, 0.0, 0.0, 0.0, 0.0, 0.0, 0.0], [0.021903570741415024, 0.014308122918009758, 0.013529403135180473, 0.0055730766616761684, 0.012047596275806427, 0.013130494393408298, 0.014765175990760326, 0.004649792332202196, 0.032930437475442886, 0.04540656507015228, 0.014988847076892853, 0.005592362955212593, 0.007114992942661047, 0.019389532506465912, 0.016163596883416176, 0.005027144681662321, 0.010892358608543873, 0.028537383303046227, 0.032789867371320724, 0.008643611334264278, 0.003979862667620182, 0.022712908685207367, 0.010290052741765976, 0.009770971722900867, 0.03584723919630051, 0.020309744402766228, 0.03186740353703499, 0.00963143352419138, 0.04655900225043297, 0.04362327605485916, 0.016688989475369453, 0.008126556873321533, 0.013562966138124466, 0.04542793706059456, 0.022712497040629387, 0.009021266363561153, 0.007709821220487356, 0.019577737897634506, 0.04956837370991707, 0.009157123975455761, 0.014742020517587662, 0.02625240944325924, 0.012458860874176025, 0.011162771843373775, 0.17185482382774353, 0.0, 0.0, 0.0, 0.0, 0.0, 0.0, 0.0, 0.0, 0.0, 0.0, 0.0, 0.0, 0.0, 0.0, 0.0, 0.0, 0.0, 0.0, 0.0, 0.0, 0.0, 0.0], [0.001139953499659896, 0.028925403952598572, 0.021739481016993523, 0.004904459696263075, 0.004286626353859901, 0.01440203096717596, 0.0761394053697586, 0.003667575540021062, 0.4849092364311218, 0.0035647286567837, 0.013801182620227337, 0.004057665821164846, 0.013666520826518536, 0.038278721272945404, 0.019924405962228775, 0.008759197778999805, 0.011791398748755455, 0.01729186624288559, 0.029477428644895554, 0.0026238542050123215, 0.05597032234072685, 0.018233545124530792, 0.0034157326444983482, 0.0035850275307893753, 0.032407768070697784, 0.007135634310543537, 0.0075363293290138245, 0.004789052996784449, 0.0023479009978473186, 0.004554716404527426, 0.008850755169987679, 0.0030618952587246895, 0.0006262474926188588, 0.001692914986051619, 0.0031741841230541468, 0.004018992185592651, 0.016003988683223724, 0.0021958881989121437, 0.0006948391674086452, 0.0036302506923675537, 0.0035936555359512568, 0.002378991572186351, 0.0010069499257951975, 0.0022530434653162956, 0.0001749408693285659, 0.00331523222848773, 0.0, 0.0, 0.0, 0.0, 0.0, 0.0, 0.0, 0.0, 0.0, 0.0, 0.0, 0.0, 0.0, 0.0, 0.0, 0.0, 0.0, 0.0, 0.0, 0.0, 0.0], [0.021327868103981018, 0.014540490694344044, 0.017770424485206604, 0.005967153701931238, 0.016150986775755882, 0.004099697340279818, 0.07451049238443375, 0.004748266655951738, 0.08897222578525543, 0.012842562049627304, 0.018762165680527687, 0.0035090260207653046, 0.010943661443889141, 0.045005302876234055, 0.00935218296945095, 0.004319752100855112, 0.03599129244685173, 0.0384693369269371, 0.13855794072151184, 0.002182554453611374, 0.009173561818897724, 0.025880850851535797, 0.0038174032233655453, 0.0038646766915917397, 0.02100316248834133, 0.025845617055892944, 0.008450687862932682, 0.0066858939826488495, 0.034611765295267105, 0.11424822360277176, 0.004851920995861292, 0.005250995047390461, 0.014266641810536385, 0.013199533335864544, 0.005505285691469908, 0.006955310236662626, 0.0186260137706995, 0.017808755859732628, 0.006199928931891918, 0.01055467501282692, 0.0074438126757740974, 0.020530980080366135, 0.006120337639003992, 0.007262201514095068, 0.0008611839730292559, 0.02562529221177101, 0.007331940811127424, 0.0, 0.0, 0.0, 0.0, 0.0, 0.0, 0.0, 0.0, 0.0, 0.0, 0.0, 0.0, 0.0, 0.0, 0.0, 0.0, 0.0, 0.0, 0.0, 0.0], [0.0018921104492619634, 0.0007216693484224379, 0.0003671668528113514, 0.001754540717229247, 0.006074754986912012, 0.0012698364444077015, 0.004026811104267836, 0.0017001618398353457, 0.00043274505878798664, 0.04585602506995201, 0.004444677382707596, 0.0013585122069343925, 0.002630264265462756, 0.030074650421738625, 0.002730382140725851, 0.0012520592426881194, 0.010029066354036331, 0.020658180117607117, 0.3010895848274231, 0.0024442728608846664, 0.0025213370099663734, 0.0032058858778327703, 0.0029683150351047516, 0.0025562522932887077, 0.014992608688771725, 0.012155652046203613, 0.0016744579188525677, 0.0028175697661936283, 0.03551080450415611, 0.048383183777332306, 0.0023650184739381075, 0.001419731299392879, 0.012246251106262207, 0.016283102333545685, 0.005246350076049566, 0.0019282277207821608, 0.0026134902145713568, 0.01280894037336111, 0.21146245300769806, 0.0028226301074028015, 0.021891094744205475, 0.012945919297635555, 0.022297890856862068, 0.0016686131712049246, 0.010538480244576931, 0.04492272809147835, 0.047317422926425934, 0.0016280862037092447, 0.0, 0.0, 0.0, 0.0, 0.0, 0.0, 0.0, 0.0, 0.0, 0.0, 0.0, 0.0, 0.0, 0.0, 0.0, 0.0, 0.0, 0.0, 0.0], [0.008527896367013454, 0.0053328946232795715, 0.003367429366335273, 0.00618387944996357, 0.006971494760364294, 0.00245291949249804, 0.04300509765744209, 0.004992318339645863, 0.008020922541618347, 0.06677421182394028, 0.0066869547590613365, 0.004561676178127527, 0.0023586247116327286, 0.018851250410079956, 0.0065108113922178745, 0.005164568778127432, 0.00776627054437995, 0.02867206744849682, 0.051545921713113785, 0.008640640415251255, 0.008766427636146545, 0.02590803988277912, 0.0041594053618609905, 0.008909152820706367, 0.008233421482145786, 0.02368721179664135, 0.01016809232532978, 0.009942558594048023, 0.05473019555211067, 0.19972167909145355, 0.0020817548502236605, 0.006634552497416735, 0.010777212679386139, 0.051127251237630844, 0.006165799684822559, 0.007932506501674652, 0.007219127845019102, 0.01816638745367527, 0.03418855369091034, 0.01325584389269352, 0.008857982233166695, 0.02586490474641323, 0.006965251639485359, 0.011808114126324654, 0.008583532646298409, 0.08946327120065689, 0.013865222223103046, 0.016446013003587723, 0.00998276099562645, 0.0, 0.0, 0.0, 0.0, 0.0, 0.0, 0.0, 0.0, 0.0, 0.0, 0.0, 0.0, 0.0, 0.0, 0.0, 0.0, 0.0, 0.0], [0.00019235789659433067, 0.0004400299512781203, 0.0002801880764309317, 8.776443428359926e-05, 0.0019936896860599518, 0.00017163380107376724, 0.0001620741531951353, 9.131785918725654e-05, 1.048603644449031e-05, 0.00038272616802714765, 0.00024773553013801575, 0.00011289442045381293, 0.0002715476439334452, 0.00031699487590231, 0.0013372846879065037, 6.628175469813868e-05, 0.005623870529234409, 0.0007331507513299584, 0.002255936386063695, 0.00011626510240603238, 0.0005070178885944188, 0.0009226229740306735, 0.00019698264077305794, 7.078436465235427e-05, 0.007051135879009962, 0.00036883613211102784, 2.0165000023553148e-05, 4.863689900957979e-05, 0.00015297428763005883, 0.0001868528052000329, 0.00019792435341514647, 8.993109076982364e-05, 0.00034375389805063605, 0.0001633517094887793, 0.00013948659761808813, 7.717130210949108e-05, 0.0008173678652383387, 7.863350037951022e-05, 5.360845898394473e-05, 5.224027336225845e-05, 0.0013135640183463693, 0.0002874574565794319, 1.6248279280262068e-05, 7.201564585557207e-05, 0.9710850119590759, 0.0003557325399015099, 0.0002664806379470974, 3.0029492336325347e-05, 6.192809814820066e-05, 7.793003169354051e-05, 0.0, 0.0, 0.0, 0.0, 0.0, 0.0, 0.0, 0.0, 0.0, 0.0, 0.0, 0.0, 0.0, 0.0, 0.0, 0.0, 0.0], [0.004456982482224703, 0.018462512642145157, 0.014276823960244656, 0.01636790856719017, 0.008455939590930939, 0.014535032212734222, 0.014427054673433304, 0.012130829505622387, 0.001045349519699812, 0.009172619320452213, 0.01077435351908207, 0.012074478901922703, 0.01597815752029419, 0.015097036026418209, 0.0070799002423882484, 0.01635838858783245, 0.006865028757601976, 0.007584068924188614, 0.14304009079933167, 0.01650691032409668, 0.0022543766535818577, 0.00895986333489418, 0.06262440234422684, 0.03564085066318512, 0.009256524965167046, 0.0233448538929224, 0.028564453125, 0.013373753055930138, 0.068938247859478, 0.013710521161556244, 0.0394643135368824, 0.012617072090506554, 0.027764396741986275, 0.020408039912581444, 0.02300620824098587, 0.012652012519538403, 0.011710232123732567, 0.03494883328676224, 0.04107949510216713, 0.013499375432729721, 0.011020326055586338, 0.01171538233757019, 0.020100118592381477, 0.010319854132831097, 0.0019017477752640843, 0.007289350498467684, 0.0022330796346068382, 0.01046129409223795, 0.02617674693465233, 0.012946108356118202, 0.017328741028904915, 0.0, 0.0, 0.0, 0.0, 0.0, 0.0, 0.0, 0.0, 0.0, 0.0, 0.0, 0.0, 0.0, 0.0, 0.0, 0.0], [0.002436600858345628, 0.0018369508907198906, 0.001692170393653214, 0.001262693665921688, 0.00563511298969388, 0.00164667924400419, 0.00894905999302864, 0.0018757091602310538, 0.00050397461745888, 0.05202913284301758, 0.004276718478649855, 0.0014148573391139507, 0.007981558330357075, 0.042565301060676575, 0.002640489721670747, 0.0009428478660993278, 0.02063773199915886, 0.02379043959081173, 0.13781075179576874, 0.001769396709278226, 0.0007393514388240874, 0.004574560560286045, 0.0018640387570485473, 0.0018093358958140016, 0.00870912242680788, 0.009161052294075489, 0.00265509239397943, 0.0024026462342590094, 0.014175254851579666, 0.08642006665468216, 0.0035070201847702265, 0.002009072806686163, 0.12756434082984924, 0.009736673906445503, 0.006772116292268038, 0.0013191599864512682, 0.004289676435291767, 0.013797427527606487, 0.04616207256913185, 0.001625608652830124, 0.032532401382923126, 0.014037358574569225, 0.03347001224756241, 0.0016375696286559105, 0.0011570487404242158, 0.04351683706045151, 0.09016647189855576, 0.0013040232006460428, 0.031878117471933365, 0.0726054459810257, 0.005129075143486261, 0.0015738630900159478, 0.0, 0.0, 0.0, 0.0, 0.0, 0.0, 0.0, 0.0, 0.0, 0.0, 0.0, 0.0, 0.0, 0.0, 0.0], [0.018136559054255486, 0.014802423305809498, 0.01614527404308319, 0.004476659465581179, 0.038487691432237625, 0.00684496620669961, 0.007657140959054232, 0.00631153816357255, 0.0037600963842123747, 0.023158825933933258, 0.014736860059201717, 0.005226703826338053, 0.014862275682389736, 0.016680575907230377, 0.014791193418204784, 0.004722354467958212, 0.07260438054800034, 0.016072001308202744, 0.043754421174526215, 0.005838931072503328, 0.004967975430190563, 0.013493756763637066, 0.01849711686372757, 0.006520885042846203, 0.028944222256541252, 0.01673402637243271, 0.0025208836887031794, 0.0073493728414177895, 0.017002517357468605, 0.025696177035570145, 0.017300574108958244, 0.007905351929366589, 0.10066408663988113, 0.014552697539329529, 0.016994208097457886, 0.005966322962194681, 0.012180651538074017, 0.010538971982896328, 0.01455893274396658, 0.007273968309164047, 0.02239307016134262, 0.017128800973296165, 0.01290221605449915, 0.009489906020462513, 0.006745568942278624, 0.03168670833110809, 0.024336479604244232, 0.008869650773704052, 0.03274701535701752, 0.032768767327070236, 0.04471533000469208, 0.012311194092035294, 0.04517175257205963, 0.0, 0.0, 0.0, 0.0, 0.0, 0.0, 0.0, 0.0, 0.0, 0.0, 0.0, 0.0, 0.0, 0.0], [0.006179552525281906, 0.0650177076458931, 0.03067886456847191, 0.006046894006431103, 0.012478234246373177, 0.006829668302088976, 0.035375334322452545, 0.003957739565521479, 0.0004933489835821092, 0.0026929788291454315, 0.005035109352320433, 0.006028525065630674, 0.009880469180643559, 0.017351102083921432, 0.04111608490347862, 0.005532736890017986, 0.14471346139907837, 0.008935934863984585, 0.04438376799225807, 0.0029759590979665518, 0.013007228262722492, 0.021328063681721687, 0.011388706043362617, 0.005440264008939266, 0.09394307434558868, 0.012877688743174076, 0.0011184874456375837, 0.0027776884380728006, 0.0036399259697645903, 0.0028126307297497988, 0.013140324503183365, 0.0032061650417745113, 0.004116650205105543, 0.0051830830052495, 0.002204030519351363, 0.0041663022711873055, 0.2782386541366577, 0.0042413887567818165, 0.001932744518853724, 0.0017363897059112787, 0.019981786608695984, 0.001834769849665463, 0.0008970858179964125, 0.0020096355583518744, 0.006117101293057203, 0.004590022377669811, 0.006516462191939354, 0.0017099161632359028, 0.0038942741230130196, 0.003089925041422248, 0.004277245607227087, 0.0013215509243309498, 0.0005109361954964697, 0.0010463284561410546, 0.0, 0.0, 0.0, 0.0, 0.0, 0.0, 0.0, 0.0, 0.0, 0.0, 0.0, 0.0, 0.0], [0.03547394275665283, 0.008371960371732712, 0.00984099693596363, 0.004060456063598394, 0.015594600699841976, 0.0035570147447288036, 0.009197434410452843, 0.004520330112427473, 0.006252572871744633, 0.02244502119719982, 0.005347858183085918, 0.004225757904350758, 0.023937027901411057, 0.014109169133007526, 0.009398473426699638, 0.0032306096982210875, 0.058250922709703445, 0.017564399167895317, 0.025258397683501244, 0.0031376450788229704, 0.007936517708003521, 0.04430387169122696, 0.003924370277673006, 0.0036369108129292727, 0.03878004848957062, 0.01981494389474392, 0.02794870175421238, 0.0028801849111914635, 0.020871883258223534, 0.044446587562561035, 0.004166628699749708, 0.0033902274444699287, 0.021008845418691635, 0.025687463581562042, 0.0030674615409225225, 0.004164707846939564, 0.006195321679115295, 0.022604508325457573, 0.009762963280081749, 0.005622095428407192, 0.008728625252842903, 0.020725999027490616, 0.011478954926133156, 0.007506351452320814, 0.028594810515642166, 0.058979082852602005, 0.009397010318934917, 0.006996360141783953, 0.027044089511036873, 0.1496889591217041, 0.007288243621587753, 0.004540306981652975, 0.010618713684380054, 0.020644214004278183, 0.02377944439649582, 0.0, 0.0, 0.0, 0.0, 0.0, 0.0, 0.0, 0.0, 0.0, 0.0, 0.0, 0.0], [0.006828260142356157, 0.001651572179980576, 0.0006028969073668122, 0.0019839496817439795, 0.005130296107381582, 0.0021359086968004704, 0.008448389358818531, 0.001514502102509141, 9.810632764128968e-05, 0.06386708468198776, 0.0027018433902412653, 0.0017593364464119077, 0.0024432933423668146, 0.03707587718963623, 0.001260977704077959, 0.0011691993568092585, 0.03625388443470001, 0.022647254168987274, 0.05644533038139343, 0.00147036905400455, 0.0011010317830368876, 0.004012843128293753, 0.0017425654223188758, 0.0020439336076378822, 0.001977173611521721, 0.008058615028858185, 0.001649470068514347, 0.003194918390363455, 0.005785313434898853, 0.06848803907632828, 0.0020777154713869095, 0.0018406196031719446, 0.013711550273001194, 0.01501114945858717, 0.004421357065439224, 0.0027953770477324724, 0.0024996951688081026, 0.018417788669466972, 0.0752173513174057, 0.0018588489620015025, 0.027262240648269653, 0.017894653603434563, 0.017954135313630104, 0.0017627651104703546, 0.0009718480869196355, 0.05659004673361778, 0.18739894032478333, 0.002509675920009613, 0.04215769097208977, 0.08389587700366974, 0.002336306730285287, 0.0016447387170046568, 0.028788141906261444, 0.02636292763054371, 0.009719655849039555, 0.0013566798297688365, 0.0, 0.0, 0.0, 0.0, 0.0, 0.0, 0.0, 0.0, 0.0, 0.0, 0.0], [0.018431980162858963, 0.02270323969423771, 0.015390169806778431, 0.008438052609562874, 0.03149527311325073, 0.010154662653803825, 0.01652628369629383, 0.00587085634469986, 0.0017909703310579062, 0.0244356207549572, 0.014793870970606804, 0.008472096174955368, 0.01639731414616108, 0.02166055142879486, 0.014002326875925064, 0.0062463851645588875, 0.05764123052358627, 0.01398429274559021, 0.029113369062542915, 0.005923273507505655, 0.008179430849850178, 0.01540245208889246, 0.014717403799295425, 0.010154753923416138, 0.028570853173732758, 0.011998413130640984, 0.002115708077326417, 0.010018844157457352, 0.02576916106045246, 0.010193804278969765, 0.024283787235617638, 0.009376412257552147, 0.013367892242968082, 0.01943582482635975, 0.01900070533156395, 0.010982687585055828, 0.015885334461927414, 0.015963539481163025, 0.02198248729109764, 0.0082000233232975, 0.020909611135721207, 0.01374709140509367, 0.010645114816725254, 0.009926101192831993, 0.0037820639554411173, 0.02676810324192047, 0.037009406834840775, 0.01355703268200159, 0.02314942516386509, 0.022449277341365814, 0.016744621098041534, 0.010951245203614235, 0.022894706577062607, 0.02059117890894413, 0.012687087059020996, 0.017144007608294487, 0.07797261327505112, 0.0, 0.0, 0.0, 0.0, 0.0, 0.0, 0.0, 0.0, 0.0, 0.0], [0.0004290371434763074, 0.01136285811662674, 0.008620478212833405, 0.007196343969553709, 0.01697155274450779, 0.00893365778028965, 0.04023757576942444, 0.006885743234306574, 0.0005242920015007257, 0.009430200792849064, 0.007185342255979776, 0.008008422330021858, 0.010601428337395191, 0.01688099466264248, 0.05609217286109924, 0.009457946754992008, 0.03600345551967621, 0.022830702364444733, 0.10261576622724533, 0.010560777969658375, 0.028663329780101776, 0.00580099830403924, 0.015437024645507336, 0.0040124463848769665, 0.027293670922517776, 0.011645018123090267, 0.0025262755807489157, 0.005999976769089699, 0.021907465532422066, 0.0050536105409264565, 0.015042878687381744, 0.0038268521893769503, 0.0017909558955579996, 0.0058546047657728195, 0.0133809894323349, 0.0035456414334475994, 0.025172363966703415, 0.0028085107915103436, 0.021046794950962067, 0.003351605264469981, 0.0159273874014616, 0.007183622568845749, 0.0023297055158764124, 0.0026623266749083996, 0.009153601713478565, 0.007400530856102705, 0.007363811135292053, 0.002623599721118808, 0.009372999891638756, 0.0027462108992040157, 0.00568663002923131, 0.006307570263743401, 0.2963223457336426, 0.004497210029512644, 0.00013374387344811112, 0.0025313193909823895, 0.000944151368457824, 0.0018234887393191457, 0.0, 0.0, 0.0, 0.0, 0.0, 0.0, 0.0, 0.0, 0.0], [0.006203732453286648, 0.0018694957252591848, 0.0013793535763397813, 0.0011846107663586736, 0.009558982215821743, 0.0005398942739702761, 0.018931172788143158, 0.0010913728037849069, 0.0027252607978880405, 0.013623607344925404, 0.006413591094315052, 0.0010825570207089186, 0.006456742063164711, 0.006910672876983881, 0.0024628499522805214, 0.0006413721130229533, 0.03203510493040085, 0.017982276156544685, 0.031770166009664536, 0.0007331870147027075, 0.004572724923491478, 0.005542753729969263, 0.0021136526484042406, 0.0005525167216546834, 0.007814972661435604, 0.016614308580756187, 0.008685464039444923, 0.0008860080852173269, 0.17339378595352173, 0.03425851836800575, 0.0010359961306676269, 0.0004448717227205634, 0.01724921725690365, 0.006156022660434246, 0.001418055035173893, 0.0007189781172201037, 0.004472292494028807, 0.00902555976063013, 0.013936723582446575, 0.001212236937135458, 0.003139928448945284, 0.012519365176558495, 0.0020371803548187017, 0.0011575897224247456, 0.029306020587682724, 0.024293970316648483, 0.002685415791347623, 0.0013918878976255655, 0.02501225285232067, 0.09680577367544174, 0.0034685807768255472, 0.0012979649472981691, 0.28723177313804626, 0.019283322617411613, 0.001942770672030747, 0.0009940664749592543, 0.005275381729006767, 0.008209994994103909, 0.0002460920950397849, 0.0, 0.0, 0.0, 0.0, 0.0, 0.0, 0.0, 0.0], [0.007989990524947643, 0.001808947534300387, 0.0007473212899640203, 0.0015706508420407772, 0.010058142244815826, 0.0035567721351981163, 0.002829593839123845, 0.00227271462790668, 0.0006781863630749285, 0.03969277814030647, 0.001477168290875852, 0.0013166415737941861, 0.0024699168279767036, 0.059626929461956024, 0.0022862721234560013, 0.0015252333832904696, 0.0353713221848011, 0.025740796700119972, 0.08581329137086868, 0.001188618945889175, 0.002253288170322776, 0.007374428678303957, 0.0020815080497413874, 0.001623643678613007, 0.010681220330297947, 0.012183013372123241, 0.0036446982994675636, 0.0023815722670406103, 0.003339272690936923, 0.07897137850522995, 0.0018486477201804519, 0.0015710823936387897, 0.008217362686991692, 0.01567154750227928, 0.004798390902578831, 0.001982569694519043, 0.0012161677004769444, 0.013459973968565464, 0.04131836071610451, 0.002387929940596223, 0.032267749309539795, 0.023707835003733635, 0.014970783144235611, 0.0015147523954510689, 0.0014759993646293879, 0.048595789819955826, 0.043436311185359955, 0.0018130235839635134, 0.07967984676361084, 0.07276327908039093, 0.0023295413702726364, 0.002087326254695654, 0.007122770883142948, 0.02388034760951996, 0.0023024342954158783, 0.001574491267092526, 0.07265347242355347, 0.05768967047333717, 0.003787537105381489, 0.0013197360094636679, 0.0, 0.0, 0.0, 0.0, 0.0, 0.0, 0.0], [0.008756780065596104, 0.013573949225246906, 0.007123645395040512, 0.00275197415612638, 0.01149522140622139, 0.004953316878527403, 0.010352913290262222, 0.0034973479341715574, 0.004555216990411282, 0.012966881506145, 0.006141545716673136, 0.0029626106843352318, 0.007344823330640793, 0.017588533461093903, 0.018496137112379074, 0.003358225803822279, 0.0726991593837738, 0.02192816324532032, 0.022773027420043945, 0.0023058922961354256, 0.0038172828499227762, 0.019545504823327065, 0.015217656269669533, 0.0025463385973125696, 0.019864533096551895, 0.020823972299695015, 0.005101385526359081, 0.0033607021905481815, 0.019141629338264465, 0.03332246467471123, 0.0056951590813696384, 0.0022493433207273483, 0.007511346600949764, 0.03570706024765968, 0.005247964058071375, 0.0029866271652281284, 0.0024027912877500057, 0.012454576790332794, 0.011647085659205914, 0.003530744928866625, 0.014136232435703278, 0.023233570158481598, 0.004073127638548613, 0.0034468055237084627, 0.004260685760527849, 0.055479746311903, 0.00831485167145729, 0.0038710259832441807, 0.023860182613134384, 0.08518261462450027, 0.021492063999176025, 0.003820565529167652, 0.01783466339111328, 0.023592131212353706, 0.0018169803079217672, 0.003528199391439557, 0.03467915579676628, 0.0173589289188385, 0.0012229460990056396, 0.0030953155364841223, 0.15790069103240967, 0.0, 0.0, 0.0, 0.0, 0.0, 0.0], [0.0011793100275099277, 0.010267455130815506, 0.03428718447685242, 0.006690493319183588, 0.018884113058447838, 0.024020886048674583, 0.005914676934480667, 0.00902992021292448, 0.00025432909023948014, 0.015975743532180786, 0.0027012599166482687, 0.0070760189555585384, 0.006709059234708548, 0.011803052388131618, 0.05795937404036522, 0.0070419046096503735, 0.01535891368985176, 0.010237975046038628, 0.027203205972909927, 0.01094223465770483, 0.0034846661146730185, 0.01628820039331913, 0.006255522835999727, 0.005950984079390764, 0.03632489591836929, 0.0037188702262938023, 0.003587780287489295, 0.005149435251951218, 0.007318019401282072, 0.010017982684075832, 0.012927373871207237, 0.010546030476689339, 0.05537594482302666, 0.00582196656614542, 0.010345501825213432, 0.0026636982802301645, 0.01024708617478609, 0.0048827207647264, 0.0021396956872195005, 0.0020006357226520777, 0.021443642675876617, 0.008504512719810009, 0.0027035872917622328, 0.003090884303674102, 0.07830723375082016, 0.007125432137399912, 0.00463613448664546, 0.002064767526462674, 0.010699251666665077, 0.001306030317209661, 0.01309278979897499, 0.005771989934146404, 0.06816790252923965, 0.005144459195435047, 0.0010195921640843153, 0.004619413986802101, 0.24234753847122192, 0.0031662352848798037, 0.0002204362244810909, 0.0039243996143341064, 0.005660597700625658, 0.008398925885558128, 0.0, 0.0, 0.0, 0.0, 0.0], [0.009724890813231468, 0.005791225004941225, 0.0015239855274558067, 0.00332673080265522, 0.001767484936863184, 0.003936438355594873, 0.02281268872320652, 0.001805648673325777, 0.004169961903244257, 0.0043313028290867805, 0.0006039001164026558, 0.0023184954188764095, 0.0003078959707636386, 0.0033791400492191315, 0.0006819150294177234, 0.0040612006559967995, 0.0032236799597740173, 0.003947865683585405, 0.0112489964812994, 0.003039166098460555, 0.0009536730358377099, 0.001174671109765768, 0.0016646276926621795, 0.0038570479955524206, 0.00025312823709100485, 0.003034895285964012, 0.008427709341049194, 0.006894921418279409, 0.010916594415903091, 0.007462773937731981, 0.0022563734091818333, 0.0038683919701725245, 0.00021756270143669099, 0.0046151177957654, 0.004959415178745985, 0.01005509216338396, 0.0005511241615749896, 0.006319344509392977, 0.09459970891475677, 0.005439989268779755, 0.0018722598906606436, 0.010178489610552788, 0.0013739709975197911, 0.0027346445713192225, 0.00045176682760939, 0.002302972599864006, 0.007102299947291613, 0.004872307181358337, 0.010715764947235584, 0.006942077074199915, 0.0013715438544750214, 0.004394933581352234, 0.0012487578205764294, 0.0027009695768356323, 0.0035447736736387014, 0.003992918413132429, 0.0026460643857717514, 0.006961983162909746, 0.001977628795430064, 0.0025748128537088633, 0.6408489346504211, 0.0014752517454326153, 0.00819006934762001, 0.0, 0.0, 0.0, 0.0], [0.0041944291442632675, 0.009173013269901276, 0.005353683605790138, 0.006311465986073017, 0.027453593909740448, 0.007345058023929596, 0.006705029401928186, 0.006551743019372225, 0.001395920291543007, 0.020096125081181526, 0.010270453989505768, 0.005016976036131382, 0.007025949656963348, 0.029145797714591026, 0.022072775289416313, 0.0051327054388821125, 0.059091415256261826, 0.0230292696505785, 0.03618086874485016, 0.004374207463115454, 0.006165673024952412, 0.012815658934414387, 0.018783552572131157, 0.003917278256267309, 0.027495617046952248, 0.016304519027471542, 0.0009302949765697122, 0.004084301181137562, 0.062273114919662476, 0.018907569348812103, 0.009119837544858456, 0.002399976132437587, 0.030281338840723038, 0.01068065408617258, 0.007943309843540192, 0.002708445070311427, 0.009930625557899475, 0.008405584841966629, 0.01644747518002987, 0.0027905809693038464, 0.029523435980081558, 0.014684251509606838, 0.004362648818641901, 0.0022974545136094093, 0.03818847984075546, 0.025796134024858475, 0.006610605865716934, 0.002181354444473982, 0.052979856729507446, 0.014579099602997303, 0.01028213556855917, 0.0026056154165416956, 0.08844327926635742, 0.011849482543766499, 0.0011066443985328078, 0.0019206585129722953, 0.01255798153579235, 0.01060198713093996, 0.0010690588969737291, 0.0017712938133627176, 0.06646152585744858, 0.015546508133411407, 0.01479446142911911, 0.0014801647048443556, 0.0, 0.0, 0.0], [0.01760951057076454, 0.022391127422451973, 0.01849496178328991, 0.01380155049264431, 0.02227577194571495, 0.013757788576185703, 0.03135893493890762, 0.011820369400084019, 0.018955150619149208, 0.012820258736610413, 0.011105158366262913, 0.012584887444972992, 0.02860378846526146, 0.0075379922054708, 0.02330057881772518, 0.010266074910759926, 0.024412769824266434, 0.006028665229678154, 0.007147610187530518, 0.007409090641885996, 0.0802307203412056, 0.019433610141277313, 0.018743788823485374, 0.005934859625995159, 0.008732396177947521, 0.0060659730806946754, 0.0678737536072731, 0.004993627779185772, 0.016206296160817146, 0.004607045091688633, 0.0136996079236269, 0.006830029189586639, 0.014394420199096203, 0.003899308620020747, 0.01013234443962574, 0.009040006436407566, 0.06869122385978699, 0.00639916630461812, 0.008809948340058327, 0.006977001670747995, 0.0239229965955019, 0.012652086094021797, 0.01071060448884964, 0.006984757725149393, 0.039309293031692505, 0.0035554850473999977, 0.005520198494195938, 0.007678009103983641, 0.015393011271953583, 0.0014691055985167623, 0.014347500167787075, 0.006745545193552971, 0.011194516904652119, 0.0018714980687946081, 0.020812323316931725, 0.009241148829460144, 0.01159697026014328, 0.0030239582993090153, 0.0035644248127937317, 0.008461684919893742, 0.050688184797763824, 0.003869813634082675, 0.007798310369253159, 0.009854773990809917, 0.006356603000313044, 0.0, 0.0], [0.02612614817917347, 0.007695239037275314, 0.005807485897094011, 0.005181120242923498, 0.02610248699784279, 0.002932516159489751, 0.01654876582324505, 0.00594366155564785, 0.004095684736967087, 0.017873018980026245, 0.007577031385153532, 0.006105583626776934, 0.014327370561659336, 0.013858637772500515, 0.008217060007154942, 0.004909445997327566, 0.07732416689395905, 0.014680157415568829, 0.034330811351537704, 0.005563892424106598, 0.011357186362147331, 0.008621995337307453, 0.005545239429920912, 0.005276374984532595, 0.033586286008358, 0.012308258563280106, 0.004753472749143839, 0.006375415250658989, 0.03690064325928688, 0.01267955731600523, 0.009596966207027435, 0.0047128163278102875, 0.038799211382865906, 0.007181202527135611, 0.006022368557751179, 0.005462938919663429, 0.027405908331274986, 0.009279552847146988, 0.031508397310972214, 0.004966814536601305, 0.011734215542674065, 0.00792255811393261, 0.009421060793101788, 0.005601838231086731, 0.004977140109986067, 0.024086952209472656, 0.026591649278998375, 0.006795639172196388, 0.02153020165860653, 0.03728419542312622, 0.006177213974297047, 0.007584028411656618, 0.016335155814886093, 0.02082877606153488, 0.001619302318431437, 0.00931169930845499, 0.018582284450531006, 0.016018355265259743, 0.0027557071298360825, 0.008507288992404938, 0.10261960327625275, 0.012289166450500488, 0.010648510418832302, 0.006446179002523422, 0.011871886439621449, 0.004918474238365889, 0.0], [0.010755104012787342, 0.0115289818495512, 0.00801005493849516, 0.008998864330351353, 0.017725320532917976, 0.0058790105395019054, 0.011112675070762634, 0.009753736667335033, 0.0018749784212559462, 0.012170720845460892, 0.007711688056588173, 0.015797849744558334, 0.01756732165813446, 0.017907464876770973, 0.006593903061002493, 0.012834765948355198, 0.014697213657200336, 0.015974275767803192, 0.029248423874378204, 0.014538581483066082, 0.013019133359193802, 0.016396114602684975, 0.0061203488148748875, 0.01835031993687153, 0.017424996942281723, 0.015776436775922775, 0.0047485725954174995, 0.012165137566626072, 0.017735345289111137, 0.0413377620279789, 0.007091126870363951, 0.014665426686406136, 0.014281803742051125, 0.014682485722005367, 0.006713536102324724, 0.013696183450520039, 0.008004366420209408, 0.023103123530745506, 0.03391795605421066, 0.018534690141677856, 0.009037734940648079, 0.0293818898499012, 0.030188044533133507, 0.014342949725687504, 0.011497991159558296, 0.026623046025633812, 0.013637704774737358, 0.013682348653674126, 0.01685640960931778, 0.0331282801926136, 0.005684439558535814, 0.014048486016690731, 0.01479316595941782, 0.016065584495663643, 0.011121326126158237, 0.01627485640347004, 0.008498365990817547, 0.02113945409655571, 0.012146753259003162, 0.011724933050572872, 0.013466255739331245, 0.024388618767261505, 0.01378632802516222, 0.007660769857466221, 0.020186129957437515, 0.011489816009998322, 0.01070247869938612]], [[1.0, 0.0, 0.0, 0.0, 0.0, 0.0, 0.0, 0.0, 0.0, 0.0, 0.0, 0.0, 0.0, 0.0, 0.0, 0.0, 0.0, 0.0, 0.0, 0.0, 0.0, 0.0, 0.0, 0.0, 0.0, 0.0, 0.0, 0.0, 0.0, 0.0, 0.0, 0.0, 0.0, 0.0, 0.0, 0.0, 0.0, 0.0, 0.0, 0.0, 0.0, 0.0, 0.0, 0.0, 0.0, 0.0, 0.0, 0.0, 0.0, 0.0, 0.0, 0.0, 0.0, 0.0, 0.0, 0.0, 0.0, 0.0, 0.0, 0.0, 0.0, 0.0, 0.0, 0.0, 0.0, 0.0, 0.0], [0.9933316111564636, 0.006668445188552141, 0.0, 0.0, 0.0, 0.0, 0.0, 0.0, 0.0, 0.0, 0.0, 0.0, 0.0, 0.0, 0.0, 0.0, 0.0, 0.0, 0.0, 0.0, 0.0, 0.0, 0.0, 0.0, 0.0, 0.0, 0.0, 0.0, 0.0, 0.0, 0.0, 0.0, 0.0, 0.0, 0.0, 0.0, 0.0, 0.0, 0.0, 0.0, 0.0, 0.0, 0.0, 0.0, 0.0, 0.0, 0.0, 0.0, 0.0, 0.0, 0.0, 0.0, 0.0, 0.0, 0.0, 0.0, 0.0, 0.0, 0.0, 0.0, 0.0, 0.0, 0.0, 0.0, 0.0, 0.0, 0.0], [0.9883474707603455, 0.005161256995052099, 0.006491297855973244, 0.0, 0.0, 0.0, 0.0, 0.0, 0.0, 0.0, 0.0, 0.0, 0.0, 0.0, 0.0, 0.0, 0.0, 0.0, 0.0, 0.0, 0.0, 0.0, 0.0, 0.0, 0.0, 0.0, 0.0, 0.0, 0.0, 0.0, 0.0, 0.0, 0.0, 0.0, 0.0, 0.0, 0.0, 0.0, 0.0, 0.0, 0.0, 0.0, 0.0, 0.0, 0.0, 0.0, 0.0, 0.0, 0.0, 0.0, 0.0, 0.0, 0.0, 0.0, 0.0, 0.0, 0.0, 0.0, 0.0, 0.0, 0.0, 0.0, 0.0, 0.0, 0.0, 0.0, 0.0], [0.06615195423364639, 0.4340481758117676, 0.47270965576171875, 0.027090242132544518, 0.0, 0.0, 0.0, 0.0, 0.0, 0.0, 0.0, 0.0, 0.0, 0.0, 0.0, 0.0, 0.0, 0.0, 0.0, 0.0, 0.0, 0.0, 0.0, 0.0, 0.0, 0.0, 0.0, 0.0, 0.0, 0.0, 0.0, 0.0, 0.0, 0.0, 0.0, 0.0, 0.0, 0.0, 0.0, 0.0, 0.0, 0.0, 0.0, 0.0, 0.0, 0.0, 0.0, 0.0, 0.0, 0.0, 0.0, 0.0, 0.0, 0.0, 0.0, 0.0, 0.0, 0.0, 0.0, 0.0, 0.0, 0.0, 0.0, 0.0, 0.0, 0.0, 0.0], [0.08942861109972, 0.16644003987312317, 0.27068042755126953, 0.23251910507678986, 0.24093182384967804, 0.0, 0.0, 0.0, 0.0, 0.0, 0.0, 0.0, 0.0, 0.0, 0.0, 0.0, 0.0, 0.0, 0.0, 0.0, 0.0, 0.0, 0.0, 0.0, 0.0, 0.0, 0.0, 0.0, 0.0, 0.0, 0.0, 0.0, 0.0, 0.0, 0.0, 0.0, 0.0, 0.0, 0.0, 0.0, 0.0, 0.0, 0.0, 0.0, 0.0, 0.0, 0.0, 0.0, 0.0, 0.0, 0.0, 0.0, 0.0, 0.0, 0.0, 0.0, 0.0, 0.0, 0.0, 0.0, 0.0, 0.0, 0.0, 0.0, 0.0, 0.0, 0.0], [0.8808449506759644, 0.015341081656515598, 0.011051826179027557, 0.03009495884180069, 0.03632286936044693, 0.026344304904341698, 0.0, 0.0, 0.0, 0.0, 0.0, 0.0, 0.0, 0.0, 0.0, 0.0, 0.0, 0.0, 0.0, 0.0, 0.0, 0.0, 0.0, 0.0, 0.0, 0.0, 0.0, 0.0, 0.0, 0.0, 0.0, 0.0, 0.0, 0.0, 0.0, 0.0, 0.0, 0.0, 0.0, 0.0, 0.0, 0.0, 0.0, 0.0, 0.0, 0.0, 0.0, 0.0, 0.0, 0.0, 0.0, 0.0, 0.0, 0.0, 0.0, 0.0, 0.0, 0.0, 0.0, 0.0, 0.0, 0.0, 0.0, 0.0, 0.0, 0.0, 0.0], [0.1012096181511879, 0.10089758038520813, 0.1167982667684555, 0.047776274383068085, 0.13843871653079987, 0.30939000844955444, 0.18548958003520966, 0.0, 0.0, 0.0, 0.0, 0.0, 0.0, 0.0, 0.0, 0.0, 0.0, 0.0, 0.0, 0.0, 0.0, 0.0, 0.0, 0.0, 0.0, 0.0, 0.0, 0.0, 0.0, 0.0, 0.0, 0.0, 0.0, 0.0, 0.0, 0.0, 0.0, 0.0, 0.0, 0.0, 0.0, 0.0, 0.0, 0.0, 0.0, 0.0, 0.0, 0.0, 0.0, 0.0, 0.0, 0.0, 0.0, 0.0, 0.0, 0.0, 0.0, 0.0, 0.0, 0.0, 0.0, 0.0, 0.0, 0.0, 0.0, 0.0, 0.0], [0.0018465814646333456, 0.08029188215732574, 0.6150082349777222, 0.010121100582182407, 0.052823036909103394, 0.22185787558555603, 0.010983292013406754, 0.007068046368658543, 0.0, 0.0, 0.0, 0.0, 0.0, 0.0, 0.0, 0.0, 0.0, 0.0, 0.0, 0.0, 0.0, 0.0, 0.0, 0.0, 0.0, 0.0, 0.0, 0.0, 0.0, 0.0, 0.0, 0.0, 0.0, 0.0, 0.0, 0.0, 0.0, 0.0, 0.0, 0.0, 0.0, 0.0, 0.0, 0.0, 0.0, 0.0, 0.0, 0.0, 0.0, 0.0, 0.0, 0.0, 0.0, 0.0, 0.0, 0.0, 0.0, 0.0, 0.0, 0.0, 0.0, 0.0, 0.0, 0.0, 0.0, 0.0, 0.0], [0.03912505507469177, 0.08288165181875229, 0.17469072341918945, 0.030794335529208183, 0.08840083330869675, 0.15869097411632538, 0.2488378882408142, 0.08012338727712631, 0.09645504504442215, 0.0, 0.0, 0.0, 0.0, 0.0, 0.0, 0.0, 0.0, 0.0, 0.0, 0.0, 0.0, 0.0, 0.0, 0.0, 0.0, 0.0, 0.0, 0.0, 0.0, 0.0, 0.0, 0.0, 0.0, 0.0, 0.0, 0.0, 0.0, 0.0, 0.0, 0.0, 0.0, 0.0, 0.0, 0.0, 0.0, 0.0, 0.0, 0.0, 0.0, 0.0, 0.0, 0.0, 0.0, 0.0, 0.0, 0.0, 0.0, 0.0, 0.0, 0.0, 0.0, 0.0, 0.0, 0.0, 0.0, 0.0, 0.0], [0.3975389301776886, 0.07787636667490005, 0.03729383647441864, 0.020621126517653465, 0.047473154962062836, 0.17018063366413116, 0.009483246132731438, 0.007308130152523518, 0.06799197942018509, 0.1642325520515442, 0.0, 0.0, 0.0, 0.0, 0.0, 0.0, 0.0, 0.0, 0.0, 0.0, 0.0, 0.0, 0.0, 0.0, 0.0, 0.0, 0.0, 0.0, 0.0, 0.0, 0.0, 0.0, 0.0, 0.0, 0.0, 0.0, 0.0, 0.0, 0.0, 0.0, 0.0, 0.0, 0.0, 0.0, 0.0, 0.0, 0.0, 0.0, 0.0, 0.0, 0.0, 0.0, 0.0, 0.0, 0.0, 0.0, 0.0, 0.0, 0.0, 0.0, 0.0, 0.0, 0.0, 0.0, 0.0, 0.0, 0.0], [0.019072648137807846, 0.027926623821258545, 0.03488994389772415, 0.03365128114819527, 0.0301507618278265, 0.03731822222471237, 0.0167662613093853, 0.09517344832420349, 0.14449486136436462, 0.3751988410949707, 0.18535706400871277, 0.0, 0.0, 0.0, 0.0, 0.0, 0.0, 0.0, 0.0, 0.0, 0.0, 0.0, 0.0, 0.0, 0.0, 0.0, 0.0, 0.0, 0.0, 0.0, 0.0, 0.0, 0.0, 0.0, 0.0, 0.0, 0.0, 0.0, 0.0, 0.0, 0.0, 0.0, 0.0, 0.0, 0.0, 0.0, 0.0, 0.0, 0.0, 0.0, 0.0, 0.0, 0.0, 0.0, 0.0, 0.0, 0.0, 0.0, 0.0, 0.0, 0.0, 0.0, 0.0, 0.0, 0.0, 0.0, 0.0], [0.004466397687792778, 0.030606340616941452, 0.09532138705253601, 0.011232590302824974, 0.03137576952576637, 0.11317520588636398, 0.004549113567918539, 0.005374964326620102, 0.08887182176113129, 0.5503257513046265, 0.060838330537080765, 0.0038623108994215727, 0.0, 0.0, 0.0, 0.0, 0.0, 0.0, 0.0, 0.0, 0.0, 0.0, 0.0, 0.0, 0.0, 0.0, 0.0, 0.0, 0.0, 0.0, 0.0, 0.0, 0.0, 0.0, 0.0, 0.0, 0.0, 0.0, 0.0, 0.0, 0.0, 0.0, 0.0, 0.0, 0.0, 0.0, 0.0, 0.0, 0.0, 0.0, 0.0, 0.0, 0.0, 0.0, 0.0, 0.0, 0.0, 0.0, 0.0, 0.0, 0.0, 0.0, 0.0, 0.0, 0.0, 0.0, 0.0], [0.11178307235240936, 0.04291370511054993, 0.07840342819690704, 0.012751358561217785, 0.07690081000328064, 0.07788331806659698, 0.1382199227809906, 0.01787584275007248, 0.09162262827157974, 0.20738452672958374, 0.04936037212610245, 0.049500416964292526, 0.04540066048502922, 0.0, 0.0, 0.0, 0.0, 0.0, 0.0, 0.0, 0.0, 0.0, 0.0, 0.0, 0.0, 0.0, 0.0, 0.0, 0.0, 0.0, 0.0, 0.0, 0.0, 0.0, 0.0, 0.0, 0.0, 0.0, 0.0, 0.0, 0.0, 0.0, 0.0, 0.0, 0.0, 0.0, 0.0, 0.0, 0.0, 0.0, 0.0, 0.0, 0.0, 0.0, 0.0, 0.0, 0.0, 0.0, 0.0, 0.0, 0.0, 0.0, 0.0, 0.0, 0.0, 0.0, 0.0], [0.25950244069099426, 0.04243715479969978, 0.014314673840999603, 0.022441882640123367, 0.11009415984153748, 0.10517589747905731, 0.00847152154892683, 0.008541562594473362, 0.19995296001434326, 0.17387473583221436, 0.02323669195175171, 0.002943190513178706, 0.00831469614058733, 0.020698411390185356, 0.0, 0.0, 0.0, 0.0, 0.0, 0.0, 0.0, 0.0, 0.0, 0.0, 0.0, 0.0, 0.0, 0.0, 0.0, 0.0, 0.0, 0.0, 0.0, 0.0, 0.0, 0.0, 0.0, 0.0, 0.0, 0.0, 0.0, 0.0, 0.0, 0.0, 0.0, 0.0, 0.0, 0.0, 0.0, 0.0, 0.0, 0.0, 0.0, 0.0, 0.0, 0.0, 0.0, 0.0, 0.0, 0.0, 0.0, 0.0, 0.0, 0.0, 0.0, 0.0, 0.0], [0.04672262817621231, 0.023590676486492157, 0.0251218993216753, 0.026578955352306366, 0.028339875862002373, 0.06387962400913239, 0.03245268389582634, 0.10988949239253998, 0.035259347409009933, 0.04943284019827843, 0.014345047995448112, 0.302137166261673, 0.09265632927417755, 0.12978798151016235, 0.01980547606945038, 0.0, 0.0, 0.0, 0.0, 0.0, 0.0, 0.0, 0.0, 0.0, 0.0, 0.0, 0.0, 0.0, 0.0, 0.0, 0.0, 0.0, 0.0, 0.0, 0.0, 0.0, 0.0, 0.0, 0.0, 0.0, 0.0, 0.0, 0.0, 0.0, 0.0, 0.0, 0.0, 0.0, 0.0, 0.0, 0.0, 0.0, 0.0, 0.0, 0.0, 0.0, 0.0, 0.0, 0.0, 0.0, 0.0, 0.0, 0.0, 0.0, 0.0, 0.0, 0.0], [0.021101707592606544, 0.013822310604155064, 0.05602024868130684, 0.006518682464957237, 0.059521883726119995, 0.13976308703422546, 0.008437728509306908, 0.010585549287497997, 0.08749135583639145, 0.3248554766178131, 0.006680384743958712, 0.0040518250316381454, 0.11855082958936691, 0.041195858269929886, 0.09805040061473846, 0.003352648112922907, 0.0, 0.0, 0.0, 0.0, 0.0, 0.0, 0.0, 0.0, 0.0, 0.0, 0.0, 0.0, 0.0, 0.0, 0.0, 0.0, 0.0, 0.0, 0.0, 0.0, 0.0, 0.0, 0.0, 0.0, 0.0, 0.0, 0.0, 0.0, 0.0, 0.0, 0.0, 0.0, 0.0, 0.0, 0.0, 0.0, 0.0, 0.0, 0.0, 0.0, 0.0, 0.0, 0.0, 0.0, 0.0, 0.0, 0.0, 0.0, 0.0, 0.0, 0.0], [0.07823251187801361, 0.05861075222492218, 0.05170790106058121, 0.021424613893032074, 0.045893751084804535, 0.12473949044942856, 0.05384537950158119, 0.021568110212683678, 0.04847763851284981, 0.11360824853181839, 0.04664619639515877, 0.02380407601594925, 0.048688966780900955, 0.0868527814745903, 0.08303622901439667, 0.03534870222210884, 0.057514652609825134, 0.0, 0.0, 0.0, 0.0, 0.0, 0.0, 0.0, 0.0, 0.0, 0.0, 0.0, 0.0, 0.0, 0.0, 0.0, 0.0, 0.0, 0.0, 0.0, 0.0, 0.0, 0.0, 0.0, 0.0, 0.0, 0.0, 0.0, 0.0, 0.0, 0.0, 0.0, 0.0, 0.0, 0.0, 0.0, 0.0, 0.0, 0.0, 0.0, 0.0, 0.0, 0.0, 0.0, 0.0, 0.0, 0.0, 0.0, 0.0, 0.0, 0.0], [0.10277489572763443, 0.03937819227576256, 0.013134497217833996, 0.020832249894738197, 0.07892109453678131, 0.06956897675991058, 0.10146253556013107, 0.01288551278412342, 0.1709052175283432, 0.08620051294565201, 0.04140465706586838, 0.011277950368821621, 0.033761508762836456, 0.10765594244003296, 0.004504368640482426, 0.013373641297221184, 0.0033215689472854137, 0.08863662928342819, 0.0, 0.0, 0.0, 0.0, 0.0, 0.0, 0.0, 0.0, 0.0, 0.0, 0.0, 0.0, 0.0, 0.0, 0.0, 0.0, 0.0, 0.0, 0.0, 0.0, 0.0, 0.0, 0.0, 0.0, 0.0, 0.0, 0.0, 0.0, 0.0, 0.0, 0.0, 0.0, 0.0, 0.0, 0.0, 0.0, 0.0, 0.0, 0.0, 0.0, 0.0, 0.0, 0.0, 0.0, 0.0, 0.0, 0.0, 0.0, 0.0], [0.03299107775092125, 0.06257028877735138, 0.04546630382537842, 0.035966452211141586, 0.04583331197500229, 0.05090068653225899, 0.05309131368994713, 0.044176410883665085, 0.06696765869855881, 0.09625459462404251, 0.0370776392519474, 0.019126761704683304, 0.03865304961800575, 0.08866826444864273, 0.049301739782094955, 0.05002576485276222, 0.04485306143760681, 0.042881790548563004, 0.09519384801387787, 0.0, 0.0, 0.0, 0.0, 0.0, 0.0, 0.0, 0.0, 0.0, 0.0, 0.0, 0.0, 0.0, 0.0, 0.0, 0.0, 0.0, 0.0, 0.0, 0.0, 0.0, 0.0, 0.0, 0.0, 0.0, 0.0, 0.0, 0.0, 0.0, 0.0, 0.0, 0.0, 0.0, 0.0, 0.0, 0.0, 0.0, 0.0, 0.0, 0.0, 0.0, 0.0, 0.0, 0.0, 0.0, 0.0, 0.0, 0.0], [0.0038924652617424726, 0.027467211708426476, 0.09082362800836563, 0.06759621948003769, 0.10750345885753632, 0.05765021592378616, 0.005542825907468796, 0.008512241765856743, 0.1425064653158188, 0.11137456446886063, 0.04865667223930359, 0.00908600352704525, 0.046826787292957306, 0.026947174221277237, 0.030850257724523544, 0.0032861053477972746, 0.035336222499608994, 0.03527453914284706, 0.13922084867954254, 0.0016460693441331387, 0.0, 0.0, 0.0, 0.0, 0.0, 0.0, 0.0, 0.0, 0.0, 0.0, 0.0, 0.0, 0.0, 0.0, 0.0, 0.0, 0.0, 0.0, 0.0, 0.0, 0.0, 0.0, 0.0, 0.0, 0.0, 0.0, 0.0, 0.0, 0.0, 0.0, 0.0, 0.0, 0.0, 0.0, 0.0, 0.0, 0.0, 0.0, 0.0, 0.0, 0.0, 0.0, 0.0, 0.0, 0.0, 0.0, 0.0], [0.009344298392534256, 0.030736178159713745, 0.05610361322760582, 0.007893958128988743, 0.031526681035757065, 0.06149602308869362, 0.027286682277917862, 0.008214854635298252, 0.05904880166053772, 0.1030569076538086, 0.02277192659676075, 0.0039798361249268055, 0.05355661362409592, 0.07070816308259964, 0.024154318496584892, 0.004270519129931927, 0.018503347411751747, 0.0351962186396122, 0.32739725708961487, 0.01089709997177124, 0.03385664150118828, 0.0, 0.0, 0.0, 0.0, 0.0, 0.0, 0.0, 0.0, 0.0, 0.0, 0.0, 0.0, 0.0, 0.0, 0.0, 0.0, 0.0, 0.0, 0.0, 0.0, 0.0, 0.0, 0.0, 0.0, 0.0, 0.0, 0.0, 0.0, 0.0, 0.0, 0.0, 0.0, 0.0, 0.0, 0.0, 0.0, 0.0, 0.0, 0.0, 0.0, 0.0, 0.0, 0.0, 0.0, 0.0, 0.0], [0.09379361569881439, 0.10661404579877853, 0.025541502982378006, 0.036439549177885056, 0.044946588575839996, 0.09468051791191101, 0.17039230465888977, 0.00481430534273386, 0.026327133178710938, 0.033190835267305374, 0.05443549156188965, 0.0076863523572683334, 0.05645592510700226, 0.010194371454417706, 0.0058839465491473675, 0.010203327052295208, 0.046835631132125854, 0.05102197825908661, 0.04053639993071556, 0.006684921216219664, 0.03265463933348656, 0.04066662862896919, 0.0, 0.0, 0.0, 0.0, 0.0, 0.0, 0.0, 0.0, 0.0, 0.0, 0.0, 0.0, 0.0, 0.0, 0.0, 0.0, 0.0, 0.0, 0.0, 0.0, 0.0, 0.0, 0.0, 0.0, 0.0, 0.0, 0.0, 0.0, 0.0, 0.0, 0.0, 0.0, 0.0, 0.0, 0.0, 0.0, 0.0, 0.0, 0.0, 0.0, 0.0, 0.0, 0.0, 0.0, 0.0], [0.22026871144771576, 0.004582153167575598, 0.005216564983129501, 0.001128695672377944, 0.017138706520199776, 0.026019981130957603, 0.008812627755105495, 0.013821545988321304, 0.03803706169128418, 0.20070594549179077, 0.0028986900579184294, 0.00999529380351305, 0.003352673724293709, 0.0429592989385128, 0.030021000653505325, 0.04324708133935928, 0.013302046805620193, 0.02301602065563202, 0.001615910092368722, 0.1052338257431984, 0.06915977597236633, 0.06973132491111755, 0.04973496124148369, 0.0, 0.0, 0.0, 0.0, 0.0, 0.0, 0.0, 0.0, 0.0, 0.0, 0.0, 0.0, 0.0, 0.0, 0.0, 0.0, 0.0, 0.0, 0.0, 0.0, 0.0, 0.0, 0.0, 0.0, 0.0, 0.0, 0.0, 0.0, 0.0, 0.0, 0.0, 0.0, 0.0, 0.0, 0.0, 0.0, 0.0, 0.0, 0.0, 0.0, 0.0, 0.0, 0.0, 0.0], [0.0015110030071809888, 0.01232712622731924, 0.022280946373939514, 0.02214129827916622, 0.0388416089117527, 0.023953422904014587, 0.006675777956843376, 0.034988969564437866, 0.14628922939300537, 0.0945289358496666, 0.03184172511100769, 0.0022939136251807213, 0.03918486461043358, 0.01053896825760603, 0.03301474452018738, 0.004509604535996914, 0.015719573944807053, 0.015857361257076263, 0.2533074915409088, 0.0013668296160176396, 0.0629357248544693, 0.029961148276925087, 0.09428255259990692, 0.0016471717972308397, 0.0, 0.0, 0.0, 0.0, 0.0, 0.0, 0.0, 0.0, 0.0, 0.0, 0.0, 0.0, 0.0, 0.0, 0.0, 0.0, 0.0, 0.0, 0.0, 0.0, 0.0, 0.0, 0.0, 0.0, 0.0, 0.0, 0.0, 0.0, 0.0, 0.0, 0.0, 0.0, 0.0, 0.0, 0.0, 0.0, 0.0, 0.0, 0.0, 0.0, 0.0, 0.0, 0.0], [0.018883991986513138, 0.022833392024040222, 0.024844709783792496, 0.013733921572566032, 0.045750293880701065, 0.047474417835474014, 0.05652415007352829, 0.008456782437860966, 0.03554411977529526, 0.05383221432566643, 0.04376475140452385, 0.009041116572916508, 0.0471937358379364, 0.05539423227310181, 0.03265669196844101, 0.00450298422947526, 0.04857349023222923, 0.05021004006266594, 0.12906470894813538, 0.010352143086493015, 0.05646784231066704, 0.08049838989973068, 0.043543726205825806, 0.018278704956173897, 0.04257940873503685, 0.0, 0.0, 0.0, 0.0, 0.0, 0.0, 0.0, 0.0, 0.0, 0.0, 0.0, 0.0, 0.0, 0.0, 0.0, 0.0, 0.0, 0.0, 0.0, 0.0, 0.0, 0.0, 0.0, 0.0, 0.0, 0.0, 0.0, 0.0, 0.0, 0.0, 0.0, 0.0, 0.0, 0.0, 0.0, 0.0, 0.0, 0.0, 0.0, 0.0, 0.0, 0.0], [0.2081628292798996, 0.09689072519540787, 0.02930884249508381, 0.022200005128979683, 0.02689126506447792, 0.08593518286943436, 0.0264052115380764, 0.005405385047197342, 0.01908339001238346, 0.1391802430152893, 0.007408000063151121, 0.0020099205430597067, 0.005532554350793362, 0.00357263651676476, 0.003995521925389767, 0.010567775927484035, 0.02542123571038246, 0.021854396909475327, 0.0014682472683489323, 0.004363012500107288, 0.04377182200551033, 0.1279638111591339, 0.02991519495844841, 0.004127258434891701, 0.0005156441475264728, 0.04804997891187668, 0.0, 0.0, 0.0, 0.0, 0.0, 0.0, 0.0, 0.0, 0.0, 0.0, 0.0, 0.0, 0.0, 0.0, 0.0, 0.0, 0.0, 0.0, 0.0, 0.0, 0.0, 0.0, 0.0, 0.0, 0.0, 0.0, 0.0, 0.0, 0.0, 0.0, 0.0, 0.0, 0.0, 0.0, 0.0, 0.0, 0.0, 0.0, 0.0, 0.0, 0.0], [0.045203797519207, 0.026500210165977478, 0.03449219465255737, 0.026663966476917267, 0.029152773320674896, 0.06870485842227936, 0.022738240659236908, 0.01243252120912075, 0.02066226303577423, 0.08416208624839783, 0.014817455783486366, 0.008156958967447281, 0.049012377858161926, 0.01861804910004139, 0.07644454389810562, 0.01794346235692501, 0.09713033586740494, 0.05808822810649872, 0.024452095851302147, 0.006078110076487064, 0.02092709206044674, 0.06057710200548172, 0.04783766344189644, 0.007495907600969076, 0.014422251842916012, 0.04070402309298515, 0.06658140569925308, 0.0, 0.0, 0.0, 0.0, 0.0, 0.0, 0.0, 0.0, 0.0, 0.0, 0.0, 0.0, 0.0, 0.0, 0.0, 0.0, 0.0, 0.0, 0.0, 0.0, 0.0, 0.0, 0.0, 0.0, 0.0, 0.0, 0.0, 0.0, 0.0, 0.0, 0.0, 0.0, 0.0, 0.0, 0.0, 0.0, 0.0, 0.0, 0.0, 0.0], [0.002562054665759206, 0.02667284943163395, 0.048824749886989594, 0.023157669231295586, 0.029322229325771332, 0.04041767492890358, 0.054812993854284286, 0.03862104192376137, 0.048334795981645584, 0.020342020317912102, 0.017429374158382416, 0.04841608554124832, 0.07973688095808029, 0.011070847511291504, 0.034888092428445816, 0.004112942144274712, 0.03158540651202202, 0.014765152707695961, 0.16340839862823486, 0.004250808618962765, 0.01703689992427826, 0.010764497332274914, 0.006199871189892292, 0.0024223756045103073, 0.1649332046508789, 0.040171973407268524, 0.013678966090083122, 0.002060220343992114, 0.0, 0.0, 0.0, 0.0, 0.0, 0.0, 0.0, 0.0, 0.0, 0.0, 0.0, 0.0, 0.0, 0.0, 0.0, 0.0, 0.0, 0.0, 0.0, 0.0, 0.0, 0.0, 0.0, 0.0, 0.0, 0.0, 0.0, 0.0, 0.0, 0.0, 0.0, 0.0, 0.0, 0.0, 0.0, 0.0, 0.0, 0.0, 0.0], [0.062445785850286484, 0.01282475795596838, 0.009610213339328766, 0.014429433271288872, 0.03463608771562576, 0.06290407478809357, 0.011109855957329273, 0.010176942683756351, 0.054383642971515656, 0.10144595056772232, 0.01537021342664957, 0.003822797443717718, 0.025294417515397072, 0.07422517985105515, 0.027425983920693398, 0.00375200598500669, 0.01382970530539751, 0.04540502279996872, 0.03404669091105461, 0.0095143998041749, 0.0601343996822834, 0.08124895393848419, 0.017484374344348907, 0.0038952224422246218, 0.017371593043208122, 0.06766464561223984, 0.028331952169537544, 0.012952265329658985, 0.08426335453987122, 0.0, 0.0, 0.0, 0.0, 0.0, 0.0, 0.0, 0.0, 0.0, 0.0, 0.0, 0.0, 0.0, 0.0, 0.0, 0.0, 0.0, 0.0, 0.0, 0.0, 0.0, 0.0, 0.0, 0.0, 0.0, 0.0, 0.0, 0.0, 0.0, 0.0, 0.0, 0.0, 0.0, 0.0, 0.0, 0.0, 0.0, 0.0], [0.00783115066587925, 0.03852109611034393, 0.04685945808887482, 0.0019308837363496423, 0.03607146441936493, 0.16583319008350372, 0.011657577008008957, 0.0017483318224549294, 0.05456126853823662, 0.22628657519817352, 0.048563048243522644, 0.007258863188326359, 0.009114132262766361, 0.04934950917959213, 0.010165673680603504, 0.0038959900848567486, 0.0193172600120306, 0.035622723400592804, 0.008349861949682236, 0.002741062780842185, 0.010407467372715473, 0.045091260224580765, 0.032028716057538986, 0.003932062536478043, 0.018595540896058083, 0.09013707935810089, 0.002629543887451291, 0.0016048653051257133, 0.0030059143900871277, 0.006888429634273052, 0.0, 0.0, 0.0, 0.0, 0.0, 0.0, 0.0, 0.0, 0.0, 0.0, 0.0, 0.0, 0.0, 0.0, 0.0, 0.0, 0.0, 0.0, 0.0, 0.0, 0.0, 0.0, 0.0, 0.0, 0.0, 0.0, 0.0, 0.0, 0.0, 0.0, 0.0, 0.0, 0.0, 0.0, 0.0, 0.0, 0.0], [0.004958789329975843, 0.011140837334096432, 0.0056547257117927074, 0.004593282472342253, 0.0070951045490801334, 0.008935951627790928, 0.004366702865809202, 0.0020303605124354362, 0.008217500522732735, 0.022343352437019348, 0.005735295824706554, 0.0025299012195318937, 0.011343909427523613, 0.015404828824102879, 0.010520165786147118, 0.011866230517625809, 0.023819860070943832, 0.05699247866868973, 0.005730675999075174, 0.0070488955825567245, 0.017404621466994286, 0.019337814301252365, 0.01257229968905449, 0.027252282947301865, 0.006423027720302343, 0.006180315278470516, 0.0003247799177188426, 0.017176341265439987, 0.6360493302345276, 0.015577202662825584, 0.01137305423617363, 0.0, 0.0, 0.0, 0.0, 0.0, 0.0, 0.0, 0.0, 0.0, 0.0, 0.0, 0.0, 0.0, 0.0, 0.0, 0.0, 0.0, 0.0, 0.0, 0.0, 0.0, 0.0, 0.0, 0.0, 0.0, 0.0, 0.0, 0.0, 0.0, 0.0, 0.0, 0.0, 0.0, 0.0, 0.0, 0.0], [0.0010228034807369113, 0.03239436447620392, 0.03404909744858742, 0.025875812396407127, 0.020411746576428413, 0.04591664299368858, 0.03129859268665314, 0.009808609262108803, 0.021837908774614334, 0.02309899777173996, 0.013238168321549892, 0.008271812461316586, 0.01718628779053688, 0.0014713200507685542, 0.009279760532081127, 0.015318543650209904, 0.05492078512907028, 0.010543538257479668, 0.05184736102819443, 0.0008013034821487963, 0.011137890629470348, 0.0053781913593411446, 0.01435487437993288, 0.0027210924308747053, 0.034318357706069946, 0.013036447577178478, 0.027933768928050995, 0.0010891850106418133, 0.0020377279724925756, 0.42642590403556824, 0.03245417773723602, 0.0005188676877878606, 0.0, 0.0, 0.0, 0.0, 0.0, 0.0, 0.0, 0.0, 0.0, 0.0, 0.0, 0.0, 0.0, 0.0, 0.0, 0.0, 0.0, 0.0, 0.0, 0.0, 0.0, 0.0, 0.0, 0.0, 0.0, 0.0, 0.0, 0.0, 0.0, 0.0, 0.0, 0.0, 0.0, 0.0, 0.0], [0.020230181515216827, 0.022346511483192444, 0.01849524676799774, 0.016122743487358093, 0.02714843489229679, 0.03883089870214462, 0.04294988512992859, 0.010983220301568508, 0.021508043631911278, 0.037638820707798004, 0.01121642254292965, 0.004943924490362406, 0.05119503289461136, 0.048484060913324356, 0.01522652618587017, 0.00271508633159101, 0.028258517384529114, 0.044243957847356796, 0.0694873183965683, 0.003983036614954472, 0.03548869863152504, 0.05086943879723549, 0.009972725994884968, 0.008533595129847527, 0.024476081132888794, 0.041065678000450134, 0.03775670379400253, 0.005358478985726833, 0.044127456843853, 0.05531550571322441, 0.03557901084423065, 0.011338367126882076, 0.10411038249731064, 0.0, 0.0, 0.0, 0.0, 0.0, 0.0, 0.0, 0.0, 0.0, 0.0, 0.0, 0.0, 0.0, 0.0, 0.0, 0.0, 0.0, 0.0, 0.0, 0.0, 0.0, 0.0, 0.0, 0.0, 0.0, 0.0, 0.0, 0.0, 0.0, 0.0, 0.0, 0.0, 0.0, 0.0], [0.032147567719221115, 0.007924274541437626, 0.005210444331169128, 0.010560116730630398, 0.019899580627679825, 0.009603925980627537, 0.018948419019579887, 0.0008499450050294399, 0.061428796499967575, 0.020021943375468254, 0.19838552176952362, 0.017553741112351418, 0.008250895887613297, 0.014978127554059029, 0.008434618823230267, 0.005716637708246708, 0.013124038465321064, 0.05624552071094513, 0.004075705539435148, 0.0018902922747656703, 0.005864112172275782, 0.006742397323250771, 0.00638793408870697, 0.0074467784725129604, 0.005958057474344969, 0.021362992003560066, 0.00030352509929798543, 0.0013717012479901314, 0.3901084363460541, 0.01902456395328045, 0.005996852647513151, 0.001339987851679325, 0.00025674968492239714, 0.012585844844579697, 0.0, 0.0, 0.0, 0.0, 0.0, 0.0, 0.0, 0.0, 0.0, 0.0, 0.0, 0.0, 0.0, 0.0, 0.0, 0.0, 0.0, 0.0, 0.0, 0.0, 0.0, 0.0, 0.0, 0.0, 0.0, 0.0, 0.0, 0.0, 0.0, 0.0, 0.0, 0.0, 0.0], [0.0059167928993701935, 0.006480545736849308, 0.0037591764703392982, 0.000583744898904115, 0.0044591608457267284, 0.018427694216370583, 0.008353311568498611, 0.0020732663106173277, 0.0016741782892495394, 0.021813303232192993, 0.00040148638072423637, 0.0004406886000651866, 0.005228301044553518, 0.013177930377423763, 0.0023371451534330845, 0.0011173846432939172, 0.004134173505008221, 0.008738172240555286, 0.010099740698933601, 0.012164159677922726, 0.020450782030820847, 0.04943671450018883, 0.00439613638445735, 0.005699644796550274, 0.0014692220138385892, 0.007954306900501251, 0.014285196550190449, 0.03040941432118416, 0.0036718554329127073, 0.004011542070657015, 0.0033358114305883646, 0.020484810695052147, 0.6937972903251648, 0.002069116337224841, 0.007147797383368015, 0.0, 0.0, 0.0, 0.0, 0.0, 0.0, 0.0, 0.0, 0.0, 0.0, 0.0, 0.0, 0.0, 0.0, 0.0, 0.0, 0.0, 0.0, 0.0, 0.0, 0.0, 0.0, 0.0, 0.0, 0.0, 0.0, 0.0, 0.0, 0.0, 0.0, 0.0, 0.0], [0.0019384213956072927, 0.037103321403265, 0.02313835360109806, 0.012591603212058544, 0.015023624524474144, 0.04801487177610397, 0.03560143709182739, 0.02542009763419628, 0.053736962378025055, 0.08187265694141388, 0.012028681114315987, 0.005676435772329569, 0.013096030801534653, 0.003783114952966571, 0.012361203320324421, 0.012971511110663414, 0.010249949991703033, 0.0031319730915129185, 0.05838858708739281, 0.0100907813757658, 0.032254625111818314, 0.010021081194281578, 0.010443470440804958, 0.001237774034962058, 0.05905047804117203, 0.011584622785449028, 0.13204142451286316, 0.0034053605049848557, 0.0002009058662224561, 0.17390993237495422, 0.0134660629555583, 0.0009574267896823585, 0.004934914410114288, 0.02884133718907833, 0.04049078747630119, 0.000940169207751751, 0.0, 0.0, 0.0, 0.0, 0.0, 0.0, 0.0, 0.0, 0.0, 0.0, 0.0, 0.0, 0.0, 0.0, 0.0, 0.0, 0.0, 0.0, 0.0, 0.0, 0.0, 0.0, 0.0, 0.0, 0.0, 0.0, 0.0, 0.0, 0.0, 0.0, 0.0], [0.008400007151067257, 0.022097958251833916, 0.026593917980790138, 0.016522860154509544, 0.028349418193101883, 0.04296213760972023, 0.03971638157963753, 0.016766538843512535, 0.018419060856103897, 0.0239239614456892, 0.028798475861549377, 0.019975338131189346, 0.027038531377911568, 0.028650034219026566, 0.026292307302355766, 0.019720567390322685, 0.06426059454679489, 0.029859883710741997, 0.0673864409327507, 0.01315390132367611, 0.015317871235311031, 0.01975443959236145, 0.02210306003689766, 0.034039486199617386, 0.029511597007513046, 0.02270391769707203, 0.05376938730478287, 0.016552915796637535, 0.014960999600589275, 0.03502846136689186, 0.031145216897130013, 0.020354410633444786, 0.018041502684354782, 0.03917793184518814, 0.02493307925760746, 0.017882321029901505, 0.01583513803780079, 0.0, 0.0, 0.0, 0.0, 0.0, 0.0, 0.0, 0.0, 0.0, 0.0, 0.0, 0.0, 0.0, 0.0, 0.0, 0.0, 0.0, 0.0, 0.0, 0.0, 0.0, 0.0, 0.0, 0.0, 0.0, 0.0, 0.0, 0.0, 0.0, 0.0], [0.05122189223766327, 0.00407399469986558, 0.004925057291984558, 0.004077681805938482, 0.03294430673122406, 0.013369993306696415, 0.034339334815740585, 0.001969121629372239, 0.03957754001021385, 0.05434529483318329, 0.07843459397554398, 0.0071360645815730095, 0.0289105586707592, 0.04290613532066345, 0.011751796118915081, 0.003563579171895981, 0.008371329866349697, 0.06054900586605072, 0.013911280781030655, 0.009755471721291542, 0.015488769859075546, 0.04770313575863838, 0.012080029584467411, 0.005316675640642643, 0.005640300922095776, 0.0520513541996479, 0.003925979137420654, 0.001953480066731572, 0.12307316809892654, 0.014187691733241081, 0.014778106473386288, 0.0034485619980841875, 0.06359709799289703, 0.03614741936326027, 0.034478459507226944, 0.010173866525292397, 0.008702057413756847, 0.04111985117197037, 0.0, 0.0, 0.0, 0.0, 0.0, 0.0, 0.0, 0.0, 0.0, 0.0, 0.0, 0.0, 0.0, 0.0, 0.0, 0.0, 0.0, 0.0, 0.0, 0.0, 0.0, 0.0, 0.0, 0.0, 0.0, 0.0, 0.0, 0.0, 0.0], [0.0045217652805149555, 0.00290346285328269, 0.005528470501303673, 0.10466767847537994, 0.015577682293951511, 0.0044097332283854485, 0.005652384366840124, 0.11176960170269012, 0.02804766595363617, 0.017588969320058823, 0.0829114317893982, 0.03399067372083664, 0.0444725900888443, 0.016184106469154358, 0.055294666439294815, 0.022681431844830513, 0.019596688449382782, 0.018910333514213562, 0.048047829419374466, 0.006887749303132296, 0.011923709884285927, 0.015321253798902035, 0.019859295338392258, 0.004510063678026199, 0.01985854096710682, 0.013970407657325268, 0.003491912269964814, 0.005866839550435543, 0.05349227413535118, 0.039279185235500336, 0.019976221024990082, 0.0017096548108384013, 0.02163667231798172, 0.02513248100876808, 0.02663741447031498, 0.004111911170184612, 0.0007147065480239689, 0.010570406913757324, 0.052292145788669586, 0.0, 0.0, 0.0, 0.0, 0.0, 0.0, 0.0, 0.0, 0.0, 0.0, 0.0, 0.0, 0.0, 0.0, 0.0, 0.0, 0.0, 0.0, 0.0, 0.0, 0.0, 0.0, 0.0, 0.0, 0.0, 0.0, 0.0, 0.0], [0.0005104661104269326, 0.018436146900057793, 0.04659309983253479, 0.005844184663146734, 0.007577818352729082, 0.010398493148386478, 0.3611762523651123, 0.008300700224936008, 0.00662996806204319, 0.0146764125674963, 0.005031906068325043, 0.014825987629592419, 0.015830086544156075, 0.004080972168594599, 0.009947549551725388, 0.0065346574410796165, 0.00911560095846653, 0.0035106679424643517, 0.15229326486587524, 0.005341831129044294, 0.0036895403172820807, 0.0013829246163368225, 0.0019055978627875447, 0.01458539254963398, 0.14278095960617065, 0.004073203541338444, 0.022039731964468956, 0.0019779917784035206, 0.00027369847521185875, 0.02995907887816429, 0.01132308691740036, 0.0021476733963936567, 0.0001826385996537283, 0.019797181710600853, 0.006345550529658794, 0.000882793974597007, 0.009284145198762417, 0.017361702397465706, 0.002769493032246828, 0.0005816275370307267, 0.0, 0.0, 0.0, 0.0, 0.0, 0.0, 0.0, 0.0, 0.0, 0.0, 0.0, 0.0, 0.0, 0.0, 0.0, 0.0, 0.0, 0.0, 0.0, 0.0, 0.0, 0.0, 0.0, 0.0, 0.0, 0.0, 0.0], [0.04362322762608528, 0.013860519975423813, 0.010705831460654736, 0.010752366855740547, 0.012638845480978489, 0.020534401759505272, 0.01909344270825386, 0.01096696313470602, 0.02652641385793686, 0.045626383274793625, 0.020661788061261177, 0.006855289917439222, 0.04169783368706703, 0.013861431740224361, 0.01870437152683735, 0.008893136866390705, 0.026918962597846985, 0.019682886078953743, 0.011822433210909367, 0.008595417253673077, 0.016252804547548294, 0.03917589783668518, 0.009162615984678268, 0.002234678016975522, 0.01852542720735073, 0.017597276717424393, 0.05219678580760956, 0.008738977834582329, 0.029845938086509705, 0.08023174852132797, 0.013584991917014122, 0.0055809649638831615, 0.0845058262348175, 0.05259508639574051, 0.030596964061260223, 0.004971191752701998, 0.01854640804231167, 0.041088711470365524, 0.04906793683767319, 0.015280072577297688, 0.01819787733256817, 0.0, 0.0, 0.0, 0.0, 0.0, 0.0, 0.0, 0.0, 0.0, 0.0, 0.0, 0.0, 0.0, 0.0, 0.0, 0.0, 0.0, 0.0, 0.0, 0.0, 0.0, 0.0, 0.0, 0.0, 0.0, 0.0], [0.008698214776813984, 0.012758488766849041, 0.010007108561694622, 0.007420307025313377, 0.03109600581228733, 0.04653215408325195, 0.009011976420879364, 0.0012110176030546427, 0.040341783314943314, 0.09219253808259964, 0.05738832801580429, 0.008008833974599838, 0.010031775571405888, 0.08069425821304321, 0.004751366563141346, 0.0010898784967139363, 0.010123653337359428, 0.08036446571350098, 0.0061330487951636314, 0.002472554799169302, 0.03842312842607498, 0.033999573439359665, 0.013455946929752827, 0.006675886455923319, 0.009644013829529285, 0.07552473247051239, 0.0006619492778554559, 0.0015759882517158985, 0.030765976756811142, 0.034545037895441055, 0.004913301207125187, 0.0013908842811360955, 0.012859082780778408, 0.00500136474147439, 0.00594934169203043, 0.010670322924852371, 0.15397977828979492, 0.022518621757626534, 0.0010519466595724225, 0.0030172388069331646, 0.005717374384403229, 0.007330648135393858, 0.0, 0.0, 0.0, 0.0, 0.0, 0.0, 0.0, 0.0, 0.0, 0.0, 0.0, 0.0, 0.0, 0.0, 0.0, 0.0, 0.0, 0.0, 0.0, 0.0, 0.0, 0.0, 0.0, 0.0, 0.0], [0.016092482954263687, 0.008069206029176712, 0.00760085042566061, 0.03405411168932915, 0.015081462450325489, 0.010320034809410572, 0.012048328295350075, 0.017180604860186577, 0.015188031829893589, 0.0289824977517128, 0.025377599522471428, 0.0209426861256361, 0.031619153916835785, 0.036146000027656555, 0.037181708961725235, 0.006602379493415356, 0.027291420847177505, 0.02729388140141964, 0.01442071981728077, 0.010819821618497372, 0.018672101199626923, 0.020450204610824585, 0.010813348926603794, 0.0047252243384718895, 0.020164523273706436, 0.012886015698313713, 0.005424131639301777, 0.004474197514355183, 0.02585580013692379, 0.02953444793820381, 0.020549612119793892, 0.0031596783082932234, 0.20451180636882782, 0.015127994120121002, 0.019519710913300514, 0.002245193114504218, 0.016814857721328735, 0.021715817973017693, 0.03647682070732117, 0.003421443048864603, 0.009753190912306309, 0.07282613217830658, 0.018564753234386444, 0.0, 0.0, 0.0, 0.0, 0.0, 0.0, 0.0, 0.0, 0.0, 0.0, 0.0, 0.0, 0.0, 0.0, 0.0, 0.0, 0.0, 0.0, 0.0, 0.0, 0.0, 0.0, 0.0, 0.0], [0.001006555394269526, 0.008003122173249722, 0.010196317918598652, 0.04952829331159592, 0.005702828988432884, 0.006955927237868309, 0.10591699182987213, 0.007181978784501553, 0.007437494583427906, 0.03816170617938042, 0.03429889678955078, 0.0071533494628965855, 0.015003025531768799, 0.003070381237193942, 0.01458714809268713, 0.024729032069444656, 0.0168321430683136, 0.009327764622867107, 0.1695219874382019, 0.004447240382432938, 0.0019832844845950603, 0.002269200049340725, 0.003586646867915988, 0.008347339928150177, 0.019226158037781715, 0.0015926224878057837, 0.03580055758357048, 0.02782217413187027, 0.002760535106062889, 0.13726748526096344, 0.012577219866216183, 0.0011056894436478615, 0.0007133238832466304, 0.010123259387910366, 0.012185662053525448, 0.0033460776321589947, 0.0021493444219231606, 0.007835631258785725, 0.025805402547121048, 0.001657096203416586, 0.005610644351691008, 0.1249675527215004, 0.011638487689197063, 0.0005664745112881064, 0.0, 0.0, 0.0, 0.0, 0.0, 0.0, 0.0, 0.0, 0.0, 0.0, 0.0, 0.0, 0.0, 0.0, 0.0, 0.0, 0.0, 0.0, 0.0, 0.0, 0.0, 0.0, 0.0], [0.02304242178797722, 0.012308306060731411, 0.01048014685511589, 0.012017115950584412, 0.024672215804457664, 0.03468810394406319, 0.009595141746103764, 0.006546134129166603, 0.024511437863111496, 0.025240357965230942, 0.015234220772981644, 0.0063019259832799435, 0.018240513280034065, 0.021993299946188927, 0.03256832808256149, 0.010037458501756191, 0.033636290580034256, 0.02577810175716877, 0.03292246162891388, 0.009077315218746662, 0.02278798446059227, 0.02959253452718258, 0.023508599027991295, 0.004500927869230509, 0.021573709324002266, 0.02562667988240719, 0.027589738368988037, 0.004704917315393686, 0.023019786924123764, 0.04244696721434593, 0.031199853867292404, 0.003544545965269208, 0.06147634610533714, 0.030713079497218132, 0.032731793820858, 0.004971313290297985, 0.016505654901266098, 0.043770305812358856, 0.020159780979156494, 0.005336020141839981, 0.022491252049803734, 0.03671523928642273, 0.01950378529727459, 0.01239505223929882, 0.044242799282073975, 0.0, 0.0, 0.0, 0.0, 0.0, 0.0, 0.0, 0.0, 0.0, 0.0, 0.0, 0.0, 0.0, 0.0, 0.0, 0.0, 0.0, 0.0, 0.0, 0.0, 0.0, 0.0], [0.006342556327581406, 0.028295492753386497, 0.034218765795230865, 0.002819619607180357, 0.03241381049156189, 0.07288957387208939, 0.05221223458647728, 0.004692068789154291, 0.015100628137588501, 0.06739368289709091, 0.005994664970785379, 0.003834552364423871, 0.016690213233232498, 0.020483192056417465, 0.005467218812555075, 0.007002841215580702, 0.03252876177430153, 0.05411893501877785, 0.014021515846252441, 0.002613280899822712, 0.11151700466871262, 0.07976064831018448, 0.025455709546804428, 0.012799583375453949, 0.030063696205615997, 0.04540451988577843, 0.005378376692533493, 0.004258743021637201, 0.04402991384267807, 0.03936922922730446, 0.007075445726513863, 0.005122710485011339, 0.016452141106128693, 0.008654629811644554, 0.007198712322860956, 0.006776386871933937, 0.030120477080345154, 0.013326993212103844, 1.584582969371695e-05, 0.002281797118484974, 0.0022192560136318207, 0.009397114627063274, 9.351131302537397e-05, 0.0028235993813723326, 0.007980885915458202, 0.00328955240547657, 0.0, 0.0, 0.0, 0.0, 0.0, 0.0, 0.0, 0.0, 0.0, 0.0, 0.0, 0.0, 0.0, 0.0, 0.0, 0.0, 0.0, 0.0, 0.0, 0.0, 0.0], [0.009350571781396866, 0.015251889824867249, 0.02042272314429283, 0.04533551633358002, 0.023301322013139725, 0.014206032268702984, 0.007692901883274317, 0.07349272817373276, 0.020026544108986855, 0.03148619830608368, 0.0145267928019166, 0.04872264340519905, 0.011778106912970543, 0.011680648662149906, 0.024076594039797783, 0.061196468770504, 0.038999490439891815, 0.01343232300132513, 0.009581104852259159, 0.017983440309762955, 0.026048140600323677, 0.022531041875481606, 0.056579697877168655, 0.014610173180699348, 0.04084276407957077, 0.015976957976818085, 0.006343232002109289, 0.005492276046425104, 0.006161368452012539, 0.0198097825050354, 0.01343600358814001, 0.0029038521461188793, 0.022866016253829002, 0.010063746944069862, 0.013353458605706692, 0.002956603653728962, 0.01112427283078432, 0.013767058029770851, 0.0020528065506368876, 0.001511707785539329, 0.0035677922423928976, 0.04244774952530861, 0.03190138563513756, 0.00463597709313035, 0.004406425636261702, 0.06721016764640808, 0.024855513125658035, 0.0, 0.0, 0.0, 0.0, 0.0, 0.0, 0.0, 0.0, 0.0, 0.0, 0.0, 0.0, 0.0, 0.0, 0.0, 0.0, 0.0, 0.0, 0.0, 0.0], [0.0037563510704785585, 0.004519032314419746, 0.005512780509889126, 0.0351448692381382, 0.003100963309407234, 0.003308286424726248, 0.04888502508401871, 0.0341828428208828, 0.003783778753131628, 0.025452973321080208, 0.002481416566297412, 0.0038485766854137182, 0.02697804383933544, 0.004276336636394262, 0.015417031943798065, 0.008790519088506699, 0.005432167090475559, 0.0034802579320967197, 0.10552991181612015, 0.009959313087165356, 0.0030834111385047436, 0.0045359572395682335, 0.0031297809910029173, 0.005277849733829498, 0.020148180425167084, 0.0017010392621159554, 0.11180733889341354, 0.01578178070485592, 0.0001890801650006324, 0.02038770541548729, 0.006842216942459345, 0.014395625330507755, 0.00606765178963542, 0.016715114936232567, 0.009890388697385788, 0.0012135286815464497, 0.0009164388757199049, 0.007950945757329464, 0.05638912320137024, 0.004201618023216724, 0.00938684493303299, 0.1370663195848465, 0.12226174026727676, 0.0011279542231932282, 0.04180329293012619, 0.019088227301836014, 0.004041073843836784, 0.0007592076435685158, 0.0, 0.0, 0.0, 0.0, 0.0, 0.0, 0.0, 0.0, 0.0, 0.0, 0.0, 0.0, 0.0, 0.0, 0.0, 0.0, 0.0, 0.0, 0.0], [0.005673535633832216, 0.006464158184826374, 0.00947240088135004, 0.0215021762996912, 0.009452263824641705, 0.005244915373623371, 0.02853463962674141, 0.011087889783084393, 0.012371031567454338, 0.01792796701192856, 0.03461368754506111, 0.009265715256333351, 0.020860495045781136, 0.011005762033164501, 0.014076869934797287, 0.009364265948534012, 0.013257552869617939, 0.012671363539993763, 0.04958833009004593, 0.004685700871050358, 0.009862333536148071, 0.010345029644668102, 0.018878445029258728, 0.008059387095272541, 0.024742353707551956, 0.00999284628778696, 0.016131429001688957, 0.00679216580465436, 0.011387829668819904, 0.03116828203201294, 0.010513195767998695, 0.002455746289342642, 0.0023758921306580305, 0.027176784351468086, 0.02154160849750042, 0.005450788419693708, 0.014013650827109814, 0.012541970238089561, 0.05070560425519943, 0.005029286257922649, 0.04600339010357857, 0.16655121743679047, 0.06638143211603165, 0.0032065091654658318, 0.01717628352344036, 0.04518355056643486, 0.03899994492530823, 0.006666039116680622, 0.003546263324096799, 0.0, 0.0, 0.0, 0.0, 0.0, 0.0, 0.0, 0.0, 0.0, 0.0, 0.0, 0.0, 0.0, 0.0, 0.0, 0.0, 0.0, 0.0], [0.000924244406633079, 0.01647639088332653, 0.010722133331000805, 0.0005483133718371391, 0.005930858664214611, 0.015059334225952625, 0.009748355485498905, 0.00016786214837338775, 0.001371492282487452, 0.004233180545270443, 0.0012567223748192191, 0.0009415261447429657, 0.001710626995190978, 0.007904116995632648, 0.00023986327869351953, 0.00015467607590835541, 0.0026521808467805386, 0.004745560232549906, 0.0005784918321296573, 0.00047416333109140396, 0.013207845389842987, 0.010143726132810116, 0.0010710671776905656, 0.0008087048190645874, 0.005313346162438393, 0.026436997577548027, 0.0050123389810323715, 0.0003608398837968707, 0.0006665874971076846, 0.025322522968053818, 0.003232286311686039, 0.0010677000973373652, 0.00133052421733737, 0.0033989979419857264, 0.0018453492084518075, 0.001639458816498518, 0.794384777545929, 0.005381259135901928, 1.288171552005224e-05, 0.00011972976062679663, 0.0005525856395252049, 0.00022460274340119213, 8.3370451875453e-07, 0.00020468026923481375, 0.0061684404499828815, 0.000881151354406029, 1.2251945008756593e-05, 0.0004695607640314847, 0.0033562316093593836, 0.0015325781423598528, 0.0, 0.0, 0.0, 0.0, 0.0, 0.0, 0.0, 0.0, 0.0, 0.0, 0.0, 0.0, 0.0, 0.0, 0.0, 0.0, 0.0], [0.0021705760154873133, 0.014084111899137497, 0.017273535951972008, 0.0045717633329331875, 0.0026390061248093843, 0.005006886087357998, 0.019718293100595474, 0.0009660307550802827, 0.008946851827204227, 0.009816682897508144, 0.008748926222324371, 0.0009091426036320627, 0.016345087438821793, 0.01245344802737236, 0.0029956891667097807, 0.0028171970043331385, 0.005823728162795305, 0.008135171607136726, 0.06141440570354462, 0.0013632671907544136, 0.004433239810168743, 0.004970194771885872, 0.006900964770466089, 0.006487613078206778, 0.012151080183684826, 0.004023748449981213, 0.0236589964479208, 0.0025410400703549385, 0.015293130651116371, 0.009870082139968872, 0.011653713881969452, 0.0019481370691210032, 0.006200851872563362, 0.02045595273375511, 0.03489121422171593, 0.011933362111449242, 0.017538459971547127, 0.035099174827337265, 0.01336828526109457, 0.005579497665166855, 0.023098282516002655, 0.03857467323541641, 0.04773680865764618, 0.011963964439928532, 0.005184945184737444, 0.00262717017903924, 0.0005588372005149722, 0.007008315529674292, 0.391918808221817, 0.006382501684129238, 0.00974716804921627, 0.0, 0.0, 0.0, 0.0, 0.0, 0.0, 0.0, 0.0, 0.0, 0.0, 0.0, 0.0, 0.0, 0.0, 0.0, 0.0], [0.0007358993170782924, 0.004197598900645971, 0.012422394007444382, 0.10560346394777298, 0.004564314149320126, 0.0022132759913802147, 0.03330598026514053, 0.017730778083205223, 0.0035271376837044954, 0.00834311917424202, 0.013085918501019478, 0.017412861809134483, 0.021710801869630814, 0.006362786516547203, 0.004426172003149986, 0.00235699862241745, 0.0042640739120543, 0.0029249689541757107, 0.28193190693855286, 0.0024929281789809465, 0.0009199939668178558, 0.002916730474680662, 0.00367781613022089, 0.00882152933627367, 0.03721506521105766, 0.0034949497785419226, 0.055541567504405975, 0.004909143317490816, 8.229821833083406e-05, 0.020779263228178024, 0.0039042190182954073, 0.004493171349167824, 0.00022556324256584048, 0.007855122908949852, 0.0026015532203018665, 0.0056917788460850716, 0.003481233259662986, 0.006928171031177044, 0.024030636996030807, 0.0006970876711420715, 0.013050421141088009, 0.047653984278440475, 0.09714522957801819, 0.0013873223215341568, 0.010326283052563667, 0.02355962246656418, 0.018729494884610176, 0.0005736567545682192, 0.00020391237922012806, 0.03483876958489418, 0.00416942173615098, 0.0004814770072698593, 0.0, 0.0, 0.0, 0.0, 0.0, 0.0, 0.0, 0.0, 0.0, 0.0, 0.0, 0.0, 0.0, 0.0, 0.0], [0.020678957924246788, 0.00661598751321435, 0.005347720813006163, 0.006795710418373346, 0.008892618119716644, 0.010638052597641945, 0.019158881157636642, 0.008428630419075489, 0.016489941626787186, 0.04386533796787262, 0.0107720997184515, 0.007363586220890284, 0.015605096705257893, 0.04801599308848381, 0.018605856224894524, 0.004816045518964529, 0.006240558810532093, 0.020675042644143105, 0.018055101856589317, 0.016917774453759193, 0.015261400490999222, 0.020375391468405724, 0.0055115302093327045, 0.005904067773371935, 0.017606891691684723, 0.008882887661457062, 0.004735473543405533, 0.00436702324077487, 0.035880766808986664, 0.007587635889649391, 0.011082589626312256, 0.002107753185555339, 0.09832704812288284, 0.014186818152666092, 0.01400142814964056, 0.0010314048267900944, 0.013035789132118225, 0.013963655568659306, 0.016182003542780876, 0.0016857489245012403, 0.011644282378256321, 0.07265894114971161, 0.018440552055835724, 0.003850217442959547, 0.026337340474128723, 0.09186118096113205, 0.021299829706549644, 0.00238541467115283, 0.013217559084296227, 0.025822626426815987, 0.012801320292055607, 0.005727027542889118, 0.06825747340917587, 0.0, 0.0, 0.0, 0.0, 0.0, 0.0, 0.0, 0.0, 0.0, 0.0, 0.0, 0.0, 0.0, 0.0], [0.004371942486613989, 0.022104967385530472, 0.015121840871870518, 0.0012068022042512894, 0.0068123554810881615, 0.01088770478963852, 0.16281373798847198, 0.0019323902670294046, 0.006706634070724249, 0.009777023456990719, 0.006533661857247353, 0.004245590418577194, 0.007615624461323023, 0.02342662587761879, 0.001526417676359415, 0.004215274006128311, 0.007227424066513777, 0.012468721717596054, 0.006580703891813755, 0.00371498498134315, 0.06577294319868088, 0.020250501111149788, 0.008762769401073456, 0.008927092887461185, 0.04041842743754387, 0.03090103156864643, 0.01714681088924408, 0.0022876819130033255, 0.0057918052189052105, 0.015670180320739746, 0.016637789085507393, 0.00982973724603653, 0.0022620270028710365, 0.019065281376242638, 0.011003516614437103, 0.005361417308449745, 0.31054016947746277, 0.011444039642810822, 0.00010339705477235839, 0.0013871529372408986, 0.003528089728206396, 0.0029522953554987907, 5.36625630047638e-05, 0.0004741559096146375, 0.017229385673999786, 0.0014766287058591843, 8.600592991570011e-05, 0.0004997385549359024, 0.003527306020259857, 0.014215340837836266, 0.021317917853593826, 0.001178936567157507, 0.0020216137636452913, 0.008584759198129177, 0.0, 0.0, 0.0, 0.0, 0.0, 0.0, 0.0, 0.0, 0.0, 0.0, 0.0, 0.0, 0.0], [0.010132579132914543, 0.007795837242156267, 0.00985691323876381, 0.014202229678630829, 0.013112961314618587, 0.009433426894247532, 0.03475508466362953, 0.015055707655847073, 0.011985158547759056, 0.011792188510298729, 0.019459696486592293, 0.03242901340126991, 0.03173423185944557, 0.019703786820173264, 0.04184078425168991, 0.0317024365067482, 0.0275640320032835, 0.02886778675019741, 0.01172511838376522, 0.015421106480062008, 0.013568018563091755, 0.011286587454378605, 0.007745698094367981, 0.011824262328445911, 0.056588154286146164, 0.009205235168337822, 0.004659546539187431, 0.006636858452111483, 0.0682339295744896, 0.02084377035498619, 0.0438450463116169, 0.003913093823939562, 0.013172904029488564, 0.02311825379729271, 0.015714991837739944, 0.0022464501671493053, 0.010485494509339333, 0.010571762919425964, 0.02884679287672043, 0.0029662130400538445, 0.0070769465528428555, 0.03667939454317093, 0.0034090718254446983, 0.0029148173052817583, 0.08546262979507446, 0.017288707196712494, 0.0027251760475337505, 0.0015956754796206951, 0.01136305183172226, 0.013547864742577076, 0.015065507963299751, 0.002582608023658395, 0.002448818413540721, 0.019999008625745773, 0.013797549530863762, 0.0, 0.0, 0.0, 0.0, 0.0, 0.0, 0.0, 0.0, 0.0, 0.0, 0.0, 0.0], [0.00042186203063465655, 0.0003636265464592725, 0.0008757623145356774, 0.3743060827255249, 0.0015497113345190883, 0.0005246614455245435, 0.0014223391190171242, 0.07857970893383026, 0.002256867941468954, 0.003698179265484214, 0.010564095340669155, 0.009364592842757702, 0.007216630969196558, 0.0012275825720280409, 0.003387599950656295, 0.013771953992545605, 0.001513590686954558, 0.0020483967382460833, 0.08301492780447006, 0.0009060605079866946, 0.0010417524026706815, 0.0013459413312375546, 0.004242826718837023, 0.002953137969598174, 0.0060685970820486546, 0.0016367791686207056, 0.01031704805791378, 0.007198707200586796, 0.0004679358971770853, 0.06560930609703064, 0.0017220804002135992, 0.0013570288429036736, 4.2152561945840716e-05, 0.004452153574675322, 0.0017939954996109009, 0.0036045098677277565, 0.00015718211943749338, 0.0008878114749677479, 0.01878465712070465, 0.007388984318822622, 0.01604459062218666, 0.12267670035362244, 0.054212041199207306, 0.00047167835873551667, 0.022131090983748436, 0.0037650156300514936, 0.024009419605135918, 0.0013604328269138932, 2.4695094907656312e-05, 0.010731130838394165, 0.0008234136621467769, 0.0003020056174136698, 0.0012127463705837727, 0.0017170269275084138, 0.0021329959854483604, 0.00029817261383868754, 0.0, 0.0, 0.0, 0.0, 0.0, 0.0, 0.0, 0.0, 0.0, 0.0, 0.0], [0.014130755327641964, 0.014544742181897163, 0.012650905176997185, 0.012220111675560474, 0.009190310724079609, 0.01061759702861309, 0.05020079016685486, 0.006463159807026386, 0.006620492320507765, 0.03247964382171631, 0.006856056395918131, 0.006192824803292751, 0.014816555194556713, 0.02236691117286682, 0.009722975082695484, 0.005828620865941048, 0.017898619174957275, 0.03599577769637108, 0.01224466785788536, 0.0025787712074816227, 0.014846127480268478, 0.019476881250739098, 0.010776207782328129, 0.011832419782876968, 0.012191589921712875, 0.010568960569798946, 0.0049215443432331085, 0.003966248128563166, 0.035150013864040375, 0.016231298446655273, 0.009675569832324982, 0.002627478213980794, 0.019206877797842026, 0.009977432899177074, 0.008210384286940098, 0.0015475230757147074, 0.02688770182430744, 0.012841588817536831, 0.006258224602788687, 0.000942748214583844, 0.01600961573421955, 0.08198162168264389, 0.025555599480867386, 0.0012671216391026974, 0.012103063985705376, 0.046954501420259476, 0.013184943236410618, 0.004200897179543972, 0.020603228360414505, 0.08152918517589569, 0.012535667046904564, 0.0014814852038398385, 0.023079801350831985, 0.01773051545023918, 0.007841166108846664, 0.005451547913253307, 0.08673300594091415, 0.0, 0.0, 0.0, 0.0, 0.0, 0.0, 0.0, 0.0, 0.0, 0.0], [0.0019749358762055635, 0.08336436003446579, 0.06600110977888107, 0.0011255282443016768, 0.0039135608822107315, 0.013872371055185795, 0.0508958101272583, 0.0028295277152210474, 0.0035730786621570587, 0.009858690202236176, 0.00733767356723547, 0.005441955290734768, 0.015616842545568943, 0.023038597777485847, 0.004575671628117561, 0.002028284827247262, 0.006396233104169369, 0.006723095662891865, 0.01737331412732601, 0.01779511384665966, 0.012037646025419235, 0.027444863691926003, 0.004415703471750021, 0.00936339981853962, 0.019097978249192238, 0.01932191662490368, 0.06419097632169724, 0.02431383915245533, 0.0019086883403360844, 0.03434548154473305, 0.02125551551580429, 0.049600787460803986, 0.006133462302386761, 0.039637885987758636, 0.02090754173696041, 0.010722995735704899, 0.1288120299577713, 0.020505720749497414, 0.0019670065958052874, 0.009127896279096603, 0.019024036824703217, 0.0036660833284258842, 0.00019677812815643847, 0.0030466499738395214, 0.029202096164226532, 0.008171617984771729, 0.0006790273473598063, 0.0010572813916951418, 0.0026970768813043833, 0.0041456143371760845, 0.006150166038423777, 0.0028724432922899723, 0.016197113320231438, 0.00576761644333601, 0.001319587929174304, 0.00311568402685225, 0.007007746025919914, 0.016836322844028473, 0.0, 0.0, 0.0, 0.0, 0.0, 0.0, 0.0, 0.0, 0.0], [0.009487992152571678, 0.011042746715247631, 0.008199704810976982, 0.04983551800251007, 0.014410354197025299, 0.006609548348933458, 0.0034217722713947296, 0.04489200562238693, 0.020704008638858795, 0.01778603345155716, 0.018292484804987907, 0.012791619636118412, 0.01742609217762947, 0.03045392408967018, 0.025784967467188835, 0.017418524250388145, 0.015577701851725578, 0.01768455095589161, 0.020084425806999207, 0.022141901776194572, 0.024602342396974564, 0.029137056320905685, 0.02545178309082985, 0.009228463284671307, 0.017019113525748253, 0.011340931989252567, 0.007617667317390442, 0.011673053726553917, 0.018818745389580727, 0.015165084972977638, 0.016963614150881767, 0.005604961421340704, 0.04143859073519707, 0.010267484933137894, 0.019199002534151077, 0.003594122128561139, 0.009213880635797977, 0.010010255500674248, 0.009528515860438347, 0.006256300024688244, 0.025888241827487946, 0.0259633120149374, 0.02023310959339142, 0.003692805068567395, 0.016818810254335403, 0.03270663321018219, 0.028184128925204277, 0.006166101898998022, 0.017885694280266762, 0.017163461074233055, 0.008584240451455116, 0.005590145476162434, 0.040724173188209534, 0.023337092250585556, 0.015069776214659214, 0.004204460885375738, 0.003944164142012596, 0.010314307175576687, 0.007352437824010849, 0.0, 0.0, 0.0, 0.0, 0.0, 0.0, 0.0, 0.0], [0.0009481526794843376, 0.0001655265805311501, 0.000338642013957724, 0.398512601852417, 0.0012541267788037658, 0.0005215351702645421, 0.00030705222161486745, 0.22759006917476654, 0.001469874638132751, 0.0005874563357792795, 0.0018511059461161494, 0.04528645798563957, 0.011369561776518822, 0.0012048983480781317, 0.0030678454786539078, 0.007071697153151035, 0.0006310913013294339, 0.000733235152438283, 0.02758401446044445, 0.004409401677548885, 0.0003891737724188715, 0.000865886511746794, 0.000456546462373808, 0.0011537278769537807, 0.008998211473226547, 0.0009822659194469452, 0.02279018983244896, 0.002413369482383132, 8.240270108217373e-05, 0.015247867442667484, 0.0014263603370636702, 0.00284770829603076, 0.0003662225208245218, 0.004934279713779688, 0.0008108344045467675, 0.001157282735221088, 7.174135680543259e-05, 0.0009097279398702085, 0.048160720616579056, 0.0021313545294106007, 0.002739459276199341, 0.02438080683350563, 0.034119218587875366, 0.003232837887480855, 0.03325807303190231, 0.00915309228003025, 0.01214282214641571, 0.0003649452410172671, 3.536465737852268e-05, 0.003778930753469467, 0.001116132945753634, 0.0006059256847947836, 6.523689080495387e-05, 0.001165442168712616, 0.004328722134232521, 0.00024095278058666736, 0.0012947152135893703, 0.014995153062045574, 0.0017135962843894958, 0.00016822795441839844, 0.0, 0.0, 0.0, 0.0, 0.0, 0.0, 0.0], [0.005149216391146183, 0.014606339856982231, 0.013456045649945736, 0.016229579225182533, 0.0071343546733260155, 0.008836859837174416, 0.008298149332404137, 0.006957575678825378, 0.012253752909600735, 0.010206997394561768, 0.012941605411469936, 0.004119489341974258, 0.00855240598320961, 0.006163042038679123, 0.006298674736171961, 0.006327424664050341, 0.016276968643069267, 0.006628452800214291, 0.047427091747522354, 0.0017630088841542602, 0.015317089855670929, 0.015186228789389133, 0.017315581440925598, 0.0015555486315861344, 0.020638158544898033, 0.013022618368268013, 0.030341045930981636, 0.0025682065170258284, 0.006176214199513197, 0.07233113795518875, 0.01561841368675232, 0.001397061045281589, 0.0026005511172115803, 0.0266549214720726, 0.025395991280674934, 0.0054198638536036015, 0.01252566184848547, 0.01008404977619648, 0.008967472240328789, 0.0024218461476266384, 0.05775085464119911, 0.028638506308197975, 0.00857582874596119, 0.0009987320518121123, 0.027035940438508987, 0.015934322029352188, 0.007479383144527674, 0.0017760215559974313, 0.1835741102695465, 0.02276943251490593, 0.008934247307479382, 0.0012840457493439317, 0.014065681956708431, 0.0224464014172554, 0.021152283996343613, 0.0016976970946416259, 0.005031690001487732, 0.009745586663484573, 0.007985971868038177, 0.005821261554956436, 0.022137261927127838, 0.0, 0.0, 0.0, 0.0, 0.0, 0.0], [0.003016731468960643, 0.04037390276789665, 0.053405921906232834, 0.0011429333826527, 0.003888438455760479, 0.02726280316710472, 0.035922810435295105, 0.004214923828840256, 0.0013772262027487159, 0.010917830280959606, 0.0026764124631881714, 0.007171495817601681, 0.007177821360528469, 0.018769362941384315, 0.007782940752804279, 0.004779601935297251, 0.00621007988229394, 0.00851322989910841, 0.024445733055472374, 0.01051515992730856, 0.008240279741585255, 0.017440687865018845, 0.006661447696387768, 0.017160631716251373, 0.01393867563456297, 0.026388615369796753, 0.04739220067858696, 0.021688584238290787, 0.0015117413131520152, 0.03269181773066521, 0.011899245902895927, 0.053092844784259796, 0.0054461159743368626, 0.027984652668237686, 0.007032386027276516, 0.011832122690975666, 0.023320715874433517, 0.021451493725180626, 0.001561686280183494, 0.011636138893663883, 0.021497193723917007, 0.011274903081357479, 0.0008552827639505267, 0.006862649228423834, 0.0348544642329216, 0.008701094426214695, 0.0016777641139924526, 0.00297949044033885, 0.0006198883056640625, 0.00585845485329628, 0.005390794947743416, 0.005161432549357414, 0.015069346874952316, 0.0032268462236970663, 0.00021078392455819994, 0.0034777475520968437, 0.19263069331645966, 0.014816337265074253, 0.0007151806494221091, 0.0008313823491334915, 0.005377431865781546, 0.009973506443202496, 0.0, 0.0, 0.0, 0.0, 0.0], [0.001614531734958291, 0.00437973765656352, 0.006793331820517778, 0.06216247007250786, 0.010847237892448902, 0.00914717372506857, 0.0007575158379040658, 0.0035266110207885504, 0.011155003681778908, 0.009453670121729374, 0.004433066118508577, 0.0018338265363126993, 0.004538167268037796, 0.003836990799754858, 0.00534245977178216, 0.0021983946207910776, 0.00905649084597826, 0.009875514544546604, 0.012320022098720074, 0.00026147408061660826, 0.0024280340876430273, 0.009192048572003841, 0.028878383338451385, 0.0009375805384479463, 0.0034174241591244936, 0.020577017217874527, 0.019330115988850594, 0.00185449852142483, 0.0036265093367546797, 0.1136656403541565, 0.00682044867426157, 0.0007339001167565584, 0.0009007633780129254, 0.01581878773868084, 0.008952317759394646, 0.005099624395370483, 0.009822809137403965, 0.006622256711125374, 0.020615067332983017, 0.0028525518719106913, 0.01611955650150776, 0.04148975387215614, 0.012688538059592247, 0.0048937383107841015, 0.08574031293392181, 0.044808126986026764, 0.021853823214769363, 0.04031847044825554, 0.012851044535636902, 0.060826946049928665, 0.016086481511592865, 0.010825230740010738, 0.0011289180256426334, 0.02388896606862545, 0.05132026597857475, 0.02402062714099884, 0.005727113224565983, 0.00582162057980895, 0.002067769644781947, 0.012085695751011372, 0.03235817328095436, 0.0027609202079474926, 0.014638468623161316, 0.0, 0.0, 0.0, 0.0], [0.0011685765348374844, 0.025924984365701675, 0.027965141460299492, 0.09209936857223511, 0.006008502561599016, 0.005050526466220617, 0.003926931414753199, 0.043431662023067474, 0.010400226339697838, 0.005362206604331732, 0.01660725474357605, 0.015865184366703033, 0.023295234888792038, 0.010538872331380844, 0.005928069353103638, 0.008242309093475342, 0.00728186359629035, 0.005585759878158569, 0.03134071081876755, 0.0030347753781825304, 0.0070425341837108135, 0.008306178264319897, 0.014632266946136951, 0.0066553810611367226, 0.02404666692018509, 0.012012028135359287, 0.07007288932800293, 0.003996106795966625, 0.0018083257600665092, 0.08588128536939621, 0.010053078643977642, 0.0029695327393710613, 0.002397469012066722, 0.024449070915579796, 0.014743367210030556, 0.004194021224975586, 0.02272978238761425, 0.017666324973106384, 0.012005986645817757, 0.0034120921045541763, 0.02781381644308567, 0.05849713459610939, 0.03749779611825943, 0.0028383659664541483, 0.01998489908874035, 0.01311552058905363, 0.011625654995441437, 0.004591997247189283, 0.011751950718462467, 0.014911763370037079, 0.006525863893330097, 0.001103810383938253, 0.011559510603547096, 0.006932842545211315, 0.009379733353853226, 0.0010514557361602783, 0.005374515429139137, 0.009928213432431221, 0.005019122734665871, 0.000705151294823736, 0.020871667191386223, 0.010337846353650093, 0.008297753520309925, 0.002150982851162553, 0.0, 0.0, 0.0], [0.03116793930530548, 0.030473830178380013, 0.008991619572043419, 0.001245102845132351, 0.00555967865511775, 0.023531537503004074, 0.02629864402115345, 0.0012077369028702378, 0.0069039552472531796, 0.02060478925704956, 0.008754918351769447, 0.0019524882081896067, 0.007465021684765816, 0.012097176164388657, 0.001608001533895731, 0.0050584920682013035, 0.009035935625433922, 0.01464625634253025, 0.0046100919134914875, 0.008101623505353928, 0.0294826440513134, 0.04332621768116951, 0.009837486781179905, 0.00597371906042099, 0.004019506741315126, 0.01119502354413271, 0.02469753287732601, 0.009418065659701824, 0.015200073830783367, 0.01172420009970665, 0.006284513045102358, 0.010994276963174343, 0.09025813639163971, 0.00728108873590827, 0.018896210938692093, 0.009482065215706825, 0.07203274220228195, 0.027361903339624405, 0.000606352521572262, 0.0026948638260364532, 0.008876797743141651, 0.005278676748275757, 0.0014653928810730577, 0.002787614008411765, 0.0029874248430132866, 0.0036921852733939886, 0.0009891906520351768, 0.0023619576822966337, 0.1966002881526947, 0.0044326563365757465, 0.0040630921721458435, 0.0038254226092249155, 0.021495254710316658, 0.005063232500106096, 0.002109585329890251, 0.00204279157333076, 0.014583385549485683, 0.018248623237013817, 0.013645107857882977, 0.007187192793935537, 0.0010728095658123493, 0.01006351038813591, 0.005969525780528784, 0.009510076604783535, 0.011566776782274246, 0.0, 0.0], [0.015443040989339352, 0.016612965613603592, 0.013907778076827526, 0.006958481390029192, 0.007276047021150589, 0.019872259348630905, 0.01950405351817608, 0.02071467414498329, 0.007705159951001406, 0.03427894786000252, 0.0033080021385103464, 0.012256436049938202, 0.01476672850549221, 0.027973204851150513, 0.00603266479447484, 0.01052340678870678, 0.009118195623159409, 0.016491437330842018, 0.011898793280124664, 0.014756894670426846, 0.03747675567865372, 0.03456937521696091, 0.008237805217504501, 0.012389116920530796, 0.024330537766218185, 0.016557736322283745, 0.01263584103435278, 0.01773158460855484, 0.007146153599023819, 0.017408091574907303, 0.010826214216649532, 0.02265126258134842, 0.02276633121073246, 0.011536709032952785, 0.008927814662456512, 0.00774387177079916, 0.014625238254666328, 0.006730312015861273, 0.0012541291071102023, 0.004083188250660896, 0.01860940270125866, 0.01808757148683071, 0.0027729508001357317, 0.0020183452870696783, 0.025074081495404243, 0.023416461423039436, 0.005834030453115702, 0.0011854898184537888, 0.010223422199487686, 0.04008527472615242, 0.014288286678493023, 0.0021285484544932842, 0.013614274561405182, 0.01804259419441223, 0.0052589066326618195, 0.0022893256973475218, 0.07337293773889542, 0.03162374347448349, 0.005432628560811281, 0.002207339508458972, 0.01048305258154869, 0.024581579491496086, 0.015006273984909058, 0.005025970749557018, 0.023833874613046646, 0.016476385295391083, 0.0], [0.006550137419253588, 0.009825904853641987, 0.010696666315197945, 0.01149817742407322, 0.011475926265120506, 0.009729535318911076, 0.007688009180128574, 0.01663878746330738, 0.017133383080363274, 0.017914945259690285, 0.0072157057002186775, 0.005485998932272196, 0.018250081688165665, 0.02137075550854206, 0.014791357330977917, 0.006071040406823158, 0.00855859462171793, 0.009747590869665146, 0.029532210901379585, 0.008429660461843014, 0.02608223631978035, 0.018733905628323555, 0.013921464793384075, 0.0056497156620025635, 0.040318746119737625, 0.015453265979886055, 0.013710970990359783, 0.004752566572278738, 0.007452013902366161, 0.0164966844022274, 0.013205018825829029, 0.005423315800726414, 0.015238156542181969, 0.025568533688783646, 0.01760244369506836, 0.003584934864193201, 0.01020666491240263, 0.01225944235920906, 0.00797079224139452, 0.008423792198300362, 0.02165471948683262, 0.05017613247036934, 0.02044503763318062, 0.007464151829481125, 0.03823300823569298, 0.029508324339985847, 0.015077908523380756, 0.008448883891105652, 0.0053696767427027225, 0.02881394885480404, 0.02450820617377758, 0.014356010593473911, 0.02312570810317993, 0.02399979531764984, 0.006653251126408577, 0.008657574653625488, 0.020408594980835915, 0.016693666577339172, 0.009836348704993725, 0.007738575804978609, 0.02415625751018524, 0.015122867189347744, 0.009924842976033688, 0.005350467283278704, 0.01843172498047352, 0.005847214721143246, 0.00933790486305952]], [[1.0, 0.0, 0.0, 0.0, 0.0, 0.0, 0.0, 0.0, 0.0, 0.0, 0.0, 0.0, 0.0, 0.0, 0.0, 0.0, 0.0, 0.0, 0.0, 0.0, 0.0, 0.0, 0.0, 0.0, 0.0, 0.0, 0.0, 0.0, 0.0, 0.0, 0.0, 0.0, 0.0, 0.0, 0.0, 0.0, 0.0, 0.0, 0.0, 0.0, 0.0, 0.0, 0.0, 0.0, 0.0, 0.0, 0.0, 0.0, 0.0, 0.0, 0.0, 0.0, 0.0, 0.0, 0.0, 0.0, 0.0, 0.0, 0.0, 0.0, 0.0, 0.0, 0.0, 0.0, 0.0, 0.0, 0.0], [0.9970079064369202, 0.002992082154378295, 0.0, 0.0, 0.0, 0.0, 0.0, 0.0, 0.0, 0.0, 0.0, 0.0, 0.0, 0.0, 0.0, 0.0, 0.0, 0.0, 0.0, 0.0, 0.0, 0.0, 0.0, 0.0, 0.0, 0.0, 0.0, 0.0, 0.0, 0.0, 0.0, 0.0, 0.0, 0.0, 0.0, 0.0, 0.0, 0.0, 0.0, 0.0, 0.0, 0.0, 0.0, 0.0, 0.0, 0.0, 0.0, 0.0, 0.0, 0.0, 0.0, 0.0, 0.0, 0.0, 0.0, 0.0, 0.0, 0.0, 0.0, 0.0, 0.0, 0.0, 0.0, 0.0, 0.0, 0.0, 0.0], [0.986343264579773, 0.0063584428280591965, 0.007298219949007034, 0.0, 0.0, 0.0, 0.0, 0.0, 0.0, 0.0, 0.0, 0.0, 0.0, 0.0, 0.0, 0.0, 0.0, 0.0, 0.0, 0.0, 0.0, 0.0, 0.0, 0.0, 0.0, 0.0, 0.0, 0.0, 0.0, 0.0, 0.0, 0.0, 0.0, 0.0, 0.0, 0.0, 0.0, 0.0, 0.0, 0.0, 0.0, 0.0, 0.0, 0.0, 0.0, 0.0, 0.0, 0.0, 0.0, 0.0, 0.0, 0.0, 0.0, 0.0, 0.0, 0.0, 0.0, 0.0, 0.0, 0.0, 0.0, 0.0, 0.0, 0.0, 0.0, 0.0, 0.0], [0.0017045915592461824, 0.10658294707536697, 0.8911908268928528, 0.0005215821438468993, 0.0, 0.0, 0.0, 0.0, 0.0, 0.0, 0.0, 0.0, 0.0, 0.0, 0.0, 0.0, 0.0, 0.0, 0.0, 0.0, 0.0, 0.0, 0.0, 0.0, 0.0, 0.0, 0.0, 0.0, 0.0, 0.0, 0.0, 0.0, 0.0, 0.0, 0.0, 0.0, 0.0, 0.0, 0.0, 0.0, 0.0, 0.0, 0.0, 0.0, 0.0, 0.0, 0.0, 0.0, 0.0, 0.0, 0.0, 0.0, 0.0, 0.0, 0.0, 0.0, 0.0, 0.0, 0.0, 0.0, 0.0, 0.0, 0.0, 0.0, 0.0, 0.0, 0.0], [0.09414823353290558, 0.021581903100013733, 0.002861265791580081, 0.6017336845397949, 0.2796748876571655, 0.0, 0.0, 0.0, 0.0, 0.0, 0.0, 0.0, 0.0, 0.0, 0.0, 0.0, 0.0, 0.0, 0.0, 0.0, 0.0, 0.0, 0.0, 0.0, 0.0, 0.0, 0.0, 0.0, 0.0, 0.0, 0.0, 0.0, 0.0, 0.0, 0.0, 0.0, 0.0, 0.0, 0.0, 0.0, 0.0, 0.0, 0.0, 0.0, 0.0, 0.0, 0.0, 0.0, 0.0, 0.0, 0.0, 0.0, 0.0, 0.0, 0.0, 0.0, 0.0, 0.0, 0.0, 0.0, 0.0, 0.0, 0.0, 0.0, 0.0, 0.0, 0.0], [0.8156203627586365, 0.014886939898133278, 0.055181946605443954, 0.06668721139431, 0.047588009387254715, 3.555499279173091e-05, 0.0, 0.0, 0.0, 0.0, 0.0, 0.0, 0.0, 0.0, 0.0, 0.0, 0.0, 0.0, 0.0, 0.0, 0.0, 0.0, 0.0, 0.0, 0.0, 0.0, 0.0, 0.0, 0.0, 0.0, 0.0, 0.0, 0.0, 0.0, 0.0, 0.0, 0.0, 0.0, 0.0, 0.0, 0.0, 0.0, 0.0, 0.0, 0.0, 0.0, 0.0, 0.0, 0.0, 0.0, 0.0, 0.0, 0.0, 0.0, 0.0, 0.0, 0.0, 0.0, 0.0, 0.0, 0.0, 0.0, 0.0, 0.0, 0.0, 0.0, 0.0], [0.06454094499349594, 0.05219658091664314, 0.17098578810691833, 0.17605572938919067, 0.012529762461781502, 0.2775282561779022, 0.24616296589374542, 0.0, 0.0, 0.0, 0.0, 0.0, 0.0, 0.0, 0.0, 0.0, 0.0, 0.0, 0.0, 0.0, 0.0, 0.0, 0.0, 0.0, 0.0, 0.0, 0.0, 0.0, 0.0, 0.0, 0.0, 0.0, 0.0, 0.0, 0.0, 0.0, 0.0, 0.0, 0.0, 0.0, 0.0, 0.0, 0.0, 0.0, 0.0, 0.0, 0.0, 0.0, 0.0, 0.0, 0.0, 0.0, 0.0, 0.0, 0.0, 0.0, 0.0, 0.0, 0.0, 0.0, 0.0, 0.0, 0.0, 0.0, 0.0, 0.0, 0.0], [0.00866734329611063, 0.2203514277935028, 0.6901752948760986, 0.010197274386882782, 0.009401998482644558, 0.04329399764537811, 0.015833809971809387, 0.0020788516849279404, 0.0, 0.0, 0.0, 0.0, 0.0, 0.0, 0.0, 0.0, 0.0, 0.0, 0.0, 0.0, 0.0, 0.0, 0.0, 0.0, 0.0, 0.0, 0.0, 0.0, 0.0, 0.0, 0.0, 0.0, 0.0, 0.0, 0.0, 0.0, 0.0, 0.0, 0.0, 0.0, 0.0, 0.0, 0.0, 0.0, 0.0, 0.0, 0.0, 0.0, 0.0, 0.0, 0.0, 0.0, 0.0, 0.0, 0.0, 0.0, 0.0, 0.0, 0.0, 0.0, 0.0, 0.0, 0.0, 0.0, 0.0, 0.0, 0.0], [0.011432744562625885, 0.0592888742685318, 0.03218386322259903, 0.2543165683746338, 0.006887004245072603, 0.06763183325529099, 0.0018682106165215373, 0.0033410945907235146, 0.5630497336387634, 0.0, 0.0, 0.0, 0.0, 0.0, 0.0, 0.0, 0.0, 0.0, 0.0, 0.0, 0.0, 0.0, 0.0, 0.0, 0.0, 0.0, 0.0, 0.0, 0.0, 0.0, 0.0, 0.0, 0.0, 0.0, 0.0, 0.0, 0.0, 0.0, 0.0, 0.0, 0.0, 0.0, 0.0, 0.0, 0.0, 0.0, 0.0, 0.0, 0.0, 0.0, 0.0, 0.0, 0.0, 0.0, 0.0, 0.0, 0.0, 0.0, 0.0, 0.0, 0.0, 0.0, 0.0, 0.0, 0.0, 0.0, 0.0], [0.3076540529727936, 0.009139842353761196, 0.023761054500937462, 0.02742508240044117, 0.5332430601119995, 0.01499217376112938, 0.0500032901763916, 0.03231764957308769, 0.0014272603439167142, 3.649220525403507e-05, 0.0, 0.0, 0.0, 0.0, 0.0, 0.0, 0.0, 0.0, 0.0, 0.0, 0.0, 0.0, 0.0, 0.0, 0.0, 0.0, 0.0, 0.0, 0.0, 0.0, 0.0, 0.0, 0.0, 0.0, 0.0, 0.0, 0.0, 0.0, 0.0, 0.0, 0.0, 0.0, 0.0, 0.0, 0.0, 0.0, 0.0, 0.0, 0.0, 0.0, 0.0, 0.0, 0.0, 0.0, 0.0, 0.0, 0.0, 0.0, 0.0, 0.0, 0.0, 0.0, 0.0, 0.0, 0.0, 0.0, 0.0], [0.0024067137856036425, 0.002057436853647232, 0.0026230032090097666, 0.00043770240154117346, 0.0006016178522258997, 1.0064725756819826e-05, 0.0006924566114321351, 0.0022783731110394, 0.028427867218852043, 0.958670437335968, 0.0017944180872291327, 0.0, 0.0, 0.0, 0.0, 0.0, 0.0, 0.0, 0.0, 0.0, 0.0, 0.0, 0.0, 0.0, 0.0, 0.0, 0.0, 0.0, 0.0, 0.0, 0.0, 0.0, 0.0, 0.0, 0.0, 0.0, 0.0, 0.0, 0.0, 0.0, 0.0, 0.0, 0.0, 0.0, 0.0, 0.0, 0.0, 0.0, 0.0, 0.0, 0.0, 0.0, 0.0, 0.0, 0.0, 0.0, 0.0, 0.0, 0.0, 0.0, 0.0, 0.0, 0.0, 0.0, 0.0, 0.0, 0.0], [0.0011400242801755667, 0.01739496923983097, 0.06522776186466217, 0.0006739152013324201, 6.0238300648052245e-05, 5.432582111097872e-05, 0.039597876369953156, 0.0006044633337296546, 0.003264165949076414, 0.0034717884846031666, 0.867866039276123, 0.0006443659658543766, 0.0, 0.0, 0.0, 0.0, 0.0, 0.0, 0.0, 0.0, 0.0, 0.0, 0.0, 0.0, 0.0, 0.0, 0.0, 0.0, 0.0, 0.0, 0.0, 0.0, 0.0, 0.0, 0.0, 0.0, 0.0, 0.0, 0.0, 0.0, 0.0, 0.0, 0.0, 0.0, 0.0, 0.0, 0.0, 0.0, 0.0, 0.0, 0.0, 0.0, 0.0, 0.0, 0.0, 0.0, 0.0, 0.0, 0.0, 0.0, 0.0, 0.0, 0.0, 0.0, 0.0, 0.0, 0.0], [0.010811656713485718, 0.08498773723840714, 0.166582390666008, 0.0004572010657284409, 0.0005965642631053925, 0.015805212780833244, 0.04957403987646103, 0.06503181159496307, 0.005401673261076212, 0.14427334070205688, 0.02892342396080494, 0.06298661977052689, 0.364568293094635, 0.0, 0.0, 0.0, 0.0, 0.0, 0.0, 0.0, 0.0, 0.0, 0.0, 0.0, 0.0, 0.0, 0.0, 0.0, 0.0, 0.0, 0.0, 0.0, 0.0, 0.0, 0.0, 0.0, 0.0, 0.0, 0.0, 0.0, 0.0, 0.0, 0.0, 0.0, 0.0, 0.0, 0.0, 0.0, 0.0, 0.0, 0.0, 0.0, 0.0, 0.0, 0.0, 0.0, 0.0, 0.0, 0.0, 0.0, 0.0, 0.0, 0.0, 0.0, 0.0, 0.0, 0.0], [0.04121539369225502, 0.006624732632189989, 0.003918630536645651, 0.008392931893467903, 0.6376590728759766, 0.1206033006310463, 0.00026897111092694104, 0.028058281168341637, 0.13983547687530518, 0.003083568997681141, 0.0013891757698729634, 0.008364705368876457, 0.0004116643394809216, 0.0001740235456964001, 0.0, 0.0, 0.0, 0.0, 0.0, 0.0, 0.0, 0.0, 0.0, 0.0, 0.0, 0.0, 0.0, 0.0, 0.0, 0.0, 0.0, 0.0, 0.0, 0.0, 0.0, 0.0, 0.0, 0.0, 0.0, 0.0, 0.0, 0.0, 0.0, 0.0, 0.0, 0.0, 0.0, 0.0, 0.0, 0.0, 0.0, 0.0, 0.0, 0.0, 0.0, 0.0, 0.0, 0.0, 0.0, 0.0, 0.0, 0.0, 0.0, 0.0, 0.0, 0.0, 0.0], [0.0019752332009375095, 0.0001423444045940414, 0.0005731588462367654, 0.004895757418125868, 0.001030876999720931, 0.005042539909482002, 0.00900325458496809, 0.00044332537800073624, 0.0009254373726435006, 0.00011190335499122739, 0.0029486685525625944, 0.009548780508339405, 0.01817450299859047, 0.9421393275260925, 0.0030448902398347855, 0.0, 0.0, 0.0, 0.0, 0.0, 0.0, 0.0, 0.0, 0.0, 0.0, 0.0, 0.0, 0.0, 0.0, 0.0, 0.0, 0.0, 0.0, 0.0, 0.0, 0.0, 0.0, 0.0, 0.0, 0.0, 0.0, 0.0, 0.0, 0.0, 0.0, 0.0, 0.0, 0.0, 0.0, 0.0, 0.0, 0.0, 0.0, 0.0, 0.0, 0.0, 0.0, 0.0, 0.0, 0.0, 0.0, 0.0, 0.0, 0.0, 0.0, 0.0, 0.0], [0.00030156486900523305, 0.0018120796885341406, 0.0011999295093119144, 0.0006404577870853245, 7.017482857918367e-05, 8.223111763072666e-06, 0.32743626832962036, 0.0001450593554181978, 5.0565184210427105e-05, 3.993178324890323e-05, 0.022485455498099327, 0.0005543366423808038, 0.0028200403321534395, 0.0006497415015473962, 0.6416224837303162, 0.00016365396731998771, 0.0, 0.0, 0.0, 0.0, 0.0, 0.0, 0.0, 0.0, 0.0, 0.0, 0.0, 0.0, 0.0, 0.0, 0.0, 0.0, 0.0, 0.0, 0.0, 0.0, 0.0, 0.0, 0.0, 0.0, 0.0, 0.0, 0.0, 0.0, 0.0, 0.0, 0.0, 0.0, 0.0, 0.0, 0.0, 0.0, 0.0, 0.0, 0.0, 0.0, 0.0, 0.0, 0.0, 0.0, 0.0, 0.0, 0.0, 0.0, 0.0, 0.0, 0.0], [0.005363989621400833, 0.0009168048854917288, 0.00020814657909795642, 0.0978713259100914, 0.0015781935071572661, 0.009862764738500118, 0.02405824325978756, 2.944329935417045e-05, 0.00250124535523355, 0.006562969647347927, 0.006979614961892366, 0.042451050132513046, 0.004214243032038212, 0.18059776723384857, 0.0014012301107868552, 0.011506391689181328, 0.6038965582847595, 0.0, 0.0, 0.0, 0.0, 0.0, 0.0, 0.0, 0.0, 0.0, 0.0, 0.0, 0.0, 0.0, 0.0, 0.0, 0.0, 0.0, 0.0, 0.0, 0.0, 0.0, 0.0, 0.0, 0.0, 0.0, 0.0, 0.0, 0.0, 0.0, 0.0, 0.0, 0.0, 0.0, 0.0, 0.0, 0.0, 0.0, 0.0, 0.0, 0.0, 0.0, 0.0, 0.0, 0.0, 0.0, 0.0, 0.0, 0.0, 0.0, 0.0], [0.06106305867433548, 0.005552823655307293, 0.01626317761838436, 0.00976899266242981, 0.31967034935951233, 0.29551392793655396, 0.0011367985280230641, 0.012544685043394566, 0.1661667674779892, 0.004710725974291563, 0.0018563293851912022, 0.0886252224445343, 0.00885010790079832, 0.00271389982663095, 0.00026329350657761097, 0.004939845763146877, 8.86623456608504e-05, 0.0002713229332584888, 0.0, 0.0, 0.0, 0.0, 0.0, 0.0, 0.0, 0.0, 0.0, 0.0, 0.0, 0.0, 0.0, 0.0, 0.0, 0.0, 0.0, 0.0, 0.0, 0.0, 0.0, 0.0, 0.0, 0.0, 0.0, 0.0, 0.0, 0.0, 0.0, 0.0, 0.0, 0.0, 0.0, 0.0, 0.0, 0.0, 0.0, 0.0, 0.0, 0.0, 0.0, 0.0, 0.0, 0.0, 0.0, 0.0, 0.0, 0.0, 0.0], [0.014535314403474331, 0.0017168940976262093, 0.00280424184165895, 0.030909864231944084, 0.0008874112972989678, 0.0014735989971086383, 0.015471762977540493, 0.01657942123711109, 0.000393398804590106, 0.0011136014945805073, 0.013144304975867271, 0.22380831837654114, 0.0007627641898579895, 0.0002771714061964303, 0.0031093175057321787, 0.032060444355010986, 0.0018969211960211396, 0.6354238986968994, 0.0036313992459326982, 0.0, 0.0, 0.0, 0.0, 0.0, 0.0, 0.0, 0.0, 0.0, 0.0, 0.0, 0.0, 0.0, 0.0, 0.0, 0.0, 0.0, 0.0, 0.0, 0.0, 0.0, 0.0, 0.0, 0.0, 0.0, 0.0, 0.0, 0.0, 0.0, 0.0, 0.0, 0.0, 0.0, 0.0, 0.0, 0.0, 0.0, 0.0, 0.0, 0.0, 0.0, 0.0, 0.0, 0.0, 0.0, 0.0, 0.0, 0.0], [0.00046531169209629297, 0.0011132655199617147, 0.0005180072039365768, 0.0017956052906811237, 0.00012735776545014232, 0.000584585010074079, 0.8746605515480042, 0.0005874710623174906, 0.00028740751440636814, 1.1590833310037851e-05, 0.0955716222524643, 0.0005208607763051987, 0.0006305589922703803, 0.00012643223453778774, 0.017563611268997192, 0.0011809436837211251, 0.0010844320058822632, 0.0009988159872591496, 0.0020316014997661114, 0.00014000180817674845, 0.0, 0.0, 0.0, 0.0, 0.0, 0.0, 0.0, 0.0, 0.0, 0.0, 0.0, 0.0, 0.0, 0.0, 0.0, 0.0, 0.0, 0.0, 0.0, 0.0, 0.0, 0.0, 0.0, 0.0, 0.0, 0.0, 0.0, 0.0, 0.0, 0.0, 0.0, 0.0, 0.0, 0.0, 0.0, 0.0, 0.0, 0.0, 0.0, 0.0, 0.0, 0.0, 0.0, 0.0, 0.0, 0.0, 0.0], [0.003528750967234373, 0.07327890396118164, 0.12655015289783478, 0.06993867456912994, 0.003870505141094327, 0.0009413601364940405, 0.006098312325775623, 0.05921344459056854, 0.007740674074739218, 0.007549946662038565, 0.020255541428923607, 4.4045027607353404e-05, 0.002559090731665492, 0.009635974653065205, 0.014385029673576355, 0.08145596832036972, 0.0036284844391047955, 0.10981684178113937, 0.004177887924015522, 0.006345164496451616, 0.3889853060245514, 0.0, 0.0, 0.0, 0.0, 0.0, 0.0, 0.0, 0.0, 0.0, 0.0, 0.0, 0.0, 0.0, 0.0, 0.0, 0.0, 0.0, 0.0, 0.0, 0.0, 0.0, 0.0, 0.0, 0.0, 0.0, 0.0, 0.0, 0.0, 0.0, 0.0, 0.0, 0.0, 0.0, 0.0, 0.0, 0.0, 0.0, 0.0, 0.0, 0.0, 0.0, 0.0, 0.0, 0.0, 0.0, 0.0], [0.025195294991135597, 0.0014056219952180982, 0.0019495681626722217, 0.0012934639817103744, 0.7649151086807251, 0.04331464692950249, 0.0002952965733129531, 0.0033220357727259398, 0.06493521481752396, 0.014938144944608212, 0.00020940320973750204, 0.016787556931376457, 0.016445687040686607, 0.0030415018554776907, 0.0003322846896480769, 0.0014939613174647093, 0.01748633198440075, 0.007804425433278084, 0.0019272491335868835, 0.009242048487067223, 0.003498541424050927, 0.0001665316231083125, 0.0, 0.0, 0.0, 0.0, 0.0, 0.0, 0.0, 0.0, 0.0, 0.0, 0.0, 0.0, 0.0, 0.0, 0.0, 0.0, 0.0, 0.0, 0.0, 0.0, 0.0, 0.0, 0.0, 0.0, 0.0, 0.0, 0.0, 0.0, 0.0, 0.0, 0.0, 0.0, 0.0, 0.0, 0.0, 0.0, 0.0, 0.0, 0.0, 0.0, 0.0, 0.0, 0.0, 0.0, 0.0], [0.005707146134227514, 0.005816813092678785, 0.020089978352189064, 0.0029182087164372206, 0.0005563698941841722, 7.498954346374376e-06, 0.02075965143740177, 0.012063043192029, 0.0013384572230279446, 0.0005897285300306976, 0.09349047392606735, 0.03624299168586731, 0.002121975179761648, 0.005545299034565687, 0.0061443885788321495, 0.0004913755692541599, 0.0021961971651762724, 9.707751451060176e-05, 0.00715800654143095, 0.017920255661010742, 0.04158254712820053, 0.7086829543113708, 0.008479555137455463, 0.0, 0.0, 0.0, 0.0, 0.0, 0.0, 0.0, 0.0, 0.0, 0.0, 0.0, 0.0, 0.0, 0.0, 0.0, 0.0, 0.0, 0.0, 0.0, 0.0, 0.0, 0.0, 0.0, 0.0, 0.0, 0.0, 0.0, 0.0, 0.0, 0.0, 0.0, 0.0, 0.0, 0.0, 0.0, 0.0, 0.0, 0.0, 0.0, 0.0, 0.0, 0.0, 0.0, 0.0], [0.0004873547877650708, 0.02622421644628048, 0.006160947494208813, 0.0008812908199615777, 0.0001082577946363017, 2.5883684429572895e-05, 0.15548478066921234, 0.0010270223719999194, 0.0007234631339088082, 0.0015163179486989975, 0.019471673294901848, 0.001078814617358148, 0.0006361756823025644, 5.873266218259232e-06, 0.014468562789261341, 0.00015724940749350935, 3.770592957152985e-05, 3.204174208804034e-05, 0.003665075870230794, 0.000544215552508831, 0.0002778999041765928, 0.001938715111464262, 0.7647925019264221, 0.00025401782477274537, 0.0, 0.0, 0.0, 0.0, 0.0, 0.0, 0.0, 0.0, 0.0, 0.0, 0.0, 0.0, 0.0, 0.0, 0.0, 0.0, 0.0, 0.0, 0.0, 0.0, 0.0, 0.0, 0.0, 0.0, 0.0, 0.0, 0.0, 0.0, 0.0, 0.0, 0.0, 0.0, 0.0, 0.0, 0.0, 0.0, 0.0, 0.0, 0.0, 0.0, 0.0, 0.0, 0.0], [0.0021580499596893787, 0.0721893161535263, 0.05031271651387215, 6.349584873532876e-05, 0.0038563620764762163, 0.03500150144100189, 0.005171449854969978, 0.08078137785196304, 0.007034776732325554, 0.005801727529615164, 0.008811828680336475, 0.1427396833896637, 0.007215192075818777, 0.0005223928019404411, 0.030153103172779083, 4.367236761027016e-05, 0.00017661663878243417, 0.006441710516810417, 0.00021282793022692204, 0.06474172323942184, 0.005648219492286444, 0.1402689516544342, 0.002490309067070484, 0.005387340672314167, 0.32277563214302063, 0.0, 0.0, 0.0, 0.0, 0.0, 0.0, 0.0, 0.0, 0.0, 0.0, 0.0, 0.0, 0.0, 0.0, 0.0, 0.0, 0.0, 0.0, 0.0, 0.0, 0.0, 0.0, 0.0, 0.0, 0.0, 0.0, 0.0, 0.0, 0.0, 0.0, 0.0, 0.0, 0.0, 0.0, 0.0, 0.0, 0.0, 0.0, 0.0, 0.0, 0.0, 0.0], [0.002434436697512865, 2.7911564757232554e-05, 5.0017992180073634e-05, 0.0020569837652146816, 0.9663037061691284, 0.0002542112779337913, 0.00011528019240358844, 0.00017455063061788678, 0.003269483568146825, 3.937272776965983e-05, 5.7663823099574074e-05, 7.42384436307475e-05, 0.00023553518985863775, 4.877152241533622e-05, 4.423646896611899e-05, 0.00031309909536503255, 0.01584734208881855, 8.040006650844589e-05, 0.005145587492734194, 0.00018655641179066151, 0.0029858534689992666, 8.68988354341127e-06, 2.362903433095198e-05, 0.0002185804769396782, 2.3977033833944006e-06, 1.3836393009114545e-06, 0.0, 0.0, 0.0, 0.0, 0.0, 0.0, 0.0, 0.0, 0.0, 0.0, 0.0, 0.0, 0.0, 0.0, 0.0, 0.0, 0.0, 0.0, 0.0, 0.0, 0.0, 0.0, 0.0, 0.0, 0.0, 0.0, 0.0, 0.0, 0.0, 0.0, 0.0, 0.0, 0.0, 0.0, 0.0, 0.0, 0.0, 0.0, 0.0, 0.0, 0.0], [0.0026268395595252514, 0.0005741129862144589, 0.0011717545567080379, 0.005406419280916452, 0.0002593313402030617, 0.0066651711240410805, 0.008022899739444256, 0.007539681158959866, 0.00015130933024920523, 2.007134935411159e-05, 0.013403421267867088, 0.0028813080862164497, 0.0025636295322328806, 0.11267845332622528, 0.12381274998188019, 0.035484179854393005, 6.394918455043808e-05, 0.0008585613686591387, 0.018120603635907173, 0.015745142474770546, 4.099763827980496e-05, 4.398995588417165e-05, 0.006841286085546017, 0.009974994696676731, 0.014735403470695019, 0.6064070463180542, 0.003906688652932644, 0.0, 0.0, 0.0, 0.0, 0.0, 0.0, 0.0, 0.0, 0.0, 0.0, 0.0, 0.0, 0.0, 0.0, 0.0, 0.0, 0.0, 0.0, 0.0, 0.0, 0.0, 0.0, 0.0, 0.0, 0.0, 0.0, 0.0, 0.0, 0.0, 0.0, 0.0, 0.0, 0.0, 0.0, 0.0, 0.0, 0.0, 0.0, 0.0, 0.0], [0.007104406598955393, 0.01007480826228857, 0.013404625467956066, 0.002905253553763032, 0.0001841516641434282, 0.0032482126262038946, 0.1705060601234436, 0.006630726158618927, 0.0017258112784475088, 0.0012845606543123722, 0.07751845568418503, 0.012715410441160202, 0.02042805403470993, 0.06327468156814575, 0.02680811658501625, 0.014106785878539085, 0.0009633901645429432, 0.0002545549941714853, 0.15537209808826447, 0.0014500177931040525, 0.00015393902140203863, 0.0005904475110583007, 0.18371643126010895, 0.015103768557310104, 0.18629761040210724, 0.020894324406981468, 0.0023091351613402367, 0.0009741608519107103, 0.0, 0.0, 0.0, 0.0, 0.0, 0.0, 0.0, 0.0, 0.0, 0.0, 0.0, 0.0, 0.0, 0.0, 0.0, 0.0, 0.0, 0.0, 0.0, 0.0, 0.0, 0.0, 0.0, 0.0, 0.0, 0.0, 0.0, 0.0, 0.0, 0.0, 0.0, 0.0, 0.0, 0.0, 0.0, 0.0, 0.0, 0.0, 0.0], [0.0012586954981088638, 0.0013030704576522112, 0.0005278235767036676, 0.08101983368396759, 0.00016031961422413588, 0.003821705933660269, 0.006101386621594429, 1.816700660128845e-06, 0.012695031240582466, 0.003916217014193535, 0.04600460082292557, 0.11275802552700043, 0.0013773120008409023, 0.004591075237840414, 0.0004273094527889043, 0.032391902059316635, 0.06833165884017944, 0.007022084202617407, 0.0034377609845250845, 5.9734456954174675e-06, 0.0033968936186283827, 0.0137679697945714, 0.005341974552720785, 0.18191255629062653, 0.004397762473672628, 0.0351843386888504, 0.004916395526379347, 0.00014132513024378568, 0.36378711462020874, 0.0, 0.0, 0.0, 0.0, 0.0, 0.0, 0.0, 0.0, 0.0, 0.0, 0.0, 0.0, 0.0, 0.0, 0.0, 0.0, 0.0, 0.0, 0.0, 0.0, 0.0, 0.0, 0.0, 0.0, 0.0, 0.0, 0.0, 0.0, 0.0, 0.0, 0.0, 0.0, 0.0, 0.0, 0.0, 0.0, 0.0, 0.0], [0.0155490068718791, 0.00482089351862669, 0.004184680059552193, 0.005437574349343777, 0.6643025875091553, 0.0003010222571901977, 0.006638367660343647, 0.008256946690380573, 0.022996965795755386, 0.01389757078140974, 0.0009862908627837896, 0.0048980568535625935, 0.0035407578106969595, 5.7311091950396076e-05, 0.0007154860650189221, 0.0011202656896784902, 0.1714709848165512, 0.00447959266602993, 0.02058924362063408, 0.0030087127815932035, 0.026662113144993782, 0.000895902281627059, 0.0009558451129123569, 0.004381635691970587, 0.000885797489900142, 0.00011400161019992083, 0.0025759991258382797, 0.004845579154789448, 0.0003385618911124766, 0.0010922743240371346, 0.0, 0.0, 0.0, 0.0, 0.0, 0.0, 0.0, 0.0, 0.0, 0.0, 0.0, 0.0, 0.0, 0.0, 0.0, 0.0, 0.0, 0.0, 0.0, 0.0, 0.0, 0.0, 0.0, 0.0, 0.0, 0.0, 0.0, 0.0, 0.0, 0.0, 0.0, 0.0, 0.0, 0.0, 0.0, 0.0, 0.0], [0.006888716947287321, 0.007691499777138233, 0.01893560029566288, 0.008005036972463131, 0.0011105792364105582, 0.00015366663865279406, 0.019654221832752228, 0.0065956334583461285, 0.005179110448807478, 0.002650019247084856, 0.03561856970191002, 0.005373550578951836, 0.0027448737528175116, 0.00042909826152026653, 0.003968886565417051, 0.022778622806072235, 0.06231725215911865, 0.0215387474745512, 0.006509038619697094, 0.028229976072907448, 0.011691534891724586, 0.014934539794921875, 0.0025540157221257687, 0.0019150751177221537, 0.0019506372045725584, 0.00046682413085363805, 0.005417504347860813, 0.020561065524816513, 0.03502529487013817, 0.6330872178077698, 0.006023635156452656, 0.0, 0.0, 0.0, 0.0, 0.0, 0.0, 0.0, 0.0, 0.0, 0.0, 0.0, 0.0, 0.0, 0.0, 0.0, 0.0, 0.0, 0.0, 0.0, 0.0, 0.0, 0.0, 0.0, 0.0, 0.0, 0.0, 0.0, 0.0, 0.0, 0.0, 0.0, 0.0, 0.0, 0.0, 0.0, 0.0], [0.003626398276537657, 0.0034121826756745577, 0.0041038040071725845, 0.011312119662761688, 0.005367397330701351, 0.014808804728090763, 0.010703574866056442, 0.00042507113539613783, 0.002372965682297945, 0.002077575773000717, 0.004695728421211243, 0.004247570876032114, 0.004033614415675402, 0.0004098388890270144, 0.008514031767845154, 0.00482800742611289, 0.0008571544312871993, 0.005560599733144045, 0.1462036669254303, 0.00185142713598907, 0.00010580231173662469, 4.5682456402573735e-05, 0.029248332604765892, 0.001089277327992022, 0.005167553201317787, 0.00034313410287722945, 0.00908621121197939, 0.0020607737824320793, 0.00962865725159645, 0.00405230512842536, 0.6990892887115479, 0.0006714415503665805, 0.0, 0.0, 0.0, 0.0, 0.0, 0.0, 0.0, 0.0, 0.0, 0.0, 0.0, 0.0, 0.0, 0.0, 0.0, 0.0, 0.0, 0.0, 0.0, 0.0, 0.0, 0.0, 0.0, 0.0, 0.0, 0.0, 0.0, 0.0, 0.0, 0.0, 0.0, 0.0, 0.0, 0.0, 0.0], [0.0005317771574482322, 0.029852045699954033, 0.04575594142079353, 0.0042161461897194386, 0.00014637420827057213, 0.00026759461616165936, 0.00016705121379345655, 0.02753211185336113, 0.008910940028727055, 0.010308477096259594, 0.003857296658679843, 1.063356990016473e-06, 0.0016108029522001743, 0.004157416522502899, 0.06423462182283401, 0.1614408642053604, 0.00046235849731601775, 0.002480528550222516, 0.0030783889815211296, 0.024275224655866623, 0.014266790822148323, 0.005004873499274254, 0.031561098992824554, 2.6799696115631377e-06, 0.002162546617910266, 0.0064384546130895615, 0.0013232734054327011, 0.16424104571342468, 0.0013798447325825691, 0.014737775549292564, 0.0005299808690324426, 0.0004067158151883632, 0.3646579086780548, 0.0, 0.0, 0.0, 0.0, 0.0, 0.0, 0.0, 0.0, 0.0, 0.0, 0.0, 0.0, 0.0, 0.0, 0.0, 0.0, 0.0, 0.0, 0.0, 0.0, 0.0, 0.0, 0.0, 0.0, 0.0, 0.0, 0.0, 0.0, 0.0, 0.0, 0.0, 0.0, 0.0, 0.0], [0.003353346837684512, 0.0009877760894596577, 0.0013030149275436997, 0.00025279048713855445, 0.5580246448516846, 0.00201153801754117, 0.0024314799811691046, 0.00032884132815524936, 0.01428474485874176, 0.001633295090869069, 0.000161636620759964, 0.014598767273128033, 0.01082739420235157, 9.616721217753366e-05, 3.480369196040556e-05, 5.627531936625019e-05, 0.3727177679538727, 6.515406130347401e-05, 0.008476486429572105, 7.128576544346288e-05, 0.004596173297613859, 7.0564667112194e-05, 2.7099144062958658e-05, 0.0008873409242369235, 0.00029342618654482067, 0.0001735671394271776, 0.00019272899953648448, 9.777072409633547e-05, 0.0009822797728702426, 6.34726311545819e-05, 0.00019488416728563607, 0.0006777245434932411, 1.2544177479867358e-05, 1.31833339764853e-05, 0.0, 0.0, 0.0, 0.0, 0.0, 0.0, 0.0, 0.0, 0.0, 0.0, 0.0, 0.0, 0.0, 0.0, 0.0, 0.0, 0.0, 0.0, 0.0, 0.0, 0.0, 0.0, 0.0, 0.0, 0.0, 0.0, 0.0, 0.0, 0.0, 0.0, 0.0, 0.0, 0.0], [0.007414746098220348, 0.0017335504526272416, 0.0024571516551077366, 0.005366841331124306, 0.0006382450228556991, 1.8170379917137325e-05, 0.008601801469922066, 0.009592104703187943, 0.0015334001509472728, 0.0004980223020538688, 0.01679602824151516, 0.01585773192346096, 0.0018342520343139768, 0.005749055650085211, 0.010416803881525993, 0.006937092635780573, 0.0006160030025057495, 0.0001201774284709245, 0.005979118403047323, 0.032508522272109985, 0.004988967906683683, 0.009575821459293365, 0.0034216579515486956, 0.06768806278705597, 0.011373961344361305, 0.003989208489656448, 0.025419607758522034, 0.0026490066666156054, 0.0023238433059304953, 0.0009789294563233852, 0.0028236203361302614, 0.053083281964063644, 0.02603878825902939, 0.648650050163269, 0.002326415618881583, 0.0, 0.0, 0.0, 0.0, 0.0, 0.0, 0.0, 0.0, 0.0, 0.0, 0.0, 0.0, 0.0, 0.0, 0.0, 0.0, 0.0, 0.0, 0.0, 0.0, 0.0, 0.0, 0.0, 0.0, 0.0, 0.0, 0.0, 0.0, 0.0, 0.0, 0.0, 0.0], [0.01832975447177887, 0.024882672354578972, 0.046119123697280884, 0.0030460727866739035, 0.001348955905996263, 0.0006214456516318023, 0.008094163611531258, 0.01906633749604225, 0.009429162368178368, 0.08691135048866272, 0.023013070225715637, 0.0020933784544467926, 0.027860864996910095, 0.0026399753987789154, 0.01308346912264824, 0.00585933169350028, 0.0012484467588365078, 0.004160006996244192, 0.00871260929852724, 0.00859653577208519, 0.0030855918303132057, 0.014415894635021687, 0.01437809132039547, 0.010152104310691357, 0.03285762667655945, 0.00019317078113090247, 0.15130926668643951, 0.0017379262717440724, 0.00289518223144114, 0.0034041127655655146, 0.07960405945777893, 0.0071996343322098255, 0.043001871556043625, 0.002591765718534589, 0.31663230061531067, 0.0014247229555621743, 0.0, 0.0, 0.0, 0.0, 0.0, 0.0, 0.0, 0.0, 0.0, 0.0, 0.0, 0.0, 0.0, 0.0, 0.0, 0.0, 0.0, 0.0, 0.0, 0.0, 0.0, 0.0, 0.0, 0.0, 0.0, 0.0, 0.0, 0.0, 0.0, 0.0, 0.0], [0.0036076249089092016, 0.005626965314149857, 0.0013045251835137606, 0.0005752939614467323, 0.022906215861439705, 0.08315374702215195, 0.07674551010131836, 0.0008883405826054513, 0.002566251438111067, 0.0053620487451553345, 0.004418644588440657, 0.09520917385816574, 0.008258748799562454, 0.007672324310988188, 0.06682433933019638, 8.561891445424408e-05, 0.10114146769046783, 0.03639887273311615, 0.0018527369247749448, 0.010610110126435757, 0.008549369871616364, 0.021181704476475716, 0.016046306118369102, 0.0653742104768753, 0.01779237389564514, 0.003949942998588085, 0.012447585351765156, 4.750500011141412e-05, 0.0049435715191066265, 0.02030368335545063, 0.03704476356506348, 0.037667982280254364, 0.01713649556040764, 0.14120368659496307, 0.002091695787385106, 0.00874835904687643, 0.05026227608323097, 0.0, 0.0, 0.0, 0.0, 0.0, 0.0, 0.0, 0.0, 0.0, 0.0, 0.0, 0.0, 0.0, 0.0, 0.0, 0.0, 0.0, 0.0, 0.0, 0.0, 0.0, 0.0, 0.0, 0.0, 0.0, 0.0, 0.0, 0.0, 0.0, 0.0], [0.02401118166744709, 0.006880118977278471, 0.014225664548575878, 0.005810883361846209, 0.5132960081100464, 0.0015170598635450006, 0.012186669744551182, 0.01868133433163166, 0.029450364410877228, 0.0013932599686086178, 0.0013839741004630923, 0.01644456945359707, 0.016342537477612495, 0.0009596592863090336, 0.0015792989870533347, 0.004369484260678291, 0.1257830411195755, 0.0026848027482628822, 0.09702444821596146, 0.005206150468438864, 0.01188394520431757, 0.00012472526577766985, 0.00028358117560856044, 0.0032779884058982134, 0.00326852360740304, 0.00539363780990243, 0.002141839824616909, 0.0031830386724323034, 0.004102292936295271, 0.0004657019453588873, 0.001343361334875226, 0.028882237151265144, 0.002278330270200968, 0.0005457343650050461, 0.0005250098183751106, 0.006424649618566036, 0.026272928342223167, 0.0003719504165928811, 0.0, 0.0, 0.0, 0.0, 0.0, 0.0, 0.0, 0.0, 0.0, 0.0, 0.0, 0.0, 0.0, 0.0, 0.0, 0.0, 0.0, 0.0, 0.0, 0.0, 0.0, 0.0, 0.0, 0.0, 0.0, 0.0, 0.0, 0.0, 0.0], [0.00427626259624958, 0.0001957687782123685, 0.0008322414360009134, 0.0015945637132972479, 0.0004396307631395757, 0.007391062565147877, 0.004471533466130495, 0.0455457903444767, 4.369570888229646e-05, 4.927374448016053e-06, 0.0008856182103045285, 0.006678882986307144, 0.0019333951640874147, 0.03866419196128845, 0.0027769533917307854, 0.0071810269728302956, 0.0001319677394349128, 0.010487730614840984, 0.007182482164353132, 0.0412655733525753, 3.1542309443466365e-05, 1.4901180293236393e-05, 0.0002992446825373918, 0.004809462931007147, 0.0036929487250745296, 0.04286952689290047, 0.0007518302300013602, 0.016292862594127655, 0.0029616341926157475, 0.002284778980538249, 0.005524864885956049, 0.066477470099926, 0.003274899208918214, 9.030376531882212e-05, 0.00375988963060081, 0.011172114871442318, 5.3088566346559674e-05, 0.6497405767440796, 0.003914804197847843, 0.0, 0.0, 0.0, 0.0, 0.0, 0.0, 0.0, 0.0, 0.0, 0.0, 0.0, 0.0, 0.0, 0.0, 0.0, 0.0, 0.0, 0.0, 0.0, 0.0, 0.0, 0.0, 0.0, 0.0, 0.0, 0.0, 0.0, 0.0], [0.012608209624886513, 0.004243162460625172, 0.012599525041878223, 0.01937709003686905, 0.0033613203559070826, 0.0438954196870327, 0.024683192372322083, 0.0015566855436190963, 0.0005284219514578581, 0.000489265366923064, 0.005367116536945105, 0.01987510547041893, 0.02284635789692402, 0.029895175248384476, 0.01960594393312931, 0.0020838731434196234, 0.0002409096050541848, 0.001824921346269548, 0.012149891816079617, 0.003820913378149271, 0.0007126508862711489, 0.0017385113751515746, 0.009859717451035976, 0.016249578446149826, 0.034821826964616776, 0.030319107696413994, 0.5187702775001526, 0.010063495486974716, 0.0043968926183879375, 0.0012432729126885533, 0.06789647787809372, 0.0010531016159802675, 0.004762540105730295, 0.00024085618497338146, 0.04077473282814026, 0.009651396423578262, 0.00031631399178877473, 0.004896168131381273, 0.0004814416461158544, 0.0006991082918830216, 0.0, 0.0, 0.0, 0.0, 0.0, 0.0, 0.0, 0.0, 0.0, 0.0, 0.0, 0.0, 0.0, 0.0, 0.0, 0.0, 0.0, 0.0, 0.0, 0.0, 0.0, 0.0, 0.0, 0.0, 0.0, 0.0, 0.0], [0.012099548242986202, 0.010240504518151283, 0.003423311747610569, 0.09387382864952087, 0.0004868080432061106, 0.049643710255622864, 0.0029405499808490276, 3.663136521936394e-05, 0.03429326042532921, 0.008609389886260033, 0.011228751391172409, 0.000553567020688206, 0.0011141011491417885, 0.005357015412300825, 0.0006926605710759759, 0.1286097913980484, 0.0003166275273542851, 0.006807395257055759, 0.0029146759770810604, 1.0992395800712984e-05, 0.0064583574421703815, 0.005637526512145996, 0.1234656572341919, 0.01757090352475643, 0.0011278687743470073, 0.03785822167992592, 0.012939885258674622, 0.03114384040236473, 0.02075764909386635, 0.014412409625947475, 0.010730912908911705, 1.014536519505782e-05, 0.0033456345554441214, 0.011792542412877083, 0.011838521808385849, 0.06091935560107231, 0.0014543290017172694, 0.10246669501066208, 0.011264861561357975, 0.0013478612527251244, 0.14020366966724396, 0.0, 0.0, 0.0, 0.0, 0.0, 0.0, 0.0, 0.0, 0.0, 0.0, 0.0, 0.0, 0.0, 0.0, 0.0, 0.0, 0.0, 0.0, 0.0, 0.0, 0.0, 0.0, 0.0, 0.0, 0.0, 0.0], [0.00937391072511673, 0.06708753854036331, 0.09321273118257523, 0.00012837813119404018, 0.00046787288738414645, 0.0014359519118443131, 0.0027047886978834867, 0.006766066886484623, 0.0022308879997581244, 0.006729256361722946, 0.0022068379912525415, 0.005071071442216635, 0.03149845823645592, 0.008882705122232437, 0.0019783428870141506, 0.00015680510841775686, 0.011282163672149181, 0.24205948412418365, 0.003834097646176815, 0.01798742264509201, 0.020676739513874054, 0.21492500603199005, 0.00011096212256234139, 0.002382401144132018, 0.0750773698091507, 0.027544507756829262, 0.009037522599101067, 0.00020723417401313782, 0.002579578896984458, 0.007924698293209076, 0.005083221010863781, 0.011826815083622932, 0.00585883529856801, 0.005014402326196432, 0.0029129900503903627, 0.00040592477307654917, 0.042056262493133545, 0.017192421481013298, 0.0006001943838782609, 0.002256131498143077, 0.000820022658444941, 0.03041204810142517, 0.0, 0.0, 0.0, 0.0, 0.0, 0.0, 0.0, 0.0, 0.0, 0.0, 0.0, 0.0, 0.0, 0.0, 0.0, 0.0, 0.0, 0.0, 0.0, 0.0, 0.0, 0.0, 0.0, 0.0, 0.0], [0.0014521880075335503, 0.0011372810695320368, 0.0006299486267380416, 0.011712318286299706, 0.00014999623817857355, 9.559528734826017e-06, 0.0017107244348153472, 0.00041937464266084135, 0.00015941821038722992, 0.0025025708600878716, 0.005076761823147535, 0.03961828351020813, 9.87966704997234e-05, 1.517607961432077e-05, 0.00035125797148793936, 0.002727809362113476, 0.00029663421446457505, 0.03964327648282051, 0.00028371246298775077, 0.001946090953424573, 7.428922253893688e-05, 0.004126610700041056, 0.00220293877646327, 0.023888058960437775, 0.00024723337264731526, 4.060574428876862e-05, 0.00028234103228896856, 0.0016568367136642337, 0.0015473933890461922, 0.005581075791269541, 0.010842153802514076, 0.0126039432361722, 0.0005100166308693588, 0.0013707531616091728, 0.0014987920876592398, 0.02275119349360466, 2.4890226995921694e-05, 0.00021102288155816495, 3.3690095733618364e-05, 0.0030604517087340355, 0.004649320151656866, 0.7812607288360596, 0.011594515293836594, 0.0, 0.0, 0.0, 0.0, 0.0, 0.0, 0.0, 0.0, 0.0, 0.0, 0.0, 0.0, 0.0, 0.0, 0.0, 0.0, 0.0, 0.0, 0.0, 0.0, 0.0, 0.0, 0.0, 0.0], [0.011603274382650852, 0.02071286179125309, 0.02437179908156395, 0.018699532374739647, 0.03811030462384224, 0.010690530762076378, 0.05395390838384628, 0.025975406169891357, 0.005297196563333273, 0.0743788629770279, 0.03085816092789173, 0.0043321214616298676, 0.025005094707012177, 0.0005340214702300727, 0.010460754856467247, 0.027869518846273422, 0.02355186641216278, 0.058266449719667435, 0.0030997975263744593, 0.0026642431039363146, 0.0011416743509471416, 0.004045577719807625, 0.009666986763477325, 0.016151316463947296, 0.033081088215112686, 0.002747675171121955, 0.056965701282024384, 0.016796469688415527, 0.007396281231194735, 0.19120123982429504, 0.01503286138176918, 0.019382096827030182, 0.014274111948907375, 0.00028878398006781936, 0.07262684404850006, 0.0029052759055048227, 1.3692782658836222e-06, 0.0011732522398233414, 0.004401339218020439, 0.015454910695552826, 0.0041928719729185104, 0.031986817717552185, 0.006864475551992655, 0.001785234664566815, 0.0, 0.0, 0.0, 0.0, 0.0, 0.0, 0.0, 0.0, 0.0, 0.0, 0.0, 0.0, 0.0, 0.0, 0.0, 0.0, 0.0, 0.0, 0.0, 0.0, 0.0, 0.0, 0.0], [0.00012926234921906143, 0.021712251007556915, 0.07620202004909515, 7.265472959261388e-06, 0.00023394025629386306, 0.00015407512546516955, 3.976447624154389e-05, 0.022605683654546738, 0.00012389580660965294, 0.0012720718514174223, 0.0004785798955708742, 7.582639227621257e-07, 0.0006640290375798941, 0.00035807385575026274, 0.008071874268352985, 0.0004672045761253685, 4.60452756669838e-05, 9.156645683106035e-05, 0.00017672147077973932, 0.003918713424354792, 0.00017263695190194994, 0.0006126435473561287, 0.021954335272312164, 7.753163799861795e-07, 0.0014175553806126118, 0.0012121630134060979, 5.4145064495969564e-05, 0.010350944474339485, 0.0008365255780518055, 0.0012439596466720104, 0.00037287911982275546, 0.005150287412106991, 0.003313278080895543, 0.00019223737763240933, 0.02938467636704445, 8.404895197600126e-07, 1.3584114640252665e-05, 0.0012863223673775792, 0.00012709011207334697, 0.021955683827400208, 0.0006964412168599665, 0.014167843386530876, 4.79383124911692e-05, 1.2198386684758589e-05, 0.7486692070960999, 0.0, 0.0, 0.0, 0.0, 0.0, 0.0, 0.0, 0.0, 0.0, 0.0, 0.0, 0.0, 0.0, 0.0, 0.0, 0.0, 0.0, 0.0, 0.0, 0.0, 0.0, 0.0], [0.007862448692321777, 0.009916613809764385, 0.01822281815111637, 0.0002594553807284683, 0.0003893753746524453, 0.00011423273099353537, 0.0034264985006302595, 0.0001467129768570885, 0.0006187660619616508, 0.0006630080169998109, 0.001078402274288237, 0.002002856694161892, 0.004699875600636005, 0.0011493158526718616, 0.000769539678003639, 0.00012251375301275402, 0.01764686405658722, 0.002726905047893524, 0.00932298693805933, 0.0006245281547307968, 0.019046390429139137, 0.015317236073315144, 0.0001279765710933134, 0.0035834661684930325, 0.006090919487178326, 0.0035864782985299826, 0.02474992163479328, 0.00016229040920734406, 0.00052164017688483, 0.0009637054754421115, 0.0011216287966817617, 0.00015351139882113785, 0.001405595219694078, 0.00258268928155303, 0.0006447419291362166, 0.0002802377275656909, 0.8215001821517944, 0.0026378221809864044, 0.0016392258694395423, 6.688373105134815e-05, 0.009109708480536938, 0.001011389889754355, 0.00012668623821809888, 0.0013523576781153679, 0.00010469146945979446, 0.00034882916952483356, 0.0, 0.0, 0.0, 0.0, 0.0, 0.0, 0.0, 0.0, 0.0, 0.0, 0.0, 0.0, 0.0, 0.0, 0.0, 0.0, 0.0, 0.0, 0.0, 0.0, 0.0], [0.0009317272924818099, 9.064809273695573e-05, 0.00031743411091156304, 0.001884634722955525, 1.3639422604683205e-06, 2.079640580632258e-06, 0.00013362467871047556, 0.002828265307471156, 4.4103293475927785e-05, 2.4603428755654022e-05, 0.0010382285108789802, 0.00016843080811668187, 0.000393508467823267, 0.0782221332192421, 0.0005830024601891637, 0.006628162693232298, 3.2482904543940094e-07, 3.914337412425084e-06, 0.00016425132344011217, 0.0015939031727612019, 3.541836122167297e-05, 0.0013798075960949063, 0.00026875874027609825, 0.0008043745765462518, 0.0003747280570678413, 0.00425231596454978, 0.0004757222777698189, 0.0036504280287772417, 0.0003236591292079538, 1.2043816241202876e-05, 0.00016095186583697796, 0.0007728604250587523, 0.0005870210588909686, 0.015268650837242603, 0.0009902642341330647, 0.0031580268405377865, 4.556874500849517e-06, 0.00038819803739897907, 0.00032893463503569365, 0.006270363461226225, 0.00012632462312467396, 3.164993177051656e-05, 0.00160109787248075, 0.0008298713364638388, 0.00026629670173861086, 0.8622803092002869, 0.0003030237276107073, 0.0, 0.0, 0.0, 0.0, 0.0, 0.0, 0.0, 0.0, 0.0, 0.0, 0.0, 0.0, 0.0, 0.0, 0.0, 0.0, 0.0, 0.0, 0.0, 0.0], [0.004382503218948841, 0.0067701698280870914, 0.004729037638753653, 0.02813245914876461, 0.004551136866211891, 0.0023532274644821882, 0.1420402228832245, 0.00846807286143303, 0.00343653024174273, 0.031402088701725006, 0.03850559890270233, 0.025684140622615814, 0.029652511700987816, 0.028788913041353226, 0.033711694180965424, 0.002364500192925334, 0.0006015566759742796, 0.00017866840062197298, 0.005038627423346043, 0.012499548494815826, 0.0005524755688384175, 0.04769345372915268, 0.012747026979923248, 0.005503071006387472, 0.05886657536029816, 0.004837538581341505, 0.020662875846028328, 0.006008383352309465, 0.011041523888707161, 0.01572081446647644, 0.007932616397738457, 0.012815689668059349, 0.005487585905939341, 0.024217255413532257, 0.002737821778282523, 0.018462074920535088, 5.444444468594156e-07, 0.00025461785844527185, 0.04384690150618553, 0.0019968687556684017, 0.00019158131908625364, 0.002692891051992774, 0.19219456613063812, 0.008843328803777695, 0.07424601167440414, 0.004572260193526745, 0.0012347628362476826, 0.001347628072835505, 0.0, 0.0, 0.0, 0.0, 0.0, 0.0, 0.0, 0.0, 0.0, 0.0, 0.0, 0.0, 0.0, 0.0, 0.0, 0.0, 0.0, 0.0, 0.0], [0.001787071581929922, 0.0006307576550170779, 0.00043365813326090574, 0.0003849586355499923, 0.047271568328142166, 0.006143568549305201, 0.0011559607228264213, 2.7014704755856656e-05, 0.001260789460502565, 0.0014996308600530028, 0.0014094575308263302, 0.04813317582011223, 0.0015708183636888862, 0.0017050933092832565, 0.0007665196899324656, 3.77784926968161e-05, 0.0037451342213898897, 0.0011379251955077052, 0.0012968418886885047, 0.00014693434059154242, 0.00023278483422473073, 0.002328235888853669, 0.000602354877628386, 0.04831860587000847, 0.002692111534997821, 0.0025882429908961058, 0.009680766612291336, 8.0742083810037e-06, 0.009761994704604149, 0.0008733912254683673, 0.028542757034301758, 0.006693656090646982, 0.002468322403728962, 0.0032929927110671997, 0.0012154577998444438, 0.037115417420864105, 0.00015000936400610954, 0.0008984404848888516, 0.011584012769162655, 1.1555946912267245e-05, 0.0011177934939041734, 0.002964774612337351, 0.002011355943977833, 0.01193627156317234, 0.0029591366183012724, 0.020816801115870476, 0.011571519076824188, 0.000783461844548583, 0.6562349200248718, 0.0, 0.0, 0.0, 0.0, 0.0, 0.0, 0.0, 0.0, 0.0, 0.0, 0.0, 0.0, 0.0, 0.0, 0.0, 0.0, 0.0, 0.0], [0.011288595385849476, 0.005982656497508287, 0.00824747234582901, 0.0004349595692474395, 0.010813005268573761, 0.012312443926930428, 0.022267131134867668, 0.0008074661018326879, 0.0014870914164930582, 0.0010270284255966544, 0.00503800343722105, 0.010419304482638836, 0.004750668536871672, 0.0009255658951587975, 0.0013200712855905294, 0.0006704767001792789, 0.05708365887403488, 0.01647013984620571, 0.00447467528283596, 0.0018136827275156975, 0.006241904571652412, 0.008891740813851357, 0.0006790137849748135, 0.04261547699570656, 0.004726910963654518, 0.00445631192997098, 0.05171117186546326, 0.0005132938968017697, 0.0039124214090406895, 0.06345824897289276, 0.007592933252453804, 0.006238869857043028, 0.003802322084084153, 0.0023083570413291454, 0.0035456635523587465, 0.0034463468473404646, 0.3095906972885132, 0.11402915418148041, 0.003048929385840893, 0.00016252801287919283, 0.06671230494976044, 0.039775535464286804, 3.372100036358461e-05, 0.008499644696712494, 0.010565373115241528, 0.006738113705068827, 0.0024554950650781393, 0.003187495982274413, 0.00039102835580706596, 0.04303484410047531, 0.0, 0.0, 0.0, 0.0, 0.0, 0.0, 0.0, 0.0, 0.0, 0.0, 0.0, 0.0, 0.0, 0.0, 0.0, 0.0, 0.0], [0.000292943645035848, 0.00014342546637635678, 0.0007837185985408723, 0.0014135357923805714, 0.0011813896708190441, 0.00011423496471252292, 0.0005963166477158666, 0.00026798623730428517, 0.00011538020771695301, 1.7863303582998924e-05, 0.0016866523073986173, 0.0004998949007131159, 0.00014899687084835023, 1.7691596440272406e-05, 0.000996634946204722, 0.0010105177061632276, 0.0001069431600626558, 0.0027530153747648, 0.0017838228959590197, 0.0005723665235564113, 3.244336767238565e-05, 3.5050431961280992e-06, 0.0005162733141332865, 0.00045423454139381647, 0.00030780673841945827, 0.00013506600225809962, 0.0011049590539187193, 0.0012584734940901399, 0.0004980094381608069, 0.001113893580622971, 0.004033789504319429, 0.0007058477494865656, 0.0011669279774650931, 5.274509021546692e-06, 0.0028673894703388214, 0.001791489659808576, 0.002042269567027688, 0.0005007702275179327, 0.0010317596606910229, 0.002324126660823822, 0.000324578199069947, 0.001570883672684431, 0.0022743146400898695, 0.0002119246346410364, 0.00013949906860943884, 0.0001697064726613462, 9.860205318545923e-05, 0.0012602858478203416, 0.0014066740404814482, 0.9529482126235962, 0.003197600832208991, 0.0, 0.0, 0.0, 0.0, 0.0, 0.0, 0.0, 0.0, 0.0, 0.0, 0.0, 0.0, 0.0, 0.0, 0.0, 0.0], [0.002077238168567419, 0.0008643137407489121, 0.0003844575257971883, 0.00449061905965209, 0.0008122279541566968, 0.009829266928136349, 0.01710572838783264, 0.0023398525081574917, 0.002298913896083832, 0.0008996698306873441, 0.006675100885331631, 0.002897807862609625, 0.005847366992384195, 0.0060577960684895515, 0.004671422298997641, 0.0034506916999816895, 0.0013368967920541763, 0.002507380908355117, 0.007598914206027985, 0.00033425004221498966, 9.508661605650559e-05, 5.176192644285038e-05, 0.0009383799624629319, 0.005231557413935661, 0.03613850474357605, 0.009537506848573685, 0.001486104098148644, 0.0003328443563077599, 0.0020402756053954363, 0.002314185258001089, 0.0023121179547160864, 0.0007066065445542336, 0.0034719514660537243, 0.00028620363445952535, 0.0004942277446389198, 0.00454551400616765, 1.6007800240913639e-06, 0.004484847187995911, 0.14627914130687714, 0.0021573305130004883, 1.3198919987189583e-05, 8.320791675942019e-05, 0.5794662833213806, 0.0003684131661430001, 0.0004717768752016127, 0.0001448990951757878, 0.0008467335137538612, 0.0017734745051711798, 0.005760816857218742, 0.0003719938104040921, 0.10482216626405716, 0.000491329759825021, 0.0, 0.0, 0.0, 0.0, 0.0, 0.0, 0.0, 0.0, 0.0, 0.0, 0.0, 0.0, 0.0, 0.0, 0.0], [0.0008211825625039637, 0.00126028957311064, 0.000851836521178484, 0.1923866868019104, 4.087620254722424e-05, 9.748143202159554e-05, 5.1089260523440316e-05, 2.3800530470907688e-05, 0.02442336082458496, 0.002504852367565036, 0.03088597021996975, 3.0229399271775037e-05, 0.00012667186092585325, 0.0006091538234613836, 0.00020545114239212126, 0.08520758152008057, 1.6568215869483538e-05, 0.0009799489052966237, 0.0003516683937050402, 2.842069079633802e-06, 0.0012569334357976913, 0.004037483129650354, 0.05199258029460907, 0.0009224495152011514, 0.00045603481703437865, 0.0008536512614227831, 0.002846247749403119, 0.018526192754507065, 0.002962161088362336, 0.0047872550785541534, 0.005698446184396744, 9.662076081440318e-07, 0.0009657024056650698, 0.0026145391166210175, 0.025009509176015854, 0.04449084773659706, 0.00015830600750632584, 0.0007740634609945118, 0.04084033891558647, 0.007340641692280769, 0.028709743171930313, 0.0023747070226818323, 0.03622542321681976, 3.0269138733274303e-06, 0.000689091335516423, 0.0018810225883498788, 0.0005888404557481408, 0.052029404789209366, 0.005568202119320631, 0.001468941569328308, 0.0008303027716465294, 0.00014982660650275648, 0.3120695948600769, 0.0, 0.0, 0.0, 0.0, 0.0, 0.0, 0.0, 0.0, 0.0, 0.0, 0.0, 0.0, 0.0, 0.0], [0.004536041524261236, 0.021113784983754158, 0.016675135120749474, 0.004250769037753344, 0.03644829988479614, 0.0031711976043879986, 0.01659971848130226, 0.0007497277692891657, 0.010239333845674992, 0.00902759749442339, 0.00642305938526988, 0.0016458609607070684, 0.004419284872710705, 0.0002156625996576622, 0.007320660166442394, 0.002460354706272483, 0.013110080733895302, 0.0034634380135685205, 0.008798974566161633, 0.0020770106930285692, 0.017359817400574684, 0.0033458522520959377, 0.011444838717579842, 0.004715259652584791, 0.00361063564196229, 0.002889844821766019, 0.04517088457942009, 0.006287980824708939, 0.001979617401957512, 0.011309822089970112, 0.0047095902264118195, 0.0028333880472928286, 0.006822336930781603, 0.009834679774940014, 0.00609556632116437, 0.0019636349752545357, 0.48565801978111267, 0.004072513896971941, 0.019493069499731064, 0.0010869204998016357, 0.1165526956319809, 0.01863488368690014, 0.0001127147552324459, 0.0006182915531098843, 0.012597519904375076, 0.0020721317268908024, 0.0018008993938565254, 0.004879472311586142, 0.0021418570540845394, 0.008571489714086056, 0.002798841567710042, 0.0017660509329289198, 0.0003245514817535877, 0.003698272630572319, 0.0, 0.0, 0.0, 0.0, 0.0, 0.0, 0.0, 0.0, 0.0, 0.0, 0.0, 0.0, 0.0], [0.0010173327755182981, 0.00045691977720707655, 0.00034188159042969346, 0.0022468287497758865, 0.0002605028566904366, 5.003057026442548e-07, 0.0015275687910616398, 0.00024539357400499284, 0.00024936613044701517, 0.004424428567290306, 0.008491815999150276, 0.001086859148927033, 0.00014190701767802238, 2.267425088575692e-06, 9.565395885147154e-05, 0.001135072554461658, 0.004268280230462551, 0.0006110919057391584, 0.00010397288133390248, 0.00013273411605041474, 0.00022435045684687793, 0.018270688131451607, 0.0006635275785811245, 0.0025495088193565607, 6.527015648316592e-05, 6.253982860471297e-07, 0.00013264970039017498, 0.0003600376076065004, 0.0006492513930425048, 0.016322337090969086, 0.00047732790699228644, 0.0005145497270859778, 0.00032468451536260545, 0.0014590085484087467, 0.000783363648224622, 0.001488086418248713, 1.5824569345568307e-05, 8.662733307573944e-06, 3.173044751747511e-05, 0.0004516748886089772, 0.002962104044854641, 0.0345836877822876, 0.0001985986455110833, 0.0015403912402689457, 8.955657540354878e-05, 0.00014139838458504528, 0.0006131487898528576, 0.0017048356821760535, 1.7614816897548735e-05, 7.765812915749848e-05, 0.0009725081035867333, 0.0010913430014625192, 0.0005588919739238918, 0.8826102018356323, 0.0012044755276292562, 0.0, 0.0, 0.0, 0.0, 0.0, 0.0, 0.0, 0.0, 0.0, 0.0, 0.0, 0.0], [0.0022836632560938597, 0.0042040967382490635, 0.000855300051625818, 0.001830795663408935, 0.0002236765285488218, 0.0010498977499082685, 0.013917377218604088, 0.0009663826203905046, 0.0004974986077286303, 0.0017924380954355001, 0.0024954790715128183, 0.0022127386182546616, 0.0009143564966507256, 0.00013237856910564005, 0.000852743920404464, 0.0005276058800518513, 0.0024725489784032106, 0.0008219863520935178, 0.0034905211068689823, 0.0010168745648115873, 0.0002741305506788194, 0.0013489600969478488, 0.002306189388036728, 0.00020227891218382865, 0.0018668470438569784, 2.6921386961475946e-05, 0.0001216130331158638, 0.0009942867327481508, 0.0013046159874647856, 0.012662542052567005, 0.0016395596321672201, 0.00023572580539621413, 0.0006205920944921672, 0.00015747833822388202, 0.00021942034072708338, 0.0003587584651540965, 2.6462296318641165e-06, 0.00019334843091201037, 0.00021802903211209923, 0.0011001741513609886, 5.225983841228299e-05, 0.01138827484101057, 0.9082287549972534, 0.0014697625301778316, 0.0005705030052922666, 2.550999397499254e-06, 0.003480328246951103, 0.00010328322241548449, 0.00011276698933215812, 4.3392079533077776e-05, 0.0010346891358494759, 0.0009710161248221993, 0.003274936228990555, 0.00025007358635775745, 0.0004722251323983073, 0.00013268216571304947, 0.0, 0.0, 0.0, 0.0, 0.0, 0.0, 0.0, 0.0, 0.0, 0.0, 0.0], [0.0006437554839067161, 0.016926683485507965, 0.06578952074050903, 1.1238299748583813e-06, 0.0005298631149344146, 9.194434096571058e-05, 2.7190102628082968e-05, 0.2936135232448578, 7.965061377035454e-05, 0.0001304408215219155, 5.2791237976634875e-05, 1.7534268408780918e-05, 0.003339974442496896, 0.0002857474610209465, 0.011699527502059937, 7.019304575806018e-06, 0.000113405600131955, 0.000202533119590953, 5.29086246388033e-05, 0.12326826900243759, 0.0005402431706897914, 0.0011426530545577407, 0.00013674037472810596, 6.923022510818555e-07, 0.0019520545611158013, 0.0019257075618952513, 9.360465628560632e-05, 0.0008293553255498409, 7.24775527487509e-05, 0.00028204830596223474, 0.0001431880082236603, 0.03034191206097603, 0.0013188122538849711, 0.00039020710391923785, 0.0056952196173369884, 1.9937468209718645e-07, 5.31350051460322e-05, 0.0006143773789517581, 1.0559485417616088e-05, 0.05020199343562126, 0.0002873973280657083, 0.0027000540867447853, 0.0030803638510406017, 0.007702510803937912, 0.016913076862692833, 0.00058411480858922, 0.0014523845165967941, 4.782371547662478e-07, 0.00021140977332834154, 0.0015340822283178568, 0.0018994148122146726, 0.0678117424249649, 0.000830816337838769, 0.0012882730225101113, 0.0002077919343719259, 1.6712689102860168e-05, 0.2808607220649719, 0.0, 0.0, 0.0, 0.0, 0.0, 0.0, 0.0, 0.0, 0.0, 0.0], [0.0014433189062401652, 0.008254289627075195, 0.011665106751024723, 0.0010111244628205895, 7.185305730672553e-05, 0.00045309055713005364, 0.007506314665079117, 0.002566887764260173, 0.005386544391512871, 0.0014285293873399496, 0.008325496688485146, 0.00036718189949169755, 0.006203547585755587, 0.011004841886460781, 0.000637609395198524, 0.00433878181502223, 0.0026281678583472967, 0.0015887737972661853, 0.0002557861735112965, 0.0006334920763038099, 0.008473488502204418, 0.002329510636627674, 0.0015798571985214949, 0.002858459483832121, 0.00220311782322824, 0.0018062342423945665, 0.012791191227734089, 0.005406930577009916, 0.0010949040297418833, 0.002377289580181241, 0.0004449647676665336, 0.0023503440897911787, 0.0004084339889232069, 0.0026135812513530254, 0.0022092813160270452, 0.0016604490811005235, 0.6453521251678467, 0.019169079139828682, 0.05759790539741516, 0.002128993859514594, 0.08682932704687119, 0.0008772218716330826, 8.978138794191182e-05, 0.00038322090404108167, 0.03505238518118858, 0.01649310067296028, 0.000992382992990315, 0.0012398110702633858, 0.0021282448433339596, 0.00019628935842774808, 0.0003378450346644968, 0.0012652851874008775, 0.0004635668592527509, 0.001179085928015411, 0.0004085154505446553, 0.0005019133095629513, 0.00010297787230229005, 0.0008322666399180889, 0.0, 0.0, 0.0, 0.0, 0.0, 0.0, 0.0, 0.0, 0.0], [0.0014686117647215724, 0.0005885370192117989, 0.0014704111963510513, 0.008281296119093895, 2.6003861421486363e-05, 0.000287568022031337, 0.005101642571389675, 0.00527892354875803, 0.00016322250303346664, 0.00016363068425562233, 0.0023821843788027763, 0.000932628579903394, 0.007175817154347897, 0.5676349401473999, 0.019298609346151352, 0.007375131826847792, 1.7597627447685227e-05, 8.776621689321473e-05, 0.003050396917387843, 0.007734155748039484, 0.0003897855640389025, 0.0014878347283229232, 0.004547783639281988, 0.0022552090231329203, 0.007690217811614275, 0.0660170242190361, 0.003038309048861265, 0.020911816507577896, 0.0006765855359844863, 6.346014561131597e-05, 0.0004190655308775604, 0.0010911667486652732, 0.001222461462020874, 0.015758413821458817, 0.000790799327660352, 0.004105851985514164, 3.078358349739574e-05, 0.009814353659749031, 0.004795640241354704, 0.00369466794654727, 0.00015424560115206987, 1.8599619579617865e-05, 0.0027789189480245113, 0.0006500122253783047, 0.0018339676316827536, 0.029282735660672188, 4.376823198981583e-05, 0.005342863965779543, 0.00010715208918554708, 0.0009301401441916823, 0.00046167647815309465, 0.00742113683372736, 0.0019219439709559083, 0.0003442815796006471, 0.001573176821693778, 0.002209053374826908, 0.0006891158991493285, 0.15647707879543304, 0.0004399102763272822, 0.0, 0.0, 0.0, 0.0, 0.0, 0.0, 0.0, 0.0], [0.012725058943033218, 0.024583259597420692, 0.001740004401654005, 0.00316635612398386, 0.004971825052052736, 0.10127256065607071, 0.020946508273482323, 0.00781937874853611, 0.005417967215180397, 0.05976716801524162, 0.002995810704305768, 0.010566088370978832, 0.009534550830721855, 0.0241698045283556, 0.012421653605997562, 0.009770155884325504, 0.006731093395501375, 0.0014525330625474453, 0.027645090594887733, 0.004392324946820736, 0.0025550604332238436, 0.006265142001211643, 0.01345665194094181, 0.01753843016922474, 0.03693079203367233, 0.02029474452137947, 0.0026028105057775974, 0.000797026848886162, 0.0029587282333523035, 0.0010678231483325362, 0.005505479406565428, 0.009782670065760612, 0.017718905583024025, 0.03043157234787941, 0.0018588609527796507, 0.0014972228091210127, 9.027914529724512e-06, 0.0013948985142633319, 0.0016687585739418864, 0.0021504247561097145, 0.0001467105612391606, 0.0015776173677295446, 0.17941723763942719, 0.006060079671442509, 0.0011998412664979696, 0.004832132253795862, 0.18746493756771088, 0.006580862682312727, 0.001199219492264092, 1.1937605449929833e-05, 0.0034832211676985025, 0.0004476688045542687, 0.0023901776876300573, 0.0002888814196921885, 0.029085982590913773, 0.006408743094652891, 0.03561156243085861, 0.0018664149101823568, 0.002929864451289177, 0.00042274469160474837, 0.0, 0.0, 0.0, 0.0, 0.0, 0.0, 0.0], [0.002605019835755229, 0.00020164772286079824, 4.137156065553427e-05, 0.0037703863345086575, 0.11462552845478058, 0.01243235357105732, 0.005084851756691933, 2.961334030260332e-05, 0.0006332459743134677, 0.00011957873357459903, 0.0021382265258580446, 0.05022814869880676, 0.00026048856670968235, 0.0005675549618899822, 0.0008629479561932385, 0.0004431966517586261, 0.08777296543121338, 0.0011563146254047751, 0.0006520333117805421, 3.337184898555279e-05, 0.0005874907947145402, 0.0026531030889600515, 0.0016666094306856394, 0.12324563413858414, 0.00013133510947227478, 0.002272619865834713, 0.0019229684257879853, 1.974135921045672e-05, 0.0016844779020175338, 0.0015099304728209972, 0.005881486460566521, 0.0012791736517101526, 0.0005611224914900959, 0.012298432178795338, 0.0005221535102464259, 0.04549585282802582, 5.213561234995723e-05, 0.0030568381771445274, 0.0004795055720023811, 8.139942110574339e-06, 0.0074097951874136925, 0.0012677916092798114, 0.00011959065159317106, 0.027558330446481705, 0.0010204128921031952, 0.005943960975855589, 0.020198898389935493, 0.04626040533185005, 0.011944698169827461, 0.00044488671119324863, 0.010994475334882736, 8.172875823220238e-06, 0.00021876978280488402, 0.00594668835401535, 0.0005649334634654224, 0.05086372420191765, 0.0011956488015130162, 0.029426461085677147, 0.008700672537088394, 0.000284915033262223, 0.2806391417980194, 0.0, 0.0, 0.0, 0.0, 0.0, 0.0], [0.0038944168481975794, 0.0640811026096344, 0.09082449227571487, 0.0016812051180750132, 0.0001114645492634736, 0.000833864149171859, 0.014107882976531982, 0.004644298925995827, 0.0032422849908471107, 0.0006411806680262089, 0.02272809110581875, 0.0014607984339818358, 0.010708865709602833, 0.010276607237756252, 0.010193529538810253, 0.001906012766994536, 0.0011674073757603765, 0.005742698907852173, 0.0009651472792029381, 0.006992827169597149, 0.005663782358169556, 0.01283955480903387, 0.005034902598708868, 0.0007319975411519408, 0.013341838493943214, 0.0187019445002079, 0.022007931023836136, 0.009142613969743252, 0.008505292236804962, 0.011991067789494991, 0.005531881935894489, 0.008048194460570812, 0.005120711401104927, 0.006228375714272261, 0.012387141585350037, 0.0019040016923099756, 0.3289300799369812, 0.02654242515563965, 0.02730841562151909, 0.011296328157186508, 0.050495445728302, 0.007351553067564964, 0.011683674529194832, 0.0035580710973590612, 0.05375443771481514, 0.006678372155874968, 0.00640046177431941, 0.00032571732299402356, 0.017130879685282707, 0.004239724483340979, 0.000862731714732945, 0.0032045384868979454, 0.0036420803517103195, 0.0016409623203799129, 0.00021217390894889832, 0.00041413551662117243, 0.004373973701149225, 0.005078858230262995, 0.011973495595157146, 0.001732496777549386, 0.0005158277344889939, 0.007267703302204609, 0.0, 0.0, 0.0, 0.0, 0.0], [0.0016792225651443005, 0.00012725246779154986, 0.00035049740108661354, 0.0011799447238445282, 0.027108516544103622, 0.00041666856850497425, 0.0010345587506890297, 0.0019063657382503152, 0.0003640505892690271, 0.00010637138620950282, 0.0005203598411753774, 0.0004001410852652043, 0.00012102064647478983, 1.8259564740219503e-06, 0.00010767833737190813, 0.0023472090251743793, 0.01504591666162014, 0.0030006691813468933, 0.002001521410420537, 0.00041107519064098597, 0.0001365889038424939, 1.603142845851835e-05, 8.018895459827036e-05, 0.0005231927498243749, 6.258233042899519e-05, 4.800634997081943e-06, 0.0005425162962637842, 0.0020160386338829994, 0.00037257737130858004, 0.061224259436130524, 0.0005966339376755059, 0.0006003057933412492, 0.00045208269148133695, 2.118086058544577e-06, 0.0011051115579903126, 0.0005496536032296717, 0.00016453942225780338, 0.0002449802414048463, 0.0006476878770627081, 0.00347814429551363, 0.0007780274609103799, 0.03580544516444206, 0.0008869821322150528, 0.0006840018322691321, 0.0010714010568335652, 2.7596572181209922e-05, 0.0013188767479732633, 0.0036661014892160892, 5.799765494884923e-05, 0.1826280653476715, 0.010714619420468807, 0.008089441806077957, 0.0003458988503552973, 0.009009831584990025, 0.009520023129880428, 0.00031965802190825343, 0.0008930411422625184, 0.0006795363151468337, 0.004510805476456881, 0.004290370270609856, 0.0107645895332098, 0.582110583782196, 0.0007761787855997682, 0.0, 0.0, 0.0, 0.0], [0.0069836764596402645, 0.003381256014108658, 0.003960987087339163, 0.02342994138598442, 0.0021220650523900986, 0.13027888536453247, 0.06214336305856705, 0.00817091204226017, 0.0033497591502964497, 0.00044459995115175843, 0.024581540375947952, 0.004081373102962971, 0.006028926931321621, 0.008972534909844398, 0.00922370795160532, 0.03387025371193886, 0.0017380707431584597, 0.009327388368546963, 0.04338579252362251, 0.005392539780586958, 0.0011869851732626557, 8.52478260640055e-05, 0.01259595062583685, 0.0036650407128036022, 0.010955515317618847, 0.003193919314071536, 0.007540615741163492, 0.02923792600631714, 0.006063177715986967, 0.013115975074470043, 0.011904201470315456, 0.0017267181538045406, 0.0064397952519357204, 0.00010052066500065848, 0.006315669044852257, 0.009491002187132835, 0.021003378555178642, 0.02288343757390976, 0.012047680094838142, 0.01115906611084938, 0.0007776306592859328, 0.0014065370196476579, 0.08501727879047394, 0.0010347244096919894, 0.0034963726066052914, 0.00026731478283181787, 0.0009171562851406634, 0.011121475137770176, 0.0031411328818649054, 0.0320533886551857, 0.007902860641479492, 0.015527931042015553, 0.006060819141566753, 0.00013092822337057441, 0.010473238304257393, 0.0008837950881570578, 0.0022158436477184296, 0.002648299792781472, 0.020328335464000702, 0.05735126510262489, 0.007871590554714203, 0.011960056610405445, 0.018616605550050735, 0.11721605807542801, 0.0, 0.0, 0.0], [0.016200507059693336, 0.029015984386205673, 0.0635654404759407, 0.003491003066301346, 0.008626153692603111, 0.0016282264841720462, 0.006100255995988846, 0.002551458775997162, 0.012673713266849518, 0.002611121628433466, 0.009513183496892452, 0.0011043139966204762, 0.01757051981985569, 0.0057525928132236, 0.007397441193461418, 0.00223829154856503, 0.013361643068492413, 0.007296825293451548, 0.011316449381411076, 0.003883840749040246, 0.00829190295189619, 0.0038554235361516476, 0.0017376388423144817, 0.0006144440267235041, 0.0023241189774125814, 0.0019138659117743373, 0.03549712896347046, 0.004527492914348841, 0.003484215820208192, 0.005300585646182299, 0.006549333222210407, 0.002033561235293746, 0.011311779730021954, 0.001394597813487053, 0.01683780923485756, 0.0016651758924126625, 0.4268501102924347, 0.002494214801117778, 0.010774086229503155, 0.006026426330208778, 0.006397770717740059, 0.0065825204364955425, 0.008922558277845383, 0.0021465334575623274, 0.00938024278730154, 0.0036005740985274315, 0.008011557161808014, 0.0010446379892528057, 0.004588574171066284, 0.025501178577542305, 0.0027394297067075968, 0.003877373645082116, 0.010360302403569221, 0.0122657036408782, 0.004266506526619196, 0.0006720519158989191, 0.013338465243577957, 0.009731546975672245, 0.02685280330479145, 0.003694311948493123, 0.0025516303721815348, 0.019172146916389465, 0.0050177183002233505, 0.006675947457551956, 0.023225082084536552, 0.0, 0.0], [0.0009542873012833297, 0.0011754395673051476, 0.0006011269288137555, 0.1926945149898529, 1.272428471565945e-05, 4.304576123104198e-06, 0.0003354108484927565, 0.00020757963648065925, 0.01416040025651455, 0.03129918873310089, 0.017226209864020348, 3.992985512013547e-05, 0.0002615668927319348, 0.0007758696447126567, 0.00019587586575653404, 0.22471237182617188, 1.5241775145113934e-05, 2.5562783775967546e-05, 0.0004103624087292701, 4.318352512200363e-05, 0.0015365304425358772, 0.016825661063194275, 0.03598128259181976, 0.000357344833901152, 0.00013469137775246054, 5.9274832892697304e-05, 0.0002961487043648958, 0.06737961620092392, 0.0008253349806182086, 0.0013097316259518266, 0.0004057243058923632, 5.511120889423182e-06, 0.00043387035839259624, 0.025777291506528854, 0.003012262051925063, 0.006733193062245846, 4.803091087524081e-06, 1.651532693358604e-05, 0.0006306626601144671, 0.00984761118888855, 0.004890043288469315, 0.0027325826231390238, 0.004197599366307259, 8.500850526615977e-06, 0.0008854787447489798, 0.0036716533359140158, 0.00027853515348397195, 0.057050470262765884, 6.281685637077317e-05, 2.4989250960061327e-05, 0.00010497891344130039, 0.0020387028343975544, 0.005127602256834507, 0.0372893251478672, 0.0013678715331479907, 4.7470857680309564e-05, 0.00010328248754376546, 0.0006602402427233756, 0.0005192136741243303, 0.19001668691635132, 0.0003211009898222983, 0.00030444824369624257, 0.0003068007936235517, 0.0005409987643361092, 0.029840221628546715, 0.0008842480019666255, 0.0], [0.013488071039319038, 0.050272561609745026, 0.03967523202300072, 0.007360818795859814, 0.022388668730854988, 0.0033661217894405127, 0.007712801452726126, 0.008612405508756638, 0.04837661236524582, 0.08650314062833786, 0.011593949049711227, 0.003972189500927925, 0.027814311906695366, 0.0077456822618842125, 0.014283466152846813, 0.003429384669288993, 0.018181588500738144, 0.0024002287536859512, 0.016390245407819748, 0.010738232173025608, 0.06296613067388535, 0.07434646040201187, 0.017481794580817223, 0.001590560539625585, 0.014387317933142185, 0.0018196366727352142, 0.004843423143029213, 0.007016334682703018, 0.007801100146025419, 0.004053098615258932, 0.009606479667127132, 0.004302229266613722, 0.012124231085181236, 0.03472287952899933, 0.009020859375596046, 0.0025338064879179, 0.01757120154798031, 0.0005381525843404233, 0.0032947147265076637, 0.0066502150148153305, 0.007939855568110943, 0.013683173805475235, 0.011053428053855896, 0.006093267351388931, 0.010635390877723694, 0.007197691593319178, 0.007386535406112671, 0.0025609838776290417, 0.0075668287463486195, 0.00113943952601403, 0.006766917649656534, 0.012433883734047413, 0.017238762229681015, 0.02494988404214382, 0.0165988951921463, 0.0067632803693413734, 0.017283577471971512, 0.004790332168340683, 0.002267920644953847, 0.004752814769744873, 0.007044446188956499, 0.0024953812826424837, 0.02062106318771839, 0.010284919291734695, 0.03227047249674797, 0.01380197238177061, 0.023402664810419083]], [[1.0, 0.0, 0.0, 0.0, 0.0, 0.0, 0.0, 0.0, 0.0, 0.0, 0.0, 0.0, 0.0, 0.0, 0.0, 0.0, 0.0, 0.0, 0.0, 0.0, 0.0, 0.0, 0.0, 0.0, 0.0, 0.0, 0.0, 0.0, 0.0, 0.0, 0.0, 0.0, 0.0, 0.0, 0.0, 0.0, 0.0, 0.0, 0.0, 0.0, 0.0, 0.0, 0.0, 0.0, 0.0, 0.0, 0.0, 0.0, 0.0, 0.0, 0.0, 0.0, 0.0, 0.0, 0.0, 0.0, 0.0, 0.0, 0.0, 0.0, 0.0, 0.0, 0.0, 0.0, 0.0, 0.0, 0.0], [0.8210592269897461, 0.1789407879114151, 0.0, 0.0, 0.0, 0.0, 0.0, 0.0, 0.0, 0.0, 0.0, 0.0, 0.0, 0.0, 0.0, 0.0, 0.0, 0.0, 0.0, 0.0, 0.0, 0.0, 0.0, 0.0, 0.0, 0.0, 0.0, 0.0, 0.0, 0.0, 0.0, 0.0, 0.0, 0.0, 0.0, 0.0, 0.0, 0.0, 0.0, 0.0, 0.0, 0.0, 0.0, 0.0, 0.0, 0.0, 0.0, 0.0, 0.0, 0.0, 0.0, 0.0, 0.0, 0.0, 0.0, 0.0, 0.0, 0.0, 0.0, 0.0, 0.0, 0.0, 0.0, 0.0, 0.0, 0.0, 0.0], [0.42275869846343994, 0.18591342866420746, 0.3913278579711914, 0.0, 0.0, 0.0, 0.0, 0.0, 0.0, 0.0, 0.0, 0.0, 0.0, 0.0, 0.0, 0.0, 0.0, 0.0, 0.0, 0.0, 0.0, 0.0, 0.0, 0.0, 0.0, 0.0, 0.0, 0.0, 0.0, 0.0, 0.0, 0.0, 0.0, 0.0, 0.0, 0.0, 0.0, 0.0, 0.0, 0.0, 0.0, 0.0, 0.0, 0.0, 0.0, 0.0, 0.0, 0.0, 0.0, 0.0, 0.0, 0.0, 0.0, 0.0, 0.0, 0.0, 0.0, 0.0, 0.0, 0.0, 0.0, 0.0, 0.0, 0.0, 0.0, 0.0, 0.0], [0.26043352484703064, 0.34720760583877563, 0.17940986156463623, 0.21294903755187988, 0.0, 0.0, 0.0, 0.0, 0.0, 0.0, 0.0, 0.0, 0.0, 0.0, 0.0, 0.0, 0.0, 0.0, 0.0, 0.0, 0.0, 0.0, 0.0, 0.0, 0.0, 0.0, 0.0, 0.0, 0.0, 0.0, 0.0, 0.0, 0.0, 0.0, 0.0, 0.0, 0.0, 0.0, 0.0, 0.0, 0.0, 0.0, 0.0, 0.0, 0.0, 0.0, 0.0, 0.0, 0.0, 0.0, 0.0, 0.0, 0.0, 0.0, 0.0, 0.0, 0.0, 0.0, 0.0, 0.0, 0.0, 0.0, 0.0, 0.0, 0.0, 0.0, 0.0], [0.1017051488161087, 0.06426698714494705, 0.019423814490437508, 0.7713309526443481, 0.043273117393255234, 0.0, 0.0, 0.0, 0.0, 0.0, 0.0, 0.0, 0.0, 0.0, 0.0, 0.0, 0.0, 0.0, 0.0, 0.0, 0.0, 0.0, 0.0, 0.0, 0.0, 0.0, 0.0, 0.0, 0.0, 0.0, 0.0, 0.0, 0.0, 0.0, 0.0, 0.0, 0.0, 0.0, 0.0, 0.0, 0.0, 0.0, 0.0, 0.0, 0.0, 0.0, 0.0, 0.0, 0.0, 0.0, 0.0, 0.0, 0.0, 0.0, 0.0, 0.0, 0.0, 0.0, 0.0, 0.0, 0.0, 0.0, 0.0, 0.0, 0.0, 0.0, 0.0], [0.5946444869041443, 0.1194503977894783, 0.0814015343785286, 0.004902917426079512, 0.014316103421151638, 0.18528464436531067, 0.0, 0.0, 0.0, 0.0, 0.0, 0.0, 0.0, 0.0, 0.0, 0.0, 0.0, 0.0, 0.0, 0.0, 0.0, 0.0, 0.0, 0.0, 0.0, 0.0, 0.0, 0.0, 0.0, 0.0, 0.0, 0.0, 0.0, 0.0, 0.0, 0.0, 0.0, 0.0, 0.0, 0.0, 0.0, 0.0, 0.0, 0.0, 0.0, 0.0, 0.0, 0.0, 0.0, 0.0, 0.0, 0.0, 0.0, 0.0, 0.0, 0.0, 0.0, 0.0, 0.0, 0.0, 0.0, 0.0, 0.0, 0.0, 0.0, 0.0, 0.0], [0.050979726016521454, 0.6498185992240906, 0.2439500391483307, 0.008832055144011974, 0.0026133288629353046, 0.007344388868659735, 0.036461878567934036, 0.0, 0.0, 0.0, 0.0, 0.0, 0.0, 0.0, 0.0, 0.0, 0.0, 0.0, 0.0, 0.0, 0.0, 0.0, 0.0, 0.0, 0.0, 0.0, 0.0, 0.0, 0.0, 0.0, 0.0, 0.0, 0.0, 0.0, 0.0, 0.0, 0.0, 0.0, 0.0, 0.0, 0.0, 0.0, 0.0, 0.0, 0.0, 0.0, 0.0, 0.0, 0.0, 0.0, 0.0, 0.0, 0.0, 0.0, 0.0, 0.0, 0.0, 0.0, 0.0, 0.0, 0.0, 0.0, 0.0, 0.0, 0.0, 0.0, 0.0], [0.3477816581726074, 0.02491203136742115, 0.027699001133441925, 0.1240972951054573, 0.05781831219792366, 0.12516510486602783, 0.12804266810417175, 0.1644839495420456, 0.0, 0.0, 0.0, 0.0, 0.0, 0.0, 0.0, 0.0, 0.0, 0.0, 0.0, 0.0, 0.0, 0.0, 0.0, 0.0, 0.0, 0.0, 0.0, 0.0, 0.0, 0.0, 0.0, 0.0, 0.0, 0.0, 0.0, 0.0, 0.0, 0.0, 0.0, 0.0, 0.0, 0.0, 0.0, 0.0, 0.0, 0.0, 0.0, 0.0, 0.0, 0.0, 0.0, 0.0, 0.0, 0.0, 0.0, 0.0, 0.0, 0.0, 0.0, 0.0, 0.0, 0.0, 0.0, 0.0, 0.0, 0.0, 0.0], [0.12938307225704193, 0.0459701344370842, 0.09158993512392044, 0.025588320568203926, 0.06969328224658966, 0.12831346690654755, 0.049178946763277054, 0.4096136689186096, 0.050669215619564056, 0.0, 0.0, 0.0, 0.0, 0.0, 0.0, 0.0, 0.0, 0.0, 0.0, 0.0, 0.0, 0.0, 0.0, 0.0, 0.0, 0.0, 0.0, 0.0, 0.0, 0.0, 0.0, 0.0, 0.0, 0.0, 0.0, 0.0, 0.0, 0.0, 0.0, 0.0, 0.0, 0.0, 0.0, 0.0, 0.0, 0.0, 0.0, 0.0, 0.0, 0.0, 0.0, 0.0, 0.0, 0.0, 0.0, 0.0, 0.0, 0.0, 0.0, 0.0, 0.0, 0.0, 0.0, 0.0, 0.0, 0.0, 0.0], [0.14858348667621613, 0.24513480067253113, 0.1629021167755127, 0.010130029171705246, 0.03440791741013527, 0.0878051221370697, 0.09438543766736984, 0.012163433246314526, 0.11914360523223877, 0.08534401655197144, 0.0, 0.0, 0.0, 0.0, 0.0, 0.0, 0.0, 0.0, 0.0, 0.0, 0.0, 0.0, 0.0, 0.0, 0.0, 0.0, 0.0, 0.0, 0.0, 0.0, 0.0, 0.0, 0.0, 0.0, 0.0, 0.0, 0.0, 0.0, 0.0, 0.0, 0.0, 0.0, 0.0, 0.0, 0.0, 0.0, 0.0, 0.0, 0.0, 0.0, 0.0, 0.0, 0.0, 0.0, 0.0, 0.0, 0.0, 0.0, 0.0, 0.0, 0.0, 0.0, 0.0, 0.0, 0.0, 0.0, 0.0], [0.0019347514025866985, 0.001322430558502674, 0.0009225843823514879, 0.06549892574548721, 0.11238531768321991, 0.005191628821194172, 0.0001402216439601034, 0.018784115090966225, 0.7765651345252991, 0.0012258474016562104, 0.016028987243771553, 0.0, 0.0, 0.0, 0.0, 0.0, 0.0, 0.0, 0.0, 0.0, 0.0, 0.0, 0.0, 0.0, 0.0, 0.0, 0.0, 0.0, 0.0, 0.0, 0.0, 0.0, 0.0, 0.0, 0.0, 0.0, 0.0, 0.0, 0.0, 0.0, 0.0, 0.0, 0.0, 0.0, 0.0, 0.0, 0.0, 0.0, 0.0, 0.0, 0.0, 0.0, 0.0, 0.0, 0.0, 0.0, 0.0, 0.0, 0.0, 0.0, 0.0, 0.0, 0.0, 0.0, 0.0, 0.0, 0.0], [0.08095525950193405, 0.0024896361865103245, 0.004191090818494558, 0.06650406122207642, 0.03291447460651398, 0.022841759026050568, 0.2911120355129242, 0.030684741213917732, 0.0034256421495229006, 0.34669533371925354, 0.04423317313194275, 0.07395271211862564, 0.0, 0.0, 0.0, 0.0, 0.0, 0.0, 0.0, 0.0, 0.0, 0.0, 0.0, 0.0, 0.0, 0.0, 0.0, 0.0, 0.0, 0.0, 0.0, 0.0, 0.0, 0.0, 0.0, 0.0, 0.0, 0.0, 0.0, 0.0, 0.0, 0.0, 0.0, 0.0, 0.0, 0.0, 0.0, 0.0, 0.0, 0.0, 0.0, 0.0, 0.0, 0.0, 0.0, 0.0, 0.0, 0.0, 0.0, 0.0, 0.0, 0.0, 0.0, 0.0, 0.0, 0.0, 0.0], [0.027659032493829727, 0.0074655585922300816, 0.003861078293994069, 0.012136799283325672, 0.023031247779726982, 0.11025019735097885, 0.05580596253275871, 0.004969412460923195, 0.010147655382752419, 0.6025233864784241, 0.02099529281258583, 0.06637780368328094, 0.05477670580148697, 0.0, 0.0, 0.0, 0.0, 0.0, 0.0, 0.0, 0.0, 0.0, 0.0, 0.0, 0.0, 0.0, 0.0, 0.0, 0.0, 0.0, 0.0, 0.0, 0.0, 0.0, 0.0, 0.0, 0.0, 0.0, 0.0, 0.0, 0.0, 0.0, 0.0, 0.0, 0.0, 0.0, 0.0, 0.0, 0.0, 0.0, 0.0, 0.0, 0.0, 0.0, 0.0, 0.0, 0.0, 0.0, 0.0, 0.0, 0.0, 0.0, 0.0, 0.0, 0.0, 0.0, 0.0], [0.022984620183706284, 0.08662404119968414, 0.06074690818786621, 0.0149902468547225, 0.026846157386898994, 0.008096961304545403, 0.0006972628179937601, 0.014546709135174751, 0.7145891189575195, 0.001744249602779746, 0.023046394810080528, 0.0009395201341249049, 0.00697525218129158, 0.017172543331980705, 0.0, 0.0, 0.0, 0.0, 0.0, 0.0, 0.0, 0.0, 0.0, 0.0, 0.0, 0.0, 0.0, 0.0, 0.0, 0.0, 0.0, 0.0, 0.0, 0.0, 0.0, 0.0, 0.0, 0.0, 0.0, 0.0, 0.0, 0.0, 0.0, 0.0, 0.0, 0.0, 0.0, 0.0, 0.0, 0.0, 0.0, 0.0, 0.0, 0.0, 0.0, 0.0, 0.0, 0.0, 0.0, 0.0, 0.0, 0.0, 0.0, 0.0, 0.0, 0.0, 0.0], [0.030260581523180008, 0.0058603291399776936, 0.01790262572467327, 0.0067311241291463375, 0.014429288916289806, 0.006620388012379408, 0.08557610213756561, 0.06072847172617912, 0.005585926119238138, 0.02438655123114586, 0.018801746889948845, 0.02432914637029171, 0.3838997185230255, 0.015954667702317238, 0.29893335700035095, 0.0, 0.0, 0.0, 0.0, 0.0, 0.0, 0.0, 0.0, 0.0, 0.0, 0.0, 0.0, 0.0, 0.0, 0.0, 0.0, 0.0, 0.0, 0.0, 0.0, 0.0, 0.0, 0.0, 0.0, 0.0, 0.0, 0.0, 0.0, 0.0, 0.0, 0.0, 0.0, 0.0, 0.0, 0.0, 0.0, 0.0, 0.0, 0.0, 0.0, 0.0, 0.0, 0.0, 0.0, 0.0, 0.0, 0.0, 0.0, 0.0, 0.0, 0.0, 0.0], [0.06823216378688812, 0.013156348839402199, 0.005728501360863447, 0.03983773663640022, 0.007615592330694199, 0.00998462364077568, 0.4517574906349182, 0.03564668074250221, 0.0001851777924457565, 0.07618565857410431, 0.012323906645178795, 0.030550414696335793, 0.004637801554054022, 0.15270407497882843, 0.038958609104156494, 0.052495233714580536, 0.0, 0.0, 0.0, 0.0, 0.0, 0.0, 0.0, 0.0, 0.0, 0.0, 0.0, 0.0, 0.0, 0.0, 0.0, 0.0, 0.0, 0.0, 0.0, 0.0, 0.0, 0.0, 0.0, 0.0, 0.0, 0.0, 0.0, 0.0, 0.0, 0.0, 0.0, 0.0, 0.0, 0.0, 0.0, 0.0, 0.0, 0.0, 0.0, 0.0, 0.0, 0.0, 0.0, 0.0, 0.0, 0.0, 0.0, 0.0, 0.0, 0.0, 0.0], [0.031445976346731186, 0.025260625407099724, 0.015132121741771698, 0.031441375613212585, 0.012125218287110329, 0.1596604287624359, 0.05081595480442047, 0.016711782664060593, 0.0028564133681356907, 0.08090352267026901, 0.003471989184617996, 0.016767213121056557, 0.004327254835516214, 0.3683251440525055, 0.01261234749108553, 0.13686738908290863, 0.031275272369384766, 0.0, 0.0, 0.0, 0.0, 0.0, 0.0, 0.0, 0.0, 0.0, 0.0, 0.0, 0.0, 0.0, 0.0, 0.0, 0.0, 0.0, 0.0, 0.0, 0.0, 0.0, 0.0, 0.0, 0.0, 0.0, 0.0, 0.0, 0.0, 0.0, 0.0, 0.0, 0.0, 0.0, 0.0, 0.0, 0.0, 0.0, 0.0, 0.0, 0.0, 0.0, 0.0, 0.0, 0.0, 0.0, 0.0, 0.0, 0.0, 0.0, 0.0], [0.025877971202135086, 0.0035760265309363604, 0.007296895608305931, 0.0018775943899527192, 0.0030514418613165617, 0.0022690733894705772, 0.004313058685511351, 0.004570120945572853, 0.8704841136932373, 0.007211048621684313, 0.0024737881030887365, 0.00129165337421, 0.05050801858305931, 0.0013039771001785994, 0.010002187453210354, 0.0007504245149902999, 0.0003538904420565814, 0.0027887902688235044, 0.0, 0.0, 0.0, 0.0, 0.0, 0.0, 0.0, 0.0, 0.0, 0.0, 0.0, 0.0, 0.0, 0.0, 0.0, 0.0, 0.0, 0.0, 0.0, 0.0, 0.0, 0.0, 0.0, 0.0, 0.0, 0.0, 0.0, 0.0, 0.0, 0.0, 0.0, 0.0, 0.0, 0.0, 0.0, 0.0, 0.0, 0.0, 0.0, 0.0, 0.0, 0.0, 0.0, 0.0, 0.0, 0.0, 0.0, 0.0, 0.0], [0.04289475083351135, 0.03723553195595741, 0.010372619144618511, 0.054607994854450226, 0.03467681258916855, 0.06820929795503616, 0.025093678385019302, 0.0677172988653183, 0.0367838591337204, 0.16840626299381256, 0.010503341443836689, 0.04397789388895035, 0.015069657005369663, 0.11393862217664719, 0.02161574922502041, 0.05138954892754555, 0.021395450457930565, 0.1613989919424057, 0.014712649397552013, 0.0, 0.0, 0.0, 0.0, 0.0, 0.0, 0.0, 0.0, 0.0, 0.0, 0.0, 0.0, 0.0, 0.0, 0.0, 0.0, 0.0, 0.0, 0.0, 0.0, 0.0, 0.0, 0.0, 0.0, 0.0, 0.0, 0.0, 0.0, 0.0, 0.0, 0.0, 0.0, 0.0, 0.0, 0.0, 0.0, 0.0, 0.0, 0.0, 0.0, 0.0, 0.0, 0.0, 0.0, 0.0, 0.0, 0.0, 0.0], [0.10683921724557877, 0.009566975757479668, 0.012770378962159157, 0.03482504189014435, 0.012190829031169415, 0.06463956087827682, 0.22622862458229065, 0.030898835510015488, 0.0013118116185069084, 0.07379166781902313, 0.012441509403288364, 0.04733426496386528, 0.00021376294898800552, 0.046367283910512924, 0.018267296254634857, 0.031707633286714554, 0.036815132945775986, 0.12253793329000473, 0.06009979918599129, 0.05115242674946785, 0.0, 0.0, 0.0, 0.0, 0.0, 0.0, 0.0, 0.0, 0.0, 0.0, 0.0, 0.0, 0.0, 0.0, 0.0, 0.0, 0.0, 0.0, 0.0, 0.0, 0.0, 0.0, 0.0, 0.0, 0.0, 0.0, 0.0, 0.0, 0.0, 0.0, 0.0, 0.0, 0.0, 0.0, 0.0, 0.0, 0.0, 0.0, 0.0, 0.0, 0.0, 0.0, 0.0, 0.0, 0.0, 0.0, 0.0], [0.006439711898565292, 0.002621575491502881, 0.0025867444928735495, 0.002265684772282839, 0.008533021435141563, 0.020135916769504547, 0.001589795108884573, 0.007080798968672752, 0.0029939073137938976, 0.19529148936271667, 0.001009217812679708, 0.0030377572402358055, 0.0003844212624244392, 0.13992424309253693, 0.0025013017002493143, 0.0027317518834024668, 0.003061933210119605, 0.5506783127784729, 0.002902042120695114, 0.037384383380413055, 0.006845877505838871, 0.0, 0.0, 0.0, 0.0, 0.0, 0.0, 0.0, 0.0, 0.0, 0.0, 0.0, 0.0, 0.0, 0.0, 0.0, 0.0, 0.0, 0.0, 0.0, 0.0, 0.0, 0.0, 0.0, 0.0, 0.0, 0.0, 0.0, 0.0, 0.0, 0.0, 0.0, 0.0, 0.0, 0.0, 0.0, 0.0, 0.0, 0.0, 0.0, 0.0, 0.0, 0.0, 0.0, 0.0, 0.0, 0.0], [0.021873436868190765, 0.0065977973863482475, 0.004777195863425732, 0.022266043350100517, 0.005173324607312679, 0.001317906309850514, 0.016027338802814484, 0.002492152852937579, 0.8072677850723267, 0.003706868039444089, 0.005207352340221405, 0.004602037835866213, 0.037674058228731155, 0.003932674881070852, 0.01177136693149805, 0.005516373552381992, 0.004161327611654997, 0.003089366015046835, 0.017303206026554108, 0.0018393611535429955, 0.0020489697344601154, 0.011354092508554459, 0.0, 0.0, 0.0, 0.0, 0.0, 0.0, 0.0, 0.0, 0.0, 0.0, 0.0, 0.0, 0.0, 0.0, 0.0, 0.0, 0.0, 0.0, 0.0, 0.0, 0.0, 0.0, 0.0, 0.0, 0.0, 0.0, 0.0, 0.0, 0.0, 0.0, 0.0, 0.0, 0.0, 0.0, 0.0, 0.0, 0.0, 0.0, 0.0, 0.0, 0.0, 0.0, 0.0, 0.0, 0.0], [0.021596964448690414, 0.00044176733354106545, 0.0010092876618728042, 0.011900616809725761, 0.0808294340968132, 0.1094297245144844, 0.063713937997818, 0.009017433039844036, 0.004393048118799925, 0.0918840691447258, 0.0026115616783499718, 0.006749795284122229, 0.017893804237246513, 0.027168309316039085, 0.00444788858294487, 0.046758271753787994, 0.06925588101148605, 0.026456069201231003, 0.00604579783976078, 0.01596185751259327, 0.26910385489463806, 0.026513777673244476, 0.08681686222553253, 0.0, 0.0, 0.0, 0.0, 0.0, 0.0, 0.0, 0.0, 0.0, 0.0, 0.0, 0.0, 0.0, 0.0, 0.0, 0.0, 0.0, 0.0, 0.0, 0.0, 0.0, 0.0, 0.0, 0.0, 0.0, 0.0, 0.0, 0.0, 0.0, 0.0, 0.0, 0.0, 0.0, 0.0, 0.0, 0.0, 0.0, 0.0, 0.0, 0.0, 0.0, 0.0, 0.0, 0.0], [0.020958982408046722, 0.009246227331459522, 0.011765580624341965, 0.013346279971301556, 0.00956965796649456, 0.014737218618392944, 0.31132152676582336, 0.010551771149039268, 2.029545430559665e-05, 0.11834744364023209, 0.006094588432461023, 0.019173886626958847, 0.00039328442653641105, 0.08885402232408524, 0.005993895698338747, 0.023177580907940865, 0.01859915442764759, 0.06495649367570877, 0.06965243071317673, 0.01814301684498787, 0.030567409470677376, 0.10127098113298416, 0.011080245487391949, 0.022178122773766518, 0.0, 0.0, 0.0, 0.0, 0.0, 0.0, 0.0, 0.0, 0.0, 0.0, 0.0, 0.0, 0.0, 0.0, 0.0, 0.0, 0.0, 0.0, 0.0, 0.0, 0.0, 0.0, 0.0, 0.0, 0.0, 0.0, 0.0, 0.0, 0.0, 0.0, 0.0, 0.0, 0.0, 0.0, 0.0, 0.0, 0.0, 0.0, 0.0, 0.0, 0.0, 0.0, 0.0], [0.004549997393041849, 0.0027668913826346397, 0.002129175467416644, 0.001975954743102193, 0.004881476517766714, 0.008407460525631905, 0.002406959654763341, 0.0009729968733154237, 0.009741502813994884, 0.08055824041366577, 0.0042560650035738945, 0.0027882519643753767, 0.005977246444672346, 0.1269017904996872, 0.0067419204860925674, 0.0014133326476439834, 0.002729982603341341, 0.32804110646247864, 0.004897610284388065, 0.0016188028967007995, 0.009050221182405949, 0.34939146041870117, 0.0016903089126572013, 0.006308169104158878, 0.029803164303302765, 0.0, 0.0, 0.0, 0.0, 0.0, 0.0, 0.0, 0.0, 0.0, 0.0, 0.0, 0.0, 0.0, 0.0, 0.0, 0.0, 0.0, 0.0, 0.0, 0.0, 0.0, 0.0, 0.0, 0.0, 0.0, 0.0, 0.0, 0.0, 0.0, 0.0, 0.0, 0.0, 0.0, 0.0, 0.0, 0.0, 0.0, 0.0, 0.0, 0.0, 0.0, 0.0], [0.05609831213951111, 0.013838697224855423, 0.01779375597834587, 0.01906539686024189, 0.05454869195818901, 0.012235733680427074, 0.012923449277877808, 0.01409611850976944, 0.3007453978061676, 0.0014536235248669982, 0.0016886498779058456, 0.0011561665451154113, 0.3872453570365906, 0.0007803298649378121, 0.01740000955760479, 0.018873000517487526, 0.012730313464999199, 0.0010962149826809764, 0.005026893224567175, 0.005747703835368156, 0.01254494208842516, 0.00508850859478116, 0.015409671701490879, 0.0003739306703209877, 4.997086216462776e-05, 0.011989138089120388, 0.0, 0.0, 0.0, 0.0, 0.0, 0.0, 0.0, 0.0, 0.0, 0.0, 0.0, 0.0, 0.0, 0.0, 0.0, 0.0, 0.0, 0.0, 0.0, 0.0, 0.0, 0.0, 0.0, 0.0, 0.0, 0.0, 0.0, 0.0, 0.0, 0.0, 0.0, 0.0, 0.0, 0.0, 0.0, 0.0, 0.0, 0.0, 0.0, 0.0, 0.0], [0.009525074623525143, 0.00018599200120661408, 0.0004923461237922311, 0.0006643608794547617, 0.003371442435309291, 0.004844565410166979, 0.009840858168900013, 0.0007004159269854426, 2.7892614525626414e-05, 0.037203848361968994, 0.00034184378455393016, 0.0011485860450193286, 0.00948611181229353, 0.055421069264411926, 0.0037078300956636667, 0.003097108332440257, 0.0030097707640379667, 0.4866642355918884, 0.006160654127597809, 0.0023273180704563856, 0.004250109661370516, 0.2713986933231354, 0.00020073942141607404, 0.0008277978631667793, 0.0004905277164652944, 0.0836995467543602, 0.0009113352280110121, 0.0, 0.0, 0.0, 0.0, 0.0, 0.0, 0.0, 0.0, 0.0, 0.0, 0.0, 0.0, 0.0, 0.0, 0.0, 0.0, 0.0, 0.0, 0.0, 0.0, 0.0, 0.0, 0.0, 0.0, 0.0, 0.0, 0.0, 0.0, 0.0, 0.0, 0.0, 0.0, 0.0, 0.0, 0.0, 0.0, 0.0, 0.0, 0.0, 0.0], [0.029728319495916367, 0.013095707632601261, 0.005511792376637459, 0.017558114603161812, 0.0025746270548552275, 0.014760791324079037, 0.0658164843916893, 0.009595111943781376, 0.00012159942707512528, 0.05267985165119171, 0.014176678843796253, 0.014937418513000011, 1.1459642337285914e-05, 0.17435982823371887, 0.0027566757053136826, 0.02078351564705372, 0.009362878277897835, 0.12221711128950119, 0.02840694971382618, 0.03880427032709122, 0.04381122067570686, 0.08819173276424408, 0.003419764107093215, 0.02227090299129486, 0.014000281691551208, 0.1310737580060959, 0.0310016218572855, 0.028971675783395767, 0.0, 0.0, 0.0, 0.0, 0.0, 0.0, 0.0, 0.0, 0.0, 0.0, 0.0, 0.0, 0.0, 0.0, 0.0, 0.0, 0.0, 0.0, 0.0, 0.0, 0.0, 0.0, 0.0, 0.0, 0.0, 0.0, 0.0, 0.0, 0.0, 0.0, 0.0, 0.0, 0.0, 0.0, 0.0, 0.0, 0.0, 0.0, 0.0], [0.007372079882770777, 0.0012994440039619803, 0.0013672836357727647, 0.0011004279367625713, 0.00035059318179264665, 0.004807179793715477, 0.003195612458512187, 0.0009926536586135626, 0.003909948747605085, 0.02290535904467106, 0.0008025242132134736, 0.0005231086979620159, 0.00016592704923823476, 0.21762393414974213, 0.0024650110863149166, 0.00230091018602252, 0.0013414050918072462, 0.28518620133399963, 0.0017571921925991774, 0.0011567131150513887, 0.003906246041879058, 0.16773971915245056, 0.00023778357717674226, 0.0013242003042250872, 0.0004394644347485155, 0.23670826852321625, 0.01594073511660099, 0.007660076953470707, 0.005420020315796137, 0.0, 0.0, 0.0, 0.0, 0.0, 0.0, 0.0, 0.0, 0.0, 0.0, 0.0, 0.0, 0.0, 0.0, 0.0, 0.0, 0.0, 0.0, 0.0, 0.0, 0.0, 0.0, 0.0, 0.0, 0.0, 0.0, 0.0, 0.0, 0.0, 0.0, 0.0, 0.0, 0.0, 0.0, 0.0, 0.0, 0.0, 0.0], [0.00239674118347466, 0.002595307771116495, 0.0006586266099475324, 0.0008642985485494137, 0.007135269697755575, 0.00684524467214942, 0.0015285959234461188, 0.00027509976644068956, 0.000936872442252934, 0.008813370019197464, 0.0014686526264995337, 0.0013634682400152087, 1.5153360436670482e-05, 0.002345990389585495, 0.0006720811361446977, 0.000220164394704625, 0.0006953118136152625, 0.000650405534543097, 0.000689971202518791, 0.001208534580655396, 0.0014018056681379676, 0.0017762004863470793, 0.002923385240137577, 0.0004907372058369219, 0.9439391493797302, 0.0005152756930328906, 0.0034562579821795225, 0.0004672649665735662, 0.001579316915012896, 0.0020715289283543825, 0.0, 0.0, 0.0, 0.0, 0.0, 0.0, 0.0, 0.0, 0.0, 0.0, 0.0, 0.0, 0.0, 0.0, 0.0, 0.0, 0.0, 0.0, 0.0, 0.0, 0.0, 0.0, 0.0, 0.0, 0.0, 0.0, 0.0, 0.0, 0.0, 0.0, 0.0, 0.0, 0.0, 0.0, 0.0, 0.0, 0.0], [0.04013671353459358, 0.022444240748882294, 0.020284738391637802, 0.0010076366597786546, 0.004883600864559412, 0.022288229316473007, 0.011007802560925484, 0.0047431583516299725, 0.02145981416106224, 0.008535291999578476, 0.0886816680431366, 0.00906095840036869, 0.026551803573966026, 0.062168966978788376, 0.01685364544391632, 0.003761925268918276, 0.008895284496247768, 0.10715082287788391, 0.0024926476180553436, 0.005432625766843557, 0.07878753542900085, 0.013441435992717743, 0.008935760706663132, 0.015599819831550121, 0.022231660783290863, 0.014909440651535988, 0.0304082240909338, 0.005267777014523745, 0.05957866832613945, 0.001635283580981195, 0.26136282086372375, 0.0, 0.0, 0.0, 0.0, 0.0, 0.0, 0.0, 0.0, 0.0, 0.0, 0.0, 0.0, 0.0, 0.0, 0.0, 0.0, 0.0, 0.0, 0.0, 0.0, 0.0, 0.0, 0.0, 0.0, 0.0, 0.0, 0.0, 0.0, 0.0, 0.0, 0.0, 0.0, 0.0, 0.0, 0.0, 0.0], [0.03519809618592262, 0.002894810400903225, 0.008682473562657833, 0.015354081988334656, 0.004507905803620815, 0.01154362317174673, 0.04593261703848839, 0.017555762082338333, 0.00310946861281991, 0.058690402656793594, 0.012415106408298016, 0.012412936426699162, 0.0004712048394139856, 0.03289639949798584, 0.0151418661698699, 0.010934030637145042, 0.00574844004586339, 0.0649956539273262, 0.04230377450585365, 0.023655755445361137, 0.021438509225845337, 0.027588605880737305, 0.005630294792354107, 0.029946668073534966, 0.0003010679211001843, 0.05274045839905739, 0.018133802339434624, 0.016715161502361298, 0.038045741617679596, 0.3232349455356598, 0.021286925300955772, 0.020493481308221817, 0.0, 0.0, 0.0, 0.0, 0.0, 0.0, 0.0, 0.0, 0.0, 0.0, 0.0, 0.0, 0.0, 0.0, 0.0, 0.0, 0.0, 0.0, 0.0, 0.0, 0.0, 0.0, 0.0, 0.0, 0.0, 0.0, 0.0, 0.0, 0.0, 0.0, 0.0, 0.0, 0.0, 0.0, 0.0], [0.0011592310620471835, 0.0003777791280299425, 0.0007671345956623554, 8.123333827825263e-05, 0.000663254817482084, 0.0009905084734782577, 0.0008832094608806074, 0.00047196168452501297, 0.00033084035385400057, 0.016882017254829407, 5.606449849437922e-05, 0.00043182054650969803, 0.005633014254271984, 0.014119376428425312, 0.0029116757214069366, 0.00018997966253664345, 0.0020723610650748014, 0.4560421109199524, 0.0008784059900790453, 0.001139182480983436, 0.0019777955021709204, 0.3779661953449249, 0.00015085015911608934, 0.00039104727329686284, 3.892796303262003e-05, 0.03853338956832886, 0.00038697198033332825, 0.0006126936059445143, 0.0008861527312546968, 0.06654983013868332, 0.0007709751953370869, 0.003592339577153325, 0.0020617819391191006, 0.0, 0.0, 0.0, 0.0, 0.0, 0.0, 0.0, 0.0, 0.0, 0.0, 0.0, 0.0, 0.0, 0.0, 0.0, 0.0, 0.0, 0.0, 0.0, 0.0, 0.0, 0.0, 0.0, 0.0, 0.0, 0.0, 0.0, 0.0, 0.0, 0.0, 0.0, 0.0, 0.0, 0.0], [0.014809912070631981, 0.0035736504942178726, 0.001191948540508747, 0.008529402315616608, 0.004721446894109249, 0.0037556132301688194, 0.13678312301635742, 0.0014708091039210558, 0.003595434594899416, 0.004703214857727289, 0.01974288560450077, 0.005380470305681229, 0.0025878034066408873, 0.004631685093045235, 0.005278748460114002, 0.003450613236054778, 0.0008438996155746281, 0.00013767338532488793, 0.003457702463492751, 0.0006667987909168005, 0.003616092726588249, 0.0004752964887302369, 0.0035522724501788616, 0.0023827776312828064, 0.6426215767860413, 0.00048057979438453913, 0.034239333122968674, 0.004816114436835051, 0.047256726771593094, 0.0017415890470147133, 0.015933284536004066, 0.00010741982259787619, 0.0017537844832986593, 0.011710398830473423, 0.0, 0.0, 0.0, 0.0, 0.0, 0.0, 0.0, 0.0, 0.0, 0.0, 0.0, 0.0, 0.0, 0.0, 0.0, 0.0, 0.0, 0.0, 0.0, 0.0, 0.0, 0.0, 0.0, 0.0, 0.0, 0.0, 0.0, 0.0, 0.0, 0.0, 0.0, 0.0, 0.0], [0.018156873062253, 0.00029821114731021225, 0.0011694889981299639, 0.005001757759600878, 0.06153469160199165, 0.04003699868917465, 0.005098708905279636, 0.0011431400198489428, 0.014800087548792362, 0.04273518547415733, 0.006248725578188896, 0.004978597164154053, 0.029621955007314682, 0.035283733159303665, 0.018224967643618584, 0.006414876785129309, 0.020166747272014618, 0.2706218957901001, 0.045933596789836884, 0.00624085683375597, 0.04379396140575409, 0.07990273088216782, 0.008829429745674133, 0.005205646622925997, 0.013733532279729843, 0.015172472223639488, 0.02531859464943409, 0.02213161438703537, 0.0035624057054519653, 0.007424694951623678, 0.022276464849710464, 0.005071148741990328, 0.03025159239768982, 0.0019389912486076355, 0.08167561888694763, 0.0, 0.0, 0.0, 0.0, 0.0, 0.0, 0.0, 0.0, 0.0, 0.0, 0.0, 0.0, 0.0, 0.0, 0.0, 0.0, 0.0, 0.0, 0.0, 0.0, 0.0, 0.0, 0.0, 0.0, 0.0, 0.0, 0.0, 0.0, 0.0, 0.0, 0.0, 0.0], [0.009147325530648232, 0.010650320909917355, 0.006807863712310791, 0.016557827591896057, 0.003757879603654146, 0.0018204266671091318, 0.04052925482392311, 0.010575585998594761, 0.0002821593952830881, 0.03391188383102417, 0.006715577561408281, 0.013597080484032631, 0.0009332600748166442, 0.03673849254846573, 0.012430687434971333, 0.007811099756509066, 0.006193041801452637, 0.044413547962903976, 0.059168748557567596, 0.014410508796572685, 0.0030301655642688274, 0.08715968579053879, 0.0022442040499299765, 0.017850494012236595, 0.0004308711795601994, 0.03795957565307617, 0.004308105446398258, 0.024823850020766258, 0.02403976581990719, 0.18153052031993866, 0.007038636598736048, 0.013710442930459976, 0.03443188965320587, 0.19525189697742462, 0.013331206515431404, 0.016406122595071793, 0.0, 0.0, 0.0, 0.0, 0.0, 0.0, 0.0, 0.0, 0.0, 0.0, 0.0, 0.0, 0.0, 0.0, 0.0, 0.0, 0.0, 0.0, 0.0, 0.0, 0.0, 0.0, 0.0, 0.0, 0.0, 0.0, 0.0, 0.0, 0.0, 0.0, 0.0], [0.000503098068293184, 0.0010680959094315767, 0.0005151195800863206, 0.0003430094802752137, 0.00027877287357114255, 0.0003261432866565883, 0.0007816656143404543, 0.00013059430057182908, 0.00012207418330945075, 0.009160717017948627, 0.0002028403978329152, 0.0005353916785679758, 0.0002798755594994873, 0.013119775801897049, 0.001542339799925685, 0.00032769155222922564, 0.0008889797027222812, 0.10894349962472916, 0.001401080982759595, 0.00027485896134749055, 0.0005297560710459948, 0.3367888629436493, 0.00026247106143273413, 0.0007751256925985217, 0.00018738892686087638, 0.05728224292397499, 0.0002948516921605915, 0.0006999251781962812, 0.0008922526030801237, 0.12537643313407898, 0.00015582569176331162, 0.0007818926242180169, 0.0010815152199938893, 0.3318811058998108, 0.00026894776965491474, 0.0017787005053833127, 0.0002171014784835279, 0.0, 0.0, 0.0, 0.0, 0.0, 0.0, 0.0, 0.0, 0.0, 0.0, 0.0, 0.0, 0.0, 0.0, 0.0, 0.0, 0.0, 0.0, 0.0, 0.0, 0.0, 0.0, 0.0, 0.0, 0.0, 0.0, 0.0, 0.0, 0.0, 0.0], [0.012231254950165749, 0.0026604903396219015, 0.0009570118272677064, 0.0010189578169956803, 0.01242306362837553, 0.003797279205173254, 0.0020199893042445183, 0.0019058753969147801, 0.005932664033025503, 0.004977857694029808, 0.0026667050551623106, 0.0014012641040608287, 0.0011692639673128724, 0.006406241096556187, 0.0011342777870595455, 0.0003460008592810482, 0.0006420660647563636, 0.0022688941098749638, 0.0006776400259695947, 0.004816430155187845, 0.0021400009281933308, 0.0006829753401689231, 0.0005219384911470115, 0.0006623693625442684, 0.8970588445663452, 0.0004214809450786561, 0.004926335997879505, 0.0022066307719796896, 0.0036837677471339703, 0.0008928114548325539, 0.007622342091053724, 0.00048213242553174496, 0.003909711260348558, 0.0010949568822979927, 0.002896446967497468, 0.00029736393480561674, 0.0002317074395250529, 0.0008150115027092397, 0.0, 0.0, 0.0, 0.0, 0.0, 0.0, 0.0, 0.0, 0.0, 0.0, 0.0, 0.0, 0.0, 0.0, 0.0, 0.0, 0.0, 0.0, 0.0, 0.0, 0.0, 0.0, 0.0, 0.0, 0.0, 0.0, 0.0, 0.0, 0.0], [0.013471560552716255, 0.023705650120973587, 0.015385372564196587, 0.0025400472804903984, 0.0005843337276019156, 0.0018680525245144963, 0.002053559059277177, 0.006811012979596853, 0.00813470408320427, 0.0035486919805407524, 0.004219387657940388, 0.005363877397030592, 0.002206138102337718, 0.04066164046525955, 0.0016674486687406898, 0.0021551777608692646, 0.0018773741321638227, 0.0695040300488472, 0.002934269141405821, 0.005976955406367779, 0.003089398145675659, 0.07639923691749573, 0.0001795317803043872, 0.0038745375350117683, 0.03988449648022652, 0.21157757937908173, 0.017184434458613396, 0.014660059474408627, 0.00489772716537118, 0.12808287143707275, 0.0013118063798174262, 0.005840981844812632, 0.0018785634310916066, 0.22560237348079681, 0.0030213743448257446, 0.004388556815683842, 0.0023267040960490704, 0.03904411196708679, 0.0020864401012659073, 0.0, 0.0, 0.0, 0.0, 0.0, 0.0, 0.0, 0.0, 0.0, 0.0, 0.0, 0.0, 0.0, 0.0, 0.0, 0.0, 0.0, 0.0, 0.0, 0.0, 0.0, 0.0, 0.0, 0.0, 0.0, 0.0, 0.0, 0.0], [0.025673430413007736, 0.016487108543515205, 0.010994774289429188, 0.008584772236645222, 0.0005795623292215168, 0.004442218225449324, 0.05689019709825516, 0.012541359290480614, 0.000454425229690969, 0.00761151360347867, 0.003960643894970417, 0.012328491546213627, 0.00016266261809505522, 0.013268045149743557, 0.004470908548682928, 0.010610782541334629, 0.0036830550525337458, 0.03926410153508186, 0.009070518426597118, 0.009964246302843094, 0.013264521025121212, 0.04867323860526085, 0.0031709400936961174, 0.011962895281612873, 8.894731763575692e-06, 0.08433371037244797, 0.003149306168779731, 0.015175051987171173, 0.022714968770742416, 0.2156991958618164, 0.0031820531003177166, 0.024165470153093338, 0.028201788663864136, 0.16345006227493286, 0.00573308439925313, 0.014751237817108631, 0.013031905516982079, 0.04528690502047539, 0.018438050523400307, 0.01456394512206316, 0.0, 0.0, 0.0, 0.0, 0.0, 0.0, 0.0, 0.0, 0.0, 0.0, 0.0, 0.0, 0.0, 0.0, 0.0, 0.0, 0.0, 0.0, 0.0, 0.0, 0.0, 0.0, 0.0, 0.0, 0.0, 0.0, 0.0], [0.0012981246691197157, 0.0005043002311140299, 0.0014512180350720882, 2.0055678760400042e-05, 3.791191193158738e-05, 0.00044400960905477405, 0.00017871307500172406, 0.00011944056313950568, 0.0002512294740881771, 0.0017444546101614833, 4.197859379928559e-05, 1.0323611604690086e-05, 5.686402437277138e-05, 0.009931767359375954, 0.00010680016566766426, 7.398212619591504e-05, 0.00014538818504661322, 0.06203611195087433, 8.046276343520731e-05, 9.668026177678257e-05, 0.0011457259533926845, 0.0792524516582489, 4.025289308628999e-05, 2.0627372578019276e-05, 1.1658546100079548e-05, 0.5514731407165527, 0.0008383257663808763, 0.00017277628649026155, 0.0002501235867384821, 0.1334483027458191, 2.3649941795156337e-05, 0.00013584639236796647, 0.00020515304640866816, 0.13242007791996002, 0.00015241508663166314, 3.374104562681168e-05, 0.0002972533693537116, 0.020006489008665085, 5.5989417887758464e-05, 0.0006437847041524947, 0.0007423245697282255, 0.0, 0.0, 0.0, 0.0, 0.0, 0.0, 0.0, 0.0, 0.0, 0.0, 0.0, 0.0, 0.0, 0.0, 0.0, 0.0, 0.0, 0.0, 0.0, 0.0, 0.0, 0.0, 0.0, 0.0, 0.0, 0.0], [0.012599305249750614, 0.03868289291858673, 0.02168474905192852, 0.01041231770068407, 0.022381270304322243, 0.0013149580918252468, 0.02831750363111496, 0.005885151214897633, 0.09686727076768875, 0.014303321950137615, 0.020960137248039246, 0.014613410457968712, 0.024807943031191826, 0.014651531353592873, 0.009387815371155739, 0.005082758143544197, 0.03178468719124794, 0.06008260324597359, 0.012712620198726654, 0.0052880290895700455, 0.018626639619469643, 0.059789590537548065, 0.014772924594581127, 0.022126803174614906, 0.055623073130846024, 0.011439871974289417, 0.22155800461769104, 0.001044207951053977, 0.005277727264910936, 0.023436252027750015, 0.007323249243199825, 0.007776419632136822, 0.00858742743730545, 0.02100163698196411, 0.006383867934346199, 0.00756035977974534, 0.009578048251569271, 0.01903393305838108, 0.004835121799260378, 0.0008631834643892944, 0.003708859207108617, 0.017832553014159203, 0.0, 0.0, 0.0, 0.0, 0.0, 0.0, 0.0, 0.0, 0.0, 0.0, 0.0, 0.0, 0.0, 0.0, 0.0, 0.0, 0.0, 0.0, 0.0, 0.0, 0.0, 0.0, 0.0, 0.0, 0.0], [0.02531571500003338, 0.000546931813005358, 0.001499807694926858, 0.002110537374392152, 0.0016698980471119285, 0.006846834439784288, 0.01525353267788887, 0.0015632581198588014, 0.0006768956081941724, 0.008638406172394753, 0.0019202280091121793, 0.0032661824952811003, 0.005444299895316362, 0.012011043727397919, 0.013316318392753601, 0.004512858111411333, 0.006336393300443888, 0.12084382027387619, 0.009397117421030998, 0.0014134616358205676, 0.041842907667160034, 0.150347501039505, 0.0027242691721767187, 0.0019099119817838073, 0.00035122406552545726, 0.11522932350635529, 0.004952671006321907, 0.004512851592153311, 0.018130004405975342, 0.0773974061012268, 0.004110184498131275, 0.005145357921719551, 0.012067527510225773, 0.19568701088428497, 0.002975249197334051, 0.0020318173337727785, 0.002808119636029005, 0.07805746793746948, 0.004524684976786375, 0.0033152184914797544, 0.0010874673025682569, 0.024739352986216545, 0.003468944225460291, 0.0, 0.0, 0.0, 0.0, 0.0, 0.0, 0.0, 0.0, 0.0, 0.0, 0.0, 0.0, 0.0, 0.0, 0.0, 0.0, 0.0, 0.0, 0.0, 0.0, 0.0, 0.0, 0.0, 0.0], [0.011160370893776417, 0.0006660784711129963, 0.0017946314765140414, 0.007789797615259886, 0.0014569838531315327, 0.010766184888780117, 0.03910282999277115, 0.003817519871518016, 0.0002467544109094888, 0.027865223586559296, 0.0013291366631165147, 0.006522709503769875, 0.00011625175102381036, 0.005238308571279049, 0.0025380097795277834, 0.0069722989574074745, 0.0017685581697151065, 0.006351644638925791, 0.011645152233541012, 0.007135032210499048, 0.0041778297163546085, 0.01501638162881136, 0.003694038139656186, 0.004835762083530426, 5.1348986744415015e-05, 0.03332808241248131, 0.0009188061230815947, 0.008537748828530312, 0.004652232863008976, 0.47482356429100037, 0.0006175264716148376, 0.008572778664529324, 0.013878915458917618, 0.09551295638084412, 0.0032792878337204456, 0.014904780313372612, 0.010594225488603115, 0.01479952409863472, 0.05298585444688797, 0.008590799756348133, 0.009282183833420277, 0.050848230719566345, 0.0032147385645657778, 0.008598891086876392, 0.0, 0.0, 0.0, 0.0, 0.0, 0.0, 0.0, 0.0, 0.0, 0.0, 0.0, 0.0, 0.0, 0.0, 0.0, 0.0, 0.0, 0.0, 0.0, 0.0, 0.0, 0.0, 0.0], [0.00019749277271330357, 0.0002787464763969183, 0.00027873608632944524, 8.85936024133116e-05, 0.000168530285009183, 0.00016915037122089416, 0.0002334560122108087, 0.00023063539993017912, 0.00016520491044502705, 0.0015467606717720628, 0.0002187866484746337, 0.0005823149112984538, 0.0006020645378157496, 0.005405966192483902, 0.00023741729091852903, 8.104275184450671e-05, 0.0010609045857563615, 0.04357185214757919, 0.0006332377670332789, 0.0010883089853450656, 0.0009725961135700345, 0.08855411410331726, 1.7409811334800906e-05, 0.0003317189693916589, 0.003966302145272493, 0.07662200182676315, 0.0002738409966696054, 0.00023672636598348618, 0.0007749078213237226, 0.10473001003265381, 0.00019718403927981853, 0.0013908524997532368, 0.000543926958926022, 0.5458583235740662, 0.00025755580281838775, 0.00020282507466617972, 0.0007214305805973709, 0.06017690896987915, 0.006520317867398262, 0.0006108712987042964, 0.0013304967433214188, 0.014247800223529339, 0.006007709540426731, 0.002126143081113696, 0.026488732546567917, 0.0, 0.0, 0.0, 0.0, 0.0, 0.0, 0.0, 0.0, 0.0, 0.0, 0.0, 0.0, 0.0, 0.0, 0.0, 0.0, 0.0, 0.0, 0.0, 0.0, 0.0, 0.0], [0.01800502836704254, 0.08838255703449249, 0.049833279103040695, 0.008988014422357082, 0.04671395570039749, 0.012360477820038795, 0.006489399820566177, 0.02899327501654625, 0.011191388592123985, 0.006496452260762453, 0.026975329965353012, 0.01266935933381319, 0.008413542993366718, 0.01604693941771984, 0.005173834972083569, 0.017467502504587173, 0.02311629243195057, 0.01968417875468731, 0.0037659192457795143, 0.014952556230127811, 0.046074092388153076, 0.017811207100749016, 0.05800936743617058, 0.010426965542137623, 0.04044166952371597, 0.03483957797288895, 0.011616011150181293, 0.013499345630407333, 0.007412240374833345, 0.01134090032428503, 0.0052520339377224445, 0.005015146918594837, 0.004185042344033718, 0.004936205223202705, 0.005034885834902525, 0.015626687556505203, 0.01356513425707817, 0.0017060537356883287, 0.00012050411896780133, 0.007967809215188026, 0.22386102378368378, 0.002213860396295786, 0.013027718290686607, 0.0009417249821126461, 0.0057059056125581264, 0.013649610802531242, 0.0, 0.0, 0.0, 0.0, 0.0, 0.0, 0.0, 0.0, 0.0, 0.0, 0.0, 0.0, 0.0, 0.0, 0.0, 0.0, 0.0, 0.0, 0.0, 0.0, 0.0], [0.010951971635222435, 0.0011457727523520589, 0.0022639574017375708, 0.017912430688738823, 0.0025511591229587793, 0.0014206598279997706, 0.0013916506431996822, 0.0025739450938999653, 0.10203144699335098, 0.009011702612042427, 0.0029326791409403086, 0.00232962635345757, 0.0012007778277620673, 0.01130970660597086, 0.0037746597081422806, 0.007115836255252361, 0.0026448031421750784, 0.02256254106760025, 0.012974238023161888, 0.006105841137468815, 0.002777328947558999, 0.046669453382492065, 0.0008235591230913997, 0.002660562517121434, 0.005711311008781195, 0.07415148615837097, 0.0430544838309288, 0.00570661760866642, 0.0019326197216287255, 0.10965234041213989, 0.0010343389585614204, 0.0063260216265916824, 0.016364585608243942, 0.13118956983089447, 0.004186772275716066, 0.013320042751729488, 0.007882537320256233, 0.15559448301792145, 0.01110681053251028, 0.004160671029239893, 0.0008961480925790966, 0.05667099729180336, 0.00256811804138124, 0.005103391129523516, 0.004972252994775772, 0.059629887342453, 0.001648144330829382, 0.0, 0.0, 0.0, 0.0, 0.0, 0.0, 0.0, 0.0, 0.0, 0.0, 0.0, 0.0, 0.0, 0.0, 0.0, 0.0, 0.0, 0.0, 0.0, 0.0], [0.005003028549253941, 0.003008632455021143, 0.0011450746096670628, 0.009125283919274807, 0.0005808431887999177, 0.0018782312981784344, 0.038278717547655106, 0.004528780467808247, 0.00010730766371125355, 0.0303188543766737, 0.001709474716335535, 0.003621735842898488, 0.00019885266374330968, 0.014516545459628105, 0.0012375029036775231, 0.005235069897025824, 0.0014358016196638346, 0.0026213994715362787, 0.005542399361729622, 0.006651640869677067, 0.0017678473377600312, 0.009963554330170155, 0.001000264543108642, 0.00541312200948596, 0.00044356321450322866, 0.020719585940241814, 0.00084018922643736, 0.004224841948598623, 0.007571993861347437, 0.16504505276679993, 0.0010402435436844826, 0.006058750674128532, 0.003205540357157588, 0.37251028418540955, 0.0012278655776754022, 0.008256365545094013, 0.004773581866174936, 0.01276964507997036, 0.04665455222129822, 0.014185491017997265, 0.0020645761396735907, 0.01922241412103176, 0.0025965608656406403, 0.005377485416829586, 0.00998729094862938, 0.12033677846193314, 0.008381364867091179, 0.007616029586642981, 0.0, 0.0, 0.0, 0.0, 0.0, 0.0, 0.0, 0.0, 0.0, 0.0, 0.0, 0.0, 0.0, 0.0, 0.0, 0.0, 0.0, 0.0, 0.0], [0.000504462281242013, 0.00019403586338739842, 0.00010902700159931555, 0.001615006010979414, 0.00021426584862638265, 0.0003442549204919487, 0.0010515616741031408, 0.000114578811917454, 0.0006289391894824803, 0.005489693023264408, 0.00031163933454081416, 0.00013729382771998644, 0.00021488117636181414, 0.015297374688088894, 0.0005775619065389037, 0.0007951749721542001, 0.00044071945012547076, 0.016201481223106384, 0.0014567957259714603, 0.00018449498747941107, 0.0010090928990393877, 0.07708064466714859, 0.00013660997501574457, 0.0005352318403311074, 0.00014858090435154736, 0.08740143477916718, 0.002526722149923444, 0.0005457901861518621, 0.0007735080434940755, 0.05683424323797226, 0.00019087702094111592, 0.0002515662054065615, 0.0008174132672138512, 0.6025822758674622, 0.00026155103114433587, 0.0017483859555795789, 0.001009247382171452, 0.04917753115296364, 0.0026565250009298325, 0.0004832835402339697, 0.0004959926009178162, 0.008431561291217804, 0.00039409895543940365, 0.00025077679310925305, 0.0015102812321856618, 0.051519401371479034, 0.0003432624216657132, 0.0032809509430080652, 0.0017199193825945258, 0.0, 0.0, 0.0, 0.0, 0.0, 0.0, 0.0, 0.0, 0.0, 0.0, 0.0, 0.0, 0.0, 0.0, 0.0, 0.0, 0.0, 0.0], [0.00018422192079015076, 0.00011827805428765714, 7.290813664440066e-05, 0.00022374554828274995, 0.0006114456919021904, 0.0008718678145669401, 0.00021929094509687275, 0.00018320923845749348, 0.00015443676966242492, 0.0015293937176465988, 0.0003465564514044672, 0.0006650860304944217, 0.0014002113603055477, 0.0011978286784142256, 5.4891424952074885e-05, 0.00026487055583857, 0.0036406556610018015, 0.0019935055170208216, 0.00029894555336795747, 0.0003931731916964054, 0.007562244310975075, 0.0038349165115505457, 0.0006802408606745303, 0.000720841228030622, 0.004789405502378941, 0.006436553783714771, 5.343762313714251e-05, 8.040134707698599e-05, 0.0001543203106848523, 0.004218897316604853, 0.00014523358549922705, 0.0004968502325937152, 3.4118016628781334e-05, 0.002495321910828352, 0.00016692228382453322, 0.0006730981986038387, 0.0008976037497632205, 0.00012056085688527673, 5.342997610569e-05, 0.00024953478714451194, 0.0012203470105305314, 0.0001969341974472627, 0.001132384641095996, 0.00013019112520851195, 0.9481874704360962, 0.0003107812663074583, 3.174152516294271e-05, 6.787992606405169e-05, 0.0002211474784417078, 0.00021260324865579605, 0.0, 0.0, 0.0, 0.0, 0.0, 0.0, 0.0, 0.0, 0.0, 0.0, 0.0, 0.0, 0.0, 0.0, 0.0, 0.0, 0.0], [0.0008386605186387897, 0.00018899119459092617, 5.409186633187346e-05, 0.023941505700349808, 0.004627837799489498, 0.002066324232146144, 0.007684363517910242, 0.004004472866654396, 0.0007338285795412958, 0.009021848440170288, 0.0016215075738728046, 0.00541493808850646, 0.023384662345051765, 0.010331680998206139, 0.0074707153253257275, 0.006501525174826384, 0.016386672854423523, 0.012502418830990791, 0.04434647038578987, 0.005696394946426153, 0.014916788786649704, 0.05402933061122894, 0.0023583529982715845, 0.0024607516825199127, 0.0027952981181442738, 0.03809434175491333, 0.004541470669209957, 0.005749601870775223, 0.00729112233966589, 0.008457960560917854, 0.008145863190293312, 0.006338898558169603, 0.007686732802540064, 0.17524354159832, 0.008532901294529438, 0.007977355271577835, 0.014984149485826492, 0.08680565655231476, 0.03332836925983429, 0.0025687511079013348, 0.013049506582319736, 0.00548085942864418, 0.058806028217077255, 0.010705097578465939, 0.15393061935901642, 0.007112747989594936, 0.0008574519888497889, 0.003345042234286666, 0.014115654863417149, 0.01328509021550417, 0.040185704827308655, 0.0, 0.0, 0.0, 0.0, 0.0, 0.0, 0.0, 0.0, 0.0, 0.0, 0.0, 0.0, 0.0, 0.0, 0.0, 0.0], [0.031107300892472267, 0.004261357709765434, 0.0022201286628842354, 0.013276117853820324, 0.0019046819070354104, 0.011707516387104988, 0.03884659707546234, 0.022244613617658615, 0.001888501108624041, 0.027626127004623413, 0.004324751906096935, 0.007036441005766392, 0.00046312599442899227, 0.024445518851280212, 0.007863209582865238, 0.006852874998003244, 0.0009247299167327583, 0.00919159222394228, 0.006885817740112543, 0.015823889523744583, 0.0058030616492033005, 0.008007661439478397, 0.0030754960607737303, 0.009638967923820019, 0.00040987067040987313, 0.030497770756483078, 0.006387711502611637, 0.013791182078421116, 0.013208938762545586, 0.07723554223775864, 0.006579686887562275, 0.006717008072882891, 0.013223826885223389, 0.13797490298748016, 0.006196824833750725, 0.01147472858428955, 0.0062994565814733505, 0.043289490044116974, 0.06535998731851578, 0.017984488978981972, 0.009492791257798672, 0.026384983211755753, 0.005000308621674776, 0.01435784064233303, 0.00022701759007759392, 0.07676292955875397, 0.05688780918717384, 0.009718061424791813, 0.008410440757870674, 0.040649186819791794, 0.015410417690873146, 0.014646783471107483, 0.0, 0.0, 0.0, 0.0, 0.0, 0.0, 0.0, 0.0, 0.0, 0.0, 0.0, 0.0, 0.0, 0.0, 0.0], [0.006667294539511204, 0.000766453449614346, 0.0012761537218466401, 0.00039199888124130666, 0.0008283288334496319, 0.00046548352111130953, 0.0016688901232555509, 0.0028276871889829636, 0.0024886922910809517, 0.005658131558448076, 0.00017121528799179941, 0.00016821855388116091, 0.0013018188765272498, 0.013317622244358063, 0.002747809747233987, 0.000285756541416049, 0.00030538192368112504, 0.04360654205083847, 0.0008224339690059423, 0.0014774114824831486, 0.0005577444680966437, 0.03961079195141792, 9.873452654574066e-05, 0.00013500404020305723, 0.00013659503019880503, 0.05994351953268051, 0.001963514368981123, 0.0010069259442389011, 0.0007292350055649877, 0.08625386655330658, 0.00025771171203814447, 0.0007835231372155249, 0.0029864893294870853, 0.22881552577018738, 0.0011139364214614034, 0.0003985921503044665, 0.0019243423594161868, 0.3359420895576477, 0.002557900734245777, 0.001488386420533061, 0.001928116544149816, 0.0699264407157898, 0.0005611837841570377, 0.0006645129178650677, 4.664983134716749e-05, 0.048364054411649704, 0.004902984946966171, 0.0008043655543588102, 0.0012424358865246177, 0.008856366388499737, 0.0006793608190491796, 0.004041205160319805, 0.0040346356108784676, 0.0, 0.0, 0.0, 0.0, 0.0, 0.0, 0.0, 0.0, 0.0, 0.0, 0.0, 0.0, 0.0, 0.0], [0.00028347456827759743, 0.00014595806715078652, 0.00010641555854817852, 0.0013115628389641643, 0.0003324888530187309, 0.00034940586192533374, 0.0005312252324074507, 0.000643133360426873, 0.0016839411109685898, 0.001968176569789648, 0.0008461252436973155, 0.0005203027394600213, 0.0004034053417854011, 0.003216007025912404, 0.00039533444214612246, 0.0006064425688236952, 0.0016059193294495344, 0.002700905781239271, 0.0019470005063340068, 0.0008620939333923161, 0.004176209215074778, 0.0057067424058914185, 0.0007262452854774892, 0.0011582932202145457, 0.004001864697784185, 0.015372890047729015, 0.0013298812555149198, 0.0009297596989199519, 0.0003369174955878407, 0.017892057076096535, 0.00027815636713057756, 0.000307092210277915, 0.00013399716408457607, 0.0038318189326673746, 0.0007438609609380364, 0.0017352738650515676, 0.001144569949246943, 0.00023012125166133046, 5.412823520600796e-05, 0.001120931119658053, 0.0033425414003431797, 0.0001766716013662517, 0.0012711187591776252, 0.00018481805454939604, 0.9104741215705872, 0.00046849201316945255, 1.909655111376196e-05, 0.00021521744201891124, 0.0005323465447872877, 0.000346924556652084, 0.0006309926975518465, 0.00011498422099975869, 0.000316664285492152, 0.000235912055359222, 0.0, 0.0, 0.0, 0.0, 0.0, 0.0, 0.0, 0.0, 0.0, 0.0, 0.0, 0.0, 0.0], [0.026720747351646423, 0.002031592419371009, 0.0029241640586405993, 0.0009449097560718656, 0.0005459640524350107, 0.0012327332515269518, 0.01268753968179226, 0.0008356408798135817, 0.0036284951493144035, 0.0005103700677864254, 0.007949662394821644, 0.008461736142635345, 0.002493032719939947, 0.0033441896084696054, 0.002154163084924221, 0.0016108928248286247, 0.0006883004680275917, 0.0081570940092206, 0.002015348058193922, 0.0014304211363196373, 0.0017667572246864438, 0.007660796400159597, 0.00015846332826185971, 0.00441341707482934, 0.0037132638972252607, 0.025104433298110962, 0.0019530684221535921, 0.003183409571647644, 0.0040429383516311646, 0.05115658417344093, 0.000999310752376914, 0.0013002414489164948, 0.00484954658895731, 0.21548140048980713, 0.0012768593151122332, 0.0031208591535687447, 0.0024993603583425283, 0.07514286041259766, 0.0498555526137352, 0.0024595085997134447, 0.0070414794608950615, 0.04733739048242569, 0.010058654472231865, 0.004450608044862747, 0.0028131455183029175, 0.28070756793022156, 0.030244583263993263, 0.00289267604239285, 0.0021829900797456503, 0.02752474695444107, 0.0015663770027458668, 0.0013072389410808682, 0.0011085513979196548, 0.027832169085741043, 0.002426080172881484, 0.0, 0.0, 0.0, 0.0, 0.0, 0.0, 0.0, 0.0, 0.0, 0.0, 0.0, 0.0], [0.025900501757860184, 0.003129055490717292, 0.0027600207831710577, 0.003899232018738985, 0.002118129748851061, 0.010299400426447392, 0.08723096549510956, 0.00726689537987113, 0.00020508236775640398, 0.026819126680493355, 0.0018620360642671585, 0.015408722683787346, 0.0012675225734710693, 0.020218053832650185, 0.0036554429680109024, 0.00541336927562952, 0.0017986312741413713, 0.012345047667622566, 0.006730056833475828, 0.005710334982722998, 0.0011150747304782271, 0.004342093598097563, 0.0011760744964703918, 0.01015088614076376, 0.0003635769826360047, 0.006489083636552095, 0.00093649240443483, 0.007812145631760359, 0.006353895179927349, 0.05510067194700241, 0.0012943014735355973, 0.008843355812132359, 0.010737244971096516, 0.04773401468992233, 0.006146946921944618, 0.005249061156064272, 0.007642420474439859, 0.02485668659210205, 0.18904781341552734, 0.010432806797325611, 0.0014349583070725203, 0.060567066073417664, 0.0007020464981906116, 0.012221772223711014, 0.00014951817865949124, 0.07216943055391312, 0.07722222805023193, 0.014590076170861721, 0.005402519833296537, 0.006878047715872526, 0.00302426447160542, 0.00792469922453165, 0.02917061559855938, 0.024086328223347664, 0.02251562476158142, 0.012078600935637951, 0.0, 0.0, 0.0, 0.0, 0.0, 0.0, 0.0, 0.0, 0.0, 0.0, 0.0], [0.0023017567582428455, 0.0018319739028811455, 0.0008534685475751758, 5.133578088134527e-05, 0.0008945289300754666, 0.0003906342317350209, 0.012987848371267319, 0.00027508335188031197, 7.287043990800157e-05, 0.003959245514124632, 9.767103620106354e-05, 0.002303844317793846, 0.023374399170279503, 0.0050590746104717255, 0.000546328432392329, 0.00010244987061014399, 0.0006121836486272514, 0.05024868994951248, 0.00031540956115350127, 0.00039243604987859726, 0.0008159682038240135, 0.09825407713651657, 5.4826014093123376e-05, 0.0007293711532838643, 0.001957656117156148, 0.01049134787172079, 0.000193828294868581, 0.00010172310430789366, 0.0006364139844663441, 0.038226597011089325, 0.0001745933259371668, 0.0009766288567334414, 0.00025125284446403384, 0.4528760313987732, 0.00011178747081430629, 0.0005038430681452155, 0.0014447735156863928, 0.06334787607192993, 0.003907426260411739, 0.00029372808057814837, 0.0005527950124815106, 0.04937400296330452, 0.00042351658339612186, 0.0014532007044181228, 7.315264520002529e-05, 0.11476704478263855, 0.0071863639168441296, 0.00046188855776563287, 0.0006347177550196648, 0.004154169466346502, 0.00012876663822680712, 0.0006543376948684454, 0.0012079135049134493, 0.015413280576467514, 0.012381469830870628, 0.005016309674829245, 0.004096117801964283, 0.0, 0.0, 0.0, 0.0, 0.0, 0.0, 0.0, 0.0, 0.0, 0.0], [0.0025535819586366415, 0.007908258587121964, 0.007865986786782742, 0.001101493719033897, 0.0006201344076544046, 0.00425812928006053, 0.006911728531122208, 0.007334577850997448, 0.0004470998828765005, 0.007764901965856552, 0.0036213742569088936, 0.002856380073353648, 0.0040855552069842815, 0.02215752750635147, 0.002857837826013565, 0.001450458075851202, 0.014936653897166252, 0.013743909075856209, 0.0075033544562757015, 0.002296238671988249, 0.009205677546560764, 0.0068171825259923935, 0.009554699994623661, 0.0036563389003276825, 0.008993941359221935, 0.029979432001709938, 0.0013284174492582679, 0.001286491984501481, 0.004638304002583027, 0.02922995761036873, 0.003375814063474536, 0.0026243883185088634, 0.002311751479282975, 0.0063190758228302, 0.04635780304670334, 0.0012658911291509867, 0.011877336539328098, 0.002920495579019189, 0.0023315108846873045, 0.007986193522810936, 0.016013070940971375, 0.004685148596763611, 0.006952027790248394, 0.0011155729880556464, 0.6340064406394958, 0.0011091195046901703, 0.00022518844343721867, 0.0015049870125949383, 0.0025835162959992886, 0.00045975431567057967, 0.003418262815102935, 0.0009490982629358768, 0.00451851449906826, 0.0013535449979826808, 0.0002768338890746236, 0.0011147864861413836, 0.0038794714491814375, 0.0014988408656790853, 0.0, 0.0, 0.0, 0.0, 0.0, 0.0, 0.0, 0.0, 0.0], [0.03882057964801788, 0.001282291952520609, 0.004524815361946821, 0.0065900711342692375, 0.006189235486090183, 0.003460839856415987, 0.04339703172445297, 0.002615851815789938, 0.0004635830700863153, 0.021474990993738174, 0.0033897010143846273, 0.002743455348536372, 0.008401574566960335, 0.013329866342246532, 0.020511487498879433, 0.025198502466082573, 0.007240788079798222, 0.03415816277265549, 0.016246307641267776, 0.0027305439580231905, 0.011160621419548988, 0.05722833052277565, 0.0052611385472118855, 0.004161521326750517, 0.00031708425376564264, 0.04227704182267189, 0.005910992622375488, 0.008087195456027985, 0.015766596421599388, 0.043612852692604065, 0.0044707427732646465, 0.004146612249314785, 0.015462096780538559, 0.10208933055400848, 0.0036191490944474936, 0.004915621597319841, 0.00783664919435978, 0.1037898138165474, 0.007033372763544321, 0.005396455526351929, 0.0014655949780717492, 0.07228591293096542, 0.0007888735271990299, 0.0035440451465547085, 0.008507156744599342, 0.05567169561982155, 0.003796290373429656, 0.02772054634988308, 0.005204197484999895, 0.027732007205486298, 0.001925059943459928, 0.005948513746261597, 0.008828610181808472, 0.015565691515803337, 0.006371240597218275, 0.004844535142183304, 0.00579002546146512, 0.026264559477567673, 0.0024325684644281864, 0.0, 0.0, 0.0, 0.0, 0.0, 0.0, 0.0, 0.0], [0.025952612981200218, 0.017051612958312035, 0.004129578825086355, 0.004902206361293793, 0.0030331730376929045, 0.00799595471471548, 0.06852767616510391, 0.0040461039170622826, 5.920992043684237e-05, 0.01827392727136612, 0.0018817071104422212, 0.012017662636935711, 0.0003835784154944122, 0.024309149011969566, 0.0025535887107253075, 0.012823947705328465, 0.002099335193634033, 0.01389268133789301, 0.005215067882090807, 0.0071351719088852406, 0.001834752270951867, 0.015234730206429958, 0.001970131415873766, 0.00697007542476058, 0.0007463067886419594, 0.007656314875930548, 0.001218750374391675, 0.012656171806156635, 0.010043222457170486, 0.014759635552763939, 0.002598533406853676, 0.00802779570221901, 0.008226248435676098, 0.06050499528646469, 0.002233569510281086, 0.008160000666975975, 0.002747210441157222, 0.015884503722190857, 0.011625239625573158, 0.006319174077361822, 0.00231056846678257, 0.014731359668076038, 0.0016212707851082087, 0.009670618921518326, 3.8462490010715555e-06, 0.24189577996730804, 0.05741947516798973, 0.009740542620420456, 0.014208043925464153, 0.01979038119316101, 0.003052393440157175, 0.012919985689222813, 0.01920999027788639, 0.010120794177055359, 0.02302277833223343, 0.008541570045053959, 0.040829919278621674, 0.04533955454826355, 0.016902131959795952, 0.012967664748430252, 0.0, 0.0, 0.0, 0.0, 0.0, 0.0, 0.0], [0.009280052967369556, 0.00015563190390821546, 0.00023602976580150425, 0.0007417803863063455, 0.002984650433063507, 0.0014445530250668526, 0.009395615197718143, 7.261116843437776e-05, 0.000284186884528026, 0.011181211099028587, 0.000630433380138129, 0.0002728154940996319, 0.001987274270504713, 0.017994442954659462, 0.001355355721898377, 0.002503020688891411, 0.0022578397765755653, 0.018046103417873383, 0.00496312603354454, 0.0002854461199603975, 0.0019060010090470314, 0.08665310591459274, 0.000287912436760962, 0.0003908621147274971, 0.0012990460963919759, 0.05188937485218048, 0.0006120371399447322, 0.0020680902525782585, 0.0012110479874536395, 0.0384349524974823, 0.00025749841006472707, 0.00021555401326622814, 0.0011082058772444725, 0.310383141040802, 0.0004965608823113143, 0.0011239256709814072, 0.0011720121838152409, 0.02223827689886093, 0.0014264469500631094, 0.0006808637990616262, 0.0011945412261411548, 0.011707493104040623, 0.000520742847584188, 0.0004075081378687173, 0.003221438964828849, 0.1261494904756546, 0.001116412109695375, 0.0019533790182322264, 0.006726748775690794, 0.010892470367252827, 0.0007375775603577495, 0.0003741559630725533, 0.0010231308406218886, 0.007712494116276503, 0.0002031277836067602, 0.00041997776133939624, 0.0015726406127214432, 0.009203152731060982, 0.00021052717056591064, 0.00681734923273325, 0.197908416390419, 0.0, 0.0, 0.0, 0.0, 0.0, 0.0], [0.006456346251070499, 0.023439809679985046, 0.028032194823026657, 0.001103677786886692, 0.0019414867274463177, 0.016789350658655167, 0.03237878903746605, 0.018332652747631073, 3.5903667594539e-05, 0.009363824501633644, 0.003560164710506797, 0.011071664281189442, 0.002956376178190112, 0.02886512689292431, 0.009999937377870083, 0.0023817589972168207, 0.005585231352597475, 0.04393515735864639, 0.01567951776087284, 0.004225119482725859, 0.011464548297226429, 0.015564161352813244, 0.027719875797629356, 0.005312967114150524, 0.00399646395817399, 0.03394060209393501, 0.0010901913046836853, 0.009876684285700321, 0.017903508618474007, 0.03739866241812706, 0.005403459072113037, 0.005107116419821978, 0.01081458106637001, 0.014335107058286667, 0.10356645286083221, 0.00294695352204144, 0.023638976737856865, 0.01369558833539486, 0.00516879977658391, 0.012092789635062218, 0.12997770309448242, 0.015788519755005836, 0.010683157481253147, 0.00537614431232214, 0.03589076176285744, 0.004637229721993208, 0.0017231173114851117, 0.0015067009953781962, 0.006639331113547087, 0.0019269539043307304, 0.010125801898539066, 0.006511568557471037, 0.009365641511976719, 0.002950245514512062, 0.0011521432315930724, 0.0036373769398778677, 0.10811389982700348, 0.005826723761856556, 0.00017127882165368646, 0.00047623072168789804, 0.0010234819492325187, 0.00932438112795353, 0.0, 0.0, 0.0, 0.0, 0.0], [0.0037349415943026543, 0.0008770557469688356, 0.00039755116449669003, 0.0001375319843646139, 5.4860254749655724e-05, 0.00047489278949797153, 0.023053882643580437, 8.180603617802262e-05, 7.944641401991248e-05, 0.0009669070714153349, 0.00019375041301827878, 0.0006878842250443995, 3.197355624706688e-07, 0.000884573848452419, 2.702169877011329e-05, 0.0011149455094709992, 0.00014495592040475458, 0.0002647751534823328, 3.298536466900259e-05, 0.0003331130719743669, 0.0002978741831611842, 0.00017744151409715414, 8.204237383324653e-05, 0.0001951417507370934, 1.8274686226504855e-06, 9.375039371661842e-05, 0.0004464126250240952, 0.00039365244447253644, 0.0011366995749995112, 0.00029602355789393187, 0.0002930556074716151, 0.00027954310644418, 0.000896560843102634, 0.0005481564439833164, 0.0004388891684357077, 9.830242925090715e-05, 0.0004860360932070762, 0.0003484007029328495, 0.002979772165417671, 0.000400397228077054, 0.010759560391306877, 0.00010943693632725626, 3.208557245670818e-05, 0.0006280774250626564, 9.628807310946286e-05, 0.0015070020454004407, 0.021584564819931984, 0.00049627386033535, 0.004808012396097183, 0.0017541415290907025, 0.000682864454574883, 0.0001437591708963737, 0.0011191997909918427, 0.00020173464145045727, 0.0010420794133096933, 0.0025436566211283207, 0.0014687464572489262, 0.0011478320229798555, 0.00021260658104438335, 0.0007574340561404824, 0.9021960496902466, 0.0003226489352528006, 0.0029528497252613306, 0.0, 0.0, 0.0, 0.0], [0.01700642704963684, 0.03486459329724312, 0.018159251660108566, 0.006189057603478432, 0.003021882614120841, 0.010983193293213844, 0.010884281247854233, 0.015313001349568367, 0.004696673713624477, 0.0281703881919384, 0.008942929096519947, 0.00343785691075027, 0.00010448602552060038, 0.06821992248296738, 0.005044207908213139, 0.006626976188272238, 0.019635654985904694, 0.037836916744709015, 0.0049276091158390045, 0.02068379707634449, 0.006182865705341101, 0.02743537165224552, 0.010612302459776402, 0.0024262552615255117, 0.0016120634973049164, 0.05971786752343178, 0.00675506517291069, 0.004864577203989029, 0.010491780005395412, 0.037803806364536285, 0.0061831045895814896, 0.01251964084804058, 0.04537047818303108, 0.03659558668732643, 0.02235260419547558, 0.001973411999642849, 0.007503722794353962, 0.03625235706567764, 0.009954487904906273, 0.007916530594229698, 0.03737802803516388, 0.012272384017705917, 0.006628952920436859, 0.004240741953253746, 0.0018632083665579557, 0.039913102984428406, 0.020603230223059654, 0.004092006478458643, 0.016398970037698746, 0.01164175570011139, 0.020485777407884598, 0.007700761314481497, 0.0280794408172369, 0.010448833927512169, 0.004916418809443712, 0.002700943499803543, 0.007556809578090906, 0.01957070268690586, 0.004241188522428274, 0.0018261768855154514, 0.010129262693226337, 0.03190969303250313, 0.010043670423328876, 0.006084978114813566, 0.0, 0.0, 0.0], [0.016778433695435524, 0.0033071318175643682, 0.0030014512594789267, 0.004488431382924318, 0.013960666954517365, 0.023740217089653015, 0.23292379081249237, 0.004252317361533642, 0.001159091480076313, 0.01614617370069027, 0.0014906729338690639, 0.009696459397673607, 0.008934315294027328, 0.015158172696828842, 0.0015255598118528724, 0.012805971316993237, 0.013550519943237305, 0.007239845115691423, 0.007296109106391668, 0.006053323857486248, 0.03634161129593849, 0.009679149836301804, 0.011396407149732113, 0.005079922266304493, 0.005053715314716101, 0.006566728465259075, 0.007770814932882786, 0.004782378673553467, 0.015606253407895565, 0.006486250087618828, 0.0029939068481326103, 0.009500018320977688, 0.0075167082250118256, 0.009867600165307522, 0.006681898608803749, 0.005797477904707193, 0.026206469163298607, 0.0067288936115801334, 0.04398875683546066, 0.007837134413421154, 0.04506753385066986, 0.004897314589470625, 0.019619878381490707, 0.015369627624750137, 0.014072380028665066, 0.005074535496532917, 0.012287100777029991, 0.01825803890824318, 0.022806361317634583, 0.009948772378265858, 0.006621720269322395, 0.004266119562089443, 0.008136256597936153, 0.0056192344054579735, 0.010129591450095177, 0.01306329295039177, 0.010493820533156395, 0.004283418878912926, 0.003987095318734646, 0.006925626192241907, 0.08314570784568787, 0.006231553386896849, 0.018266864120960236, 0.005358946975320578, 0.006678429897874594, 0.0, 0.0], [0.01832946203649044, 0.000250888493610546, 0.0012353351339697838, 0.00026371312560513616, 0.000524430419318378, 0.0008130022906698287, 0.006459780503064394, 0.0006998609751462936, 0.004577969200909138, 0.005033787805587053, 0.00041137487278319895, 0.00012560506002046168, 0.00024306697014253587, 0.0024409734178334475, 0.0007063975208438933, 0.0002827764255926013, 0.00011500761320348829, 0.0043120537884533405, 0.0004285416507627815, 0.0009147959644906223, 0.00205124169588089, 0.003218783298507333, 0.0002503126161172986, 0.000600380590185523, 0.0004290734650567174, 0.007250787224620581, 0.005831910762935877, 0.0003216434270143509, 0.0005223980406299233, 0.0532328225672245, 0.00032389030093327165, 0.0002831698802765459, 0.000631205621175468, 0.009117094799876213, 0.0002486669982317835, 0.00033213006099686027, 0.0006089931121096015, 0.004131970927119255, 0.000758493086323142, 0.000742435222491622, 0.0002457914815749973, 0.010823332704603672, 0.00022194591292645782, 0.00018628433463163674, 0.004774583503603935, 0.006551206111907959, 0.0012206333922222257, 0.0007050790009088814, 0.00021259089407976717, 0.004528454504907131, 7.16121940058656e-05, 0.0006524927448481321, 0.002075802069157362, 0.02086181379854679, 0.001003091223537922, 0.0006269356235861778, 0.0005458924570120871, 0.009556041099131107, 0.002465134486556053, 0.0008786238613538444, 5.406361015047878e-05, 0.04659310355782509, 0.0010174427879974246, 0.0012481006560847163, 0.7428333163261414, 0.0009903942700475454, 0.0], [0.00493411161005497, 0.006606541574001312, 0.008089669048786163, 0.023464230820536613, 0.02303343079984188, 0.02608734928071499, 0.009000912308692932, 0.01571478880941868, 0.007664444390684366, 0.015717558562755585, 0.012520923279225826, 0.014651766046881676, 0.01183570921421051, 0.008576939813792706, 0.015923313796520233, 0.03087632730603218, 0.03201013803482056, 0.0063109672628343105, 0.020158324390649796, 0.01655850000679493, 0.025420086458325386, 0.01212724857032299, 0.0857667624950409, 0.022886738181114197, 0.005479284096509218, 0.016391901299357414, 0.013012432493269444, 0.007654969580471516, 0.01510636042803526, 0.005879000760614872, 0.020404856652021408, 0.01683281734585762, 0.021909838542342186, 0.007563858758658171, 0.01556237880140543, 0.016386253759264946, 0.03149435669183731, 0.010333983227610588, 0.025825945660471916, 0.008583546616137028, 0.012103906832635403, 0.00906976219266653, 0.012033979408442974, 0.013649312779307365, 0.0077978018671274185, 0.004820803180336952, 0.011699429713189602, 0.030497996136546135, 0.012340391054749489, 0.006212085485458374, 0.023921765387058258, 0.013805456459522247, 0.009477564133703709, 0.0099938390776515, 0.007408905308693647, 0.012014739215373993, 0.005653549451380968, 0.0036895282100886106, 0.020294198766350746, 0.016534974798560143, 0.015581577084958553, 0.007151017431169748, 0.012125236913561821, 0.005762583576142788, 0.003190558170899749, 0.009013231843709946, 0.0097972322255373]], [[1.0, 0.0, 0.0, 0.0, 0.0, 0.0, 0.0, 0.0, 0.0, 0.0, 0.0, 0.0, 0.0, 0.0, 0.0, 0.0, 0.0, 0.0, 0.0, 0.0, 0.0, 0.0, 0.0, 0.0, 0.0, 0.0, 0.0, 0.0, 0.0, 0.0, 0.0, 0.0, 0.0, 0.0, 0.0, 0.0, 0.0, 0.0, 0.0, 0.0, 0.0, 0.0, 0.0, 0.0, 0.0, 0.0, 0.0, 0.0, 0.0, 0.0, 0.0, 0.0, 0.0, 0.0, 0.0, 0.0, 0.0, 0.0, 0.0, 0.0, 0.0, 0.0, 0.0, 0.0, 0.0, 0.0, 0.0], [0.9056652784347534, 0.09433471411466599, 0.0, 0.0, 0.0, 0.0, 0.0, 0.0, 0.0, 0.0, 0.0, 0.0, 0.0, 0.0, 0.0, 0.0, 0.0, 0.0, 0.0, 0.0, 0.0, 0.0, 0.0, 0.0, 0.0, 0.0, 0.0, 0.0, 0.0, 0.0, 0.0, 0.0, 0.0, 0.0, 0.0, 0.0, 0.0, 0.0, 0.0, 0.0, 0.0, 0.0, 0.0, 0.0, 0.0, 0.0, 0.0, 0.0, 0.0, 0.0, 0.0, 0.0, 0.0, 0.0, 0.0, 0.0, 0.0, 0.0, 0.0, 0.0, 0.0, 0.0, 0.0, 0.0, 0.0, 0.0, 0.0], [0.6931789517402649, 0.06967971473932266, 0.23714131116867065, 0.0, 0.0, 0.0, 0.0, 0.0, 0.0, 0.0, 0.0, 0.0, 0.0, 0.0, 0.0, 0.0, 0.0, 0.0, 0.0, 0.0, 0.0, 0.0, 0.0, 0.0, 0.0, 0.0, 0.0, 0.0, 0.0, 0.0, 0.0, 0.0, 0.0, 0.0, 0.0, 0.0, 0.0, 0.0, 0.0, 0.0, 0.0, 0.0, 0.0, 0.0, 0.0, 0.0, 0.0, 0.0, 0.0, 0.0, 0.0, 0.0, 0.0, 0.0, 0.0, 0.0, 0.0, 0.0, 0.0, 0.0, 0.0, 0.0, 0.0, 0.0, 0.0, 0.0, 0.0], [0.33457180857658386, 0.4594305455684662, 0.12334053218364716, 0.08265715837478638, 0.0, 0.0, 0.0, 0.0, 0.0, 0.0, 0.0, 0.0, 0.0, 0.0, 0.0, 0.0, 0.0, 0.0, 0.0, 0.0, 0.0, 0.0, 0.0, 0.0, 0.0, 0.0, 0.0, 0.0, 0.0, 0.0, 0.0, 0.0, 0.0, 0.0, 0.0, 0.0, 0.0, 0.0, 0.0, 0.0, 0.0, 0.0, 0.0, 0.0, 0.0, 0.0, 0.0, 0.0, 0.0, 0.0, 0.0, 0.0, 0.0, 0.0, 0.0, 0.0, 0.0, 0.0, 0.0, 0.0, 0.0, 0.0, 0.0, 0.0, 0.0, 0.0, 0.0], [8.760415221331641e-05, 1.7871323507279158e-05, 1.2760662684740964e-05, 0.9998385906219482, 4.3124324292875826e-05, 0.0, 0.0, 0.0, 0.0, 0.0, 0.0, 0.0, 0.0, 0.0, 0.0, 0.0, 0.0, 0.0, 0.0, 0.0, 0.0, 0.0, 0.0, 0.0, 0.0, 0.0, 0.0, 0.0, 0.0, 0.0, 0.0, 0.0, 0.0, 0.0, 0.0, 0.0, 0.0, 0.0, 0.0, 0.0, 0.0, 0.0, 0.0, 0.0, 0.0, 0.0, 0.0, 0.0, 0.0, 0.0, 0.0, 0.0, 0.0, 0.0, 0.0, 0.0, 0.0, 0.0, 0.0, 0.0, 0.0, 0.0, 0.0, 0.0, 0.0, 0.0, 0.0], [0.14835631847381592, 0.1656578630208969, 0.4026094973087311, 0.1280750185251236, 0.05638064071536064, 0.09892065078020096, 0.0, 0.0, 0.0, 0.0, 0.0, 0.0, 0.0, 0.0, 0.0, 0.0, 0.0, 0.0, 0.0, 0.0, 0.0, 0.0, 0.0, 0.0, 0.0, 0.0, 0.0, 0.0, 0.0, 0.0, 0.0, 0.0, 0.0, 0.0, 0.0, 0.0, 0.0, 0.0, 0.0, 0.0, 0.0, 0.0, 0.0, 0.0, 0.0, 0.0, 0.0, 0.0, 0.0, 0.0, 0.0, 0.0, 0.0, 0.0, 0.0, 0.0, 0.0, 0.0, 0.0, 0.0, 0.0, 0.0, 0.0, 0.0, 0.0, 0.0, 0.0], [0.04971438646316528, 0.38004258275032043, 0.10409394651651382, 0.00023602801957167685, 0.07971470803022385, 0.23393800854682922, 0.15226027369499207, 0.0, 0.0, 0.0, 0.0, 0.0, 0.0, 0.0, 0.0, 0.0, 0.0, 0.0, 0.0, 0.0, 0.0, 0.0, 0.0, 0.0, 0.0, 0.0, 0.0, 0.0, 0.0, 0.0, 0.0, 0.0, 0.0, 0.0, 0.0, 0.0, 0.0, 0.0, 0.0, 0.0, 0.0, 0.0, 0.0, 0.0, 0.0, 0.0, 0.0, 0.0, 0.0, 0.0, 0.0, 0.0, 0.0, 0.0, 0.0, 0.0, 0.0, 0.0, 0.0, 0.0, 0.0, 0.0, 0.0, 0.0, 0.0, 0.0, 0.0], [0.021297169849276543, 0.025532277300953865, 0.007358834147453308, 0.04252186045050621, 0.11289333552122116, 0.6841261982917786, 0.09549923986196518, 0.010771184228360653, 0.0, 0.0, 0.0, 0.0, 0.0, 0.0, 0.0, 0.0, 0.0, 0.0, 0.0, 0.0, 0.0, 0.0, 0.0, 0.0, 0.0, 0.0, 0.0, 0.0, 0.0, 0.0, 0.0, 0.0, 0.0, 0.0, 0.0, 0.0, 0.0, 0.0, 0.0, 0.0, 0.0, 0.0, 0.0, 0.0, 0.0, 0.0, 0.0, 0.0, 0.0, 0.0, 0.0, 0.0, 0.0, 0.0, 0.0, 0.0, 0.0, 0.0, 0.0, 0.0, 0.0, 0.0, 0.0, 0.0, 0.0, 0.0, 0.0], [3.6877638194710016e-05, 0.00010596311039989814, 1.172245538327843e-05, 7.686256140004843e-06, 8.610887016402557e-05, 0.0016928409459069371, 1.8109946040567593e-06, 0.9980388283729553, 1.8225849998998456e-05, 0.0, 0.0, 0.0, 0.0, 0.0, 0.0, 0.0, 0.0, 0.0, 0.0, 0.0, 0.0, 0.0, 0.0, 0.0, 0.0, 0.0, 0.0, 0.0, 0.0, 0.0, 0.0, 0.0, 0.0, 0.0, 0.0, 0.0, 0.0, 0.0, 0.0, 0.0, 0.0, 0.0, 0.0, 0.0, 0.0, 0.0, 0.0, 0.0, 0.0, 0.0, 0.0, 0.0, 0.0, 0.0, 0.0, 0.0, 0.0, 0.0, 0.0, 0.0, 0.0, 0.0, 0.0, 0.0, 0.0, 0.0, 0.0], [0.0691475123167038, 0.22703339159488678, 0.5116099119186401, 0.012620731256902218, 0.06582257896661758, 0.047549955546855927, 0.002657411154359579, 0.03039451315999031, 0.018667567521333694, 0.014496455900371075, 0.0, 0.0, 0.0, 0.0, 0.0, 0.0, 0.0, 0.0, 0.0, 0.0, 0.0, 0.0, 0.0, 0.0, 0.0, 0.0, 0.0, 0.0, 0.0, 0.0, 0.0, 0.0, 0.0, 0.0, 0.0, 0.0, 0.0, 0.0, 0.0, 0.0, 0.0, 0.0, 0.0, 0.0, 0.0, 0.0, 0.0, 0.0, 0.0, 0.0, 0.0, 0.0, 0.0, 0.0, 0.0, 0.0, 0.0, 0.0, 0.0, 0.0, 0.0, 0.0, 0.0, 0.0, 0.0, 0.0, 0.0], [0.030060091987252235, 0.15278616547584534, 0.09177155047655106, 0.06906548142433167, 0.017662204802036285, 0.1294340193271637, 0.010122154839336872, 0.013336410745978355, 0.09149821847677231, 0.3069509267807007, 0.08731281012296677, 0.0, 0.0, 0.0, 0.0, 0.0, 0.0, 0.0, 0.0, 0.0, 0.0, 0.0, 0.0, 0.0, 0.0, 0.0, 0.0, 0.0, 0.0, 0.0, 0.0, 0.0, 0.0, 0.0, 0.0, 0.0, 0.0, 0.0, 0.0, 0.0, 0.0, 0.0, 0.0, 0.0, 0.0, 0.0, 0.0, 0.0, 0.0, 0.0, 0.0, 0.0, 0.0, 0.0, 0.0, 0.0, 0.0, 0.0, 0.0, 0.0, 0.0, 0.0, 0.0, 0.0, 0.0, 0.0, 0.0], [0.002219836926087737, 0.004068272653967142, 0.001206372631713748, 0.0005215738783590496, 0.01727680116891861, 0.045254070311784744, 0.013625533320009708, 0.001678184256888926, 0.025200989097356796, 0.8842693567276001, 0.003413059050217271, 0.0012660087086260319, 0.0, 0.0, 0.0, 0.0, 0.0, 0.0, 0.0, 0.0, 0.0, 0.0, 0.0, 0.0, 0.0, 0.0, 0.0, 0.0, 0.0, 0.0, 0.0, 0.0, 0.0, 0.0, 0.0, 0.0, 0.0, 0.0, 0.0, 0.0, 0.0, 0.0, 0.0, 0.0, 0.0, 0.0, 0.0, 0.0, 0.0, 0.0, 0.0, 0.0, 0.0, 0.0, 0.0, 0.0, 0.0, 0.0, 0.0, 0.0, 0.0, 0.0, 0.0, 0.0, 0.0, 0.0, 0.0], [7.533384632552043e-05, 0.0036222287453711033, 0.0005419732769951224, 4.4778105802834034e-05, 0.00018655053281690925, 0.03276248648762703, 0.00020241817401256412, 5.5895710829645395e-05, 0.0001685914321569726, 0.01006051804870367, 5.126652467879467e-05, 0.9521439075469971, 8.399842772632837e-05, 0.0, 0.0, 0.0, 0.0, 0.0, 0.0, 0.0, 0.0, 0.0, 0.0, 0.0, 0.0, 0.0, 0.0, 0.0, 0.0, 0.0, 0.0, 0.0, 0.0, 0.0, 0.0, 0.0, 0.0, 0.0, 0.0, 0.0, 0.0, 0.0, 0.0, 0.0, 0.0, 0.0, 0.0, 0.0, 0.0, 0.0, 0.0, 0.0, 0.0, 0.0, 0.0, 0.0, 0.0, 0.0, 0.0, 0.0, 0.0, 0.0, 0.0, 0.0, 0.0, 0.0, 0.0], [0.12108016014099121, 0.11590074747800827, 0.3809930086135864, 0.10555719584226608, 0.03363821282982826, 0.02827315405011177, 0.0004732848610728979, 0.05269113928079605, 0.024707401171326637, 0.0028667866718024015, 0.08272058516740799, 0.00283616385422647, 0.03646401688456535, 0.011798180639743805, 0.0, 0.0, 0.0, 0.0, 0.0, 0.0, 0.0, 0.0, 0.0, 0.0, 0.0, 0.0, 0.0, 0.0, 0.0, 0.0, 0.0, 0.0, 0.0, 0.0, 0.0, 0.0, 0.0, 0.0, 0.0, 0.0, 0.0, 0.0, 0.0, 0.0, 0.0, 0.0, 0.0, 0.0, 0.0, 0.0, 0.0, 0.0, 0.0, 0.0, 0.0, 0.0, 0.0, 0.0, 0.0, 0.0, 0.0, 0.0, 0.0, 0.0, 0.0, 0.0, 0.0], [0.011600883677601814, 0.012267669662833214, 0.011852660216391087, 0.03708399087190628, 0.009950242005288601, 0.028823575004935265, 0.00347292423248291, 0.12336020171642303, 0.013870556838810444, 0.4077926576137543, 0.05074624717235565, 0.07198045402765274, 0.013953374698758125, 0.09655622392892838, 0.10668838769197464, 0.0, 0.0, 0.0, 0.0, 0.0, 0.0, 0.0, 0.0, 0.0, 0.0, 0.0, 0.0, 0.0, 0.0, 0.0, 0.0, 0.0, 0.0, 0.0, 0.0, 0.0, 0.0, 0.0, 0.0, 0.0, 0.0, 0.0, 0.0, 0.0, 0.0, 0.0, 0.0, 0.0, 0.0, 0.0, 0.0, 0.0, 0.0, 0.0, 0.0, 0.0, 0.0, 0.0, 0.0, 0.0, 0.0, 0.0, 0.0, 0.0, 0.0, 0.0, 0.0], [0.005706634372472763, 0.009508087299764156, 0.002521050861105323, 0.00010076656326418743, 0.07140589505434036, 0.12545201182365417, 0.1227279007434845, 0.001269856351427734, 0.036254625767469406, 0.5439366102218628, 0.005436308681964874, 0.0033465514425188303, 0.013691837899386883, 0.05058817192912102, 0.00593301048502326, 0.002120604505762458, 0.0, 0.0, 0.0, 0.0, 0.0, 0.0, 0.0, 0.0, 0.0, 0.0, 0.0, 0.0, 0.0, 0.0, 0.0, 0.0, 0.0, 0.0, 0.0, 0.0, 0.0, 0.0, 0.0, 0.0, 0.0, 0.0, 0.0, 0.0, 0.0, 0.0, 0.0, 0.0, 0.0, 0.0, 0.0, 0.0, 0.0, 0.0, 0.0, 0.0, 0.0, 0.0, 0.0, 0.0, 0.0, 0.0, 0.0, 0.0, 0.0, 0.0, 0.0], [8.340907515957952e-05, 0.0002137195406248793, 0.0001516876509413123, 0.001349752303212881, 7.424686191370711e-05, 0.0026406638789922, 1.887746293505188e-05, 1.891068859549705e-05, 0.00010657495295163244, 0.00938109215348959, 8.405944754485972e-06, 3.159327388857491e-05, 3.1096140446607023e-05, 0.0029304763302206993, 0.00010151430615223944, 0.9827120304107666, 0.00014597065455745906, 0.0, 0.0, 0.0, 0.0, 0.0, 0.0, 0.0, 0.0, 0.0, 0.0, 0.0, 0.0, 0.0, 0.0, 0.0, 0.0, 0.0, 0.0, 0.0, 0.0, 0.0, 0.0, 0.0, 0.0, 0.0, 0.0, 0.0, 0.0, 0.0, 0.0, 0.0, 0.0, 0.0, 0.0, 0.0, 0.0, 0.0, 0.0, 0.0, 0.0, 0.0, 0.0, 0.0, 0.0, 0.0, 0.0, 0.0, 0.0, 0.0, 0.0], [0.05866766721010208, 0.1620463728904724, 0.15809348225593567, 0.038255419582128525, 0.008011877536773682, 0.040948688983917236, 0.0006313183112069964, 0.2393934726715088, 0.02232847362756729, 0.014925177209079266, 0.05740778148174286, 0.01449736300855875, 0.059298887848854065, 0.015901552513241768, 0.07152432203292847, 0.023492639884352684, 0.003005717881023884, 0.011569852009415627, 0.0, 0.0, 0.0, 0.0, 0.0, 0.0, 0.0, 0.0, 0.0, 0.0, 0.0, 0.0, 0.0, 0.0, 0.0, 0.0, 0.0, 0.0, 0.0, 0.0, 0.0, 0.0, 0.0, 0.0, 0.0, 0.0, 0.0, 0.0, 0.0, 0.0, 0.0, 0.0, 0.0, 0.0, 0.0, 0.0, 0.0, 0.0, 0.0, 0.0, 0.0, 0.0, 0.0, 0.0, 0.0, 0.0, 0.0, 0.0, 0.0], [0.014430709183216095, 0.02184317633509636, 0.012130147777497768, 0.0016953479498624802, 0.020498840138316154, 0.05590242147445679, 0.00406084768474102, 0.33564597368240356, 0.04307449609041214, 0.10457973182201385, 0.02067578211426735, 0.021487923339009285, 0.03237443417310715, 0.17850372195243835, 0.018615534529089928, 0.0011108156759291887, 0.013592996634542942, 0.0866999551653862, 0.013077039271593094, 0.0, 0.0, 0.0, 0.0, 0.0, 0.0, 0.0, 0.0, 0.0, 0.0, 0.0, 0.0, 0.0, 0.0, 0.0, 0.0, 0.0, 0.0, 0.0, 0.0, 0.0, 0.0, 0.0, 0.0, 0.0, 0.0, 0.0, 0.0, 0.0, 0.0, 0.0, 0.0, 0.0, 0.0, 0.0, 0.0, 0.0, 0.0, 0.0, 0.0, 0.0, 0.0, 0.0, 0.0, 0.0, 0.0, 0.0, 0.0], [0.004324072040617466, 0.0031544186640530825, 0.0011368324048817158, 0.0019079645862802863, 0.062093477696180344, 0.07904444634914398, 0.0915723666548729, 0.00011532886856002733, 0.10361821949481964, 0.3572637140750885, 0.0035178621765226126, 0.0010220042895525694, 0.011439725756645203, 0.027485648170113564, 0.0023100029211491346, 0.003587153274565935, 0.03269055113196373, 0.18932558596134186, 0.022933268919587135, 0.0014573660446330905, 0.0, 0.0, 0.0, 0.0, 0.0, 0.0, 0.0, 0.0, 0.0, 0.0, 0.0, 0.0, 0.0, 0.0, 0.0, 0.0, 0.0, 0.0, 0.0, 0.0, 0.0, 0.0, 0.0, 0.0, 0.0, 0.0, 0.0, 0.0, 0.0, 0.0, 0.0, 0.0, 0.0, 0.0, 0.0, 0.0, 0.0, 0.0, 0.0, 0.0, 0.0, 0.0, 0.0, 0.0, 0.0, 0.0, 0.0], [1.2955183592566755e-05, 0.00014916723011992872, 2.8098964321543463e-05, 9.583244491295773e-07, 2.687373307708185e-05, 0.0034435023553669453, 3.5786188163910992e-06, 0.00020799324556719512, 1.8588687453302555e-05, 0.0011369677959010005, 2.3040400265017524e-05, 1.0731634574767668e-05, 1.2937071915075649e-05, 0.0051711685955524445, 1.529749351902865e-05, 2.2272755813901313e-05, 5.354004315449856e-05, 0.002405530074611306, 6.212151788531628e-07, 0.9872055053710938, 5.068141399533488e-05, 0.0, 0.0, 0.0, 0.0, 0.0, 0.0, 0.0, 0.0, 0.0, 0.0, 0.0, 0.0, 0.0, 0.0, 0.0, 0.0, 0.0, 0.0, 0.0, 0.0, 0.0, 0.0, 0.0, 0.0, 0.0, 0.0, 0.0, 0.0, 0.0, 0.0, 0.0, 0.0, 0.0, 0.0, 0.0, 0.0, 0.0, 0.0, 0.0, 0.0, 0.0, 0.0, 0.0, 0.0, 0.0, 0.0], [0.04435334727168083, 0.15810921788215637, 0.2613608241081238, 0.027712706476449966, 0.07098782062530518, 0.03644847869873047, 0.010659447871148586, 0.008907508105039597, 0.06348946690559387, 0.025521358475089073, 0.012313158251345158, 0.014396604150533676, 0.03261339291930199, 0.007725029718130827, 0.11060474067926407, 0.010645291768014431, 0.008708998560905457, 0.005242953076958656, 0.05972129851579666, 0.004977167118340731, 0.015330038964748383, 0.01017117127776146, 0.0, 0.0, 0.0, 0.0, 0.0, 0.0, 0.0, 0.0, 0.0, 0.0, 0.0, 0.0, 0.0, 0.0, 0.0, 0.0, 0.0, 0.0, 0.0, 0.0, 0.0, 0.0, 0.0, 0.0, 0.0, 0.0, 0.0, 0.0, 0.0, 0.0, 0.0, 0.0, 0.0, 0.0, 0.0, 0.0, 0.0, 0.0, 0.0, 0.0, 0.0, 0.0, 0.0, 0.0, 0.0], [0.00714547885581851, 0.0008165606413967907, 0.0007409628015011549, 0.04551634564995766, 0.0017236758721992373, 0.011647255159914494, 0.0016209656605497003, 0.012497968971729279, 0.011300516314804554, 0.09805460274219513, 0.10232611745595932, 0.007184189278632402, 0.008889039978384972, 0.27089598774909973, 0.00512339873239398, 0.09247757494449615, 0.006583098787814379, 0.05777118355035782, 0.0009253877215087414, 0.03137965872883797, 0.03038368932902813, 0.007586867082864046, 0.187409445643425, 0.0, 0.0, 0.0, 0.0, 0.0, 0.0, 0.0, 0.0, 0.0, 0.0, 0.0, 0.0, 0.0, 0.0, 0.0, 0.0, 0.0, 0.0, 0.0, 0.0, 0.0, 0.0, 0.0, 0.0, 0.0, 0.0, 0.0, 0.0, 0.0, 0.0, 0.0, 0.0, 0.0, 0.0, 0.0, 0.0, 0.0, 0.0, 0.0, 0.0, 0.0, 0.0, 0.0, 0.0], [0.007329052314162254, 0.0024111210368573666, 0.0011648377403616905, 0.0024188454262912273, 0.04360717162489891, 0.023367613554000854, 0.05161040648818016, 0.0012679615756496787, 0.10501024127006531, 0.2975709140300751, 0.009808643721044064, 0.00013036017480771989, 0.013386528007686138, 0.015986358746886253, 0.002532348968088627, 0.0009614572627469897, 0.03087250329554081, 0.07541054487228394, 0.026758980005979538, 0.0025124840904027224, 0.03984212130308151, 0.23437617719173431, 0.010427707806229591, 0.001235579140484333, 0.0, 0.0, 0.0, 0.0, 0.0, 0.0, 0.0, 0.0, 0.0, 0.0, 0.0, 0.0, 0.0, 0.0, 0.0, 0.0, 0.0, 0.0, 0.0, 0.0, 0.0, 0.0, 0.0, 0.0, 0.0, 0.0, 0.0, 0.0, 0.0, 0.0, 0.0, 0.0, 0.0, 0.0, 0.0, 0.0, 0.0, 0.0, 0.0, 0.0, 0.0, 0.0, 0.0], [0.0001309792132815346, 0.0003265952109359205, 7.768524665152654e-05, 9.509521623840556e-05, 0.00011926418665098026, 0.009662573225796223, 2.530442907300312e-05, 1.4351960089697968e-05, 0.001233653980307281, 0.006342547945678234, 0.00038391523412428796, 0.00037955178413540125, 0.00031425582710653543, 0.007409559562802315, 0.00030655396403744817, 3.4554315789137036e-05, 0.00018475785327609628, 0.010423777624964714, 0.00031252772896550596, 0.00016470561968162656, 0.0005787404370494187, 0.00569880660623312, 0.0009721288806758821, 0.9543046355247498, 0.0005034930654801428, 0.0, 0.0, 0.0, 0.0, 0.0, 0.0, 0.0, 0.0, 0.0, 0.0, 0.0, 0.0, 0.0, 0.0, 0.0, 0.0, 0.0, 0.0, 0.0, 0.0, 0.0, 0.0, 0.0, 0.0, 0.0, 0.0, 0.0, 0.0, 0.0, 0.0, 0.0, 0.0, 0.0, 0.0, 0.0, 0.0, 0.0, 0.0, 0.0, 0.0, 0.0, 0.0], [0.0537228137254715, 0.11335792392492294, 0.20063212513923645, 0.14076660573482513, 0.046849340200424194, 0.06691381335258484, 0.019391708076000214, 0.01657446287572384, 0.039435215294361115, 0.039404839277267456, 0.009760471060872078, 0.008672867901623249, 0.022486429661512375, 0.05465324595570564, 0.01755346544086933, 0.03541234880685806, 0.03965282812714577, 0.003950281068682671, 0.005576870869845152, 0.01773763820528984, 0.021880215033888817, 0.0017540563130751252, 0.004153845366090536, 0.0029492052271962166, 0.003502961015328765, 0.013254360295832157, 0.0, 0.0, 0.0, 0.0, 0.0, 0.0, 0.0, 0.0, 0.0, 0.0, 0.0, 0.0, 0.0, 0.0, 0.0, 0.0, 0.0, 0.0, 0.0, 0.0, 0.0, 0.0, 0.0, 0.0, 0.0, 0.0, 0.0, 0.0, 0.0, 0.0, 0.0, 0.0, 0.0, 0.0, 0.0, 0.0, 0.0, 0.0, 0.0, 0.0, 0.0], [0.01247144304215908, 0.0028850906528532505, 0.0015427269972860813, 0.00010653346544131637, 0.03650130704045296, 0.012994633056223392, 0.472881942987442, 0.0003789460752159357, 0.030150217935442924, 0.004828241188079119, 0.0009624052327126265, 9.78208026936045e-06, 0.006091815419495106, 0.04012457653880119, 0.0012174262665212154, 0.0022559547796845436, 0.012835557572543621, 0.021471057087183, 0.04602232947945595, 0.000978636322543025, 0.01704930141568184, 0.1930372267961502, 0.0006144801154732704, 6.712602771585807e-05, 0.0004608704475685954, 0.07804420590400696, 0.004016181919723749, 0.0, 0.0, 0.0, 0.0, 0.0, 0.0, 0.0, 0.0, 0.0, 0.0, 0.0, 0.0, 0.0, 0.0, 0.0, 0.0, 0.0, 0.0, 0.0, 0.0, 0.0, 0.0, 0.0, 0.0, 0.0, 0.0, 0.0, 0.0, 0.0, 0.0, 0.0, 0.0, 0.0, 0.0, 0.0, 0.0, 0.0, 0.0, 0.0, 0.0], [0.005427361931651831, 0.0030808623414486647, 0.0009661589283496141, 0.00021602146443910897, 0.03920064866542816, 0.02526750974357128, 0.074940986931324, 0.0010696944082155824, 0.054358500987291336, 0.10195884108543396, 0.005948227364569902, 0.0026455605402588844, 0.012678307481110096, 0.0131607037037611, 0.0021208792459219694, 0.00031638264772482216, 0.02327311411499977, 0.11796872317790985, 0.027991723269224167, 0.0021681482903659344, 0.035709161311388016, 0.35378023982048035, 0.0066469404846429825, 0.004079228267073631, 0.007242506369948387, 0.06354039907455444, 0.012219621799886227, 0.0020234929397702217, 0.0, 0.0, 0.0, 0.0, 0.0, 0.0, 0.0, 0.0, 0.0, 0.0, 0.0, 0.0, 0.0, 0.0, 0.0, 0.0, 0.0, 0.0, 0.0, 0.0, 0.0, 0.0, 0.0, 0.0, 0.0, 0.0, 0.0, 0.0, 0.0, 0.0, 0.0, 0.0, 0.0, 0.0, 0.0, 0.0, 0.0, 0.0, 0.0], [1.6721525753382593e-05, 9.261028026230633e-05, 3.405632378417067e-05, 0.0002643134503159672, 1.6266874808934517e-05, 0.0003971380938310176, 6.085987479309551e-06, 4.1643434087745845e-05, 3.8831021811347455e-05, 0.0022383856121450663, 4.3401836592238396e-05, 9.745136594574433e-06, 1.853373396443203e-05, 0.0007869250257499516, 0.00015637802425771952, 0.00032270874362438917, 3.4719483664957806e-05, 0.0013960010837763548, 9.07816593098687e-06, 6.0980859416304156e-05, 0.00012605679512489587, 0.004275869578123093, 3.265944906161167e-05, 0.00012387035530991852, 8.912837074603885e-05, 0.0015938165597617626, 7.778133408464782e-07, 0.9873480796813965, 0.0004251922364346683, 0.0, 0.0, 0.0, 0.0, 0.0, 0.0, 0.0, 0.0, 0.0, 0.0, 0.0, 0.0, 0.0, 0.0, 0.0, 0.0, 0.0, 0.0, 0.0, 0.0, 0.0, 0.0, 0.0, 0.0, 0.0, 0.0, 0.0, 0.0, 0.0, 0.0, 0.0, 0.0, 0.0, 0.0, 0.0, 0.0, 0.0, 0.0], [0.009886554442346096, 0.017327135428786278, 0.046154607087373734, 0.009872771799564362, 0.010204089805483818, 0.01398098561912775, 0.006554345600306988, 0.007333722431212664, 0.018037451431155205, 0.0710914358496666, 0.13862396776676178, 0.007538309320807457, 0.03672878444194794, 0.0171345304697752, 0.02196453884243965, 0.0017600093269720674, 0.002729862229898572, 0.04386692866683006, 0.0003949935780838132, 0.07838868349790573, 0.06417743116617203, 0.010699177160859108, 0.19526244699954987, 0.010478654876351357, 0.12240582704544067, 0.00489017041400075, 0.00284339627251029, 0.00848307553678751, 0.004331018775701523, 0.016855034977197647, 0.0, 0.0, 0.0, 0.0, 0.0, 0.0, 0.0, 0.0, 0.0, 0.0, 0.0, 0.0, 0.0, 0.0, 0.0, 0.0, 0.0, 0.0, 0.0, 0.0, 0.0, 0.0, 0.0, 0.0, 0.0, 0.0, 0.0, 0.0, 0.0, 0.0, 0.0, 0.0, 0.0, 0.0, 0.0, 0.0, 0.0], [0.0017258772859349847, 0.002778011839836836, 0.001587212784215808, 0.006526030134409666, 0.009268996305763721, 0.004763230215758085, 0.0025374561082571745, 0.03942836448550224, 0.005558868404477835, 0.09249342232942581, 0.029786230996251106, 0.02106575295329094, 0.008586508221924305, 0.1067405492067337, 0.03894107788801193, 0.03513363003730774, 0.058668121695518494, 0.08242814987897873, 0.00934714823961258, 0.012196999974548817, 0.017270399257540703, 0.1104930192232132, 0.031213751062750816, 0.028131337836384773, 0.008825342170894146, 0.03458455204963684, 0.0002747604448813945, 0.0639604851603508, 0.07028676569461823, 0.015492578968405724, 0.0499054454267025, 0.0, 0.0, 0.0, 0.0, 0.0, 0.0, 0.0, 0.0, 0.0, 0.0, 0.0, 0.0, 0.0, 0.0, 0.0, 0.0, 0.0, 0.0, 0.0, 0.0, 0.0, 0.0, 0.0, 0.0, 0.0, 0.0, 0.0, 0.0, 0.0, 0.0, 0.0, 0.0, 0.0, 0.0, 0.0, 0.0], [0.005911135580390692, 0.002337842946872115, 0.0011677760630846024, 0.001233030459843576, 0.06229955703020096, 0.014650724828243256, 0.20261551439762115, 6.423758168239146e-05, 0.08268152922391891, 0.08844340592622757, 0.00233635981567204, 0.001975823426619172, 0.008600128814578056, 0.0029608369804918766, 0.0020079300738871098, 0.0012506074272096157, 0.033124931156635284, 0.03445877879858017, 0.053720299154520035, 7.780660962453112e-05, 0.01703839935362339, 0.11295349895954132, 0.0013844374334439635, 0.0008303630165755749, 0.0032737210858613253, 0.02713298425078392, 0.021091768518090248, 0.0019693542271852493, 0.00654274458065629, 0.20318914949893951, 0.0019138508941978216, 0.0007615147042088211, 0.0, 0.0, 0.0, 0.0, 0.0, 0.0, 0.0, 0.0, 0.0, 0.0, 0.0, 0.0, 0.0, 0.0, 0.0, 0.0, 0.0, 0.0, 0.0, 0.0, 0.0, 0.0, 0.0, 0.0, 0.0, 0.0, 0.0, 0.0, 0.0, 0.0, 0.0, 0.0, 0.0, 0.0, 0.0], [2.7682704967446625e-05, 0.0005232159746810794, 0.00010003590432461351, 2.503242058082833e-06, 0.00010762892634375021, 0.0016442039050161839, 2.1106860003783368e-05, 0.0008427408174611628, 0.00016824335034471005, 0.0007305481703951955, 7.380896477116039e-06, 4.680560596170835e-05, 3.0460038033197634e-05, 0.002901584841310978, 6.400197889888659e-05, 1.9233362763770856e-05, 4.8077192332129925e-05, 0.0005271444097161293, 1.216398140968522e-05, 0.00038470979779958725, 0.00011067940067732707, 0.00234740087762475, 1.6522359146620147e-05, 6.031651719240472e-05, 1.2109200724808034e-05, 0.0029952474869787693, 2.073732321150601e-05, 0.00038251731893979013, 0.00023694639094173908, 0.00033441782579757273, 4.520165748544969e-05, 0.9847186207771301, 0.000509783101733774, 0.0, 0.0, 0.0, 0.0, 0.0, 0.0, 0.0, 0.0, 0.0, 0.0, 0.0, 0.0, 0.0, 0.0, 0.0, 0.0, 0.0, 0.0, 0.0, 0.0, 0.0, 0.0, 0.0, 0.0, 0.0, 0.0, 0.0, 0.0, 0.0, 0.0, 0.0, 0.0, 0.0, 0.0], [0.009520318359136581, 0.005547272972762585, 0.01850525662302971, 0.024038897827267647, 0.018695203587412834, 0.0030726122204214334, 0.008276761509478092, 0.0010313832899555564, 0.007301616948097944, 0.031137671321630478, 0.2615128755569458, 0.08661242574453354, 0.02943023107945919, 0.00780840776860714, 0.049004774540662766, 0.001211195020005107, 0.05024769529700279, 0.010908922180533409, 0.0019244564464315772, 0.011177883483469486, 0.0175792146474123, 0.0009102438925765455, 0.0545460544526577, 0.029724102467298508, 0.18433581292629242, 0.0015704723773524165, 0.0009796787053346634, 0.008694932796061039, 0.0064476835541427135, 0.003531940747052431, 0.03568607196211815, 0.00036797297070734203, 0.0008082723361440003, 0.017851755023002625, 0.0, 0.0, 0.0, 0.0, 0.0, 0.0, 0.0, 0.0, 0.0, 0.0, 0.0, 0.0, 0.0, 0.0, 0.0, 0.0, 0.0, 0.0, 0.0, 0.0, 0.0, 0.0, 0.0, 0.0, 0.0, 0.0, 0.0, 0.0, 0.0, 0.0, 0.0, 0.0, 0.0], [0.0033996691927313805, 0.001402828493155539, 0.0019290299387648702, 0.08941096812486649, 0.004696360323578119, 0.0066878916695714, 0.003704322036355734, 0.010076278820633888, 0.007910315878689289, 0.014405687339603901, 0.021971968933939934, 0.00913406815379858, 0.0016176140634343028, 0.05561229586601257, 0.012216122820973396, 0.022805949673056602, 0.007201370317488909, 0.04544144868850708, 0.0026631804648786783, 0.018302299082279205, 0.028794853016734123, 0.13269850611686707, 0.0587710402905941, 0.004259055480360985, 0.008185295388102531, 0.050919294357299805, 0.000783521740231663, 0.11375491321086884, 0.011357489041984081, 0.0209993664175272, 0.041361160576343536, 0.025966936722397804, 0.09477872401475906, 0.006987356580793858, 0.059792861342430115, 0.0, 0.0, 0.0, 0.0, 0.0, 0.0, 0.0, 0.0, 0.0, 0.0, 0.0, 0.0, 0.0, 0.0, 0.0, 0.0, 0.0, 0.0, 0.0, 0.0, 0.0, 0.0, 0.0, 0.0, 0.0, 0.0, 0.0, 0.0, 0.0, 0.0, 0.0, 0.0], [0.008746150881052017, 0.0037889983505010605, 0.001928540412336588, 0.0004434221191331744, 0.07275328785181046, 0.012257963418960571, 0.22128154337406158, 0.0012241789372637868, 0.08798501640558243, 0.050190433859825134, 0.002597698476165533, 0.00012181329657323658, 0.013047474436461926, 0.004713031928986311, 0.0014820634387433529, 0.0022369155194610357, 0.022054342553019524, 0.022347914054989815, 0.03346698358654976, 0.0018369393656030297, 0.028594164177775383, 0.11504770815372467, 0.0021889726631343365, 0.00010812725668074563, 0.002724616788327694, 0.02457798644900322, 0.048682328313589096, 0.0010064406087622046, 0.0036183157935738564, 0.1766446828842163, 0.0017128689214587212, 0.00212480197660625, 0.007036394905298948, 0.017014378681778908, 0.0035282555036246777, 0.0008852759492583573, 0.0, 0.0, 0.0, 0.0, 0.0, 0.0, 0.0, 0.0, 0.0, 0.0, 0.0, 0.0, 0.0, 0.0, 0.0, 0.0, 0.0, 0.0, 0.0, 0.0, 0.0, 0.0, 0.0, 0.0, 0.0, 0.0, 0.0, 0.0, 0.0, 0.0, 0.0], [4.018842810182832e-05, 9.317900548921898e-05, 4.790725142811425e-05, 2.0541810954455286e-05, 5.805640830658376e-05, 0.0013066286919638515, 5.39503016625531e-05, 1.5050393642468407e-07, 0.0011777464533224702, 0.0016931656282395124, 1.0773813301057089e-05, 7.801124593243003e-05, 1.2071071068930905e-05, 0.00027780758682638407, 8.083346983767115e-06, 6.471446340583498e-06, 1.2066593626514077e-05, 0.0004152886976953596, 4.314199031796306e-06, 4.474031811696477e-07, 0.00013039866462349892, 0.000697030161973089, 4.518782225204632e-05, 0.0003837629337795079, 2.381362719461322e-05, 0.0012844480806961656, 1.4924516108294483e-05, 2.3539018002338707e-05, 1.3294587006384972e-05, 0.0012424839660525322, 1.08799049485242e-05, 6.135073635959998e-05, 5.456106009660289e-05, 0.0016664671711623669, 4.00250282837078e-05, 0.9889281988143921, 6.284582923399284e-05, 0.0, 0.0, 0.0, 0.0, 0.0, 0.0, 0.0, 0.0, 0.0, 0.0, 0.0, 0.0, 0.0, 0.0, 0.0, 0.0, 0.0, 0.0, 0.0, 0.0, 0.0, 0.0, 0.0, 0.0, 0.0, 0.0, 0.0, 0.0, 0.0, 0.0], [0.010672356933355331, 0.007002757862210274, 0.011880133301019669, 0.022431811317801476, 0.012900092639029026, 0.013462363742291927, 0.0023767203092575073, 0.014918302185833454, 0.005727396346628666, 0.02154734544456005, 0.07139204442501068, 0.05238554999232292, 0.02353799343109131, 0.03111189231276512, 0.026398759335279465, 0.01572015881538391, 0.005349511746317148, 0.04986242204904556, 0.0012074689147993922, 0.05698246881365776, 0.056392036378383636, 0.024875707924365997, 0.03438285365700722, 0.003505055559799075, 0.06530211120843887, 0.008268051780760288, 0.00023864502145443112, 0.03875290974974632, 0.02387678436934948, 0.009414250031113625, 0.18084816634655, 0.001798670506104827, 0.021269995719194412, 0.016360914334654808, 0.04276753589510918, 0.005927471909672022, 0.001784944674000144, 0.007366430014371872, 0.0, 0.0, 0.0, 0.0, 0.0, 0.0, 0.0, 0.0, 0.0, 0.0, 0.0, 0.0, 0.0, 0.0, 0.0, 0.0, 0.0, 0.0, 0.0, 0.0, 0.0, 0.0, 0.0, 0.0, 0.0, 0.0, 0.0, 0.0, 0.0], [0.03786534443497658, 0.0036190557293593884, 0.002475597895681858, 0.0018009026534855366, 0.01931176148355007, 0.008835076354444027, 0.16956043243408203, 0.03709482029080391, 0.04442411661148071, 0.01231481321156025, 0.01714903675019741, 0.0008446087595075369, 0.021307459101080894, 0.014806258492171764, 0.004199921619147062, 0.0024763450492173433, 0.006624950096011162, 0.02135717310011387, 0.045872580260038376, 0.009403109550476074, 0.08444660902023315, 0.0835878774523735, 0.0011856132186949253, 5.2040046284673735e-05, 0.00475672073662281, 0.030844125896692276, 0.011500347405672073, 0.0621635839343071, 0.009626248851418495, 0.054253824055194855, 0.008911808021366596, 0.000636958924587816, 0.004355126526206732, 0.05743180960416794, 0.005486090201884508, 0.00010272899817209691, 0.01828991062939167, 0.06547658145427704, 0.015548699535429478, 0.0, 0.0, 0.0, 0.0, 0.0, 0.0, 0.0, 0.0, 0.0, 0.0, 0.0, 0.0, 0.0, 0.0, 0.0, 0.0, 0.0, 0.0, 0.0, 0.0, 0.0, 0.0, 0.0, 0.0, 0.0, 0.0, 0.0, 0.0], [0.006519162096083164, 0.0032928348518908024, 0.0017007787246257067, 0.00028766298783011734, 0.04749450460076332, 0.008641598746180534, 0.2484142929315567, 0.00025398677098564804, 0.07733163237571716, 0.02450929954648018, 0.002705937484279275, 0.0005615592235699296, 0.011605479754507542, 0.0017124826554208994, 0.0008097917307168245, 0.00022671317856293172, 0.012805369682610035, 0.012940746732056141, 0.04835248365998268, 0.0009937873110175133, 0.017436739057302475, 0.04823628440499306, 0.0016188753070309758, 0.0009817056125029922, 0.003279332770034671, 0.012138995341956615, 0.07340121269226074, 0.00021031186042819172, 0.0026307718362659216, 0.17996123433113098, 0.0009451140649616718, 0.0010378146544098854, 0.00403675576671958, 0.016667649149894714, 0.002160821808502078, 0.0022666919976472855, 0.04320892319083214, 0.05949782207608223, 0.017896967008709908, 0.0012258266797289252, 0.0, 0.0, 0.0, 0.0, 0.0, 0.0, 0.0, 0.0, 0.0, 0.0, 0.0, 0.0, 0.0, 0.0, 0.0, 0.0, 0.0, 0.0, 0.0, 0.0, 0.0, 0.0, 0.0, 0.0, 0.0, 0.0, 0.0], [0.0004417623276822269, 0.00038167208549566567, 0.00017461852985434234, 1.185162886940816e-06, 0.0004965434782207012, 0.0008947658934630454, 0.0014540883712470531, 7.400494359899312e-05, 0.0009200451313517988, 0.0014273113338276744, 3.8291418604785576e-05, 8.962646234067506e-07, 0.00029678636929020286, 0.0013719415292143822, 3.7399404391180724e-05, 0.00035384914372116327, 0.00014900304086040705, 0.0006643937667831779, 4.890672425972298e-05, 2.857367871911265e-05, 0.00047312775859609246, 0.0018222793005406857, 3.3236228773603216e-05, 3.1814090561965713e-06, 4.924646782455966e-05, 0.003278770251199603, 2.009690615523141e-05, 0.0003864253230858594, 9.538112499285489e-05, 0.0016648523742333055, 4.6244160330388695e-05, 8.99917577044107e-05, 2.9675198675249703e-05, 0.012352610006928444, 9.873080853139982e-05, 4.2718020267784595e-05, 9.666756523074582e-05, 0.002425222657620907, 6.136257525213296e-06, 0.9675058722496033, 0.00022349688515532762, 0.0, 0.0, 0.0, 0.0, 0.0, 0.0, 0.0, 0.0, 0.0, 0.0, 0.0, 0.0, 0.0, 0.0, 0.0, 0.0, 0.0, 0.0, 0.0, 0.0, 0.0, 0.0, 0.0, 0.0, 0.0, 0.0], [0.019291432574391365, 0.008950885385274887, 0.016411347314715385, 0.11909954994916916, 0.01060155313462019, 0.0021024192683398724, 0.005031705368310213, 0.03760577738285065, 0.029255349189043045, 0.022332442924380302, 0.08939361572265625, 0.004401028156280518, 0.021085938438773155, 0.005485005211085081, 0.010727227665483952, 0.0011390892323106527, 0.005631245207041502, 0.014439357444643974, 0.006442686077207327, 0.003670281730592251, 0.06325969845056534, 0.01915699616074562, 0.060540687292814255, 0.0015564693603664637, 0.11170414835214615, 0.008086402900516987, 0.039867695420980453, 0.0032168440520763397, 0.019290097057819366, 0.015336240641772747, 0.012018428184092045, 0.008322306908667088, 0.03663414716720581, 0.007032513152807951, 0.0801691859960556, 0.002826735842972994, 0.04688214510679245, 0.003906161757186055, 0.0005895129288546741, 0.0010884929215535522, 0.019844330847263336, 0.005572905298322439, 0.0, 0.0, 0.0, 0.0, 0.0, 0.0, 0.0, 0.0, 0.0, 0.0, 0.0, 0.0, 0.0, 0.0, 0.0, 0.0, 0.0, 0.0, 0.0, 0.0, 0.0, 0.0, 0.0, 0.0, 0.0], [0.00339505379088223, 0.0022653331980109215, 0.0013489472912624478, 0.00031739287078380585, 0.020339244976639748, 0.0023911732714623213, 0.29176387190818787, 0.00036223523784428835, 0.037756022065877914, 0.0010968861170113087, 0.0014550067717209458, 0.019370269030332565, 0.013610957190394402, 0.0031084842048585415, 0.0024713254533708096, 6.498689617728814e-05, 0.011307384818792343, 0.013791718520224094, 0.03310634195804596, 0.0036143281031399965, 0.024553736671805382, 0.02833683416247368, 0.0010051055578514934, 0.0007313850219361484, 0.002782643074169755, 0.01649194210767746, 0.03899139165878296, 1.6978458006633446e-05, 0.011954997666180134, 0.020592890679836273, 0.02210923098027706, 0.014481171034276485, 0.0060844081453979015, 0.025189850479364395, 0.010453082621097565, 0.00016247971507254988, 0.030131639912724495, 0.046495597809553146, 0.22260361909866333, 6.642892549280077e-05, 0.0028008795343339443, 0.005587493535131216, 0.005439328029751778, 0.0, 0.0, 0.0, 0.0, 0.0, 0.0, 0.0, 0.0, 0.0, 0.0, 0.0, 0.0, 0.0, 0.0, 0.0, 0.0, 0.0, 0.0, 0.0, 0.0, 0.0, 0.0, 0.0, 0.0], [0.006047520320862532, 0.00197320943698287, 0.0011357938637956977, 0.00032506731804460287, 0.039696626365184784, 0.004426334053277969, 0.42322707176208496, 0.00016393008991144598, 0.03727695718407631, 0.02812236361205578, 0.0024268366396427155, 0.00031264417339116335, 0.009843353182077408, 0.001105891540646553, 0.0008467560401186347, 0.0003840444842353463, 0.014963928610086441, 0.007351995911449194, 0.06572862714529037, 0.00025863590417429805, 0.007161736022680998, 0.02030857466161251, 0.0005574901006184518, 0.000529373181052506, 0.002070095855742693, 0.005592145957052708, 0.03569241985678673, 0.000729984778445214, 0.001838983385823667, 0.1151583194732666, 0.00044509468716569245, 0.0001878072798717767, 0.0012005609460175037, 0.013761848211288452, 0.0007530737202614546, 0.0005067840684205294, 0.015789786353707314, 0.0296157319098711, 0.017997417598962784, 0.002002856694161892, 0.006659867707639933, 0.07198699563741684, 0.0025134077295660973, 0.0013220221735537052, 0.0, 0.0, 0.0, 0.0, 0.0, 0.0, 0.0, 0.0, 0.0, 0.0, 0.0, 0.0, 0.0, 0.0, 0.0, 0.0, 0.0, 0.0, 0.0, 0.0, 0.0, 0.0, 0.0], [4.750952575705014e-05, 4.673853618442081e-05, 2.1916293917456642e-05, 1.381998231408943e-07, 0.00038893139571882784, 0.00052039441652596, 0.0010719068814069033, 2.0653594674513442e-06, 0.0002902350970543921, 0.000251027406193316, 1.751700801833067e-05, 0.0002218327863374725, 0.0002568272175267339, 0.000528295582626015, 5.0518912757979706e-05, 8.753576707931643e-07, 0.00018692151934374124, 0.0004151116590946913, 4.979615187039599e-05, 0.00030733676976524293, 0.0002152368688257411, 0.0003162476932629943, 6.982791546761291e-06, 8.04247974883765e-06, 3.235020994907245e-05, 0.0003111333935521543, 6.515235781989759e-06, 6.531351459670987e-07, 4.311372686061077e-05, 0.00013191779726184905, 0.0001454814919270575, 0.00023809877166058868, 2.8008575100102462e-05, 0.0014128178590908647, 1.8062530216411687e-05, 1.3484107512340415e-05, 3.013108653249219e-05, 0.0022722219582647085, 0.0001281263103010133, 4.125920168007724e-05, 3.688816650537774e-05, 0.00023863230308052152, 9.767742312760674e-07, 0.9890473484992981, 0.0006003639427945018, 0.0, 0.0, 0.0, 0.0, 0.0, 0.0, 0.0, 0.0, 0.0, 0.0, 0.0, 0.0, 0.0, 0.0, 0.0, 0.0, 0.0, 0.0, 0.0, 0.0, 0.0, 0.0], [0.0049624377861619, 0.01138011459261179, 0.017005398869514465, 0.0002690106921363622, 0.005293476395308971, 0.0024631076958030462, 0.0006142144557088614, 0.17315147817134857, 0.013571370393037796, 0.04361299052834511, 0.05629657953977585, 0.01931001804769039, 0.016089098528027534, 0.008143679238855839, 0.012712851166725159, 9.919542935676873e-05, 0.0031786158215254545, 0.0011829790892079473, 0.0014701297041028738, 0.013232691213488579, 0.011453662998974323, 0.0012659025378525257, 0.16918230056762695, 0.007789332885295153, 0.032476164400577545, 0.0026542707346379757, 0.017506251111626625, 0.0003516722936183214, 0.0018554518464952707, 0.0047992076724767685, 0.00314438808709383, 0.004503622185438871, 0.003585643135011196, 0.006399135570973158, 0.008133526891469955, 0.0333540253341198, 0.05035925284028053, 0.0010292211081832647, 9.479471145823481e-07, 0.00975397415459156, 0.21574728190898895, 0.0017845577094703913, 3.7025871279183775e-05, 0.0007903091027401388, 0.0001593359193066135, 0.007844112813472748, 0.0, 0.0, 0.0, 0.0, 0.0, 0.0, 0.0, 0.0, 0.0, 0.0, 0.0, 0.0, 0.0, 0.0, 0.0, 0.0, 0.0, 0.0, 0.0, 0.0, 0.0], [0.02593129128217697, 0.0026285534258931875, 0.003723899368196726, 0.16380615532398224, 0.02467222511768341, 0.0024145864881575108, 0.26523181796073914, 0.000700047705322504, 0.09893418103456497, 0.011856615543365479, 0.0034268072340637445, 0.0004730484797619283, 0.006490176543593407, 0.005150618962943554, 0.000872526376042515, 0.014397455379366875, 0.008974865078926086, 0.002363319043070078, 0.013806846924126148, 0.00078482337994501, 0.026682712137699127, 0.008674748241901398, 0.0014234510017558932, 0.0007189585012383759, 0.0016484078951179981, 0.003733350895345211, 0.05608934536576271, 0.003469828050583601, 0.0013960269279778004, 0.017186462879180908, 0.0027298128698021173, 2.9476928830263205e-05, 0.006113775074481964, 0.014055293053388596, 0.008561107330024242, 0.0140700563788414, 0.01783434860408306, 0.010602172464132309, 0.008262211456894875, 0.00046229173312895, 0.011685799807310104, 0.027646949514746666, 0.004661222454160452, 0.0001723124150885269, 0.003056176705285907, 0.0891607478260994, 0.0032330849207937717, 0.0, 0.0, 0.0, 0.0, 0.0, 0.0, 0.0, 0.0, 0.0, 0.0, 0.0, 0.0, 0.0, 0.0, 0.0, 0.0, 0.0, 0.0, 0.0, 0.0], [0.00562343280762434, 0.0017896227072924376, 0.0011279594618827105, 0.00038966702413745224, 0.03420087322592735, 0.003995690960437059, 0.48067834973335266, 0.0003001077857334167, 0.02467172220349312, 0.01219664141535759, 0.0020996257662773132, 0.00014612813538406044, 0.009034226648509502, 0.0009850184433162212, 0.0009452839731238782, 0.00028810539515689015, 0.010367696173489094, 0.00492296926677227, 0.06143590062856674, 0.0005294089205563068, 0.0075864847749471664, 0.015767045319080353, 0.000292459677439183, 0.0001349200465483591, 0.0012036829721182585, 0.0039017891976982355, 0.034197594970464706, 0.0006346203153952956, 0.0015445228200405836, 0.0517745241522789, 0.0005164172034710646, 0.0009711459861136973, 0.0018145195208489895, 0.0068990085273981094, 0.0005168419447727501, 0.0001260908757103607, 0.01346371416002512, 0.02600366808474064, 0.02709376998245716, 0.0009553168201819062, 0.0035722681786864996, 0.056182362139225006, 0.0029185046441853046, 0.0014148436021059752, 0.019167229533195496, 0.052570097148418427, 0.011837915517389774, 0.001210252521559596, 0.0, 0.0, 0.0, 0.0, 0.0, 0.0, 0.0, 0.0, 0.0, 0.0, 0.0, 0.0, 0.0, 0.0, 0.0, 0.0, 0.0, 0.0, 0.0], [2.9580074624391273e-05, 1.774103111529257e-05, 1.452303786209086e-05, 6.521082832477987e-05, 4.65152261313051e-05, 2.7595993742579594e-05, 0.0009393874788656831, 2.6163052169181356e-08, 0.00045272536226548254, 0.0002129582571797073, 1.630746373848524e-05, 1.255241102171567e-07, 5.514129588846117e-05, 5.46165720152203e-05, 3.186694129908574e-06, 1.569787855260074e-05, 1.262922251044074e-05, 8.061843982432038e-05, 2.9562053896370344e-05, 1.1360789642367308e-07, 0.00019143783720210195, 0.00017298695456702262, 5.579716344072949e-06, 7.875865412643179e-05, 4.459556294023059e-06, 5.479003448272124e-05, 4.014307251054561e-06, 8.831892046146095e-06, 1.2560733921418432e-05, 0.00010473034490132704, 1.0706003195082303e-05, 4.973042564415664e-07, 5.842297468916513e-06, 0.000647164648398757, 5.45265938853845e-05, 0.00010444239887874573, 3.3876389352371916e-05, 0.0003856186813209206, 1.4248984371079132e-05, 1.4418830687645823e-05, 3.099524838034995e-05, 0.0002911205228883773, 5.895935373700922e-06, 2.1387830202002078e-05, 8.16078027128242e-05, 0.002280793385580182, 4.803724209523352e-07, 0.993230938911438, 7.296916737686843e-05, 0.0, 0.0, 0.0, 0.0, 0.0, 0.0, 0.0, 0.0, 0.0, 0.0, 0.0, 0.0, 0.0, 0.0, 0.0, 0.0, 0.0, 0.0], [0.004393671173602343, 0.0008358118357136846, 0.0011514299549162388, 0.0038768802769482136, 0.0006306578288786113, 0.0022848527878522873, 0.06036832556128502, 0.00025514961453154683, 0.01792994886636734, 0.014422900974750519, 0.03704025596380234, 0.02132653445005417, 0.02256365492939949, 0.007715579587966204, 0.020826909691095352, 0.010690614581108093, 0.004375594202429056, 0.012450912036001682, 0.006762726232409477, 0.00046361819840967655, 0.06924556940793991, 0.0054849423468112946, 0.030160563066601753, 0.051551856100559235, 0.006119537632912397, 0.007856403477489948, 0.0004962838720530272, 0.0019312158692628145, 0.00630813417956233, 0.009557604789733887, 0.018579881638288498, 0.0006378223188221455, 0.0011705559445545077, 0.02228384278714657, 0.011262485757470131, 0.006074945908039808, 0.03160039708018303, 0.018106108531355858, 2.841610921677784e-06, 0.06994551420211792, 0.11330515146255493, 0.00460859527811408, 1.3952438848718884e-06, 0.006502875126898289, 0.20149743556976318, 0.014022989198565483, 3.5850143831339665e-06, 0.010175865143537521, 0.006960694678127766, 0.024178992956876755, 0.0, 0.0, 0.0, 0.0, 0.0, 0.0, 0.0, 0.0, 0.0, 0.0, 0.0, 0.0, 0.0, 0.0, 0.0, 0.0, 0.0], [0.00013787949865218252, 0.0003879564465023577, 0.00031190496520139277, 0.0014210243243724108, 0.0006570335826836526, 0.00023614836391061544, 0.002795979380607605, 0.017606275156140327, 0.001930088852532208, 0.0014138201950117946, 0.0003170892596244812, 9.288395813200623e-05, 0.0011272730771452188, 0.002474046777933836, 0.00040903102490119636, 0.00012529670493677258, 0.00024120151647366583, 0.0013547927374020219, 0.0005208884831517935, 0.013192550279200077, 0.0018802224658429623, 0.004437225870788097, 0.0004807320365216583, 0.0002549228956922889, 0.00024553341791033745, 0.00032162826391868293, 0.00146969105117023, 0.0009651203290559351, 0.0001686477626208216, 0.0016668766038492322, 0.0002943309082183987, 0.005321848206222057, 0.00030745405820198357, 0.005652193911373615, 0.0010024983203038573, 0.0006012312369421124, 0.0020784703083336353, 0.0037058128509670496, 0.0015150078106671572, 0.002348007634282112, 0.004240839742124081, 0.007957814261317253, 0.00036720591015182436, 0.08547350019216537, 0.002578925807029009, 0.027891412377357483, 3.676756750792265e-05, 0.006419753655791283, 0.4521988034248352, 0.014356094412505627, 0.31700825691223145, 0.0, 0.0, 0.0, 0.0, 0.0, 0.0, 0.0, 0.0, 0.0, 0.0, 0.0, 0.0, 0.0, 0.0, 0.0, 0.0], [0.006572681944817305, 0.0025944700464606285, 0.0017470835009589791, 0.0014978968538343906, 0.04959837347269058, 0.0069599393755197525, 0.18448412418365479, 0.0008131623035296798, 0.06646198034286499, 0.030701858922839165, 0.0030704026576131582, 0.0010677467798814178, 0.01376358326524496, 0.0018374157370999455, 0.0008069192408584058, 0.00011623439058894292, 0.010419071651995182, 0.007520728744566441, 0.07099094241857529, 0.0007100371876731515, 0.01104758307337761, 0.01561355497688055, 0.0009632958099246025, 0.0012874160893261433, 0.0025966730900108814, 0.0033090440556406975, 0.1683070808649063, 5.156216866453178e-05, 0.0017319128382951021, 0.05578574538230896, 0.0006926363566890359, 0.00267570442520082, 0.0032023086678236723, 0.0035203583538532257, 0.0008791013970039785, 0.001192284980788827, 0.025797221809625626, 0.020835278555750847, 0.046284470707178116, 9.352236520498991e-05, 0.005363650619983673, 0.02947600930929184, 0.012705211527645588, 0.0009674216853454709, 0.004683788400143385, 0.0467662550508976, 0.02561146393418312, 0.0012740673264488578, 0.006278595887124538, 0.02091980166733265, 0.016791848465800285, 0.001560451346449554, 0.0, 0.0, 0.0, 0.0, 0.0, 0.0, 0.0, 0.0, 0.0, 0.0, 0.0, 0.0, 0.0, 0.0, 0.0], [7.70014594309032e-05, 0.00022834629635326564, 0.00013576816127169877, 1.6331745428033173e-05, 0.00015788120799697936, 0.0001402507332386449, 0.0003307131410110742, 0.001289731590077281, 0.00021023671433795244, 0.0014494883362203836, 9.344067075289786e-05, 8.228858519032656e-07, 8.218075527111068e-05, 0.001001332770101726, 1.4656669009127654e-05, 4.82816585645196e-06, 1.539833829156123e-05, 0.00022309814812615514, 7.71198119764449e-06, 0.000627914909273386, 0.0002959436969831586, 0.0006795144290663302, 6.338988896459341e-05, 1.6720276789783384e-06, 6.150319677544758e-05, 0.00010154591291211545, 7.460305641870946e-05, 0.0005717205931432545, 1.4963987268856727e-05, 0.00017054266936611384, 8.50465312396409e-06, 3.1420848245033994e-05, 3.489039954729378e-05, 0.0004066070541739464, 4.7729015932418406e-05, 7.402357823593775e-06, 0.00015035791147965938, 0.00016063549264799803, 5.390956630435539e-06, 0.00034407718339934945, 0.0001760549785103649, 0.0006320860702544451, 6.411594222299755e-05, 7.082559750415385e-05, 1.2175466508779209e-05, 0.0060809594579041, 4.7876310418359935e-05, 0.000206441487534903, 0.0005145235336385667, 0.0009618094190955162, 0.0005439042579382658, 0.9809427261352539, 0.0004071149742230773, 0.0, 0.0, 0.0, 0.0, 0.0, 0.0, 0.0, 0.0, 0.0, 0.0, 0.0, 0.0, 0.0, 0.0], [0.0014154217205941677, 0.0012889127247035503, 0.0019151156302541494, 0.00560421496629715, 0.003283049911260605, 0.001990488264709711, 0.013558133505284786, 0.01387712825089693, 0.017814405262470245, 0.013247170485556126, 0.0040761674754321575, 0.011440467089414597, 0.02225342206656933, 0.006658670958131552, 0.02397184632718563, 0.02668570727109909, 0.005393257364630699, 0.012222218327224255, 0.0031723901629447937, 0.025212565436959267, 0.04165751859545708, 0.00855275522917509, 0.028830885887145996, 0.0051332940347492695, 0.008005870506167412, 0.0030129558872431517, 0.00793810747563839, 0.0011512032942846417, 0.0033787814900279045, 0.011553200893104076, 0.014048411510884762, 0.007460355758666992, 0.0026366477832198143, 0.015635142102837563, 0.014546801336109638, 0.0030249818228185177, 0.0580347515642643, 0.007271564565598965, 4.839255052502267e-05, 0.014258256182074547, 0.03918316960334778, 0.0039436123333871365, 2.7266227334621362e-05, 0.03640665113925934, 0.03700027987360954, 0.006894434802234173, 2.7712305382010527e-05, 0.002718654228374362, 0.2652583718299866, 0.012746181339025497, 0.10592455416917801, 0.002376282587647438, 0.0009885368635877967, 0.01524369977414608, 0.0, 0.0, 0.0, 0.0, 0.0, 0.0, 0.0, 0.0, 0.0, 0.0, 0.0, 0.0, 0.0], [0.006883143447339535, 0.000990846543572843, 0.0013107351260259748, 0.00427814107388258, 0.04701279103755951, 0.0022609943989664316, 0.492503821849823, 0.00017559347907081246, 0.008003084920346737, 0.003335277084261179, 0.0016264106379821897, 0.04192839935421944, 0.007211137562990189, 0.0011229057563468814, 0.0017086839070543647, 0.0007678536348976195, 0.016884827986359596, 0.003778499085456133, 0.08599729835987091, 0.00046806043246760964, 0.002163906581699848, 0.0019088260596618056, 0.00038460278301499784, 0.004408805165439844, 0.003785559441894293, 0.0005957644898444414, 0.07798026502132416, 0.00021555328567046672, 0.0014581206487491727, 0.006756587419658899, 0.0009628778789192438, 9.954448614735156e-05, 0.0004049325070809573, 0.0019941620994359255, 0.00031255773501470685, 0.00022599886870011687, 0.002659429097548127, 0.00193375488743186, 0.07948112487792969, 5.6104554460034706e-06, 0.0024908846244215965, 0.003052294487133622, 0.003995073493570089, 0.0018415118101984262, 0.003352102590724826, 0.004968396853655577, 0.023968521505594254, 0.000278580206213519, 0.016591936349868774, 0.012753286398947239, 0.0002313659933861345, 3.093738996540196e-05, 0.0008954494260251522, 0.007697753608226776, 0.001865461003035307, 0.0, 0.0, 0.0, 0.0, 0.0, 0.0, 0.0, 0.0, 0.0, 0.0, 0.0, 0.0], [0.011615395545959473, 0.0017062732949852943, 0.0014803691301494837, 0.00512256845831871, 0.0361759327352047, 0.0035362509079277515, 0.2927444875240326, 0.001161712920293212, 0.0437726229429245, 0.05711899697780609, 0.0097690150141716, 0.0006404034211300313, 0.012277982197701931, 0.001207273337058723, 0.00097954913508147, 0.0004274416423868388, 0.009525636211037636, 0.004201739560812712, 0.07319644838571548, 0.00012425245949998498, 0.007600123528391123, 0.008787895552814007, 0.000801250571385026, 0.0003979925240855664, 0.002547935815528035, 0.0019933541771024466, 0.07503406703472137, 0.000497605069540441, 0.0012010313803330064, 0.045656416565179825, 0.0002781130315270275, 0.00011483936395961791, 0.0011335265589877963, 0.003171267220750451, 0.0004276882973499596, 0.00116963020991534, 0.007614030968397856, 0.0075130769982934, 0.023294972255825996, 0.0008948941831476986, 0.006159309297800064, 0.06035991385579109, 0.009389247745275497, 0.00011925767466891557, 0.006690526381134987, 0.05856277421116829, 0.03040299378335476, 0.0015321592800319195, 0.001203033491037786, 0.01556271780282259, 0.012614622712135315, 0.0013090395368635654, 0.014426596462726593, 0.016093824058771133, 0.00676536513492465, 0.001894523622468114, 0.0, 0.0, 0.0, 0.0, 0.0, 0.0, 0.0, 0.0, 0.0, 0.0, 0.0], [4.584904309012927e-05, 1.4661321984021924e-05, 6.3967795540520456e-06, 5.058669216850831e-07, 3.351474515511654e-05, 7.078803901094943e-05, 0.0005648024962283671, 3.6633387026085984e-06, 7.553803152404726e-05, 5.108610275783576e-05, 2.3422291633323766e-05, 0.0001396840816596523, 1.5767976947245188e-05, 0.00010072567965835333, 1.8628210227689124e-06, 1.1426941171066574e-07, 3.6830113003816223e-06, 6.897652929183096e-05, 9.332964509667363e-06, 7.314257004509273e-07, 6.319400563370436e-05, 4.282315057935193e-05, 2.1129030756128486e-06, 5.557350959861651e-05, 4.378546236694092e-06, 4.585674105328508e-05, 8.035112841753289e-06, 3.7808345609846583e-07, 8.890921890269965e-06, 4.359107697382569e-05, 4.831568730878644e-06, 7.910234853625298e-05, 1.4580692777599324e-06, 4.998199437977746e-05, 8.59948329434701e-07, 4.951318715029629e-06, 1.9313856682856567e-05, 2.7175387003808282e-05, 1.6687863535480574e-07, 2.8236636353540234e-06, 4.6598026528954506e-05, 2.9360993721638806e-05, 9.69365146374912e-07, 8.553663792554289e-05, 2.743172217378742e-06, 0.001372030470520258, 5.492870513990056e-06, 2.4975808628369123e-05, 1.6842777483816462e-07, 0.00045171575038693845, 5.876551313122036e-06, 7.818935409886762e-05, 4.147009167354554e-05, 0.00028346097678877413, 3.1302968750424043e-07, 0.9955770969390869, 0.00029735450516454875, 0.0, 0.0, 0.0, 0.0, 0.0, 0.0, 0.0, 0.0, 0.0, 0.0], [0.002542681060731411, 0.0013606736902147532, 0.0011932349298149347, 0.06531916558742523, 0.0011967569589614868, 0.002516609849408269, 0.0284599456936121, 0.015412737615406513, 0.0155266048386693, 0.0059842756018042564, 0.0312986895442009, 0.024141360074281693, 0.011650271713733673, 0.015770044177770615, 0.005373198073357344, 0.0010157257784157991, 0.013839774765074253, 0.012064932845532894, 0.0031694741919636726, 0.035052601248025894, 0.03466290235519409, 0.016268083825707436, 0.037700776010751724, 0.03972776234149933, 0.008325270377099514, 0.013357010670006275, 0.004933427087962627, 0.0009016820113174617, 0.004814173094928265, 0.008094779215753078, 0.011182744055986404, 0.04243836551904678, 0.003515832591801882, 0.012164369225502014, 0.016484461724758148, 0.008863914757966995, 0.021603647619485855, 0.02315218560397625, 0.0010566088603809476, 0.007611613254994154, 0.1172310933470726, 0.011061059311032295, 0.0010057291947305202, 0.00712965801358223, 0.028237806633114815, 0.025751588866114616, 0.00010326897609047592, 0.006930373143404722, 0.035782165825366974, 0.008628059178590775, 0.09509158879518509, 0.0020712604746222496, 0.01682298071682453, 0.006564426235854626, 0.0008521068375557661, 0.01666123792529106, 0.0019643271807581186, 0.008362826891243458, 0.0, 0.0, 0.0, 0.0, 0.0, 0.0, 0.0, 0.0, 0.0], [0.010455207899212837, 0.0008461545221507549, 0.0007895026938058436, 0.05706929415464401, 0.020181801170110703, 0.003091726917773485, 0.4678972065448761, 0.0019073752919211984, 0.02955036051571369, 0.01186323817819357, 0.004394022282212973, 0.00022703484864905477, 0.005140791181474924, 0.0035572866909205914, 0.0011918565724045038, 0.020151566714048386, 0.009649001061916351, 0.0025482107885181904, 0.042597152292728424, 0.0005263376515358686, 0.00909499917179346, 0.005900498013943434, 0.0006759014795534313, 0.00015014075324870646, 0.0006775713991373777, 0.001555848983116448, 0.06808685511350632, 0.0025555992033332586, 0.0007604638813063502, 0.006129555404186249, 0.0015924668405205011, 0.00013384381600189954, 0.0008365462417714298, 0.002119485754519701, 0.0013513537123799324, 0.0002703487407416105, 0.008890118449926376, 0.0027067135088145733, 0.023075280711054802, 0.0007027020328678191, 0.0046875267289578915, 0.02163059078156948, 0.004283678252249956, 3.7063975469209254e-05, 0.01024539116770029, 0.043003909289836884, 0.004312452860176563, 0.006599584594368935, 0.0019770856015384197, 0.012115247547626495, 0.005176359321922064, 0.001118481857702136, 0.0025053571444004774, 0.02224654331803322, 0.004868222400546074, 0.0003190346178598702, 0.0016150559531524777, 0.015589036978781223, 0.00676800636574626, 0.0, 0.0, 0.0, 0.0, 0.0, 0.0, 0.0, 0.0], [0.008861596696078777, 0.0019707889296114445, 0.0013968071434646845, 0.0012436771066859365, 0.0383879691362381, 0.005310423206537962, 0.27776840329170227, 0.0020894797053188086, 0.022292545065283775, 0.03982330113649368, 0.008004451170563698, 0.003392888465896249, 0.010883377864956856, 0.0015526415081694722, 0.0016231270274147391, 0.000724269833881408, 0.012115959078073502, 0.006923426408320665, 0.08891070634126663, 0.0006183391669765115, 0.006403052248060703, 0.009476019069552422, 0.000578400562517345, 0.000215800479054451, 0.0023434720933437347, 0.0021123706828802824, 0.09116744995117188, 0.0003000688157044351, 0.001392451231367886, 0.03989386931061745, 0.0005056657246313989, 0.0002992834779433906, 0.001169683993794024, 0.0015625947853550315, 0.0002734125591814518, 0.0001327383070020005, 0.0066218809224665165, 0.005161026027053595, 0.04772834852337837, 0.0004426135856192559, 0.0033427036833018064, 0.034912109375, 0.009188133291900158, 0.00037632539169862866, 0.009836122393608093, 0.02849758230149746, 0.06297947466373444, 0.000141432712553069, 0.00040469306986778975, 0.014526968821883202, 0.004614125471562147, 0.0005473729688674212, 0.004771153908222914, 0.009897308424115181, 0.008997788652777672, 0.0012458423152565956, 0.007328368257731199, 0.037135347723960876, 0.008749881759285927, 0.0008328872499987483, 0.0, 0.0, 0.0, 0.0, 0.0, 0.0, 0.0], [0.0003397892287466675, 2.413500078546349e-05, 3.857174306176603e-05, 0.0006250395672395825, 0.00026598336989991367, 0.00018953059043269604, 0.005015585105866194, 4.2153269532718696e-06, 0.0015282300300896168, 0.0007160617387853563, 4.866169547312893e-05, 4.285315753804753e-06, 0.00013265178131405264, 6.575631414307281e-05, 5.578489799518138e-05, 0.00028073840076103806, 1.5492472812184133e-05, 0.00013761568698100746, 0.0002891672484111041, 8.126490911308792e-07, 0.00047415218432433903, 0.0004833456187043339, 1.660015004745219e-05, 6.189848136273213e-07, 2.554169623181224e-05, 0.00021224758529569954, 0.0005067933816462755, 9.337758820038289e-05, 1.795695243345108e-05, 0.0007592923939228058, 3.8718091673217714e-05, 2.7276894343231106e-06, 5.676273940480314e-05, 0.0003913675609510392, 5.1059116231044754e-05, 0.00029239707509987056, 0.0003648983547464013, 0.000274105928838253, 3.752676775548025e-06, 3.630269202403724e-05, 8.257535955635831e-05, 0.0005429036682471633, 1.9968804281234043e-06, 5.48666048416635e-06, 0.00018836832896340638, 0.0013709075283259153, 7.010515673755435e-06, 0.00014206426567398012, 0.0031703237909823656, 0.0009673686581663787, 0.00020740999025292695, 4.699768396676518e-05, 2.7265386961516924e-05, 0.0027839420363307, 4.161743709119037e-05, 8.834533218760043e-05, 0.0002774176828097552, 0.0005123564624227583, 1.4142628060653806e-05, 0.9753790497779846, 0.0002623989130370319, 0.0, 0.0, 0.0, 0.0, 0.0, 0.0], [0.0024642585776746273, 0.0017543856520205736, 0.0013478269102051854, 0.233537495136261, 0.0006328684976324439, 0.003839401761069894, 0.007677566260099411, 0.033271901309490204, 0.006312380079180002, 0.008294283412396908, 0.036577802151441574, 0.03673282265663147, 0.003267368534579873, 0.007332854438573122, 0.0019261762499809265, 0.011665643192827702, 0.0011159193236380816, 0.018881049007177353, 0.005604333244264126, 0.0004421506018843502, 0.009392466396093369, 0.03333303704857826, 0.016644496470689774, 0.12683117389678955, 0.005002972669899464, 0.006892967503517866, 0.0034032168332487345, 0.028697166591882706, 0.0034910510294139385, 0.023511799052357674, 0.003424058435484767, 0.0005365952965803444, 0.0006940357852727175, 0.0050944495014846325, 0.004375660326331854, 0.007699738256633282, 0.006398296914994717, 0.007969177328050137, 0.0009592698188498616, 0.009722071699798107, 0.07675990462303162, 0.016606144607067108, 0.0033697327598929405, 0.0002890453615691513, 0.028486350551247597, 0.014145156368613243, 0.0017463722033426166, 0.003697366453707218, 0.004312844481319189, 0.01672445610165596, 0.026756979525089264, 0.0025691476184874773, 0.011072982102632523, 0.007624903693795204, 0.0002020241809077561, 0.007120721507817507, 0.030740704387426376, 0.008744754828512669, 0.0004653196956496686, 0.0015560081228613853, 0.0014509761240333319, 0.008805891498923302, 0.0, 0.0, 0.0, 0.0, 0.0], [0.019649365916848183, 0.002062675077468157, 0.0023585804738104343, 0.007730256300419569, 0.008142856881022453, 0.003038270166143775, 0.030657634139060974, 0.08324653655290604, 0.005286996718496084, 0.004545456264168024, 0.030036000534892082, 0.04551028460264206, 0.001941572641953826, 0.00409097271040082, 0.01116107776761055, 0.0027440974954515696, 0.0034509438555687666, 0.004582726396620274, 0.004547957796603441, 0.01831233873963356, 0.009909138083457947, 0.004836529493331909, 0.0009770998731255531, 4.4314583647064865e-05, 0.0029236613772809505, 0.007512383628636599, 0.004632128868252039, 0.000532363133970648, 0.002856617094948888, 0.006106186658143997, 0.005552427377551794, 0.08160599321126938, 0.002553397323936224, 0.007903709076344967, 0.002328085247427225, 0.000730335945263505, 0.005091759376227856, 0.0020036278292536736, 0.001454883604310453, 0.009240422397851944, 0.0016778730787336826, 0.009583556093275547, 0.0008779247873462737, 0.012519236654043198, 0.0029713441617786884, 0.044880036264657974, 0.0034608873538672924, 0.0008081619744189084, 0.002543328097090125, 0.021742599084973335, 0.01824931614100933, 0.005659434013068676, 0.0031361605506390333, 0.054682936519384384, 0.0038925737608224154, 0.11619938164949417, 0.01300622895359993, 0.022701479494571686, 0.0005318797775544226, 0.009867171756923199, 0.09424661844968796, 0.019674140959978104, 0.08519607037305832, 0.0, 0.0, 0.0, 0.0], [0.004065323155373335, 0.005164226517081261, 0.0035268119536340237, 0.008830267004668713, 0.01933862827718258, 0.005813564173877239, 0.041959211230278015, 0.017710991203784943, 0.013979571871459484, 0.01985401287674904, 0.0072492389008402824, 0.01732444018125534, 0.007039995398372412, 0.007163300644606352, 0.006554948166012764, 0.0018764396663755178, 0.023605206981301308, 0.007301943842321634, 0.04690994322299957, 0.024553615599870682, 0.0041475193575024605, 0.01023718062788248, 0.0036730128340423107, 0.005860313307493925, 0.004053977783769369, 0.0034809564240276814, 0.12332030385732651, 0.0012520357267931104, 0.0027555362321436405, 0.014596915803849697, 0.002832807134836912, 0.013612690381705761, 0.002588671864941716, 0.0032752477563917637, 0.0030246954411268234, 0.0018886479083448648, 0.014934676699340343, 0.005699395202100277, 0.1857725977897644, 0.0005450984463095665, 0.01153766643255949, 0.022521600127220154, 0.031855642795562744, 0.004288964904844761, 0.012040919624269009, 0.016814259812235832, 0.02383759431540966, 0.0005922785494476557, 0.06855073571205139, 0.010717885568737984, 0.020007312297821045, 0.0006190385320223868, 0.007263207342475653, 0.006534063257277012, 0.010348725132644176, 0.0010023752693086863, 0.0022006237413734198, 0.012910926714539528, 0.010410599410533905, 0.00016701771528460085, 0.0036451714113354683, 0.008568131364881992, 0.012153376825153828, 0.004037876147776842, 0.0, 0.0, 0.0], [0.006453712936490774, 0.007518236059695482, 0.010761969722807407, 0.04697851836681366, 0.0035055959597229958, 0.0022280279081314802, 0.0055761635303497314, 0.2741153836250305, 0.005568359512835741, 0.00546959089115262, 0.005427691154181957, 0.005148032214492559, 0.013070125132799149, 0.005175335332751274, 0.004230538383126259, 0.012493894435465336, 0.0024491038639098406, 0.0020190393552184105, 0.001389982644468546, 0.01042226329445839, 0.01024546381086111, 0.0023363763466477394, 0.0019580130465328693, 0.0003507960354909301, 0.010172361508011818, 0.0016062520444393158, 0.005676019936800003, 0.031398214399814606, 0.0023980927653610706, 0.002765489276498556, 0.003761559957638383, 0.00551683409139514, 0.003395934123545885, 0.00978932622820139, 0.006178257055580616, 0.0012767263688147068, 0.006498710718005896, 0.00218182522803545, 0.00036675267620012164, 0.051656853407621384, 0.09988655149936676, 0.009613069705665112, 0.0010909328702837229, 0.004928578622639179, 0.005005307029932737, 0.0200335755944252, 0.0005832180031575263, 0.0030245196539908648, 0.01890462264418602, 0.022152526304125786, 0.006853926926851273, 0.0432685911655426, 0.0038593565113842487, 0.03446993604302406, 0.00019343424355611205, 0.00717125553637743, 0.012376779690384865, 0.016260061413049698, 0.0003575661685317755, 0.03592093288898468, 0.0046575660817325115, 0.019811544567346573, 0.023109517991542816, 0.0031170169822871685, 0.013818231411278248, 0.0, 0.0], [0.007818183861672878, 0.005894314497709274, 0.003042984986677766, 0.01003437489271164, 0.014797494746744633, 0.00461493618786335, 0.035653822124004364, 0.034517526626586914, 0.016792459413409233, 0.04109840467572212, 0.008146689273416996, 0.03642601519823074, 0.013007904402911663, 0.013139541260898113, 0.005363709293305874, 0.012775477021932602, 0.012472260743379593, 0.01361656840890646, 0.03252626582980156, 0.011026468127965927, 0.010625209659337997, 0.020726310089230537, 0.001983190421015024, 0.030966201797127724, 0.0037639637012034655, 0.005786619149148464, 0.05741644278168678, 0.003067293204367161, 0.010877923108637333, 0.017559226602315903, 0.0012595807202160358, 0.004539980553090572, 0.0018683683592826128, 0.00836835615336895, 0.0023525466676801443, 0.005315418820828199, 0.032572075724601746, 0.0029300712049007416, 0.022783618420362473, 0.00318498769775033, 0.015160800889134407, 0.00754092400893569, 0.01836320385336876, 0.001344154356047511, 0.002789724851027131, 0.017157556489109993, 0.008352960459887981, 0.002890157513320446, 0.016446135938167572, 0.013032788410782814, 0.0023670431692153215, 0.00043617605115287006, 0.004444322548806667, 0.014732609502971172, 0.006798408925533295, 0.007908103987574577, 0.001200809027068317, 0.008998258039355278, 0.020854126662015915, 0.003112409496679902, 0.0043958015739917755, 0.013148915022611618, 0.005824186839163303, 0.0028305912856012583, 0.2135232836008072, 0.005633763037621975, 0.0], [0.019350498914718628, 0.014018643647432327, 0.008516685105860233, 0.010183541104197502, 0.03151005133986473, 0.021260585635900497, 0.021828826516866684, 0.013558776117861271, 0.022112349048256874, 0.02305898815393448, 0.009185115806758404, 0.01914704218506813, 0.014229444786906242, 0.012395958416163921, 0.0056467121466994286, 0.02436818927526474, 0.020583420991897583, 0.011002904735505581, 0.0634133517742157, 0.005001944024115801, 0.007219088263809681, 0.01303975097835064, 0.002039237879216671, 0.012609644792973995, 0.0045644985511898994, 0.007476829923689365, 0.02966451831161976, 0.003964499570429325, 0.008487310260534286, 0.012908918783068657, 0.006535833235830069, 0.0119517482817173, 0.010611849837005138, 0.004860617686063051, 0.0032756109721958637, 0.008302313275635242, 0.009683963842689991, 0.01159150991588831, 0.06047144904732704, 0.007401746232062578, 0.009020174853503704, 0.021631762385368347, 0.026848703622817993, 0.005751630291342735, 0.019123341888189316, 0.026747962459921837, 0.0383077971637249, 0.011564232409000397, 0.0007860730984248221, 0.018169181421399117, 0.011678295210003853, 0.003503301413729787, 0.01477719284594059, 0.009855402633547783, 0.01617765612900257, 0.004915230441838503, 0.010994345881044865, 0.02403620257973671, 0.021759040653705597, 0.00698070926591754, 0.01871759630739689, 0.01304254587739706, 0.01623275876045227, 0.015176763758063316, 0.011358185671269894, 0.006408741697669029, 0.009401164948940277]], [[1.0, 0.0, 0.0, 0.0, 0.0, 0.0, 0.0, 0.0, 0.0, 0.0, 0.0, 0.0, 0.0, 0.0, 0.0, 0.0, 0.0, 0.0, 0.0, 0.0, 0.0, 0.0, 0.0, 0.0, 0.0, 0.0, 0.0, 0.0, 0.0, 0.0, 0.0, 0.0, 0.0, 0.0, 0.0, 0.0, 0.0, 0.0, 0.0, 0.0, 0.0, 0.0, 0.0, 0.0, 0.0, 0.0, 0.0, 0.0, 0.0, 0.0, 0.0, 0.0, 0.0, 0.0, 0.0, 0.0, 0.0, 0.0, 0.0, 0.0, 0.0, 0.0, 0.0, 0.0, 0.0, 0.0, 0.0], [0.9473819732666016, 0.05261800065636635, 0.0, 0.0, 0.0, 0.0, 0.0, 0.0, 0.0, 0.0, 0.0, 0.0, 0.0, 0.0, 0.0, 0.0, 0.0, 0.0, 0.0, 0.0, 0.0, 0.0, 0.0, 0.0, 0.0, 0.0, 0.0, 0.0, 0.0, 0.0, 0.0, 0.0, 0.0, 0.0, 0.0, 0.0, 0.0, 0.0, 0.0, 0.0, 0.0, 0.0, 0.0, 0.0, 0.0, 0.0, 0.0, 0.0, 0.0, 0.0, 0.0, 0.0, 0.0, 0.0, 0.0, 0.0, 0.0, 0.0, 0.0, 0.0, 0.0, 0.0, 0.0, 0.0, 0.0, 0.0, 0.0], [0.9837803840637207, 0.00795645173639059, 0.00826318096369505, 0.0, 0.0, 0.0, 0.0, 0.0, 0.0, 0.0, 0.0, 0.0, 0.0, 0.0, 0.0, 0.0, 0.0, 0.0, 0.0, 0.0, 0.0, 0.0, 0.0, 0.0, 0.0, 0.0, 0.0, 0.0, 0.0, 0.0, 0.0, 0.0, 0.0, 0.0, 0.0, 0.0, 0.0, 0.0, 0.0, 0.0, 0.0, 0.0, 0.0, 0.0, 0.0, 0.0, 0.0, 0.0, 0.0, 0.0, 0.0, 0.0, 0.0, 0.0, 0.0, 0.0, 0.0, 0.0, 0.0, 0.0, 0.0, 0.0, 0.0, 0.0, 0.0, 0.0, 0.0], [0.20819884538650513, 0.13546523451805115, 0.09206774085760117, 0.564268171787262, 0.0, 0.0, 0.0, 0.0, 0.0, 0.0, 0.0, 0.0, 0.0, 0.0, 0.0, 0.0, 0.0, 0.0, 0.0, 0.0, 0.0, 0.0, 0.0, 0.0, 0.0, 0.0, 0.0, 0.0, 0.0, 0.0, 0.0, 0.0, 0.0, 0.0, 0.0, 0.0, 0.0, 0.0, 0.0, 0.0, 0.0, 0.0, 0.0, 0.0, 0.0, 0.0, 0.0, 0.0, 0.0, 0.0, 0.0, 0.0, 0.0, 0.0, 0.0, 0.0, 0.0, 0.0, 0.0, 0.0, 0.0, 0.0, 0.0, 0.0, 0.0, 0.0, 0.0], [0.12027492374181747, 0.5125058889389038, 0.2773708999156952, 0.07854938507080078, 0.01129889115691185, 0.0, 0.0, 0.0, 0.0, 0.0, 0.0, 0.0, 0.0, 0.0, 0.0, 0.0, 0.0, 0.0, 0.0, 0.0, 0.0, 0.0, 0.0, 0.0, 0.0, 0.0, 0.0, 0.0, 0.0, 0.0, 0.0, 0.0, 0.0, 0.0, 0.0, 0.0, 0.0, 0.0, 0.0, 0.0, 0.0, 0.0, 0.0, 0.0, 0.0, 0.0, 0.0, 0.0, 0.0, 0.0, 0.0, 0.0, 0.0, 0.0, 0.0, 0.0, 0.0, 0.0, 0.0, 0.0, 0.0, 0.0, 0.0, 0.0, 0.0, 0.0, 0.0], [0.28233498334884644, 0.08720029145479202, 0.4231436550617218, 0.05337558686733246, 0.055222347378730774, 0.09872312843799591, 0.0, 0.0, 0.0, 0.0, 0.0, 0.0, 0.0, 0.0, 0.0, 0.0, 0.0, 0.0, 0.0, 0.0, 0.0, 0.0, 0.0, 0.0, 0.0, 0.0, 0.0, 0.0, 0.0, 0.0, 0.0, 0.0, 0.0, 0.0, 0.0, 0.0, 0.0, 0.0, 0.0, 0.0, 0.0, 0.0, 0.0, 0.0, 0.0, 0.0, 0.0, 0.0, 0.0, 0.0, 0.0, 0.0, 0.0, 0.0, 0.0, 0.0, 0.0, 0.0, 0.0, 0.0, 0.0, 0.0, 0.0, 0.0, 0.0, 0.0, 0.0], [0.3518729507923126, 0.12092000246047974, 0.2993696630001068, 0.015132726170122623, 0.003469061106443405, 0.19085142016410828, 0.018384220078587532, 0.0, 0.0, 0.0, 0.0, 0.0, 0.0, 0.0, 0.0, 0.0, 0.0, 0.0, 0.0, 0.0, 0.0, 0.0, 0.0, 0.0, 0.0, 0.0, 0.0, 0.0, 0.0, 0.0, 0.0, 0.0, 0.0, 0.0, 0.0, 0.0, 0.0, 0.0, 0.0, 0.0, 0.0, 0.0, 0.0, 0.0, 0.0, 0.0, 0.0, 0.0, 0.0, 0.0, 0.0, 0.0, 0.0, 0.0, 0.0, 0.0, 0.0, 0.0, 0.0, 0.0, 0.0, 0.0, 0.0, 0.0, 0.0, 0.0, 0.0], [0.03186279535293579, 0.060992542654275894, 0.0319703035056591, 0.29074162244796753, 0.019482307136058807, 0.12440092861652374, 0.06067176163196564, 0.3798776865005493, 0.0, 0.0, 0.0, 0.0, 0.0, 0.0, 0.0, 0.0, 0.0, 0.0, 0.0, 0.0, 0.0, 0.0, 0.0, 0.0, 0.0, 0.0, 0.0, 0.0, 0.0, 0.0, 0.0, 0.0, 0.0, 0.0, 0.0, 0.0, 0.0, 0.0, 0.0, 0.0, 0.0, 0.0, 0.0, 0.0, 0.0, 0.0, 0.0, 0.0, 0.0, 0.0, 0.0, 0.0, 0.0, 0.0, 0.0, 0.0, 0.0, 0.0, 0.0, 0.0, 0.0, 0.0, 0.0, 0.0, 0.0, 0.0, 0.0], [0.05086294189095497, 0.28660067915916443, 0.1522378772497177, 0.0115059120580554, 0.005340763833373785, 0.1214509829878807, 0.3027053475379944, 0.007063145283609629, 0.06223243847489357, 0.0, 0.0, 0.0, 0.0, 0.0, 0.0, 0.0, 0.0, 0.0, 0.0, 0.0, 0.0, 0.0, 0.0, 0.0, 0.0, 0.0, 0.0, 0.0, 0.0, 0.0, 0.0, 0.0, 0.0, 0.0, 0.0, 0.0, 0.0, 0.0, 0.0, 0.0, 0.0, 0.0, 0.0, 0.0, 0.0, 0.0, 0.0, 0.0, 0.0, 0.0, 0.0, 0.0, 0.0, 0.0, 0.0, 0.0, 0.0, 0.0, 0.0, 0.0, 0.0, 0.0, 0.0, 0.0, 0.0, 0.0, 0.0], [0.018243055790662766, 0.006404906045645475, 0.00822193268686533, 0.02596517652273178, 0.9151849150657654, 0.009976529516279697, 0.0012641907669603825, 0.006500642746686935, 0.0030442907009273767, 0.005194325931370258, 0.0, 0.0, 0.0, 0.0, 0.0, 0.0, 0.0, 0.0, 0.0, 0.0, 0.0, 0.0, 0.0, 0.0, 0.0, 0.0, 0.0, 0.0, 0.0, 0.0, 0.0, 0.0, 0.0, 0.0, 0.0, 0.0, 0.0, 0.0, 0.0, 0.0, 0.0, 0.0, 0.0, 0.0, 0.0, 0.0, 0.0, 0.0, 0.0, 0.0, 0.0, 0.0, 0.0, 0.0, 0.0, 0.0, 0.0, 0.0, 0.0, 0.0, 0.0, 0.0, 0.0, 0.0, 0.0, 0.0, 0.0], [0.07198512554168701, 0.013578260317444801, 0.0063851336017251015, 0.062305547297000885, 0.009638842195272446, 0.02947915717959404, 0.0463828481733799, 0.14167989790439606, 0.3420052230358124, 0.1959923654794693, 0.08056771010160446, 0.0, 0.0, 0.0, 0.0, 0.0, 0.0, 0.0, 0.0, 0.0, 0.0, 0.0, 0.0, 0.0, 0.0, 0.0, 0.0, 0.0, 0.0, 0.0, 0.0, 0.0, 0.0, 0.0, 0.0, 0.0, 0.0, 0.0, 0.0, 0.0, 0.0, 0.0, 0.0, 0.0, 0.0, 0.0, 0.0, 0.0, 0.0, 0.0, 0.0, 0.0, 0.0, 0.0, 0.0, 0.0, 0.0, 0.0, 0.0, 0.0, 0.0, 0.0, 0.0, 0.0, 0.0, 0.0, 0.0], [0.013283013366162777, 0.09552578628063202, 0.0944218710064888, 0.06886708736419678, 0.0030359940137714148, 0.04660509154200554, 0.1644282191991806, 0.07371135801076889, 0.20900288224220276, 0.07703179866075516, 0.05532180890440941, 0.0987650454044342, 0.0, 0.0, 0.0, 0.0, 0.0, 0.0, 0.0, 0.0, 0.0, 0.0, 0.0, 0.0, 0.0, 0.0, 0.0, 0.0, 0.0, 0.0, 0.0, 0.0, 0.0, 0.0, 0.0, 0.0, 0.0, 0.0, 0.0, 0.0, 0.0, 0.0, 0.0, 0.0, 0.0, 0.0, 0.0, 0.0, 0.0, 0.0, 0.0, 0.0, 0.0, 0.0, 0.0, 0.0, 0.0, 0.0, 0.0, 0.0, 0.0, 0.0, 0.0, 0.0, 0.0, 0.0, 0.0], [0.028491538017988205, 0.3151932954788208, 0.39896440505981445, 0.010320762172341347, 0.00045184168266132474, 0.052168603986501694, 0.07286926358938217, 0.010524336248636246, 0.036595914512872696, 0.035162538290023804, 0.024040572345256805, 0.009404970332980156, 0.005812060087919235, 0.0, 0.0, 0.0, 0.0, 0.0, 0.0, 0.0, 0.0, 0.0, 0.0, 0.0, 0.0, 0.0, 0.0, 0.0, 0.0, 0.0, 0.0, 0.0, 0.0, 0.0, 0.0, 0.0, 0.0, 0.0, 0.0, 0.0, 0.0, 0.0, 0.0, 0.0, 0.0, 0.0, 0.0, 0.0, 0.0, 0.0, 0.0, 0.0, 0.0, 0.0, 0.0, 0.0, 0.0, 0.0, 0.0, 0.0, 0.0, 0.0, 0.0, 0.0, 0.0, 0.0, 0.0], [0.046006880700588226, 0.012488744221627712, 0.014330566860735416, 0.029900919646024704, 0.6879492402076721, 0.036559902131557465, 0.0003114333376288414, 0.015503144823014736, 0.006348234601318836, 0.06865381449460983, 0.047383807599544525, 0.007246095687150955, 0.008606018498539925, 0.018711181357502937, 0.0, 0.0, 0.0, 0.0, 0.0, 0.0, 0.0, 0.0, 0.0, 0.0, 0.0, 0.0, 0.0, 0.0, 0.0, 0.0, 0.0, 0.0, 0.0, 0.0, 0.0, 0.0, 0.0, 0.0, 0.0, 0.0, 0.0, 0.0, 0.0, 0.0, 0.0, 0.0, 0.0, 0.0, 0.0, 0.0, 0.0, 0.0, 0.0, 0.0, 0.0, 0.0, 0.0, 0.0, 0.0, 0.0, 0.0, 0.0, 0.0, 0.0, 0.0, 0.0, 0.0], [0.006257715169340372, 0.01118864119052887, 0.006772778928279877, 0.024683400988578796, 0.0329650416970253, 0.010727416723966599, 0.053509343415498734, 0.0280892513692379, 0.046583376824855804, 0.005550725851207972, 0.006846581120043993, 0.11827167123556137, 0.604437530040741, 0.038416869938373566, 0.005699659697711468, 0.0, 0.0, 0.0, 0.0, 0.0, 0.0, 0.0, 0.0, 0.0, 0.0, 0.0, 0.0, 0.0, 0.0, 0.0, 0.0, 0.0, 0.0, 0.0, 0.0, 0.0, 0.0, 0.0, 0.0, 0.0, 0.0, 0.0, 0.0, 0.0, 0.0, 0.0, 0.0, 0.0, 0.0, 0.0, 0.0, 0.0, 0.0, 0.0, 0.0, 0.0, 0.0, 0.0, 0.0, 0.0, 0.0, 0.0, 0.0, 0.0, 0.0, 0.0, 0.0], [0.016240250319242477, 0.028889542445540428, 0.036739520728588104, 0.06241009384393692, 0.0019727316685020924, 0.027680987492203712, 0.15196669101715088, 0.059588585048913956, 0.151534765958786, 0.033306099474430084, 0.07793216407299042, 0.06666657328605652, 0.040133751928806305, 0.06734325736761093, 0.08848864585161209, 0.08910629153251648, 0.0, 0.0, 0.0, 0.0, 0.0, 0.0, 0.0, 0.0, 0.0, 0.0, 0.0, 0.0, 0.0, 0.0, 0.0, 0.0, 0.0, 0.0, 0.0, 0.0, 0.0, 0.0, 0.0, 0.0, 0.0, 0.0, 0.0, 0.0, 0.0, 0.0, 0.0, 0.0, 0.0, 0.0, 0.0, 0.0, 0.0, 0.0, 0.0, 0.0, 0.0, 0.0, 0.0, 0.0, 0.0, 0.0, 0.0, 0.0, 0.0, 0.0, 0.0], [0.0008669077069498599, 0.007718482054769993, 0.0029958172235637903, 0.00023038471408654004, 0.0005456181243062019, 0.0007961784140206873, 0.002619096776470542, 0.00016011118714231998, 0.005086646880954504, 0.9254356026649475, 0.00011678847658913583, 8.147708285832778e-05, 0.003537767566740513, 0.04797789454460144, 0.0013900715857744217, 0.00015933038957882673, 0.00028181920060887933, 0.0, 0.0, 0.0, 0.0, 0.0, 0.0, 0.0, 0.0, 0.0, 0.0, 0.0, 0.0, 0.0, 0.0, 0.0, 0.0, 0.0, 0.0, 0.0, 0.0, 0.0, 0.0, 0.0, 0.0, 0.0, 0.0, 0.0, 0.0, 0.0, 0.0, 0.0, 0.0, 0.0, 0.0, 0.0, 0.0, 0.0, 0.0, 0.0, 0.0, 0.0, 0.0, 0.0, 0.0, 0.0, 0.0, 0.0, 0.0, 0.0, 0.0], [0.044312648475170135, 0.0412728376686573, 0.055144913494586945, 0.03858393803238869, 0.21024580299854279, 0.04215082898736, 0.007932567037642002, 0.03871734067797661, 0.01025427971035242, 0.05671931430697441, 0.06452102214097977, 0.034876756370067596, 0.10014058649539948, 0.06303831934928894, 0.1371634602546692, 0.010998246259987354, 3.969417593907565e-05, 0.04388739913702011, 0.0, 0.0, 0.0, 0.0, 0.0, 0.0, 0.0, 0.0, 0.0, 0.0, 0.0, 0.0, 0.0, 0.0, 0.0, 0.0, 0.0, 0.0, 0.0, 0.0, 0.0, 0.0, 0.0, 0.0, 0.0, 0.0, 0.0, 0.0, 0.0, 0.0, 0.0, 0.0, 0.0, 0.0, 0.0, 0.0, 0.0, 0.0, 0.0, 0.0, 0.0, 0.0, 0.0, 0.0, 0.0, 0.0, 0.0, 0.0, 0.0], [0.0030265208333730698, 0.040616780519485474, 0.025308096781373024, 0.001164469518698752, 0.0027815024368464947, 0.001483479980379343, 0.0031375873368233442, 0.0012426883913576603, 0.007029859349131584, 0.7355250120162964, 0.0009950015228241682, 0.0010444684885442257, 0.013515138067305088, 0.06631830334663391, 0.007404600270092487, 0.0012798833195120096, 0.007912741042673588, 0.0779416635632515, 0.002272269921377301, 0.0, 0.0, 0.0, 0.0, 0.0, 0.0, 0.0, 0.0, 0.0, 0.0, 0.0, 0.0, 0.0, 0.0, 0.0, 0.0, 0.0, 0.0, 0.0, 0.0, 0.0, 0.0, 0.0, 0.0, 0.0, 0.0, 0.0, 0.0, 0.0, 0.0, 0.0, 0.0, 0.0, 0.0, 0.0, 0.0, 0.0, 0.0, 0.0, 0.0, 0.0, 0.0, 0.0, 0.0, 0.0, 0.0, 0.0, 0.0], [0.010537256486713886, 0.027750948444008827, 0.03095552697777748, 0.06429807096719742, 0.007610775064677, 0.041855428367853165, 0.03560574725270271, 0.06566540896892548, 0.07674625515937805, 0.019778812304139137, 0.12229923903942108, 0.06284838169813156, 0.025008518248796463, 0.04928351193666458, 0.12282799929380417, 0.0825238898396492, 0.011924179270863533, 0.05222371220588684, 0.011656790971755981, 0.07859944552183151, 0.0, 0.0, 0.0, 0.0, 0.0, 0.0, 0.0, 0.0, 0.0, 0.0, 0.0, 0.0, 0.0, 0.0, 0.0, 0.0, 0.0, 0.0, 0.0, 0.0, 0.0, 0.0, 0.0, 0.0, 0.0, 0.0, 0.0, 0.0, 0.0, 0.0, 0.0, 0.0, 0.0, 0.0, 0.0, 0.0, 0.0, 0.0, 0.0, 0.0, 0.0, 0.0, 0.0, 0.0, 0.0, 0.0, 0.0], [0.005875044967979193, 0.017932500690221786, 0.013368002139031887, 0.045050304383039474, 0.001428067684173584, 0.026525242254137993, 0.08249577134847641, 0.09960363805294037, 0.04112529382109642, 0.0662623718380928, 0.17571531236171722, 0.06789249181747437, 0.04993392527103424, 0.030528418719768524, 0.09706629812717438, 0.05909302458167076, 0.0032793073914945126, 0.008989367634057999, 0.004914872348308563, 0.07030180096626282, 0.03261894732713699, 0.0, 0.0, 0.0, 0.0, 0.0, 0.0, 0.0, 0.0, 0.0, 0.0, 0.0, 0.0, 0.0, 0.0, 0.0, 0.0, 0.0, 0.0, 0.0, 0.0, 0.0, 0.0, 0.0, 0.0, 0.0, 0.0, 0.0, 0.0, 0.0, 0.0, 0.0, 0.0, 0.0, 0.0, 0.0, 0.0, 0.0, 0.0, 0.0, 0.0, 0.0, 0.0, 0.0, 0.0, 0.0, 0.0], [0.037369053810834885, 0.052280355244874954, 0.08151189982891083, 0.016927434131503105, 0.37511271238327026, 0.032395847141742706, 0.01111969817429781, 0.009160595946013927, 0.006437781732529402, 0.05310077220201492, 0.030871693044900894, 0.015471355989575386, 0.0478997640311718, 0.01990765519440174, 0.04555787891149521, 0.008180776610970497, 0.06185291334986687, 0.024137228727340698, 0.030632834881544113, 0.004847005475312471, 0.005692649632692337, 0.029532114043831825, 0.0, 0.0, 0.0, 0.0, 0.0, 0.0, 0.0, 0.0, 0.0, 0.0, 0.0, 0.0, 0.0, 0.0, 0.0, 0.0, 0.0, 0.0, 0.0, 0.0, 0.0, 0.0, 0.0, 0.0, 0.0, 0.0, 0.0, 0.0, 0.0, 0.0, 0.0, 0.0, 0.0, 0.0, 0.0, 0.0, 0.0, 0.0, 0.0, 0.0, 0.0, 0.0, 0.0, 0.0, 0.0], [0.015827592462301254, 0.004072902258485556, 0.0028257835656404495, 0.018199726939201355, 0.029910529032349586, 0.006524879951030016, 0.020136309787631035, 0.03888937830924988, 0.025337012484669685, 0.00568972434848547, 0.008158957585692406, 0.02796267718076706, 0.03995427116751671, 0.006779282819479704, 0.006115964148193598, 0.044596247375011444, 0.00974341668188572, 0.01058795116841793, 0.18534718453884125, 0.1432545930147171, 0.27276065945625305, 0.06543054431676865, 0.011894446797668934, 0.0, 0.0, 0.0, 0.0, 0.0, 0.0, 0.0, 0.0, 0.0, 0.0, 0.0, 0.0, 0.0, 0.0, 0.0, 0.0, 0.0, 0.0, 0.0, 0.0, 0.0, 0.0, 0.0, 0.0, 0.0, 0.0, 0.0, 0.0, 0.0, 0.0, 0.0, 0.0, 0.0, 0.0, 0.0, 0.0, 0.0, 0.0, 0.0, 0.0, 0.0, 0.0, 0.0, 0.0], [0.012948422692716122, 0.04978416860103607, 0.043098971247673035, 0.02998858131468296, 0.002571636578068137, 0.030709249898791313, 0.017978275194764137, 0.03173321858048439, 0.06422389298677444, 0.0271772388368845, 0.07842225581407547, 0.030455971136689186, 0.01201365701854229, 0.019001709297299385, 0.10874548554420471, 0.030483398586511612, 0.0022903704084455967, 0.032699666917324066, 0.008439477533102036, 0.041760947555303574, 0.10476505756378174, 0.04142681881785393, 0.13239148259162903, 0.04689013585448265, 0.0, 0.0, 0.0, 0.0, 0.0, 0.0, 0.0, 0.0, 0.0, 0.0, 0.0, 0.0, 0.0, 0.0, 0.0, 0.0, 0.0, 0.0, 0.0, 0.0, 0.0, 0.0, 0.0, 0.0, 0.0, 0.0, 0.0, 0.0, 0.0, 0.0, 0.0, 0.0, 0.0, 0.0, 0.0, 0.0, 0.0, 0.0, 0.0, 0.0, 0.0, 0.0, 0.0], [0.019882868975400925, 0.096103735268116, 0.0672023743391037, 0.001611182582564652, 0.002181369112804532, 0.017726682126522064, 0.010837728157639503, 0.0009597227326594293, 0.0169223565608263, 0.025505991652607918, 0.003490225411951542, 0.0006131074042059481, 0.0022326877806335688, 0.002331526018679142, 0.5924991965293884, 0.0004485773097258061, 9.845360182225704e-05, 0.050602786242961884, 0.0008658841834403574, 0.0009703205432742834, 0.012236149981617928, 0.0446508415043354, 0.020773155614733696, 0.0016027400270104408, 0.00765036977827549, 0.0, 0.0, 0.0, 0.0, 0.0, 0.0, 0.0, 0.0, 0.0, 0.0, 0.0, 0.0, 0.0, 0.0, 0.0, 0.0, 0.0, 0.0, 0.0, 0.0, 0.0, 0.0, 0.0, 0.0, 0.0, 0.0, 0.0, 0.0, 0.0, 0.0, 0.0, 0.0, 0.0, 0.0, 0.0, 0.0, 0.0, 0.0, 0.0, 0.0, 0.0, 0.0], [0.008965173736214638, 0.0006332279299385846, 0.0009171315468847752, 0.0060732075944542885, 0.5291786789894104, 0.004732697736471891, 0.00178161368239671, 0.004353577271103859, 0.0008559079724363983, 0.00720934197306633, 0.004107085056602955, 0.002693736460059881, 0.0023323441855609417, 0.004478235263377428, 0.003312621032819152, 0.0037405621260404587, 0.23111359775066376, 0.0054688905365765095, 0.15665411949157715, 0.0025390125811100006, 0.0013467269018292427, 0.014666696079075336, 0.001269587897695601, 0.0006732552428729832, 0.00010269133053952828, 0.0008002403774298728, 0.0, 0.0, 0.0, 0.0, 0.0, 0.0, 0.0, 0.0, 0.0, 0.0, 0.0, 0.0, 0.0, 0.0, 0.0, 0.0, 0.0, 0.0, 0.0, 0.0, 0.0, 0.0, 0.0, 0.0, 0.0, 0.0, 0.0, 0.0, 0.0, 0.0, 0.0, 0.0, 0.0, 0.0, 0.0, 0.0, 0.0, 0.0, 0.0, 0.0, 0.0], [0.0033544846810400486, 0.004827225115150213, 0.0036777814384549856, 0.0015357848023995757, 6.981352635193616e-05, 0.0013818333391100168, 0.010168935172259808, 0.0009460914880037308, 0.0016653116326779127, 0.0003456303384155035, 0.885918140411377, 0.0015145138604566455, 0.0009596068994142115, 0.020245084539055824, 0.010388295166194439, 0.000866093032527715, 0.00023760365729685873, 0.0019375536357983947, 0.00047436353634111583, 0.0006050987867638469, 0.0019797575660049915, 0.0023961535189300776, 0.018558938056230545, 0.0005256720469333231, 0.0014263121411204338, 0.01134994812309742, 0.01264411024749279, 0.0, 0.0, 0.0, 0.0, 0.0, 0.0, 0.0, 0.0, 0.0, 0.0, 0.0, 0.0, 0.0, 0.0, 0.0, 0.0, 0.0, 0.0, 0.0, 0.0, 0.0, 0.0, 0.0, 0.0, 0.0, 0.0, 0.0, 0.0, 0.0, 0.0, 0.0, 0.0, 0.0, 0.0, 0.0, 0.0, 0.0, 0.0, 0.0, 0.0], [0.00912794005125761, 0.01633029617369175, 0.022134561091661453, 0.023113170638680458, 0.0008246148936450481, 0.011982904747128487, 0.013457732275128365, 0.02980293333530426, 0.0246457289904356, 0.012054940685629845, 0.04716450721025467, 0.02729509212076664, 0.009900154545903206, 0.016000686213374138, 0.10183870792388916, 0.03581836074590683, 0.0007262405124492943, 0.0157159436494112, 0.001252833055332303, 0.03881880268454552, 0.05125594139099121, 0.01416949275881052, 0.10419030487537384, 0.05622895807027817, 0.062180161476135254, 0.0970504954457283, 0.09725360572338104, 0.05966497212648392, 0.0, 0.0, 0.0, 0.0, 0.0, 0.0, 0.0, 0.0, 0.0, 0.0, 0.0, 0.0, 0.0, 0.0, 0.0, 0.0, 0.0, 0.0, 0.0, 0.0, 0.0, 0.0, 0.0, 0.0, 0.0, 0.0, 0.0, 0.0, 0.0, 0.0, 0.0, 0.0, 0.0, 0.0, 0.0, 0.0, 0.0, 0.0, 0.0], [0.2081330269575119, 0.22875961661338806, 0.16586683690547943, 0.0009924207115545869, 4.105818516109139e-05, 0.042352095246315, 0.025614919140934944, 0.0004308014176785946, 0.03292960673570633, 0.045879364013671875, 0.003138030646368861, 0.0005387691780924797, 0.005126547068357468, 0.03567739203572273, 0.014365592040121555, 0.0006653332966379821, 5.415588748292066e-05, 0.04527593031525612, 0.000585633737500757, 0.0006987907690927386, 0.004418635740876198, 0.0066307177767157555, 0.0029128750320523977, 0.0006776400841772556, 0.010572033934295177, 0.01370557677000761, 0.07091794162988663, 0.000956138945184648, 0.03208250179886818, 0.0, 0.0, 0.0, 0.0, 0.0, 0.0, 0.0, 0.0, 0.0, 0.0, 0.0, 0.0, 0.0, 0.0, 0.0, 0.0, 0.0, 0.0, 0.0, 0.0, 0.0, 0.0, 0.0, 0.0, 0.0, 0.0, 0.0, 0.0, 0.0, 0.0, 0.0, 0.0, 0.0, 0.0, 0.0, 0.0, 0.0, 0.0], [0.012269584462046623, 0.008754482492804527, 0.021510105580091476, 0.007433630060404539, 0.0821545422077179, 0.10564008355140686, 0.0058533851988613605, 0.019058486446738243, 0.004909638315439224, 0.010428430512547493, 0.007920484989881516, 0.014876406639814377, 0.019634578377008438, 0.009727214463055134, 0.004650646820664406, 0.008286949247121811, 0.3502241373062134, 0.020734485238790512, 0.05273931473493576, 0.023362068459391594, 0.004739214200526476, 0.012934661470353603, 0.009643214754760265, 0.018770691007375717, 0.13032057881355286, 0.015638159587979317, 0.0002077073004329577, 0.003561718389391899, 0.0007297630072571337, 0.01328558474779129, 0.0, 0.0, 0.0, 0.0, 0.0, 0.0, 0.0, 0.0, 0.0, 0.0, 0.0, 0.0, 0.0, 0.0, 0.0, 0.0, 0.0, 0.0, 0.0, 0.0, 0.0, 0.0, 0.0, 0.0, 0.0, 0.0, 0.0, 0.0, 0.0, 0.0, 0.0, 0.0, 0.0, 0.0, 0.0, 0.0, 0.0], [0.03673822805285454, 0.05012846738100052, 0.0314466767013073, 0.010045221075415611, 0.029196569696068764, 0.002316317753866315, 0.012709199450910091, 0.005895453505218029, 0.04355178400874138, 0.019397204741835594, 0.0017450883751735091, 0.009168165735900402, 0.05572204291820526, 0.0022898451425135136, 0.01283819880336523, 0.014105718582868576, 0.008469621650874615, 0.012690208852291107, 0.01605299487709999, 0.012599113397300243, 0.02488180249929428, 0.016362588852643967, 0.005140152294188738, 0.017971914261579514, 0.00795209500938654, 0.004611682146787643, 0.03698166459798813, 0.025546060875058174, 0.4234485328197479, 0.04006468132138252, 0.009932611137628555, 0.0, 0.0, 0.0, 0.0, 0.0, 0.0, 0.0, 0.0, 0.0, 0.0, 0.0, 0.0, 0.0, 0.0, 0.0, 0.0, 0.0, 0.0, 0.0, 0.0, 0.0, 0.0, 0.0, 0.0, 0.0, 0.0, 0.0, 0.0, 0.0, 0.0, 0.0, 0.0, 0.0, 0.0, 0.0, 0.0], [0.015112270601093769, 0.016970830038189888, 0.022371672093868256, 0.017147311940789223, 0.0013398855226114392, 0.008709888905286789, 0.024388834834098816, 0.016434933990240097, 0.0316687673330307, 0.01926790550351143, 0.017416052520275116, 0.018943937495350838, 0.008207700215280056, 0.021682344377040863, 0.057242535054683685, 0.016424059867858887, 0.0031948902178555727, 0.025215568020939827, 0.0035587891470640898, 0.01497968751937151, 0.01764563098549843, 0.008509498089551926, 0.05459818243980408, 0.020606456324458122, 0.015836112201213837, 0.03841961920261383, 0.3269844055175781, 0.030825303867459297, 0.04043965041637421, 0.04688854143023491, 0.013579254038631916, 0.025389445945620537, 0.0, 0.0, 0.0, 0.0, 0.0, 0.0, 0.0, 0.0, 0.0, 0.0, 0.0, 0.0, 0.0, 0.0, 0.0, 0.0, 0.0, 0.0, 0.0, 0.0, 0.0, 0.0, 0.0, 0.0, 0.0, 0.0, 0.0, 0.0, 0.0, 0.0, 0.0, 0.0, 0.0, 0.0, 0.0], [0.0042112586088478565, 0.014514259994029999, 0.014512813650071621, 2.8827898859162815e-05, 3.146733433823101e-05, 0.0010455769952386618, 0.005814355798065662, 1.5323776096920483e-05, 0.00039977740379981697, 0.0006255541811697185, 4.9824964662548155e-05, 1.8054081010632217e-05, 0.0002757818147074431, 0.0015511921374127269, 0.00032458631903864443, 1.1687480764521752e-05, 6.15966246186872e-06, 0.0019068365218117833, 3.2733241823734716e-05, 2.1968724468024448e-05, 0.0001309719227720052, 0.0003155532758682966, 6.449816282838583e-05, 2.174274413846433e-05, 0.00013319643039721996, 0.0002145839825971052, 0.0121013717725873, 2.174521068809554e-05, 0.0013064665254205465, 0.005365021992474794, 0.9317135810852051, 8.001596870599315e-05, 0.0031332403887063265, 0.0, 0.0, 0.0, 0.0, 0.0, 0.0, 0.0, 0.0, 0.0, 0.0, 0.0, 0.0, 0.0, 0.0, 0.0, 0.0, 0.0, 0.0, 0.0, 0.0, 0.0, 0.0, 0.0, 0.0, 0.0, 0.0, 0.0, 0.0, 0.0, 0.0, 0.0, 0.0, 0.0, 0.0], [0.010168923996388912, 0.006199292838573456, 0.014999293722212315, 0.009009242989122868, 0.2677706480026245, 0.027193346992135048, 0.001295982743613422, 0.005892522167414427, 0.007076175417751074, 0.02178768999874592, 0.007827763445675373, 0.01341234054416418, 0.013064665719866753, 0.0026696654967963696, 0.005042104981839657, 0.011776878498494625, 0.3531346619129181, 0.015045826323330402, 0.0679548978805542, 0.007912118919193745, 0.002591358730569482, 0.0197492353618145, 0.008988982066512108, 0.022409018129110336, 0.0356789268553257, 0.006372280418872833, 5.1458016969263554e-05, 0.003206950146704912, 0.001683115609921515, 0.011969813145697117, 0.008549390360713005, 0.0026846255641430616, 0.00032807880779728293, 0.006502710282802582, 0.0, 0.0, 0.0, 0.0, 0.0, 0.0, 0.0, 0.0, 0.0, 0.0, 0.0, 0.0, 0.0, 0.0, 0.0, 0.0, 0.0, 0.0, 0.0, 0.0, 0.0, 0.0, 0.0, 0.0, 0.0, 0.0, 0.0, 0.0, 0.0, 0.0, 0.0, 0.0, 0.0], [0.007387664169073105, 0.007406429387629032, 0.013892313465476036, 0.0015314487973228097, 9.420066635357216e-05, 0.0033938090782612562, 0.019330058246850967, 0.003463423578068614, 0.006038794293999672, 0.004555420484393835, 0.0003549365501385182, 0.0035429822746664286, 0.02580864541232586, 0.0034876710269600153, 0.0009753999765962362, 0.004833367187529802, 0.0050676786340773106, 0.003323290264233947, 0.003581511788070202, 0.011682691983878613, 0.03210742026567459, 0.002854572143405676, 0.0008802463416941464, 0.01252194494009018, 0.025440828874707222, 0.003401997731998563, 0.04487423971295357, 0.015331833623349667, 0.006149348337203264, 0.004840828478336334, 0.0024942357558757067, 0.046404462307691574, 0.6693206429481506, 0.002072327770292759, 0.0015532567631453276, 0.0, 0.0, 0.0, 0.0, 0.0, 0.0, 0.0, 0.0, 0.0, 0.0, 0.0, 0.0, 0.0, 0.0, 0.0, 0.0, 0.0, 0.0, 0.0, 0.0, 0.0, 0.0, 0.0, 0.0, 0.0, 0.0, 0.0, 0.0, 0.0, 0.0, 0.0, 0.0], [0.011637597344815731, 0.02373652160167694, 0.022450964897871017, 0.015274861827492714, 0.0015575658762827516, 0.008066659793257713, 0.02738204039633274, 0.010683570988476276, 0.016028203070163727, 0.008852161467075348, 0.019280506297945976, 0.01021636463701725, 0.005600404925644398, 0.024764245375990868, 0.041314903646707535, 0.013219177722930908, 0.0011768050026148558, 0.015846149995923042, 0.0010694718221202493, 0.010054484009742737, 0.017162121832370758, 0.012238351628184319, 0.06831906735897064, 0.01681683585047722, 0.010704143904149532, 0.021296748891472816, 0.32663851976394653, 0.022098543122410774, 0.024108093231916428, 0.046750135719776154, 0.010594240389764309, 0.02096286416053772, 0.026349838823080063, 0.04878190532326698, 0.016392871737480164, 0.022572973743081093, 0.0, 0.0, 0.0, 0.0, 0.0, 0.0, 0.0, 0.0, 0.0, 0.0, 0.0, 0.0, 0.0, 0.0, 0.0, 0.0, 0.0, 0.0, 0.0, 0.0, 0.0, 0.0, 0.0, 0.0, 0.0, 0.0, 0.0, 0.0, 0.0, 0.0, 0.0], [0.027759404852986336, 0.0058178831823170185, 0.012393662706017494, 0.07272636890411377, 0.0006206224206835032, 0.004646179731935263, 0.09394281357526779, 0.03267551213502884, 0.003775140503421426, 0.01693914271891117, 0.0034104837104678154, 0.02706390619277954, 0.023326437920331955, 0.0071812826208770275, 0.006205609068274498, 0.02664298005402088, 0.0017343707149848342, 0.00857140775769949, 0.0032997415401041508, 0.02369200810790062, 0.005808824207633734, 0.004437711555510759, 0.009520151652395725, 0.021092450246214867, 0.017745409160852432, 0.0028089103288948536, 0.18267822265625, 0.031828872859478, 0.004598233383148909, 0.06096717715263367, 0.036090824753046036, 0.02635263092815876, 0.02647288888692856, 0.0034985418897122145, 0.08229073137044907, 0.07117382436990738, 0.010209686122834682, 0.0, 0.0, 0.0, 0.0, 0.0, 0.0, 0.0, 0.0, 0.0, 0.0, 0.0, 0.0, 0.0, 0.0, 0.0, 0.0, 0.0, 0.0, 0.0, 0.0, 0.0, 0.0, 0.0, 0.0, 0.0, 0.0, 0.0, 0.0, 0.0, 0.0], [0.010544530116021633, 0.004156321287155151, 0.0234721340239048, 0.0038640073034912348, 0.2808871567249298, 0.037065744400024414, 0.0010213551577180624, 0.009731798432767391, 0.004673137795180082, 0.02344106137752533, 0.002315678633749485, 0.0042046611197292805, 0.012100419029593468, 0.006437018979340792, 0.010595819912850857, 0.012158464640378952, 0.27576321363449097, 0.013568269088864326, 0.04232944920659065, 0.012705265544354916, 0.005931770894676447, 0.02695538103580475, 0.0034750537015497684, 0.011621779762208462, 0.05336029827594757, 0.013410661369562149, 0.000546150840818882, 0.006526223849505186, 0.000756387657020241, 0.005895561072975397, 0.02239321917295456, 0.0069068861193954945, 0.01754721999168396, 0.009521313942968845, 0.01119818165898323, 0.001977332402020693, 0.0008809238206595182, 0.010060089640319347, 0.0, 0.0, 0.0, 0.0, 0.0, 0.0, 0.0, 0.0, 0.0, 0.0, 0.0, 0.0, 0.0, 0.0, 0.0, 0.0, 0.0, 0.0, 0.0, 0.0, 0.0, 0.0, 0.0, 0.0, 0.0, 0.0, 0.0, 0.0, 0.0], [0.0015739433001726866, 0.002582128392532468, 0.0022259436082094908, 0.0015426999889314175, 0.0014731127303093672, 0.001342194969765842, 0.0016624107956886292, 0.0013237277744337916, 0.0049309819005429745, 0.6362181901931763, 0.0004603824345394969, 0.0006923686596564949, 0.004148873034864664, 0.10042653977870941, 0.0029789695981889963, 0.0005034440546296537, 0.0011997814290225506, 0.08265549689531326, 0.0004332317039370537, 0.000697198964189738, 0.0020641677547246218, 0.01903243362903595, 0.011970613151788712, 0.0006490018568001688, 0.005895961541682482, 0.011139162816107273, 0.0026307448279112577, 0.0007046303362585604, 0.0032471546437591314, 0.014093014411628246, 0.0098028052598238, 0.001052386243827641, 0.0035751366522163153, 0.004978562239557505, 0.04263626039028168, 0.0007117650820873678, 0.003920613322407007, 0.010557225905358791, 0.0022667550947517157, 0.0, 0.0, 0.0, 0.0, 0.0, 0.0, 0.0, 0.0, 0.0, 0.0, 0.0, 0.0, 0.0, 0.0, 0.0, 0.0, 0.0, 0.0, 0.0, 0.0, 0.0, 0.0, 0.0, 0.0, 0.0, 0.0, 0.0, 0.0], [0.011036043986678123, 0.018792230635881424, 0.018275443464517593, 0.026962144300341606, 0.000298348895739764, 0.012181470170617104, 0.0454157292842865, 0.020626241341233253, 0.011363700963556767, 0.006497478578239679, 0.05424050986766815, 0.01876276731491089, 0.004223809577524662, 0.02432604879140854, 0.03135891631245613, 0.01630580984055996, 0.0008433329057879746, 0.020386483520269394, 0.0010809974046424031, 0.017238590866327286, 0.022869640961289406, 0.01212894357740879, 0.07089385390281677, 0.02020975947380066, 0.014742033556103706, 0.034222643822431564, 0.06662815064191818, 0.029125746339559555, 0.020879173651337624, 0.0387454554438591, 0.012518005445599556, 0.03226543217897415, 0.02347196452319622, 0.04910051077604294, 0.01850573904812336, 0.04518234729766846, 0.048875853419303894, 0.02747359685599804, 0.013395562767982483, 0.03854949399828911, 0.0, 0.0, 0.0, 0.0, 0.0, 0.0, 0.0, 0.0, 0.0, 0.0, 0.0, 0.0, 0.0, 0.0, 0.0, 0.0, 0.0, 0.0, 0.0, 0.0, 0.0, 0.0, 0.0, 0.0, 0.0, 0.0, 0.0], [0.011013785377144814, 0.016198698431253433, 0.020350536331534386, 0.0070776487700641155, 0.01709168218076229, 0.0042234668508172035, 0.0264136865735054, 0.008306802250444889, 0.013182319700717926, 0.0615057498216629, 0.013842668384313583, 0.004177152179181576, 0.007634644862264395, 0.014497969299554825, 0.0779217854142189, 0.004109859466552734, 0.0008065333822742105, 0.019185753539204597, 0.008136332035064697, 0.010085555724799633, 0.05265483260154724, 0.02319261245429516, 0.016503863036632538, 0.0050215027295053005, 0.012188547290861607, 0.016465649008750916, 0.06647620350122452, 0.014455865137279034, 0.02695271745324135, 0.09377287328243256, 0.03193065896630287, 0.012463497929275036, 0.026588205248117447, 0.027417276054620743, 0.04650624841451645, 0.006506400648504496, 0.038796089589595795, 0.016891540959477425, 0.07592879980802536, 0.017262691631913185, 0.02626125141978264, 0.0, 0.0, 0.0, 0.0, 0.0, 0.0, 0.0, 0.0, 0.0, 0.0, 0.0, 0.0, 0.0, 0.0, 0.0, 0.0, 0.0, 0.0, 0.0, 0.0, 0.0, 0.0, 0.0, 0.0, 0.0, 0.0], [0.007341631688177586, 0.035752665251493454, 0.03714315593242645, 0.00837360043078661, 0.03907542675733566, 0.0037414277903735638, 0.0018014740198850632, 0.010456985794007778, 0.11803583800792694, 0.010157635435461998, 0.008215933106839657, 0.03522482514381409, 0.010699141770601273, 0.010075191035866737, 0.0028048676904290915, 0.004639172460883856, 0.09148906171321869, 0.0945388451218605, 0.030696798115968704, 0.009468652307987213, 0.019026070833206177, 0.017786089330911636, 0.005210414528846741, 0.01017190981656313, 0.023271799087524414, 0.015688937157392502, 0.0007796481950208545, 0.003067087149247527, 0.03173060342669487, 0.02809247374534607, 0.03298464044928551, 0.0070115746930241585, 0.003652001963928342, 0.022424869239330292, 0.07167749106884003, 0.005976052954792976, 0.05388428270816803, 0.047697167843580246, 0.014025900512933731, 0.0006685690023005009, 0.013986673206090927, 0.0014533908106386662, 0.0, 0.0, 0.0, 0.0, 0.0, 0.0, 0.0, 0.0, 0.0, 0.0, 0.0, 0.0, 0.0, 0.0, 0.0, 0.0, 0.0, 0.0, 0.0, 0.0, 0.0, 0.0, 0.0, 0.0, 0.0], [0.0011408744612708688, 0.008087344467639923, 0.009681221097707748, 0.003076754277572036, 0.00020626693731173873, 0.0013785769697278738, 0.007484976202249527, 0.006022327113896608, 0.007330715656280518, 0.005503178108483553, 0.0033985222689807415, 0.002964789280667901, 0.0007880018092691898, 0.0035979649983346462, 0.19316020607948303, 0.0014989791670814157, 0.0003804354928433895, 0.034957174211740494, 0.0008322048815898597, 0.001714946934953332, 0.0044536585919559, 0.017128804698586464, 0.01301976852118969, 0.0007019844488240778, 0.0004659184196498245, 0.0077254497446119785, 0.002288876799866557, 0.001628153258934617, 0.004721373785287142, 0.3478281497955322, 0.05532341077923775, 0.0016513619339093566, 0.0022049499675631523, 0.1660584956407547, 0.05176876485347748, 0.0010222861310467124, 0.0008547090110369027, 0.015304941684007645, 0.000913126626983285, 0.0032224878668785095, 0.0012145084328949451, 0.004051976837217808, 0.003241330850869417, 0.0, 0.0, 0.0, 0.0, 0.0, 0.0, 0.0, 0.0, 0.0, 0.0, 0.0, 0.0, 0.0, 0.0, 0.0, 0.0, 0.0, 0.0, 0.0, 0.0, 0.0, 0.0, 0.0, 0.0], [0.007606493309140205, 0.01411337498575449, 0.014140705578029156, 0.037545621395111084, 0.0016102474182844162, 0.021127568557858467, 0.036145616322755814, 0.026376817375421524, 0.009217235259711742, 0.009106400422751904, 0.05574891343712807, 0.018943456932902336, 0.0033779942896217108, 0.02010510489344597, 0.05230528116226196, 0.0187518447637558, 0.001177558209747076, 0.015630830079317093, 0.0017662572208791971, 0.016439368948340416, 0.020558247342705727, 0.014048932120203972, 0.05623002350330353, 0.01803314872086048, 0.012563653290271759, 0.0442025288939476, 0.02378784492611885, 0.025019953027367592, 0.014972665347158909, 0.029853202402591705, 0.013009853661060333, 0.02313283644616604, 0.013584380969405174, 0.037643805146217346, 0.02321930229663849, 0.03749753534793854, 0.013702178373932838, 0.018725326284766197, 0.015013356693089008, 0.05880636349320412, 0.006760637275874615, 0.026458172127604485, 0.027407314628362656, 0.04453201964497566, 0.0, 0.0, 0.0, 0.0, 0.0, 0.0, 0.0, 0.0, 0.0, 0.0, 0.0, 0.0, 0.0, 0.0, 0.0, 0.0, 0.0, 0.0, 0.0, 0.0, 0.0, 0.0, 0.0], [0.005109557881951332, 0.04536664858460426, 0.021910622715950012, 0.0013896842719987035, 0.0001623051502974704, 0.0019187475554645061, 0.05359680578112602, 0.0012042524758726358, 0.0036771821323782206, 0.00035704957554116845, 0.4752224087715149, 0.001623135176487267, 0.0027959684375673532, 0.04411790892481804, 0.0023529105819761753, 0.0005481799598783255, 0.0002794931351672858, 0.0032616625539958477, 0.004388979636132717, 0.0009118776069954038, 0.007202642969787121, 0.004964771214872599, 0.0015053838724270463, 0.00043131079291924834, 0.0040703993290662766, 0.012071596458554268, 0.004644928500056267, 0.00046061689499765635, 0.008955142460763454, 0.05431075021624565, 0.022822305560112, 0.0003431302902754396, 0.008486192673444748, 0.03267592936754227, 0.07514674216508865, 0.0003150886623188853, 0.012368504889309406, 0.02893536351621151, 0.004217050038278103, 0.0003329772735014558, 0.004183674231171608, 0.003114063525572419, 0.01654145121574402, 0.0002601267187856138, 0.02144452929496765, 0.0, 0.0, 0.0, 0.0, 0.0, 0.0, 0.0, 0.0, 0.0, 0.0, 0.0, 0.0, 0.0, 0.0, 0.0, 0.0, 0.0, 0.0, 0.0, 0.0, 0.0, 0.0], [0.0008782263612374663, 0.018551940098404884, 0.009827722795307636, 0.0025653396733105183, 0.00020076485816389322, 0.0012316859792917967, 0.001414080266840756, 0.0021848788019269705, 0.0034971300046890974, 0.0015971589600667357, 0.02801794558763504, 0.008456007577478886, 0.026647796854376793, 0.006811770610511303, 0.0013118027709424496, 0.00902926828712225, 0.03808506578207016, 0.008884811773896217, 0.000713575747795403, 0.0025677778758108616, 0.03701057285070419, 0.018048973754048347, 0.00857776403427124, 0.005849186331033707, 0.009323478676378727, 0.013422864489257336, 0.0008461230900138617, 0.0026340018957853317, 0.006487175822257996, 0.009633658453822136, 0.0004950285656377673, 0.0017599143320694566, 0.0034122297074645758, 0.004922728519886732, 0.001640090486034751, 0.005919345188885927, 0.016477694734930992, 0.01155772153288126, 0.009540929459035397, 0.0017241619061678648, 0.6496044397354126, 0.0028645030688494444, 0.0003225230029784143, 0.0005067808669991791, 0.0002460269315633923, 0.004697345197200775, 0.0, 0.0, 0.0, 0.0, 0.0, 0.0, 0.0, 0.0, 0.0, 0.0, 0.0, 0.0, 0.0, 0.0, 0.0, 0.0, 0.0, 0.0, 0.0, 0.0, 0.0], [0.0017541127745062113, 0.003745586611330509, 0.0036842264235019684, 0.002960384590551257, 0.00017658575961831957, 0.0010694301454350352, 0.00519221369177103, 0.003190159797668457, 0.006149401888251305, 0.24698403477668762, 0.0014229236403480172, 0.0016557758208364248, 0.01251912023872137, 0.2191002368927002, 0.004342290572822094, 0.0016146465204656124, 0.0011837100610136986, 0.16388212144374847, 0.0004901286447420716, 0.0018381787231191993, 0.00973509531468153, 0.04130229353904724, 0.018145788460969925, 0.0008304107468575239, 0.009821661747992039, 0.017627162858843803, 0.012112656608223915, 0.0011030787136405706, 0.005322349723428488, 0.02614944986999035, 0.01522071473300457, 0.0014647232601419091, 0.009510255418717861, 0.008482537232339382, 0.054882947355508804, 0.0010352578246966004, 0.010326228104531765, 0.029390987008810043, 0.0019755903631448746, 0.0014872720930725336, 0.0021120747551321983, 0.008807120844721794, 0.009744467213749886, 0.0011826623231172562, 0.00521288113668561, 0.010062046349048615, 0.003997070249170065, 0.0, 0.0, 0.0, 0.0, 0.0, 0.0, 0.0, 0.0, 0.0, 0.0, 0.0, 0.0, 0.0, 0.0, 0.0, 0.0, 0.0, 0.0, 0.0, 0.0], [0.006452502217143774, 0.004771772306412458, 0.004921525716781616, 0.036409150809049606, 0.0018703434616327286, 0.014960665255784988, 0.010349704883992672, 0.02731308713555336, 0.01362293865531683, 0.01845206879079342, 0.026377229019999504, 0.014271237887442112, 0.0024549472145736217, 0.027461925521492958, 0.0413285493850708, 0.014331360347568989, 0.0004820209869649261, 0.013450618833303452, 0.0020762814674526453, 0.012389728799462318, 0.008372483775019646, 0.008816278539597988, 0.027287451550364494, 0.011828448623418808, 0.009077590890228748, 0.042305439710617065, 0.038514748215675354, 0.018474683165550232, 0.009402858093380928, 0.022170307114720345, 0.007650562562048435, 0.014775048941373825, 0.010609051212668419, 0.027222391217947006, 0.012340142391622066, 0.02239781804382801, 0.004873683676123619, 0.010943202301859856, 0.003862485522404313, 0.04056011885404587, 0.0006298611988313496, 0.02223956771194935, 0.04474914073944092, 0.048244502395391464, 0.16087736189365387, 0.025547415018081665, 0.019491123035550117, 0.03298857808113098, 0.0, 0.0, 0.0, 0.0, 0.0, 0.0, 0.0, 0.0, 0.0, 0.0, 0.0, 0.0, 0.0, 0.0, 0.0, 0.0, 0.0, 0.0, 0.0], [0.00935886800289154, 0.011585628613829613, 0.007076260633766651, 0.09934379905462265, 0.006051181815564632, 0.006315522361546755, 0.033859968185424805, 0.08775696158409119, 0.024178732186555862, 0.011186974123120308, 0.008267688564956188, 0.0603305883705616, 0.043450046330690384, 0.0029916332568973303, 0.010570104233920574, 0.04194715619087219, 0.007915133610367775, 0.007798342499881983, 0.0053986418060958385, 0.025376103818416595, 0.009120668284595013, 0.0037069704849272966, 0.00540199875831604, 0.02475191466510296, 0.004445709753781557, 0.002688837703317404, 0.008460057899355888, 0.027745405212044716, 0.007481778506189585, 0.04552890732884407, 0.016874639317393303, 0.012306326068937778, 0.0036463821306824684, 0.002096487209200859, 0.0321781225502491, 0.022485248744487762, 0.009103464893996716, 0.003575365524739027, 0.004590013064444065, 0.027721945196390152, 0.03030438907444477, 0.04019414260983467, 0.013987542130053043, 0.016741858795285225, 0.034819308668375015, 0.007346808444708586, 0.012890325859189034, 0.029758570715785027, 0.02928745374083519, 0.0, 0.0, 0.0, 0.0, 0.0, 0.0, 0.0, 0.0, 0.0, 0.0, 0.0, 0.0, 0.0, 0.0, 0.0, 0.0, 0.0, 0.0], [0.007471552584320307, 0.08204426616430283, 0.051165636628866196, 0.000852509168908, 0.00017155762179754674, 0.005827405955642462, 0.02853475697338581, 0.0016111914301291108, 0.006666527595371008, 0.006307898089289665, 0.021230489015579224, 0.005272870883345604, 0.030211614444851875, 0.005064378492534161, 0.013381019234657288, 0.0030174697749316692, 0.06635600328445435, 0.036047257483005524, 0.014940996654331684, 0.006685162428766489, 0.09390704333782196, 0.009776399470865726, 0.011416061781346798, 0.0024465881288051605, 0.029919452965259552, 0.026307571679353714, 0.0038805059157311916, 0.003977286163717508, 0.020740076899528503, 0.022944455966353416, 0.004854164551943541, 0.0042526391334831715, 0.009653711691498756, 0.006348717026412487, 0.007854548282921314, 0.004708992317318916, 0.0554606094956398, 0.028517788276076317, 0.0399540476500988, 0.005788107868283987, 0.08326594531536102, 0.0018974962877109647, 0.00026321300538256764, 0.0031149147544056177, 0.021406875923275948, 0.018866151571273804, 0.011076229624450207, 0.00073914515087381, 0.0548260472714901, 0.018974706530570984, 0.0, 0.0, 0.0, 0.0, 0.0, 0.0, 0.0, 0.0, 0.0, 0.0, 0.0, 0.0, 0.0, 0.0, 0.0, 0.0, 0.0], [0.0013464237563312054, 0.0022128515411168337, 0.004867222160100937, 0.002023993292823434, 0.005046158097684383, 0.0021117262076586485, 0.005845534149557352, 0.0006286978023126721, 0.0025873149279505014, 0.0012600538320839405, 0.0003533680865075439, 0.0008571973885409534, 0.006307146977633238, 0.0007606768049299717, 0.0023629378993064165, 0.002616024110466242, 0.012973862700164318, 0.000693741487339139, 0.001027911202982068, 0.0006431314395740628, 0.003300401382148266, 0.0012759481323882937, 0.0013143856776878238, 0.0033025755546987057, 0.012522456236183643, 0.00036009959876537323, 0.042538318783044815, 0.0011138967238366604, 0.0007205547299236059, 0.0006307203439064324, 0.0007123141549527645, 0.0015182294882833958, 0.007249992806464434, 0.00042435177601873875, 0.002516280859708786, 0.004003383219242096, 0.002811776241287589, 0.0013017116580158472, 0.008208398707211018, 0.003193224547430873, 0.0033979141153395176, 0.004647197667509317, 0.01761827990412712, 0.005684541538357735, 0.013584774918854237, 0.0025650865864008665, 0.58650141954422, 0.006967636290937662, 0.1832171231508255, 0.0182021651417017, 0.0020687784999608994, 0.0, 0.0, 0.0, 0.0, 0.0, 0.0, 0.0, 0.0, 0.0, 0.0, 0.0, 0.0, 0.0, 0.0, 0.0, 0.0], [0.006425017490983009, 0.0056888326071202755, 0.006091137416660786, 0.024053968489170074, 0.002152534667402506, 0.008958772756159306, 0.01473906822502613, 0.02618897520005703, 0.017384570091962814, 0.019319290295243263, 0.013365642167627811, 0.012270508334040642, 0.009389559738337994, 0.06460998207330704, 0.03253073990345001, 0.009590566158294678, 0.00023555269581265748, 0.01754113659262657, 0.0018049393547698855, 0.010531560517847538, 0.006035778671503067, 0.012064647860825062, 0.021936669945716858, 0.006984955631196499, 0.005458083003759384, 0.028927665203809738, 0.09293945133686066, 0.010560822673141956, 0.010913889855146408, 0.02999420464038849, 0.010595426894724369, 0.0096843671053648, 0.006364886183291674, 0.0502445362508297, 0.009476921521127224, 0.009318238124251366, 0.009745589457452297, 0.018646907061338425, 0.006489790976047516, 0.018457278609275818, 0.001147459726780653, 0.011304744519293308, 0.06639213114976883, 0.01839549094438553, 0.08138193190097809, 0.019739767536520958, 0.024646686390042305, 0.023082111030817032, 0.028665103018283844, 0.015274153091013432, 0.012315092608332634, 0.019942836835980415, 0.0, 0.0, 0.0, 0.0, 0.0, 0.0, 0.0, 0.0, 0.0, 0.0, 0.0, 0.0, 0.0, 0.0, 0.0], [0.015832452103495598, 0.011653427965939045, 0.022858157753944397, 0.00021908229973632842, 9.808470349526033e-05, 0.005315657239407301, 0.003950422629714012, 0.00010373907571192831, 0.0009306723368354142, 0.0024222189094871283, 0.0001528756256448105, 7.555265619885176e-05, 0.00023376490571536124, 0.0061112213879823685, 0.0010632590856403112, 0.00015052403614390641, 0.0001969137229025364, 0.010020256973803043, 0.0014831904554739594, 0.0001429634721716866, 0.00037137657636776567, 0.0010994980111718178, 3.745824869838543e-05, 7.083902892190963e-05, 0.0002790965372696519, 0.0008194202091544867, 0.005844566039741039, 0.0001278240088140592, 0.0003550055844243616, 0.012312282808125019, 0.25927650928497314, 0.0001235645468113944, 0.002844050759449601, 0.003292687702924013, 0.5757289528846741, 0.00011683203047141433, 9.569888788973913e-05, 0.02583080530166626, 0.0009334002388641238, 0.00015232131408993155, 0.0024285227991640568, 0.0010064709931612015, 0.00474819028750062, 8.684495696797967e-05, 0.002630559029057622, 0.0012984072091057897, 0.0011904422426596284, 0.00020180873980280012, 0.0009188959375023842, 0.007487667724490166, 0.0016887823585420847, 0.00023540003166999668, 0.003351411083713174, 0.0, 0.0, 0.0, 0.0, 0.0, 0.0, 0.0, 0.0, 0.0, 0.0, 0.0, 0.0, 0.0, 0.0], [0.0011172479717060924, 0.10367079079151154, 0.06232520937919617, 0.0006406931206583977, 0.0009566349326632917, 0.004653281066566706, 0.02254343219101429, 0.00026329586398787796, 0.003043101169168949, 0.0031535644084215164, 0.028480008244514465, 0.0017380270874127746, 0.01744951866567135, 0.00627733813598752, 0.00695338798686862, 0.0017891033785417676, 0.051749855279922485, 0.010198332369327545, 0.0031970106065273285, 0.0011416519992053509, 0.05658310279250145, 0.016495412215590477, 0.030437670648097992, 0.0039774635806679726, 0.04400472715497017, 0.008092688396573067, 0.016901347786188126, 0.0008527121972292662, 0.008038893342018127, 0.013864744454622269, 0.004244695883244276, 0.001836896757595241, 0.0074332053773105145, 0.0037406838964670897, 0.011571574956178665, 0.007141287438571453, 0.02955595776438713, 0.021352581679821014, 0.01803739182651043, 0.0028143932577222586, 0.13224899768829346, 0.00992182083427906, 0.0040436661802232265, 0.0032240685541182756, 0.0055526252835989, 0.012974126264452934, 0.03785277158021927, 0.002321183681488037, 0.0843677669763565, 0.05296400934457779, 0.005481636617332697, 0.0006035504047758877, 0.0003472680982667953, 0.00977760087698698, 0.0, 0.0, 0.0, 0.0, 0.0, 0.0, 0.0, 0.0, 0.0, 0.0, 0.0, 0.0, 0.0], [0.002624669810757041, 0.003782551269978285, 0.0049929991364479065, 0.0020478409714996815, 9.682000381872058e-05, 0.001661564689129591, 0.007475626189261675, 0.0014013465261086822, 0.0008363314555026591, 0.0001532251772005111, 0.5367043018341064, 0.003241246100515127, 0.0012090526288375258, 0.02452711947262287, 0.005837047938257456, 0.0021346076391637325, 0.00027638222672976553, 0.0029926253482699394, 0.0016227735904976726, 0.0022415139246731997, 0.006245836615562439, 0.004187363665550947, 0.0030720429494976997, 0.0014423930551856756, 0.0019417620496824384, 0.007438020780682564, 0.0037033299449831247, 0.0009689108701422811, 0.005086815450340509, 0.008675303310155869, 0.015603911131620407, 0.0006373162032105029, 0.0035644713789224625, 0.011166958138346672, 0.017691507935523987, 0.0006119819590821862, 0.0017514817882329226, 0.011003956198692322, 0.00035699401632882655, 0.0006959870806895196, 0.00085087725892663, 0.0010127909481525421, 0.002579689957201481, 0.0007737210253253579, 0.004409456625580788, 0.016938749700784683, 0.0005220159655436873, 0.000839610758703202, 0.006338932551443577, 0.22207069396972656, 0.002064707688987255, 0.00034551124554127455, 0.006150971632450819, 0.016748009249567986, 0.0066482555121183395, 0.0, 0.0, 0.0, 0.0, 0.0, 0.0, 0.0, 0.0, 0.0, 0.0, 0.0, 0.0], [0.008870838209986687, 0.0014023861149325967, 0.0026078796945512295, 0.056581124663352966, 0.0006490095984190702, 0.006993278861045837, 0.007256172131747007, 0.04146594926714897, 0.01009821891784668, 0.009804761037230492, 0.0256486888974905, 0.02784406766295433, 0.004461853764951229, 0.04028954356908798, 0.01280117966234684, 0.017334843054413795, 0.000870254123583436, 0.028029421344399452, 0.0015931162051856518, 0.013497704640030861, 0.004250088706612587, 0.009277758188545704, 0.027209389954805374, 0.012875325977802277, 0.005779856815934181, 0.02966494858264923, 0.03181278333067894, 0.013381479308009148, 0.009437025524675846, 0.018911654129624367, 0.011005244217813015, 0.01037600077688694, 0.007365128491073847, 0.035479262471199036, 0.009936060756444931, 0.013927649706602097, 0.006290482357144356, 0.009717512875795364, 0.000630561844445765, 0.016635222360491753, 0.0005810351576656103, 0.011187966912984848, 0.016990462318062782, 0.028334489092230797, 0.04940560832619667, 0.01636195182800293, 0.004575818777084351, 0.03370611369609833, 0.013991720974445343, 0.02809288166463375, 0.02398395910859108, 0.03195605427026749, 0.06283359974622726, 0.016696244478225708, 0.032905444502830505, 0.026333021000027657, 0.0, 0.0, 0.0, 0.0, 0.0, 0.0, 0.0, 0.0, 0.0, 0.0, 0.0], [0.005794108845293522, 0.006029828917235136, 0.007912322878837585, 0.0006596464081667364, 0.0013080151984468102, 0.002219858579337597, 0.002605211455374956, 0.00019296187383588403, 0.0007488172268494964, 0.001285875216126442, 0.0002496075176168233, 0.0003022596938535571, 0.0004374223353806883, 0.006334774196147919, 0.0005638435250148177, 0.00011230972449993715, 1.5007612091721967e-05, 0.008698908612132072, 0.000798572669737041, 0.000191958446521312, 0.0005544356536120176, 0.002645561471581459, 4.604696005117148e-05, 0.0001911467988975346, 0.00016568474529776722, 0.0005391404265537858, 0.003553127171471715, 7.236925739562139e-05, 0.0019249062752351165, 0.024233398959040642, 0.3712886869907379, 0.00016209644672926515, 0.0006767571321688592, 0.005333621054887772, 0.4336273670196533, 0.0001297246344620362, 0.0005362363299354911, 0.023946993052959442, 0.0006833737134002149, 7.332386303460225e-05, 0.0013919633347541094, 0.0019053792348131537, 0.0085354745388031, 8.649456140119582e-05, 0.002951908390969038, 0.001857942552305758, 0.00039457413367927074, 0.00018663876107893884, 0.001943016774021089, 0.013526488095521927, 0.001446615206077695, 0.0001319811854045838, 0.006037482060492039, 0.009896677918732166, 0.021846536546945572, 0.00044797424925491214, 0.010567573830485344, 0.0, 0.0, 0.0, 0.0, 0.0, 0.0, 0.0, 0.0, 0.0, 0.0], [0.01120731607079506, 0.038678959012031555, 0.024550113826990128, 0.0008508784812875092, 0.00016019094618968666, 0.009775987826287746, 0.007433748804032803, 0.0009698533685877919, 0.01104648131877184, 0.026011008769273758, 0.004829701967537403, 0.00091324164532125, 0.003265468403697014, 0.003974326886236668, 0.018929846584796906, 0.0025566834956407547, 0.0002541037683840841, 0.006821847055107355, 0.004066346678882837, 0.006223511882126331, 0.03899949789047241, 0.009489355608820915, 0.018550431355834007, 0.0037733353674411774, 0.03805452585220337, 0.02124573290348053, 0.022218026220798492, 0.008533041924238205, 0.009360183961689472, 0.019515158608555794, 0.009019527584314346, 0.0037598898634314537, 0.009348361752927303, 0.009200526401400566, 0.011037173680961132, 0.008123169653117657, 0.014373231679201126, 0.008578511886298656, 0.03268424794077873, 0.010846532881259918, 0.254967600107193, 0.003128489712253213, 0.002429226879030466, 0.004033086355775595, 0.01863042265176773, 0.021741613745689392, 0.0871104747056961, 0.005259486846625805, 0.022036900743842125, 0.004105758387595415, 0.0219157412648201, 0.005207837093621492, 0.013639390468597412, 0.03231519088149071, 0.000857135804835707, 0.0012759770033881068, 0.00031634539482183754, 0.011799251660704613, 0.0, 0.0, 0.0, 0.0, 0.0, 0.0, 0.0, 0.0, 0.0], [0.0008219231385737658, 0.00024192176351789385, 0.0010773787507787347, 0.012667685747146606, 0.00034529552794992924, 0.00013235521328169852, 0.001566592720337212, 0.009553379379212856, 0.000657418102491647, 0.0004420373006723821, 0.0009215361205860972, 0.011572401970624924, 0.0018035653047263622, 0.0001858987961895764, 0.0028339410200715065, 0.015053107403218746, 0.0008438735385425389, 0.0007885632221587002, 0.0010003786301240325, 0.010588366538286209, 0.00512949051335454, 0.0005675798165611923, 0.0017006233101710677, 0.006982516031712294, 0.002227285411208868, 0.00047144864220172167, 0.003576649120077491, 0.007698346395045519, 0.004169750958681107, 0.002050658455118537, 0.0038142865523695946, 0.0033568553626537323, 0.0029338225722312927, 0.0003633634769357741, 0.006898123770952225, 0.003861707402393222, 0.0017121194396167994, 0.0015448781196027994, 0.0008449163287878036, 0.002910780720412731, 0.0043539316393435, 0.7119433283805847, 0.003294264664873481, 0.001974530518054962, 0.003159098094329238, 0.03349724039435387, 0.002284164074808359, 0.003220481099560857, 0.000537639542017132, 0.039712708443403244, 0.01865510269999504, 0.002963602775707841, 0.0031834044493734837, 0.004868166521191597, 0.016114650294184685, 0.005778750404715538, 0.0023228819482028484, 0.0022833342663943768, 0.003939786460250616, 0.0, 0.0, 0.0, 0.0, 0.0, 0.0, 0.0, 0.0], [0.007272600661963224, 0.0015104291960597038, 0.0024489101488143206, 0.06614379584789276, 0.003600694704800844, 0.004451125394552946, 0.005717719905078411, 0.04017524793744087, 0.00573405297473073, 0.0035745841450989246, 0.029027819633483887, 0.02706841006875038, 0.0018696404295042157, 0.015163198113441467, 0.015106475912034512, 0.022241078317165375, 0.0012590494006872177, 0.018759710714221, 0.001569045358337462, 0.014938071370124817, 0.011284751817584038, 0.011093342676758766, 0.02513953484594822, 0.013459693640470505, 0.0036815067287534475, 0.021803922951221466, 0.03406074643135071, 0.015125738456845284, 0.0210197065025568, 0.019333895295858383, 0.01616648957133293, 0.010349366813898087, 0.010186676867306232, 0.027122218161821365, 0.015499326400458813, 0.010384497232735157, 0.008348913863301277, 0.010665387846529484, 0.0011785428505390882, 0.01119948085397482, 0.0005802449304610491, 0.01561670657247305, 0.00823135580867529, 0.013139407150447369, 0.03328845649957657, 0.013498511165380478, 0.002431656001135707, 0.01670113392174244, 0.0064062089659273624, 0.014036444947123528, 0.023889660835266113, 0.015584802255034447, 0.028476698324084282, 0.011872277595102787, 0.10984112322330475, 0.026764625683426857, 0.04167164862155914, 0.004870129283517599, 0.013392951339483261, 0.014970585703849792, 0.0, 0.0, 0.0, 0.0, 0.0, 0.0, 0.0], [0.005564481485635042, 0.021440859884023666, 0.016160765662789345, 0.0020850354339927435, 0.000984037178568542, 0.001736947218887508, 0.0024317011702805758, 0.001434361794963479, 0.003651395905762911, 0.005984886549413204, 0.0009531818795949221, 0.0007121404632925987, 0.0005306071252562106, 0.0014591800281777978, 0.0768406093120575, 0.0008235577843151987, 0.00041810135007835925, 0.020827803760766983, 0.0009730010642670095, 0.0006938200676813722, 0.017656154930591583, 0.018346844241023064, 0.0018437050748616457, 0.0007105814875103533, 0.001009353087283671, 0.0041648223996162415, 0.028942255303263664, 0.0017082123085856438, 0.008555999957025051, 0.4018917381763458, 0.00758812390267849, 0.0005558612756431103, 0.015983548015356064, 0.12619589269161224, 0.02921026200056076, 0.0007482774090021849, 0.002681954763829708, 0.016198091208934784, 0.002042776672169566, 0.0005188343930058181, 0.021067101508378983, 0.00506877014413476, 0.0012172486167401075, 0.0002717096940614283, 0.006269828416407108, 0.005627910140901804, 0.0012454073876142502, 0.00048093716031871736, 0.01044692937284708, 0.0023877001367509365, 0.0022551685106009245, 0.00021006952738389373, 0.0025654251221567392, 0.000965614162851125, 0.03272051364183426, 0.0005922986310906708, 0.0038630643393844366, 0.03345448896288872, 0.011643343605101109, 0.001305965706706047, 0.0040808203630149364, 0.0, 0.0, 0.0, 0.0, 0.0, 0.0], [0.005859152413904667, 0.03799404203891754, 0.06813903898000717, 0.0005344236851669848, 0.00040844810428097844, 0.006120169535279274, 0.021927937865257263, 0.0008519412949681282, 0.004877008032053709, 0.0055554211139678955, 0.001237821183167398, 0.0009636632166802883, 0.006396266166120768, 0.002234111540019512, 0.013134961016476154, 0.0012933886609971523, 7.410018588416278e-05, 0.004357292782515287, 0.0006728281150572002, 0.006209079641848803, 0.01805107481777668, 0.003255522344261408, 0.007820513099431992, 0.006393528077751398, 0.018718751147389412, 0.00433624442666769, 0.025453388690948486, 0.007920786738395691, 0.009194553829729557, 0.011885245330631733, 0.017752060666680336, 0.012619905173778534, 0.012098557315766811, 0.0060884482227265835, 0.013678010553121567, 0.005693573039025068, 0.04676751792430878, 0.017814133316278458, 0.042879294604063034, 0.007595993112772703, 0.354229211807251, 0.0028864839114248753, 0.004071047063916922, 0.004566534422338009, 0.00623661931604147, 0.012499632313847542, 0.023918423801660538, 0.00258951960131526, 0.010937510058283806, 0.005444640293717384, 0.022093966603279114, 0.007714288309216499, 0.005242182407528162, 0.010423580184578896, 0.00024063416640274227, 0.0029189372435212135, 0.004430477507412434, 0.014584900811314583, 0.0033412775956094265, 0.0012879137648269534, 0.002367453882470727, 0.013116544112563133, 0.0, 0.0, 0.0, 0.0, 0.0], [0.003384524257853627, 0.0007596573559567332, 0.00041025859536603093, 0.013200748711824417, 0.011314497329294682, 0.0004174421774223447, 0.0008270627004094422, 0.007035528775304556, 0.0017114679794758558, 0.0016747302142903209, 0.0034899578895419836, 0.0031572021543979645, 0.0002950807102024555, 0.0004123186517972499, 0.00032869004644453526, 0.0033954628743231297, 0.01570030488073826, 0.0008275656145997345, 0.006431346759200096, 0.0013111502630636096, 0.001083512557670474, 0.0012280861847102642, 0.0008599085849709809, 0.0009180116467177868, 0.000490429112687707, 0.0005599447758868337, 0.0005638592992909253, 0.002869692165404558, 0.002717147348448634, 0.0005141344736330211, 0.0007786807254888117, 0.0010744809405878186, 0.0010838897433131933, 0.0006791871273890138, 0.0020226025953888893, 0.003921452444046736, 0.00647555710747838, 0.00036673882277682424, 0.010037275962531567, 0.0024678665213286877, 0.0015533253317698836, 0.004471945576369762, 0.0003953814448323101, 0.001212447532452643, 0.005008307751268148, 0.0036154803819954395, 0.0021100619342178106, 0.0032880683429539204, 0.002927173860371113, 0.007817492820322514, 0.0036866560112684965, 0.003861714620143175, 0.026865195482969284, 0.00698422733694315, 0.018608570098876953, 0.005337436217814684, 0.0033756354823708534, 0.004605277441442013, 0.0025755311362445354, 0.009331167675554752, 0.7635276317596436, 0.0016225663712248206, 0.000421385804656893, 0.0, 0.0, 0.0, 0.0], [0.0244434904307127, 0.029827984049916267, 0.024984074756503105, 0.004423292353749275, 0.007921518757939339, 0.003968887496739626, 0.007654175627976656, 0.0039033370558172464, 0.008806010708212852, 0.009685219265520573, 0.004641362931579351, 0.001805937965400517, 0.0021349797025322914, 0.003240805584937334, 0.03889697417616844, 0.003041361691430211, 0.002932456322014332, 0.004363500513136387, 0.007677930407226086, 0.0035720951855182648, 0.007997958920896053, 0.0027565211057662964, 0.007399758789688349, 0.0028699045069515705, 0.003631012747064233, 0.002750582993030548, 0.11027593165636063, 0.007881967350840569, 0.017015205696225166, 0.025923701003193855, 0.02577115036547184, 0.0031985710375010967, 0.022193964570760727, 0.007644932251423597, 0.06374815851449966, 0.0030099814757704735, 0.020456338301301003, 0.004842913243919611, 0.046794742345809937, 0.0031161464285105467, 0.03564507141709328, 0.004297084175050259, 0.006053866818547249, 0.0014817639021202922, 0.015617510303854942, 0.005785742774605751, 0.015834273770451546, 0.002260766690596938, 0.039907701313495636, 0.00477607361972332, 0.08740855008363724, 0.0021711201407015324, 0.014147572219371796, 0.005387487355619669, 0.003719923086464405, 0.001202275394462049, 0.0028199711814522743, 0.00992156844586134, 0.031800296157598495, 0.003096136497333646, 0.004259944427758455, 0.017967944964766502, 0.08929182589054108, 0.007940635085105896, 0.0, 0.0, 0.0], [0.007672599051147699, 0.044048309326171875, 0.04736417531967163, 0.0006599682965315878, 0.03193818777799606, 0.006813320331275463, 0.0067449104972183704, 0.0004005669034086168, 0.00640074210241437, 0.005381513386964798, 0.005629304330796003, 0.0008673927513882518, 0.03148633986711502, 0.0011180532164871693, 0.011161569505929947, 0.001162261120043695, 0.0625576302409172, 0.0030258558690547943, 0.01008960697799921, 0.0011490709148347378, 0.011460493318736553, 0.01183787640184164, 0.0076599507592618465, 0.0024585716892033815, 0.02165515534579754, 0.001252456451766193, 0.0007886310340836644, 0.0014208888169378042, 0.003620593110099435, 0.006211531814187765, 0.0051005082204937935, 0.0016802080208435655, 0.004171752370893955, 0.0015387579333037138, 0.007834081538021564, 0.002221460686996579, 0.019507871940732002, 0.0034314231015741825, 0.012652444653213024, 0.0016478898469358683, 0.44006574153900146, 0.00560233648866415, 0.0021123294718563557, 0.001403176342137158, 0.0007091654115356505, 0.007835318334400654, 0.009137216955423355, 0.001536827883683145, 0.034259919077157974, 0.01274928916245699, 0.014092809520661831, 0.0012752213515341282, 0.001942279515787959, 0.01427090261131525, 0.0005556955002248287, 0.0014177660923451185, 0.0013961192453280091, 0.011281830258667469, 0.0018797582015395164, 0.0012235390022397041, 0.006445956416428089, 0.002859321655705571, 0.002953482558950782, 0.007595268543809652, 0.0015748902224004269, 0.0, 0.0], [0.0008838976500555873, 0.0010122886160388589, 0.0021141532342880964, 8.126597822410986e-05, 2.9065035050734878e-05, 0.00037934674764983356, 0.00024110758386086673, 3.4761716960929334e-05, 0.0001230772613780573, 0.00023245088232215494, 0.00010137556091649458, 4.0839917346602306e-05, 4.823071139981039e-05, 0.0006364992004819214, 0.0006222010706551373, 3.535880387062207e-05, 1.0071301403513644e-05, 0.001069806981831789, 5.439273081719875e-05, 2.569561002019327e-05, 6.404044688679278e-05, 0.000189015016076155, 1.4131649550108705e-05, 2.5363839085912332e-05, 9.715680789668113e-06, 9.591969865141436e-05, 0.00022216691286303103, 4.2281917558284476e-05, 0.0001608231832506135, 0.0011522878194227815, 0.044054459780454636, 5.981061258353293e-05, 0.00025193014880642295, 0.0004818462475668639, 0.049503426998853683, 4.0827220800565556e-05, 1.8777862351271324e-05, 0.0028827148489654064, 7.383955380646512e-05, 3.8116832001833245e-05, 0.0001778523001121357, 0.0001749173825373873, 0.00018380812252871692, 2.120776662195567e-05, 0.0001587371516507119, 0.00023269174562301487, 2.5462550183874555e-05, 4.993842958356254e-05, 3.329454193590209e-05, 0.00045971450163051486, 0.0001991368771996349, 4.138241274631582e-05, 0.00025644066045060754, 0.00044849535333923995, 0.0006067146314308047, 9.448754281038418e-05, 0.0004290250362828374, 0.2896738350391388, 0.00014242343604564667, 7.966838893480599e-05, 0.00046132784336805344, 0.5880360007286072, 0.0021705334074795246, 0.006949234753847122, 0.0014438682701438665, 0.00029237178387120366, 0.0], [0.0048737055622041225, 0.003589410800486803, 0.004345351364463568, 0.01712469384074211, 0.029111212119460106, 0.004957566969096661, 0.007782390806823969, 0.03159739077091217, 0.005213253200054169, 0.007443186827003956, 0.01097225584089756, 0.015585777349770069, 0.015994498506188393, 0.007954194210469723, 0.009675489738583565, 0.023265201598405838, 0.005933696869760752, 0.0033748839050531387, 0.010608376935124397, 0.028873274102807045, 0.012097827158868313, 0.005942740477621555, 0.00904966052621603, 0.01536252535879612, 0.014111007563769817, 0.008237126283347607, 0.030025780200958252, 0.0246876273304224, 0.011283395811915398, 0.004589347168803215, 0.0073194620199501514, 0.022894758731126785, 0.017244894057512283, 0.004926037974655628, 0.003284950042143464, 0.010395042598247528, 0.008285848423838615, 0.008541125804185867, 0.015696754679083824, 0.02496451698243618, 0.006579218897968531, 0.07150836288928986, 0.018850130960345268, 0.017903318628668785, 0.009345659986138344, 0.018527166917920113, 0.006497625261545181, 0.016306588426232338, 0.008670349605381489, 0.020716646686196327, 0.019739095121622086, 0.030019264668226242, 0.0055397809483110905, 0.015650928020477295, 0.019375883042812347, 0.020511113107204437, 0.0162959024310112, 0.006407210137695074, 0.03485333174467087, 0.037035614252090454, 0.009388881735503674, 0.007830110378563404, 0.006932887248694897, 0.014698994345963001, 0.03228728845715523, 0.011857439763844013, 0.009454871527850628]], [[1.0, 0.0, 0.0, 0.0, 0.0, 0.0, 0.0, 0.0, 0.0, 0.0, 0.0, 0.0, 0.0, 0.0, 0.0, 0.0, 0.0, 0.0, 0.0, 0.0, 0.0, 0.0, 0.0, 0.0, 0.0, 0.0, 0.0, 0.0, 0.0, 0.0, 0.0, 0.0, 0.0, 0.0, 0.0, 0.0, 0.0, 0.0, 0.0, 0.0, 0.0, 0.0, 0.0, 0.0, 0.0, 0.0, 0.0, 0.0, 0.0, 0.0, 0.0, 0.0, 0.0, 0.0, 0.0, 0.0, 0.0, 0.0, 0.0, 0.0, 0.0, 0.0, 0.0, 0.0, 0.0, 0.0, 0.0], [0.9563103318214417, 0.04368964210152626, 0.0, 0.0, 0.0, 0.0, 0.0, 0.0, 0.0, 0.0, 0.0, 0.0, 0.0, 0.0, 0.0, 0.0, 0.0, 0.0, 0.0, 0.0, 0.0, 0.0, 0.0, 0.0, 0.0, 0.0, 0.0, 0.0, 0.0, 0.0, 0.0, 0.0, 0.0, 0.0, 0.0, 0.0, 0.0, 0.0, 0.0, 0.0, 0.0, 0.0, 0.0, 0.0, 0.0, 0.0, 0.0, 0.0, 0.0, 0.0, 0.0, 0.0, 0.0, 0.0, 0.0, 0.0, 0.0, 0.0, 0.0, 0.0, 0.0, 0.0, 0.0, 0.0, 0.0, 0.0, 0.0], [0.9828353524208069, 0.008748568594455719, 0.008416085503995419, 0.0, 0.0, 0.0, 0.0, 0.0, 0.0, 0.0, 0.0, 0.0, 0.0, 0.0, 0.0, 0.0, 0.0, 0.0, 0.0, 0.0, 0.0, 0.0, 0.0, 0.0, 0.0, 0.0, 0.0, 0.0, 0.0, 0.0, 0.0, 0.0, 0.0, 0.0, 0.0, 0.0, 0.0, 0.0, 0.0, 0.0, 0.0, 0.0, 0.0, 0.0, 0.0, 0.0, 0.0, 0.0, 0.0, 0.0, 0.0, 0.0, 0.0, 0.0, 0.0, 0.0, 0.0, 0.0, 0.0, 0.0, 0.0, 0.0, 0.0, 0.0, 0.0, 0.0, 0.0], [0.05391945689916611, 0.12978629767894745, 0.10792934149503708, 0.7083648443222046, 0.0, 0.0, 0.0, 0.0, 0.0, 0.0, 0.0, 0.0, 0.0, 0.0, 0.0, 0.0, 0.0, 0.0, 0.0, 0.0, 0.0, 0.0, 0.0, 0.0, 0.0, 0.0, 0.0, 0.0, 0.0, 0.0, 0.0, 0.0, 0.0, 0.0, 0.0, 0.0, 0.0, 0.0, 0.0, 0.0, 0.0, 0.0, 0.0, 0.0, 0.0, 0.0, 0.0, 0.0, 0.0, 0.0, 0.0, 0.0, 0.0, 0.0, 0.0, 0.0, 0.0, 0.0, 0.0, 0.0, 0.0, 0.0, 0.0, 0.0, 0.0, 0.0, 0.0], [0.2757088541984558, 0.12620195746421814, 0.10075820982456207, 0.44516247510910034, 0.05216849967837334, 0.0, 0.0, 0.0, 0.0, 0.0, 0.0, 0.0, 0.0, 0.0, 0.0, 0.0, 0.0, 0.0, 0.0, 0.0, 0.0, 0.0, 0.0, 0.0, 0.0, 0.0, 0.0, 0.0, 0.0, 0.0, 0.0, 0.0, 0.0, 0.0, 0.0, 0.0, 0.0, 0.0, 0.0, 0.0, 0.0, 0.0, 0.0, 0.0, 0.0, 0.0, 0.0, 0.0, 0.0, 0.0, 0.0, 0.0, 0.0, 0.0, 0.0, 0.0, 0.0, 0.0, 0.0, 0.0, 0.0, 0.0, 0.0, 0.0, 0.0, 0.0, 0.0], [0.9910777807235718, 0.00029570114566013217, 0.00043831608491018414, 0.0035436879843473434, 0.00041398764005862176, 0.0042305258102715015, 0.0, 0.0, 0.0, 0.0, 0.0, 0.0, 0.0, 0.0, 0.0, 0.0, 0.0, 0.0, 0.0, 0.0, 0.0, 0.0, 0.0, 0.0, 0.0, 0.0, 0.0, 0.0, 0.0, 0.0, 0.0, 0.0, 0.0, 0.0, 0.0, 0.0, 0.0, 0.0, 0.0, 0.0, 0.0, 0.0, 0.0, 0.0, 0.0, 0.0, 0.0, 0.0, 0.0, 0.0, 0.0, 0.0, 0.0, 0.0, 0.0, 0.0, 0.0, 0.0, 0.0, 0.0, 0.0, 0.0, 0.0, 0.0, 0.0, 0.0, 0.0], [0.07301799952983856, 0.11720319837331772, 0.07935841381549835, 0.19271650910377502, 0.00556559395045042, 0.5087966322898865, 0.023341679945588112, 0.0, 0.0, 0.0, 0.0, 0.0, 0.0, 0.0, 0.0, 0.0, 0.0, 0.0, 0.0, 0.0, 0.0, 0.0, 0.0, 0.0, 0.0, 0.0, 0.0, 0.0, 0.0, 0.0, 0.0, 0.0, 0.0, 0.0, 0.0, 0.0, 0.0, 0.0, 0.0, 0.0, 0.0, 0.0, 0.0, 0.0, 0.0, 0.0, 0.0, 0.0, 0.0, 0.0, 0.0, 0.0, 0.0, 0.0, 0.0, 0.0, 0.0, 0.0, 0.0, 0.0, 0.0, 0.0, 0.0, 0.0, 0.0, 0.0, 0.0], [0.0032662241719663143, 0.09997538477182388, 0.10105761885643005, 0.21298223733901978, 0.10286034643650055, 0.21235571801662445, 0.06935279071331024, 0.1981496661901474, 0.0, 0.0, 0.0, 0.0, 0.0, 0.0, 0.0, 0.0, 0.0, 0.0, 0.0, 0.0, 0.0, 0.0, 0.0, 0.0, 0.0, 0.0, 0.0, 0.0, 0.0, 0.0, 0.0, 0.0, 0.0, 0.0, 0.0, 0.0, 0.0, 0.0, 0.0, 0.0, 0.0, 0.0, 0.0, 0.0, 0.0, 0.0, 0.0, 0.0, 0.0, 0.0, 0.0, 0.0, 0.0, 0.0, 0.0, 0.0, 0.0, 0.0, 0.0, 0.0, 0.0, 0.0, 0.0, 0.0, 0.0, 0.0, 0.0], [0.020277973264455795, 0.018731998279690742, 0.015535048209130764, 0.14142997562885284, 0.008205553516745567, 0.30857059359550476, 0.055020496249198914, 0.10131068527698517, 0.3309176564216614, 0.0, 0.0, 0.0, 0.0, 0.0, 0.0, 0.0, 0.0, 0.0, 0.0, 0.0, 0.0, 0.0, 0.0, 0.0, 0.0, 0.0, 0.0, 0.0, 0.0, 0.0, 0.0, 0.0, 0.0, 0.0, 0.0, 0.0, 0.0, 0.0, 0.0, 0.0, 0.0, 0.0, 0.0, 0.0, 0.0, 0.0, 0.0, 0.0, 0.0, 0.0, 0.0, 0.0, 0.0, 0.0, 0.0, 0.0, 0.0, 0.0, 0.0, 0.0, 0.0, 0.0, 0.0, 0.0, 0.0, 0.0, 0.0], [0.6614802479743958, 0.005763552151620388, 0.0031490186229348183, 0.06902385503053665, 0.05599046126008034, 0.03924739733338356, 0.022185271605849266, 0.02094654180109501, 0.03364168480038643, 0.08857201039791107, 0.0, 0.0, 0.0, 0.0, 0.0, 0.0, 0.0, 0.0, 0.0, 0.0, 0.0, 0.0, 0.0, 0.0, 0.0, 0.0, 0.0, 0.0, 0.0, 0.0, 0.0, 0.0, 0.0, 0.0, 0.0, 0.0, 0.0, 0.0, 0.0, 0.0, 0.0, 0.0, 0.0, 0.0, 0.0, 0.0, 0.0, 0.0, 0.0, 0.0, 0.0, 0.0, 0.0, 0.0, 0.0, 0.0, 0.0, 0.0, 0.0, 0.0, 0.0, 0.0, 0.0, 0.0, 0.0, 0.0, 0.0], [0.035090990364551544, 0.0303963590413332, 0.026635950431227684, 0.015149379149079323, 0.0022299475967884064, 0.020153094083070755, 0.0687703788280487, 0.02998330444097519, 0.0450199730694294, 0.5813619494438171, 0.14520862698554993, 0.0, 0.0, 0.0, 0.0, 0.0, 0.0, 0.0, 0.0, 0.0, 0.0, 0.0, 0.0, 0.0, 0.0, 0.0, 0.0, 0.0, 0.0, 0.0, 0.0, 0.0, 0.0, 0.0, 0.0, 0.0, 0.0, 0.0, 0.0, 0.0, 0.0, 0.0, 0.0, 0.0, 0.0, 0.0, 0.0, 0.0, 0.0, 0.0, 0.0, 0.0, 0.0, 0.0, 0.0, 0.0, 0.0, 0.0, 0.0, 0.0, 0.0, 0.0, 0.0, 0.0, 0.0, 0.0, 0.0], [0.0004547533462755382, 0.00724828103557229, 0.004939698614180088, 0.04146130383014679, 0.0006060912273824215, 0.0489143431186676, 0.001282119075767696, 0.013450986705720425, 0.1469559669494629, 0.652236819267273, 0.03490457311272621, 0.04754503443837166, 0.0, 0.0, 0.0, 0.0, 0.0, 0.0, 0.0, 0.0, 0.0, 0.0, 0.0, 0.0, 0.0, 0.0, 0.0, 0.0, 0.0, 0.0, 0.0, 0.0, 0.0, 0.0, 0.0, 0.0, 0.0, 0.0, 0.0, 0.0, 0.0, 0.0, 0.0, 0.0, 0.0, 0.0, 0.0, 0.0, 0.0, 0.0, 0.0, 0.0, 0.0, 0.0, 0.0, 0.0, 0.0, 0.0, 0.0, 0.0, 0.0, 0.0, 0.0, 0.0, 0.0, 0.0, 0.0], [0.016739843413233757, 0.02360764890909195, 0.02470959536731243, 0.042461805045604706, 0.009590281173586845, 0.04514773190021515, 0.04117250069975853, 0.04829327389597893, 0.16517941653728485, 0.49755045771598816, 0.028281426057219505, 0.04171432927250862, 0.015551706776022911, 0.0, 0.0, 0.0, 0.0, 0.0, 0.0, 0.0, 0.0, 0.0, 0.0, 0.0, 0.0, 0.0, 0.0, 0.0, 0.0, 0.0, 0.0, 0.0, 0.0, 0.0, 0.0, 0.0, 0.0, 0.0, 0.0, 0.0, 0.0, 0.0, 0.0, 0.0, 0.0, 0.0, 0.0, 0.0, 0.0, 0.0, 0.0, 0.0, 0.0, 0.0, 0.0, 0.0, 0.0, 0.0, 0.0, 0.0, 0.0, 0.0, 0.0, 0.0, 0.0, 0.0, 0.0], [0.7705124020576477, 0.0019854309502989054, 0.0010994825279340148, 0.011246022768318653, 0.06888119131326675, 0.0024895675014704466, 0.04196109622716904, 0.010633760131895542, 0.015612450428307056, 0.050836894661188126, 0.0016813637921586633, 0.012834575958549976, 0.002402268350124359, 0.007823439314961433, 0.0, 0.0, 0.0, 0.0, 0.0, 0.0, 0.0, 0.0, 0.0, 0.0, 0.0, 0.0, 0.0, 0.0, 0.0, 0.0, 0.0, 0.0, 0.0, 0.0, 0.0, 0.0, 0.0, 0.0, 0.0, 0.0, 0.0, 0.0, 0.0, 0.0, 0.0, 0.0, 0.0, 0.0, 0.0, 0.0, 0.0, 0.0, 0.0, 0.0, 0.0, 0.0, 0.0, 0.0, 0.0, 0.0, 0.0, 0.0, 0.0, 0.0, 0.0, 0.0, 0.0], [0.0032274622935801744, 0.008211929351091385, 0.011605928651988506, 0.0035610918421298265, 0.001995418919250369, 0.004410658497363329, 0.00706436624750495, 0.0014292808482423425, 0.00625244714319706, 0.007395343855023384, 0.0015561389736831188, 0.0023774041328579187, 0.9334560036659241, 0.0024437427055090666, 0.005012805107980967, 0.0, 0.0, 0.0, 0.0, 0.0, 0.0, 0.0, 0.0, 0.0, 0.0, 0.0, 0.0, 0.0, 0.0, 0.0, 0.0, 0.0, 0.0, 0.0, 0.0, 0.0, 0.0, 0.0, 0.0, 0.0, 0.0, 0.0, 0.0, 0.0, 0.0, 0.0, 0.0, 0.0, 0.0, 0.0, 0.0, 0.0, 0.0, 0.0, 0.0, 0.0, 0.0, 0.0, 0.0, 0.0, 0.0, 0.0, 0.0, 0.0, 0.0, 0.0, 0.0], [0.002765426179394126, 0.006813073065131903, 0.006640574429184198, 0.02230309322476387, 0.0017077084630727768, 0.07490567862987518, 0.005289152264595032, 0.0197403933852911, 0.08804012089967728, 0.3021029829978943, 0.017727764323353767, 0.030121782794594765, 0.012039123103022575, 0.3541874587535858, 0.018107350915670395, 0.037508293986320496, 0.0, 0.0, 0.0, 0.0, 0.0, 0.0, 0.0, 0.0, 0.0, 0.0, 0.0, 0.0, 0.0, 0.0, 0.0, 0.0, 0.0, 0.0, 0.0, 0.0, 0.0, 0.0, 0.0, 0.0, 0.0, 0.0, 0.0, 0.0, 0.0, 0.0, 0.0, 0.0, 0.0, 0.0, 0.0, 0.0, 0.0, 0.0, 0.0, 0.0, 0.0, 0.0, 0.0, 0.0, 0.0, 0.0, 0.0, 0.0, 0.0, 0.0, 0.0], [0.3391028940677643, 0.04137539491057396, 0.03320203721523285, 0.01637112908065319, 0.02852076105773449, 0.05625637248158455, 0.07774370163679123, 0.028834307566285133, 0.03636126592755318, 0.06287199258804321, 0.019016604870557785, 0.02117801457643509, 0.0267077274620533, 0.1623246818780899, 0.012361476197838783, 0.025148939341306686, 0.01262274943292141, 0.0, 0.0, 0.0, 0.0, 0.0, 0.0, 0.0, 0.0, 0.0, 0.0, 0.0, 0.0, 0.0, 0.0, 0.0, 0.0, 0.0, 0.0, 0.0, 0.0, 0.0, 0.0, 0.0, 0.0, 0.0, 0.0, 0.0, 0.0, 0.0, 0.0, 0.0, 0.0, 0.0, 0.0, 0.0, 0.0, 0.0, 0.0, 0.0, 0.0, 0.0, 0.0, 0.0, 0.0, 0.0, 0.0, 0.0, 0.0, 0.0, 0.0], [0.26958680152893066, 0.013447991572320461, 0.011545378714799881, 0.0424141101539135, 0.003969625104218721, 0.0043990095146000385, 0.2533629834651947, 0.017750704661011696, 0.036312833428382874, 0.0522325299680233, 0.0018722225213423371, 0.01911899447441101, 0.1477680802345276, 0.08128282427787781, 0.006179557181894779, 0.012430509552359581, 8.12625657999888e-05, 0.02624455839395523, 0.0, 0.0, 0.0, 0.0, 0.0, 0.0, 0.0, 0.0, 0.0, 0.0, 0.0, 0.0, 0.0, 0.0, 0.0, 0.0, 0.0, 0.0, 0.0, 0.0, 0.0, 0.0, 0.0, 0.0, 0.0, 0.0, 0.0, 0.0, 0.0, 0.0, 0.0, 0.0, 0.0, 0.0, 0.0, 0.0, 0.0, 0.0, 0.0, 0.0, 0.0, 0.0, 0.0, 0.0, 0.0, 0.0, 0.0, 0.0, 0.0], [0.058505650609731674, 0.029166387394070625, 0.05127408355474472, 0.11096709221601486, 0.014300283044576645, 0.008858141489326954, 0.08933322131633759, 0.10567554831504822, 0.13945578038692474, 0.024945983663201332, 0.03713975101709366, 0.05136781185865402, 0.07557734102010727, 0.03352024406194687, 0.045876484364271164, 0.057770971208810806, 0.00939731765538454, 0.048986345529556274, 0.007881524972617626, 0.0, 0.0, 0.0, 0.0, 0.0, 0.0, 0.0, 0.0, 0.0, 0.0, 0.0, 0.0, 0.0, 0.0, 0.0, 0.0, 0.0, 0.0, 0.0, 0.0, 0.0, 0.0, 0.0, 0.0, 0.0, 0.0, 0.0, 0.0, 0.0, 0.0, 0.0, 0.0, 0.0, 0.0, 0.0, 0.0, 0.0, 0.0, 0.0, 0.0, 0.0, 0.0, 0.0, 0.0, 0.0, 0.0, 0.0, 0.0], [0.0010406894143670797, 0.0029795176815241575, 0.0019562107045203447, 0.011270829476416111, 0.003534928895533085, 0.044026587158441544, 0.002203144831582904, 0.006064658053219318, 0.04322732612490654, 0.18274131417274475, 0.006839792709797621, 0.021474428474903107, 0.001699223998002708, 0.30794909596443176, 0.0031512503046542406, 0.010168451815843582, 0.02225879579782486, 0.30110612511634827, 0.015577655285596848, 0.010730010457336903, 0.0, 0.0, 0.0, 0.0, 0.0, 0.0, 0.0, 0.0, 0.0, 0.0, 0.0, 0.0, 0.0, 0.0, 0.0, 0.0, 0.0, 0.0, 0.0, 0.0, 0.0, 0.0, 0.0, 0.0, 0.0, 0.0, 0.0, 0.0, 0.0, 0.0, 0.0, 0.0, 0.0, 0.0, 0.0, 0.0, 0.0, 0.0, 0.0, 0.0, 0.0, 0.0, 0.0, 0.0, 0.0, 0.0, 0.0], [0.07226960361003876, 0.004103603772819042, 0.0019957737531512976, 0.00565693574026227, 0.007935191504657269, 0.1142004057765007, 0.015433068387210369, 0.005925074685364962, 0.01910705491900444, 0.19539839029312134, 0.004939311649650335, 0.009654001332819462, 0.0010544767137616873, 0.21160930395126343, 0.002534706611186266, 0.006201021373271942, 0.00383518123999238, 0.2912750840187073, 0.012782645411789417, 0.009687674231827259, 0.004401554353535175, 0.0, 0.0, 0.0, 0.0, 0.0, 0.0, 0.0, 0.0, 0.0, 0.0, 0.0, 0.0, 0.0, 0.0, 0.0, 0.0, 0.0, 0.0, 0.0, 0.0, 0.0, 0.0, 0.0, 0.0, 0.0, 0.0, 0.0, 0.0, 0.0, 0.0, 0.0, 0.0, 0.0, 0.0, 0.0, 0.0, 0.0, 0.0, 0.0, 0.0, 0.0, 0.0, 0.0, 0.0, 0.0, 0.0], [0.866418719291687, 0.0020155676174908876, 0.0017963401041924953, 0.0011775372549891472, 0.0021254494786262512, 0.003858325770124793, 0.09153971821069717, 0.00153006159234792, 0.001588614541105926, 0.0014401932712644339, 0.000948340049944818, 0.0009332189220003784, 0.007097738329321146, 0.0010141842067241669, 0.0023437628988176584, 0.0010261322604492307, 0.0026455936022102833, 0.004525809083133936, 0.0008926651789806783, 0.0025416365824639797, 0.0007931918371468782, 0.001747114467434585, 0.0, 0.0, 0.0, 0.0, 0.0, 0.0, 0.0, 0.0, 0.0, 0.0, 0.0, 0.0, 0.0, 0.0, 0.0, 0.0, 0.0, 0.0, 0.0, 0.0, 0.0, 0.0, 0.0, 0.0, 0.0, 0.0, 0.0, 0.0, 0.0, 0.0, 0.0, 0.0, 0.0, 0.0, 0.0, 0.0, 0.0, 0.0, 0.0, 0.0, 0.0, 0.0, 0.0, 0.0, 0.0], [0.000997876632027328, 0.008009214885532856, 0.00874817930161953, 0.06602594256401062, 0.0026219200808554888, 0.007338654715567827, 0.03993574529886246, 0.028795020654797554, 0.025389835238456726, 0.03185321018099785, 0.02983931265771389, 0.039213553071022034, 0.08171433955430984, 0.00798556488007307, 0.0066065192222595215, 0.014878219924867153, 0.0013439325848594308, 0.0033731134608387947, 0.015809718519449234, 0.009037348441779613, 0.4508213996887207, 0.03602977842092514, 0.08363164216279984, 0.0, 0.0, 0.0, 0.0, 0.0, 0.0, 0.0, 0.0, 0.0, 0.0, 0.0, 0.0, 0.0, 0.0, 0.0, 0.0, 0.0, 0.0, 0.0, 0.0, 0.0, 0.0, 0.0, 0.0, 0.0, 0.0, 0.0, 0.0, 0.0, 0.0, 0.0, 0.0, 0.0, 0.0, 0.0, 0.0, 0.0, 0.0, 0.0, 0.0, 0.0, 0.0, 0.0, 0.0], [0.0005915221991017461, 0.0009675208711996675, 0.0008826988050714135, 0.004755073226988316, 0.0005107058677822351, 0.014298312366008759, 0.0004724383179564029, 0.002112576737999916, 0.026811350136995316, 0.39624571800231934, 0.0015680663054808974, 0.004779856652021408, 0.0004802244948223233, 0.25587499141693115, 0.0013817643048241735, 0.007261831313371658, 0.0003107133670710027, 0.15933315455913544, 0.0014636664418503642, 0.0037755619268864393, 0.004489321727305651, 0.09937173873186111, 0.0047115241177380085, 0.007549789734184742, 0.0, 0.0, 0.0, 0.0, 0.0, 0.0, 0.0, 0.0, 0.0, 0.0, 0.0, 0.0, 0.0, 0.0, 0.0, 0.0, 0.0, 0.0, 0.0, 0.0, 0.0, 0.0, 0.0, 0.0, 0.0, 0.0, 0.0, 0.0, 0.0, 0.0, 0.0, 0.0, 0.0, 0.0, 0.0, 0.0, 0.0, 0.0, 0.0, 0.0, 0.0, 0.0, 0.0], [0.0009811321506276727, 0.004362924490123987, 0.0019666648004204035, 0.002181514399126172, 0.004974779672920704, 0.00781729631125927, 0.006237579509615898, 0.0020360825583338737, 0.028985731303691864, 0.37016913294792175, 0.0021823029965162277, 0.001815352588891983, 0.0016466125380247831, 0.34836524724960327, 0.002747555961832404, 0.0035209939815104008, 0.0011165583273395896, 0.05616265907883644, 0.007787072565406561, 0.005249806679785252, 0.005258931312710047, 0.11038247495889664, 0.0017918432131409645, 0.0040131788700819016, 0.018246566876769066, 0.0, 0.0, 0.0, 0.0, 0.0, 0.0, 0.0, 0.0, 0.0, 0.0, 0.0, 0.0, 0.0, 0.0, 0.0, 0.0, 0.0, 0.0, 0.0, 0.0, 0.0, 0.0, 0.0, 0.0, 0.0, 0.0, 0.0, 0.0, 0.0, 0.0, 0.0, 0.0, 0.0, 0.0, 0.0, 0.0, 0.0, 0.0, 0.0, 0.0, 0.0, 0.0], [0.02215900458395481, 0.00042790776933543384, 0.00048582174349576235, 0.02650437317788601, 0.01887516677379608, 0.004411717876791954, 0.7024222612380981, 0.014091788791120052, 0.007994937710464, 0.006672822870314121, 0.004222605377435684, 0.01691962406039238, 0.021234316751360893, 0.0015552033437415957, 0.001277350471355021, 0.013788223266601562, 0.010365793481469154, 0.004251040983945131, 0.005869259592145681, 0.012428943067789078, 0.04621120169758797, 0.02520385943353176, 0.0017017400823533535, 0.011203157715499401, 0.00017186343029607087, 0.019549991935491562, 0.0, 0.0, 0.0, 0.0, 0.0, 0.0, 0.0, 0.0, 0.0, 0.0, 0.0, 0.0, 0.0, 0.0, 0.0, 0.0, 0.0, 0.0, 0.0, 0.0, 0.0, 0.0, 0.0, 0.0, 0.0, 0.0, 0.0, 0.0, 0.0, 0.0, 0.0, 0.0, 0.0, 0.0, 0.0, 0.0, 0.0, 0.0, 0.0, 0.0, 0.0], [0.00552705954760313, 0.0021050318609923124, 0.0017959383549168706, 0.012139049358665943, 0.0037458741571754217, 0.008921215310692787, 0.02120410092175007, 0.014593437314033508, 0.03690246120095253, 0.04295423999428749, 0.005046829581260681, 0.014948738738894463, 0.007998157292604446, 0.12631937861442566, 0.00159977818839252, 0.009118843823671341, 0.000992886838503182, 0.14807823300361633, 0.003300660289824009, 0.007597246672958136, 0.0031204293482005596, 0.11455606669187546, 0.002372117480263114, 0.0053720329888165, 0.0033996696583926678, 0.37581226229667664, 0.02047830820083618, 0.0, 0.0, 0.0, 0.0, 0.0, 0.0, 0.0, 0.0, 0.0, 0.0, 0.0, 0.0, 0.0, 0.0, 0.0, 0.0, 0.0, 0.0, 0.0, 0.0, 0.0, 0.0, 0.0, 0.0, 0.0, 0.0, 0.0, 0.0, 0.0, 0.0, 0.0, 0.0, 0.0, 0.0, 0.0, 0.0, 0.0, 0.0, 0.0, 0.0], [0.0010775449918583035, 0.0006649136776104569, 0.0005896617658436298, 0.004605507478117943, 0.0004989689914509654, 0.0030702357180416584, 0.0010932546574622393, 0.002196338027715683, 0.03370331600308418, 0.12238629907369614, 0.0008734297007322311, 0.0052343071438372135, 0.0007144034607335925, 0.3591121435165405, 0.0010027064708992839, 0.0040476457215845585, 0.0005246959044598043, 0.1803915649652481, 0.005622911732643843, 0.007634717971086502, 0.00051877397345379, 0.09298304468393326, 0.0011144159361720085, 0.005855890456587076, 0.011003013700246811, 0.14298784732818604, 0.007681515067815781, 0.0028109331615269184, 0.0, 0.0, 0.0, 0.0, 0.0, 0.0, 0.0, 0.0, 0.0, 0.0, 0.0, 0.0, 0.0, 0.0, 0.0, 0.0, 0.0, 0.0, 0.0, 0.0, 0.0, 0.0, 0.0, 0.0, 0.0, 0.0, 0.0, 0.0, 0.0, 0.0, 0.0, 0.0, 0.0, 0.0, 0.0, 0.0, 0.0, 0.0, 0.0], [0.0036819009110331535, 0.004786518402397633, 0.0027230260893702507, 0.003282232442870736, 0.0015274675097316504, 0.015415867790579796, 0.003295616013929248, 0.0024420854169875383, 0.037760570645332336, 0.07005757093429565, 0.003832158399745822, 0.004788718186318874, 0.016249848529696465, 0.2496357560157776, 0.003706802846863866, 0.0017898553051054478, 0.011030863039195538, 0.1290430724620819, 0.011557304300367832, 0.005766863934695721, 0.007297642063349485, 0.1272227019071579, 0.0069666169583797455, 0.002953554270789027, 0.0032463097013533115, 0.22115786373615265, 0.0063913846388459206, 0.002222621813416481, 0.04016728699207306, 0.0, 0.0, 0.0, 0.0, 0.0, 0.0, 0.0, 0.0, 0.0, 0.0, 0.0, 0.0, 0.0, 0.0, 0.0, 0.0, 0.0, 0.0, 0.0, 0.0, 0.0, 0.0, 0.0, 0.0, 0.0, 0.0, 0.0, 0.0, 0.0, 0.0, 0.0, 0.0, 0.0, 0.0, 0.0, 0.0, 0.0, 0.0], [0.0004081728111486882, 0.0047536916099488735, 0.0066429921425879, 0.0012855988461524248, 0.0021702644880861044, 0.0006729047745466232, 0.0015903894091024995, 0.0022482352796941996, 0.002514232648536563, 0.002636401215568185, 0.0037635667249560356, 0.0012381973210722208, 0.0001758683065418154, 0.004613065626472235, 0.0014158908743411303, 0.004734040703624487, 0.0005617771530523896, 0.0011320981429889798, 0.0001506345724919811, 0.001279881689697504, 0.0001437450118828565, 0.0008499177638441324, 0.002315627643838525, 0.0022692179773002863, 0.9430500268936157, 0.0021366840228438377, 0.0009887292981147766, 0.000644048152025789, 0.001554114860482514, 0.002060135593637824, 0.0, 0.0, 0.0, 0.0, 0.0, 0.0, 0.0, 0.0, 0.0, 0.0, 0.0, 0.0, 0.0, 0.0, 0.0, 0.0, 0.0, 0.0, 0.0, 0.0, 0.0, 0.0, 0.0, 0.0, 0.0, 0.0, 0.0, 0.0, 0.0, 0.0, 0.0, 0.0, 0.0, 0.0, 0.0, 0.0, 0.0], [9.646008720665122e-07, 0.0013930137502029538, 0.001009864965453744, 0.0010774255497381091, 0.00037187739508226514, 0.0003525348147377372, 1.9927754692616872e-05, 0.0007763436296954751, 0.002929900074377656, 0.004361561965197325, 0.0013509723357856274, 0.0015739569207653403, 0.030448684468865395, 0.0045955297537148, 0.0016092099249362946, 0.0014235478593036532, 0.0011801058426499367, 0.012837487272918224, 0.0010101929074153304, 0.0013146018609404564, 0.0005515274242497981, 0.006023847963660955, 0.0012543946504592896, 0.00072820158675313, 0.00458952272310853, 0.0015598774189129472, 3.4616386983543634e-05, 0.00045835544005967677, 0.8857967853546143, 0.01150886993855238, 0.017856266349554062, 0.0, 0.0, 0.0, 0.0, 0.0, 0.0, 0.0, 0.0, 0.0, 0.0, 0.0, 0.0, 0.0, 0.0, 0.0, 0.0, 0.0, 0.0, 0.0, 0.0, 0.0, 0.0, 0.0, 0.0, 0.0, 0.0, 0.0, 0.0, 0.0, 0.0, 0.0, 0.0, 0.0, 0.0, 0.0, 0.0], [0.00014658622967544943, 0.000273072044365108, 0.00027152575785294175, 0.002064652740955353, 0.0004485519020818174, 0.003565947525203228, 0.00045247262460179627, 0.0009813535725697875, 0.01185204740613699, 0.033390309661626816, 0.0008407105342485011, 0.002047114772722125, 0.00032330036628991365, 0.1686793863773346, 0.0003930516541004181, 0.0016252959612756968, 0.00155331427231431, 0.42881983518600464, 0.002162846038118005, 0.0021638728212565184, 8.560196147300303e-05, 0.07057143747806549, 0.00039078775444068015, 0.005664925556629896, 0.000368940964108333, 0.16569198668003082, 0.01593663915991783, 0.000841448490973562, 0.0013541743392124772, 0.06735998392105103, 0.006396093871444464, 0.0032827232498675585, 0.0, 0.0, 0.0, 0.0, 0.0, 0.0, 0.0, 0.0, 0.0, 0.0, 0.0, 0.0, 0.0, 0.0, 0.0, 0.0, 0.0, 0.0, 0.0, 0.0, 0.0, 0.0, 0.0, 0.0, 0.0, 0.0, 0.0, 0.0, 0.0, 0.0, 0.0, 0.0, 0.0, 0.0, 0.0], [0.0032490126322954893, 0.002148616360500455, 0.001884570810943842, 0.0016488638939335942, 0.002259263303130865, 0.02422097697854042, 0.001574313617311418, 0.0014416608028113842, 0.017579082399606705, 0.0633755549788475, 0.0014606605982407928, 0.0020573732908815145, 0.005367201287299395, 0.06927953660488129, 0.002309633418917656, 0.002733853878453374, 0.009298169985413551, 0.2647860050201416, 0.0050207460299134254, 0.0022679080720990896, 0.0019849813543260098, 0.1778535693883896, 0.006591118406504393, 0.0050001488998532295, 0.0018407391617074609, 0.08340031653642654, 0.01746285893023014, 0.0015063694445416331, 0.0029075087513774633, 0.14645610749721527, 0.038489971309900284, 0.003257688833400607, 0.029285499826073647, 0.0, 0.0, 0.0, 0.0, 0.0, 0.0, 0.0, 0.0, 0.0, 0.0, 0.0, 0.0, 0.0, 0.0, 0.0, 0.0, 0.0, 0.0, 0.0, 0.0, 0.0, 0.0, 0.0, 0.0, 0.0, 0.0, 0.0, 0.0, 0.0, 0.0, 0.0, 0.0, 0.0, 0.0], [0.0032539761159569025, 0.00892715621739626, 0.0259675532579422, 0.003831384936347604, 0.0023835585452616215, 0.001750096445903182, 0.006546381860971451, 0.0034914782736450434, 0.0027562358882278204, 0.0016364619368687272, 0.0023172444198280573, 0.001992132281884551, 0.016965441405773163, 0.0011394101893529296, 0.0023496528156101704, 0.002485765377059579, 0.005569523200392723, 0.001330433413386345, 0.0004973048344254494, 0.0014284402132034302, 0.01592697575688362, 0.0006877216510474682, 0.009541066363453865, 0.0013786706840619445, 0.06710352748632431, 0.0009746323921717703, 0.00014318054309114814, 0.0010365241905674338, 0.7928944826126099, 0.0027259436901658773, 0.003954567480832338, 0.001771263894625008, 6.0502392443595454e-05, 0.005181315820664167, 0.0, 0.0, 0.0, 0.0, 0.0, 0.0, 0.0, 0.0, 0.0, 0.0, 0.0, 0.0, 0.0, 0.0, 0.0, 0.0, 0.0, 0.0, 0.0, 0.0, 0.0, 0.0, 0.0, 0.0, 0.0, 0.0, 0.0, 0.0, 0.0, 0.0, 0.0, 0.0, 0.0], [2.3879517812019913e-06, 0.0001332293322775513, 8.470889588352293e-05, 0.00025500249466858804, 0.00032168280449695885, 0.001644721138291061, 2.110114110109862e-05, 0.0010799365118145943, 0.0005159569554962218, 0.001371455378830433, 0.002445873571559787, 0.0012258670758455992, 0.0006812866777181625, 0.0016112251905724406, 0.0002906523586716503, 0.002886967733502388, 0.0001916450564749539, 0.004538125358521938, 0.0007984080002643168, 0.0015651993453502655, 0.0006534397834911942, 0.0033059674315154552, 0.000475258391816169, 0.002556564286351204, 0.0022442296613007784, 0.002533946419134736, 0.0026490348391234875, 0.0005734594305977225, 9.442190275876783e-06, 0.004416325595229864, 0.00672296853736043, 0.000432696717325598, 0.9460042715072632, 9.929007501341403e-05, 0.005657604429870844, 0.0, 0.0, 0.0, 0.0, 0.0, 0.0, 0.0, 0.0, 0.0, 0.0, 0.0, 0.0, 0.0, 0.0, 0.0, 0.0, 0.0, 0.0, 0.0, 0.0, 0.0, 0.0, 0.0, 0.0, 0.0, 0.0, 0.0, 0.0, 0.0, 0.0, 0.0, 0.0], [0.001089002937078476, 0.0001549527223687619, 0.00011929275206057355, 0.003971568774431944, 8.372124284505844e-05, 0.0038541057147085667, 0.0006164913647808135, 0.0016120780492201447, 0.012758417055010796, 0.09772464632987976, 0.0005012526526115835, 0.0025413481052964926, 0.00022861773322802037, 0.1233787089586258, 0.000810608733445406, 0.002496082801371813, 0.0004741236916743219, 0.24265630543231964, 0.002277812920510769, 0.0025790357030928135, 0.0007967498386278749, 0.16581465303897858, 0.00046079326421022415, 0.003989845979958773, 0.0002614888362586498, 0.19224098324775696, 0.024690380319952965, 0.0019126436673104763, 4.9962211051024497e-05, 0.06134183332324028, 0.0034729749895632267, 0.003625918412581086, 0.005071956664323807, 0.02877660281956196, 0.004522167611867189, 0.0030428923200815916, 0.0, 0.0, 0.0, 0.0, 0.0, 0.0, 0.0, 0.0, 0.0, 0.0, 0.0, 0.0, 0.0, 0.0, 0.0, 0.0, 0.0, 0.0, 0.0, 0.0, 0.0, 0.0, 0.0, 0.0, 0.0, 0.0, 0.0, 0.0, 0.0, 0.0, 0.0], [0.0038008445408195257, 0.0016639971872791648, 0.0007067398983053863, 0.0020520705729722977, 0.00034887323272414505, 0.0185015257447958, 0.0038768998347222805, 0.0016561414813622832, 0.022821232676506042, 0.2749118208885193, 0.0014809871790930629, 0.0027019900735467672, 0.0028953547589480877, 0.07448732107877731, 0.0019999505020678043, 0.003383056726306677, 0.0025003375485539436, 0.10984529554843903, 0.0016718494007363915, 0.004549270961433649, 0.002652158495038748, 0.1527421474456787, 0.0026361208874732256, 0.0036204014904797077, 0.0011093519860878587, 0.11009914427995682, 0.009432399645447731, 0.003318695118650794, 0.0023724567145109177, 0.11503846198320389, 0.005923930089920759, 0.002925671637058258, 0.0036802177783101797, 0.033706847578287125, 0.005067097954452038, 0.0025816820561885834, 0.007237699814140797, 0.0, 0.0, 0.0, 0.0, 0.0, 0.0, 0.0, 0.0, 0.0, 0.0, 0.0, 0.0, 0.0, 0.0, 0.0, 0.0, 0.0, 0.0, 0.0, 0.0, 0.0, 0.0, 0.0, 0.0, 0.0, 0.0, 0.0, 0.0, 0.0, 0.0], [0.006707210559397936, 0.0017228039214387536, 0.0032863609958440065, 0.010305716656148434, 0.0014848877908661962, 0.00767054408788681, 0.01154057215899229, 0.03200261667370796, 0.0034183617681264877, 0.009420155547559261, 0.020048663020133972, 0.012803499586880207, 0.0016410538228228688, 0.009747426025569439, 0.00217333622276783, 0.04459431394934654, 0.0016016834415495396, 0.028529440984129906, 0.001269039697945118, 0.016922296956181526, 0.0035815055016428232, 0.007181290537118912, 0.0023327781818807125, 0.0220604557543993, 0.1290869414806366, 0.00616396963596344, 0.005551177076995373, 0.010242960415780544, 0.0419025644659996, 0.013231064192950726, 0.016024917364120483, 0.007549617439508438, 0.4744749069213867, 0.008542393334209919, 0.005173254292458296, 0.008221647702157497, 0.0019114308524876833, 0.009877140633761883, 0.0, 0.0, 0.0, 0.0, 0.0, 0.0, 0.0, 0.0, 0.0, 0.0, 0.0, 0.0, 0.0, 0.0, 0.0, 0.0, 0.0, 0.0, 0.0, 0.0, 0.0, 0.0, 0.0, 0.0, 0.0, 0.0, 0.0, 0.0, 0.0], [0.033051036298274994, 0.002173349494114518, 0.0036902781575918198, 0.011043728329241276, 0.0028573712334036827, 0.010285825468599796, 0.05008191242814064, 0.011514407582581043, 0.02824387699365616, 0.008358382619917393, 0.003573601832613349, 0.008002451620995998, 0.005966771859675646, 0.015237245708703995, 0.0030096389818936586, 0.010411792434751987, 0.006625532638281584, 0.022326286882162094, 0.006123044993728399, 0.016016768291592598, 0.027208497747778893, 0.019666125997900963, 0.0021565156057476997, 0.009855441749095917, 0.0031996399629861116, 0.018111899495124817, 0.027277536690235138, 0.009404485113918781, 0.1420791894197464, 0.036148980259895325, 0.022796152159571648, 0.005292240995913744, 0.287974089384079, 0.01778002642095089, 0.026609884575009346, 0.004539745394140482, 0.015098953619599342, 0.06290773302316666, 0.003299623029306531, 0.0, 0.0, 0.0, 0.0, 0.0, 0.0, 0.0, 0.0, 0.0, 0.0, 0.0, 0.0, 0.0, 0.0, 0.0, 0.0, 0.0, 0.0, 0.0, 0.0, 0.0, 0.0, 0.0, 0.0, 0.0, 0.0, 0.0, 0.0], [0.00023605566821061075, 0.00022491092386189848, 0.00020539885736070573, 0.0035711645614355803, 0.000859945488628, 0.0013742295559495687, 0.001096815918572247, 0.0018241856014356017, 0.005776993930339813, 0.017081910744309425, 0.0002656606666278094, 0.0020117268431931734, 0.000275752623565495, 0.11298584192991257, 0.000356676202500239, 0.0017213037936016917, 0.000575253798160702, 0.08159861713647842, 0.0073326751589775085, 0.0017943094717338681, 0.00029208758496679366, 0.10073954612016678, 0.00019379604782443494, 0.0031013712286949158, 0.0003599831252358854, 0.29833078384399414, 0.03686109185218811, 0.0008426582789979875, 1.5522307876381092e-05, 0.04837282747030258, 0.001318266149610281, 0.005355437286198139, 0.00011352417641319335, 0.08475488424301147, 0.001273606438189745, 0.0018463582964614034, 0.010541408322751522, 0.16245263814926147, 0.000669763598125428, 0.0013949862914159894, 0.0, 0.0, 0.0, 0.0, 0.0, 0.0, 0.0, 0.0, 0.0, 0.0, 0.0, 0.0, 0.0, 0.0, 0.0, 0.0, 0.0, 0.0, 0.0, 0.0, 0.0, 0.0, 0.0, 0.0, 0.0, 0.0, 0.0], [0.05763386934995651, 0.0034137594047933817, 0.0019166127312928438, 0.006718815770000219, 0.0033809919841587543, 0.009950256906449795, 0.04161154106259346, 0.005385589320212603, 0.014496536925435066, 0.09692653268575668, 0.0021931410301476717, 0.005557850003242493, 0.00759423803538084, 0.08680218458175659, 0.002049175091087818, 0.006299252156168222, 0.002731714630499482, 0.03625018894672394, 0.015155734494328499, 0.022228077054023743, 0.002979479730129242, 0.07811746746301651, 0.0014278811868280172, 0.012575517408549786, 0.003207986243069172, 0.08103154599666595, 0.03771140053868294, 0.01998378150165081, 0.00450925063341856, 0.0552821047604084, 0.0075927129946649075, 0.021627254784107208, 0.002230030717328191, 0.06675568222999573, 0.00748767564073205, 0.014117482118308544, 0.023709367960691452, 0.10539204627275467, 0.007148782256990671, 0.015834221616387367, 0.002982380799949169, 0.0, 0.0, 0.0, 0.0, 0.0, 0.0, 0.0, 0.0, 0.0, 0.0, 0.0, 0.0, 0.0, 0.0, 0.0, 0.0, 0.0, 0.0, 0.0, 0.0, 0.0, 0.0, 0.0, 0.0, 0.0, 0.0], [0.0023692564573138952, 0.028425637632608414, 0.008040445856750011, 0.01837165653705597, 0.02697189524769783, 0.011964618228375912, 0.03004937246441841, 0.00607399782165885, 0.033054135739803314, 0.08911547064781189, 0.0023373852018266916, 0.01398410089313984, 0.0020202528685331345, 0.0387154296040535, 0.018504658713936806, 0.006516053806990385, 0.005022518802434206, 0.0213768407702446, 0.01957957074046135, 0.010334817692637444, 0.025372767820954323, 0.10178504884243011, 0.0055710021406412125, 0.006010223645716906, 0.0061456370167434216, 0.070449098944664, 0.10458070039749146, 0.004650365095585585, 0.07352325320243835, 0.017084063962101936, 0.010824941098690033, 0.00900112185627222, 0.031941745430231094, 0.015177512541413307, 0.02115173451602459, 0.006884910631924868, 0.014403259381651878, 0.028591489419341087, 0.010035675950348377, 0.007482457440346479, 0.006676098797470331, 0.029828716069459915, 0.0, 0.0, 0.0, 0.0, 0.0, 0.0, 0.0, 0.0, 0.0, 0.0, 0.0, 0.0, 0.0, 0.0, 0.0, 0.0, 0.0, 0.0, 0.0, 0.0, 0.0, 0.0, 0.0, 0.0, 0.0], [0.005904214456677437, 0.000995796057395637, 0.001763742184266448, 0.010389940813183784, 0.0007371341926045716, 0.005533356219530106, 0.0062341527082026005, 0.008499395102262497, 0.05863909050822258, 0.1049007773399353, 0.0015015803510323167, 0.0054250420071184635, 0.0032580143306404352, 0.10727594792842865, 0.0025600881781429052, 0.0046719699166715145, 0.0010011194972321391, 0.08730657398700714, 0.013965748250484467, 0.006782140117138624, 0.004356104414910078, 0.03488811478018761, 0.001511483802460134, 0.004127926658838987, 0.015811670571565628, 0.029226941987872124, 0.031387895345687866, 0.003343423129990697, 0.0031959915068000555, 0.08636847138404846, 0.04216094687581062, 0.0033142988104373217, 0.01263060886412859, 0.05373299866914749, 0.015728460624814034, 0.003047823440283537, 0.0218695979565382, 0.13847284018993378, 0.0038328934460878372, 0.0025830932427197695, 0.0009390942868776619, 0.048050493001937866, 0.0020729980897158384, 0.0, 0.0, 0.0, 0.0, 0.0, 0.0, 0.0, 0.0, 0.0, 0.0, 0.0, 0.0, 0.0, 0.0, 0.0, 0.0, 0.0, 0.0, 0.0, 0.0, 0.0, 0.0, 0.0, 0.0], [0.001464157016016543, 0.0001235714735230431, 0.00014881434617564082, 0.006196793634444475, 0.00018610806728247553, 0.0016449225367978215, 0.0003753364144358784, 0.0026068075094372034, 0.0069106766022741795, 0.022526254877448082, 0.0008514361688867211, 0.0029642353765666485, 0.00014675008424092084, 0.1105242520570755, 0.00030171757680363953, 0.0015550482785329223, 0.0008435643394477665, 0.0838884487748146, 0.001541897188872099, 0.0018047583289444447, 9.79272008407861e-05, 0.033734433352947235, 0.00022044425713829696, 0.002291505690664053, 0.00037063154741190374, 0.2199447900056839, 0.008980306796729565, 0.0007678631809540093, 4.0644914406584576e-05, 0.11445753276348114, 0.0009131806436926126, 0.0026213014498353004, 3.5042616218561307e-05, 0.12173724919557571, 0.0005488104652613401, 0.004461547825485468, 0.0035913612227886915, 0.16862964630126953, 0.00035107057192362845, 0.0011240645544603467, 0.001050387043505907, 0.06510086357593536, 0.0009869817877188325, 0.0013368107611313462, 0.0, 0.0, 0.0, 0.0, 0.0, 0.0, 0.0, 0.0, 0.0, 0.0, 0.0, 0.0, 0.0, 0.0, 0.0, 0.0, 0.0, 0.0, 0.0, 0.0, 0.0, 0.0, 0.0], [0.10986211895942688, 0.0027859515976160765, 0.0018626170931383967, 0.0013300616992637515, 0.0015852119540795684, 0.01678498275578022, 0.004624187480658293, 0.0009011710062623024, 0.006940473802387714, 0.13769513368606567, 0.000593343807850033, 0.0011079794494435191, 0.0014399744104593992, 0.1239066869020462, 0.0006817459943704307, 0.0011575022945180535, 0.0019096466712653637, 0.10310664027929306, 0.001508117187768221, 0.002795747248455882, 0.0004160644894000143, 0.0342421792447567, 0.0006474165129475296, 0.0026033534668385983, 0.0019464042270556092, 0.05391203612089157, 0.0023279928136616945, 0.0015987262595444918, 0.03064323402941227, 0.15346857905387878, 0.003803924424573779, 0.0013774668332189322, 0.0004349910013843328, 0.07217545807361603, 0.0032150857150554657, 0.0023197538685053587, 0.0036231952253729105, 0.06959326565265656, 0.0002857233048416674, 0.0009489997755736113, 0.002169187180697918, 0.019323986023664474, 0.0008398323552682996, 0.0009285712148994207, 0.014575238339602947, 0.0, 0.0, 0.0, 0.0, 0.0, 0.0, 0.0, 0.0, 0.0, 0.0, 0.0, 0.0, 0.0, 0.0, 0.0, 0.0, 0.0, 0.0, 0.0, 0.0, 0.0, 0.0], [0.0002416526258457452, 0.07854244112968445, 0.01476377435028553, 0.021438177675008774, 0.004081393592059612, 0.0027814749628305435, 0.002918137004598975, 0.012638906016945839, 0.005735726095736027, 0.023675693199038506, 0.01683506928384304, 0.009630844928324223, 0.009245919063687325, 0.019871624186635017, 0.03927239775657654, 0.024738172069191933, 0.0019319925922900438, 0.002709176391363144, 0.0006729924934916198, 0.011322942562401295, 0.005654108710587025, 0.009482650086283684, 0.005128056742250919, 0.011075006797909737, 0.09825204312801361, 0.007352717686444521, 0.01265681255608797, 0.006648348178714514, 0.02305612713098526, 0.011611533351242542, 0.0066338819451630116, 0.009314528666436672, 0.004184417892247438, 0.0043682921677827835, 0.0031135494355112314, 0.012097272090613842, 0.0009667414124123752, 0.0006911381497047842, 0.0029796352609992027, 0.005398098845034838, 0.3807181119918823, 0.030785979703068733, 0.014821484684944153, 0.014039268717169762, 0.005138175096362829, 0.010783535428345203, 0.0, 0.0, 0.0, 0.0, 0.0, 0.0, 0.0, 0.0, 0.0, 0.0, 0.0, 0.0, 0.0, 0.0, 0.0, 0.0, 0.0, 0.0, 0.0, 0.0, 0.0], [0.0015712794847786427, 0.008388406597077847, 0.009736848995089531, 0.031127281486988068, 0.006438558921217918, 0.0016424412606284022, 0.16658425331115723, 0.016664689406752586, 0.017028486356139183, 0.00940245296806097, 0.002180875279009342, 0.00905662402510643, 0.012566826306283474, 0.05667564645409584, 0.0071700578555464745, 0.011063815094530582, 0.004622702021151781, 0.017524177208542824, 0.00866264384239912, 0.01638171076774597, 0.019198037683963776, 0.02527184784412384, 0.0012169480323791504, 0.009019996039569378, 0.01244908757507801, 0.021937044337391853, 0.047009993344545364, 0.01304376870393753, 0.15628330409526825, 0.02115989476442337, 0.01209339126944542, 0.011516468599438667, 0.0029616598039865494, 0.037074267864227295, 0.013788302429020405, 0.007074889726936817, 0.0314532071352005, 0.012706302106380463, 0.005190507974475622, 0.0059955548495054245, 0.030008237808942795, 0.045629993081092834, 0.006298084277659655, 0.004468100145459175, 0.011479216627776623, 0.01826462149620056, 0.002917522331699729, 0.0, 0.0, 0.0, 0.0, 0.0, 0.0, 0.0, 0.0, 0.0, 0.0, 0.0, 0.0, 0.0, 0.0, 0.0, 0.0, 0.0, 0.0, 0.0, 0.0], [0.0008011401514522731, 5.9905938542215154e-05, 0.00012363815039861947, 0.007991299033164978, 0.00015507300850003958, 0.0009205773239955306, 0.0007611342589370906, 0.003640735289081931, 0.00920263770967722, 0.023838315159082413, 0.0004329976800363511, 0.0032802841160446405, 0.0004874549340456724, 0.05287661403417587, 0.00024189245596062392, 0.002775121945887804, 0.00011590779467951506, 0.06838994473218918, 0.002528780372813344, 0.0018521086312830448, 7.531874143751338e-05, 0.0298924520611763, 0.00027436212985776365, 0.002787855686619878, 0.00021295186888892204, 0.05564049258828163, 0.017436865717172623, 0.0008070613839663565, 4.266903852112591e-05, 0.06531325727701187, 0.0011362209916114807, 0.002881175372749567, 0.0001067284174496308, 0.1623612642288208, 0.0006849682540632784, 0.0023820495698601007, 0.007368695456534624, 0.2549671530723572, 0.0007093556341715157, 0.0018690646393224597, 0.0001976370986085385, 0.03567435219883919, 0.0004443104553502053, 0.0008177034906111658, 0.12948638200759888, 0.044032275676727295, 0.0008493690402247012, 0.0010724571766331792, 0.0, 0.0, 0.0, 0.0, 0.0, 0.0, 0.0, 0.0, 0.0, 0.0, 0.0, 0.0, 0.0, 0.0, 0.0, 0.0, 0.0, 0.0, 0.0], [0.0033485679887235165, 0.0023472050670534372, 0.0017073764465749264, 0.007963202893733978, 0.0008527016034349799, 0.00659222574904561, 0.013066042214632034, 0.004518123343586922, 0.013141140341758728, 0.1593342125415802, 0.001429745927453041, 0.004312114790081978, 0.004174882546067238, 0.09268320351839066, 0.0017213273094967008, 0.004079541657119989, 0.0004779340233653784, 0.07559514045715332, 0.005393131170421839, 0.0050570047460496426, 0.0031339016277343035, 0.0788494199514389, 0.0012783780694007874, 0.0036215963773429394, 0.0009647334809415042, 0.06355903297662735, 0.007439261768013239, 0.0038032629527151585, 0.019286630675196648, 0.08214292675256729, 0.0033636062871664762, 0.0033711628057062626, 0.002050355775281787, 0.06972575187683105, 0.005581556353718042, 0.0031048632226884365, 0.010650345124304295, 0.08142653107643127, 0.0029679257422685623, 0.004707060754299164, 0.0022611222229897976, 0.02850205823779106, 0.002017410472035408, 0.0023785100784152746, 0.017531611025333405, 0.08031581342220306, 0.0019392024260014296, 0.003472514683380723, 0.0027586633805185556, 0.0, 0.0, 0.0, 0.0, 0.0, 0.0, 0.0, 0.0, 0.0, 0.0, 0.0, 0.0, 0.0, 0.0, 0.0, 0.0, 0.0, 0.0], [0.001447365852072835, 0.011152230203151703, 0.005052713677287102, 0.007941433228552341, 0.0018560165772214532, 0.004585611633956432, 0.006176028400659561, 0.004363900516182184, 0.00414638128131628, 0.0035695515107363462, 0.00677597988396883, 0.012342654168605804, 0.04397130012512207, 0.021008886396884918, 0.00670994445681572, 0.005864982958883047, 0.004865126684308052, 0.007705975323915482, 0.007218342740088701, 0.01737779751420021, 0.00045799865620210767, 0.006939989048987627, 0.004476881120353937, 0.009534547105431557, 0.0014988732291385531, 0.002342365914955735, 0.006581935565918684, 0.010526909492909908, 0.18324367702007294, 0.01926778256893158, 0.008865651674568653, 0.008180404081940651, 0.001458841492421925, 0.03533804044127464, 0.006058274302631617, 0.007594148628413677, 0.0042972257360816, 0.0022389860823750496, 0.0017590292263776064, 0.004156928975135088, 0.03383538872003555, 0.0072321584448218346, 0.001903716241940856, 0.003997262101620436, 0.39860856533050537, 0.021447744220495224, 0.007343884091824293, 0.004429404158145189, 0.006762039382010698, 0.005489119328558445, 0.0, 0.0, 0.0, 0.0, 0.0, 0.0, 0.0, 0.0, 0.0, 0.0, 0.0, 0.0, 0.0, 0.0, 0.0, 0.0, 0.0], [0.0002469159080646932, 0.0022618586663156748, 0.0033143884502351284, 0.004770475905388594, 0.021459702402353287, 0.007356251124292612, 0.025535376742482185, 0.004033218137919903, 0.008031790144741535, 0.018844399601221085, 0.0044320132583379745, 0.00401843897998333, 0.0031359954737126827, 0.016703322529792786, 0.0021262820810079575, 0.009847616776823997, 0.01271551102399826, 0.01852930337190628, 0.0025192666798830032, 0.00587023189291358, 0.0008144690655171871, 0.017513711005449295, 0.00450883200392127, 0.02337910234928131, 0.05049250274896622, 0.009893018752336502, 0.11735756695270538, 0.011838148348033428, 0.00035739882150664926, 0.028411537408828735, 0.010770878754556179, 0.01756860315799713, 0.0035968017764389515, 0.032502494752407074, 0.00920053105801344, 0.007904712110757828, 0.051485735923051834, 0.04169326275587082, 0.009526091627776623, 0.006954669486731291, 0.0071275364607572556, 0.052123717963695526, 0.012352878227829933, 0.004809388890862465, 0.011104188859462738, 0.019562792032957077, 0.003444170579314232, 0.0030889788176864386, 0.11054760962724686, 0.10251309722661972, 0.04180321469902992, 0.0, 0.0, 0.0, 0.0, 0.0, 0.0, 0.0, 0.0, 0.0, 0.0, 0.0, 0.0, 0.0, 0.0, 0.0, 0.0], [0.00024294765898957849, 7.165681745391339e-05, 0.00011370689753675833, 0.007371584884822369, 0.00011286333756288514, 0.00040823238668963313, 0.0014227202627807856, 0.0037282221019268036, 0.010483121499419212, 0.013213550671935081, 0.0005447161966003478, 0.003381616435945034, 0.00016066468378994614, 0.06870539486408234, 0.0002652497496455908, 0.0017556374659761786, 0.0008698178571648896, 0.05772829428315163, 0.002791404025629163, 0.0019547531846910715, 2.9416369216050953e-05, 0.03015655279159546, 9.141739428741857e-05, 0.0015767350560054183, 0.00025701557751744986, 0.09672864526510239, 0.011257478035986423, 0.0006438274285756052, 6.306949217105284e-05, 0.032802801579236984, 0.0011011636815965176, 0.0017290272517129779, 7.020500197540969e-05, 0.09902825951576233, 0.0004891853895969689, 0.0013716022949665785, 0.0068350681103765965, 0.42267975211143494, 0.0006876604747958481, 0.0008018730441108346, 5.22210611961782e-05, 0.04368998110294342, 0.0004027046379633248, 0.0009285404230467975, 0.02037680521607399, 0.01710956171154976, 0.00012123617489123717, 0.0005248946254141629, 0.0012035685358569026, 0.027834374457597733, 0.0024260282516479492, 0.001603182521648705, 0.0, 0.0, 0.0, 0.0, 0.0, 0.0, 0.0, 0.0, 0.0, 0.0, 0.0, 0.0, 0.0, 0.0, 0.0], [0.005330279003828764, 0.0004887426621280611, 0.0005600075237452984, 0.005503268446773291, 0.0012190894922241569, 0.003057711059227586, 0.00610641622915864, 0.0033168592490255833, 0.020823275670409203, 0.04326730594038963, 0.0021074586547911167, 0.0031040182802826166, 0.0010669238399714231, 0.10642563551664352, 0.0012206885730847716, 0.0011209998046979308, 0.0031507201492786407, 0.08730930089950562, 0.004561884794384241, 0.0016711204079911113, 0.0008344887755811214, 0.05784119293093681, 0.0010100228246301413, 0.0012547216610983014, 0.0006944509805180132, 0.08004818856716156, 0.012299533933401108, 0.001010727253742516, 0.0001863778888946399, 0.05509376898407936, 0.005514616146683693, 0.00149249704554677, 0.0038929248694330454, 0.02774447575211525, 0.003935715649276972, 0.0017314861761406064, 0.008760743774473667, 0.23165494203567505, 0.005254104267805815, 0.0008623740286566317, 0.000565789348911494, 0.05447294935584068, 0.0022430282551795244, 0.0020321414340287447, 0.016375159844756126, 0.05250198394060135, 0.001404221635311842, 0.0010403585620224476, 0.0065854741260409355, 0.027467727661132812, 0.0031560370698571205, 0.0013154526241123676, 0.028310708701610565, 0.0, 0.0, 0.0, 0.0, 0.0, 0.0, 0.0, 0.0, 0.0, 0.0, 0.0, 0.0, 0.0, 0.0], [0.0004637402016669512, 0.012088947929441929, 0.005509941838681698, 0.007401758339256048, 0.0029452689923346043, 0.011318322271108627, 0.0042044916190207005, 0.008403710089623928, 0.008528199978172779, 0.004122599493712187, 0.024783534929156303, 0.024125942960381508, 0.009752647019922733, 0.020984800532460213, 0.014695141464471817, 0.025481251999735832, 0.011685850098729134, 0.006480126641690731, 0.0014805711107328534, 0.042163386940956116, 0.006840847432613373, 0.006623320747166872, 0.03747766092419624, 0.06814614683389664, 0.013512236066162586, 0.007347341161221266, 0.08045633882284164, 0.05066801235079765, 0.0017670063534751534, 0.01434081606566906, 0.01637609302997589, 0.051309045404195786, 0.01085888035595417, 0.006589422933757305, 0.005935413762927055, 0.02511121891438961, 0.007534691598266363, 0.004206583369523287, 0.0022609594743698835, 0.006533490959554911, 0.030563410371541977, 0.018914373591542244, 0.006269289646297693, 0.009171994403004646, 0.1712418496608734, 0.01577397808432579, 0.0018239249475300312, 0.004547761287540197, 0.022061381489038467, 0.009591891430318356, 0.010439179837703705, 0.011827997863292694, 0.0026120899710804224, 0.014645170420408249, 0.0, 0.0, 0.0, 0.0, 0.0, 0.0, 0.0, 0.0, 0.0, 0.0, 0.0, 0.0, 0.0], [0.01690707542002201, 0.000493463478051126, 0.0007815560093149543, 0.019636834040284157, 0.00032789362012408674, 0.0028002120088785887, 0.021615715697407722, 0.013713482767343521, 0.010540657676756382, 0.05609641224145889, 0.0014624675968661904, 0.004809717182070017, 0.005421408452093601, 0.094710573554039, 0.0017255909042432904, 0.0040999217890203, 0.00036484922748059034, 0.08043397963047028, 0.010772081092000008, 0.004844119772315025, 0.005205640569329262, 0.06923305988311768, 0.001091407029889524, 0.002989602042362094, 0.001873209374025464, 0.03391582891345024, 0.017862170934677124, 0.00818955060094595, 0.000616192352026701, 0.04491814598441124, 0.003641541348770261, 0.009267772547900677, 0.003300699172541499, 0.061270032078027725, 0.004685315303504467, 0.009712940081954002, 0.01949997805058956, 0.041731931269168854, 0.013205248862504959, 0.012768052518367767, 0.002550170524045825, 0.03304670378565788, 0.00837322324514389, 0.00513840839266777, 0.05820350721478462, 0.10958151519298553, 0.0015775245847180486, 0.003465158399194479, 0.005931338761001825, 0.031108222901821136, 0.003881505923345685, 0.0024723540991544724, 0.0012173696886748075, 0.011620666831731796, 0.005295987240970135, 0.0, 0.0, 0.0, 0.0, 0.0, 0.0, 0.0, 0.0, 0.0, 0.0, 0.0, 0.0], [0.0002528498007450253, 0.00010022692731581628, 0.0001635484950384125, 0.015215674415230751, 4.3351537897251546e-05, 0.0007711097714491189, 0.0003360939444974065, 0.005723579321056604, 0.004435099195688963, 0.013257191516458988, 0.0006060613668523729, 0.004845093470066786, 0.00023922826221678406, 0.03525342047214508, 0.00031049639801494777, 0.002874012803658843, 0.0004461645148694515, 0.043476350605487823, 0.0019835291896015406, 0.0016942837974056602, 9.283169492846355e-05, 0.014657038263976574, 8.870184683473781e-05, 0.0024685561656951904, 9.99058029265143e-05, 0.12180087715387344, 0.012089243158698082, 0.00056170899188146, 4.728049680124968e-05, 0.05258539691567421, 0.0006960094324313104, 0.0018315121997147799, 5.548412082134746e-05, 0.059379760175943375, 0.0003293436602689326, 0.0017597906989976764, 0.004109481815248728, 0.4180041253566742, 0.0003945074276998639, 0.0007702182047069073, 4.418777098180726e-05, 0.06945236772298813, 0.0006407431210391223, 0.0008183895843103528, 0.00934535451233387, 0.023124128580093384, 0.00042477602255530655, 0.0010869092075154185, 0.00038227674667723477, 0.016034480184316635, 0.0007994903717190027, 0.0012474460527300835, 0.0024591349065303802, 0.04427747800946236, 0.005052411928772926, 0.0009612737339921296, 0.0, 0.0, 0.0, 0.0, 0.0, 0.0, 0.0, 0.0, 0.0, 0.0, 0.0], [0.004250671248883009, 0.002532585756853223, 0.003431860124692321, 0.011269144713878632, 0.0027536540292203426, 0.0022016153670847416, 0.013142653740942478, 0.005519698839634657, 0.011855133809149265, 0.028380371630191803, 0.001032211002893746, 0.0033409022726118565, 0.012390700168907642, 0.056473229080438614, 0.003767227753996849, 0.0031715144868940115, 0.0025714009534567595, 0.05958026275038719, 0.008759726770222187, 0.0016466219676658511, 0.002515168860554695, 0.059430480003356934, 0.0011725331423804164, 0.0017277891747653484, 0.0014495126670226455, 0.05076666176319122, 0.011614907532930374, 0.001128884730860591, 0.0012744973646476865, 0.054459214210510254, 0.00707240030169487, 0.0020805003587156534, 0.0001789391099009663, 0.06943505257368088, 0.00474309828132391, 0.001669179298914969, 0.013814020901918411, 0.057125773280858994, 0.005814770702272654, 0.0018619211623445153, 0.005431931000202894, 0.07919958233833313, 0.0030232341960072517, 0.0011159179266542196, 0.012027074582874775, 0.10333240032196045, 0.005627129692584276, 0.0032255994156003, 0.006222734693437815, 0.05125338211655617, 0.00466515775769949, 0.001440229476429522, 0.004725343082100153, 0.03175736963748932, 0.004289553966373205, 0.001893523265607655, 0.09336331486701965, 0.0, 0.0, 0.0, 0.0, 0.0, 0.0, 0.0, 0.0, 0.0, 0.0], [0.0001834296272136271, 0.0007099473150447011, 0.00045603024773299694, 0.016581449657678604, 1.4814137102803215e-05, 0.0037952519487589598, 5.700746987713501e-05, 0.011546249501407146, 0.007687343284487724, 0.05391830578446388, 0.010778676718473434, 0.010821253061294556, 0.006618642248213291, 0.06256095319986343, 0.0032069901935756207, 0.005140255205333233, 0.0015659700147807598, 0.01513151079416275, 0.004296748898923397, 0.008629942312836647, 0.0041440255008637905, 0.016829224303364754, 0.002981380093842745, 0.004220325965434313, 0.014516818337142467, 0.06900382041931152, 0.002644570078700781, 0.009118897840380669, 4.74349690193776e-06, 0.05246122181415558, 0.0051017808727920055, 0.009105237200856209, 9.258593308913987e-06, 0.013681807555258274, 0.0014683861518278718, 0.018441731110215187, 0.010835428722202778, 0.06683619320392609, 0.0038446923717856407, 0.006227594334632158, 0.00030908131157048047, 0.08273933082818985, 0.02908032201230526, 0.014799360185861588, 0.07053828239440918, 0.06938070803880692, 0.0013926804531365633, 0.006461289245635271, 0.00027707917615771294, 0.01305194478482008, 0.0050683473236858845, 0.01808861270546913, 0.017139671370387077, 0.027982018887996674, 0.0030815766658633947, 0.007453878875821829, 0.0005722991190850735, 0.09740564972162247, 0.0, 0.0, 0.0, 0.0, 0.0, 0.0, 0.0, 0.0, 0.0], [0.00019930726557504386, 0.0005555840325541794, 0.0006513355765491724, 0.028680166229605675, 0.0006459273281507194, 0.0009956053690984845, 0.00829843059182167, 0.028765728697180748, 0.008411040529608727, 0.014401919208467007, 0.003432394005358219, 0.010737643577158451, 0.001196238212287426, 0.05899327993392944, 0.0012241251533851027, 0.007906889542937279, 0.002717020222917199, 0.08152727037668228, 0.005123598501086235, 0.005722801201045513, 0.00035308199585415423, 0.046323761343955994, 0.0004018073668703437, 0.003384681884199381, 0.00122624053619802, 0.041862331330776215, 0.027910230681300163, 0.0032879835925996304, 0.0017798506887629628, 0.06468893587589264, 0.004893475212156773, 0.0040193526074290276, 0.0024909048806875944, 0.05727248638868332, 0.0042533124797046185, 0.004815339110791683, 0.013758285902440548, 0.07754386961460114, 0.006957072298973799, 0.0053229252807796, 0.01843908429145813, 0.08182618021965027, 0.005135408602654934, 0.006420145742595196, 0.015956711024045944, 0.04797431081533432, 0.0013537061167880893, 0.003344386350363493, 0.008800545707345009, 0.04075763747096062, 0.0023935027420520782, 0.002559826010838151, 0.006401188671588898, 0.012912794016301632, 0.012137388810515404, 0.0015542454784736037, 0.0012953318655490875, 0.08631445467472076, 0.0016909120604395866, 0.0, 0.0, 0.0, 0.0, 0.0, 0.0, 0.0, 0.0], [0.009042345918715, 0.00021400724654085934, 0.0005069636972621083, 0.02326408214867115, 0.0002284946822328493, 0.0011625450570136309, 0.0020480304956436157, 0.016904570162296295, 0.008902271278202534, 0.011926141567528248, 0.0008803334785625339, 0.009532837197184563, 0.00021002635185141116, 0.042158808559179306, 0.0008520730189047754, 0.005724778398871422, 0.0010063935769721866, 0.04689309746026993, 0.006349198520183563, 0.004375634249299765, 0.00031782060978002846, 0.020696599036455154, 0.00012559941387735307, 0.003225937718525529, 0.0008603781461715698, 0.06249859184026718, 0.005441805347800255, 0.0015551869291812181, 3.900573938153684e-05, 0.04848641902208328, 0.0011830995790660381, 0.00223305425606668, 0.00021898973500356078, 0.06768164783716202, 0.0006723073311150074, 0.0023288060910999775, 0.005943468306213617, 0.17250852286815643, 0.0024093077518045902, 0.0010368891526013613, 0.00010728794586611912, 0.07146672904491425, 0.0004579306405503303, 0.0009371641208417714, 0.021746497601270676, 0.07632097601890564, 0.0009460970177315176, 0.000971869973000139, 0.00045996869448572397, 0.03782615438103676, 0.0009909396758303046, 0.003860254306346178, 0.00011358318442944437, 0.055804308503866196, 0.019318783655762672, 0.0008352884324267507, 0.010564956814050674, 0.1037507951259613, 0.0010362783214077353, 0.0008380791987292469, 0.0, 0.0, 0.0, 0.0, 0.0, 0.0, 0.0], [0.04119015485048294, 0.0008827152196317911, 0.0011005685664713383, 0.002158822724595666, 0.012817374430596828, 0.0061033074744045734, 0.002203805837780237, 0.0021979562006890774, 0.007141783367842436, 0.013131576590240002, 0.0010009797988459468, 0.0023950485046952963, 0.0007595509523525834, 0.02875465527176857, 0.0008778172777965665, 0.0013144261902198195, 0.0189255028963089, 0.04857175424695015, 0.02235368825495243, 0.0017118059331551194, 0.0010286092292517424, 0.037706248462200165, 0.00032328497036360204, 0.0013248370960354805, 0.0003247047425247729, 0.04061990976333618, 0.0031838826835155487, 0.0007383113261312246, 0.0002907046291511506, 0.0790184959769249, 0.004003182053565979, 0.0006601532222703099, 0.00029264437034726143, 0.039454229176044464, 0.0027971004601567984, 0.0007537536439485848, 0.0047683073207736015, 0.053115364164114, 0.004157574847340584, 0.0005479782121255994, 0.0014415922341868281, 0.03003610298037529, 0.0007162820547819138, 0.0005314858281053603, 0.023019712418317795, 0.0830024853348732, 0.006657078862190247, 0.0006092680850997567, 0.0009695317130535841, 0.06643407046794891, 0.0013619641540572047, 0.0013282850850373507, 0.0001328642974840477, 0.0625520721077919, 0.0247112475335598, 0.00108402781188488, 0.0016296450048685074, 0.14447331428527832, 0.0027385849971324205, 0.0007428363896906376, 0.05512506887316704, 0.0, 0.0, 0.0, 0.0, 0.0, 0.0], [0.0008071004413068295, 0.0026916987262666225, 0.0031180228106677532, 0.005749512929469347, 0.0001301515003433451, 0.0032992283813655376, 0.00011786264076363295, 0.009222623892128468, 0.0032254105899482965, 0.011876855976879597, 0.00330811133608222, 0.0034846786875277758, 0.012031720951199532, 0.029653754085302353, 0.002126299776136875, 0.004064126871526241, 0.0011948056053370237, 0.010297311469912529, 0.007274224888533354, 0.004544670693576336, 0.0007133343024179339, 0.006153498776257038, 0.0008593153324909508, 0.0033771838061511517, 0.02450215443968773, 0.028438860550522804, 0.0010642748093232512, 0.002396585652604699, 8.180140866898e-06, 0.0671457052230835, 0.005631046369671822, 0.004348904360085726, 1.732166083456832e-06, 0.031041204929351807, 0.0010076856706291437, 0.004093697294592857, 0.008490989916026592, 0.025226106867194176, 0.0007365825003944337, 0.0029487728606909513, 0.0017449428560212255, 0.12117304652929306, 0.005600955802947283, 0.0031912080012261868, 0.0335419587790966, 0.10378233343362808, 0.002422548597678542, 0.004072834737598896, 0.0003961560723837465, 0.024439550936222076, 0.005683569703251123, 0.00832532811909914, 6.62565216771327e-05, 0.01264730654656887, 0.0009897546842694283, 0.00485448632389307, 0.04901663586497307, 0.1557040512561798, 0.00046878206194378436, 0.0036944809835404158, 0.10490579903125763, 0.016873937100172043, 0.0, 0.0, 0.0, 0.0, 0.0], [0.001825573854148388, 0.000183084441232495, 0.00026600019191391766, 0.0003858679556287825, 0.0005590855143964291, 0.0002495956141501665, 0.0008783218800090253, 0.00014587370969820768, 0.0001680332061368972, 0.0005246195360086858, 6.20429273112677e-05, 0.00012713894830085337, 6.4579412537568714e-06, 0.0005127426702529192, 0.00012728149886243045, 4.882286521024071e-05, 0.0023136287927627563, 0.0037328696344047785, 8.021673420444131e-05, 3.220356666133739e-05, 1.7010417650453746e-05, 0.0013715190580114722, 1.571557004353963e-05, 3.265176565037109e-05, 8.020192581170704e-06, 0.0004560195084195584, 1.866321690613404e-05, 3.5541277611628175e-05, 0.0004106190172024071, 0.002087321598082781, 5.191732634557411e-05, 1.6635383872198872e-05, 6.734937414876185e-06, 0.0009834186639636755, 0.00028104381635785103, 0.00010705039312597364, 0.00022494357835967094, 0.0004630835319403559, 0.00026843283558264375, 4.3935862777289e-05, 0.0009685278055258095, 0.0010003314819186926, 1.2320090718276333e-05, 5.5783206335036084e-05, 0.00023588727344758809, 0.001899097696878016, 0.0008709894609637558, 8.714131399756297e-05, 0.00021907637710683048, 0.0009808859322220087, 6.321457476587966e-05, 0.00013874226715415716, 5.2951301768189296e-05, 0.0004309543874114752, 0.0007199872634373605, 6.975201540626585e-05, 3.449680662015453e-05, 0.0014525367878377438, 1.6466792658320628e-05, 5.484927532961592e-05, 0.9697409272193909, 0.0013238476822152734, 0.0004414547001942992, 0.0, 0.0, 0.0, 0.0], [0.0002829351578839123, 0.0010068209376186132, 0.0018461147556081414, 0.027424044907093048, 0.0007708411430940032, 0.0034215981140732765, 0.0005649132071994245, 0.013656987808644772, 0.011154280044138432, 0.04369146004319191, 0.0055593992583453655, 0.012182510457932949, 0.0004155963542871177, 0.048654019832611084, 0.0035098816733807325, 0.0076300594955682755, 0.0019125291146337986, 0.053271908313035965, 0.0025398789439350367, 0.0028802650049328804, 0.0005009399610571563, 0.016106588765978813, 0.0016691583441570401, 0.0035645440220832825, 0.0020277858711779118, 0.04216497763991356, 0.009112435393035412, 0.0019030999392271042, 0.0002873310004360974, 0.0432736761868, 0.0037033928092569113, 0.0018072103848680854, 4.6454650146188214e-05, 0.05286091938614845, 0.003171860473230481, 0.004354517441242933, 0.009392003528773785, 0.11951620876789093, 0.0021668828558176756, 0.0019518774934113026, 0.0014488925226032734, 0.04021960869431496, 0.0020007439889013767, 0.0029150573536753654, 0.04990900307893753, 0.02316000498831272, 0.002567257499322295, 0.002908392809331417, 0.004017469938844442, 0.023856353014707565, 0.007308550179004669, 0.0037354629021137953, 0.0030595301650464535, 0.03205928951501846, 0.016997244209051132, 0.0023938394151628017, 0.00024839513935148716, 0.02249605394899845, 0.0026957301888614893, 0.0019165213452652097, 0.1757793426513672, 0.008801935240626335, 0.0069749425165355206, 0.0005723910289816558, 0.0, 0.0, 0.0], [0.2609424889087677, 0.036477282643318176, 0.020054442808032036, 0.002675624331459403, 0.016956573352217674, 0.031740088015794754, 0.030682258307933807, 0.0031628122087568045, 0.004780099727213383, 0.0033515584655106068, 0.004148358944803476, 0.0040542627684772015, 0.008442210964858532, 0.0023915553465485573, 0.005501970183104277, 0.0034653712064027786, 0.03502963110804558, 0.0036737879272550344, 0.003414744511246681, 0.007583274971693754, 0.023688098415732384, 0.008439152501523495, 0.008600324392318726, 0.008663242682814598, 0.0031955197919160128, 0.004509576130658388, 0.0029448026325553656, 0.014234976842999458, 0.02882561646401882, 0.00421233382076025, 0.004401311744004488, 0.01765972562134266, 0.014752420596778393, 0.003081521252170205, 0.006168433465063572, 0.014768854714930058, 0.0074158962815999985, 0.0024254724849015474, 0.005586490035057068, 0.01702556014060974, 0.0037154294550418854, 0.011391554027795792, 0.008702444843947887, 0.014973130077123642, 0.0014468373265117407, 0.011320683173835278, 0.0027793438639491796, 0.010242138057947159, 0.006580198649317026, 0.007546970620751381, 0.0033595459535717964, 0.007453741040080786, 0.053262412548065186, 0.005039072595536709, 0.002339910017326474, 0.01400082465261221, 0.08279350399971008, 0.006566676311194897, 0.0019345337059348822, 0.00844613742083311, 0.0049072569236159325, 0.012623053975403309, 0.007611528504639864, 0.01850273087620735, 0.003332626074552536, 0.0, 0.0], [0.005235759075731039, 0.0011282638879492879, 0.0012681015068665147, 0.014876951463520527, 0.0044876704923808575, 0.007785935886204243, 0.0009561029146425426, 0.013458370231091976, 0.008082892745733261, 0.015636788681149483, 0.003046547994017601, 0.018961872905492783, 0.0012577285524457693, 0.016212275251746178, 0.0015900247963145375, 0.011427709832787514, 0.0016564844409003854, 0.03080996312201023, 0.007814220152795315, 0.007081815041601658, 0.0004092254093848169, 0.008311398327350616, 0.0007893805741332471, 0.007290959823876619, 0.003455707337707281, 0.02118951454758644, 0.034940507262945175, 0.0019013434648513794, 0.0010957656195387244, 0.05663897469639778, 0.0064929816871881485, 0.002079867757856846, 0.0007543428801000118, 0.03907300904393196, 0.0032497223000973463, 0.0027472132351249456, 0.0031018899753689766, 0.06998292356729507, 0.002369442954659462, 0.0019752411171793938, 0.0005503572174347937, 0.03868237882852554, 0.004286791663616896, 0.003629316808655858, 0.0130150830373168, 0.08480791747570038, 0.013307631015777588, 0.004481046926230192, 0.003547315951436758, 0.12678827345371246, 0.0018069420475512743, 0.0017853787867352366, 0.00038641953142359853, 0.030361929908394814, 0.017577217891812325, 0.0036498273257166147, 0.0340789332985878, 0.07496894150972366, 0.004904024302959442, 0.001518051023595035, 0.00845414400100708, 0.06639467924833298, 0.0019689444452524185, 0.0021703485399484634, 0.01567753404378891, 0.0005757277249358594, 0.0], [0.009209190495312214, 0.002707148203626275, 0.003495583077892661, 0.03181911259889603, 0.001967238960787654, 0.0076294224709272385, 0.01780306175351143, 0.05683862045407295, 0.009569048881530762, 0.031785301864147186, 0.014650244265794754, 0.020554950460791588, 0.006495283916592598, 0.03627629578113556, 0.0026800876948982477, 0.022485792636871338, 8.412071474594995e-05, 0.018865108489990234, 0.005673880688846111, 0.011415528133511543, 0.002143344609066844, 0.011879531666636467, 0.0022870972752571106, 0.007246942725032568, 0.008658098988234997, 0.02198125049471855, 0.013739604502916336, 0.006300558336079121, 0.0002515979576855898, 0.02656598761677742, 0.003792482428252697, 0.00705336406826973, 0.002584595000371337, 0.02786197140812874, 0.0032908706925809383, 0.005568497348576784, 0.012583134695887566, 0.05796121060848236, 0.01350921206176281, 0.012508970685303211, 0.002085164189338684, 0.027928996831178665, 0.011663766577839851, 0.00973568856716156, 0.010998502373695374, 0.05377107113599777, 0.006415901705622673, 0.012058458290994167, 0.02550199255347252, 0.043551139533519745, 0.010033752769231796, 0.015436071902513504, 0.0006576167070306838, 0.01984531432390213, 0.01923445239663124, 0.01271585188806057, 0.010040621273219585, 0.05630012974143028, 0.010672521777451038, 0.01090347021818161, 0.008578946813941002, 0.017517998814582825, 0.008427796885371208, 0.0065491111017763615, 0.020453114062547684, 0.0035217194817960262, 0.005627499893307686]], [[1.0, 0.0, 0.0, 0.0, 0.0, 0.0, 0.0, 0.0, 0.0, 0.0, 0.0, 0.0, 0.0, 0.0, 0.0, 0.0, 0.0, 0.0, 0.0, 0.0, 0.0, 0.0, 0.0, 0.0, 0.0, 0.0, 0.0, 0.0, 0.0, 0.0, 0.0, 0.0, 0.0, 0.0, 0.0, 0.0, 0.0, 0.0, 0.0, 0.0, 0.0, 0.0, 0.0, 0.0, 0.0, 0.0, 0.0, 0.0, 0.0, 0.0, 0.0, 0.0, 0.0, 0.0, 0.0, 0.0, 0.0, 0.0, 0.0, 0.0, 0.0, 0.0, 0.0, 0.0, 0.0, 0.0, 0.0], [0.5859798789024353, 0.4140200912952423, 0.0, 0.0, 0.0, 0.0, 0.0, 0.0, 0.0, 0.0, 0.0, 0.0, 0.0, 0.0, 0.0, 0.0, 0.0, 0.0, 0.0, 0.0, 0.0, 0.0, 0.0, 0.0, 0.0, 0.0, 0.0, 0.0, 0.0, 0.0, 0.0, 0.0, 0.0, 0.0, 0.0, 0.0, 0.0, 0.0, 0.0, 0.0, 0.0, 0.0, 0.0, 0.0, 0.0, 0.0, 0.0, 0.0, 0.0, 0.0, 0.0, 0.0, 0.0, 0.0, 0.0, 0.0, 0.0, 0.0, 0.0, 0.0, 0.0, 0.0, 0.0, 0.0, 0.0, 0.0, 0.0], [0.47987788915634155, 0.08665777742862701, 0.43346431851387024, 0.0, 0.0, 0.0, 0.0, 0.0, 0.0, 0.0, 0.0, 0.0, 0.0, 0.0, 0.0, 0.0, 0.0, 0.0, 0.0, 0.0, 0.0, 0.0, 0.0, 0.0, 0.0, 0.0, 0.0, 0.0, 0.0, 0.0, 0.0, 0.0, 0.0, 0.0, 0.0, 0.0, 0.0, 0.0, 0.0, 0.0, 0.0, 0.0, 0.0, 0.0, 0.0, 0.0, 0.0, 0.0, 0.0, 0.0, 0.0, 0.0, 0.0, 0.0, 0.0, 0.0, 0.0, 0.0, 0.0, 0.0, 0.0, 0.0, 0.0, 0.0, 0.0, 0.0, 0.0], [0.11241862177848816, 0.08868395537137985, 0.01771298237144947, 0.7811844944953918, 0.0, 0.0, 0.0, 0.0, 0.0, 0.0, 0.0, 0.0, 0.0, 0.0, 0.0, 0.0, 0.0, 0.0, 0.0, 0.0, 0.0, 0.0, 0.0, 0.0, 0.0, 0.0, 0.0, 0.0, 0.0, 0.0, 0.0, 0.0, 0.0, 0.0, 0.0, 0.0, 0.0, 0.0, 0.0, 0.0, 0.0, 0.0, 0.0, 0.0, 0.0, 0.0, 0.0, 0.0, 0.0, 0.0, 0.0, 0.0, 0.0, 0.0, 0.0, 0.0, 0.0, 0.0, 0.0, 0.0, 0.0, 0.0, 0.0, 0.0, 0.0, 0.0, 0.0], [0.00654695276170969, 0.004896102473139763, 0.0005391059094108641, 0.9854405522346497, 0.002577293198555708, 0.0, 0.0, 0.0, 0.0, 0.0, 0.0, 0.0, 0.0, 0.0, 0.0, 0.0, 0.0, 0.0, 0.0, 0.0, 0.0, 0.0, 0.0, 0.0, 0.0, 0.0, 0.0, 0.0, 0.0, 0.0, 0.0, 0.0, 0.0, 0.0, 0.0, 0.0, 0.0, 0.0, 0.0, 0.0, 0.0, 0.0, 0.0, 0.0, 0.0, 0.0, 0.0, 0.0, 0.0, 0.0, 0.0, 0.0, 0.0, 0.0, 0.0, 0.0, 0.0, 0.0, 0.0, 0.0, 0.0, 0.0, 0.0, 0.0, 0.0, 0.0, 0.0], [0.23406024277210236, 0.1396464854478836, 0.31127917766571045, 0.29690098762512207, 0.007602203171700239, 0.010510923340916634, 0.0, 0.0, 0.0, 0.0, 0.0, 0.0, 0.0, 0.0, 0.0, 0.0, 0.0, 0.0, 0.0, 0.0, 0.0, 0.0, 0.0, 0.0, 0.0, 0.0, 0.0, 0.0, 0.0, 0.0, 0.0, 0.0, 0.0, 0.0, 0.0, 0.0, 0.0, 0.0, 0.0, 0.0, 0.0, 0.0, 0.0, 0.0, 0.0, 0.0, 0.0, 0.0, 0.0, 0.0, 0.0, 0.0, 0.0, 0.0, 0.0, 0.0, 0.0, 0.0, 0.0, 0.0, 0.0, 0.0, 0.0, 0.0, 0.0, 0.0, 0.0], [0.06474760919809341, 0.084688201546669, 0.42593875527381897, 0.027127064764499664, 0.036093879491090775, 0.30922240018844604, 0.052182167768478394, 0.0, 0.0, 0.0, 0.0, 0.0, 0.0, 0.0, 0.0, 0.0, 0.0, 0.0, 0.0, 0.0, 0.0, 0.0, 0.0, 0.0, 0.0, 0.0, 0.0, 0.0, 0.0, 0.0, 0.0, 0.0, 0.0, 0.0, 0.0, 0.0, 0.0, 0.0, 0.0, 0.0, 0.0, 0.0, 0.0, 0.0, 0.0, 0.0, 0.0, 0.0, 0.0, 0.0, 0.0, 0.0, 0.0, 0.0, 0.0, 0.0, 0.0, 0.0, 0.0, 0.0, 0.0, 0.0, 0.0, 0.0, 0.0, 0.0, 0.0], [0.017636319622397423, 0.0281432643532753, 0.0067765973508358, 0.00021762560936622322, 0.03424588218331337, 0.13503053784370422, 0.02046564593911171, 0.7574841380119324, 0.0, 0.0, 0.0, 0.0, 0.0, 0.0, 0.0, 0.0, 0.0, 0.0, 0.0, 0.0, 0.0, 0.0, 0.0, 0.0, 0.0, 0.0, 0.0, 0.0, 0.0, 0.0, 0.0, 0.0, 0.0, 0.0, 0.0, 0.0, 0.0, 0.0, 0.0, 0.0, 0.0, 0.0, 0.0, 0.0, 0.0, 0.0, 0.0, 0.0, 0.0, 0.0, 0.0, 0.0, 0.0, 0.0, 0.0, 0.0, 0.0, 0.0, 0.0, 0.0, 0.0, 0.0, 0.0, 0.0, 0.0, 0.0, 0.0], [0.00017629114154260606, 0.00012236766633577645, 7.133771578082815e-05, 5.543370207305998e-07, 0.000432134373113513, 0.005560663528740406, 7.685521268285811e-05, 0.9932287931442261, 0.0003309477469883859, 0.0, 0.0, 0.0, 0.0, 0.0, 0.0, 0.0, 0.0, 0.0, 0.0, 0.0, 0.0, 0.0, 0.0, 0.0, 0.0, 0.0, 0.0, 0.0, 0.0, 0.0, 0.0, 0.0, 0.0, 0.0, 0.0, 0.0, 0.0, 0.0, 0.0, 0.0, 0.0, 0.0, 0.0, 0.0, 0.0, 0.0, 0.0, 0.0, 0.0, 0.0, 0.0, 0.0, 0.0, 0.0, 0.0, 0.0, 0.0, 0.0, 0.0, 0.0, 0.0, 0.0, 0.0, 0.0, 0.0, 0.0, 0.0], [0.0023982813581824303, 0.003386508207768202, 0.001684283372014761, 0.0036452377680689096, 0.9760857820510864, 0.00010216207010671496, 7.077497139107436e-05, 0.003441035281866789, 8.351188444066793e-05, 0.00910248514264822, 0.0, 0.0, 0.0, 0.0, 0.0, 0.0, 0.0, 0.0, 0.0, 0.0, 0.0, 0.0, 0.0, 0.0, 0.0, 0.0, 0.0, 0.0, 0.0, 0.0, 0.0, 0.0, 0.0, 0.0, 0.0, 0.0, 0.0, 0.0, 0.0, 0.0, 0.0, 0.0, 0.0, 0.0, 0.0, 0.0, 0.0, 0.0, 0.0, 0.0, 0.0, 0.0, 0.0, 0.0, 0.0, 0.0, 0.0, 0.0, 0.0, 0.0, 0.0, 0.0, 0.0, 0.0, 0.0, 0.0, 0.0], [0.02289634943008423, 0.017449727281928062, 0.0047956774942576885, 0.0017115829978138208, 0.02172989398241043, 0.016037600114941597, 0.001736143254674971, 0.024631040170788765, 0.5330350399017334, 0.21549011766910553, 0.14048685133457184, 0.0, 0.0, 0.0, 0.0, 0.0, 0.0, 0.0, 0.0, 0.0, 0.0, 0.0, 0.0, 0.0, 0.0, 0.0, 0.0, 0.0, 0.0, 0.0, 0.0, 0.0, 0.0, 0.0, 0.0, 0.0, 0.0, 0.0, 0.0, 0.0, 0.0, 0.0, 0.0, 0.0, 0.0, 0.0, 0.0, 0.0, 0.0, 0.0, 0.0, 0.0, 0.0, 0.0, 0.0, 0.0, 0.0, 0.0, 0.0, 0.0, 0.0, 0.0, 0.0, 0.0, 0.0, 0.0, 0.0], [0.005046911537647247, 0.060363978147506714, 0.012478727847337723, 0.0001629312027944252, 0.0002891492913477123, 0.008593601174652576, 0.14601989090442657, 7.12201144779101e-05, 0.12469270080327988, 0.1145961582660675, 0.016387009993195534, 0.5112977027893066, 0.0, 0.0, 0.0, 0.0, 0.0, 0.0, 0.0, 0.0, 0.0, 0.0, 0.0, 0.0, 0.0, 0.0, 0.0, 0.0, 0.0, 0.0, 0.0, 0.0, 0.0, 0.0, 0.0, 0.0, 0.0, 0.0, 0.0, 0.0, 0.0, 0.0, 0.0, 0.0, 0.0, 0.0, 0.0, 0.0, 0.0, 0.0, 0.0, 0.0, 0.0, 0.0, 0.0, 0.0, 0.0, 0.0, 0.0, 0.0, 0.0, 0.0, 0.0, 0.0, 0.0, 0.0, 0.0], [0.0002504810399841517, 0.0019809326622635126, 0.000919047393836081, 4.8317779146600515e-06, 0.0004051024734508246, 0.00038331220275722444, 0.000317349040415138, 1.6749589804021525e-07, 0.0008688881644047797, 0.0011408757418394089, 7.885472587076947e-05, 0.9933250546455383, 0.0003251515736337751, 0.0, 0.0, 0.0, 0.0, 0.0, 0.0, 0.0, 0.0, 0.0, 0.0, 0.0, 0.0, 0.0, 0.0, 0.0, 0.0, 0.0, 0.0, 0.0, 0.0, 0.0, 0.0, 0.0, 0.0, 0.0, 0.0, 0.0, 0.0, 0.0, 0.0, 0.0, 0.0, 0.0, 0.0, 0.0, 0.0, 0.0, 0.0, 0.0, 0.0, 0.0, 0.0, 0.0, 0.0, 0.0, 0.0, 0.0, 0.0, 0.0, 0.0, 0.0, 0.0, 0.0, 0.0], [0.0011090447660535574, 0.0008538311813026667, 0.0005140554276295006, 0.00028186506824567914, 0.9925451874732971, 0.0001518393401056528, 3.1406889320351183e-06, 0.001517911208793521, 6.424807361327112e-05, 0.0024110935628414154, 0.00015499837172683328, 0.00032707027276046574, 5.418383443611674e-05, 1.1434593034209684e-05, 0.0, 0.0, 0.0, 0.0, 0.0, 0.0, 0.0, 0.0, 0.0, 0.0, 0.0, 0.0, 0.0, 0.0, 0.0, 0.0, 0.0, 0.0, 0.0, 0.0, 0.0, 0.0, 0.0, 0.0, 0.0, 0.0, 0.0, 0.0, 0.0, 0.0, 0.0, 0.0, 0.0, 0.0, 0.0, 0.0, 0.0, 0.0, 0.0, 0.0, 0.0, 0.0, 0.0, 0.0, 0.0, 0.0, 0.0, 0.0, 0.0, 0.0, 0.0, 0.0, 0.0], [0.07622629404067993, 0.004106883890926838, 0.02513900026679039, 0.00753552233800292, 0.002923938212916255, 0.024298127740621567, 0.43244215846061707, 0.005029596854001284, 0.025492209941148758, 0.021524623036384583, 0.013045119121670723, 0.03478413447737694, 0.2560063302516937, 0.013350292108952999, 0.058095719665288925, 0.0, 0.0, 0.0, 0.0, 0.0, 0.0, 0.0, 0.0, 0.0, 0.0, 0.0, 0.0, 0.0, 0.0, 0.0, 0.0, 0.0, 0.0, 0.0, 0.0, 0.0, 0.0, 0.0, 0.0, 0.0, 0.0, 0.0, 0.0, 0.0, 0.0, 0.0, 0.0, 0.0, 0.0, 0.0, 0.0, 0.0, 0.0, 0.0, 0.0, 0.0, 0.0, 0.0, 0.0, 0.0, 0.0, 0.0, 0.0, 0.0, 0.0, 0.0, 0.0], [0.00659155985340476, 0.05809851735830307, 0.011018609628081322, 0.0025671219918876886, 0.0002652245748322457, 0.01637856476008892, 0.2715349495410919, 0.00018746570276562124, 0.014684473164379597, 0.010558937676250935, 0.005686990916728973, 9.308256267104298e-05, 0.06039419025182724, 0.07041574269533157, 0.008987612091004848, 0.4625369906425476, 0.0, 0.0, 0.0, 0.0, 0.0, 0.0, 0.0, 0.0, 0.0, 0.0, 0.0, 0.0, 0.0, 0.0, 0.0, 0.0, 0.0, 0.0, 0.0, 0.0, 0.0, 0.0, 0.0, 0.0, 0.0, 0.0, 0.0, 0.0, 0.0, 0.0, 0.0, 0.0, 0.0, 0.0, 0.0, 0.0, 0.0, 0.0, 0.0, 0.0, 0.0, 0.0, 0.0, 0.0, 0.0, 0.0, 0.0, 0.0, 0.0, 0.0, 0.0], [0.00147851777728647, 0.0020498831290751696, 0.000440435076598078, 0.0015815249644219875, 1.4953298887121491e-05, 0.0023891727905720472, 0.002529905643314123, 1.3072572073724587e-05, 0.0010468235705047846, 0.0004968560533598065, 0.00016439981118310243, 1.8398168322164565e-07, 0.012040767818689346, 0.05291741341352463, 0.00035577986272983253, 0.902226984500885, 0.02025328204035759, 0.0, 0.0, 0.0, 0.0, 0.0, 0.0, 0.0, 0.0, 0.0, 0.0, 0.0, 0.0, 0.0, 0.0, 0.0, 0.0, 0.0, 0.0, 0.0, 0.0, 0.0, 0.0, 0.0, 0.0, 0.0, 0.0, 0.0, 0.0, 0.0, 0.0, 0.0, 0.0, 0.0, 0.0, 0.0, 0.0, 0.0, 0.0, 0.0, 0.0, 0.0, 0.0, 0.0, 0.0, 0.0, 0.0, 0.0, 0.0, 0.0, 0.0], [0.06083173677325249, 0.025930874049663544, 0.018178537487983704, 0.008684479631483555, 0.6949412822723389, 0.005483174696564674, 0.003862791694700718, 0.002233123406767845, 0.007109736558049917, 0.11276541650295258, 0.00485345721244812, 0.02015767991542816, 0.009505380876362324, 0.003185103414580226, 0.0013762349262833595, 0.0073753404431045055, 8.657690159452613e-06, 0.013517042621970177, 0.0, 0.0, 0.0, 0.0, 0.0, 0.0, 0.0, 0.0, 0.0, 0.0, 0.0, 0.0, 0.0, 0.0, 0.0, 0.0, 0.0, 0.0, 0.0, 0.0, 0.0, 0.0, 0.0, 0.0, 0.0, 0.0, 0.0, 0.0, 0.0, 0.0, 0.0, 0.0, 0.0, 0.0, 0.0, 0.0, 0.0, 0.0, 0.0, 0.0, 0.0, 0.0, 0.0, 0.0, 0.0, 0.0, 0.0, 0.0, 0.0], [0.025075463578104973, 0.09048382937908173, 0.03843225911259651, 0.006000899244099855, 0.060392457991838455, 0.0015995510620996356, 0.049897290766239166, 0.004930376540869474, 0.024643603712320328, 0.20598092675209045, 0.016513796523213387, 0.23083752393722534, 0.09512657672166824, 0.007327252067625523, 0.027149470522999763, 0.036754775792360306, 0.005450077820569277, 0.06194459646940231, 0.011459354311227798, 0.0, 0.0, 0.0, 0.0, 0.0, 0.0, 0.0, 0.0, 0.0, 0.0, 0.0, 0.0, 0.0, 0.0, 0.0, 0.0, 0.0, 0.0, 0.0, 0.0, 0.0, 0.0, 0.0, 0.0, 0.0, 0.0, 0.0, 0.0, 0.0, 0.0, 0.0, 0.0, 0.0, 0.0, 0.0, 0.0, 0.0, 0.0, 0.0, 0.0, 0.0, 0.0, 0.0, 0.0, 0.0, 0.0, 0.0, 0.0], [0.011650237254798412, 0.03250860795378685, 0.025289343670010567, 0.00023428283748216927, 0.041019994765520096, 0.5500236749649048, 0.01011606864631176, 0.0032598203979432583, 0.013649296946823597, 0.006616448517888784, 0.004935922101140022, 0.000288004259346053, 0.011175948195159435, 0.03862743079662323, 0.0033490839414298534, 0.00021109175577294081, 0.027802851051092148, 0.019785594195127487, 0.01744070090353489, 0.1820155829191208, 0.0, 0.0, 0.0, 0.0, 0.0, 0.0, 0.0, 0.0, 0.0, 0.0, 0.0, 0.0, 0.0, 0.0, 0.0, 0.0, 0.0, 0.0, 0.0, 0.0, 0.0, 0.0, 0.0, 0.0, 0.0, 0.0, 0.0, 0.0, 0.0, 0.0, 0.0, 0.0, 0.0, 0.0, 0.0, 0.0, 0.0, 0.0, 0.0, 0.0, 0.0, 0.0, 0.0, 0.0, 0.0, 0.0, 0.0], [0.0012153270654380322, 0.003174180630594492, 0.0016729898052290082, 2.2597880615649046e-06, 0.01411781832575798, 0.09509800374507904, 0.0017479941016063094, 0.006278228014707565, 0.0017704283818602562, 0.0019258493557572365, 0.0002014927304117009, 0.00010393284901510924, 0.0029169712215662003, 0.023801377043128014, 0.0005130682839080691, 1.5542897244813503e-06, 0.012981493957340717, 0.01143227145075798, 0.0008666524663567543, 0.8154827952384949, 0.004695272538810968, 0.0, 0.0, 0.0, 0.0, 0.0, 0.0, 0.0, 0.0, 0.0, 0.0, 0.0, 0.0, 0.0, 0.0, 0.0, 0.0, 0.0, 0.0, 0.0, 0.0, 0.0, 0.0, 0.0, 0.0, 0.0, 0.0, 0.0, 0.0, 0.0, 0.0, 0.0, 0.0, 0.0, 0.0, 0.0, 0.0, 0.0, 0.0, 0.0, 0.0, 0.0, 0.0, 0.0, 0.0, 0.0, 0.0], [0.050162456929683685, 0.028534453362226486, 0.019343342632055283, 0.01246846653521061, 0.4573889672756195, 0.05122608691453934, 0.016947036609053612, 0.030911369249224663, 0.031297750771045685, 0.10866214334964752, 0.004076365847140551, 0.0023158108815550804, 0.02882092073559761, 0.027040623128414154, 0.026475083082914352, 0.007763926405459642, 0.011057144962251186, 0.04157618060708046, 0.004262384492903948, 0.015581615269184113, 0.0027837129309773445, 0.021304210647940636, 0.0, 0.0, 0.0, 0.0, 0.0, 0.0, 0.0, 0.0, 0.0, 0.0, 0.0, 0.0, 0.0, 0.0, 0.0, 0.0, 0.0, 0.0, 0.0, 0.0, 0.0, 0.0, 0.0, 0.0, 0.0, 0.0, 0.0, 0.0, 0.0, 0.0, 0.0, 0.0, 0.0, 0.0, 0.0, 0.0, 0.0, 0.0, 0.0, 0.0, 0.0, 0.0, 0.0, 0.0, 0.0], [0.0021463269367814064, 8.768587576923892e-05, 0.00012666928523685783, 4.9210495490115136e-05, 0.00048754553426988423, 0.0005809835274703801, 0.0016384214395657182, 2.9501428798539564e-05, 0.00035431270953267813, 0.00013481650967150927, 0.001728206523694098, 0.0001260893332073465, 0.00016432559641543776, 0.00016575709742028266, 8.48210183903575e-05, 3.0042037906241603e-05, 0.0007511107833124697, 0.00027324739494360983, 0.00726201431825757, 0.00043449841905385256, 0.972891628742218, 0.0006834527594037354, 0.00976934190839529, 0.0, 0.0, 0.0, 0.0, 0.0, 0.0, 0.0, 0.0, 0.0, 0.0, 0.0, 0.0, 0.0, 0.0, 0.0, 0.0, 0.0, 0.0, 0.0, 0.0, 0.0, 0.0, 0.0, 0.0, 0.0, 0.0, 0.0, 0.0, 0.0, 0.0, 0.0, 0.0, 0.0, 0.0, 0.0, 0.0, 0.0, 0.0, 0.0, 0.0, 0.0, 0.0, 0.0, 0.0], [0.012018121778964996, 0.06282369047403336, 0.026013534516096115, 0.0014387968694791198, 0.12236262112855911, 0.0788334533572197, 0.0032880252692848444, 0.00010452770220581442, 0.009029251523315907, 0.020567353814840317, 0.020474931225180626, 0.0036534606479108334, 0.004938905127346516, 0.020632509142160416, 0.0004408541426528245, 0.00018537540745455772, 0.00023820647038519382, 0.007001070771366358, 0.009406345896422863, 0.00011888087465194985, 0.027909059077501297, 0.04214950278401375, 0.0483168326318264, 0.47805461287498474, 0.0, 0.0, 0.0, 0.0, 0.0, 0.0, 0.0, 0.0, 0.0, 0.0, 0.0, 0.0, 0.0, 0.0, 0.0, 0.0, 0.0, 0.0, 0.0, 0.0, 0.0, 0.0, 0.0, 0.0, 0.0, 0.0, 0.0, 0.0, 0.0, 0.0, 0.0, 0.0, 0.0, 0.0, 0.0, 0.0, 0.0, 0.0, 0.0, 0.0, 0.0, 0.0, 0.0], [0.0006902135792188346, 0.00294388341717422, 0.0014629571232944727, 0.0001665398885961622, 0.01434767059981823, 0.0027006901800632477, 2.5664729037089273e-05, 4.933533048756544e-08, 0.0005197511636652052, 0.0002344292151974514, 0.00040984456427395344, 0.0055546630173921585, 5.5727989092702046e-05, 0.00020725787908304483, 7.548784196842462e-06, 1.8056762201013044e-06, 0.00016499268531333655, 0.00021647047833539546, 0.0026275606360286474, 2.1470366107223526e-07, 0.0013331547379493713, 0.002874713623896241, 0.00015759951202198863, 0.9582681059837341, 0.0050285579636693, 0.0, 0.0, 0.0, 0.0, 0.0, 0.0, 0.0, 0.0, 0.0, 0.0, 0.0, 0.0, 0.0, 0.0, 0.0, 0.0, 0.0, 0.0, 0.0, 0.0, 0.0, 0.0, 0.0, 0.0, 0.0, 0.0, 0.0, 0.0, 0.0, 0.0, 0.0, 0.0, 0.0, 0.0, 0.0, 0.0, 0.0, 0.0, 0.0, 0.0, 0.0, 0.0], [0.002388508291915059, 0.0011356372851878405, 0.0009680661023594439, 0.00036237796302884817, 0.028920982033014297, 0.003124377690255642, 0.008434971794486046, 0.003755349200218916, 0.003268192522227764, 0.008212600834667683, 0.0015265917172655463, 0.0005010585300624371, 0.0009505256311967969, 0.00036080292193219066, 0.0024055743124336004, 0.00021493867097888142, 0.8840149641036987, 0.0027218565810471773, 0.034629713743925095, 0.0014226658968254924, 0.008768477477133274, 0.0008371181320399046, 0.00024779714294709265, 0.00018946071213576943, 7.812537660356611e-06, 0.0006295765051618218, 0.0, 0.0, 0.0, 0.0, 0.0, 0.0, 0.0, 0.0, 0.0, 0.0, 0.0, 0.0, 0.0, 0.0, 0.0, 0.0, 0.0, 0.0, 0.0, 0.0, 0.0, 0.0, 0.0, 0.0, 0.0, 0.0, 0.0, 0.0, 0.0, 0.0, 0.0, 0.0, 0.0, 0.0, 0.0, 0.0, 0.0, 0.0, 0.0, 0.0, 0.0], [0.026980208232998848, 0.003492054296657443, 0.013305178843438625, 0.009691186249256134, 0.023926984518766403, 0.03915029764175415, 0.012249338440597057, 0.02634158730506897, 0.006701730191707611, 0.018290160223841667, 0.004123165272176266, 0.004416832700371742, 0.04925207421183586, 0.006631594616919756, 0.07485563308000565, 0.030032586306333542, 0.0008901451947167516, 0.10617991536855698, 0.06132771819829941, 0.12558625638484955, 0.076381616294384, 0.0061742584221065044, 0.011665159836411476, 0.013519314117729664, 0.01882271282374859, 0.20208755135536194, 0.02792484685778618, 0.0, 0.0, 0.0, 0.0, 0.0, 0.0, 0.0, 0.0, 0.0, 0.0, 0.0, 0.0, 0.0, 0.0, 0.0, 0.0, 0.0, 0.0, 0.0, 0.0, 0.0, 0.0, 0.0, 0.0, 0.0, 0.0, 0.0, 0.0, 0.0, 0.0, 0.0, 0.0, 0.0, 0.0, 0.0, 0.0, 0.0, 0.0, 0.0, 0.0], [0.003817347576841712, 0.029944924637675285, 0.006734626833349466, 0.003426657058298588, 0.018579691648483276, 0.0419803112745285, 0.0019134040921926498, 0.0014398051425814629, 0.013092673383653164, 0.018472470343112946, 0.003165754722431302, 0.00017109184409491718, 0.025565600022673607, 0.2255159318447113, 0.003925709519535303, 0.0015306604327633977, 0.00020995100203435868, 0.013764195144176483, 0.00013635700452141464, 0.0005878495285287499, 0.00012276749475859106, 0.019144536927342415, 0.0040819053538143635, 0.0004911301075480878, 0.15936097502708435, 0.04451240599155426, 0.056952498853206635, 0.30135881900787354, 0.0, 0.0, 0.0, 0.0, 0.0, 0.0, 0.0, 0.0, 0.0, 0.0, 0.0, 0.0, 0.0, 0.0, 0.0, 0.0, 0.0, 0.0, 0.0, 0.0, 0.0, 0.0, 0.0, 0.0, 0.0, 0.0, 0.0, 0.0, 0.0, 0.0, 0.0, 0.0, 0.0, 0.0, 0.0, 0.0, 0.0, 0.0, 0.0], [8.020499808480963e-05, 2.9001823349972256e-05, 1.1967200407525524e-05, 0.002133726142346859, 0.00022396931308321655, 0.00022667963639833033, 2.141332743121893e-06, 0.00011687177902786061, 0.0001159760940936394, 0.0005295249284245074, 9.925009180733468e-06, 1.0020309026970153e-08, 0.0018896249821409583, 0.004673850256949663, 7.140877278288826e-05, 0.0008537782705388963, 1.8921340370070538e-06, 0.0006266216514632106, 3.969087458699505e-07, 1.944652694874094e-06, 5.815330041514244e-06, 0.0032580415718257427, 3.964237839682028e-05, 6.095041271692025e-08, 0.002645952394232154, 0.010612038895487785, 0.00010819505405379459, 0.9672218561172485, 0.004508802201598883, 0.0, 0.0, 0.0, 0.0, 0.0, 0.0, 0.0, 0.0, 0.0, 0.0, 0.0, 0.0, 0.0, 0.0, 0.0, 0.0, 0.0, 0.0, 0.0, 0.0, 0.0, 0.0, 0.0, 0.0, 0.0, 0.0, 0.0, 0.0, 0.0, 0.0, 0.0, 0.0, 0.0, 0.0, 0.0, 0.0, 0.0, 0.0], [0.06748288869857788, 0.007049350533634424, 0.012153197079896927, 0.024177586659789085, 0.12414083629846573, 0.006132419686764479, 0.011275887489318848, 0.0004647758905775845, 0.010626393370330334, 0.006892154458910227, 0.01215414423495531, 0.009955240413546562, 0.012708086520433426, 0.00248122401535511, 0.00324102770537138, 0.001041086739860475, 0.04097044840455055, 0.005290655884891748, 0.008634189143776894, 0.002255619503557682, 0.05974690243601799, 0.061917174607515335, 0.08324538916349411, 0.07769372314214706, 0.2218308448791504, 0.003970683552324772, 0.04114116355776787, 0.050184860825538635, 0.004097582306712866, 0.027044417336583138, 0.0, 0.0, 0.0, 0.0, 0.0, 0.0, 0.0, 0.0, 0.0, 0.0, 0.0, 0.0, 0.0, 0.0, 0.0, 0.0, 0.0, 0.0, 0.0, 0.0, 0.0, 0.0, 0.0, 0.0, 0.0, 0.0, 0.0, 0.0, 0.0, 0.0, 0.0, 0.0, 0.0, 0.0, 0.0, 0.0, 0.0], [0.002652847208082676, 0.015617381781339645, 0.0029207756742835045, 0.002619694685563445, 0.09935832768678665, 0.0004881659406237304, 0.0008758066105656326, 0.016788026317954063, 0.005149436183273792, 0.028815627098083496, 0.02307470515370369, 0.0015929314540699124, 0.01380187924951315, 0.0010984059190377593, 0.004865733906626701, 0.004006713163107634, 0.014480904676020145, 0.004149515647441149, 0.001020153402350843, 0.004963424522429705, 0.010459769517183304, 0.005664795637130737, 0.0050886934623122215, 0.0003878453862853348, 0.002924146596342325, 0.009547016583383083, 0.000513282953761518, 0.007089204620569944, 0.6252416968345642, 0.0011573602678254247, 0.0835857093334198, 0.0, 0.0, 0.0, 0.0, 0.0, 0.0, 0.0, 0.0, 0.0, 0.0, 0.0, 0.0, 0.0, 0.0, 0.0, 0.0, 0.0, 0.0, 0.0, 0.0, 0.0, 0.0, 0.0, 0.0, 0.0, 0.0, 0.0, 0.0, 0.0, 0.0, 0.0, 0.0, 0.0, 0.0, 0.0, 0.0], [0.0014486514264717698, 0.024457376450300217, 0.02274934947490692, 0.0003409996279515326, 0.007132112514227629, 0.10941631346940994, 0.018619870766997337, 0.007077534217387438, 0.019664248451590538, 0.006715224124491215, 0.003811568720266223, 0.002414172748103738, 0.011207030154764652, 0.06975022703409195, 0.012448225170373917, 0.00014718952297698706, 0.035512473434209824, 0.054194845259189606, 0.026256242766976357, 0.0022970910649746656, 0.0006040355074219406, 0.005360082723200321, 0.0003376500098966062, 0.0003456726553849876, 0.0077706933952867985, 0.014773278497159481, 0.08242061734199524, 0.00011884480773005635, 0.08857904374599457, 0.0265500508248806, 0.01385253481566906, 0.3236268162727356, 0.0, 0.0, 0.0, 0.0, 0.0, 0.0, 0.0, 0.0, 0.0, 0.0, 0.0, 0.0, 0.0, 0.0, 0.0, 0.0, 0.0, 0.0, 0.0, 0.0, 0.0, 0.0, 0.0, 0.0, 0.0, 0.0, 0.0, 0.0, 0.0, 0.0, 0.0, 0.0, 0.0, 0.0, 0.0], [7.5644461503543425e-06, 0.00010035116429207847, 0.00015645709936507046, 4.460176583620523e-08, 2.8604143153643236e-05, 0.0016850392566993833, 4.2551739170448855e-05, 0.001661897636950016, 0.00012444592721294612, 2.8593070965143852e-05, 2.1183617718634196e-05, 9.106603829422966e-05, 5.872145266039297e-05, 0.0027510987129062414, 4.094151154276915e-05, 1.0279196160922766e-08, 0.00047141083632595837, 0.001096679363399744, 0.0002956082462333143, 0.00045361669617705047, 3.2357671443605796e-05, 0.00025715952506288886, 6.25093093731266e-07, 1.2608888937393203e-06, 0.00029502695542760193, 0.0012087029172107577, 0.00010326073970645666, 3.8513864097922124e-08, 0.0031940799672156572, 0.0012656846083700657, 0.00010080514766741544, 0.9751920700073242, 0.009232967160642147, 0.0, 0.0, 0.0, 0.0, 0.0, 0.0, 0.0, 0.0, 0.0, 0.0, 0.0, 0.0, 0.0, 0.0, 0.0, 0.0, 0.0, 0.0, 0.0, 0.0, 0.0, 0.0, 0.0, 0.0, 0.0, 0.0, 0.0, 0.0, 0.0, 0.0, 0.0, 0.0, 0.0, 0.0], [0.04254067689180374, 0.0009067743085324764, 0.0025286278687417507, 0.0074737113900482655, 0.008300157263875008, 0.0008333855075761676, 0.028849057853221893, 0.017182612791657448, 0.001547844149172306, 0.003537117037922144, 0.010216726921498775, 0.0010160007514059544, 0.008335727266967297, 0.0007958573987707496, 0.0012341825058683753, 0.0038860004860907793, 0.13851279020309448, 0.0031347430776804686, 0.011727036908268929, 0.00742803979665041, 0.6227101683616638, 0.011888828128576279, 0.04041173309087753, 0.0008424472180195153, 0.005595923401415348, 0.0020908284932374954, 0.0017814981983974576, 0.003797736018896103, 0.000981783145107329, 0.005177157931029797, 0.0018948873039335012, 0.0009977681329473853, 4.955595431965776e-05, 0.001792611670680344, 0.0, 0.0, 0.0, 0.0, 0.0, 0.0, 0.0, 0.0, 0.0, 0.0, 0.0, 0.0, 0.0, 0.0, 0.0, 0.0, 0.0, 0.0, 0.0, 0.0, 0.0, 0.0, 0.0, 0.0, 0.0, 0.0, 0.0, 0.0, 0.0, 0.0, 0.0, 0.0, 0.0], [0.0014493204653263092, 0.0006013826350681484, 0.0010750978253781796, 0.0004215259978082031, 0.0003729879099410027, 0.007454122416675091, 0.004024124704301357, 0.001011867425404489, 0.006026376970112324, 0.0009436913533136249, 0.0046448963694274426, 0.004819272086024284, 0.0027169487439095974, 0.002308558439835906, 0.00933823361992836, 0.00034899372258223593, 0.02018388733267784, 0.0011824362445622683, 0.005678679794073105, 0.002542264061048627, 0.014698531478643417, 0.0007809298112988472, 0.0009350589825771749, 0.002661103382706642, 0.0019376423442736268, 0.0009865228785201907, 0.003039082745090127, 0.00025230550090782344, 0.012173953466117382, 0.0024360239040106535, 0.0067708129063248634, 0.0317198820412159, 0.7937525510787964, 0.0001756076089804992, 0.05053531751036644, 0.0, 0.0, 0.0, 0.0, 0.0, 0.0, 0.0, 0.0, 0.0, 0.0, 0.0, 0.0, 0.0, 0.0, 0.0, 0.0, 0.0, 0.0, 0.0, 0.0, 0.0, 0.0, 0.0, 0.0, 0.0, 0.0, 0.0, 0.0, 0.0, 0.0, 0.0, 0.0], [0.0016975533217191696, 0.051522597670555115, 0.014443498104810715, 0.043664511293172836, 0.01936306431889534, 0.0020792342256754637, 0.018723709508776665, 0.00020276260329410434, 0.023162223398685455, 0.02776641957461834, 0.0048049986362457275, 0.004706248641014099, 0.008286507800221443, 0.009632113389670849, 0.005687733646482229, 0.0010426315711811185, 0.19441825151443481, 0.02125343680381775, 0.011924294754862785, 0.00011381882359273732, 0.002517611486837268, 0.038769278675317764, 0.00617076363414526, 0.0029564802534878254, 0.003197354730218649, 0.0094882408156991, 0.09298936277627945, 0.00033366389106959105, 0.003872884204611182, 0.03573532775044441, 0.002501169452443719, 0.00017235286941286176, 0.0828215479850769, 0.022691108286380768, 0.014057870022952557, 0.21722933650016785, 0.0, 0.0, 0.0, 0.0, 0.0, 0.0, 0.0, 0.0, 0.0, 0.0, 0.0, 0.0, 0.0, 0.0, 0.0, 0.0, 0.0, 0.0, 0.0, 0.0, 0.0, 0.0, 0.0, 0.0, 0.0, 0.0, 0.0, 0.0, 0.0, 0.0, 0.0], [0.000497300352435559, 0.0009068957879208028, 0.000494562613312155, 0.350808322429657, 0.000924702500924468, 7.870644185459241e-05, 0.0011052504414692521, 6.244203518690483e-07, 0.0011855209013447165, 0.004522115457803011, 0.00039600153104402125, 0.001956553664058447, 0.0014104675501585007, 0.0004360379243735224, 0.0006896904669702053, 0.0005824702093377709, 0.0005751713761128485, 0.009434978477656841, 0.000434481306001544, 3.76901112986161e-07, 0.00016748470079619437, 0.004515711218118668, 0.0010680652922019362, 0.0012750189052894711, 0.00025705122970975935, 0.005782359279692173, 0.0007800800958648324, 6.346045120153576e-05, 0.0003938924928661436, 0.0015549249947071075, 0.0002193375985370949, 4.687453269980324e-07, 0.011219853535294533, 0.009725837968289852, 0.000498423702083528, 0.5819389224052429, 0.004098846577107906, 0.0, 0.0, 0.0, 0.0, 0.0, 0.0, 0.0, 0.0, 0.0, 0.0, 0.0, 0.0, 0.0, 0.0, 0.0, 0.0, 0.0, 0.0, 0.0, 0.0, 0.0, 0.0, 0.0, 0.0, 0.0, 0.0, 0.0, 0.0, 0.0, 0.0], [0.05222456529736519, 0.0028599402867257595, 0.006726054009050131, 0.02871250919997692, 0.014017220586538315, 0.001902506803162396, 0.04415144398808479, 0.0041252849623560905, 0.005148598458617926, 0.04117174074053764, 0.00995644275099039, 0.11701884120702744, 0.05265689268708229, 0.004823478404432535, 0.01816270686686039, 0.0038443177472800016, 0.013002103194594383, 0.0708136335015297, 0.0055037448182702065, 0.013398564420640469, 0.13891322910785675, 0.020705148577690125, 0.04984794184565544, 0.010596207343041897, 0.027636779472231865, 0.030567308887839317, 0.004138731397688389, 0.002902418375015259, 0.03625531122088432, 0.016516786068677902, 0.05684172362089157, 0.028768209740519524, 0.009729934856295586, 0.01186761911958456, 0.008260915987193584, 0.010350489988923073, 0.006789681036025286, 0.019090915098786354, 0.0, 0.0, 0.0, 0.0, 0.0, 0.0, 0.0, 0.0, 0.0, 0.0, 0.0, 0.0, 0.0, 0.0, 0.0, 0.0, 0.0, 0.0, 0.0, 0.0, 0.0, 0.0, 0.0, 0.0, 0.0, 0.0, 0.0, 0.0, 0.0], [0.011590572074055672, 0.0024520503357052803, 0.00917078834027052, 0.008279633708298206, 0.0018188373651355505, 0.03664173185825348, 0.008976925164461136, 0.014716782607138157, 0.009029621258378029, 0.0029879396315664053, 0.004214821849018335, 0.0032616755925118923, 0.01846347376704216, 0.03487936034798622, 0.029095517471432686, 0.0020761031191796064, 0.037621669471263885, 0.01376914419233799, 0.007073251996189356, 0.006471451837569475, 0.011443804949522018, 0.012634086422622204, 0.005936953704804182, 0.001201047096401453, 0.08279410749673843, 0.00450347363948822, 0.015998059883713722, 0.003447974333539605, 0.01342822052538395, 0.033521637320518494, 0.02406199648976326, 0.04957970604300499, 0.33876365423202515, 0.0014606979675590992, 0.02815929800271988, 0.0058896541595458984, 0.014129407703876495, 0.07844428718090057, 0.012010568752884865, 0.0, 0.0, 0.0, 0.0, 0.0, 0.0, 0.0, 0.0, 0.0, 0.0, 0.0, 0.0, 0.0, 0.0, 0.0, 0.0, 0.0, 0.0, 0.0, 0.0, 0.0, 0.0, 0.0, 0.0, 0.0, 0.0, 0.0, 0.0], [0.002718292875215411, 0.02446110174059868, 0.01787341758608818, 0.00735078938305378, 0.0006108458619564772, 0.039480581879615784, 0.02370649389922619, 0.01636643335223198, 0.02003747597336769, 0.0021873018704354763, 0.019283033907413483, 0.00043425848707556725, 0.005907615181058645, 0.04271461069583893, 0.0037202455569058657, 0.0034296633675694466, 0.024907102808356285, 0.005409302655607462, 0.02827245369553566, 0.0006900916341692209, 0.03211155906319618, 0.031897515058517456, 0.008694526739418507, 0.00029785852530039847, 0.021265484392642975, 0.07814530283212662, 0.02816358394920826, 0.001181327854283154, 0.003477132646366954, 0.06820516288280487, 0.0007955391774885356, 0.000413791072787717, 0.010310212150216103, 0.07533309608697891, 0.0051361676305532455, 0.0006350171752274036, 0.08805275708436966, 0.013559269718825817, 0.02596364915370941, 0.21679987013339996, 0.0, 0.0, 0.0, 0.0, 0.0, 0.0, 0.0, 0.0, 0.0, 0.0, 0.0, 0.0, 0.0, 0.0, 0.0, 0.0, 0.0, 0.0, 0.0, 0.0, 0.0, 0.0, 0.0, 0.0, 0.0, 0.0, 0.0], [2.3726017388980836e-05, 1.5246336261043325e-05, 2.1094932890264317e-05, 7.407479279208928e-05, 4.368969257484423e-06, 0.001149661373347044, 8.016655192477629e-05, 0.1922002136707306, 8.806227560853586e-05, 3.420151915634051e-05, 6.33631570963189e-05, 1.3263720788359024e-08, 0.00011286185326753184, 0.0011912990594282746, 6.805703742429614e-05, 0.0019805398769676685, 0.0013716607354581356, 4.8486963351024315e-05, 0.00017993302026297897, 0.00013594355550594628, 0.0006905419286340475, 0.0007588790031149983, 3.161187487421557e-05, 5.826196858293997e-09, 0.00025703938445076346, 0.001157229533419013, 3.30891452904325e-05, 0.0007879496552050114, 4.37927883467637e-05, 0.004953768104314804, 4.322246695664944e-06, 3.4970089473063126e-06, 2.3590824639541097e-05, 0.0026452592574059963, 1.161721047537867e-05, 3.427608064043852e-08, 0.0007599508389830589, 0.0005820744554512203, 6.818807742092758e-05, 0.7880726456642151, 0.00027194389258511364, 0.0, 0.0, 0.0, 0.0, 0.0, 0.0, 0.0, 0.0, 0.0, 0.0, 0.0, 0.0, 0.0, 0.0, 0.0, 0.0, 0.0, 0.0, 0.0, 0.0, 0.0, 0.0, 0.0, 0.0, 0.0, 0.0], [0.01524145994335413, 0.003481263993307948, 0.002517392858862877, 0.01013084314763546, 0.02777734026312828, 0.00029711256502196193, 0.1056172102689743, 0.0009500759188085794, 0.015417864546179771, 0.009946787729859352, 0.02822338044643402, 0.024036308750510216, 0.004379110410809517, 0.0006705184350721538, 0.0019604037515819073, 0.02278527058660984, 0.06309769302606583, 0.003803693689405918, 0.4234086573123932, 0.0002661893086042255, 0.042104657739400864, 0.012160805985331535, 0.010172856040298939, 0.0157180018723011, 0.004755444824695587, 0.0033400871325284243, 0.02350987307727337, 0.0015624864026904106, 0.006701684091240168, 0.012236461974680424, 0.007419404108077288, 0.00018347166769672185, 0.012852336280047894, 0.0033656912855803967, 0.008150623179972172, 0.009533778764307499, 0.01863877661526203, 0.0020680995658040047, 0.030577167868614197, 0.002941385144367814, 0.0017708897357806563, 0.006227423436939716, 0.0, 0.0, 0.0, 0.0, 0.0, 0.0, 0.0, 0.0, 0.0, 0.0, 0.0, 0.0, 0.0, 0.0, 0.0, 0.0, 0.0, 0.0, 0.0, 0.0, 0.0, 0.0, 0.0, 0.0, 0.0], [0.006273089908063412, 0.01987266167998314, 0.011140036396682262, 0.008482441306114197, 0.11869700998067856, 0.00011794747842941433, 0.009816360659897327, 0.001263253390789032, 0.0035858270712196827, 0.00857599452137947, 0.014216684736311436, 0.008251503109931946, 0.006952275056391954, 0.0006708544096909463, 0.008626200258731842, 0.0014940162654966116, 0.275214821100235, 0.01151355728507042, 0.06492317467927933, 0.0021759907249361277, 0.01861080713570118, 0.015600250102579594, 0.02400548756122589, 0.00864393264055252, 0.008749882690608501, 0.004962462931871414, 0.005771046970039606, 0.0017445535631850362, 0.0503380112349987, 0.008571907877922058, 0.03470854088664055, 0.008975419215857983, 0.012056580744683743, 0.024872632697224617, 0.015080059878528118, 0.06935593485832214, 0.015458822250366211, 0.0027829965110868216, 0.015016312710940838, 0.008250636979937553, 0.004691839683800936, 0.03980691730976105, 0.020081249997019768, 0.0, 0.0, 0.0, 0.0, 0.0, 0.0, 0.0, 0.0, 0.0, 0.0, 0.0, 0.0, 0.0, 0.0, 0.0, 0.0, 0.0, 0.0, 0.0, 0.0, 0.0, 0.0, 0.0, 0.0], [0.005220735911279917, 0.016201544553041458, 0.023279555141925812, 0.008362618274986744, 0.010633574798703194, 0.03539907932281494, 0.012866494245827198, 0.004567387048155069, 0.00508331460878253, 0.016123684123158455, 0.0032684491015970707, 0.02786274068057537, 0.009704657830297947, 0.007715633139014244, 0.0032758729066699743, 0.00023784776567481458, 0.002048446796834469, 0.01853003539144993, 0.006058954168111086, 0.003357884706929326, 0.013202384114265442, 0.009966481477022171, 0.010258273221552372, 0.0008981084683910012, 0.0183443371206522, 0.07294293493032455, 0.007298470940440893, 0.00012066971976310015, 0.0022960505448281765, 0.008946787565946579, 0.0034148432314395905, 0.0018525139894336462, 0.0029504485428333282, 0.10829772055149078, 0.002274240367114544, 0.00041545959538780153, 0.023165449500083923, 0.009760769084095955, 0.020983556285500526, 0.00044007840915583074, 0.030895188450813293, 0.08905668556690216, 0.012236753478646278, 0.330183207988739, 0.0, 0.0, 0.0, 0.0, 0.0, 0.0, 0.0, 0.0, 0.0, 0.0, 0.0, 0.0, 0.0, 0.0, 0.0, 0.0, 0.0, 0.0, 0.0, 0.0, 0.0, 0.0, 0.0], [8.725238149054348e-05, 0.0008740433258935809, 0.0007502310909330845, 8.84956170921214e-06, 0.0019941884092986584, 0.000328753114445135, 5.0349790399195626e-05, 0.0006487547652795911, 9.155584848485887e-05, 0.000817967695184052, 5.729008626076393e-05, 0.16710643470287323, 8.588794298702851e-05, 7.119633664842695e-05, 2.6319972675992176e-05, 8.969542619752247e-08, 1.104558032238856e-05, 0.0011598411947488785, 7.404878851957619e-05, 0.0011876133503392339, 0.000642751285340637, 0.00029430861468426883, 5.1172148232581094e-05, 0.0002613414544612169, 0.0002294142177561298, 0.0022531223949044943, 1.353176685370272e-05, 2.2835575208546288e-08, 0.00014910369645804167, 0.0001531674643047154, 5.248717570793815e-05, 0.004136181902140379, 7.01432945788838e-05, 0.003280594479292631, 1.3330148249224294e-05, 7.373171683866531e-06, 0.00023786426754668355, 0.0002460117102600634, 9.052389214048162e-05, 1.1294660851035587e-07, 0.00034936584415845573, 0.004551983438432217, 7.028565596556291e-05, 0.7938051223754883, 0.01360901165753603, 0.0, 0.0, 0.0, 0.0, 0.0, 0.0, 0.0, 0.0, 0.0, 0.0, 0.0, 0.0, 0.0, 0.0, 0.0, 0.0, 0.0, 0.0, 0.0, 0.0, 0.0, 0.0], [0.006652656942605972, 0.009855306707322598, 0.0014640477020293474, 0.01894548162817955, 0.0018207314424216747, 0.00048523975419811904, 0.06843291223049164, 0.004035411402583122, 0.018741009756922722, 0.0142968213185668, 0.03592010959982872, 0.0024633603170514107, 0.016006259247660637, 0.007443032693117857, 0.0015798715176060796, 0.04584742709994316, 0.01968884840607643, 0.0014798080082982779, 0.0011150232749059796, 0.005708188749849796, 0.005768894217908382, 0.027035029605031013, 0.043838661164045334, 0.0022990142460912466, 0.00825297087430954, 0.005702442955225706, 0.025530792772769928, 0.03788610175251961, 0.048066068440675735, 0.011231830343604088, 0.015780840069055557, 0.0009339590324088931, 0.012881172820925713, 0.0013614700874313712, 0.019628705456852913, 0.0011835760669782758, 0.04329249635338783, 0.006449850741773844, 0.3259117901325226, 0.008852646686136723, 0.0613173171877861, 0.0018302560783922672, 0.0001230568886967376, 0.0014684434281662107, 6.261358794290572e-05, 0.0013283847365528345, 0.0, 0.0, 0.0, 0.0, 0.0, 0.0, 0.0, 0.0, 0.0, 0.0, 0.0, 0.0, 0.0, 0.0, 0.0, 0.0, 0.0, 0.0, 0.0, 0.0, 0.0], [0.010265917517244816, 0.004637476056814194, 0.0039944881573319435, 0.036437418311834335, 0.0008149586501531303, 0.008606534451246262, 0.012892389670014381, 0.020643925294280052, 0.03331099823117256, 0.0046060276217758656, 0.01234551053494215, 0.0058569107204675674, 0.010976855643093586, 0.03126223012804985, 0.03066420555114746, 0.018622497096657753, 0.006654252763837576, 0.004412373527884483, 0.002112674992531538, 0.0022108929697424173, 0.01698358729481697, 0.020579401403665543, 0.013801912777125835, 0.0008780820644460618, 0.014896740205585957, 0.015186094678938389, 0.02167561650276184, 0.005407574120908976, 0.007646315731108189, 0.02216983027756214, 0.00471403356641531, 0.0005737916217185557, 0.15094545483589172, 0.0022018535528331995, 0.013316967524588108, 0.0017898126970976591, 0.030780937522649765, 0.06364636868238449, 0.02270006388425827, 0.016528630629181862, 0.09643953293561935, 0.005619652569293976, 0.005151707213371992, 0.0028332227375358343, 0.012428862042725086, 0.1586621105670929, 0.011113300919532776, 0.0, 0.0, 0.0, 0.0, 0.0, 0.0, 0.0, 0.0, 0.0, 0.0, 0.0, 0.0, 0.0, 0.0, 0.0, 0.0, 0.0, 0.0, 0.0, 0.0], [0.004605250433087349, 0.007687261328101158, 0.004194991197437048, 0.034462977200746536, 0.0017688896041363478, 0.024776995182037354, 0.00671372702345252, 0.004238886293023825, 0.006665954366326332, 0.015344834886491299, 0.0043876804411411285, 0.0039240228943526745, 0.00186094269156456, 0.03266401216387749, 0.0017860637744888663, 0.017537018284201622, 0.020554130896925926, 0.003360760398209095, 0.005396411754190922, 0.00012934193364344537, 0.009295428171753883, 0.01214732974767685, 0.005148023832589388, 0.002815237268805504, 0.008419236168265343, 0.0074798231944441795, 0.0029898120556026697, 0.0004524696269072592, 0.0038175599183887243, 0.01287822239100933, 0.0021786626894026995, 8.843676187098026e-05, 0.0014078515814617276, 0.07255058735609055, 0.003661411115899682, 0.0010568165453150868, 0.016605252400040627, 0.00699740881100297, 0.0002539769920986146, 0.0004488459671847522, 0.010772159323096275, 0.03717093542218208, 0.01782117411494255, 0.00026534407516010106, 0.22063465416431427, 0.10184556990861893, 0.019648801535367966, 0.21908871829509735, 0.0, 0.0, 0.0, 0.0, 0.0, 0.0, 0.0, 0.0, 0.0, 0.0, 0.0, 0.0, 0.0, 0.0, 0.0, 0.0, 0.0, 0.0, 0.0], [0.00043430557707324624, 8.291690028272569e-05, 6.401036807801574e-05, 0.3179246783256531, 4.707306743512163e-06, 0.0004611351469065994, 0.0004305848269723356, 7.446212748618564e-06, 0.0004709810600616038, 0.0004927432164549828, 0.0003743607085198164, 0.00020278852025512606, 0.00020150844648014754, 0.0015678234631195664, 0.000316373334499076, 0.3258103132247925, 0.0008462364203296602, 0.0003520266618579626, 9.500432497588918e-05, 2.5419976168450376e-07, 4.868890027864836e-05, 0.003659586887806654, 0.0007909529958851635, 0.0008444788982160389, 0.00028715512598864734, 0.0005338879418559372, 3.2758147426648065e-05, 0.00027012565988115966, 4.232202991261147e-05, 0.003169175237417221, 3.140727130812593e-05, 1.836492380391519e-08, 0.00013647160085383803, 0.0035980793181806803, 0.0001271561486646533, 0.0008922014385461807, 0.0002829419099725783, 0.0016942048678174615, 1.2472763728510472e-06, 1.1397339221730363e-05, 0.0002397290081717074, 0.0019585685804486275, 0.00015209820412565023, 4.934593533789666e-08, 0.0006249680882319808, 0.00740699702873826, 0.000106816143670585, 0.322304368019104, 0.0006119791651144624, 0.0, 0.0, 0.0, 0.0, 0.0, 0.0, 0.0, 0.0, 0.0, 0.0, 0.0, 0.0, 0.0, 0.0, 0.0, 0.0, 0.0, 0.0], [0.0007152788457460701, 0.0005686312797479331, 0.003018005983904004, 0.004618024453520775, 6.061213298380608e-06, 0.009720242582261562, 0.01425224356353283, 0.0023906994611024857, 0.0003353347710799426, 0.0007416519802063704, 0.013370644301176071, 0.009631208144128323, 0.0020398541819304228, 0.0015240258071571589, 0.0006497683934867382, 0.003335297340527177, 4.0184335375670344e-05, 0.0007053986191749573, 0.0022109798155725002, 0.0012678166385740042, 0.0005015280330553651, 0.0004040624189656228, 0.004103250801563263, 0.003333332482725382, 0.005881260149180889, 0.004538388457149267, 0.0004483660450205207, 0.00028255002689547837, 0.0009843186708167195, 0.0036408230662345886, 0.0021371138282120228, 0.0011623260797932744, 0.00592438131570816, 0.0011448942823335528, 0.010121874511241913, 0.0005660121096298099, 0.009788177907466888, 0.0014083527494221926, 0.0019493591971695423, 0.00030291388975456357, 0.0075628627091646194, 0.004713640082627535, 1.3454508007271215e-05, 0.004560650791972876, 0.8432020545005798, 0.000560910499189049, 0.0008582011796534061, 0.004279836546629667, 0.0016505355015397072, 0.002833201317116618, 0.0, 0.0, 0.0, 0.0, 0.0, 0.0, 0.0, 0.0, 0.0, 0.0, 0.0, 0.0, 0.0, 0.0, 0.0, 0.0, 0.0], [0.011263891123235226, 0.00043377437395974994, 0.0003157884639222175, 0.028702547773718834, 0.002780552953481674, 0.00021331624884624034, 0.03588408976793289, 0.024128185585141182, 0.0005879428936168551, 0.04487502947449684, 0.0012361053377389908, 0.0019297909457236528, 0.004276947118341923, 0.005487379617989063, 0.000814230355899781, 0.02471138909459114, 0.004087417386472225, 0.003721321700140834, 0.002472339430823922, 0.0016192541224882007, 0.0029572071507573128, 0.0021974346600472927, 0.0016066629905253649, 0.0001016281166812405, 0.0014726445078849792, 0.0023470697924494743, 0.0028559588827192783, 0.004915814381092787, 0.025002507492899895, 0.0017315567238256335, 0.0134535888209939, 0.0003153848520014435, 0.003447402035817504, 0.005063710268586874, 0.0021921684965491295, 0.0005825188709422946, 0.014570491388440132, 0.0009074230911210179, 0.002904467051848769, 0.0034162758383899927, 0.0022847570944577456, 0.00758271524682641, 0.007877282798290253, 0.00024681707145646214, 0.018619967624545097, 0.0015172504354268312, 0.6035778522491455, 0.02343634143471718, 0.009577007032930851, 0.006307300645858049, 0.027389507740736008, 0.0, 0.0, 0.0, 0.0, 0.0, 0.0, 0.0, 0.0, 0.0, 0.0, 0.0, 0.0, 0.0, 0.0, 0.0, 0.0], [0.002455604262650013, 0.007833899930119514, 0.004734258633106947, 0.000495275657158345, 0.03313278779387474, 0.0042035626247525215, 0.002400830388069153, 0.06615041196346283, 0.012623845599591732, 0.018953682854771614, 0.0006650075665675104, 0.0023068971931934357, 0.005012822337448597, 0.020469294860959053, 0.02004183456301689, 0.004419392440468073, 0.00016398563457187265, 0.017416512593626976, 0.001860454329289496, 0.020216239616274834, 0.025108305737376213, 0.0030896849930286407, 0.002586355898529291, 6.856583058834076e-05, 0.002030981471762061, 0.01689109392464161, 0.014918433502316475, 0.00301444623619318, 0.0036540573928505182, 0.001641573617234826, 0.004104758147150278, 0.0004180377582088113, 0.006478908006101847, 0.015915123745799065, 0.007845853455364704, 3.603908044169657e-05, 0.040062084794044495, 0.01638958603143692, 0.009665112011134624, 0.0019687970634549856, 0.005356023088097572, 0.0071826777420938015, 0.03186618164181709, 0.00016481384227517992, 0.0027166937943547964, 0.028277071192860603, 0.008397824130952358, 7.036104943836108e-05, 0.21161068975925446, 0.0175827257335186, 0.014094405807554722, 0.25123611092567444, 0.0, 0.0, 0.0, 0.0, 0.0, 0.0, 0.0, 0.0, 0.0, 0.0, 0.0, 0.0, 0.0, 0.0, 0.0], [7.030430424492806e-05, 4.84162155771628e-05, 2.4209919502027333e-05, 2.065018634311855e-06, 0.005064147990196943, 0.00013173613115213811, 1.1104740224254783e-05, 0.34967342019081116, 0.00015848125622142106, 0.0026762671768665314, 4.2358665268693585e-06, 3.2863106298464118e-06, 0.00019347536726854742, 0.0003205964749213308, 0.00045569834765046835, 0.0004145018174313009, 1.479828824813012e-06, 0.0005409090663306415, 1.34819965751376e-05, 0.07172185182571411, 0.0002706037776079029, 4.232977153151296e-05, 2.530653182475362e-05, 2.0156749158672937e-08, 1.6540492651984096e-05, 0.0007539268117398024, 4.701413126895204e-05, 0.0014178570127114654, 0.00019030684779863805, 1.4370917597261723e-05, 7.728069613222033e-05, 2.4251168724731542e-05, 2.0633877284126356e-05, 0.0020939817186444998, 2.0625340766855516e-05, 5.556406446061146e-09, 0.0007646988960914314, 0.00033456942765042186, 0.00012112270633224398, 0.0002932185889221728, 9.687728015705943e-05, 0.0006413831142708659, 9.696406777948141e-05, 5.917223688811646e-07, 3.152919816784561e-05, 0.0013132988242432475, 0.0002817691711243242, 1.94748697168734e-08, 0.0007318175048567355, 0.0023076003417372704, 7.450221164617687e-05, 0.5528151392936707, 0.003549997927621007, 0.0, 0.0, 0.0, 0.0, 0.0, 0.0, 0.0, 0.0, 0.0, 0.0, 0.0, 0.0, 0.0, 0.0], [0.005416653119027615, 0.003994033206254244, 0.008324970491230488, 0.06328951567411423, 0.0012497445568442345, 0.008738510310649872, 0.026246922090649605, 0.008341220207512379, 0.002816959982737899, 0.05894321948289871, 0.031509459018707275, 0.013406612910330296, 0.019549978896975517, 0.0016121432418003678, 0.00584989320486784, 0.06163065508008003, 0.0042507280595600605, 0.0014360725181177258, 0.0028932038694620132, 0.008774936199188232, 0.005137062631547451, 0.002020308282226324, 0.06588854640722275, 0.021547945216298103, 0.01463227067142725, 0.003851802321150899, 0.0028014290146529675, 0.03252328932285309, 0.008584563620388508, 0.02112097479403019, 0.02631228417158127, 0.0027627956587821245, 0.02591414377093315, 0.0032969352323561907, 0.05695609375834465, 0.018703365698456764, 0.1480056196451187, 0.017810218036174774, 0.013607630506157875, 0.022197721526026726, 0.04008079692721367, 0.01899426430463791, 0.00014372740406543016, 0.006535138934850693, 0.017444759607315063, 0.001536505646072328, 0.017606064677238464, 0.020627042278647423, 0.0060761673375964165, 0.005241837352514267, 0.007726168259978294, 0.003006841754540801, 0.0005692468257620931, 0.002461046678945422, 0.0, 0.0, 0.0, 0.0, 0.0, 0.0, 0.0, 0.0, 0.0, 0.0, 0.0, 0.0, 0.0], [0.005351662635803223, 0.006330568343400955, 0.001797402510419488, 0.03916507959365845, 0.002156326547265053, 0.001847515581175685, 0.010868130251765251, 0.003236982738599181, 0.0048416415229439735, 0.051530975848436356, 0.008493766188621521, 0.018450161442160606, 0.00656534731388092, 0.009644823148846626, 0.005924456752836704, 0.02835031971335411, 0.1429581344127655, 0.0031883567571640015, 0.0026295678690075874, 0.0031993002630770206, 0.0007767804199829698, 0.00967008899897337, 0.020200198516249657, 0.01600009575486183, 0.007496503181755543, 0.0013408518861979246, 0.0028107238467782736, 0.003681269707158208, 0.01862615905702114, 0.021738767623901367, 0.012261774390935898, 0.0023223645985126495, 0.007900324650108814, 0.015092804096639156, 0.008154395036399364, 0.01488890964537859, 0.006796129047870636, 0.017752250656485558, 0.0028850422240793705, 0.0021126752253621817, 0.05585559457540512, 0.024801479652523994, 0.0043270825408399105, 0.007011124398559332, 0.004728410392999649, 0.1035686805844307, 0.018634136766195297, 0.12305649369955063, 0.008281354792416096, 0.01106663141399622, 0.009377432987093925, 0.009420300833880901, 0.007792955730110407, 0.043779775500297546, 0.01926000975072384, 0.0, 0.0, 0.0, 0.0, 0.0, 0.0, 0.0, 0.0, 0.0, 0.0, 0.0, 0.0], [0.00206497753970325, 0.05029057338833809, 0.02166060358285904, 0.0011633242247626185, 0.0026457374915480614, 0.013954530470073223, 0.006597432773560286, 0.0008172446978278458, 0.01029081642627716, 0.0008939843974076211, 0.0019156055059283972, 0.04605487361550331, 0.0020330213010311127, 0.029958011582493782, 0.003794029587879777, 0.0032872736919671297, 0.007221987936645746, 0.01654306799173355, 0.007261084392666817, 0.0032392702996730804, 0.0003108508826699108, 0.021561643108725548, 0.001324943732470274, 0.02191818132996559, 0.0100631108507514, 0.0020381812937557697, 0.014150682836771011, 6.45529871690087e-05, 0.0010284718591719866, 0.013751392252743244, 0.001116425497457385, 0.002361202845349908, 0.00436604768037796, 0.006471976172178984, 0.007231707219034433, 0.0003735493519343436, 0.005400511436164379, 0.01182971429079771, 0.0017317106248810887, 3.733621633728035e-05, 0.006750608794391155, 0.00698102917522192, 0.007075868081301451, 0.0010667280294001102, 0.0031106900423765182, 0.04697711020708084, 0.0001061994262272492, 0.0002629398659337312, 0.11593057215213776, 0.014519001357257366, 0.002588205272331834, 0.00013406517973635346, 0.08124597370624542, 0.023681387305259705, 0.020874200388789177, 0.3098757863044739, 0.0, 0.0, 0.0, 0.0, 0.0, 0.0, 0.0, 0.0, 0.0, 0.0, 0.0], [3.285354978288524e-05, 0.0008523627184331417, 0.00025005394127219915, 5.301988039718708e-07, 1.9718794646905735e-05, 0.00034115713788196445, 7.944151730043814e-05, 7.527025900344597e-07, 0.000253691163379699, 3.9858408854343e-05, 2.758355731202755e-05, 0.19939196109771729, 6.610993750655325e-06, 0.0009948574006557465, 2.5617868232075125e-05, 2.326431740584667e-06, 0.0006220056675374508, 0.0002534499508328736, 0.00024398659297730774, 0.00014964667207095772, 2.4207818114518886e-06, 0.00032693741377443075, 6.248451882129302e-06, 0.08303471654653549, 4.595666177920066e-05, 6.732510883011855e-06, 4.9183465307578444e-05, 7.692989356655744e-09, 6.530310201924294e-06, 9.361971751786768e-05, 4.537481345323613e-06, 0.0003065408382099122, 6.927545473445207e-05, 4.3341384298400953e-05, 2.38421398535138e-05, 1.6219248209381476e-05, 1.0984440450556576e-05, 0.0003501751343719661, 3.3476728731329786e-06, 7.74752706433901e-10, 6.435597606468946e-05, 7.824532076483592e-05, 9.28033568925457e-06, 0.0001565025158924982, 3.291803295724094e-05, 0.0021659680642187595, 5.4422208961568685e-08, 3.5503239814715926e-07, 0.0004343448381405324, 0.0003131662670057267, 2.1259550067043165e-06, 1.1181966463880144e-08, 0.00189364911057055, 0.0007981639355421066, 6.791306805098429e-05, 0.689834713935852, 0.016159160062670708, 0.0, 0.0, 0.0, 0.0, 0.0, 0.0, 0.0, 0.0, 0.0, 0.0], [0.001075409702025354, 0.007603290490806103, 0.01771196909248829, 0.0020315328147262335, 8.218249604396988e-06, 0.007893885485827923, 0.013319607824087143, 0.04199611023068428, 0.0037152497097849846, 0.011623652651906013, 0.0472092367708683, 0.012692954391241074, 0.006990010850131512, 0.11160130053758621, 0.019255196675658226, 0.0744297131896019, 0.0015084714395925403, 0.001801970531232655, 0.0008296865853480995, 0.0443914532661438, 0.005508602596819401, 0.0015600824262946844, 0.01612880453467369, 0.011422308161854744, 0.006224685348570347, 0.001881691045127809, 0.0021127681247889996, 0.009622796438634396, 0.007612020708620548, 0.007006058003753424, 0.01893630251288414, 0.01905832812190056, 0.013761532492935658, 0.0016383236506953835, 0.12057636678218842, 0.0026662820018827915, 0.07478474080562592, 0.015307363122701645, 0.0015683160163462162, 0.009840271435678005, 0.04815998300909996, 0.006354065611958504, 9.584130748407915e-05, 0.004013667814433575, 0.05185781046748161, 0.006183263845741749, 0.0016742931911721826, 0.0026460180524736643, 0.029157359153032303, 0.0035718781873583794, 0.017309412360191345, 0.0034770795609802008, 0.028881613165140152, 0.0015318712685257196, 0.00012435848475433886, 0.00765626784414053, 0.0010635104263201356, 0.01133513543754816, 0.0, 0.0, 0.0, 0.0, 0.0, 0.0, 0.0, 0.0, 0.0], [0.004213003441691399, 0.0016440304461866617, 0.003067170735448599, 0.0023932037875056267, 0.0005590350483544171, 0.011211265809834003, 0.012771539390087128, 0.06636875122785568, 0.0022141970694065094, 0.0072978162206709385, 0.008484247140586376, 0.002663213759660721, 0.0023784085642546415, 0.00774817168712616, 0.00938441976904869, 0.014139262959361076, 0.00013905871310271323, 0.004692372865974903, 0.02434581331908703, 0.008696448057889938, 0.004991884808987379, 0.001007480314001441, 0.0059348950162529945, 0.001249990426003933, 0.004797334782779217, 0.008684000000357628, 0.0032479101791977882, 0.005921327043324709, 0.006157238036394119, 0.006895871367305517, 0.005235503893345594, 0.001138855586759746, 0.010715344920754433, 0.01733674854040146, 0.01362709328532219, 0.0003998721658717841, 0.021808495745062828, 0.0081194918602705, 0.003631305182352662, 0.006808330770581961, 0.014020616188645363, 0.03385758772492409, 0.003881236771121621, 0.0009195757447741926, 0.22801345586776733, 0.008608697913587093, 0.008749344386160374, 0.001816231058910489, 0.013346407562494278, 0.0611814521253109, 0.019284751266241074, 0.0728292241692543, 0.10642483085393906, 0.007734642364084721, 0.005583286285400391, 0.006708601489663124, 0.012752409093081951, 0.028891026973724365, 0.033276233822107315, 0.0, 0.0, 0.0, 0.0, 0.0, 0.0, 0.0, 0.0], [0.004340298939496279, 0.0854998379945755, 0.00961995217949152, 0.03502386063337326, 0.1360091120004654, 0.059034314006567, 0.005691497586667538, 0.0019509820267558098, 0.015578359365463257, 0.018826687708497047, 0.0028529700357466936, 0.00177294434979558, 0.009554875083267689, 0.0020927637815475464, 0.0032331899274140596, 0.021597113460302353, 0.0019622028339654207, 0.019258681684732437, 0.0011738445609807968, 0.007123258896172047, 0.0006478333380073309, 0.015188098885118961, 0.010507513768970966, 0.005160386674106121, 0.0014314387226477265, 0.01824795827269554, 0.02129453606903553, 0.008501911535859108, 0.003931120038032532, 0.0020013151224702597, 0.0021728016436100006, 0.00022015998547431082, 0.0013590336311608553, 0.02811957523226738, 0.007214029785245657, 0.0017529390752315521, 0.009334161877632141, 0.003381130052730441, 0.01269589364528656, 0.0002889164024963975, 0.01415509358048439, 0.006945453584194183, 0.004492416046559811, 0.00014769892732147127, 0.0022349185310304165, 0.022029899060726166, 0.010337014682590961, 0.000702937482856214, 0.03630317002534866, 0.015169627964496613, 0.0016609033336862922, 0.00019367695495020598, 0.007599745877087116, 0.02049570344388485, 0.02486008033156395, 0.000476204528240487, 0.09792665392160416, 0.021693289279937744, 0.007360417395830154, 0.10956765711307526, 0.0, 0.0, 0.0, 0.0, 0.0, 0.0, 0.0], [0.00030676598544232547, 0.0006673985626548529, 0.00013477308675646782, 0.11084309220314026, 0.000588425260502845, 0.000810246157925576, 7.071238360367715e-05, 1.3141711860953365e-06, 0.0002004725392907858, 0.0003398179542273283, 6.919927545823157e-05, 7.752441888442263e-07, 0.000482700124848634, 0.00012124483328079805, 9.112092084251344e-05, 0.22244711220264435, 7.6843767601531e-05, 0.00029944349080324173, 4.0237020584754646e-05, 2.5142142021650216e-06, 2.0692874386440963e-05, 0.0009700623340904713, 0.00029278709553182125, 0.00018297805218026042, 7.491814903914928e-05, 0.00034568767296150327, 0.0001294020185014233, 0.06201114505529404, 2.723892430367414e-05, 7.341831951634958e-05, 1.469651124352822e-05, 1.8764925613368177e-08, 2.5144479877781123e-05, 0.0009103298070840538, 5.362738738767803e-05, 0.0005374622414819896, 0.00020779174519702792, 8.457507647108287e-05, 8.52543453220278e-05, 8.972593786893412e-05, 0.00017665044288150966, 0.000349176290910691, 2.8628834115806967e-05, 5.585503615179732e-09, 9.843373118201271e-05, 0.00015156876179389656, 0.0005953487125225365, 0.0009663287200964987, 0.00020004301040899009, 0.00027520820731297135, 6.669929007330211e-06, 1.3576031960838009e-06, 3.665285839815624e-05, 0.0003372503269929439, 2.510535341571085e-05, 2.1779989367587405e-08, 0.0018516047857701778, 0.00046815539826638997, 4.09636486438103e-05, 0.5819605588912964, 0.00869917031377554, 0.0, 0.0, 0.0, 0.0, 0.0, 0.0], [0.0029773779679089785, 0.010321474634110928, 0.07627297192811966, 0.008707849308848381, 3.986832234659232e-05, 0.0026530942413955927, 0.04932199791073799, 0.005989613477140665, 0.0013865187065675855, 0.0015263680834323168, 0.017699331045150757, 0.012841114774346352, 0.010996167548000813, 0.058087460696697235, 0.024923253804445267, 0.01818821020424366, 3.579728945624083e-05, 0.01668970100581646, 0.000982953584752977, 0.0330791175365448, 0.004180144518613815, 0.0021596879232674837, 0.02013358287513256, 0.012167423032224178, 0.006939828395843506, 0.010886145755648613, 0.011107437312602997, 0.01885182410478592, 0.004880690015852451, 0.002582153305411339, 0.018779855221509933, 0.016301970928907394, 0.014769626781344414, 0.0017710672691464424, 0.06826663762331009, 0.006445040926337242, 0.03859225660562515, 0.010207302868366241, 0.008841863833367825, 0.004185885656625032, 0.015345570631325245, 0.00600355165079236, 0.000777323090005666, 0.00972706824541092, 0.1775367707014084, 0.003088541328907013, 0.0042551360093057156, 0.004037980921566486, 0.047673437744379044, 0.004814507905393839, 0.022934459149837494, 0.0014908590819686651, 0.024150565266609192, 0.000658271077554673, 0.00013519912317860872, 0.0016870960826054215, 0.022784017026424408, 0.006221897434443235, 0.0012259871000424027, 0.005965976044535637, 0.0006762503180652857, 0.00403882609680295, 0.0, 0.0, 0.0, 0.0, 0.0], [0.007518990896642208, 0.03433563932776451, 0.00253166351467371, 0.013696815818548203, 0.026986749842762947, 0.02063930220901966, 0.010876445099711418, 0.006252797786146402, 0.002658369019627571, 0.001980800414457917, 0.0012736325152218342, 0.00037399184657260776, 0.0017108689062297344, 0.0014951572520658374, 0.0002705033984966576, 0.013932153582572937, 0.012698188424110413, 0.002889392664656043, 0.0008706790395081043, 0.017425192520022392, 5.517553290701471e-05, 0.031148435547947884, 0.002598447958007455, 0.007961508817970753, 0.0018755280179902911, 0.002058450598269701, 0.02517150342464447, 0.020426498726010323, 0.005402046255767345, 0.009740788489580154, 0.0016737886471673846, 0.0025412740651518106, 0.0006335562793537974, 0.0022224567364901304, 0.0019370706286281347, 0.0006086033536121249, 0.0034106916282325983, 0.0012670274591073394, 0.0058922190219163895, 0.002004306996241212, 0.009600481949746609, 0.0017714856658130884, 0.0016688149189576507, 0.00019661016995087266, 0.00047119593364186585, 0.0036469551268965006, 0.010889647528529167, 0.0003465218178462237, 0.020551510155200958, 0.003105576615780592, 0.0017352921422570944, 0.0005880430107936263, 0.005085074342787266, 0.005453170742839575, 0.04220173507928848, 0.00023086478176992387, 0.0715695470571518, 0.0035507106222212315, 0.000659951358102262, 0.0028191565070301294, 0.4686967432498932, 0.014507505111396313, 0.021606668829917908, 0.0, 0.0, 0.0, 0.0], [0.0029744463972747326, 0.00845563504844904, 0.016116853803396225, 0.0011081215925514698, 0.0005632437532767653, 0.0467839278280735, 0.010537036694586277, 0.01664341427385807, 0.0034948696848005056, 0.004207348916679621, 0.021029839292168617, 0.021592216566205025, 0.0020112362690269947, 0.007182848174124956, 0.004665055777877569, 0.0013614175841212273, 0.000805411022156477, 0.0014298318419605494, 0.010615520179271698, 0.012054762803018093, 0.013721414841711521, 0.0019492352148517966, 0.019293280318379402, 0.03859125077724457, 0.013432604260742664, 0.002530534751713276, 0.012434144504368305, 0.0016337455017492175, 0.0020593879744410515, 0.011305536143481731, 0.012321531772613525, 0.014903176575899124, 0.01265936903655529, 0.001228617737069726, 0.05839342623949051, 0.0014622060116380453, 0.016979075968265533, 0.005832904018461704, 0.008031287230551243, 0.002337696496397257, 0.02159597910940647, 0.006229832768440247, 0.002276749350130558, 0.010523522272706032, 0.12697386741638184, 0.003655146574601531, 0.006359897553920746, 0.0015087868086993694, 0.06981451064348221, 0.0053005521185696125, 0.11494085192680359, 0.004943903535604477, 0.03120523877441883, 0.0027135179843753576, 0.00946902483701706, 0.03478654846549034, 0.022544758394360542, 0.009327245876193047, 0.0077586486004292965, 0.00171831832267344, 0.013386329635977745, 0.0030973535031080246, 0.040553804486989975, 0.004582202062010765, 0.0, 0.0, 0.0], [0.03337522968649864, 0.009288140572607517, 0.023238949477672577, 0.006296555045992136, 0.002054631942883134, 0.008919374085962772, 0.3022686541080475, 0.01315605640411377, 0.002277703955769539, 0.004842634778469801, 0.007052302826195955, 0.004838579334318638, 0.006731387693434954, 0.025442983955144882, 0.0030440150294452906, 0.007733820006251335, 0.0016282822471112013, 0.02340512163937092, 0.011227739974856377, 0.03542244806885719, 0.009701084345579147, 0.008767377585172653, 0.007649343926459551, 0.012857000343501568, 0.0037012076936662197, 0.008366137742996216, 0.03406083956360817, 0.015576474368572235, 0.008846098557114601, 0.007875880226492882, 0.006688489578664303, 0.02327215112745762, 0.006595500744879246, 0.0021663964726030827, 0.006213773041963577, 0.0029497628565877676, 0.01206534169614315, 0.010898295789957047, 0.011077551171183586, 0.005618245806545019, 0.0036652737762778997, 0.0135706327855587, 0.0063638705760240555, 0.005975554697215557, 0.009310009889304638, 0.0045454311184585094, 0.00987295527011156, 0.0029222918674349785, 0.025250324979424477, 0.01895378902554512, 0.0014378278283402324, 0.0038934622425585985, 0.013604494743049145, 0.0024046979378908873, 0.0057229711674153805, 0.0023372406139969826, 0.014875502325594425, 0.009512404911220074, 0.013985087163746357, 0.0026136280503124, 0.0012528876541182399, 0.02042734995484352, 0.004619962070137262, 0.0560932457447052, 0.009597508236765862, 0.0, 0.0], [0.0032423564698547125, 0.0015006758039817214, 0.0009986202931031585, 0.0006535710417665541, 0.00013983994722366333, 0.06521164625883102, 0.0026575911324471235, 0.02425074391067028, 0.0056990692391991615, 0.0018698998028412461, 0.00882349256426096, 0.00012963997141923755, 0.0018387743039056659, 0.07010825723409653, 0.003229426220059395, 0.03681650012731552, 0.012561093084514141, 0.0017066020518541336, 0.006346109788864851, 0.010626669973134995, 0.0011993242660537362, 0.006938275881111622, 0.0035249677021056414, 0.004740988370031118, 0.004518249537795782, 0.004270579665899277, 0.004127949010580778, 0.05392152816057205, 0.0041408659890294075, 0.01883683353662491, 0.0006829185294918716, 0.004853168036788702, 0.0025383883621543646, 0.0026017276104539633, 0.002355396980419755, 0.0004574453050736338, 0.002337527461349964, 0.0035169075708836317, 0.0011021109530702233, 0.02210715413093567, 0.014978705905377865, 0.004189491271972656, 0.0007639648974873126, 0.0001551020541228354, 0.011182876303792, 0.02281196229159832, 0.0013820366002619267, 0.0009037735871970654, 0.0020334634464234114, 0.008479805663228035, 0.001487337052822113, 0.0013689497718587518, 0.039380405098199844, 0.004774405620992184, 0.0036150235682725906, 0.00021988543448969722, 0.0024372499901801348, 0.025622820481657982, 0.002755104098469019, 0.007478426210582256, 0.04860054701566696, 0.00412429915741086, 0.007005310617387295, 0.002770937979221344, 0.3648846447467804, 0.009410637430846691, 0.0], [0.006264640484005213, 0.015600073151290417, 0.01661146990954876, 0.003912285435944796, 0.008377496153116226, 0.010120206512510777, 0.003872228553518653, 0.008044389076530933, 0.007872858084738255, 0.02835698425769806, 0.014003326185047626, 0.03536497801542282, 0.007725967559963465, 0.012463688850402832, 0.0195226538926363, 0.0035431240685284138, 0.00026324711507186294, 0.007524793967604637, 0.0031183697283267975, 0.007143548224121332, 0.016858471557497978, 0.006228193640708923, 0.010059015825390816, 0.022204896435141563, 0.008952118456363678, 0.035195060074329376, 0.00560861686244607, 0.0170562993735075, 0.017337698489427567, 0.014846960082650185, 0.015491385012865067, 0.032144997268915176, 0.014045109041035175, 0.012886682525277138, 0.012756106443703175, 0.04309433326125145, 0.028003312647342682, 0.00988673698157072, 0.012026242911815643, 0.008940067142248154, 0.01316772773861885, 0.012580015696585178, 0.01258996780961752, 0.0448157973587513, 0.01179689820855856, 0.027406683191657066, 0.00831817276775837, 0.017613228410482407, 0.021776100620627403, 0.022832250222563744, 0.016205668449401855, 0.00855669192969799, 0.02887117862701416, 0.01776805892586708, 0.005423391703516245, 0.03135049343109131, 0.007981610484421253, 0.02401741035282612, 0.01619534008204937, 0.009980004280805588, 0.005425480660051107, 0.00721751619130373, 0.007569541689008474, 0.001833591959439218, 0.024171994999051094, 0.006550424266606569, 0.024656187742948532]]]}\n",
                            "    )\n",
                            "    </script>"
                        ],
                        "text/plain": [
                            "<circuitsvis.utils.render.RenderedHTML at 0x321802c10>"
                        ]
                    },
                    "execution_count": 19,
                    "metadata": {},
                    "output_type": "execute_result"
                }
            ],
            "source": [
                "print(f\"Layer {layer_idx} Head Attention Patterns:\")\n",
                "cv.attention.attention_patterns(tokens=gpt2_str_tokens, attention=attention_pattern)"
            ]
        },
        {
            "attachments": {},
            "cell_type": "markdown",
            "metadata": {},
            "source": [
                "## Hooks: Intervening on Activations"
            ]
        },
        {
            "cell_type": "markdown",
            "metadata": {},
            "source": [
                "One of the great things about interpreting neural networks is that we have *full control* over our system. From a computational perspective, we know exactly what operations are going on inside (even if we don't know what they mean!). And we can make precise, surgical edits and see how the model's behaviour and other internals change. This is an extremely powerful tool, because it can let us eg set up careful counterfactuals and causal intervention to easily understand model behaviour. \n",
                "\n",
                "Accordingly, being able to do this is a pretty core operation, and this is one of the main things TransformerLens supports! The key feature here is **hook points**. Every activation inside the transformer is surrounded by a hook point, which allows us to edit or intervene on it. \n",
                "\n",
                "We do this by adding a **hook function** to that activation. The hook function maps `current_activation_value, hook_point` to `new_activation_value`. As the model is run, it computes that activation as normal, and then the hook function is applied to compute a replacement, and that is substituted in for the activation. The hook function can be an arbitrary Python function, so long as it returns a tensor of the correct shape.\n",
                "\n",
                "<details><summary>Relationship to PyTorch hooks</summary>\n",
                "\n",
                "[PyTorch hooks](https://blog.paperspace.com/pytorch-hooks-gradient-clipping-debugging/) are a great and underrated, yet incredibly janky, feature. They can act on a layer, and edit the input or output of that layer, or the gradient when applying autodiff. The key difference is that **Hook points** act on *activations* not layers. This means that you can intervene within a layer on each activation, and don't need to care about the precise layer structure of the transformer. And it's immediately clear exactly how the hook's effect is applied. This adjustment was shamelessly inspired by [Garcon's use of ProbePoints](https://transformer-circuits.pub/2021/garcon/index.html).\n",
                "\n",
                "They also come with a range of other quality of life improvements, like the model having a `model.reset_hooks()` method to remove all hooks, or helper methods to temporarily add hooks for a single forward pass - it is *incredibly* easy to shoot yourself in the foot with standard PyTorch hooks!\n",
                "</details>"
            ]
        },
        {
            "attachments": {},
            "cell_type": "markdown",
            "metadata": {},
            "source": [
                "As a basic example, let's [ablate](https://dynalist.io/d/n2ZWtnoYHrU1s4vnFSAQ519J#z=fh-HJyz1CgUVrXuoiban6bYx) head 7 in layer 0 on the text above. \n",
                "\n",
                "We define a `head_ablation_hook` function. This takes the value tensor for attention layer 0, and sets the component with `head_index==7` to zero and returns it (Note - we return by convention, but since we're editing the activation in-place, we don't strictly *need* to).\n",
                "\n",
                "We then use the `run_with_hooks` helper function to run the model and *temporarily* add in the hook for just this run. We enter in the hook as a tuple of the activation name (also the hook point name - found with `utils.get_act_name`) and the hook function."
            ]
        },
        {
            "cell_type": "code",
            "execution_count": null,
            "metadata": {},
            "outputs": [
                {
                    "name": "stdout",
                    "output_type": "stream",
                    "text": [
                        "Shape of the value tensor: torch.Size([1, 33, 12, 64])\n",
                        "Original Loss: 3.999\n",
                        "Ablated Loss: 5.453\n"
                    ]
                }
            ],
            "source": [
                "layer_to_ablate = 0\n",
                "head_index_to_ablate = 8\n",
                "\n",
                "\n",
                "# We define a head ablation hook\n",
                "# The type annotations are NOT necessary, they're just a useful guide to the reader\n",
                "#\n",
                "def head_ablation_hook(\n",
                "    value: Float[torch.Tensor, \"batch pos head_index d_head\"], hook: HookPoint\n",
                ") -> Float[torch.Tensor, \"batch pos head_index d_head\"]:\n",
                "    print(f\"Shape of the value tensor: {value.shape}\")\n",
                "    value[:, :, head_index_to_ablate, :] = 0.0\n",
                "    return value\n",
                "\n",
                "\n",
                "original_loss = model(gpt2_tokens, return_type=\"loss\")\n",
                "ablated_loss = model.run_with_hooks(\n",
                "    gpt2_tokens,\n",
                "    return_type=\"loss\",\n",
                "    fwd_hooks=[(utils.get_act_name(\"v\", layer_to_ablate), head_ablation_hook)],\n",
                ")\n",
                "print(f\"Original Loss: {original_loss.item():.3f}\")\n",
                "print(f\"Ablated Loss: {ablated_loss.item():.3f}\")"
            ]
        },
        {
            "cell_type": "markdown",
            "metadata": {},
            "source": [
                "**Gotcha:** Hooks are global state - they're added in as part of the model, and stay there until removed. `run_with_hooks` tries to create an abstraction where these are local state, by removing all hooks at the end of the function. But you can easily shoot yourself in the foot if there's, eg, an error in one of your hooks so the function never finishes. If you start getting bugs, try `model.reset_hooks()` to clean things up. Further, if you *do* add hooks of your own that you want to keep, which you can do with `add_perma_hook` on the relevant HookPoint"
            ]
        },
        {
            "cell_type": "markdown",
            "metadata": {},
            "source": [
                "### Activation Patching on the Indirect Object Identification Task"
            ]
        },
        {
            "attachments": {},
            "cell_type": "markdown",
            "metadata": {},
            "source": [
                "For a somewhat more involved example, let's use hooks to apply **[activation patching](https://dynalist.io/d/n2ZWtnoYHrU1s4vnFSAQ519J#z=qeWBvs-R-taFfcCq-S_hgMqx)** on the **[Indirect Object Identification](https://dynalist.io/d/n2ZWtnoYHrU1s4vnFSAQ519J#z=iWsV3s5Kdd2ca3zNgXr5UPHa)** (IOI) task. \n",
                "\n",
                "The IOI task is the task of identifying that a sentence like \"After John and Mary went to the store, Mary gave a bottle of milk to\" continues with \" John\" rather than \" Mary\" (ie, finding the indirect object), and Redwood Research have [an excellent paper studying the underlying circuit in GPT-2 Small](https://arxiv.org/abs/2211.00593).\n",
                "\n",
                "**[Activation patching](https://dynalist.io/d/n2ZWtnoYHrU1s4vnFSAQ519J#z=qeWBvs-R-taFfcCq-S_hgMqx)** is a technique from [Kevin Meng and David Bau's excellent ROME paper](https://rome.baulab.info/). The goal is to identify which model activations are important for completing a task. We do this by setting up a **clean prompt** and a **corrupted prompt** and a **metric** for performance on the task. We then pick a specific model activation, run the model on the corrupted prompt, but then *intervene* on that activation and patch in its value when run on the clean prompt. We then apply the metric, and see how much this patch has recovered the clean performance. \n",
                "(See [a more detailed demonstration of activation patching here](https://colab.research.google.com/github/TransformerLensOrg/TransformerLens/blob/main/demos/Exploratory_Analysis_Demo.ipynb))"
            ]
        },
        {
            "cell_type": "markdown",
            "metadata": {},
            "source": [
                "Here, our clean prompt is \"After John and Mary went to the store, **Mary** gave a bottle of milk to\", our corrupted prompt is \"After John and Mary went to the store, **John** gave a bottle of milk to\", and our metric is the difference between the correct logit ( John) and the incorrect logit ( Mary) on the final token. \n",
                "\n",
                "We see that the logit difference is significantly positive on the clean prompt, and significantly negative on the corrupted prompt, showing that the model is capable of doing the task!"
            ]
        },
        {
            "cell_type": "code",
            "execution_count": 20,
            "metadata": {},
            "outputs": [
                {
                    "name": "stdout",
                    "output_type": "stream",
                    "text": [
                        "Clean logit difference: 4.732\n",
                        "Corrupted logit difference: -10.235\n"
                    ]
                }
            ],
            "source": [
                "clean_prompt = \"o=2,e=o,v=7,t=3,e=e,q=2,t=v,l=e,n=t,v=e,m=1,o=v,o=l,t=7,h=n,s=n,#o:\"\n",
                "corrupted_prompt = \"o=2,e=o,v=7,t=3,e=e,q=2,t=v,l=e,n=t,v=e,m=1,o=v,o=l,t=7,h=n,s=n,#s:\"\n",
                "\n",
                "\n",
                "clean_tokens = model.to_tokens(clean_prompt)\n",
                "corrupted_tokens = model.to_tokens(corrupted_prompt)\n",
                "\n",
                "\n",
                "def logits_to_logit_diff(logits, correct_answer=\"2\", incorrect_answer=\"7\"):\n",
                "    # model.to_single_token maps a string value of a single token to the token index for that token\n",
                "    # If the string is not a single token, it raises an error.\n",
                "    correct_index = model.to_single_token(correct_answer)\n",
                "    incorrect_index = model.to_single_token(incorrect_answer)\n",
                "    return logits[0, -1, correct_index] - logits[0, -1, incorrect_index]\n",
                "\n",
                "\n",
                "# We run on the clean prompt with the cache so we store activations to patch in later.\n",
                "clean_logits, clean_cache = model.run_with_cache(clean_tokens)\n",
                "clean_logit_diff = logits_to_logit_diff(clean_logits)\n",
                "print(f\"Clean logit difference: {clean_logit_diff.item():.3f}\")\n",
                "\n",
                "# We don't need to cache on the corrupted prompt.\n",
                "corrupted_logits = model(corrupted_tokens)\n",
                "corrupted_logit_diff = logits_to_logit_diff(corrupted_logits)\n",
                "print(f\"Corrupted logit difference: {corrupted_logit_diff.item():.3f}\")"
            ]
        },
        {
            "attachments": {},
            "cell_type": "markdown",
            "metadata": {},
            "source": [
                "We now setup the hook function to do activation patching. Here, we'll patch in the [residual stream](https://dynalist.io/d/n2ZWtnoYHrU1s4vnFSAQ519J#z=DHp9vZ0h9lA9OCrzG2Y3rrzH) at the start of a specific layer and at a specific position. This will let us see how much the model is using the residual stream at that layer and position to represent the key information for the task. \n",
                "\n",
                "We want to iterate over all layers and positions, so we write the hook to take in an position parameter. Hook functions must have the input signature (activation, hook), but we can use `functools.partial` to set the position parameter before passing it to `run_with_hooks`"
            ]
        },
        {
            "cell_type": "code",
            "execution_count": 21,
            "metadata": {},
            "outputs": [
                {
                    "name": "stdout",
                    "output_type": "stream",
                    "text": [
                        "HookedTransformerConfig:\n",
                        "{'act_fn': 'gelu',\n",
                        " 'attention_dir': 'causal',\n",
                        " 'attn_only': False,\n",
                        " 'attn_scale': 8.0,\n",
                        " 'attn_scores_soft_cap': -1.0,\n",
                        " 'attn_types': None,\n",
                        " 'checkpoint_index': None,\n",
                        " 'checkpoint_label_type': None,\n",
                        " 'checkpoint_value': None,\n",
                        " 'd_head': 64,\n",
                        " 'd_mlp': 2048,\n",
                        " 'd_model': 512,\n",
                        " 'd_vocab': 80,\n",
                        " 'd_vocab_out': 80,\n",
                        " 'decoder_start_token_id': None,\n",
                        " 'default_prepend_bos': False,\n",
                        " 'device': device(type='cpu'),\n",
                        " 'dtype': torch.float32,\n",
                        " 'eps': 1e-05,\n",
                        " 'experts_per_token': None,\n",
                        " 'final_rms': False,\n",
                        " 'from_checkpoint': False,\n",
                        " 'gated_mlp': False,\n",
                        " 'init_mode': 'gpt2',\n",
                        " 'init_weights': False,\n",
                        " 'initializer_range': 0.035355339059327376,\n",
                        " 'load_in_4bit': False,\n",
                        " 'model_name': 'gpt2-rope',\n",
                        " 'n_ctx': 72,\n",
                        " 'n_devices': 1,\n",
                        " 'n_heads': 8,\n",
                        " 'n_key_value_heads': None,\n",
                        " 'n_layers': 12,\n",
                        " 'n_params': 37748736,\n",
                        " 'normalization_type': 'LN',\n",
                        " 'num_experts': None,\n",
                        " 'original_architecture': None,\n",
                        " 'output_logits_soft_cap': -1.0,\n",
                        " 'parallel_attn_mlp': False,\n",
                        " 'positional_embedding_type': 'rotary',\n",
                        " 'post_embedding_ln': False,\n",
                        " 'relative_attention_max_distance': None,\n",
                        " 'relative_attention_num_buckets': None,\n",
                        " 'rotary_adjacent_pairs': False,\n",
                        " 'rotary_base': 10000.0,\n",
                        " 'rotary_dim': 64,\n",
                        " 'scale_attn_by_inverse_layer_idx': False,\n",
                        " 'seed': None,\n",
                        " 'tie_word_embeddings': False,\n",
                        " 'tokenizer_name': None,\n",
                        " 'tokenizer_prepends_bos': False,\n",
                        " 'trust_remote_code': False,\n",
                        " 'use_attn_in': False,\n",
                        " 'use_attn_result': False,\n",
                        " 'use_attn_scale': True,\n",
                        " 'use_hook_mlp_in': False,\n",
                        " 'use_hook_tokens': False,\n",
                        " 'use_local_attn': False,\n",
                        " 'use_normalization_before_and_after': False,\n",
                        " 'use_split_qkv_input': False,\n",
                        " 'window_size': None}\n"
                    ]
                }
            ],
            "source": [
                "print(model.cfg)"
            ]
        },
        {
            "cell_type": "code",
            "execution_count": 23,
            "metadata": {},
            "outputs": [
                {
                    "name": "stderr",
                    "output_type": "stream",
                    "text": [
                        "huggingface/tokenizers: The current process just got forked, after parallelism has already been used. Disabling parallelism to avoid deadlocks...\n",
                        "To disable this warning, you can either:\n",
                        "\t- Avoid using `tokenizers` before the fork if possible\n",
                        "\t- Explicitly set the environment variable TOKENIZERS_PARALLELISM=(true | false)\n",
                        "100%|██████████| 12/12 [00:55<00:00,  4.60s/it]\n"
                    ]
                }
            ],
            "source": [
                "from tqdm import tqdm\n",
                "\n",
                "\n",
                "# We define a residual stream patching hook\n",
                "# We choose to act on the residual stream at the start of the layer, so we call it resid_pre\n",
                "# The type annotations are a guide to the reader and are not necessary\n",
                "def residual_stream_patching_hook(\n",
                "    resid_pre: Float[torch.Tensor, \"batch pos d_model\"], hook: HookPoint, position: int\n",
                ") -> Float[torch.Tensor, \"batch pos d_model\"]:\n",
                "    # Each HookPoint has a name attribute giving the name of the hook.\n",
                "    clean_resid_pre = clean_cache[hook.name]\n",
                "    resid_pre[:, position, :] = clean_resid_pre[:, position, :]\n",
                "    return resid_pre\n",
                "\n",
                "\n",
                "# We make a tensor to store the results for each patching run. We put it on the model's device to avoid needing to move things between the GPU and CPU, which can be slow.\n",
                "num_positions = len(clean_tokens[0])\n",
                "ioi_patching_result = torch.zeros((model.cfg.n_layers, num_positions), device=model.cfg.device)\n",
                "\n",
                "for layer in tqdm(range(model.cfg.n_layers)):\n",
                "    for position in range(num_positions):\n",
                "        # Use functools.partial to create a temporary hook function with the position fixed\n",
                "        temp_hook_fn = partial(residual_stream_patching_hook, position=position)\n",
                "        # Run the model with the patching hook\n",
                "        patched_logits = model.run_with_hooks(\n",
                "            corrupted_tokens, fwd_hooks=[(utils.get_act_name(\"resid_pre\", layer), temp_hook_fn)]\n",
                "        )\n",
                "        # Calculate the logit difference\n",
                "        patched_logit_diff = logits_to_logit_diff(patched_logits).detach()\n",
                "        # Store the result, normalizing by the clean and corrupted logit difference so it's between 0 and 1 (ish)\n",
                "        ioi_patching_result[layer, position] = (patched_logit_diff - corrupted_logit_diff) / (\n",
                "            clean_logit_diff - corrupted_logit_diff\n",
                "        )"
            ]
        },
        {
            "cell_type": "markdown",
            "metadata": {},
            "source": [
                "We can now visualize the results, and see that this computation is extremely localised within the model. Initially, the second subject (Mary) token is all that matters (naturally, as it's the only different token), and all relevant information remains here until heads in layer 7 and 8 move this to the final token where it's used to predict the indirect object.\n",
                "(Note - the heads are in layer 7 and 8, not 8 and 9, because we patched in the residual stream at the *start* of each layer)"
            ]
        },
        {
            "cell_type": "code",
            "execution_count": 24,
            "metadata": {},
            "outputs": [
                {
                    "data": {
                        "application/vnd.plotly.v1+json": {
                            "config": {
                                "plotlyServerURL": "https://plot.ly"
                            },
                            "data": [
                                {
                                    "coloraxis": "coloraxis",
                                    "hovertemplate": "Position: %{x}<br>Layer: %{y}<br>color: %{z}<extra></extra>",
                                    "name": "0",
                                    "type": "heatmap",
                                    "x": [
                                        "o_0",
                                        "=_1",
                                        "2_2",
                                        ",_3",
                                        "e_4",
                                        "=_5",
                                        "o_6",
                                        ",_7",
                                        "v_8",
                                        "=_9",
                                        "7_10",
                                        ",_11",
                                        "t_12",
                                        "=_13",
                                        "3_14",
                                        ",_15",
                                        "e_16",
                                        "=_17",
                                        "e_18",
                                        ",_19",
                                        "q_20",
                                        "=_21",
                                        "2_22",
                                        ",_23",
                                        "t_24",
                                        "=_25",
                                        "v_26",
                                        ",_27",
                                        "l_28",
                                        "=_29",
                                        "e_30",
                                        ",_31",
                                        "n_32",
                                        "=_33",
                                        "t_34",
                                        ",_35",
                                        "v_36",
                                        "=_37",
                                        "e_38",
                                        ",_39",
                                        "m_40",
                                        "=_41",
                                        "1_42",
                                        ",_43",
                                        "o_44",
                                        "=_45",
                                        "v_46",
                                        ",_47",
                                        "o_48",
                                        "=_49",
                                        "l_50",
                                        ",_51",
                                        "t_52",
                                        "=_53",
                                        "7_54",
                                        ",_55",
                                        "h_56",
                                        "=_57",
                                        "n_58",
                                        ",_59",
                                        "s_60",
                                        "=_61",
                                        "n_62",
                                        ",_63",
                                        "#_64",
                                        "o_65",
                                        ":_66"
                                    ],
                                    "xaxis": "x",
                                    "yaxis": "y",
                                    "z": [
                                        [
                                            0,
                                            0,
                                            0,
                                            0,
                                            0,
                                            0,
                                            0,
                                            0,
                                            0,
                                            0,
                                            0,
                                            0,
                                            0,
                                            0,
                                            0,
                                            0,
                                            0,
                                            0,
                                            0,
                                            0,
                                            0,
                                            0,
                                            0,
                                            0,
                                            0,
                                            0,
                                            0,
                                            0,
                                            0,
                                            0,
                                            0,
                                            0,
                                            0,
                                            0,
                                            0,
                                            0,
                                            0,
                                            0,
                                            0,
                                            0,
                                            0,
                                            0,
                                            0,
                                            0,
                                            0,
                                            0,
                                            0,
                                            0,
                                            0,
                                            0,
                                            0,
                                            0,
                                            0,
                                            0,
                                            0,
                                            0,
                                            0,
                                            0,
                                            0,
                                            0,
                                            0,
                                            0,
                                            0,
                                            0,
                                            0,
                                            1,
                                            0
                                        ],
                                        [
                                            0,
                                            0,
                                            0,
                                            0,
                                            0,
                                            0,
                                            0,
                                            0,
                                            0,
                                            0,
                                            0,
                                            0,
                                            0,
                                            0,
                                            0,
                                            0,
                                            0,
                                            0,
                                            0,
                                            0,
                                            0,
                                            0,
                                            0,
                                            0,
                                            0,
                                            0,
                                            0,
                                            0,
                                            0,
                                            0,
                                            0,
                                            0,
                                            0,
                                            0,
                                            0,
                                            0,
                                            0,
                                            0,
                                            0,
                                            0,
                                            0,
                                            0,
                                            0,
                                            0,
                                            0,
                                            0,
                                            0,
                                            0,
                                            0,
                                            0,
                                            0,
                                            0,
                                            0,
                                            0,
                                            0,
                                            0,
                                            0,
                                            0,
                                            0,
                                            0,
                                            0,
                                            0,
                                            0,
                                            0,
                                            0,
                                            0.99905455,
                                            0.000014718869
                                        ],
                                        [
                                            0,
                                            0,
                                            0,
                                            0,
                                            0,
                                            0,
                                            0,
                                            0,
                                            0,
                                            0,
                                            0,
                                            0,
                                            0,
                                            0,
                                            0,
                                            0,
                                            0,
                                            0,
                                            0,
                                            0,
                                            0,
                                            0,
                                            0,
                                            0,
                                            0,
                                            0,
                                            0,
                                            0,
                                            0,
                                            0,
                                            0,
                                            0,
                                            0,
                                            0,
                                            0,
                                            0,
                                            0,
                                            0,
                                            0,
                                            0,
                                            0,
                                            0,
                                            0,
                                            0,
                                            0,
                                            0,
                                            0,
                                            0,
                                            0,
                                            0,
                                            0,
                                            0,
                                            0,
                                            0,
                                            0,
                                            0,
                                            0,
                                            0,
                                            0,
                                            0,
                                            0,
                                            0,
                                            0,
                                            0,
                                            0,
                                            0.9990904,
                                            0.0001225298
                                        ],
                                        [
                                            0,
                                            0,
                                            0,
                                            0,
                                            0,
                                            0,
                                            0,
                                            0,
                                            0,
                                            0,
                                            0,
                                            0,
                                            0,
                                            0,
                                            0,
                                            0,
                                            0,
                                            0,
                                            0,
                                            0,
                                            0,
                                            0,
                                            0,
                                            0,
                                            0,
                                            0,
                                            0,
                                            0,
                                            0,
                                            0,
                                            0,
                                            0,
                                            0,
                                            0,
                                            0,
                                            0,
                                            0,
                                            0,
                                            0,
                                            0,
                                            0,
                                            0,
                                            0,
                                            0,
                                            0,
                                            0,
                                            0,
                                            0,
                                            0,
                                            0,
                                            0,
                                            0,
                                            0,
                                            0,
                                            0,
                                            0,
                                            0,
                                            0,
                                            0,
                                            0,
                                            0,
                                            0,
                                            0,
                                            0,
                                            0,
                                            0.99949163,
                                            -0.00026608657
                                        ],
                                        [
                                            0,
                                            0,
                                            0,
                                            0,
                                            0,
                                            0,
                                            0,
                                            0,
                                            0,
                                            0,
                                            0,
                                            0,
                                            0,
                                            0,
                                            0,
                                            0,
                                            0,
                                            0,
                                            0,
                                            0,
                                            0,
                                            0,
                                            0,
                                            0,
                                            0,
                                            0,
                                            0,
                                            0,
                                            0,
                                            0,
                                            0,
                                            0,
                                            0,
                                            0,
                                            0,
                                            0,
                                            0,
                                            0,
                                            0,
                                            0,
                                            0,
                                            0,
                                            0,
                                            0,
                                            0,
                                            0,
                                            0,
                                            0,
                                            0,
                                            0,
                                            0,
                                            0,
                                            0,
                                            0,
                                            0,
                                            0,
                                            0,
                                            0,
                                            0,
                                            0,
                                            0,
                                            0,
                                            0,
                                            0,
                                            0,
                                            1.0000666,
                                            -0.000377402
                                        ],
                                        [
                                            0,
                                            0,
                                            0,
                                            0,
                                            0,
                                            0,
                                            0,
                                            0,
                                            0,
                                            0,
                                            0,
                                            0,
                                            0,
                                            0,
                                            0,
                                            0,
                                            0,
                                            0,
                                            0,
                                            0,
                                            0,
                                            0,
                                            0,
                                            0,
                                            0,
                                            0,
                                            0,
                                            0,
                                            0,
                                            0,
                                            0,
                                            0,
                                            0,
                                            0,
                                            0,
                                            0,
                                            0,
                                            0,
                                            0,
                                            0,
                                            0,
                                            0,
                                            0,
                                            0,
                                            0,
                                            0,
                                            0,
                                            0,
                                            0,
                                            0,
                                            0,
                                            0,
                                            0,
                                            0,
                                            0,
                                            0,
                                            0,
                                            0,
                                            0,
                                            0,
                                            0,
                                            0,
                                            0,
                                            0,
                                            0,
                                            1.0012568,
                                            -0.000054733806
                                        ],
                                        [
                                            0,
                                            0,
                                            0,
                                            0,
                                            0,
                                            0,
                                            0,
                                            0,
                                            0,
                                            0,
                                            0,
                                            0,
                                            0,
                                            0,
                                            0,
                                            0,
                                            0,
                                            0,
                                            0,
                                            0,
                                            0,
                                            0,
                                            0,
                                            0,
                                            0,
                                            0,
                                            0,
                                            0,
                                            0,
                                            0,
                                            0,
                                            0,
                                            0,
                                            0,
                                            0,
                                            0,
                                            0,
                                            0,
                                            0,
                                            0,
                                            0,
                                            0,
                                            0,
                                            0,
                                            0,
                                            0,
                                            0,
                                            0,
                                            0,
                                            0,
                                            0,
                                            0,
                                            0,
                                            0,
                                            0,
                                            0,
                                            0,
                                            0,
                                            0,
                                            0,
                                            0,
                                            0,
                                            0,
                                            0,
                                            0,
                                            1.0017205,
                                            -0.00014527715
                                        ],
                                        [
                                            0,
                                            0,
                                            0,
                                            0,
                                            0,
                                            0,
                                            0,
                                            0,
                                            0,
                                            0,
                                            0,
                                            0,
                                            0,
                                            0,
                                            0,
                                            0,
                                            0,
                                            0,
                                            0,
                                            0,
                                            0,
                                            0,
                                            0,
                                            0,
                                            0,
                                            0,
                                            0,
                                            0,
                                            0,
                                            0,
                                            0,
                                            0,
                                            0,
                                            0,
                                            0,
                                            0,
                                            0,
                                            0,
                                            0,
                                            0,
                                            0,
                                            0,
                                            0,
                                            0,
                                            0,
                                            0,
                                            0,
                                            0,
                                            0,
                                            0,
                                            0,
                                            0,
                                            0,
                                            0,
                                            0,
                                            0,
                                            0,
                                            0,
                                            0,
                                            0,
                                            0,
                                            0,
                                            0,
                                            0,
                                            0,
                                            1.0012419,
                                            -0.00041391246
                                        ],
                                        [
                                            0,
                                            0,
                                            0,
                                            0,
                                            0,
                                            0,
                                            0,
                                            0,
                                            0,
                                            0,
                                            0,
                                            0,
                                            0,
                                            0,
                                            0,
                                            0,
                                            0,
                                            0,
                                            0,
                                            0,
                                            0,
                                            0,
                                            0,
                                            0,
                                            0,
                                            0,
                                            0,
                                            0,
                                            0,
                                            0,
                                            0,
                                            0,
                                            0,
                                            0,
                                            0,
                                            0,
                                            0,
                                            0,
                                            0,
                                            0,
                                            0,
                                            0,
                                            0,
                                            0,
                                            0,
                                            0,
                                            0,
                                            0,
                                            0,
                                            0,
                                            0,
                                            0,
                                            0,
                                            0,
                                            0,
                                            0,
                                            0,
                                            0,
                                            0,
                                            0,
                                            0,
                                            0,
                                            0,
                                            0,
                                            0,
                                            0.98890454,
                                            -0.0102681
                                        ],
                                        [
                                            0,
                                            0,
                                            0,
                                            0,
                                            0,
                                            0,
                                            0,
                                            0,
                                            0,
                                            0,
                                            0,
                                            0,
                                            0,
                                            0,
                                            0,
                                            0,
                                            0,
                                            0,
                                            0,
                                            0,
                                            0,
                                            0,
                                            0,
                                            0,
                                            0,
                                            0,
                                            0,
                                            0,
                                            0,
                                            0,
                                            0,
                                            0,
                                            0,
                                            0,
                                            0,
                                            0,
                                            0,
                                            0,
                                            0,
                                            0,
                                            0,
                                            0,
                                            0,
                                            0,
                                            0,
                                            0,
                                            0,
                                            0,
                                            0,
                                            0,
                                            0,
                                            0,
                                            0,
                                            0,
                                            0,
                                            0,
                                            0,
                                            0,
                                            0,
                                            0,
                                            0,
                                            0,
                                            0,
                                            0,
                                            0,
                                            0.9892585,
                                            -0.009955818
                                        ],
                                        [
                                            0,
                                            0,
                                            0,
                                            0,
                                            0,
                                            0,
                                            0,
                                            0,
                                            0,
                                            0,
                                            0,
                                            0,
                                            0,
                                            0,
                                            0,
                                            0,
                                            0,
                                            0,
                                            0,
                                            0,
                                            0,
                                            0,
                                            0,
                                            0,
                                            0,
                                            0,
                                            0,
                                            0,
                                            0,
                                            0,
                                            0,
                                            0,
                                            0,
                                            0,
                                            0,
                                            0,
                                            0,
                                            0,
                                            0,
                                            0,
                                            0,
                                            0,
                                            0,
                                            0,
                                            0,
                                            0,
                                            0,
                                            0,
                                            0,
                                            0,
                                            0,
                                            0,
                                            0,
                                            0,
                                            0,
                                            0,
                                            0,
                                            0,
                                            0,
                                            0,
                                            0,
                                            0,
                                            0,
                                            0,
                                            0,
                                            0.6336415,
                                            0.16596912
                                        ],
                                        [
                                            0,
                                            0,
                                            0,
                                            0,
                                            0,
                                            0,
                                            0,
                                            0,
                                            0,
                                            0,
                                            0,
                                            0,
                                            0,
                                            0,
                                            0,
                                            0,
                                            0,
                                            0,
                                            0,
                                            0,
                                            0,
                                            0,
                                            0,
                                            0,
                                            0,
                                            0,
                                            0,
                                            0,
                                            0,
                                            0,
                                            0,
                                            0,
                                            0,
                                            0,
                                            0,
                                            0,
                                            0,
                                            0,
                                            0,
                                            0,
                                            0,
                                            0,
                                            0,
                                            0,
                                            0,
                                            0,
                                            0,
                                            0,
                                            0,
                                            0,
                                            0,
                                            0,
                                            0,
                                            0,
                                            0,
                                            0,
                                            0,
                                            0,
                                            0,
                                            0,
                                            0,
                                            0,
                                            0,
                                            0,
                                            0,
                                            -0.0040309313,
                                            0.9648107
                                        ]
                                    ]
                                }
                            ],
                            "layout": {
                                "coloraxis": {
                                    "cmid": 0,
                                    "colorscale": [
                                        [
                                            0,
                                            "rgb(103,0,31)"
                                        ],
                                        [
                                            0.1,
                                            "rgb(178,24,43)"
                                        ],
                                        [
                                            0.2,
                                            "rgb(214,96,77)"
                                        ],
                                        [
                                            0.3,
                                            "rgb(244,165,130)"
                                        ],
                                        [
                                            0.4,
                                            "rgb(253,219,199)"
                                        ],
                                        [
                                            0.5,
                                            "rgb(247,247,247)"
                                        ],
                                        [
                                            0.6,
                                            "rgb(209,229,240)"
                                        ],
                                        [
                                            0.7,
                                            "rgb(146,197,222)"
                                        ],
                                        [
                                            0.8,
                                            "rgb(67,147,195)"
                                        ],
                                        [
                                            0.9,
                                            "rgb(33,102,172)"
                                        ],
                                        [
                                            1,
                                            "rgb(5,48,97)"
                                        ]
                                    ]
                                },
                                "template": {
                                    "data": {
                                        "bar": [
                                            {
                                                "error_x": {
                                                    "color": "#2a3f5f"
                                                },
                                                "error_y": {
                                                    "color": "#2a3f5f"
                                                },
                                                "marker": {
                                                    "line": {
                                                        "color": "#E5ECF6",
                                                        "width": 0.5
                                                    },
                                                    "pattern": {
                                                        "fillmode": "overlay",
                                                        "size": 10,
                                                        "solidity": 0.2
                                                    }
                                                },
                                                "type": "bar"
                                            }
                                        ],
                                        "barpolar": [
                                            {
                                                "marker": {
                                                    "line": {
                                                        "color": "#E5ECF6",
                                                        "width": 0.5
                                                    },
                                                    "pattern": {
                                                        "fillmode": "overlay",
                                                        "size": 10,
                                                        "solidity": 0.2
                                                    }
                                                },
                                                "type": "barpolar"
                                            }
                                        ],
                                        "carpet": [
                                            {
                                                "aaxis": {
                                                    "endlinecolor": "#2a3f5f",
                                                    "gridcolor": "white",
                                                    "linecolor": "white",
                                                    "minorgridcolor": "white",
                                                    "startlinecolor": "#2a3f5f"
                                                },
                                                "baxis": {
                                                    "endlinecolor": "#2a3f5f",
                                                    "gridcolor": "white",
                                                    "linecolor": "white",
                                                    "minorgridcolor": "white",
                                                    "startlinecolor": "#2a3f5f"
                                                },
                                                "type": "carpet"
                                            }
                                        ],
                                        "choropleth": [
                                            {
                                                "colorbar": {
                                                    "outlinewidth": 0,
                                                    "ticks": ""
                                                },
                                                "type": "choropleth"
                                            }
                                        ],
                                        "contour": [
                                            {
                                                "colorbar": {
                                                    "outlinewidth": 0,
                                                    "ticks": ""
                                                },
                                                "colorscale": [
                                                    [
                                                        0,
                                                        "#0d0887"
                                                    ],
                                                    [
                                                        0.1111111111111111,
                                                        "#46039f"
                                                    ],
                                                    [
                                                        0.2222222222222222,
                                                        "#7201a8"
                                                    ],
                                                    [
                                                        0.3333333333333333,
                                                        "#9c179e"
                                                    ],
                                                    [
                                                        0.4444444444444444,
                                                        "#bd3786"
                                                    ],
                                                    [
                                                        0.5555555555555556,
                                                        "#d8576b"
                                                    ],
                                                    [
                                                        0.6666666666666666,
                                                        "#ed7953"
                                                    ],
                                                    [
                                                        0.7777777777777778,
                                                        "#fb9f3a"
                                                    ],
                                                    [
                                                        0.8888888888888888,
                                                        "#fdca26"
                                                    ],
                                                    [
                                                        1,
                                                        "#f0f921"
                                                    ]
                                                ],
                                                "type": "contour"
                                            }
                                        ],
                                        "contourcarpet": [
                                            {
                                                "colorbar": {
                                                    "outlinewidth": 0,
                                                    "ticks": ""
                                                },
                                                "type": "contourcarpet"
                                            }
                                        ],
                                        "heatmap": [
                                            {
                                                "colorbar": {
                                                    "outlinewidth": 0,
                                                    "ticks": ""
                                                },
                                                "colorscale": [
                                                    [
                                                        0,
                                                        "#0d0887"
                                                    ],
                                                    [
                                                        0.1111111111111111,
                                                        "#46039f"
                                                    ],
                                                    [
                                                        0.2222222222222222,
                                                        "#7201a8"
                                                    ],
                                                    [
                                                        0.3333333333333333,
                                                        "#9c179e"
                                                    ],
                                                    [
                                                        0.4444444444444444,
                                                        "#bd3786"
                                                    ],
                                                    [
                                                        0.5555555555555556,
                                                        "#d8576b"
                                                    ],
                                                    [
                                                        0.6666666666666666,
                                                        "#ed7953"
                                                    ],
                                                    [
                                                        0.7777777777777778,
                                                        "#fb9f3a"
                                                    ],
                                                    [
                                                        0.8888888888888888,
                                                        "#fdca26"
                                                    ],
                                                    [
                                                        1,
                                                        "#f0f921"
                                                    ]
                                                ],
                                                "type": "heatmap"
                                            }
                                        ],
                                        "heatmapgl": [
                                            {
                                                "colorbar": {
                                                    "outlinewidth": 0,
                                                    "ticks": ""
                                                },
                                                "colorscale": [
                                                    [
                                                        0,
                                                        "#0d0887"
                                                    ],
                                                    [
                                                        0.1111111111111111,
                                                        "#46039f"
                                                    ],
                                                    [
                                                        0.2222222222222222,
                                                        "#7201a8"
                                                    ],
                                                    [
                                                        0.3333333333333333,
                                                        "#9c179e"
                                                    ],
                                                    [
                                                        0.4444444444444444,
                                                        "#bd3786"
                                                    ],
                                                    [
                                                        0.5555555555555556,
                                                        "#d8576b"
                                                    ],
                                                    [
                                                        0.6666666666666666,
                                                        "#ed7953"
                                                    ],
                                                    [
                                                        0.7777777777777778,
                                                        "#fb9f3a"
                                                    ],
                                                    [
                                                        0.8888888888888888,
                                                        "#fdca26"
                                                    ],
                                                    [
                                                        1,
                                                        "#f0f921"
                                                    ]
                                                ],
                                                "type": "heatmapgl"
                                            }
                                        ],
                                        "histogram": [
                                            {
                                                "marker": {
                                                    "pattern": {
                                                        "fillmode": "overlay",
                                                        "size": 10,
                                                        "solidity": 0.2
                                                    }
                                                },
                                                "type": "histogram"
                                            }
                                        ],
                                        "histogram2d": [
                                            {
                                                "colorbar": {
                                                    "outlinewidth": 0,
                                                    "ticks": ""
                                                },
                                                "colorscale": [
                                                    [
                                                        0,
                                                        "#0d0887"
                                                    ],
                                                    [
                                                        0.1111111111111111,
                                                        "#46039f"
                                                    ],
                                                    [
                                                        0.2222222222222222,
                                                        "#7201a8"
                                                    ],
                                                    [
                                                        0.3333333333333333,
                                                        "#9c179e"
                                                    ],
                                                    [
                                                        0.4444444444444444,
                                                        "#bd3786"
                                                    ],
                                                    [
                                                        0.5555555555555556,
                                                        "#d8576b"
                                                    ],
                                                    [
                                                        0.6666666666666666,
                                                        "#ed7953"
                                                    ],
                                                    [
                                                        0.7777777777777778,
                                                        "#fb9f3a"
                                                    ],
                                                    [
                                                        0.8888888888888888,
                                                        "#fdca26"
                                                    ],
                                                    [
                                                        1,
                                                        "#f0f921"
                                                    ]
                                                ],
                                                "type": "histogram2d"
                                            }
                                        ],
                                        "histogram2dcontour": [
                                            {
                                                "colorbar": {
                                                    "outlinewidth": 0,
                                                    "ticks": ""
                                                },
                                                "colorscale": [
                                                    [
                                                        0,
                                                        "#0d0887"
                                                    ],
                                                    [
                                                        0.1111111111111111,
                                                        "#46039f"
                                                    ],
                                                    [
                                                        0.2222222222222222,
                                                        "#7201a8"
                                                    ],
                                                    [
                                                        0.3333333333333333,
                                                        "#9c179e"
                                                    ],
                                                    [
                                                        0.4444444444444444,
                                                        "#bd3786"
                                                    ],
                                                    [
                                                        0.5555555555555556,
                                                        "#d8576b"
                                                    ],
                                                    [
                                                        0.6666666666666666,
                                                        "#ed7953"
                                                    ],
                                                    [
                                                        0.7777777777777778,
                                                        "#fb9f3a"
                                                    ],
                                                    [
                                                        0.8888888888888888,
                                                        "#fdca26"
                                                    ],
                                                    [
                                                        1,
                                                        "#f0f921"
                                                    ]
                                                ],
                                                "type": "histogram2dcontour"
                                            }
                                        ],
                                        "mesh3d": [
                                            {
                                                "colorbar": {
                                                    "outlinewidth": 0,
                                                    "ticks": ""
                                                },
                                                "type": "mesh3d"
                                            }
                                        ],
                                        "parcoords": [
                                            {
                                                "line": {
                                                    "colorbar": {
                                                        "outlinewidth": 0,
                                                        "ticks": ""
                                                    }
                                                },
                                                "type": "parcoords"
                                            }
                                        ],
                                        "pie": [
                                            {
                                                "automargin": true,
                                                "type": "pie"
                                            }
                                        ],
                                        "scatter": [
                                            {
                                                "fillpattern": {
                                                    "fillmode": "overlay",
                                                    "size": 10,
                                                    "solidity": 0.2
                                                },
                                                "type": "scatter"
                                            }
                                        ],
                                        "scatter3d": [
                                            {
                                                "line": {
                                                    "colorbar": {
                                                        "outlinewidth": 0,
                                                        "ticks": ""
                                                    }
                                                },
                                                "marker": {
                                                    "colorbar": {
                                                        "outlinewidth": 0,
                                                        "ticks": ""
                                                    }
                                                },
                                                "type": "scatter3d"
                                            }
                                        ],
                                        "scattercarpet": [
                                            {
                                                "marker": {
                                                    "colorbar": {
                                                        "outlinewidth": 0,
                                                        "ticks": ""
                                                    }
                                                },
                                                "type": "scattercarpet"
                                            }
                                        ],
                                        "scattergeo": [
                                            {
                                                "marker": {
                                                    "colorbar": {
                                                        "outlinewidth": 0,
                                                        "ticks": ""
                                                    }
                                                },
                                                "type": "scattergeo"
                                            }
                                        ],
                                        "scattergl": [
                                            {
                                                "marker": {
                                                    "colorbar": {
                                                        "outlinewidth": 0,
                                                        "ticks": ""
                                                    }
                                                },
                                                "type": "scattergl"
                                            }
                                        ],
                                        "scattermapbox": [
                                            {
                                                "marker": {
                                                    "colorbar": {
                                                        "outlinewidth": 0,
                                                        "ticks": ""
                                                    }
                                                },
                                                "type": "scattermapbox"
                                            }
                                        ],
                                        "scatterpolar": [
                                            {
                                                "marker": {
                                                    "colorbar": {
                                                        "outlinewidth": 0,
                                                        "ticks": ""
                                                    }
                                                },
                                                "type": "scatterpolar"
                                            }
                                        ],
                                        "scatterpolargl": [
                                            {
                                                "marker": {
                                                    "colorbar": {
                                                        "outlinewidth": 0,
                                                        "ticks": ""
                                                    }
                                                },
                                                "type": "scatterpolargl"
                                            }
                                        ],
                                        "scatterternary": [
                                            {
                                                "marker": {
                                                    "colorbar": {
                                                        "outlinewidth": 0,
                                                        "ticks": ""
                                                    }
                                                },
                                                "type": "scatterternary"
                                            }
                                        ],
                                        "surface": [
                                            {
                                                "colorbar": {
                                                    "outlinewidth": 0,
                                                    "ticks": ""
                                                },
                                                "colorscale": [
                                                    [
                                                        0,
                                                        "#0d0887"
                                                    ],
                                                    [
                                                        0.1111111111111111,
                                                        "#46039f"
                                                    ],
                                                    [
                                                        0.2222222222222222,
                                                        "#7201a8"
                                                    ],
                                                    [
                                                        0.3333333333333333,
                                                        "#9c179e"
                                                    ],
                                                    [
                                                        0.4444444444444444,
                                                        "#bd3786"
                                                    ],
                                                    [
                                                        0.5555555555555556,
                                                        "#d8576b"
                                                    ],
                                                    [
                                                        0.6666666666666666,
                                                        "#ed7953"
                                                    ],
                                                    [
                                                        0.7777777777777778,
                                                        "#fb9f3a"
                                                    ],
                                                    [
                                                        0.8888888888888888,
                                                        "#fdca26"
                                                    ],
                                                    [
                                                        1,
                                                        "#f0f921"
                                                    ]
                                                ],
                                                "type": "surface"
                                            }
                                        ],
                                        "table": [
                                            {
                                                "cells": {
                                                    "fill": {
                                                        "color": "#EBF0F8"
                                                    },
                                                    "line": {
                                                        "color": "white"
                                                    }
                                                },
                                                "header": {
                                                    "fill": {
                                                        "color": "#C8D4E3"
                                                    },
                                                    "line": {
                                                        "color": "white"
                                                    }
                                                },
                                                "type": "table"
                                            }
                                        ]
                                    },
                                    "layout": {
                                        "annotationdefaults": {
                                            "arrowcolor": "#2a3f5f",
                                            "arrowhead": 0,
                                            "arrowwidth": 1
                                        },
                                        "autotypenumbers": "strict",
                                        "coloraxis": {
                                            "colorbar": {
                                                "outlinewidth": 0,
                                                "ticks": ""
                                            }
                                        },
                                        "colorscale": {
                                            "diverging": [
                                                [
                                                    0,
                                                    "#8e0152"
                                                ],
                                                [
                                                    0.1,
                                                    "#c51b7d"
                                                ],
                                                [
                                                    0.2,
                                                    "#de77ae"
                                                ],
                                                [
                                                    0.3,
                                                    "#f1b6da"
                                                ],
                                                [
                                                    0.4,
                                                    "#fde0ef"
                                                ],
                                                [
                                                    0.5,
                                                    "#f7f7f7"
                                                ],
                                                [
                                                    0.6,
                                                    "#e6f5d0"
                                                ],
                                                [
                                                    0.7,
                                                    "#b8e186"
                                                ],
                                                [
                                                    0.8,
                                                    "#7fbc41"
                                                ],
                                                [
                                                    0.9,
                                                    "#4d9221"
                                                ],
                                                [
                                                    1,
                                                    "#276419"
                                                ]
                                            ],
                                            "sequential": [
                                                [
                                                    0,
                                                    "#0d0887"
                                                ],
                                                [
                                                    0.1111111111111111,
                                                    "#46039f"
                                                ],
                                                [
                                                    0.2222222222222222,
                                                    "#7201a8"
                                                ],
                                                [
                                                    0.3333333333333333,
                                                    "#9c179e"
                                                ],
                                                [
                                                    0.4444444444444444,
                                                    "#bd3786"
                                                ],
                                                [
                                                    0.5555555555555556,
                                                    "#d8576b"
                                                ],
                                                [
                                                    0.6666666666666666,
                                                    "#ed7953"
                                                ],
                                                [
                                                    0.7777777777777778,
                                                    "#fb9f3a"
                                                ],
                                                [
                                                    0.8888888888888888,
                                                    "#fdca26"
                                                ],
                                                [
                                                    1,
                                                    "#f0f921"
                                                ]
                                            ],
                                            "sequentialminus": [
                                                [
                                                    0,
                                                    "#0d0887"
                                                ],
                                                [
                                                    0.1111111111111111,
                                                    "#46039f"
                                                ],
                                                [
                                                    0.2222222222222222,
                                                    "#7201a8"
                                                ],
                                                [
                                                    0.3333333333333333,
                                                    "#9c179e"
                                                ],
                                                [
                                                    0.4444444444444444,
                                                    "#bd3786"
                                                ],
                                                [
                                                    0.5555555555555556,
                                                    "#d8576b"
                                                ],
                                                [
                                                    0.6666666666666666,
                                                    "#ed7953"
                                                ],
                                                [
                                                    0.7777777777777778,
                                                    "#fb9f3a"
                                                ],
                                                [
                                                    0.8888888888888888,
                                                    "#fdca26"
                                                ],
                                                [
                                                    1,
                                                    "#f0f921"
                                                ]
                                            ]
                                        },
                                        "colorway": [
                                            "#636efa",
                                            "#EF553B",
                                            "#00cc96",
                                            "#ab63fa",
                                            "#FFA15A",
                                            "#19d3f3",
                                            "#FF6692",
                                            "#B6E880",
                                            "#FF97FF",
                                            "#FECB52"
                                        ],
                                        "font": {
                                            "color": "#2a3f5f"
                                        },
                                        "geo": {
                                            "bgcolor": "white",
                                            "lakecolor": "white",
                                            "landcolor": "#E5ECF6",
                                            "showlakes": true,
                                            "showland": true,
                                            "subunitcolor": "white"
                                        },
                                        "hoverlabel": {
                                            "align": "left"
                                        },
                                        "hovermode": "closest",
                                        "mapbox": {
                                            "style": "light"
                                        },
                                        "paper_bgcolor": "white",
                                        "plot_bgcolor": "#E5ECF6",
                                        "polar": {
                                            "angularaxis": {
                                                "gridcolor": "white",
                                                "linecolor": "white",
                                                "ticks": ""
                                            },
                                            "bgcolor": "#E5ECF6",
                                            "radialaxis": {
                                                "gridcolor": "white",
                                                "linecolor": "white",
                                                "ticks": ""
                                            }
                                        },
                                        "scene": {
                                            "xaxis": {
                                                "backgroundcolor": "#E5ECF6",
                                                "gridcolor": "white",
                                                "gridwidth": 2,
                                                "linecolor": "white",
                                                "showbackground": true,
                                                "ticks": "",
                                                "zerolinecolor": "white"
                                            },
                                            "yaxis": {
                                                "backgroundcolor": "#E5ECF6",
                                                "gridcolor": "white",
                                                "gridwidth": 2,
                                                "linecolor": "white",
                                                "showbackground": true,
                                                "ticks": "",
                                                "zerolinecolor": "white"
                                            },
                                            "zaxis": {
                                                "backgroundcolor": "#E5ECF6",
                                                "gridcolor": "white",
                                                "gridwidth": 2,
                                                "linecolor": "white",
                                                "showbackground": true,
                                                "ticks": "",
                                                "zerolinecolor": "white"
                                            }
                                        },
                                        "shapedefaults": {
                                            "line": {
                                                "color": "#2a3f5f"
                                            }
                                        },
                                        "ternary": {
                                            "aaxis": {
                                                "gridcolor": "white",
                                                "linecolor": "white",
                                                "ticks": ""
                                            },
                                            "baxis": {
                                                "gridcolor": "white",
                                                "linecolor": "white",
                                                "ticks": ""
                                            },
                                            "bgcolor": "#E5ECF6",
                                            "caxis": {
                                                "gridcolor": "white",
                                                "linecolor": "white",
                                                "ticks": ""
                                            }
                                        },
                                        "title": {
                                            "x": 0.05
                                        },
                                        "xaxis": {
                                            "automargin": true,
                                            "gridcolor": "white",
                                            "linecolor": "white",
                                            "ticks": "",
                                            "title": {
                                                "standoff": 15
                                            },
                                            "zerolinecolor": "white",
                                            "zerolinewidth": 2
                                        },
                                        "yaxis": {
                                            "automargin": true,
                                            "gridcolor": "white",
                                            "linecolor": "white",
                                            "ticks": "",
                                            "title": {
                                                "standoff": 15
                                            },
                                            "zerolinecolor": "white",
                                            "zerolinewidth": 2
                                        }
                                    }
                                },
                                "title": {
                                    "text": "Normalized Logit Difference After Patching Residual Stream on the IOI Task"
                                },
                                "xaxis": {
                                    "anchor": "y",
                                    "constrain": "domain",
                                    "domain": [
                                        0,
                                        1
                                    ],
                                    "scaleanchor": "y",
                                    "title": {
                                        "text": "Position"
                                    }
                                },
                                "yaxis": {
                                    "anchor": "x",
                                    "autorange": "reversed",
                                    "constrain": "domain",
                                    "domain": [
                                        0,
                                        1
                                    ],
                                    "title": {
                                        "text": "Layer"
                                    }
                                }
                            }
                        }
                    },
                    "metadata": {},
                    "output_type": "display_data"
                }
            ],
            "source": [
                "# Add the index to the end of the label, because plotly doesn't like duplicate labels\n",
                "token_labels = [f\"{token}_{index}\" for index, token in enumerate(model.to_str_tokens(clean_tokens))]\n",
                "imshow(\n",
                "    ioi_patching_result,\n",
                "    x=token_labels,\n",
                "    xaxis=\"Position\",\n",
                "    yaxis=\"Layer\",\n",
                "    title=\"Normalized Logit Difference After Patching Residual Stream on the IOI Task\",\n",
                ")"
            ]
        },
        {
            "attachments": {},
            "cell_type": "markdown",
            "metadata": {},
            "source": [
                "## Hooks: Accessing Activations"
            ]
        },
        {
            "cell_type": "markdown",
            "metadata": {},
            "source": [
                "Hooks can also be used to just **access** an activation - to run some function using that activation value, *without* changing the activation value. This can be achieved by just having the hook return nothing, and not editing the activation in place. \n",
                "\n",
                "This is useful for eg extracting activations for a specific task, or for doing some long-running calculation across many inputs, eg finding the text that most activates a specific neuron. (Note - everything this can do *could* be done with `run_with_cache` and post-processing, but this workflow can be more intuitive and memory efficient.)"
            ]
        },
        {
            "cell_type": "markdown",
            "metadata": {},
            "source": [
                "To demonstrate this, let's look for **[induction heads](https://transformer-circuits.pub/2022/in-context-learning-and-induction-heads/index.html)** in GPT-2 Small. \n",
                "\n",
                "Induction circuits are a very important circuit in generative language models, which are used to detect and continue repeated subsequences. They consist of two heads in separate layers that compose together, a **previous token head** which always attends to the previous token, and an **induction head** which attends to the token *after* an earlier copy of the current token. \n",
                "\n",
                "To see why this is important, let's say that the model is trying to predict the next token in a news article about Michael Jordan. The token \" Michael\", in general, could be followed by many surnames. But an induction head will look from that occurence of \" Michael\" to the token after previous occurences of \" Michael\", ie \" Jordan\" and can confidently predict that that will come next."
            ]
        },
        {
            "cell_type": "markdown",
            "metadata": {},
            "source": [
                "An interesting fact about induction heads is that they generalise to arbitrary sequences of repeated tokens. We can see this by generating sequences of 50 random tokens, repeated twice, and plotting the average loss at predicting the next token, by position. We see that the model goes from terrible to very good at the halfway point."
            ]
        },
        {
            "cell_type": "code",
            "execution_count": null,
            "metadata": {},
            "outputs": [
                {
                    "data": {
                        "text/html": [
                            "<html>\n",
                            "<head><meta charset=\"utf-8\" /></head>\n",
                            "<body>\n",
                            "    <div>            <script src=\"https://cdnjs.cloudflare.com/ajax/libs/mathjax/2.7.5/MathJax.js?config=TeX-AMS-MML_SVG\"></script><script type=\"text/javascript\">if (window.MathJax && window.MathJax.Hub && window.MathJax.Hub.Config) {window.MathJax.Hub.Config({SVG: {font: \"STIX-Web\"}});}</script>                <script type=\"text/javascript\">window.PlotlyConfig = {MathJaxConfig: 'local'};</script>\n",
                            "        <script charset=\"utf-8\" src=\"https://cdn.plot.ly/plotly-2.26.0.min.js\"></script>                <div id=\"d3e84661-e12c-4a84-8655-2f33ba1284da\" class=\"plotly-graph-div\" style=\"height:525px; width:100%;\"></div>            <script type=\"text/javascript\">                                    window.PLOTLYENV=window.PLOTLYENV || {};                                    if (document.getElementById(\"d3e84661-e12c-4a84-8655-2f33ba1284da\")) {                    Plotly.newPlot(                        \"d3e84661-e12c-4a84-8655-2f33ba1284da\",                        [{\"hovertemplate\":\"variable=0\\u003cbr\\u003eindex=%{x}\\u003cbr\\u003evalue=%{y}\\u003cextra\\u003e\\u003c\\u002fextra\\u003e\",\"legendgroup\":\"0\",\"line\":{\"color\":\"#636efa\",\"dash\":\"solid\"},\"marker\":{\"symbol\":\"circle\"},\"mode\":\"lines\",\"name\":\"0\",\"orientation\":\"v\",\"showlegend\":true,\"x\":[0,1,2,3,4,5,6,7,8,9,10,11,12,13,14,15,16,17,18,19,20,21,22,23,24,25,26,27,28,29,30,31,32,33,34,35,36,37,38,39,40,41,42,43,44,45,46,47,48,49,50,51,52,53,54,55,56,57,58,59,60,61,62,63,64,65,66,67,68,69,70,71,72,73,74,75,76,77,78,79,80,81,82,83,84,85,86,87,88,89,90,91,92,93,94,95,96,97,98],\"xaxis\":\"x\",\"y\":[10.872052192687988,12.263540267944336,14.253204345703125,13.246556282043457,13.005993843078613,13.460993766784668,12.97065258026123,13.064518928527832,11.797075271606445,12.513029098510742,12.812576293945312,12.767385482788086,12.285192489624023,13.085138320922852,12.94897747039795,12.297746658325195,12.90766716003418,11.799567222595215,12.414271354675293,12.327254295349121,10.539899826049805,12.742929458618164,11.173940658569336,11.951539993286133,12.244311332702637,13.201930046081543,11.1293363571167,11.558095932006836,11.154999732971191,10.811470031738281,11.701059341430664,11.395160675048828,12.566507339477539,11.18510627746582,10.747629165649414,11.653327941894531,12.03685188293457,11.461939811706543,12.074749946594238,9.762995719909668,11.312043190002441,12.081087112426758,11.683740615844727,11.636404991149902,13.009252548217773,11.74526596069336,11.57121753692627,11.874940872192383,11.46745777130127,10.957990646362305,1.9599711894989014,0.8824893236160278,0.8781511187553406,0.3232020437717438,0.4251673221588135,0.25897061824798584,0.4066997468471527,0.21202726662158966,0.16516722738742828,0.11655920743942261,0.2388218641281128,0.04333684220910072,0.14030048251152039,0.1186639666557312,0.18781667947769165,0.05167889595031738,0.07741443812847137,0.08716835081577301,0.07370562106370926,0.04441319778561592,0.06953944265842438,0.030275847762823105,0.03782800957560539,0.04936334118247032,0.07152687013149261,0.11301679909229279,0.03093745745718479,0.05099482089281082,0.034429892897605896,0.010404873639345169,0.10524864494800568,0.14771051704883575,0.013218658044934273,0.1266184151172638,0.0512910857796669,0.007522976957261562,0.11803790181875229,0.1785733997821808,0.13207308948040009,0.32432517409324646,0.19658631086349487,0.07713610678911209,0.03152012079954147,0.05610422044992447,0.029515912756323814,0.02569529041647911,0.0804244875907898,0.0179621372371912,0.07805689424276352],\"yaxis\":\"y\",\"type\":\"scatter\"}],                        {\"template\":{\"data\":{\"histogram2dcontour\":[{\"type\":\"histogram2dcontour\",\"colorbar\":{\"outlinewidth\":0,\"ticks\":\"\"},\"colorscale\":[[0.0,\"#0d0887\"],[0.1111111111111111,\"#46039f\"],[0.2222222222222222,\"#7201a8\"],[0.3333333333333333,\"#9c179e\"],[0.4444444444444444,\"#bd3786\"],[0.5555555555555556,\"#d8576b\"],[0.6666666666666666,\"#ed7953\"],[0.7777777777777778,\"#fb9f3a\"],[0.8888888888888888,\"#fdca26\"],[1.0,\"#f0f921\"]]}],\"choropleth\":[{\"type\":\"choropleth\",\"colorbar\":{\"outlinewidth\":0,\"ticks\":\"\"}}],\"histogram2d\":[{\"type\":\"histogram2d\",\"colorbar\":{\"outlinewidth\":0,\"ticks\":\"\"},\"colorscale\":[[0.0,\"#0d0887\"],[0.1111111111111111,\"#46039f\"],[0.2222222222222222,\"#7201a8\"],[0.3333333333333333,\"#9c179e\"],[0.4444444444444444,\"#bd3786\"],[0.5555555555555556,\"#d8576b\"],[0.6666666666666666,\"#ed7953\"],[0.7777777777777778,\"#fb9f3a\"],[0.8888888888888888,\"#fdca26\"],[1.0,\"#f0f921\"]]}],\"heatmap\":[{\"type\":\"heatmap\",\"colorbar\":{\"outlinewidth\":0,\"ticks\":\"\"},\"colorscale\":[[0.0,\"#0d0887\"],[0.1111111111111111,\"#46039f\"],[0.2222222222222222,\"#7201a8\"],[0.3333333333333333,\"#9c179e\"],[0.4444444444444444,\"#bd3786\"],[0.5555555555555556,\"#d8576b\"],[0.6666666666666666,\"#ed7953\"],[0.7777777777777778,\"#fb9f3a\"],[0.8888888888888888,\"#fdca26\"],[1.0,\"#f0f921\"]]}],\"heatmapgl\":[{\"type\":\"heatmapgl\",\"colorbar\":{\"outlinewidth\":0,\"ticks\":\"\"},\"colorscale\":[[0.0,\"#0d0887\"],[0.1111111111111111,\"#46039f\"],[0.2222222222222222,\"#7201a8\"],[0.3333333333333333,\"#9c179e\"],[0.4444444444444444,\"#bd3786\"],[0.5555555555555556,\"#d8576b\"],[0.6666666666666666,\"#ed7953\"],[0.7777777777777778,\"#fb9f3a\"],[0.8888888888888888,\"#fdca26\"],[1.0,\"#f0f921\"]]}],\"contourcarpet\":[{\"type\":\"contourcarpet\",\"colorbar\":{\"outlinewidth\":0,\"ticks\":\"\"}}],\"contour\":[{\"type\":\"contour\",\"colorbar\":{\"outlinewidth\":0,\"ticks\":\"\"},\"colorscale\":[[0.0,\"#0d0887\"],[0.1111111111111111,\"#46039f\"],[0.2222222222222222,\"#7201a8\"],[0.3333333333333333,\"#9c179e\"],[0.4444444444444444,\"#bd3786\"],[0.5555555555555556,\"#d8576b\"],[0.6666666666666666,\"#ed7953\"],[0.7777777777777778,\"#fb9f3a\"],[0.8888888888888888,\"#fdca26\"],[1.0,\"#f0f921\"]]}],\"surface\":[{\"type\":\"surface\",\"colorbar\":{\"outlinewidth\":0,\"ticks\":\"\"},\"colorscale\":[[0.0,\"#0d0887\"],[0.1111111111111111,\"#46039f\"],[0.2222222222222222,\"#7201a8\"],[0.3333333333333333,\"#9c179e\"],[0.4444444444444444,\"#bd3786\"],[0.5555555555555556,\"#d8576b\"],[0.6666666666666666,\"#ed7953\"],[0.7777777777777778,\"#fb9f3a\"],[0.8888888888888888,\"#fdca26\"],[1.0,\"#f0f921\"]]}],\"mesh3d\":[{\"type\":\"mesh3d\",\"colorbar\":{\"outlinewidth\":0,\"ticks\":\"\"}}],\"scatter\":[{\"fillpattern\":{\"fillmode\":\"overlay\",\"size\":10,\"solidity\":0.2},\"type\":\"scatter\"}],\"parcoords\":[{\"type\":\"parcoords\",\"line\":{\"colorbar\":{\"outlinewidth\":0,\"ticks\":\"\"}}}],\"scatterpolargl\":[{\"type\":\"scatterpolargl\",\"marker\":{\"colorbar\":{\"outlinewidth\":0,\"ticks\":\"\"}}}],\"bar\":[{\"error_x\":{\"color\":\"#2a3f5f\"},\"error_y\":{\"color\":\"#2a3f5f\"},\"marker\":{\"line\":{\"color\":\"#E5ECF6\",\"width\":0.5},\"pattern\":{\"fillmode\":\"overlay\",\"size\":10,\"solidity\":0.2}},\"type\":\"bar\"}],\"scattergeo\":[{\"type\":\"scattergeo\",\"marker\":{\"colorbar\":{\"outlinewidth\":0,\"ticks\":\"\"}}}],\"scatterpolar\":[{\"type\":\"scatterpolar\",\"marker\":{\"colorbar\":{\"outlinewidth\":0,\"ticks\":\"\"}}}],\"histogram\":[{\"marker\":{\"pattern\":{\"fillmode\":\"overlay\",\"size\":10,\"solidity\":0.2}},\"type\":\"histogram\"}],\"scattergl\":[{\"type\":\"scattergl\",\"marker\":{\"colorbar\":{\"outlinewidth\":0,\"ticks\":\"\"}}}],\"scatter3d\":[{\"type\":\"scatter3d\",\"line\":{\"colorbar\":{\"outlinewidth\":0,\"ticks\":\"\"}},\"marker\":{\"colorbar\":{\"outlinewidth\":0,\"ticks\":\"\"}}}],\"scattermapbox\":[{\"type\":\"scattermapbox\",\"marker\":{\"colorbar\":{\"outlinewidth\":0,\"ticks\":\"\"}}}],\"scatterternary\":[{\"type\":\"scatterternary\",\"marker\":{\"colorbar\":{\"outlinewidth\":0,\"ticks\":\"\"}}}],\"scattercarpet\":[{\"type\":\"scattercarpet\",\"marker\":{\"colorbar\":{\"outlinewidth\":0,\"ticks\":\"\"}}}],\"carpet\":[{\"aaxis\":{\"endlinecolor\":\"#2a3f5f\",\"gridcolor\":\"white\",\"linecolor\":\"white\",\"minorgridcolor\":\"white\",\"startlinecolor\":\"#2a3f5f\"},\"baxis\":{\"endlinecolor\":\"#2a3f5f\",\"gridcolor\":\"white\",\"linecolor\":\"white\",\"minorgridcolor\":\"white\",\"startlinecolor\":\"#2a3f5f\"},\"type\":\"carpet\"}],\"table\":[{\"cells\":{\"fill\":{\"color\":\"#EBF0F8\"},\"line\":{\"color\":\"white\"}},\"header\":{\"fill\":{\"color\":\"#C8D4E3\"},\"line\":{\"color\":\"white\"}},\"type\":\"table\"}],\"barpolar\":[{\"marker\":{\"line\":{\"color\":\"#E5ECF6\",\"width\":0.5},\"pattern\":{\"fillmode\":\"overlay\",\"size\":10,\"solidity\":0.2}},\"type\":\"barpolar\"}],\"pie\":[{\"automargin\":true,\"type\":\"pie\"}]},\"layout\":{\"autotypenumbers\":\"strict\",\"colorway\":[\"#636efa\",\"#EF553B\",\"#00cc96\",\"#ab63fa\",\"#FFA15A\",\"#19d3f3\",\"#FF6692\",\"#B6E880\",\"#FF97FF\",\"#FECB52\"],\"font\":{\"color\":\"#2a3f5f\"},\"hovermode\":\"closest\",\"hoverlabel\":{\"align\":\"left\"},\"paper_bgcolor\":\"white\",\"plot_bgcolor\":\"#E5ECF6\",\"polar\":{\"bgcolor\":\"#E5ECF6\",\"angularaxis\":{\"gridcolor\":\"white\",\"linecolor\":\"white\",\"ticks\":\"\"},\"radialaxis\":{\"gridcolor\":\"white\",\"linecolor\":\"white\",\"ticks\":\"\"}},\"ternary\":{\"bgcolor\":\"#E5ECF6\",\"aaxis\":{\"gridcolor\":\"white\",\"linecolor\":\"white\",\"ticks\":\"\"},\"baxis\":{\"gridcolor\":\"white\",\"linecolor\":\"white\",\"ticks\":\"\"},\"caxis\":{\"gridcolor\":\"white\",\"linecolor\":\"white\",\"ticks\":\"\"}},\"coloraxis\":{\"colorbar\":{\"outlinewidth\":0,\"ticks\":\"\"}},\"colorscale\":{\"sequential\":[[0.0,\"#0d0887\"],[0.1111111111111111,\"#46039f\"],[0.2222222222222222,\"#7201a8\"],[0.3333333333333333,\"#9c179e\"],[0.4444444444444444,\"#bd3786\"],[0.5555555555555556,\"#d8576b\"],[0.6666666666666666,\"#ed7953\"],[0.7777777777777778,\"#fb9f3a\"],[0.8888888888888888,\"#fdca26\"],[1.0,\"#f0f921\"]],\"sequentialminus\":[[0.0,\"#0d0887\"],[0.1111111111111111,\"#46039f\"],[0.2222222222222222,\"#7201a8\"],[0.3333333333333333,\"#9c179e\"],[0.4444444444444444,\"#bd3786\"],[0.5555555555555556,\"#d8576b\"],[0.6666666666666666,\"#ed7953\"],[0.7777777777777778,\"#fb9f3a\"],[0.8888888888888888,\"#fdca26\"],[1.0,\"#f0f921\"]],\"diverging\":[[0,\"#8e0152\"],[0.1,\"#c51b7d\"],[0.2,\"#de77ae\"],[0.3,\"#f1b6da\"],[0.4,\"#fde0ef\"],[0.5,\"#f7f7f7\"],[0.6,\"#e6f5d0\"],[0.7,\"#b8e186\"],[0.8,\"#7fbc41\"],[0.9,\"#4d9221\"],[1,\"#276419\"]]},\"xaxis\":{\"gridcolor\":\"white\",\"linecolor\":\"white\",\"ticks\":\"\",\"title\":{\"standoff\":15},\"zerolinecolor\":\"white\",\"automargin\":true,\"zerolinewidth\":2},\"yaxis\":{\"gridcolor\":\"white\",\"linecolor\":\"white\",\"ticks\":\"\",\"title\":{\"standoff\":15},\"zerolinecolor\":\"white\",\"automargin\":true,\"zerolinewidth\":2},\"scene\":{\"xaxis\":{\"backgroundcolor\":\"#E5ECF6\",\"gridcolor\":\"white\",\"linecolor\":\"white\",\"showbackground\":true,\"ticks\":\"\",\"zerolinecolor\":\"white\",\"gridwidth\":2},\"yaxis\":{\"backgroundcolor\":\"#E5ECF6\",\"gridcolor\":\"white\",\"linecolor\":\"white\",\"showbackground\":true,\"ticks\":\"\",\"zerolinecolor\":\"white\",\"gridwidth\":2},\"zaxis\":{\"backgroundcolor\":\"#E5ECF6\",\"gridcolor\":\"white\",\"linecolor\":\"white\",\"showbackground\":true,\"ticks\":\"\",\"zerolinecolor\":\"white\",\"gridwidth\":2}},\"shapedefaults\":{\"line\":{\"color\":\"#2a3f5f\"}},\"annotationdefaults\":{\"arrowcolor\":\"#2a3f5f\",\"arrowhead\":0,\"arrowwidth\":1},\"geo\":{\"bgcolor\":\"white\",\"landcolor\":\"#E5ECF6\",\"subunitcolor\":\"white\",\"showland\":true,\"showlakes\":true,\"lakecolor\":\"white\"},\"title\":{\"x\":0.05},\"mapbox\":{\"style\":\"light\"}}},\"xaxis\":{\"anchor\":\"y\",\"domain\":[0.0,1.0],\"title\":{\"text\":\"index\"}},\"yaxis\":{\"anchor\":\"x\",\"domain\":[0.0,1.0],\"title\":{\"text\":\"value\"}},\"legend\":{\"title\":{\"text\":\"variable\"},\"tracegroupgap\":0},\"title\":{\"text\":\"Loss by position on random repeated tokens\"}},                        {\"responsive\": true}                    ).then(function(){\n",
                            "                            \n",
                            "var gd = document.getElementById('d3e84661-e12c-4a84-8655-2f33ba1284da');\n",
                            "var x = new MutationObserver(function (mutations, observer) {{\n",
                            "        var display = window.getComputedStyle(gd).display;\n",
                            "        if (!display || display === 'none') {{\n",
                            "            console.log([gd, 'removed!']);\n",
                            "            Plotly.purge(gd);\n",
                            "            observer.disconnect();\n",
                            "        }}\n",
                            "}});\n",
                            "\n",
                            "// Listen for the removal of the full notebook cells\n",
                            "var notebookContainer = gd.closest('#notebook-container');\n",
                            "if (notebookContainer) {{\n",
                            "    x.observe(notebookContainer, {childList: true});\n",
                            "}}\n",
                            "\n",
                            "// Listen for the clearing of the current output cell\n",
                            "var outputEl = gd.closest('.output');\n",
                            "if (outputEl) {{\n",
                            "    x.observe(outputEl, {childList: true});\n",
                            "}}\n",
                            "\n",
                            "                        })                };                            </script>        </div>\n",
                            "</body>\n",
                            "</html>"
                        ]
                    },
                    "metadata": {},
                    "output_type": "display_data"
                }
            ],
            "source": [
                "batch_size = 10\n",
                "seq_len = 50\n",
                "size = (batch_size, seq_len)\n",
                "input_tensor = torch.randint(1000, 10000, size)\n",
                "\n",
                "random_tokens = input_tensor.to(model.cfg.device)\n",
                "repeated_tokens = einops.repeat(random_tokens, \"batch seq_len -> batch (2 seq_len)\")\n",
                "repeated_logits = model(repeated_tokens)\n",
                "correct_log_probs = model.loss_fn(repeated_logits, repeated_tokens, per_token=True)\n",
                "loss_by_position = einops.reduce(correct_log_probs, \"batch position -> position\", \"mean\")\n",
                "line(\n",
                "    loss_by_position,\n",
                "    xaxis=\"Position\",\n",
                "    yaxis=\"Loss\",\n",
                "    title=\"Loss by position on random repeated tokens\",\n",
                ")"
            ]
        },
        {
            "cell_type": "markdown",
            "metadata": {},
            "source": [
                "The induction heads will be attending from the second occurence of each token to the token *after* its first occurence, ie the token `50-1==49` places back. So by looking at the average attention paid 49 tokens back, we can identify induction heads! Let's define a hook to do this!\n",
                "\n",
                "<details><summary>Technical details</summary>\n",
                "\n",
                "* We attach the hook to the attention pattern activation. There's one big pattern activation per layer, stacked across all heads, so we need to do some tensor manipulation to get a per-head score. \n",
                "* Hook functions can access global state, so we make a big tensor to store the induction head score for each head, and then we just add the score for each head to the appropriate position in the tensor. \n",
                "* To get a single hook function that works for each layer, we use the `hook.layer()` method to get the layer index (internally this is just inferred from the hook names).\n",
                "* As we want to add this to *every* activation pattern hook point, rather than giving the string for an activation name, this time we give a **name filter**. This is a Boolean function on hook point names, and it adds the hook function to every hook point where the function evaluates as true. \n",
                "    * `run_with_hooks` allows us to enter a list of (act_name, hook_function) pairs to all be added at once, so we could also have done this by inputting a list with a hook for each layer.\n",
                "</details>"
            ]
        },
        {
            "cell_type": "code",
            "execution_count": null,
            "metadata": {},
            "outputs": [
                {
                    "data": {
                        "text/html": [
                            "<html>\n",
                            "<head><meta charset=\"utf-8\" /></head>\n",
                            "<body>\n",
                            "    <div>            <script src=\"https://cdnjs.cloudflare.com/ajax/libs/mathjax/2.7.5/MathJax.js?config=TeX-AMS-MML_SVG\"></script><script type=\"text/javascript\">if (window.MathJax && window.MathJax.Hub && window.MathJax.Hub.Config) {window.MathJax.Hub.Config({SVG: {font: \"STIX-Web\"}});}</script>                <script type=\"text/javascript\">window.PlotlyConfig = {MathJaxConfig: 'local'};</script>\n",
                            "        <script charset=\"utf-8\" src=\"https://cdn.plot.ly/plotly-2.26.0.min.js\"></script>                <div id=\"190ab42e-4456-4833-a298-6f585a1583e4\" class=\"plotly-graph-div\" style=\"height:525px; width:100%;\"></div>            <script type=\"text/javascript\">                                    window.PLOTLYENV=window.PLOTLYENV || {};                                    if (document.getElementById(\"190ab42e-4456-4833-a298-6f585a1583e4\")) {                    Plotly.newPlot(                        \"190ab42e-4456-4833-a298-6f585a1583e4\",                        [{\"coloraxis\":\"coloraxis\",\"name\":\"0\",\"z\":[[0.009955878369510174,9.966958168661222e-05,0.010546973906457424,4.0583410054750857e-07,0.00022813043324276805,0.00019768899073824286,0.00977946724742651,0.0006674872129224241,0.00908320676535368,0.00915559846907854,0.006828702986240387,0.015242615714669228],[0.0011627675266936421,0.00045248764217831194,0.0021361575927585363,0.01417490839958191,0.004926139954477549,0.010640118271112442,0.015927109867334366,0.013070465996861458,0.012896527536213398,0.016126573085784912,0.006526595447212458,0.000517632404807955],[0.0044746194034814835,0.01877586357295513,0.003041735850274563,0.0019074507290497422,0.012237360700964928,0.002584304893389344,0.0039876471273601055,0.008248553611338139,0.004771647043526173,0.0017633740790188313,0.0006906316848471761,0.010382029227912426],[0.015542104840278625,0.007110548205673695,0.002217961009591818,0.012544052675366402,0.021509619429707527,0.011987114325165749,0.00174334819894284,0.0009274697513319552,0.005935505498200655,0.01233423687517643,0.009232483804225922,0.006464063189923763],[0.01664578728377819,0.014668889343738556,0.013992691412568092,0.008478098548948765,0.01899615488946438,0.012697082944214344,0.008333329111337662,0.0017152393702417612,0.01665916107594967,0.014090241864323616,0.018890956416726112,8.906972381872436e-11],[0.451614111661911,0.9170698523521423,0.01424565352499485,0.0065706996247172356,0.011130396276712418,0.9321417212486267,0.008963020518422127,0.018100803717970848,0.02871188521385193,0.029120853170752525,0.02137076109647751,0.01733485981822014],[0.008789685554802418,0.017398007214069366,0.01834423653781414,0.015153961256146431,0.02248268947005272,0.011032403446733952,0.03012258931994438,0.01068038959056139,0.009857730939984322,0.9169892072677612,0.036462243646383286,0.01406988874077797],[0.01107383705675602,0.17768746614456177,0.8614926934242249,0.019131189212203026,0.018100876361131668,0.016298996284604073,0.04784739762544632,0.08873092383146286,0.01723749376833439,0.019047973677515984,0.9243332743644714,0.06009266525506973],[0.015750497579574585,0.40704065561294556,0.014495478942990303,0.050178349018096924,0.017805716022849083,0.012079598382115364,0.15166832506656647,0.013180013746023178,0.032852329313755035,0.03178909420967102,0.06760691851377487,0.022921957075595856],[0.25689446926116943,0.19054049253463745,0.10555234551429749,0.012684683315455914,0.0927107185125351,0.026271803304553032,0.4618716239929199,0.029983991757035255,0.05182349309325218,0.4789004623889923,0.016641730442643166,0.03995012864470482],[0.339070200920105,0.5105082392692566,0.038450296968221664,0.14799615740776062,0.05797654390335083,0.01543364953249693,0.3008923828601837,0.47816023230552673,0.05431150645017624,0.015494456514716148,0.16141793131828308,0.2569926977157593],[0.017057929188013077,0.053864460438489914,0.03378748893737793,0.009234139695763588,0.03453892469406128,0.1011928990483284,0.04960957169532776,0.07048070430755615,0.009171898476779461,0.30352190136909485,0.40838193893432617,0.022866230458021164]],\"type\":\"heatmap\",\"xaxis\":\"x\",\"yaxis\":\"y\",\"hovertemplate\":\"Head: %{x}\\u003cbr\\u003eLayer: %{y}\\u003cbr\\u003ecolor: %{z}\\u003cextra\\u003e\\u003c\\u002fextra\\u003e\"}],                        {\"template\":{\"data\":{\"histogram2dcontour\":[{\"type\":\"histogram2dcontour\",\"colorbar\":{\"outlinewidth\":0,\"ticks\":\"\"},\"colorscale\":[[0.0,\"#0d0887\"],[0.1111111111111111,\"#46039f\"],[0.2222222222222222,\"#7201a8\"],[0.3333333333333333,\"#9c179e\"],[0.4444444444444444,\"#bd3786\"],[0.5555555555555556,\"#d8576b\"],[0.6666666666666666,\"#ed7953\"],[0.7777777777777778,\"#fb9f3a\"],[0.8888888888888888,\"#fdca26\"],[1.0,\"#f0f921\"]]}],\"choropleth\":[{\"type\":\"choropleth\",\"colorbar\":{\"outlinewidth\":0,\"ticks\":\"\"}}],\"histogram2d\":[{\"type\":\"histogram2d\",\"colorbar\":{\"outlinewidth\":0,\"ticks\":\"\"},\"colorscale\":[[0.0,\"#0d0887\"],[0.1111111111111111,\"#46039f\"],[0.2222222222222222,\"#7201a8\"],[0.3333333333333333,\"#9c179e\"],[0.4444444444444444,\"#bd3786\"],[0.5555555555555556,\"#d8576b\"],[0.6666666666666666,\"#ed7953\"],[0.7777777777777778,\"#fb9f3a\"],[0.8888888888888888,\"#fdca26\"],[1.0,\"#f0f921\"]]}],\"heatmap\":[{\"type\":\"heatmap\",\"colorbar\":{\"outlinewidth\":0,\"ticks\":\"\"},\"colorscale\":[[0.0,\"#0d0887\"],[0.1111111111111111,\"#46039f\"],[0.2222222222222222,\"#7201a8\"],[0.3333333333333333,\"#9c179e\"],[0.4444444444444444,\"#bd3786\"],[0.5555555555555556,\"#d8576b\"],[0.6666666666666666,\"#ed7953\"],[0.7777777777777778,\"#fb9f3a\"],[0.8888888888888888,\"#fdca26\"],[1.0,\"#f0f921\"]]}],\"heatmapgl\":[{\"type\":\"heatmapgl\",\"colorbar\":{\"outlinewidth\":0,\"ticks\":\"\"},\"colorscale\":[[0.0,\"#0d0887\"],[0.1111111111111111,\"#46039f\"],[0.2222222222222222,\"#7201a8\"],[0.3333333333333333,\"#9c179e\"],[0.4444444444444444,\"#bd3786\"],[0.5555555555555556,\"#d8576b\"],[0.6666666666666666,\"#ed7953\"],[0.7777777777777778,\"#fb9f3a\"],[0.8888888888888888,\"#fdca26\"],[1.0,\"#f0f921\"]]}],\"contourcarpet\":[{\"type\":\"contourcarpet\",\"colorbar\":{\"outlinewidth\":0,\"ticks\":\"\"}}],\"contour\":[{\"type\":\"contour\",\"colorbar\":{\"outlinewidth\":0,\"ticks\":\"\"},\"colorscale\":[[0.0,\"#0d0887\"],[0.1111111111111111,\"#46039f\"],[0.2222222222222222,\"#7201a8\"],[0.3333333333333333,\"#9c179e\"],[0.4444444444444444,\"#bd3786\"],[0.5555555555555556,\"#d8576b\"],[0.6666666666666666,\"#ed7953\"],[0.7777777777777778,\"#fb9f3a\"],[0.8888888888888888,\"#fdca26\"],[1.0,\"#f0f921\"]]}],\"surface\":[{\"type\":\"surface\",\"colorbar\":{\"outlinewidth\":0,\"ticks\":\"\"},\"colorscale\":[[0.0,\"#0d0887\"],[0.1111111111111111,\"#46039f\"],[0.2222222222222222,\"#7201a8\"],[0.3333333333333333,\"#9c179e\"],[0.4444444444444444,\"#bd3786\"],[0.5555555555555556,\"#d8576b\"],[0.6666666666666666,\"#ed7953\"],[0.7777777777777778,\"#fb9f3a\"],[0.8888888888888888,\"#fdca26\"],[1.0,\"#f0f921\"]]}],\"mesh3d\":[{\"type\":\"mesh3d\",\"colorbar\":{\"outlinewidth\":0,\"ticks\":\"\"}}],\"scatter\":[{\"fillpattern\":{\"fillmode\":\"overlay\",\"size\":10,\"solidity\":0.2},\"type\":\"scatter\"}],\"parcoords\":[{\"type\":\"parcoords\",\"line\":{\"colorbar\":{\"outlinewidth\":0,\"ticks\":\"\"}}}],\"scatterpolargl\":[{\"type\":\"scatterpolargl\",\"marker\":{\"colorbar\":{\"outlinewidth\":0,\"ticks\":\"\"}}}],\"bar\":[{\"error_x\":{\"color\":\"#2a3f5f\"},\"error_y\":{\"color\":\"#2a3f5f\"},\"marker\":{\"line\":{\"color\":\"#E5ECF6\",\"width\":0.5},\"pattern\":{\"fillmode\":\"overlay\",\"size\":10,\"solidity\":0.2}},\"type\":\"bar\"}],\"scattergeo\":[{\"type\":\"scattergeo\",\"marker\":{\"colorbar\":{\"outlinewidth\":0,\"ticks\":\"\"}}}],\"scatterpolar\":[{\"type\":\"scatterpolar\",\"marker\":{\"colorbar\":{\"outlinewidth\":0,\"ticks\":\"\"}}}],\"histogram\":[{\"marker\":{\"pattern\":{\"fillmode\":\"overlay\",\"size\":10,\"solidity\":0.2}},\"type\":\"histogram\"}],\"scattergl\":[{\"type\":\"scattergl\",\"marker\":{\"colorbar\":{\"outlinewidth\":0,\"ticks\":\"\"}}}],\"scatter3d\":[{\"type\":\"scatter3d\",\"line\":{\"colorbar\":{\"outlinewidth\":0,\"ticks\":\"\"}},\"marker\":{\"colorbar\":{\"outlinewidth\":0,\"ticks\":\"\"}}}],\"scattermapbox\":[{\"type\":\"scattermapbox\",\"marker\":{\"colorbar\":{\"outlinewidth\":0,\"ticks\":\"\"}}}],\"scatterternary\":[{\"type\":\"scatterternary\",\"marker\":{\"colorbar\":{\"outlinewidth\":0,\"ticks\":\"\"}}}],\"scattercarpet\":[{\"type\":\"scattercarpet\",\"marker\":{\"colorbar\":{\"outlinewidth\":0,\"ticks\":\"\"}}}],\"carpet\":[{\"aaxis\":{\"endlinecolor\":\"#2a3f5f\",\"gridcolor\":\"white\",\"linecolor\":\"white\",\"minorgridcolor\":\"white\",\"startlinecolor\":\"#2a3f5f\"},\"baxis\":{\"endlinecolor\":\"#2a3f5f\",\"gridcolor\":\"white\",\"linecolor\":\"white\",\"minorgridcolor\":\"white\",\"startlinecolor\":\"#2a3f5f\"},\"type\":\"carpet\"}],\"table\":[{\"cells\":{\"fill\":{\"color\":\"#EBF0F8\"},\"line\":{\"color\":\"white\"}},\"header\":{\"fill\":{\"color\":\"#C8D4E3\"},\"line\":{\"color\":\"white\"}},\"type\":\"table\"}],\"barpolar\":[{\"marker\":{\"line\":{\"color\":\"#E5ECF6\",\"width\":0.5},\"pattern\":{\"fillmode\":\"overlay\",\"size\":10,\"solidity\":0.2}},\"type\":\"barpolar\"}],\"pie\":[{\"automargin\":true,\"type\":\"pie\"}]},\"layout\":{\"autotypenumbers\":\"strict\",\"colorway\":[\"#636efa\",\"#EF553B\",\"#00cc96\",\"#ab63fa\",\"#FFA15A\",\"#19d3f3\",\"#FF6692\",\"#B6E880\",\"#FF97FF\",\"#FECB52\"],\"font\":{\"color\":\"#2a3f5f\"},\"hovermode\":\"closest\",\"hoverlabel\":{\"align\":\"left\"},\"paper_bgcolor\":\"white\",\"plot_bgcolor\":\"#E5ECF6\",\"polar\":{\"bgcolor\":\"#E5ECF6\",\"angularaxis\":{\"gridcolor\":\"white\",\"linecolor\":\"white\",\"ticks\":\"\"},\"radialaxis\":{\"gridcolor\":\"white\",\"linecolor\":\"white\",\"ticks\":\"\"}},\"ternary\":{\"bgcolor\":\"#E5ECF6\",\"aaxis\":{\"gridcolor\":\"white\",\"linecolor\":\"white\",\"ticks\":\"\"},\"baxis\":{\"gridcolor\":\"white\",\"linecolor\":\"white\",\"ticks\":\"\"},\"caxis\":{\"gridcolor\":\"white\",\"linecolor\":\"white\",\"ticks\":\"\"}},\"coloraxis\":{\"colorbar\":{\"outlinewidth\":0,\"ticks\":\"\"}},\"colorscale\":{\"sequential\":[[0.0,\"#0d0887\"],[0.1111111111111111,\"#46039f\"],[0.2222222222222222,\"#7201a8\"],[0.3333333333333333,\"#9c179e\"],[0.4444444444444444,\"#bd3786\"],[0.5555555555555556,\"#d8576b\"],[0.6666666666666666,\"#ed7953\"],[0.7777777777777778,\"#fb9f3a\"],[0.8888888888888888,\"#fdca26\"],[1.0,\"#f0f921\"]],\"sequentialminus\":[[0.0,\"#0d0887\"],[0.1111111111111111,\"#46039f\"],[0.2222222222222222,\"#7201a8\"],[0.3333333333333333,\"#9c179e\"],[0.4444444444444444,\"#bd3786\"],[0.5555555555555556,\"#d8576b\"],[0.6666666666666666,\"#ed7953\"],[0.7777777777777778,\"#fb9f3a\"],[0.8888888888888888,\"#fdca26\"],[1.0,\"#f0f921\"]],\"diverging\":[[0,\"#8e0152\"],[0.1,\"#c51b7d\"],[0.2,\"#de77ae\"],[0.3,\"#f1b6da\"],[0.4,\"#fde0ef\"],[0.5,\"#f7f7f7\"],[0.6,\"#e6f5d0\"],[0.7,\"#b8e186\"],[0.8,\"#7fbc41\"],[0.9,\"#4d9221\"],[1,\"#276419\"]]},\"xaxis\":{\"gridcolor\":\"white\",\"linecolor\":\"white\",\"ticks\":\"\",\"title\":{\"standoff\":15},\"zerolinecolor\":\"white\",\"automargin\":true,\"zerolinewidth\":2},\"yaxis\":{\"gridcolor\":\"white\",\"linecolor\":\"white\",\"ticks\":\"\",\"title\":{\"standoff\":15},\"zerolinecolor\":\"white\",\"automargin\":true,\"zerolinewidth\":2},\"scene\":{\"xaxis\":{\"backgroundcolor\":\"#E5ECF6\",\"gridcolor\":\"white\",\"linecolor\":\"white\",\"showbackground\":true,\"ticks\":\"\",\"zerolinecolor\":\"white\",\"gridwidth\":2},\"yaxis\":{\"backgroundcolor\":\"#E5ECF6\",\"gridcolor\":\"white\",\"linecolor\":\"white\",\"showbackground\":true,\"ticks\":\"\",\"zerolinecolor\":\"white\",\"gridwidth\":2},\"zaxis\":{\"backgroundcolor\":\"#E5ECF6\",\"gridcolor\":\"white\",\"linecolor\":\"white\",\"showbackground\":true,\"ticks\":\"\",\"zerolinecolor\":\"white\",\"gridwidth\":2}},\"shapedefaults\":{\"line\":{\"color\":\"#2a3f5f\"}},\"annotationdefaults\":{\"arrowcolor\":\"#2a3f5f\",\"arrowhead\":0,\"arrowwidth\":1},\"geo\":{\"bgcolor\":\"white\",\"landcolor\":\"#E5ECF6\",\"subunitcolor\":\"white\",\"showland\":true,\"showlakes\":true,\"lakecolor\":\"white\"},\"title\":{\"x\":0.05},\"mapbox\":{\"style\":\"light\"}}},\"xaxis\":{\"anchor\":\"y\",\"domain\":[0.0,1.0],\"scaleanchor\":\"y\",\"constrain\":\"domain\",\"title\":{\"text\":\"Head\"}},\"yaxis\":{\"anchor\":\"x\",\"domain\":[0.0,1.0],\"autorange\":\"reversed\",\"constrain\":\"domain\",\"title\":{\"text\":\"Layer\"}},\"coloraxis\":{\"colorscale\":[[0.0,\"rgb(103,0,31)\"],[0.1,\"rgb(178,24,43)\"],[0.2,\"rgb(214,96,77)\"],[0.3,\"rgb(244,165,130)\"],[0.4,\"rgb(253,219,199)\"],[0.5,\"rgb(247,247,247)\"],[0.6,\"rgb(209,229,240)\"],[0.7,\"rgb(146,197,222)\"],[0.8,\"rgb(67,147,195)\"],[0.9,\"rgb(33,102,172)\"],[1.0,\"rgb(5,48,97)\"]],\"cmid\":0.0},\"title\":{\"text\":\"Induction Score by Head\"}},                        {\"responsive\": true}                    ).then(function(){\n",
                            "                            \n",
                            "var gd = document.getElementById('190ab42e-4456-4833-a298-6f585a1583e4');\n",
                            "var x = new MutationObserver(function (mutations, observer) {{\n",
                            "        var display = window.getComputedStyle(gd).display;\n",
                            "        if (!display || display === 'none') {{\n",
                            "            console.log([gd, 'removed!']);\n",
                            "            Plotly.purge(gd);\n",
                            "            observer.disconnect();\n",
                            "        }}\n",
                            "}});\n",
                            "\n",
                            "// Listen for the removal of the full notebook cells\n",
                            "var notebookContainer = gd.closest('#notebook-container');\n",
                            "if (notebookContainer) {{\n",
                            "    x.observe(notebookContainer, {childList: true});\n",
                            "}}\n",
                            "\n",
                            "// Listen for the clearing of the current output cell\n",
                            "var outputEl = gd.closest('.output');\n",
                            "if (outputEl) {{\n",
                            "    x.observe(outputEl, {childList: true});\n",
                            "}}\n",
                            "\n",
                            "                        })                };                            </script>        </div>\n",
                            "</body>\n",
                            "</html>"
                        ]
                    },
                    "metadata": {},
                    "output_type": "display_data"
                }
            ],
            "source": [
                "# We make a tensor to store the induction score for each head. We put it on the model's device to avoid needing to move things between the GPU and CPU, which can be slow.\n",
                "induction_score_store = torch.zeros(\n",
                "    (model.cfg.n_layers, model.cfg.n_heads), device=model.cfg.device\n",
                ")\n",
                "\n",
                "\n",
                "def induction_score_hook(\n",
                "    pattern: Float[torch.Tensor, \"batch head_index dest_pos source_pos\"],\n",
                "    hook: HookPoint,\n",
                "):\n",
                "    # We take the diagonal of attention paid from each destination position to source positions seq_len-1 tokens back\n",
                "    # (This only has entries for tokens with index>=seq_len)\n",
                "    induction_stripe = pattern.diagonal(dim1=-2, dim2=-1, offset=1 - seq_len)\n",
                "    # Get an average score per head\n",
                "    induction_score = einops.reduce(\n",
                "        induction_stripe, \"batch head_index position -> head_index\", \"mean\"\n",
                "    )\n",
                "    # Store the result.\n",
                "    induction_score_store[hook.layer(), :] = induction_score\n",
                "\n",
                "\n",
                "# We make a boolean filter on activation names, that's true only on attention pattern names.\n",
                "pattern_hook_names_filter = lambda name: name.endswith(\"pattern\")\n",
                "\n",
                "model.run_with_hooks(\n",
                "    repeated_tokens,\n",
                "    return_type=None,  # For efficiency, we don't need to calculate the logits\n",
                "    fwd_hooks=[(pattern_hook_names_filter, induction_score_hook)],\n",
                ")\n",
                "\n",
                "imshow(induction_score_store, xaxis=\"Head\", yaxis=\"Layer\", title=\"Induction Score by Head\")"
            ]
        },
        {
            "cell_type": "markdown",
            "metadata": {},
            "source": [
                "Head 5 in Layer 5 scores extremely highly on this score, and we can feed in a shorter repeated random sequence, visualize the attention pattern for it and see this directly - including the \"induction stripe\" at `seq_len-1` tokens back.\n",
                "\n",
                "This time we put in a hook on the attention pattern activation to visualize the pattern of the relevant head."
            ]
        },
        {
            "cell_type": "code",
            "execution_count": null,
            "metadata": {},
            "outputs": [
                {
                    "data": {
                        "text/html": [
                            "<div id=\"circuits-vis-fcf89ad6-45d6\" style=\"margin: 15px 0;\"/>\n",
                            "    <script crossorigin type=\"module\">\n",
                            "    import { render, AttentionPatterns } from \"https://unpkg.com/circuitsvis@1.43.0/dist/cdn/esm.js\";\n",
                            "    render(\n",
                            "      \"circuits-vis-fcf89ad6-45d6\",\n",
                            "      AttentionPatterns,\n",
                            "      {\"tokens\": [\"use\", \" advice\", \" Social\", \"\\u00f6\", \"\\u00b7\", \" fought\", \" Le\", \" allegedly\", \" NO\", \"alth\", \"car\", \" prepared\", \"new\", \"rant\", \"roll\", \" hours\", \" published\", \"66\", \"ension\", \" 44\", \"use\", \" advice\", \" Social\", \"\\u00f6\", \"\\u00b7\", \" fought\", \" Le\", \" allegedly\", \" NO\", \"alth\", \"car\", \" prepared\", \"new\", \"rant\", \"roll\", \" hours\", \" published\", \"66\", \"ension\", \" 44\"], \"attention\": [[[1.0, 0.0, 0.0, 0.0, 0.0, 0.0, 0.0, 0.0, 0.0, 0.0, 0.0, 0.0, 0.0, 0.0, 0.0, 0.0, 0.0, 0.0, 0.0, 0.0, 0.0, 0.0, 0.0, 0.0, 0.0, 0.0, 0.0, 0.0, 0.0, 0.0, 0.0, 0.0, 0.0, 0.0, 0.0, 0.0, 0.0, 0.0, 0.0, 0.0], [0.9737270474433899, 0.0262729711830616, 0.0, 0.0, 0.0, 0.0, 0.0, 0.0, 0.0, 0.0, 0.0, 0.0, 0.0, 0.0, 0.0, 0.0, 0.0, 0.0, 0.0, 0.0, 0.0, 0.0, 0.0, 0.0, 0.0, 0.0, 0.0, 0.0, 0.0, 0.0, 0.0, 0.0, 0.0, 0.0, 0.0, 0.0, 0.0, 0.0, 0.0, 0.0], [0.9820428490638733, 0.017020266503095627, 0.0009368456667289138, 0.0, 0.0, 0.0, 0.0, 0.0, 0.0, 0.0, 0.0, 0.0, 0.0, 0.0, 0.0, 0.0, 0.0, 0.0, 0.0, 0.0, 0.0, 0.0, 0.0, 0.0, 0.0, 0.0, 0.0, 0.0, 0.0, 0.0, 0.0, 0.0, 0.0, 0.0, 0.0, 0.0, 0.0, 0.0, 0.0, 0.0], [0.9895542860031128, 0.00866580568253994, 0.0004119748482480645, 0.0013679902767762542, 0.0, 0.0, 0.0, 0.0, 0.0, 0.0, 0.0, 0.0, 0.0, 0.0, 0.0, 0.0, 0.0, 0.0, 0.0, 0.0, 0.0, 0.0, 0.0, 0.0, 0.0, 0.0, 0.0, 0.0, 0.0, 0.0, 0.0, 0.0, 0.0, 0.0, 0.0, 0.0, 0.0, 0.0, 0.0, 0.0], [0.8543053865432739, 0.0780181884765625, 0.0008415378979407251, 0.00013599172234535217, 0.06669897586107254, 0.0, 0.0, 0.0, 0.0, 0.0, 0.0, 0.0, 0.0, 0.0, 0.0, 0.0, 0.0, 0.0, 0.0, 0.0, 0.0, 0.0, 0.0, 0.0, 0.0, 0.0, 0.0, 0.0, 0.0, 0.0, 0.0, 0.0, 0.0, 0.0, 0.0, 0.0, 0.0, 0.0, 0.0, 0.0], [0.9374335408210754, 0.033002182841300964, 0.0015577428275719285, 2.5352785542054335e-06, 0.0010925536043941975, 0.026911530643701553, 0.0, 0.0, 0.0, 0.0, 0.0, 0.0, 0.0, 0.0, 0.0, 0.0, 0.0, 0.0, 0.0, 0.0, 0.0, 0.0, 0.0, 0.0, 0.0, 0.0, 0.0, 0.0, 0.0, 0.0, 0.0, 0.0, 0.0, 0.0, 0.0, 0.0, 0.0, 0.0, 0.0, 0.0], [0.976921021938324, 0.0038436956238001585, 2.234029489045497e-05, 3.521895996527746e-05, 0.005183499306440353, 0.01217629387974739, 0.0018179028993472457, 0.0, 0.0, 0.0, 0.0, 0.0, 0.0, 0.0, 0.0, 0.0, 0.0, 0.0, 0.0, 0.0, 0.0, 0.0, 0.0, 0.0, 0.0, 0.0, 0.0, 0.0, 0.0, 0.0, 0.0, 0.0, 0.0, 0.0, 0.0, 0.0, 0.0, 0.0, 0.0, 0.0], [0.9473506212234497, 0.013174930587410927, 0.0013492131838575006, 1.180242543341592e-05, 0.0009449435747228563, 0.011318957433104515, 0.018021011725068092, 0.007828536443412304, 0.0, 0.0, 0.0, 0.0, 0.0, 0.0, 0.0, 0.0, 0.0, 0.0, 0.0, 0.0, 0.0, 0.0, 0.0, 0.0, 0.0, 0.0, 0.0, 0.0, 0.0, 0.0, 0.0, 0.0, 0.0, 0.0, 0.0, 0.0, 0.0, 0.0, 0.0, 0.0], [0.9847127199172974, 0.0010781448800116777, 0.002173440996557474, 5.48224352314719e-06, 0.0004914223100058734, 0.0013570792507380247, 0.0001018581388052553, 0.00028538500191643834, 0.009794448502361774, 0.0, 0.0, 0.0, 0.0, 0.0, 0.0, 0.0, 0.0, 0.0, 0.0, 0.0, 0.0, 0.0, 0.0, 0.0, 0.0, 0.0, 0.0, 0.0, 0.0, 0.0, 0.0, 0.0, 0.0, 0.0, 0.0, 0.0, 0.0, 0.0, 0.0, 0.0], [0.9915198683738708, 0.0044833519496023655, 0.00012727153080049902, 0.0001670209167059511, 0.0016301727155223489, 0.0011521612759679556, 0.0003231288574170321, 0.00012646260438486934, 0.00039313812158070505, 7.735053804935887e-05, 0.0, 0.0, 0.0, 0.0, 0.0, 0.0, 0.0, 0.0, 0.0, 0.0, 0.0, 0.0, 0.0, 0.0, 0.0, 0.0, 0.0, 0.0, 0.0, 0.0, 0.0, 0.0, 0.0, 0.0, 0.0, 0.0, 0.0, 0.0, 0.0, 0.0], [0.8908807635307312, 0.024311939254403114, 1.7341229977319017e-05, 4.1577197407605127e-05, 0.0008967601461336017, 0.07334909588098526, 0.0009482800960540771, 0.004280842375010252, 0.005168660078197718, 7.830293725419324e-06, 9.693214815342799e-05, 0.0, 0.0, 0.0, 0.0, 0.0, 0.0, 0.0, 0.0, 0.0, 0.0, 0.0, 0.0, 0.0, 0.0, 0.0, 0.0, 0.0, 0.0, 0.0, 0.0, 0.0, 0.0, 0.0, 0.0, 0.0, 0.0, 0.0, 0.0, 0.0], [0.817081093788147, 0.13517087697982788, 0.011989914812147617, 1.1421690032875631e-05, 0.0003511958639137447, 0.00945067685097456, 0.01946328766644001, 0.0006557486485689878, 0.0005761014763265848, 2.9927012292318977e-05, 1.658979817875661e-05, 0.005203105043619871, 0.0, 0.0, 0.0, 0.0, 0.0, 0.0, 0.0, 0.0, 0.0, 0.0, 0.0, 0.0, 0.0, 0.0, 0.0, 0.0, 0.0, 0.0, 0.0, 0.0, 0.0, 0.0, 0.0, 0.0, 0.0, 0.0, 0.0, 0.0], [0.9082697033882141, 0.006068143527954817, 0.013871830888092518, 0.0008237074362114072, 0.011908311396837234, 0.01554207131266594, 0.008354817517101765, 0.0020781648345291615, 0.0013173273764550686, 0.0021398114040493965, 0.003944162279367447, 0.0012376609956845641, 0.02444424293935299, 0.0, 0.0, 0.0, 0.0, 0.0, 0.0, 0.0, 0.0, 0.0, 0.0, 0.0, 0.0, 0.0, 0.0, 0.0, 0.0, 0.0, 0.0, 0.0, 0.0, 0.0, 0.0, 0.0, 0.0, 0.0, 0.0, 0.0], [0.9479592442512512, 0.0021026760805398226, 0.01193847507238388, 0.00012338522356003523, 3.537495786076761e-06, 0.00014498857490252703, 0.0005875465576536953, 2.5534713131492026e-05, 0.0013609088491648436, 0.0003395720850676298, 0.01007620245218277, 0.0157905463129282, 0.006346344482153654, 0.003201034851372242, 0.0, 0.0, 0.0, 0.0, 0.0, 0.0, 0.0, 0.0, 0.0, 0.0, 0.0, 0.0, 0.0, 0.0, 0.0, 0.0, 0.0, 0.0, 0.0, 0.0, 0.0, 0.0, 0.0, 0.0, 0.0, 0.0], [0.9393549561500549, 0.006392289884388447, 0.0018427352188155055, 6.116198164818343e-06, 0.0003358719404786825, 0.0020515176001936197, 0.003801520448178053, 0.0012357976520434022, 0.0002194812404923141, 0.0003869338543154299, 5.012214751332067e-05, 0.008153197355568409, 0.026924636214971542, 0.002938011661171913, 0.0063067772425711155, 0.0, 0.0, 0.0, 0.0, 0.0, 0.0, 0.0, 0.0, 0.0, 0.0, 0.0, 0.0, 0.0, 0.0, 0.0, 0.0, 0.0, 0.0, 0.0, 0.0, 0.0, 0.0, 0.0, 0.0, 0.0], [0.9339620471000671, 0.0017828113632276654, 0.005864645820111036, 0.000199502072064206, 7.227147580124438e-05, 0.001453535514883697, 0.0025924306828528643, 0.0004859396431129426, 0.002229833509773016, 0.00015120525495149195, 0.012292936444282532, 0.005057854112237692, 0.012368598021566868, 0.003944497089833021, 0.0062751127406954765, 0.011266660876572132, 0.0, 0.0, 0.0, 0.0, 0.0, 0.0, 0.0, 0.0, 0.0, 0.0, 0.0, 0.0, 0.0, 0.0, 0.0, 0.0, 0.0, 0.0, 0.0, 0.0, 0.0, 0.0, 0.0, 0.0], [0.8931334614753723, 0.0015468199271708727, 0.013001665472984314, 7.96635686128866e-06, 5.864337435923517e-05, 0.0008863371913321316, 0.0032020823564380407, 3.214758908143267e-05, 0.00018022512085735798, 1.1455734238552395e-05, 7.600105163874105e-05, 0.0004202726122457534, 0.001612616004422307, 0.028539085760712624, 0.010535502806305885, 0.025432026013731956, 0.021323613822460175, 0.0, 0.0, 0.0, 0.0, 0.0, 0.0, 0.0, 0.0, 0.0, 0.0, 0.0, 0.0, 0.0, 0.0, 0.0, 0.0, 0.0, 0.0, 0.0, 0.0, 0.0, 0.0, 0.0], [0.9847024083137512, 0.00045824647531844676, 0.0001722048327792436, 6.160975090097054e-07, 4.7827966227487195e-06, 0.0005806126864627004, 0.00044618724496103823, 0.00041201553540304303, 0.0013038743054494262, 0.00031760730780661106, 6.99415395502001e-05, 0.0013941085198894143, 5.5830587371019647e-05, 0.0009110421524383128, 0.0001955802144948393, 0.000396028597606346, 0.0011691706022247672, 0.007409737445414066, 0.0, 0.0, 0.0, 0.0, 0.0, 0.0, 0.0, 0.0, 0.0, 0.0, 0.0, 0.0, 0.0, 0.0, 0.0, 0.0, 0.0, 0.0, 0.0, 0.0, 0.0, 0.0], [0.8922598958015442, 0.010283716022968292, 0.007569305133074522, 0.015225780196487904, 0.000603529391810298, 0.0014377714833244681, 0.018397411331534386, 0.000181866911589168, 0.0021135706920176744, 3.8036650948924944e-05, 0.009962501004338264, 0.003998196218162775, 0.0012666822876781225, 0.002186268102377653, 0.003267065854743123, 0.0015871906653046608, 0.019133716821670532, 0.008779392577707767, 0.0017080693505704403, 0.0, 0.0, 0.0, 0.0, 0.0, 0.0, 0.0, 0.0, 0.0, 0.0, 0.0, 0.0, 0.0, 0.0, 0.0, 0.0, 0.0, 0.0, 0.0, 0.0, 0.0], [0.5637850761413574, 2.2041742340661585e-05, 0.00038083098479546607, 1.3938017673353897e-07, 4.306914647145277e-08, 0.0001288325438508764, 5.202714601182379e-05, 4.098215413250728e-06, 0.00043821678264066577, 1.0102498890773859e-05, 2.0490140741458163e-05, 0.00021747533173765987, 2.5249997634091415e-05, 2.1293963072821498e-05, 0.002207203535363078, 5.8927667851094157e-05, 0.002418374177068472, 0.0032775455620139837, 0.4260479211807251, 0.0008841017843224108, 0.0, 0.0, 0.0, 0.0, 0.0, 0.0, 0.0, 0.0, 0.0, 0.0, 0.0, 0.0, 0.0, 0.0, 0.0, 0.0, 0.0, 0.0, 0.0, 0.0], [0.14634987711906433, 0.4510916769504547, 0.027205228805541992, 0.003008269937708974, 0.0007913715671747923, 0.08009303361177444, 0.005927639082074165, 0.0006846353644505143, 0.0021268511191010475, 0.0027747598942369223, 0.00023907265858724713, 0.002550537697970867, 0.005493414122611284, 0.015832215547561646, 0.0003449993673712015, 0.0005726668750867248, 0.0021751606836915016, 0.03904319554567337, 0.1698266863822937, 0.041207652539014816, 0.0026610144414007664, 0.0, 0.0, 0.0, 0.0, 0.0, 0.0, 0.0, 0.0, 0.0, 0.0, 0.0, 0.0, 0.0, 0.0, 0.0, 0.0, 0.0, 0.0, 0.0], [0.1588301807641983, 0.09413877129554749, 0.6926900744438171, 4.7764006012585014e-05, 8.085336048679892e-06, 0.009355566464364529, 0.0008445510757155716, 2.443790663164691e-06, 0.0001377410371787846, 1.1189789574928e-06, 4.677354354498675e-06, 0.0003472109674476087, 0.0026314801070839167, 0.0004504164680838585, 0.006463209632784128, 0.0005723321228288114, 0.001266839331947267, 0.006402328610420227, 0.0018093092367053032, 0.006555440369993448, 0.0003791518392972648, 0.01706133596599102, 0.0, 0.0, 0.0, 0.0, 0.0, 0.0, 0.0, 0.0, 0.0, 0.0, 0.0, 0.0, 0.0, 0.0, 0.0, 0.0, 0.0, 0.0], [0.0507238395512104, 0.004356134217232466, 0.00013167195720598102, 0.93964684009552, 0.0005500880652107298, 0.002771187573671341, 1.4556246242136694e-05, 5.017395324102836e-06, 1.5498708307859488e-05, 7.02077898040443e-08, 8.694883035786916e-06, 3.654152897070162e-05, 3.6079711662750924e-06, 2.594179386505857e-05, 7.59087424739846e-06, 7.100912853275076e-07, 4.6297875087475404e-05, 7.143527909647673e-05, 0.00012089155643479899, 0.000561000662855804, 1.3380984455579892e-05, 0.0007342093158513308, 0.00015471279039047658, 0.0, 0.0, 0.0, 0.0, 0.0, 0.0, 0.0, 0.0, 0.0, 0.0, 0.0, 0.0, 0.0, 0.0, 0.0, 0.0, 0.0], [0.04466324299573898, 0.0028326697647571564, 7.648682367289439e-05, 0.00015513764810748398, 0.7502217888832092, 0.1919575184583664, 9.640491043683141e-05, 0.00016210104513447732, 0.00012769455497618765, 1.1226586138946004e-05, 8.733231879887171e-06, 0.0002813311293721199, 5.207761569181457e-05, 0.008386502042412758, 4.340233772381907e-06, 6.482672324636951e-05, 3.802950232056901e-05, 7.603670383105054e-05, 0.00012636416067834944, 9.22799008549191e-05, 4.0301836179423844e-07, 0.00011281618208158761, 2.522413069527829e-06, 0.00044938692008145154, 0.0, 0.0, 0.0, 0.0, 0.0, 0.0, 0.0, 0.0, 0.0, 0.0, 0.0, 0.0, 0.0, 0.0, 0.0, 0.0], [0.0136062391102314, 0.006971819791942835, 3.188595292158425e-05, 1.8455398276273627e-06, 0.0023010680451989174, 0.9711790680885315, 0.0003632439475040883, 8.45976173877716e-05, 0.00010611514881020412, 4.505663468989951e-07, 2.987568166190613e-07, 0.0008592635276727378, 8.84485270944424e-05, 0.0003481197636574507, 9.285117812396493e-07, 3.160546111757867e-05, 1.2802072888007388e-05, 5.803379099234007e-05, 0.00010517534974496812, 6.438309355871752e-05, 1.8867468725147774e-06, 0.0009238768252544105, 4.681064638134558e-06, 8.993229130282998e-06, 0.002845223993062973, 0.0, 0.0, 0.0, 0.0, 0.0, 0.0, 0.0, 0.0, 0.0, 0.0, 0.0, 0.0, 0.0, 0.0, 0.0], [0.019611306488513947, 0.004386154469102621, 6.198722985573113e-05, 4.885768589701911e-08, 4.2524367017904297e-05, 0.0036122521851211786, 0.9598399996757507, 0.005622244905680418, 0.002344567561522126, 5.173993713469827e-07, 1.962153874046635e-06, 0.0016548263374716043, 0.0005915339570492506, 0.001169586437754333, 5.784231689176522e-06, 8.118995174299926e-05, 4.500300929066725e-05, 0.0001849783438956365, 5.086977398605086e-05, 0.000111328401544597, 6.848466000519693e-06, 3.85396160709206e-05, 4.853071914112661e-06, 1.2763491952227923e-07, 3.953082341467962e-06, 0.0005269552930258214, 0.0, 0.0, 0.0, 0.0, 0.0, 0.0, 0.0, 0.0, 0.0, 0.0, 0.0, 0.0, 0.0, 0.0], [0.008729123510420322, 0.00017810783174354583, 2.8806312002416234e-07, 4.138274221077154e-07, 6.864992610644549e-05, 0.0009331199107691646, 0.0001488830748712644, 0.9844523668289185, 0.004786375444382429, 0.0001132896650233306, 7.25545532986871e-07, 7.424702926073223e-05, 1.4996358004282229e-05, 0.00019790712394751608, 2.995068371092202e-07, 4.872013960266486e-06, 5.296111794450553e-06, 4.536831511359196e-06, 0.00011268968228250742, 3.4171025617979467e-06, 8.272540071629919e-06, 1.237986271007685e-05, 3.665547154696469e-08, 9.025117719829723e-07, 1.6053079889388755e-05, 0.00011404424003558233, 1.8653661754797213e-05, 0.0, 0.0, 0.0, 0.0, 0.0, 0.0, 0.0, 0.0, 0.0, 0.0, 0.0, 0.0, 0.0], [0.04082169756293297, 0.003618433838710189, 4.8210502427536994e-05, 1.9615818303009291e-07, 5.380281072575599e-05, 0.0021802405826747417, 0.003327243495732546, 0.0018782124388962984, 0.9307870268821716, 0.004815405700355768, 1.4430276678467635e-05, 0.0028288080357015133, 0.0001046408069669269, 0.0029309175442904234, 0.0009514765115454793, 6.522196053992957e-05, 0.0002954130177386105, 0.00012317558866925538, 0.001551239751279354, 0.0005327718099579215, 0.00022083611111156642, 0.0004432721179910004, 1.939156027219724e-05, 5.825709763485065e-07, 1.663282819208689e-05, 0.0004773263353854418, 0.0011258200975134969, 0.000767689838539809, 0.0, 0.0, 0.0, 0.0, 0.0, 0.0, 0.0, 0.0, 0.0, 0.0, 0.0, 0.0], [0.13800935447216034, 0.0003385838062968105, 0.00015972652181517333, 3.422568184419106e-08, 1.2696329577011056e-05, 0.00024196661252062768, 3.8219157431740314e-05, 3.751519398065284e-05, 0.004743278957903385, 0.8406777381896973, 0.0001887540565803647, 0.00015232608711812645, 1.2507432074926328e-05, 0.0002236285072285682, 0.00013282443978823721, 6.470834341598675e-05, 0.00013950421998742968, 9.763532580109313e-05, 0.0004387960070744157, 4.4860902562504634e-05, 6.358889368129894e-05, 0.00034255790524184704, 5.2226645493647084e-05, 5.293432536745968e-07, 4.435891696630279e-06, 6.54347168165259e-05, 2.914482593041612e-06, 3.872663910442498e-06, 0.013709748163819313, 0.0, 0.0, 0.0, 0.0, 0.0, 0.0, 0.0, 0.0, 0.0, 0.0, 0.0], [0.007798762992024422, 0.00022834629635326564, 4.6384946017496986e-07, 6.367677087837365e-07, 1.5816745872143656e-05, 4.7439083573408425e-05, 5.239070105744759e-06, 7.306558018171927e-06, 1.2522126780822873e-05, 3.3302333690699015e-07, 0.9909055233001709, 0.00045220478205010295, 5.365327069739578e-06, 7.535887561971322e-05, 8.799969691608567e-06, 7.89504611020675e-06, 0.00023918120132293552, 2.256896095786942e-06, 7.641861884621903e-05, 5.5141779739642516e-05, 4.378313406050438e-06, 2.181060699513182e-05, 4.4351477157533736e-08, 1.258427687389485e-06, 2.069825995931751e-06, 1.2951696589880157e-05, 3.9528120510112785e-07, 1.1202276937183342e-06, 7.9817673395155e-06, 2.9978505153849255e-06, 0.0, 0.0, 0.0, 0.0, 0.0, 0.0, 0.0, 0.0, 0.0, 0.0], [0.042284343391656876, 0.011305336840450764, 7.640699664079875e-07, 2.2586050363315735e-06, 9.786370355868712e-05, 0.038269199430942535, 0.00023640785366296768, 0.0014555181842297316, 0.0029497782234102488, 1.2863498568549403e-06, 2.827169737429358e-05, 0.8946184515953064, 0.000523496069945395, 0.001179973711259663, 0.0009106355137191713, 0.00036046106833964586, 0.00020461619715206325, 2.910214607254602e-05, 0.0013425356009975076, 0.0003398243279661983, 0.00033255034941248596, 8.43034649733454e-05, 7.937682511283128e-08, 5.809831236547325e-06, 4.910861207463313e-06, 0.0023872887250036, 2.6967012672685087e-05, 0.00020931517065037042, 0.0007688838522881269, 5.801371116831433e-06, 3.4147673432016745e-05, 0.0, 0.0, 0.0, 0.0, 0.0, 0.0, 0.0, 0.0, 0.0], [0.006102928426116705, 0.016550440341234207, 4.6485070924973115e-05, 8.233602954987873e-08, 7.398419256787747e-06, 0.0005482262931764126, 0.000593138684052974, 1.573847112013027e-05, 3.5032899177167565e-05, 3.3504232987979776e-07, 1.8657554790024733e-07, 0.000460667914012447, 0.8416212201118469, 0.12311417609453201, 0.00635922746732831, 0.002699504140764475, 0.00016676213999744505, 0.0012130774557590485, 0.00013198891247157007, 8.468204759992659e-05, 4.615942543750862e-06, 6.99491283739917e-05, 4.916110356134595e-06, 3.4761166034513735e-07, 3.71195625348264e-07, 6.107363878982142e-05, 6.7285327531863e-05, 2.275831548104179e-06, 2.060149927274324e-05, 7.198155458354449e-07, 2.7881066344548344e-08, 1.652937862672843e-05, 0.0, 0.0, 0.0, 0.0, 0.0, 0.0, 0.0, 0.0], [0.0404171422123909, 0.0013464416842907667, 0.0002881725085899234, 4.343583896115888e-06, 0.0006837462424300611, 0.0021492778323590755, 0.0012713986216112971, 0.00021145936625543982, 0.00014913539052940905, 2.368190689594485e-05, 9.255170880351216e-05, 7.46091318433173e-05, 0.0030381649266928434, 0.9153454899787903, 0.0020634918473660946, 0.002670771675184369, 0.0006971447728574276, 0.022915314882993698, 0.0016386568313464522, 0.00029437849298119545, 8.30199132906273e-06, 0.00011940939293708652, 3.610887142713182e-05, 1.2593977771757636e-05, 0.000383078760933131, 0.0011952179484069347, 0.00018445361638441682, 7.125888805603608e-05, 0.00012850709026679397, 6.062284592189826e-05, 4.517687557381578e-05, 6.895808724038943e-07, 0.0023790940176695585, 0.0, 0.0, 0.0, 0.0, 0.0, 0.0, 0.0], [0.03775651007890701, 0.0016132266027852893, 0.0003177846665494144, 8.171087984010228e-07, 4.6314994506246876e-07, 7.222019485197961e-05, 0.00012490902736317366, 4.997585165256169e-06, 0.0003066718054469675, 5.749355295847636e-06, 0.0002466128207743168, 0.003777747042477131, 0.0013358069118112326, 0.002113186754286289, 0.8997160792350769, 0.04417850449681282, 0.00033094992977567017, 0.001384939532727003, 0.0003935607383027673, 0.002321055391803384, 0.0004642207932192832, 0.00019271507335361093, 0.0005703868810087442, 5.92765218243585e-06, 2.4687210498086642e-08, 3.108325699940906e-06, 7.16592330718413e-06, 2.9240155186016636e-07, 7.98414257587865e-05, 1.2546398465929087e-05, 0.0001265132159460336, 0.00023837975459173322, 0.0008907333249226213, 0.0014062307309359312, 0.0, 0.0, 0.0, 0.0, 0.0, 0.0], [0.08771783858537674, 0.007821416482329369, 5.662468174705282e-05, 1.4731131869893943e-08, 1.0490747627045494e-05, 0.0011058712843805552, 0.0004291172663215548, 5.523042636923492e-05, 3.919887603842653e-05, 2.7502044304128503e-06, 2.546168616390787e-06, 0.002755208173766732, 0.005722646601498127, 0.0011191918747499585, 0.0015876393299549818, 0.8757357597351074, 0.0010800447780638933, 0.003532156115397811, 0.0015019910642877221, 0.0006949505768716335, 4.3340980482753366e-05, 0.00023435073671862483, 6.934305019967724e-06, 2.7577918615406816e-08, 9.912458835970028e-07, 0.00019156669441144913, 2.9515418646042235e-05, 5.4682345762557816e-06, 2.4805774501146516e-06, 1.4659882481282693e-06, 7.256012395373546e-07, 8.567833720007911e-05, 0.004263886250555515, 0.0007048699189908803, 0.0034579611383378506, 0.0, 0.0, 0.0, 0.0, 0.0], [0.018741462379693985, 0.00013177553773857653, 0.0001151907054008916, 8.336372729900177e-07, 3.8734546592422703e-07, 4.034390804008581e-05, 8.927338058128953e-05, 6.5760018514993135e-06, 6.646589463343844e-05, 2.0145337487065262e-07, 0.00012498503201641142, 0.00022737719700671732, 0.0003596782626118511, 4.087373235961422e-05, 8.65406691445969e-05, 0.00017062197730410844, 0.9720672369003296, 0.004511029925197363, 0.0017741514602676034, 0.00033421185798943043, 0.0006673701573163271, 8.272354534710757e-06, 8.590857760282233e-05, 4.4451999769989925e-07, 1.5395192676237457e-08, 3.916235073120333e-06, 1.856171184044797e-05, 1.744039764162153e-06, 2.306476017110981e-05, 6.561277245964448e-07, 5.5365380831062794e-05, 1.002774115477223e-05, 0.0001100561858038418, 2.098819095408544e-05, 6.0086229495937005e-05, 4.435600567376241e-05, 0.0, 0.0, 0.0, 0.0], [0.021614333614706993, 6.699936784571037e-05, 0.00023382958897855133, 1.946084609016907e-07, 1.0567928256932646e-06, 2.5699444449855946e-05, 0.0002104660088662058, 1.7352494978695177e-06, 6.270136509556323e-06, 8.374804139066327e-08, 2.3547661385237006e-06, 1.8064512914861552e-05, 0.00023376515309792012, 0.001895317924208939, 0.00020409416174516082, 0.0004746883932966739, 0.0029953729826956987, 0.9625540971755981, 0.00691427756100893, 0.00019762477313634008, 0.00011761223140638322, 1.78101454366697e-05, 8.19376073195599e-05, 8.319892685904051e-08, 6.341040403867737e-08, 1.503461476204393e-06, 1.595173125679139e-05, 1.2851933206547983e-07, 7.935282724247372e-07, 1.268652596309039e-07, 5.140130951986066e-07, 3.882859900272706e-08, 5.8853103837464005e-05, 0.0011026777792721987, 9.716644126456231e-05, 8.231291576521471e-05, 0.0007721150759607553, 0.0, 0.0, 0.0], [0.036683231592178345, 5.292119567457121e-06, 1.6796273030195152e-06, 3.2259253601729654e-10, 1.7678923214248243e-08, 9.71175995800877e-06, 6.970066351641435e-06, 3.922034920833539e-06, 1.5272406017174944e-05, 6.423094873753143e-07, 3.0026106401237485e-07, 2.1527788703679107e-05, 8.620285143479123e-07, 2.371107621002011e-05, 1.1333961538184667e-06, 4.370046099211322e-06, 2.1794727217638865e-05, 0.0007244806620292366, 0.9565503597259521, 7.606112922076136e-05, 0.005361164920032024, 3.4096636227332056e-05, 1.4788588487135712e-06, 1.9675812090724776e-09, 6.515209260982147e-09, 7.016106451374071e-07, 1.9081969071521598e-07, 3.605064478051645e-07, 3.97335998059134e-06, 1.5304269709304208e-06, 1.0370927583380762e-07, 7.635036922692962e-07, 1.8985110727953725e-07, 6.1644395827897824e-06, 2.6138322937185876e-06, 1.3529084981200867e-06, 1.0274129635945428e-05, 0.00042383253457956016, 0.0, 0.0], [0.039370130747556686, 0.0003585830272641033, 7.41930998628959e-05, 4.9509686505189165e-05, 4.653078576666303e-06, 4.69761471322272e-05, 0.0002299233601661399, 1.250448349310318e-06, 3.7233094190014526e-05, 8.911907656283802e-08, 7.931947038741782e-05, 0.00013509126438293606, 1.8374801584286615e-05, 0.0001029744089464657, 8.208496728911996e-05, 2.753642911557108e-05, 0.0005808327696286142, 0.001175031648017466, 0.00090598821407184, 0.9545682072639465, 7.417640154017136e-05, 0.0005086685996502638, 0.0001944841060321778, 8.633135439595208e-05, 8.952758889790857e-07, 1.429008443665225e-05, 3.4452030376996845e-05, 2.1258705373838893e-07, 1.695069659035653e-05, 4.816184286937641e-07, 3.1853684049565345e-05, 1.3589491572929546e-05, 2.5087774702114984e-05, 5.98193691985216e-05, 0.00011690238170558587, 1.1342107427481096e-05, 0.0002713192661758512, 0.0002638357982505113, 0.00042731984285637736, 0.0], [0.02540118619799614, 7.441657317031058e-07, 1.083011466107564e-05, 2.249714858848506e-09, 9.22188214680375e-10, 8.20854529592907e-06, 2.5448052838328294e-06, 1.0004332295920904e-07, 3.16087098326534e-05, 2.427833578622085e-07, 5.28918860709382e-07, 1.4262905096984468e-05, 1.5345697192969965e-06, 1.87780551641481e-06, 0.0002028696471825242, 2.141229060725891e-06, 0.00010114459291798994, 0.0009309824672527611, 0.10166086256504059, 5.5514923587907106e-05, 0.8627561926841736, 2.250216311949771e-06, 3.0665501981275156e-05, 5.196882923996782e-09, 3.199170095502524e-11, 8.736409284892943e-08, 1.2241630997777975e-07, 1.2374229418909977e-09, 1.2507468454714399e-05, 4.6357610017366824e-07, 1.629777557354828e-07, 2.719423264352372e-07, 1.1941983757424168e-07, 1.4462457897934655e-07, 5.527898247237317e-05, 3.5639260431707953e-07, 4.93334409839008e-05, 0.00016947872063610703, 0.008456651121377945, 3.8713624235242605e-05]]]}\n",
                            "    )\n",
                            "    </script>"
                        ],
                        "text/plain": [
                            "<circuitsvis.utils.render.RenderedHTML at 0xffff425c9fd0>"
                        ]
                    },
                    "metadata": {
                        "text/html": {
                            "Content-Type": "text/html"
                        }
                    },
                    "output_type": "display_data"
                }
            ],
            "source": [
                "if IN_GITHUB:\n",
                "    torch.manual_seed(50)\n",
                "\n",
                "induction_head_layer = 5\n",
                "induction_head_index = 5\n",
                "size = (1, 20)\n",
                "input_tensor = torch.randint(1000, 10000, size)\n",
                "\n",
                "single_random_sequence = input_tensor.to(model.cfg.device)\n",
                "repeated_random_sequence = einops.repeat(\n",
                "    single_random_sequence, \"batch seq_len -> batch (2 seq_len)\"\n",
                ")\n",
                "\n",
                "\n",
                "def visualize_pattern_hook(\n",
                "    pattern: Float[torch.Tensor, \"batch head_index dest_pos source_pos\"],\n",
                "    hook: HookPoint,\n",
                "):\n",
                "    display(\n",
                "        cv.attention.attention_patterns(\n",
                "            tokens=model.to_str_tokens(repeated_random_sequence),\n",
                "            attention=pattern[0, induction_head_index, :, :][\n",
                "                None, :, :\n",
                "            ],  # Add a dummy axis, as CircuitsVis expects 3D patterns.\n",
                "        )\n",
                "    )\n",
                "\n",
                "\n",
                "model.run_with_hooks(\n",
                "    repeated_random_sequence,\n",
                "    return_type=None,\n",
                "    fwd_hooks=[(utils.get_act_name(\"pattern\", induction_head_layer), visualize_pattern_hook)],\n",
                ")"
            ]
        },
        {
            "cell_type": "markdown",
            "metadata": {},
            "source": [
                "## Available Models"
            ]
        },
        {
            "attachments": {},
            "cell_type": "markdown",
            "metadata": {},
            "source": [
                "TransformerLens comes with over 40 open source models available, all of which can be loaded into a consistent(-ish) architecture by just changing the name in `from_pretrained`. The open source models available are [documented here](https://dynalist.io/d/n2ZWtnoYHrU1s4vnFSAQ519J#z=jHj79Pj58cgJKdq4t-ygK-4h), and a set of interpretability friendly models I've trained are [documented here](https://dynalist.io/d/n2ZWtnoYHrU1s4vnFSAQ519J#z=NCJ6zH_Okw_mUYAwGnMKsj2m), including a set of toy language models (tiny one to four layer models) and a set of [SoLU models](https://dynalist.io/d/n2ZWtnoYHrU1s4vnFSAQ519J#z=FZ5W6GGcy6OitPEaO733JLqf) up to GPT-2 Medium size (300M parameters). You can see [a table of the official alias and hyper-parameters of available models here](https://github.com/TransformerLensOrg/TransformerLens/blob/main/transformer_lens/model_properties_table.md).\n",
                "\n",
                "**Note:** TransformerLens does not currently support multi-GPU models (which you want for models above eg 7B parameters), but this feature is coming soon!"
            ]
        },
        {
            "cell_type": "markdown",
            "metadata": {},
            "source": [
                "\n",
                "Notably, this means that analysis can be near immediately re-run on a different model by just changing the name - to see this, let's load in DistilGPT-2 (a distilled version of GPT-2, with half as many layers) and copy the code from above to see the induction heads in that model."
            ]
        },
        {
            "cell_type": "code",
            "execution_count": null,
            "metadata": {},
            "outputs": [
                {
                    "name": "stderr",
                    "output_type": "stream",
                    "text": [
                        "Using pad_token, but it is not set yet.\n"
                    ]
                },
                {
                    "name": "stdout",
                    "output_type": "stream",
                    "text": [
                        "Loaded pretrained model distilgpt2 into HookedTransformer\n"
                    ]
                }
            ],
            "source": [
                "# NBVAL_IGNORE_OUTPUT\n",
                "distilgpt2 = HookedTransformer.from_pretrained(\"distilgpt2\", device=device)"
            ]
        },
        {
            "cell_type": "code",
            "execution_count": null,
            "metadata": {},
            "outputs": [
                {
                    "data": {
                        "text/html": [
                            "<html>\n",
                            "<head><meta charset=\"utf-8\" /></head>\n",
                            "<body>\n",
                            "    <div>            <script src=\"https://cdnjs.cloudflare.com/ajax/libs/mathjax/2.7.5/MathJax.js?config=TeX-AMS-MML_SVG\"></script><script type=\"text/javascript\">if (window.MathJax && window.MathJax.Hub && window.MathJax.Hub.Config) {window.MathJax.Hub.Config({SVG: {font: \"STIX-Web\"}});}</script>                <script type=\"text/javascript\">window.PlotlyConfig = {MathJaxConfig: 'local'};</script>\n",
                            "        <script charset=\"utf-8\" src=\"https://cdn.plot.ly/plotly-2.26.0.min.js\"></script>                <div id=\"378fa384-2cc7-4a1c-b871-c643c0e527e8\" class=\"plotly-graph-div\" style=\"height:525px; width:100%;\"></div>            <script type=\"text/javascript\">                                    window.PLOTLYENV=window.PLOTLYENV || {};                                    if (document.getElementById(\"378fa384-2cc7-4a1c-b871-c643c0e527e8\")) {                    Plotly.newPlot(                        \"378fa384-2cc7-4a1c-b871-c643c0e527e8\",                        [{\"coloraxis\":\"coloraxis\",\"name\":\"0\",\"z\":[[0.009922467172145844,0.00014764934894628823,0.011443736031651497,3.4372510526736733e-06,0.0006867930642329156,5.491139290825231e-06,0.008899171836674213,0.0014873683685436845,0.008349093608558178,0.00954477023333311,0.009120927192270756,0.01596890762448311],[0.003026863094419241,0.018020611256361008,0.003568781539797783,0.0006068727816455066,0.013361244462430477,0.002166191814467311,0.005081023555248976,0.01559095922857523,0.0044562919065356255,8.614760008640587e-05,0.003938235342502594,0.014764327555894852],[0.010219043120741844,0.00780068663880229,0.011151125654578209,0.0025892923586070538,0.019908905029296875,0.005215638317167759,0.00943383015692234,0.0015526963397860527,0.017547965049743652,0.011387993581593037,0.021231677383184433,1.451456820402222e-13],[0.007366393692791462,0.22952795028686523,0.8673726916313171,0.016448020935058594,0.01666181907057762,0.011658817529678345,0.01942884363234043,0.20720870792865753,0.014285862445831299,0.016440654173493385,0.9371501803398132,0.49821725487709045],[0.27513042092323303,0.23388457298278809,0.08511187136173248,0.010210886597633362,0.08357562869787216,0.02389742061495781,0.6404961943626404,0.025386787950992584,0.06823859363794327,0.651100218296051,0.015778401866555214,0.06186722218990326],[0.021418118849396706,0.07837661355733871,0.05457017943263054,0.01195995882153511,0.03577948361635208,0.17681372165679932,0.07745278626680374,0.10316655784845352,0.0073539442382752895,0.4502670466899872,0.19098441302776337,0.029486285522580147]],\"type\":\"heatmap\",\"xaxis\":\"x\",\"yaxis\":\"y\",\"hovertemplate\":\"Head: %{x}\\u003cbr\\u003eLayer: %{y}\\u003cbr\\u003ecolor: %{z}\\u003cextra\\u003e\\u003c\\u002fextra\\u003e\"}],                        {\"template\":{\"data\":{\"histogram2dcontour\":[{\"type\":\"histogram2dcontour\",\"colorbar\":{\"outlinewidth\":0,\"ticks\":\"\"},\"colorscale\":[[0.0,\"#0d0887\"],[0.1111111111111111,\"#46039f\"],[0.2222222222222222,\"#7201a8\"],[0.3333333333333333,\"#9c179e\"],[0.4444444444444444,\"#bd3786\"],[0.5555555555555556,\"#d8576b\"],[0.6666666666666666,\"#ed7953\"],[0.7777777777777778,\"#fb9f3a\"],[0.8888888888888888,\"#fdca26\"],[1.0,\"#f0f921\"]]}],\"choropleth\":[{\"type\":\"choropleth\",\"colorbar\":{\"outlinewidth\":0,\"ticks\":\"\"}}],\"histogram2d\":[{\"type\":\"histogram2d\",\"colorbar\":{\"outlinewidth\":0,\"ticks\":\"\"},\"colorscale\":[[0.0,\"#0d0887\"],[0.1111111111111111,\"#46039f\"],[0.2222222222222222,\"#7201a8\"],[0.3333333333333333,\"#9c179e\"],[0.4444444444444444,\"#bd3786\"],[0.5555555555555556,\"#d8576b\"],[0.6666666666666666,\"#ed7953\"],[0.7777777777777778,\"#fb9f3a\"],[0.8888888888888888,\"#fdca26\"],[1.0,\"#f0f921\"]]}],\"heatmap\":[{\"type\":\"heatmap\",\"colorbar\":{\"outlinewidth\":0,\"ticks\":\"\"},\"colorscale\":[[0.0,\"#0d0887\"],[0.1111111111111111,\"#46039f\"],[0.2222222222222222,\"#7201a8\"],[0.3333333333333333,\"#9c179e\"],[0.4444444444444444,\"#bd3786\"],[0.5555555555555556,\"#d8576b\"],[0.6666666666666666,\"#ed7953\"],[0.7777777777777778,\"#fb9f3a\"],[0.8888888888888888,\"#fdca26\"],[1.0,\"#f0f921\"]]}],\"heatmapgl\":[{\"type\":\"heatmapgl\",\"colorbar\":{\"outlinewidth\":0,\"ticks\":\"\"},\"colorscale\":[[0.0,\"#0d0887\"],[0.1111111111111111,\"#46039f\"],[0.2222222222222222,\"#7201a8\"],[0.3333333333333333,\"#9c179e\"],[0.4444444444444444,\"#bd3786\"],[0.5555555555555556,\"#d8576b\"],[0.6666666666666666,\"#ed7953\"],[0.7777777777777778,\"#fb9f3a\"],[0.8888888888888888,\"#fdca26\"],[1.0,\"#f0f921\"]]}],\"contourcarpet\":[{\"type\":\"contourcarpet\",\"colorbar\":{\"outlinewidth\":0,\"ticks\":\"\"}}],\"contour\":[{\"type\":\"contour\",\"colorbar\":{\"outlinewidth\":0,\"ticks\":\"\"},\"colorscale\":[[0.0,\"#0d0887\"],[0.1111111111111111,\"#46039f\"],[0.2222222222222222,\"#7201a8\"],[0.3333333333333333,\"#9c179e\"],[0.4444444444444444,\"#bd3786\"],[0.5555555555555556,\"#d8576b\"],[0.6666666666666666,\"#ed7953\"],[0.7777777777777778,\"#fb9f3a\"],[0.8888888888888888,\"#fdca26\"],[1.0,\"#f0f921\"]]}],\"surface\":[{\"type\":\"surface\",\"colorbar\":{\"outlinewidth\":0,\"ticks\":\"\"},\"colorscale\":[[0.0,\"#0d0887\"],[0.1111111111111111,\"#46039f\"],[0.2222222222222222,\"#7201a8\"],[0.3333333333333333,\"#9c179e\"],[0.4444444444444444,\"#bd3786\"],[0.5555555555555556,\"#d8576b\"],[0.6666666666666666,\"#ed7953\"],[0.7777777777777778,\"#fb9f3a\"],[0.8888888888888888,\"#fdca26\"],[1.0,\"#f0f921\"]]}],\"mesh3d\":[{\"type\":\"mesh3d\",\"colorbar\":{\"outlinewidth\":0,\"ticks\":\"\"}}],\"scatter\":[{\"fillpattern\":{\"fillmode\":\"overlay\",\"size\":10,\"solidity\":0.2},\"type\":\"scatter\"}],\"parcoords\":[{\"type\":\"parcoords\",\"line\":{\"colorbar\":{\"outlinewidth\":0,\"ticks\":\"\"}}}],\"scatterpolargl\":[{\"type\":\"scatterpolargl\",\"marker\":{\"colorbar\":{\"outlinewidth\":0,\"ticks\":\"\"}}}],\"bar\":[{\"error_x\":{\"color\":\"#2a3f5f\"},\"error_y\":{\"color\":\"#2a3f5f\"},\"marker\":{\"line\":{\"color\":\"#E5ECF6\",\"width\":0.5},\"pattern\":{\"fillmode\":\"overlay\",\"size\":10,\"solidity\":0.2}},\"type\":\"bar\"}],\"scattergeo\":[{\"type\":\"scattergeo\",\"marker\":{\"colorbar\":{\"outlinewidth\":0,\"ticks\":\"\"}}}],\"scatterpolar\":[{\"type\":\"scatterpolar\",\"marker\":{\"colorbar\":{\"outlinewidth\":0,\"ticks\":\"\"}}}],\"histogram\":[{\"marker\":{\"pattern\":{\"fillmode\":\"overlay\",\"size\":10,\"solidity\":0.2}},\"type\":\"histogram\"}],\"scattergl\":[{\"type\":\"scattergl\",\"marker\":{\"colorbar\":{\"outlinewidth\":0,\"ticks\":\"\"}}}],\"scatter3d\":[{\"type\":\"scatter3d\",\"line\":{\"colorbar\":{\"outlinewidth\":0,\"ticks\":\"\"}},\"marker\":{\"colorbar\":{\"outlinewidth\":0,\"ticks\":\"\"}}}],\"scattermapbox\":[{\"type\":\"scattermapbox\",\"marker\":{\"colorbar\":{\"outlinewidth\":0,\"ticks\":\"\"}}}],\"scatterternary\":[{\"type\":\"scatterternary\",\"marker\":{\"colorbar\":{\"outlinewidth\":0,\"ticks\":\"\"}}}],\"scattercarpet\":[{\"type\":\"scattercarpet\",\"marker\":{\"colorbar\":{\"outlinewidth\":0,\"ticks\":\"\"}}}],\"carpet\":[{\"aaxis\":{\"endlinecolor\":\"#2a3f5f\",\"gridcolor\":\"white\",\"linecolor\":\"white\",\"minorgridcolor\":\"white\",\"startlinecolor\":\"#2a3f5f\"},\"baxis\":{\"endlinecolor\":\"#2a3f5f\",\"gridcolor\":\"white\",\"linecolor\":\"white\",\"minorgridcolor\":\"white\",\"startlinecolor\":\"#2a3f5f\"},\"type\":\"carpet\"}],\"table\":[{\"cells\":{\"fill\":{\"color\":\"#EBF0F8\"},\"line\":{\"color\":\"white\"}},\"header\":{\"fill\":{\"color\":\"#C8D4E3\"},\"line\":{\"color\":\"white\"}},\"type\":\"table\"}],\"barpolar\":[{\"marker\":{\"line\":{\"color\":\"#E5ECF6\",\"width\":0.5},\"pattern\":{\"fillmode\":\"overlay\",\"size\":10,\"solidity\":0.2}},\"type\":\"barpolar\"}],\"pie\":[{\"automargin\":true,\"type\":\"pie\"}]},\"layout\":{\"autotypenumbers\":\"strict\",\"colorway\":[\"#636efa\",\"#EF553B\",\"#00cc96\",\"#ab63fa\",\"#FFA15A\",\"#19d3f3\",\"#FF6692\",\"#B6E880\",\"#FF97FF\",\"#FECB52\"],\"font\":{\"color\":\"#2a3f5f\"},\"hovermode\":\"closest\",\"hoverlabel\":{\"align\":\"left\"},\"paper_bgcolor\":\"white\",\"plot_bgcolor\":\"#E5ECF6\",\"polar\":{\"bgcolor\":\"#E5ECF6\",\"angularaxis\":{\"gridcolor\":\"white\",\"linecolor\":\"white\",\"ticks\":\"\"},\"radialaxis\":{\"gridcolor\":\"white\",\"linecolor\":\"white\",\"ticks\":\"\"}},\"ternary\":{\"bgcolor\":\"#E5ECF6\",\"aaxis\":{\"gridcolor\":\"white\",\"linecolor\":\"white\",\"ticks\":\"\"},\"baxis\":{\"gridcolor\":\"white\",\"linecolor\":\"white\",\"ticks\":\"\"},\"caxis\":{\"gridcolor\":\"white\",\"linecolor\":\"white\",\"ticks\":\"\"}},\"coloraxis\":{\"colorbar\":{\"outlinewidth\":0,\"ticks\":\"\"}},\"colorscale\":{\"sequential\":[[0.0,\"#0d0887\"],[0.1111111111111111,\"#46039f\"],[0.2222222222222222,\"#7201a8\"],[0.3333333333333333,\"#9c179e\"],[0.4444444444444444,\"#bd3786\"],[0.5555555555555556,\"#d8576b\"],[0.6666666666666666,\"#ed7953\"],[0.7777777777777778,\"#fb9f3a\"],[0.8888888888888888,\"#fdca26\"],[1.0,\"#f0f921\"]],\"sequentialminus\":[[0.0,\"#0d0887\"],[0.1111111111111111,\"#46039f\"],[0.2222222222222222,\"#7201a8\"],[0.3333333333333333,\"#9c179e\"],[0.4444444444444444,\"#bd3786\"],[0.5555555555555556,\"#d8576b\"],[0.6666666666666666,\"#ed7953\"],[0.7777777777777778,\"#fb9f3a\"],[0.8888888888888888,\"#fdca26\"],[1.0,\"#f0f921\"]],\"diverging\":[[0,\"#8e0152\"],[0.1,\"#c51b7d\"],[0.2,\"#de77ae\"],[0.3,\"#f1b6da\"],[0.4,\"#fde0ef\"],[0.5,\"#f7f7f7\"],[0.6,\"#e6f5d0\"],[0.7,\"#b8e186\"],[0.8,\"#7fbc41\"],[0.9,\"#4d9221\"],[1,\"#276419\"]]},\"xaxis\":{\"gridcolor\":\"white\",\"linecolor\":\"white\",\"ticks\":\"\",\"title\":{\"standoff\":15},\"zerolinecolor\":\"white\",\"automargin\":true,\"zerolinewidth\":2},\"yaxis\":{\"gridcolor\":\"white\",\"linecolor\":\"white\",\"ticks\":\"\",\"title\":{\"standoff\":15},\"zerolinecolor\":\"white\",\"automargin\":true,\"zerolinewidth\":2},\"scene\":{\"xaxis\":{\"backgroundcolor\":\"#E5ECF6\",\"gridcolor\":\"white\",\"linecolor\":\"white\",\"showbackground\":true,\"ticks\":\"\",\"zerolinecolor\":\"white\",\"gridwidth\":2},\"yaxis\":{\"backgroundcolor\":\"#E5ECF6\",\"gridcolor\":\"white\",\"linecolor\":\"white\",\"showbackground\":true,\"ticks\":\"\",\"zerolinecolor\":\"white\",\"gridwidth\":2},\"zaxis\":{\"backgroundcolor\":\"#E5ECF6\",\"gridcolor\":\"white\",\"linecolor\":\"white\",\"showbackground\":true,\"ticks\":\"\",\"zerolinecolor\":\"white\",\"gridwidth\":2}},\"shapedefaults\":{\"line\":{\"color\":\"#2a3f5f\"}},\"annotationdefaults\":{\"arrowcolor\":\"#2a3f5f\",\"arrowhead\":0,\"arrowwidth\":1},\"geo\":{\"bgcolor\":\"white\",\"landcolor\":\"#E5ECF6\",\"subunitcolor\":\"white\",\"showland\":true,\"showlakes\":true,\"lakecolor\":\"white\"},\"title\":{\"x\":0.05},\"mapbox\":{\"style\":\"light\"}}},\"xaxis\":{\"anchor\":\"y\",\"domain\":[0.0,1.0],\"scaleanchor\":\"y\",\"constrain\":\"domain\",\"title\":{\"text\":\"Head\"}},\"yaxis\":{\"anchor\":\"x\",\"domain\":[0.0,1.0],\"autorange\":\"reversed\",\"constrain\":\"domain\",\"title\":{\"text\":\"Layer\"}},\"coloraxis\":{\"colorscale\":[[0.0,\"rgb(103,0,31)\"],[0.1,\"rgb(178,24,43)\"],[0.2,\"rgb(214,96,77)\"],[0.3,\"rgb(244,165,130)\"],[0.4,\"rgb(253,219,199)\"],[0.5,\"rgb(247,247,247)\"],[0.6,\"rgb(209,229,240)\"],[0.7,\"rgb(146,197,222)\"],[0.8,\"rgb(67,147,195)\"],[0.9,\"rgb(33,102,172)\"],[1.0,\"rgb(5,48,97)\"]],\"cmid\":0.0},\"title\":{\"text\":\"Induction Score by Head in Distil GPT-2\"}},                        {\"responsive\": true}                    ).then(function(){\n",
                            "                            \n",
                            "var gd = document.getElementById('378fa384-2cc7-4a1c-b871-c643c0e527e8');\n",
                            "var x = new MutationObserver(function (mutations, observer) {{\n",
                            "        var display = window.getComputedStyle(gd).display;\n",
                            "        if (!display || display === 'none') {{\n",
                            "            console.log([gd, 'removed!']);\n",
                            "            Plotly.purge(gd);\n",
                            "            observer.disconnect();\n",
                            "        }}\n",
                            "}});\n",
                            "\n",
                            "// Listen for the removal of the full notebook cells\n",
                            "var notebookContainer = gd.closest('#notebook-container');\n",
                            "if (notebookContainer) {{\n",
                            "    x.observe(notebookContainer, {childList: true});\n",
                            "}}\n",
                            "\n",
                            "// Listen for the clearing of the current output cell\n",
                            "var outputEl = gd.closest('.output');\n",
                            "if (outputEl) {{\n",
                            "    x.observe(outputEl, {childList: true});\n",
                            "}}\n",
                            "\n",
                            "                        })                };                            </script>        </div>\n",
                            "</body>\n",
                            "</html>"
                        ]
                    },
                    "metadata": {},
                    "output_type": "display_data"
                }
            ],
            "source": [
                "# We make a tensor to store the induction score for each head. We put it on the model's device to avoid needing to move things between the GPU and CPU, which can be slow.\n",
                "distilgpt2_induction_score_store = torch.zeros(\n",
                "    (distilgpt2.cfg.n_layers, distilgpt2.cfg.n_heads), device=distilgpt2.cfg.device\n",
                ")\n",
                "\n",
                "\n",
                "def induction_score_hook(\n",
                "    pattern: Float[torch.Tensor, \"batch head_index dest_pos source_pos\"],\n",
                "    hook: HookPoint,\n",
                "):\n",
                "    # We take the diagonal of attention paid from each destination position to source positions seq_len-1 tokens back\n",
                "    # (This only has entries for tokens with index>=seq_len)\n",
                "    induction_stripe = pattern.diagonal(dim1=-2, dim2=-1, offset=1 - seq_len)\n",
                "    # Get an average score per head\n",
                "    induction_score = einops.reduce(\n",
                "        induction_stripe, \"batch head_index position -> head_index\", \"mean\"\n",
                "    )\n",
                "    # Store the result.\n",
                "    distilgpt2_induction_score_store[hook.layer(), :] = induction_score\n",
                "\n",
                "\n",
                "# We make a boolean filter on activation names, that's true only on attention pattern names.\n",
                "pattern_hook_names_filter = lambda name: name.endswith(\"pattern\")\n",
                "\n",
                "distilgpt2.run_with_hooks(\n",
                "    repeated_tokens,\n",
                "    return_type=None,  # For efficiency, we don't need to calculate the logits\n",
                "    fwd_hooks=[(pattern_hook_names_filter, induction_score_hook)],\n",
                ")\n",
                "\n",
                "imshow(\n",
                "    distilgpt2_induction_score_store,\n",
                "    xaxis=\"Head\",\n",
                "    yaxis=\"Layer\",\n",
                "    title=\"Induction Score by Head in Distil GPT-2\",\n",
                ")"
            ]
        },
        {
            "attachments": {},
            "cell_type": "markdown",
            "metadata": {},
            "source": [
                "\n",
                "### An overview of the important open source models in the library\n",
                "\n",
                "* **GPT-2** - the classic generative pre-trained models from OpenAI\n",
                "    * Sizes Small (85M), Medium (300M), Large (700M) and XL (1.5B).\n",
                "    * Trained on ~22B tokens of internet text. ([Open source replication](https://huggingface.co/datasets/openwebtext))\n",
                "* **GPT-Neo** - Eleuther's replication of GPT-2\n",
                "    * Sizes 125M, 1.3B, 2.7B\n",
                "    * Trained on 300B(ish?) tokens of [the Pile](https://pile.eleuther.ai/) a large and diverse dataset including a bunch of code (and weird stuff)\n",
                "* **[OPT](https://ai.facebook.com/blog/democratizing-access-to-large-scale-language-models-with-opt-175b/)** - Meta AI's series of open source models\n",
                "    * Trained on 180B tokens of diverse text.\n",
                "    * 125M, 1.3B, 2.7B, 6.7B, 13B, 30B, 66B\n",
                "* **GPT-J** - Eleuther's 6B parameter model, trained on the Pile\n",
                "* **GPT-NeoX** - Eleuther's 20B parameter model, trained on the Pile\n",
                "* **StableLM** - Stability AI's 3B and 7B models, with and without chat and instruction fine-tuning\n",
                "* **Stanford CRFM models** - a replication of GPT-2 Small and GPT-2 Medium, trained on 5 different random seeds.\n",
                "    * Notably, 600 checkpoints were taken during training per model, and these are available in the library with eg `HookedTransformer.from_pretrained(\"stanford-gpt2-small-a\", checkpoint_index=265)`.\n",
                "- **BERT** - Google's bidirectional encoder-only transformer.\n",
                "    - Size Base (108M), trained on English Wikipedia and BooksCorpus.\n",
                " \n",
                "</details>"
            ]
        },
        {
            "cell_type": "markdown",
            "metadata": {},
            "source": [
                "\n",
                "### An overview of some interpretability-friendly models I've trained and included\n",
                "\n",
                "(Feel free to [reach out](mailto:neelnanda27@gmail.com) if you want more details on any of these models)\n",
                "\n",
                "Each of these models has about ~200 checkpoints taken during training that can also be loaded from TransformerLens, with the `checkpoint_index` argument to `from_pretrained`.\n",
                "\n",
                "Note that all models are trained with a Beginning of Sequence token, and will likely break if given inputs without that! \n",
                "\n",
                "* **Toy Models**: Inspired by [A Mathematical Framework](https://transformer-circuits.pub/2021/framework/index.html), I've trained 12 tiny language models, of 1-4L and each of width 512. I think that interpreting these is likely to be far more tractable than larger models, and both serve as good practice and will likely contain motifs and circuits that generalise to far larger models (like induction heads):\n",
                "    * Attention-Only models (ie without MLPs): attn-only-1l, attn-only-2l, attn-only-3l, attn-only-4l\n",
                "    * GELU models (ie with MLP, and the standard GELU activations): gelu-1l, gelu-2l, gelu-3l, gelu-4l\n",
                "    * SoLU models (ie with MLP, and [Anthropic's SoLU activation](https://transformer-circuits.pub/2022/solu/index.html), designed to make MLP neurons more interpretable): solu-1l, solu-2l, solu-3l, solu-4l\n",
                "    * All models are trained on 22B tokens of data, 80% from C4 (web text) and 20% from Python Code\n",
                "    * Models of the same layer size were trained with the same weight initialization and data shuffle, to more directly compare the effect of different activation functions.\n",
                "* **SoLU** models: A larger scan of models trained with [Anthropic's SoLU activation](https://transformer-circuits.pub/2022/solu/index.html), in the hopes that it makes the MLP neuron interpretability easier. \n",
                "    * A scan up to GPT-2 Medium size, trained on 30B tokens of the same data as toy models, 80% from C4 and 20% from Python code. \n",
                "        * solu-6l (40M), solu-8l (100M), solu-10l (200M), solu-12l (340M)\n",
                "    * An older scan up to GPT-2 Medium size, trained on 15B tokens of [the Pile](https://pile.eleuther.ai/)\n",
                "        * solu-1l-pile (13M), solu-2l-pile (13M), solu-4l-pile (13M), solu-6l-pile (40M), solu-8l-pile (100M), solu-10l-pile (200M), solu-12l-pile (340M)"
            ]
        },
        {
            "attachments": {},
            "cell_type": "markdown",
            "metadata": {},
            "source": [
                "## Other Resources:\n",
                "\n",
                "* [Concrete Steps to Get Started in Mechanistic Interpretability](https://neelnanda.io/getting-started): A guide I wrote for how to get involved in mechanistic interpretability, and how to learn the basic skills\n",
                "* [A Comprehensive Mechanistic Interpretability Explainer](https://neelnanda.io/glossary): An overview of concepts in the field and surrounding ideas in ML and transformers, with long digressions to give context and build intuitions.\n",
                "* [Concrete Open Problems in Mechanistic Interpretability](https://neelnanda.io/concrete-open-problems), a doc I wrote giving a long list of open problems in mechanistic interpretability, and thoughts on how to get started on trying to work on them. \n",
                "    * There's a lot of low-hanging fruit in the field, and I expect that many people reading this could use TransformerLens to usefully make progress on some of these!\n",
                "* Other demos:\n",
                "    * **[Exploratory Analysis Demo](https://neelnanda.io/exploratory-analysis-demo)**, a demonstration of my standard toolkit for how to use TransformerLens to explore a mysterious behaviour in a language model.\n",
                "    * [Interpretability in the Wild](https://github.com/redwoodresearch/Easy-Transformer) a codebase from Arthur Conmy and Alex Variengien at Redwood research using this library to do a detailed and rigorous reverse engineering of the Indirect Object Identification circuit, to accompany their paper\n",
                "        * Note - this was based on an earlier version of this library, called EasyTransformer. It's pretty similar, but several breaking changes have been made since. \n",
                "    * A [recorded walkthrough](https://www.youtube.com/watch?v=yo4QvDn-vsU) of me doing research with TransformerLens on whether a tiny model can re-derive positional information, with [an accompanying Colab](https://colab.research.google.com/github/TransformerLensOrg/TransformerLens/blob/main/No_Position_Experiment.ipynb)\n",
                "* [Neuroscope](https://neuroscope.io), a website showing the text in the dataset that most activates each neuron in some selected models. Good to explore to get a sense for what kind of features the model tends to represent, and as a \"wiki\" to get some info\n",
                "    * A tutorial on how to make an [Interactive Neuroscope](https://github.com/TransformerLensOrg/TransformerLens/blob/main/Hacky-Interactive-Lexoscope.ipynb), where you type in text and see the neuron activations over the text update live."
            ]
        },
        {
            "cell_type": "markdown",
            "metadata": {},
            "source": [
                "## Transformer architecture\n",
                "\n",
                "HookedTransformer is a somewhat adapted GPT-2 architecture, but is computationally identical. The most significant changes are to the internal structure of the attention heads: \n",
                "* The weights (W_K, W_Q, W_V) mapping the residual stream to queries, keys and values are 3 separate matrices, rather than big concatenated one.\n",
                "* The weight matrices (W_K, W_Q, W_V, W_O) and activations (keys, queries, values, z (values mixed by attention pattern)) have separate head_index and d_head axes, rather than flattening them into one big axis.\n",
                "    * The activations all have shape `[batch, position, head_index, d_head]`\n",
                "    * W_K, W_Q, W_V have shape `[head_index, d_model, d_head]` and W_O has shape `[head_index, d_head, d_model]`\n",
                "\n",
                "The actual code is a bit of a mess, as there's a variety of Boolean flags to make it consistent with the various different model families in TransformerLens - to understand it and the internal structure, I instead recommend reading the code in [CleanTransformerDemo](https://colab.research.google.com/github/TransformerLensOrg/TransformerLens/blob/clean-transformer-demo/Clean_Transformer_Demo.ipynb)"
            ]
        },
        {
            "cell_type": "markdown",
            "metadata": {},
            "source": [
                "### Parameter Names\n",
                "\n",
                "Here is a list of the parameters and shapes in the model. By convention, all weight matrices multiply on the right (ie `new_activation = old_activation @ weights + bias`). \n",
                "\n",
                "Reminder of the key hyper-params:\n",
                "* `n_layers`: 12. The number of transformer blocks in the model (a block contains an attention layer and an MLP layer)\n",
                "* `n_heads`: 12. The number of attention heads per attention layer\n",
                "* `d_model`: 768. The residual stream width.\n",
                "* `d_head`: 64. The internal dimension of an attention head activation.\n",
                "* `d_mlp`: 3072. The internal dimension of the MLP layers (ie the number of neurons).\n",
                "* `d_vocab`: 50267. The number of tokens in the vocabulary.\n",
                "* `n_ctx`: 1024. The maximum number of tokens in an input prompt.\n"
            ]
        },
        {
            "cell_type": "markdown",
            "metadata": {},
            "source": [
                "**Transformer Block parameters:** \n",
                "Replace 0 with the relevant layer index."
            ]
        },
        {
            "cell_type": "code",
            "execution_count": null,
            "metadata": {},
            "outputs": [
                {
                    "name": "stdout",
                    "output_type": "stream",
                    "text": [
                        "blocks.0.attn.W_Q torch.Size([12, 768, 64])\n",
                        "blocks.0.attn.W_O torch.Size([12, 64, 768])\n",
                        "blocks.0.attn.b_Q torch.Size([12, 64])\n",
                        "blocks.0.attn.b_O torch.Size([768])\n",
                        "blocks.0.attn.W_K torch.Size([12, 768, 64])\n",
                        "blocks.0.attn.W_V torch.Size([12, 768, 64])\n",
                        "blocks.0.attn.b_K torch.Size([12, 64])\n",
                        "blocks.0.attn.b_V torch.Size([12, 64])\n",
                        "blocks.0.mlp.W_in torch.Size([768, 3072])\n",
                        "blocks.0.mlp.b_in torch.Size([3072])\n",
                        "blocks.0.mlp.W_out torch.Size([3072, 768])\n",
                        "blocks.0.mlp.b_out torch.Size([768])\n"
                    ]
                }
            ],
            "source": [
                "for name, param in model.named_parameters():\n",
                "    if name.startswith(\"blocks.0.\"):\n",
                "        print(name, param.shape)"
            ]
        },
        {
            "cell_type": "markdown",
            "metadata": {},
            "source": [
                "**Embedding & Unembedding parameters:**"
            ]
        },
        {
            "cell_type": "code",
            "execution_count": null,
            "metadata": {},
            "outputs": [
                {
                    "name": "stdout",
                    "output_type": "stream",
                    "text": [
                        "embed.W_E torch.Size([50257, 768])\n",
                        "pos_embed.W_pos torch.Size([1024, 768])\n",
                        "unembed.W_U torch.Size([768, 50257])\n",
                        "unembed.b_U torch.Size([50257])\n"
                    ]
                }
            ],
            "source": [
                "for name, param in model.named_parameters():\n",
                "    if not name.startswith(\"blocks\"):\n",
                "        print(name, param.shape)"
            ]
        },
        {
            "attachments": {},
            "cell_type": "markdown",
            "metadata": {},
            "source": [
                "### Activation + Hook Names\n",
                "\n",
                "Lets get out a list of the activation/hook names in the model and their shapes. In practice, I recommend using the `utils.get_act_name` function to get the names, but this is a useful fallback, and necessary to eg write a name filter function.\n",
                "\n",
                "Let's do this by entering in a short, 10 token prompt, and add a hook function to each activations to print its name and shape. To avoid spam, let's just add this to activations in the first block or not in a block.\n",
                "\n",
                "Note 1: Each LayerNorm has a hook for the scale factor (ie the standard deviation of the input activations for each token position & batch element) and for the normalized output (ie the input activation with mean 0 and standard deviation 1, but *before* applying scaling or translating with learned weights). LayerNorm is applied every time a layer reads from the residual stream: `ln1` is the LayerNorm before the attention layer in a block, `ln2` the one before the MLP layer, and `ln_final` is the LayerNorm before the unembed. \n",
                "\n",
                "Note 2: *Every* activation apart from the attention pattern and attention scores has shape beginning with `[batch, position]`. The attention pattern and scores have shape `[batch, head_index, dest_position, source_position]` (the numbers are the same, unless we're using caching)."
            ]
        },
        {
            "cell_type": "code",
            "execution_count": null,
            "metadata": {},
            "outputs": [
                {
                    "name": "stdout",
                    "output_type": "stream",
                    "text": [
                        "Num tokens: 10\n",
                        "hook_embed torch.Size([1, 10, 768])\n",
                        "hook_pos_embed torch.Size([1, 10, 768])\n",
                        "blocks.0.hook_resid_pre torch.Size([1, 10, 768])\n",
                        "blocks.0.ln1.hook_scale torch.Size([1, 10, 1])\n",
                        "blocks.0.ln1.hook_normalized torch.Size([1, 10, 768])\n",
                        "blocks.0.ln1.hook_scale torch.Size([1, 10, 1])\n",
                        "blocks.0.ln1.hook_normalized torch.Size([1, 10, 768])\n",
                        "blocks.0.ln1.hook_scale torch.Size([1, 10, 1])\n",
                        "blocks.0.ln1.hook_normalized torch.Size([1, 10, 768])\n",
                        "blocks.0.attn.hook_q torch.Size([1, 10, 12, 64])\n",
                        "blocks.0.attn.hook_k torch.Size([1, 10, 12, 64])\n",
                        "blocks.0.attn.hook_v torch.Size([1, 10, 12, 64])\n",
                        "blocks.0.attn.hook_attn_scores torch.Size([1, 12, 10, 10])\n",
                        "blocks.0.attn.hook_pattern torch.Size([1, 12, 10, 10])\n",
                        "blocks.0.attn.hook_z torch.Size([1, 10, 12, 64])\n",
                        "blocks.0.hook_attn_out torch.Size([1, 10, 768])\n",
                        "blocks.0.hook_resid_mid torch.Size([1, 10, 768])\n",
                        "blocks.0.ln2.hook_scale torch.Size([1, 10, 1])\n",
                        "blocks.0.ln2.hook_normalized torch.Size([1, 10, 768])\n",
                        "blocks.0.mlp.hook_pre torch.Size([1, 10, 3072])\n",
                        "blocks.0.mlp.hook_post torch.Size([1, 10, 3072])\n",
                        "blocks.0.hook_mlp_out torch.Size([1, 10, 768])\n",
                        "blocks.0.hook_resid_post torch.Size([1, 10, 768])\n",
                        "ln_final.hook_scale torch.Size([1, 10, 1])\n",
                        "ln_final.hook_normalized torch.Size([1, 10, 768])\n"
                    ]
                }
            ],
            "source": [
                "test_prompt = \"The quick brown fox jumped over the lazy dog\"\n",
                "print(\"Num tokens:\", len(model.to_tokens(test_prompt)[0]))\n",
                "\n",
                "\n",
                "def print_name_shape_hook_function(activation, hook):\n",
                "    print(hook.name, activation.shape)\n",
                "\n",
                "\n",
                "not_in_late_block_filter = lambda name: name.startswith(\"blocks.0.\") or not name.startswith(\n",
                "    \"blocks\"\n",
                ")\n",
                "\n",
                "model.run_with_hooks(\n",
                "    test_prompt,\n",
                "    return_type=None,\n",
                "    fwd_hooks=[(not_in_late_block_filter, print_name_shape_hook_function)],\n",
                ")"
            ]
        },
        {
            "cell_type": "markdown",
            "metadata": {},
            "source": [
                "### Folding LayerNorm (For the Curious)"
            ]
        },
        {
            "cell_type": "markdown",
            "metadata": {},
            "source": [
                "(For the curious - this is an important technical detail that's worth understanding, especially if you have preconceptions about how transformers work, but not necessary to use TransformerLens)\n",
                "\n",
                "LayerNorm is a normalization technique used by transformers, analogous to BatchNorm but more friendly to massive parallelisation. No one *really* knows why it works, but it seems to improve model numerical stability. Unlike BatchNorm, LayerNorm actually changes the functional form of the model, which makes it a massive pain for interpretability! \n",
                "\n",
                "Folding LayerNorm is a technique to make it lower overhead to deal with, and the flags `center_writing_weights` and `fold_ln` in `HookedTransformer.from_pretrained` apply this automatically (they default to True). These simplify the internal structure without changing the weights.\n",
                "\n",
                "Intuitively, LayerNorm acts on each residual stream vector (ie for each batch element and token position) independently, sets their mean to 0 (centering) and standard deviation to 1 (normalizing) (*across* the residual stream dimension - very weird!), and then applies a learned elementwise scaling and translation to each vector.\n",
                "\n",
                "Mathematically, centering is a linear map, normalizing is *not* a linear map, and scaling and translation are linear maps. \n",
                "* **Centering:** LayerNorm is applied every time a layer reads from the residual stream, so the mean of any residual stream vector can never matter - `center_writing_weights` set every weight matrix writing to the residual to have zero mean. \n",
                "* **Normalizing:** Normalizing is not a linear map, and cannot be factored out. The `hook_scale` hook point lets you access and control for this.\n",
                "* **Scaling and Translation:** Scaling and translation are linear maps, and are always followed by another linear map. The composition of two linear maps is another linear map, so we can *fold* the scaling and translation weights into the weights of the subsequent layer, and simplify things without changing the underlying computation. \n",
                "\n",
                "[See the docs for more details](https://github.com/TransformerLensOrg/TransformerLens/blob/main/further_comments.md#what-is-layernorm-folding-fold_ln)"
            ]
        },
        {
            "cell_type": "markdown",
            "metadata": {},
            "source": [
                "A fun consequence of LayerNorm folding is that it creates a bias across the unembed, a `d_vocab` length vector that is added to the output logits - GPT-2 is not trained with this, but it *is* trained with a final LayerNorm that contains a bias. \n",
                "\n",
                "Turns out, this LayerNorm bias learns structure of the data that we can only see after folding! In particular, it essentially learns **unigram statistics** - rare tokens get suppressed, common tokens get boosted, by pretty dramatic degrees! Let's list the top and bottom 20 - at the top we see common punctuation and words like \" the\" and \" and\", at the bottom we see weird-ass tokens like \" RandomRedditor\":"
            ]
        },
        {
            "cell_type": "code",
            "execution_count": null,
            "metadata": {},
            "outputs": [],
            "source": [
                "unembed_bias = model.unembed.b_U\n",
                "bias_values, bias_indices = unembed_bias.sort(descending=True)"
            ]
        },
        {
            "cell_type": "code",
            "execution_count": null,
            "metadata": {},
            "outputs": [
                {
                    "name": "stdout",
                    "output_type": "stream",
                    "text": [
                        "Top 20 values\n",
                        "7.03 ','\n",
                        "6.98 ' the'\n",
                        "6.68 ' and'\n",
                        "6.49 '.'\n",
                        "6.48 '\\n'\n",
                        "6.47 ' a'\n",
                        "6.41 ' in'\n",
                        "6.25 ' to'\n",
                        "6.16 ' of'\n",
                        "6.04 '-'\n",
                        "6.03 ' ('\n",
                        "5.88 ' \"'\n",
                        "5.80 ' for'\n",
                        "5.72 ' that'\n",
                        "5.64 ' on'\n",
                        "5.59 ' is'\n",
                        "5.52 ' as'\n",
                        "5.49 ' at'\n",
                        "5.45 ' with'\n",
                        "5.44 ' or'\n",
                        "...\n",
                        "Bottom 20 values\n",
                        "-3.82 ' サーティ'\n",
                        "-3.83 '\\x18'\n",
                        "-3.83 '\\x14'\n",
                        "-3.83 ' RandomRedditor'\n",
                        "-3.83 '龍�'\n",
                        "-3.83 '�'\n",
                        "-3.83 '\\x1b'\n",
                        "-3.83 '�'\n",
                        "-3.83 '\\x05'\n",
                        "-3.83 '\\x00'\n",
                        "-3.83 '\\x06'\n",
                        "-3.83 '\\x07'\n",
                        "-3.83 '\\x0c'\n",
                        "-3.83 '\\x02'\n",
                        "-3.83 'oreAndOnline'\n",
                        "-3.84 '\\x11'\n",
                        "-3.84 '�'\n",
                        "-3.84 '\\x10'\n",
                        "-3.84 '�'\n",
                        "-3.84 '�'\n"
                    ]
                }
            ],
            "source": [
                "top_k = 20\n",
                "print(f\"Top {top_k} values\")\n",
                "for i in range(top_k):\n",
                "    print(f\"{bias_values[i].item():.2f} {repr(model.to_string(bias_indices[i]))}\")\n",
                "\n",
                "print(\"...\")\n",
                "print(f\"Bottom {top_k} values\")\n",
                "for i in range(top_k, 0, -1):\n",
                "    print(f\"{bias_values[-i].item():.2f} {repr(model.to_string(bias_indices[-i]))}\")"
            ]
        },
        {
            "cell_type": "markdown",
            "metadata": {},
            "source": [
                "This can have real consequences for interpretability - for example, this bias favours \" John\" over \" Mary\" by about 1.2, about 1/3 of the effect size of the Indirect Object Identification Circuit! All other things being the same, this makes the John token 3.6x times more likely than the Mary token."
            ]
        },
        {
            "cell_type": "code",
            "execution_count": null,
            "metadata": {},
            "outputs": [
                {
                    "name": "stdout",
                    "output_type": "stream",
                    "text": [
                        "John bias: 2.8995\n",
                        "Mary bias: 1.6034\n",
                        "Prob ratio bias: 3.6550x\n"
                    ]
                }
            ],
            "source": [
                "john_bias = model.unembed.b_U[model.to_single_token(\" John\")]\n",
                "mary_bias = model.unembed.b_U[model.to_single_token(\" Mary\")]\n",
                "\n",
                "print(f\"John bias: {john_bias.item():.4f}\")\n",
                "print(f\"Mary bias: {mary_bias.item():.4f}\")\n",
                "print(f\"Prob ratio bias: {torch.exp(john_bias - mary_bias).item():.4f}x\")"
            ]
        },
        {
            "attachments": {},
            "cell_type": "markdown",
            "metadata": {},
            "source": [
                "# Features\n",
                "\n",
                "An overview of some other important features of the library. I recommend checking out the [Exploratory Analysis Demo](https://colab.research.google.com/github/TransformerLensOrg/Easy-Transformer/blob/main/Exploratory_Analysis_Demo.ipynb) for some other important features not mentioned here, and for a demo of what using the library in practice looks like."
            ]
        },
        {
            "attachments": {},
            "cell_type": "markdown",
            "metadata": {},
            "source": [
                "## Dealing with tokens\n",
                "\n",
                "**Tokenization** is one of the most annoying features of studying language models. We want language models to be able to take in arbitrary text as input, but the transformer architecture needs the inputs to be elements of a fixed, finite vocabulary. The solution to this is **tokens**, a fixed vocabulary of \"sub-words\", that any natural language can be broken down into with a **tokenizer**. This is invertible, and we can recover the original text, called **de-tokenization**. \n",
                "\n",
                "TransformerLens comes with a range of utility functions to deal with tokenization. Different models can have different tokenizers, so these are all methods on the model.\n",
                "\n",
                "get_token_position, to_tokens, to_string, to_str_tokens, prepend_bos, to_single_token"
            ]
        },
        {
            "cell_type": "markdown",
            "metadata": {},
            "source": [
                "The first thing you need to figure out is *how* things are tokenized. `model.to_str_tokens` splits a string into the tokens *as a list of substrings*, and so lets you explore what the text looks like. To demonstrate this, let's use it on this paragraph.\n",
                "\n",
                "Some observations - there are a lot of arbitrary-ish details in here!\n",
                "* The tokenizer splits on spaces, so no token contains two words.\n",
                "* Tokens include the preceding space, and whether the first token is a capital letter. `how` and ` how` are different tokens!\n",
                "* Common words are single tokens, even if fairly long (` paragraph`) while uncommon words are split into multiple tokens (` token|ized`).\n",
                "* Tokens *mostly* split on punctuation characters (eg `*` and `.`), but eg `'s` is a single token."
            ]
        },
        {
            "cell_type": "code",
            "execution_count": null,
            "metadata": {},
            "outputs": [
                {
                    "name": "stdout",
                    "output_type": "stream",
                    "text": [
                        "['<|endoftext|>', 'The', ' first', ' thing', ' you', ' need', ' to', ' figure', ' out', ' is', ' *', 'how', '*', ' things', ' are', ' token', 'ized', '.', ' `', 'model', '.', 'to', '_', 'str', '_', 't', 'ok', 'ens', '`', ' splits', ' a', ' string', ' into', ' the', ' tokens', ' *', 'as', ' a', ' list', ' of', ' sub', 'strings', '*,', ' and', ' so', ' lets', ' you', ' explore', ' what', ' the', ' text', ' looks', ' like', '.', ' To', ' demonstrate', ' this', ',', ' let', \"'s\", ' use', ' it', ' on', ' this', ' paragraph', '.']\n"
                    ]
                }
            ],
            "source": [
                "example_text = \"The first thing you need to figure out is *how* things are tokenized. `model.to_str_tokens` splits a string into the tokens *as a list of substrings*, and so lets you explore what the text looks like. To demonstrate this, let's use it on this paragraph.\"\n",
                "example_text_str_tokens = model.to_str_tokens(example_text)\n",
                "print(example_text_str_tokens)"
            ]
        },
        {
            "cell_type": "markdown",
            "metadata": {},
            "source": [
                "The transformer needs to take in a sequence of integers, not strings, so we need to convert these tokens into integers. `model.to_tokens` does this, and returns a tensor of integers on the model's device (shape `[batch, position]`). It maps a string to a batch of size 1."
            ]
        },
        {
            "cell_type": "code",
            "execution_count": null,
            "metadata": {},
            "outputs": [
                {
                    "name": "stdout",
                    "output_type": "stream",
                    "text": [
                        "tensor([[50256,   464,   717,  1517,   345,   761,   284,  3785,   503,   318,\n",
                        "          1635,  4919,     9,  1243,   389, 11241,  1143,    13,  4600, 19849,\n",
                        "            13,  1462,    62,  2536,    62,    83,   482,   641,    63, 30778,\n",
                        "           257,  4731,   656,   262, 16326,  1635,   292,   257,  1351,   286,\n",
                        "           850, 37336, 25666,   290,   523,  8781,   345,  7301,   644,   262,\n",
                        "          2420,  3073,   588,    13,  1675, 10176,   428,    11,  1309,   338,\n",
                        "           779,   340,   319,   428,  7322,    13]])\n"
                    ]
                }
            ],
            "source": [
                "example_text_tokens = model.to_tokens(example_text)\n",
                "print(example_text_tokens)"
            ]
        },
        {
            "cell_type": "markdown",
            "metadata": {},
            "source": [
                "`to_tokens` can also take in a list of strings, and return a batch of size `len(strings)`. If the strings are different numbers of tokens, it adds a PAD token to the end of the shorter strings to make them the same length.\n",
                "\n",
                "(Note: In GPT-2, 50256 signifies both the beginning of sequence, end of sequence and padding token - see the `prepend_bos` section for details)"
            ]
        },
        {
            "cell_type": "code",
            "execution_count": null,
            "metadata": {},
            "outputs": [
                {
                    "name": "stdout",
                    "output_type": "stream",
                    "text": [
                        "tensor([[50256,   464,  3797,  3332,   319,   262,  2603,    13, 50256, 50256],\n",
                        "        [50256,   464,  3797,  3332,   319,   262,  2603,  1107,  1327,    13]])\n"
                    ]
                }
            ],
            "source": [
                "example_multi_text = [\"The cat sat on the mat.\", \"The cat sat on the mat really hard.\"]\n",
                "example_multi_text_tokens = model.to_tokens(example_multi_text)\n",
                "print(example_multi_text_tokens)"
            ]
        },
        {
            "cell_type": "markdown",
            "metadata": {},
            "source": [
                "`model.to_single_token` is a convenience function that takes in a string corresponding to a *single* token and returns the corresponding integer. This is useful for eg looking up the logit corresponding to a single token. \n",
                "\n",
                "For example, let's input `The cat sat on the mat.` to GPT-2, and look at the log prob predicting that the next token is ` The`. \n",
                "\n",
                "<details><summary>Technical notes</summary>\n",
                "\n",
                "Note that if we input a string to the model, it's implicitly converted to a string with `to_tokens`. \n",
                "\n",
                "Note further that the log probs have shape `[batch, position, d_vocab]==[1, 8, 50257]`, with a vector of log probs predicting the next token for *every* token position. GPT-2 uses causal attention which means heads can only look backwards (equivalently, information can only move forwards in the model.), so the log probs at position k are only a function of the first k tokens, and it can't just cheat and look at the k+1 th token. This structure lets it generate text more efficiently, and lets it treat every *token* as a training example, rather than every *sequence*.\n",
                "</details>"
            ]
        },
        {
            "cell_type": "code",
            "execution_count": null,
            "metadata": {},
            "outputs": [
                {
                    "name": "stdout",
                    "output_type": "stream",
                    "text": [
                        "Probability tensor shape [batch, position, d_vocab] == torch.Size([1, 8, 50257])\n",
                        "| The| probability: 11.98%\n"
                    ]
                }
            ],
            "source": [
                "cat_text = \"The cat sat on the mat.\"\n",
                "cat_logits = model(cat_text)\n",
                "cat_probs = cat_logits.softmax(dim=-1)\n",
                "print(f\"Probability tensor shape [batch, position, d_vocab] == {cat_probs.shape}\")\n",
                "\n",
                "capital_the_token_index = model.to_single_token(\" The\")\n",
                "print(f\"| The| probability: {cat_probs[0, -1, capital_the_token_index].item():.2%}\")"
            ]
        },
        {
            "cell_type": "markdown",
            "metadata": {},
            "source": [
                "`model.to_string` is the inverse of `to_tokens` and maps a tensor of integers to a string or list of strings. It also works on integers and lists of integers.\n",
                "\n",
                "For example, let's look up token 256 (due to technical details of tokenization, this will be the most common pair of ASCII characters!), and also verify that our tokens above map back to a string."
            ]
        },
        {
            "cell_type": "code",
            "execution_count": null,
            "metadata": {},
            "outputs": [
                {
                    "name": "stdout",
                    "output_type": "stream",
                    "text": [
                        "Token 256 - the most common pair of ASCII characters: | t|\n",
                        "De-Tokenizing the example tokens: <|endoftext|>The first thing you need to figure out is *how* things are tokenized. `model.to_str_tokens` splits a string into the tokens *as a list of substrings*, and so lets you explore what the text looks like. To demonstrate this, let's use it on this paragraph.\n"
                    ]
                }
            ],
            "source": [
                "print(f\"Token 256 - the most common pair of ASCII characters: |{model.to_string(256)}|\")\n",
                "# Squeeze means to remove dimensions of length 1.\n",
                "# Here, that removes the dummy batch dimension so it's a rank 1 tensor and returns a string\n",
                "# Rank 2 tensors map to a list of strings\n",
                "print(f\"De-Tokenizing the example tokens: {model.to_string(example_text_tokens.squeeze())}\")"
            ]
        },
        {
            "cell_type": "markdown",
            "metadata": {},
            "source": [
                "A related annoyance of tokenization is that it's hard to figure out how many tokens a string will break into. `model.get_token_position(single_token, tokens)` returns the position of `single_token` in `tokens`. `tokens` can be either a string or a tensor of tokens. \n",
                "\n",
                "Note that position is zero-indexed, it's two (ie third) because there's a beginning of sequence token automatically prepended (see the next section for details)"
            ]
        },
        {
            "cell_type": "code",
            "execution_count": null,
            "metadata": {},
            "outputs": [
                {
                    "name": "stdout",
                    "output_type": "stream",
                    "text": [
                        "With BOS: 2\n",
                        "Without BOS: 1\n"
                    ]
                }
            ],
            "source": [
                "print(\"With BOS:\", model.get_token_position(\" cat\", \"The cat sat on the mat\"))\n",
                "print(\"Without BOS:\", model.get_token_position(\" cat\", \"The cat sat on the mat\", prepend_bos=False))"
            ]
        },
        {
            "cell_type": "markdown",
            "metadata": {},
            "source": [
                "If there are multiple copies of the token, we can set `mode=\"first\"` to find the first occurence's position and `mode=\"last\"` to find the last"
            ]
        },
        {
            "cell_type": "code",
            "execution_count": null,
            "metadata": {},
            "outputs": [
                {
                    "name": "stdout",
                    "output_type": "stream",
                    "text": [
                        "First occurence 2\n",
                        "Final occurence 13\n"
                    ]
                }
            ],
            "source": [
                "print(\n",
                "    \"First occurence\",\n",
                "    model.get_token_position(\n",
                "        \" cat\", \"The cat sat on the mat. The mat sat on the cat.\", mode=\"first\"\n",
                "    ),\n",
                ")\n",
                "print(\n",
                "    \"Final occurence\",\n",
                "    model.get_token_position(\n",
                "        \" cat\", \"The cat sat on the mat. The mat sat on the cat.\", mode=\"last\"\n",
                "    ),\n",
                ")"
            ]
        },
        {
            "cell_type": "markdown",
            "metadata": {},
            "source": [
                "In general, tokenization is a pain, and full of gotchas. I highly recommend just playing around with different inputs and their tokenization and getting a feel for it. As another \"fun\" example, let's look at the tokenization of arithmetic expressions - tokens do *not* contain consistent numbers of digits. (This makes it even more impressive that GPT-3 can do arithmetic!)"
            ]
        },
        {
            "cell_type": "code",
            "execution_count": null,
            "metadata": {},
            "outputs": [
                {
                    "name": "stdout",
                    "output_type": "stream",
                    "text": [
                        "['<|endoftext|>', '23', '42', '+', '2017', '=', '214', '45']\n",
                        "['<|endoftext|>', '1000', '+', '1', '000000', '=', '9999', '99']\n"
                    ]
                }
            ],
            "source": [
                "print(model.to_str_tokens(\"2342+2017=21445\"))\n",
                "print(model.to_str_tokens(\"1000+1000000=999999\"))"
            ]
        },
        {
            "cell_type": "markdown",
            "metadata": {},
            "source": [
                "I also *highly* recommend investigating prompts with easy tokenization when starting out - ideally key words should form a single token, be in the same position in different prompts, have the same total length, etc. Eg study Indirect Object Identification with common English names like ` Tim` rather than ` Ne|el`. Transformers need to spend some parameters in early layers converting multi-token words to a single feature, and then de-converting this in the late layers, and unless this is what you're explicitly investigating, this will make the behaviour you're investigating be messier."
            ]
        },
        {
            "cell_type": "markdown",
            "metadata": {},
            "source": [
                "### Gotcha: `prepend_bos`\n",
                "\n",
                "Key Takeaway: **If you get weird off-by-one errors, check whether there's an unexpected `prepend_bos`!**"
            ]
        },
        {
            "cell_type": "markdown",
            "metadata": {},
            "source": [
                "A weirdness you may have noticed in the above is that `to_tokens` and `to_str_tokens` added a weird `<|endoftext|>` to the start of each prompt. TransformerLens does this by default, and it can easily trip up new users. Notably, **this includes `model.forward`** (which is what's implicitly used when you do eg `model(\"Hello World\")`). This is called a **Beginning of Sequence (BOS)** token, and it's a special token used to mark the beginning of the sequence. Confusingly, in GPT-2, the End of Sequence (EOS), Beginning of Sequence (BOS) and Padding (PAD) tokens are all the same, `<|endoftext|>` with index `50256`.\n",
                "\n",
                "**Gotcha:** You only want to prepend a BOS token at the *start* of a prompt. If you, eg, want to input a question followed by an answer, and want to tokenize these separately, you do *not* want to prepend_bos on the answer."
            ]
        },
        {
            "cell_type": "code",
            "execution_count": null,
            "metadata": {},
            "outputs": [
                {
                    "name": "stdout",
                    "output_type": "stream",
                    "text": [
                        "Logits shape by default (with BOS) torch.Size([1, 3, 50257])\n",
                        "Logits shape with BOS torch.Size([1, 3, 50257])\n",
                        "Logits shape without BOS - only 2 positions! torch.Size([1, 2, 50257])\n"
                    ]
                }
            ],
            "source": [
                "print(\"Logits shape by default (with BOS)\", model(\"Hello World\").shape)\n",
                "print(\"Logits shape with BOS\", model(\"Hello World\", prepend_bos=True).shape)\n",
                "print(\"Logits shape without BOS - only 2 positions!\", model(\"Hello World\", prepend_bos=False).shape)"
            ]
        },
        {
            "cell_type": "markdown",
            "metadata": {},
            "source": [
                "`prepend_bos` is a bit of a hack, and I've gone back and forth on what the correct default here is. The reason I do this is that transformers tend to treat the first token weirdly - this doesn't really matter in training (where all inputs are >1000 tokens), but this can be a big issue when investigating short prompts! The reason for this is that attention patterns are a probability distribution and so need to add up to one, so to simulate being \"off\" they normally look at the first token. Giving them a BOS token lets the heads rest by looking at that, preserving the information in the first \"real\" token.\n",
                "\n",
                "Further, *some* models are trained to need a BOS token (OPT and my interpretability-friendly models are, GPT-2 and GPT-Neo are not). But despite GPT-2 not being trained with this, empirically it seems to make interpretability easier.\n",
                "\n",
                "(However, if you want to change the default behaviour to *not* prepending a BOS token, pass `default_prepend_bos=False` when you instantiate the model, e.g., `model = HookedTransformer.from_pretrained('gpt2', default_prepend_bos=False)`.)\n",
                "\n",
                "For example, the model can get much worse at Indirect Object Identification without a BOS (and with a name as the first token):"
            ]
        },
        {
            "cell_type": "code",
            "execution_count": null,
            "metadata": {},
            "outputs": [
                {
                    "name": "stdout",
                    "output_type": "stream",
                    "text": [
                        "Logit difference with BOS: 6.754\n",
                        "Logit difference without BOS: 2.782\n"
                    ]
                }
            ],
            "source": [
                "ioi_logits_with_bos = model(\n",
                "    \"Claire and Mary went to the shops, then Mary gave a bottle of milk to\", prepend_bos=True\n",
                ")\n",
                "mary_logit_with_bos = ioi_logits_with_bos[0, -1, model.to_single_token(\" Mary\")].item()\n",
                "claire_logit_with_bos = ioi_logits_with_bos[0, -1, model.to_single_token(\" Claire\")].item()\n",
                "print(f\"Logit difference with BOS: {(claire_logit_with_bos - mary_logit_with_bos):.3f}\")\n",
                "\n",
                "ioi_logits_without_bos = model(\n",
                "    \"Claire and Mary went to the shops, then Mary gave a bottle of milk to\", prepend_bos=False\n",
                ")\n",
                "mary_logit_without_bos = ioi_logits_without_bos[0, -1, model.to_single_token(\" Mary\")].item()\n",
                "claire_logit_without_bos = ioi_logits_without_bos[0, -1, model.to_single_token(\" Claire\")].item()\n",
                "print(f\"Logit difference without BOS: {(claire_logit_without_bos - mary_logit_without_bos):.3f}\")"
            ]
        },
        {
            "cell_type": "markdown",
            "metadata": {},
            "source": [
                "Though, note that this also illustrates another gotcha - when `Claire` is at the start of a sentence (no preceding space), it's actually *two* tokens, not one, which probably confuses the relevant circuit. (Note - in this test we put `prepend_bos=False`, because we want to analyse the tokenization of a specific string, not to give an input to the model!)"
            ]
        },
        {
            "cell_type": "code",
            "execution_count": null,
            "metadata": {},
            "outputs": [
                {
                    "name": "stdout",
                    "output_type": "stream",
                    "text": [
                        "| Claire| -> [' Claire']\n",
                        "|Claire| -> ['Cl', 'aire']\n"
                    ]
                }
            ],
            "source": [
                "print(f\"| Claire| -> {model.to_str_tokens(' Claire', prepend_bos=False)}\")\n",
                "print(f\"|Claire| -> {model.to_str_tokens('Claire', prepend_bos=False)}\")"
            ]
        },
        {
            "attachments": {},
            "cell_type": "markdown",
            "metadata": {},
            "source": [
                "## Factored Matrix Class\n",
                "\n",
                "In transformer interpretability, we often need to analyse low rank factorized matrices - a matrix $M = AB$, where M is `[large, large]`, but A is `[large, small]` and B is `[small, large]`. This is a common structure in transformers, and the `FactoredMatrix` class is a convenient way to work with these. It implements efficient algorithms for various operations on these, such as computing the trace, eigenvalues, Frobenius norm, singular value decomposition, and products with other matrices. It can (approximately) act as a drop-in replacement for the original matrix, and supports leading batch dimensions to the factored matrix. \n",
                "\n",
                "<details><summary>Why are low-rank factorized matrices useful for transformer interpretability?</summary>\n",
                "\n",
                "As argued in [A Mathematical Framework](https://transformer-circuits.pub/2021/framework/index.html), an unexpected fact about transformer attention heads is that rather than being best understood as keys, queries and values (and the requisite weight matrices), they're actually best understood as two low rank factorized matrices. \n",
                "* **Where to move information from:** $W_QK = W_Q W_K^T$, used for determining the attention pattern - what source positions to move information from and what destination positions to move them to.\n",
                "    * Intuitively, residual stream -> query and residual stream -> key are linear maps, *and* `attention_score = query @ key.T` is a linear map, so the whole thing can be factored into one big bilinear form `residual @ W_QK @ residual.T`\n",
                "* **What information to move:** $W_OV = W_V W_O$, used to determine what information to copy from the source position to the destination position (weighted by the attention pattern weight from that destination to that source). \n",
                "    * Intuitively, the residual stream is a `[position, d_model]` tensor (ignoring batch). The attention pattern acts on the *position* dimension (where to move information from and to) and the value and output weights act on the *d_model* dimension - ie *what* information is contained at that source position. So we can factor it all into `attention_pattern @ residual @ W_V @ W_O`, and so only need to care about `W_OV = W_V @ W_O`\n",
                "* Note - the internal head dimension is smaller than the residual stream dimension, so the factorization is low rank. (here, `d_model=768` and `d_head=64`)\n",
                "</details>"
            ]
        },
        {
            "cell_type": "markdown",
            "metadata": {},
            "source": [
                "### Basic Examples"
            ]
        },
        {
            "cell_type": "markdown",
            "metadata": {},
            "source": [
                "We can use the basic class directly - let's make a factored matrix directly and look at the basic operations:"
            ]
        },
        {
            "cell_type": "code",
            "execution_count": null,
            "metadata": {},
            "outputs": [
                {
                    "name": "stdout",
                    "output_type": "stream",
                    "text": [
                        "Norms:\n",
                        "tensor(9.9105)\n",
                        "tensor(9.9105)\n",
                        "Right dimension: 5, Left dimension: 5, Hidden dimension: 2\n"
                    ]
                }
            ],
            "source": [
                "if IN_GITHUB:\n",
                "    torch.manual_seed(50)\n",
                "A = torch.randn(5, 2)\n",
                "B = torch.randn(2, 5)\n",
                "\n",
                "AB = A @ B\n",
                "AB_factor = FactoredMatrix(A, B)\n",
                "print(\"Norms:\")\n",
                "print(AB.norm())\n",
                "print(AB_factor.norm())\n",
                "\n",
                "print(\n",
                "    f\"Right dimension: {AB_factor.rdim}, Left dimension: {AB_factor.ldim}, Hidden dimension: {AB_factor.mdim}\"\n",
                ")"
            ]
        },
        {
            "cell_type": "markdown",
            "metadata": {},
            "source": [
                "We can also look at the eigenvalues and singular values of the matrix. Note that, because the matrix is rank 2 but 5 by 5, the final 3 eigenvalues and singular values are zero - the factored class omits the zeros."
            ]
        },
        {
            "cell_type": "code",
            "execution_count": null,
            "metadata": {},
            "outputs": [
                {
                    "name": "stdout",
                    "output_type": "stream",
                    "text": [
                        "Eigenvalues:\n",
                        "tensor([-6.2877e+00+0.j,  1.9337e-07+0.j,  2.3121e+00+0.j, -5.9987e-07+0.j,\n",
                        "        -1.1409e-07+0.j])\n",
                        "tensor([-6.2877+0.j,  2.3121+0.j])\n",
                        "\n",
                        "Singular Values:\n",
                        "tensor([8.3126e+00, 5.3963e+00, 1.4519e-07, 7.4293e-08, 2.1726e-09])\n",
                        "tensor([8.3126, 5.3963])\n"
                    ]
                }
            ],
            "source": [
                "# NBVAL_IGNORE_OUTPUT\n",
                "print(\"Eigenvalues:\")\n",
                "print(torch.linalg.eig(AB).eigenvalues)\n",
                "print(AB_factor.eigenvalues)\n",
                "print()\n",
                "print(\"Singular Values:\")\n",
                "print(torch.linalg.svd(AB).S)\n",
                "print(AB_factor.S)"
            ]
        },
        {
            "cell_type": "markdown",
            "metadata": {},
            "source": [
                "We can multiply with other matrices - it automatically chooses the smallest possible dimension to factor along (here it's 2, rather than 5)"
            ]
        },
        {
            "cell_type": "code",
            "execution_count": null,
            "metadata": {},
            "outputs": [
                {
                    "name": "stdout",
                    "output_type": "stream",
                    "text": [
                        "Unfactored: torch.Size([5, 300]) tensor(160.0830)\n",
                        "Factored: torch.Size([5, 300]) tensor(160.0830)\n",
                        "Right dimension: 300, Left dimension: 5, Hidden dimension: 2\n"
                    ]
                }
            ],
            "source": [
                "if IN_GITHUB:\n",
                "    torch.manual_seed(50)\n",
                "\n",
                "C = torch.randn(5, 300)\n",
                "\n",
                "ABC = AB @ C\n",
                "ABC_factor = AB_factor @ C\n",
                "print(\"Unfactored:\", ABC.shape, ABC.norm().round(decimals=3))\n",
                "print(\"Factored:\", ABC_factor.shape, ABC_factor.norm().round(decimals=3))\n",
                "print(\n",
                "    f\"Right dimension: {ABC_factor.rdim}, Left dimension: {ABC_factor.ldim}, Hidden dimension: {ABC_factor.mdim}\"\n",
                ")"
            ]
        },
        {
            "cell_type": "markdown",
            "metadata": {},
            "source": [
                "If we want to collapse this back to an unfactored matrix, we can use the AB property to get the product:"
            ]
        },
        {
            "cell_type": "code",
            "execution_count": null,
            "metadata": {},
            "outputs": [
                {
                    "name": "stdout",
                    "output_type": "stream",
                    "text": [
                        "tensor(True)\n"
                    ]
                }
            ],
            "source": [
                "AB_unfactored = AB_factor.AB\n",
                "print(torch.isclose(AB_unfactored, AB).all())"
            ]
        },
        {
            "attachments": {},
            "cell_type": "markdown",
            "metadata": {},
            "source": [
                "### Medium Example: Eigenvalue Copying Scores\n",
                "\n",
                "(This is a more involved example of how to use the factored matrix class, skip it if you aren't following)\n",
                "\n",
                "For a more involved example, let's look at the eigenvalue copying score from [A Mathematical Framework](https://transformer-circuits.pub/2021/framework/index.html) of the OV circuit for various heads. The OV Circuit for a head (the factorised matrix $W_OV = W_V W_O$) is a linear map that determines what information is moved from the source position to the destination position. Because this is low rank, it can be thought of as *reading in* some low rank subspace of the source residual stream and *writing to* some low rank subspace of the destination residual stream (with maybe some processing happening in the middle).\n",
                "\n",
                "A common operation for this will just be to *copy*, ie to have the same reading and writing subspace, and to do minimal processing in the middle. Empirically, this tends to coincide with the OV Circuit having (approximately) positive real eigenvalues. I mostly assert this as an empirical fact, but intuitively, operations that involve mapping eigenvectors to different directions (eg rotations) tend to have complex eigenvalues. And operations that preserve eigenvector direction but negate it tend to have negative real eigenvalues. And \"what happens to the eigenvectors\" is a decent proxy for what happens to an arbitrary vector.\n",
                "\n",
                "We can get a score for \"how positive real the OV circuit eigenvalues are\" with $\\frac{\\sum \\lambda_i}{\\sum |\\lambda_i|}$, where $\\lambda_i$ are the eigenvalues of the OV circuit. This is a bit of a hack, but it seems to work well in practice."
            ]
        },
        {
            "cell_type": "markdown",
            "metadata": {},
            "source": [
                "Let's use FactoredMatrix to compute this for every head in the model! We use the helper `model.OV` to get the concatenated OV circuits for all heads across all layers in the model. This has the shape `[n_layers, n_heads, d_model, d_model]`, where `n_layers` and `n_heads` are batch dimensions and the final two dimensions are factorised as `[n_layers, n_heads, d_model, d_head]` and `[n_layers, n_heads, d_head, d_model]` matrices.\n",
                "\n",
                "We can then get the eigenvalues for this, where there are separate eigenvalues for each element of the batch (a `[n_layers, n_heads, d_head]` tensor of complex numbers), and calculate the copying score."
            ]
        },
        {
            "cell_type": "code",
            "execution_count": null,
            "metadata": {},
            "outputs": [
                {
                    "name": "stdout",
                    "output_type": "stream",
                    "text": [
                        "FactoredMatrix: Shape(torch.Size([12, 12, 768, 768])), Hidden Dim(64)\n"
                    ]
                }
            ],
            "source": [
                "OV_circuit_all_heads = model.OV\n",
                "print(OV_circuit_all_heads)"
            ]
        },
        {
            "cell_type": "code",
            "execution_count": null,
            "metadata": {},
            "outputs": [
                {
                    "name": "stdout",
                    "output_type": "stream",
                    "text": [
                        "torch.Size([12, 12, 64])\n",
                        "torch.complex64\n"
                    ]
                }
            ],
            "source": [
                "OV_circuit_all_heads_eigenvalues = OV_circuit_all_heads.eigenvalues\n",
                "print(OV_circuit_all_heads_eigenvalues.shape)\n",
                "print(OV_circuit_all_heads_eigenvalues.dtype)"
            ]
        },
        {
            "cell_type": "code",
            "execution_count": null,
            "metadata": {},
            "outputs": [
                {
                    "data": {
                        "text/html": [
                            "<html>\n",
                            "<head><meta charset=\"utf-8\" /></head>\n",
                            "<body>\n",
                            "    <div>            <script src=\"https://cdnjs.cloudflare.com/ajax/libs/mathjax/2.7.5/MathJax.js?config=TeX-AMS-MML_SVG\"></script><script type=\"text/javascript\">if (window.MathJax && window.MathJax.Hub && window.MathJax.Hub.Config) {window.MathJax.Hub.Config({SVG: {font: \"STIX-Web\"}});}</script>                <script type=\"text/javascript\">window.PlotlyConfig = {MathJaxConfig: 'local'};</script>\n",
                            "        <script charset=\"utf-8\" src=\"https://cdn.plot.ly/plotly-2.26.0.min.js\"></script>                <div id=\"a09834af-1357-479f-b958-ca36d205cbf8\" class=\"plotly-graph-div\" style=\"height:525px; width:100%;\"></div>            <script type=\"text/javascript\">                                    window.PLOTLYENV=window.PLOTLYENV || {};                                    if (document.getElementById(\"a09834af-1357-479f-b958-ca36d205cbf8\")) {                    Plotly.newPlot(                        \"a09834af-1357-479f-b958-ca36d205cbf8\",                        [{\"coloraxis\":\"coloraxis\",\"name\":\"0\",\"z\":[[0.7775010466575623,0.3527269959449768,0.25961846113204956,0.6670257449150085,0.8384260535240173,0.5584430694580078,0.8444744944572449,0.4137910008430481,0.24488940834999084,0.028157662600278854,0.3584098219871521,0.16288265585899353],[-0.45419126749038696,-0.6529328227043152,-0.5484569072723389,-0.7990369200706482,-0.7736425995826721,-0.8522581458091736,0.9774324893951416,0.6626249551773071,-0.7303224205970764,-0.7007019519805908,-0.6946625709533691,-0.9996722340583801],[-0.7837163805961609,0.8967759013175964,0.4750954806804657,-0.667197585105896,0.7881461977958679,-0.8547751307487488,-0.9054184556007385,-0.5749384760856628,-0.32175111770629883,-0.028594352304935455,-0.9247617721557617,-0.9699268341064453],[0.5864037275314331,-0.7614347338676453,0.5971695780754089,0.7854393720626831,-0.8788883686065674,0.3908745050430298,0.044738516211509705,0.11028008162975311,-0.8169988989830017,0.22129566967487335,-0.9939578771591187,0.5774399042129517],[0.525479257106781,0.3049013912677765,-0.10729152709245682,0.9433151483535767,-0.9314428567886353,0.5273632407188416,-0.4264712631702423,-0.9984429478645325,0.5296756029129028,0.8604294061660767,-0.8895052075386047,0.9556970596313477],[0.6629186868667603,0.42956963181495667,0.9736858010292053,0.6555483937263489,0.12201889604330063,0.7442770004272461,0.5037952661514282,0.9525359272956848,-0.6507164239883423,-0.9316279292106628,0.9791510105133057,-0.9972584843635559],[0.9613031148910522,0.7501779794692993,-0.3806658685207367,0.6429786682128906,0.9557769298553467,-0.9428839683532715,-0.9948079586029053,0.785298764705658,0.9657301306724548,0.707301676273346,0.3687230050563812,0.8128011226654053],[0.9659481644630432,0.9730121493339539,0.31900617480278015,-0.30290520191192627,0.9790953397750854,0.9357923269271851,-0.5550313591957092,-0.005466493312269449,0.9867776036262512,0.8249565958976746,0.566429615020752,0.1000526174902916],[-0.9464486837387085,-0.25471997261047363,0.6522327661514282,0.1415255218744278,0.9884140491485596,0.9860583543777466,0.6949270367622375,0.9901810884475708,0.9791202545166016,-0.2359553426504135,-0.9820711612701416,0.6506689190864563],[0.9895943999290466,-0.29178157448768616,0.9714024662971497,0.9951602220535278,0.18783769011497498,-0.9460937976837158,0.47801902890205383,-0.2489192932844162,0.9437097907066345,0.11866245418787003,0.9941242933273315,-0.38088178634643555],[0.9564487934112549,0.5542725920677185,0.42118048667907715,0.6628789901733398,0.8659590482711792,0.9937117695808411,0.9069075584411621,0.39811065793037415,-0.4134220480918884,0.9971913695335388,0.34596705436706543,0.9938657283782959],[0.5891268849372864,0.9313740134239197,0.9268401861190796,0.9993564486503601,0.6227539777755737,0.8463947772979736,0.6584346294403076,0.8423126339912415,0.2978496253490448,0.8728679418563843,0.9963144659996033,0.986752450466156]],\"type\":\"heatmap\",\"xaxis\":\"x\",\"yaxis\":\"y\",\"hovertemplate\":\"Head: %{x}\\u003cbr\\u003eLayer: %{y}\\u003cbr\\u003ecolor: %{z}\\u003cextra\\u003e\\u003c\\u002fextra\\u003e\"}],                        {\"template\":{\"data\":{\"histogram2dcontour\":[{\"type\":\"histogram2dcontour\",\"colorbar\":{\"outlinewidth\":0,\"ticks\":\"\"},\"colorscale\":[[0.0,\"#0d0887\"],[0.1111111111111111,\"#46039f\"],[0.2222222222222222,\"#7201a8\"],[0.3333333333333333,\"#9c179e\"],[0.4444444444444444,\"#bd3786\"],[0.5555555555555556,\"#d8576b\"],[0.6666666666666666,\"#ed7953\"],[0.7777777777777778,\"#fb9f3a\"],[0.8888888888888888,\"#fdca26\"],[1.0,\"#f0f921\"]]}],\"choropleth\":[{\"type\":\"choropleth\",\"colorbar\":{\"outlinewidth\":0,\"ticks\":\"\"}}],\"histogram2d\":[{\"type\":\"histogram2d\",\"colorbar\":{\"outlinewidth\":0,\"ticks\":\"\"},\"colorscale\":[[0.0,\"#0d0887\"],[0.1111111111111111,\"#46039f\"],[0.2222222222222222,\"#7201a8\"],[0.3333333333333333,\"#9c179e\"],[0.4444444444444444,\"#bd3786\"],[0.5555555555555556,\"#d8576b\"],[0.6666666666666666,\"#ed7953\"],[0.7777777777777778,\"#fb9f3a\"],[0.8888888888888888,\"#fdca26\"],[1.0,\"#f0f921\"]]}],\"heatmap\":[{\"type\":\"heatmap\",\"colorbar\":{\"outlinewidth\":0,\"ticks\":\"\"},\"colorscale\":[[0.0,\"#0d0887\"],[0.1111111111111111,\"#46039f\"],[0.2222222222222222,\"#7201a8\"],[0.3333333333333333,\"#9c179e\"],[0.4444444444444444,\"#bd3786\"],[0.5555555555555556,\"#d8576b\"],[0.6666666666666666,\"#ed7953\"],[0.7777777777777778,\"#fb9f3a\"],[0.8888888888888888,\"#fdca26\"],[1.0,\"#f0f921\"]]}],\"heatmapgl\":[{\"type\":\"heatmapgl\",\"colorbar\":{\"outlinewidth\":0,\"ticks\":\"\"},\"colorscale\":[[0.0,\"#0d0887\"],[0.1111111111111111,\"#46039f\"],[0.2222222222222222,\"#7201a8\"],[0.3333333333333333,\"#9c179e\"],[0.4444444444444444,\"#bd3786\"],[0.5555555555555556,\"#d8576b\"],[0.6666666666666666,\"#ed7953\"],[0.7777777777777778,\"#fb9f3a\"],[0.8888888888888888,\"#fdca26\"],[1.0,\"#f0f921\"]]}],\"contourcarpet\":[{\"type\":\"contourcarpet\",\"colorbar\":{\"outlinewidth\":0,\"ticks\":\"\"}}],\"contour\":[{\"type\":\"contour\",\"colorbar\":{\"outlinewidth\":0,\"ticks\":\"\"},\"colorscale\":[[0.0,\"#0d0887\"],[0.1111111111111111,\"#46039f\"],[0.2222222222222222,\"#7201a8\"],[0.3333333333333333,\"#9c179e\"],[0.4444444444444444,\"#bd3786\"],[0.5555555555555556,\"#d8576b\"],[0.6666666666666666,\"#ed7953\"],[0.7777777777777778,\"#fb9f3a\"],[0.8888888888888888,\"#fdca26\"],[1.0,\"#f0f921\"]]}],\"surface\":[{\"type\":\"surface\",\"colorbar\":{\"outlinewidth\":0,\"ticks\":\"\"},\"colorscale\":[[0.0,\"#0d0887\"],[0.1111111111111111,\"#46039f\"],[0.2222222222222222,\"#7201a8\"],[0.3333333333333333,\"#9c179e\"],[0.4444444444444444,\"#bd3786\"],[0.5555555555555556,\"#d8576b\"],[0.6666666666666666,\"#ed7953\"],[0.7777777777777778,\"#fb9f3a\"],[0.8888888888888888,\"#fdca26\"],[1.0,\"#f0f921\"]]}],\"mesh3d\":[{\"type\":\"mesh3d\",\"colorbar\":{\"outlinewidth\":0,\"ticks\":\"\"}}],\"scatter\":[{\"fillpattern\":{\"fillmode\":\"overlay\",\"size\":10,\"solidity\":0.2},\"type\":\"scatter\"}],\"parcoords\":[{\"type\":\"parcoords\",\"line\":{\"colorbar\":{\"outlinewidth\":0,\"ticks\":\"\"}}}],\"scatterpolargl\":[{\"type\":\"scatterpolargl\",\"marker\":{\"colorbar\":{\"outlinewidth\":0,\"ticks\":\"\"}}}],\"bar\":[{\"error_x\":{\"color\":\"#2a3f5f\"},\"error_y\":{\"color\":\"#2a3f5f\"},\"marker\":{\"line\":{\"color\":\"#E5ECF6\",\"width\":0.5},\"pattern\":{\"fillmode\":\"overlay\",\"size\":10,\"solidity\":0.2}},\"type\":\"bar\"}],\"scattergeo\":[{\"type\":\"scattergeo\",\"marker\":{\"colorbar\":{\"outlinewidth\":0,\"ticks\":\"\"}}}],\"scatterpolar\":[{\"type\":\"scatterpolar\",\"marker\":{\"colorbar\":{\"outlinewidth\":0,\"ticks\":\"\"}}}],\"histogram\":[{\"marker\":{\"pattern\":{\"fillmode\":\"overlay\",\"size\":10,\"solidity\":0.2}},\"type\":\"histogram\"}],\"scattergl\":[{\"type\":\"scattergl\",\"marker\":{\"colorbar\":{\"outlinewidth\":0,\"ticks\":\"\"}}}],\"scatter3d\":[{\"type\":\"scatter3d\",\"line\":{\"colorbar\":{\"outlinewidth\":0,\"ticks\":\"\"}},\"marker\":{\"colorbar\":{\"outlinewidth\":0,\"ticks\":\"\"}}}],\"scattermapbox\":[{\"type\":\"scattermapbox\",\"marker\":{\"colorbar\":{\"outlinewidth\":0,\"ticks\":\"\"}}}],\"scatterternary\":[{\"type\":\"scatterternary\",\"marker\":{\"colorbar\":{\"outlinewidth\":0,\"ticks\":\"\"}}}],\"scattercarpet\":[{\"type\":\"scattercarpet\",\"marker\":{\"colorbar\":{\"outlinewidth\":0,\"ticks\":\"\"}}}],\"carpet\":[{\"aaxis\":{\"endlinecolor\":\"#2a3f5f\",\"gridcolor\":\"white\",\"linecolor\":\"white\",\"minorgridcolor\":\"white\",\"startlinecolor\":\"#2a3f5f\"},\"baxis\":{\"endlinecolor\":\"#2a3f5f\",\"gridcolor\":\"white\",\"linecolor\":\"white\",\"minorgridcolor\":\"white\",\"startlinecolor\":\"#2a3f5f\"},\"type\":\"carpet\"}],\"table\":[{\"cells\":{\"fill\":{\"color\":\"#EBF0F8\"},\"line\":{\"color\":\"white\"}},\"header\":{\"fill\":{\"color\":\"#C8D4E3\"},\"line\":{\"color\":\"white\"}},\"type\":\"table\"}],\"barpolar\":[{\"marker\":{\"line\":{\"color\":\"#E5ECF6\",\"width\":0.5},\"pattern\":{\"fillmode\":\"overlay\",\"size\":10,\"solidity\":0.2}},\"type\":\"barpolar\"}],\"pie\":[{\"automargin\":true,\"type\":\"pie\"}]},\"layout\":{\"autotypenumbers\":\"strict\",\"colorway\":[\"#636efa\",\"#EF553B\",\"#00cc96\",\"#ab63fa\",\"#FFA15A\",\"#19d3f3\",\"#FF6692\",\"#B6E880\",\"#FF97FF\",\"#FECB52\"],\"font\":{\"color\":\"#2a3f5f\"},\"hovermode\":\"closest\",\"hoverlabel\":{\"align\":\"left\"},\"paper_bgcolor\":\"white\",\"plot_bgcolor\":\"#E5ECF6\",\"polar\":{\"bgcolor\":\"#E5ECF6\",\"angularaxis\":{\"gridcolor\":\"white\",\"linecolor\":\"white\",\"ticks\":\"\"},\"radialaxis\":{\"gridcolor\":\"white\",\"linecolor\":\"white\",\"ticks\":\"\"}},\"ternary\":{\"bgcolor\":\"#E5ECF6\",\"aaxis\":{\"gridcolor\":\"white\",\"linecolor\":\"white\",\"ticks\":\"\"},\"baxis\":{\"gridcolor\":\"white\",\"linecolor\":\"white\",\"ticks\":\"\"},\"caxis\":{\"gridcolor\":\"white\",\"linecolor\":\"white\",\"ticks\":\"\"}},\"coloraxis\":{\"colorbar\":{\"outlinewidth\":0,\"ticks\":\"\"}},\"colorscale\":{\"sequential\":[[0.0,\"#0d0887\"],[0.1111111111111111,\"#46039f\"],[0.2222222222222222,\"#7201a8\"],[0.3333333333333333,\"#9c179e\"],[0.4444444444444444,\"#bd3786\"],[0.5555555555555556,\"#d8576b\"],[0.6666666666666666,\"#ed7953\"],[0.7777777777777778,\"#fb9f3a\"],[0.8888888888888888,\"#fdca26\"],[1.0,\"#f0f921\"]],\"sequentialminus\":[[0.0,\"#0d0887\"],[0.1111111111111111,\"#46039f\"],[0.2222222222222222,\"#7201a8\"],[0.3333333333333333,\"#9c179e\"],[0.4444444444444444,\"#bd3786\"],[0.5555555555555556,\"#d8576b\"],[0.6666666666666666,\"#ed7953\"],[0.7777777777777778,\"#fb9f3a\"],[0.8888888888888888,\"#fdca26\"],[1.0,\"#f0f921\"]],\"diverging\":[[0,\"#8e0152\"],[0.1,\"#c51b7d\"],[0.2,\"#de77ae\"],[0.3,\"#f1b6da\"],[0.4,\"#fde0ef\"],[0.5,\"#f7f7f7\"],[0.6,\"#e6f5d0\"],[0.7,\"#b8e186\"],[0.8,\"#7fbc41\"],[0.9,\"#4d9221\"],[1,\"#276419\"]]},\"xaxis\":{\"gridcolor\":\"white\",\"linecolor\":\"white\",\"ticks\":\"\",\"title\":{\"standoff\":15},\"zerolinecolor\":\"white\",\"automargin\":true,\"zerolinewidth\":2},\"yaxis\":{\"gridcolor\":\"white\",\"linecolor\":\"white\",\"ticks\":\"\",\"title\":{\"standoff\":15},\"zerolinecolor\":\"white\",\"automargin\":true,\"zerolinewidth\":2},\"scene\":{\"xaxis\":{\"backgroundcolor\":\"#E5ECF6\",\"gridcolor\":\"white\",\"linecolor\":\"white\",\"showbackground\":true,\"ticks\":\"\",\"zerolinecolor\":\"white\",\"gridwidth\":2},\"yaxis\":{\"backgroundcolor\":\"#E5ECF6\",\"gridcolor\":\"white\",\"linecolor\":\"white\",\"showbackground\":true,\"ticks\":\"\",\"zerolinecolor\":\"white\",\"gridwidth\":2},\"zaxis\":{\"backgroundcolor\":\"#E5ECF6\",\"gridcolor\":\"white\",\"linecolor\":\"white\",\"showbackground\":true,\"ticks\":\"\",\"zerolinecolor\":\"white\",\"gridwidth\":2}},\"shapedefaults\":{\"line\":{\"color\":\"#2a3f5f\"}},\"annotationdefaults\":{\"arrowcolor\":\"#2a3f5f\",\"arrowhead\":0,\"arrowwidth\":1},\"geo\":{\"bgcolor\":\"white\",\"landcolor\":\"#E5ECF6\",\"subunitcolor\":\"white\",\"showland\":true,\"showlakes\":true,\"lakecolor\":\"white\"},\"title\":{\"x\":0.05},\"mapbox\":{\"style\":\"light\"}}},\"xaxis\":{\"anchor\":\"y\",\"domain\":[0.0,1.0],\"scaleanchor\":\"y\",\"constrain\":\"domain\",\"title\":{\"text\":\"Head\"}},\"yaxis\":{\"anchor\":\"x\",\"domain\":[0.0,1.0],\"autorange\":\"reversed\",\"constrain\":\"domain\",\"title\":{\"text\":\"Layer\"}},\"coloraxis\":{\"colorscale\":[[0.0,\"rgb(103,0,31)\"],[0.1,\"rgb(178,24,43)\"],[0.2,\"rgb(214,96,77)\"],[0.3,\"rgb(244,165,130)\"],[0.4,\"rgb(253,219,199)\"],[0.5,\"rgb(247,247,247)\"],[0.6,\"rgb(209,229,240)\"],[0.7,\"rgb(146,197,222)\"],[0.8,\"rgb(67,147,195)\"],[0.9,\"rgb(33,102,172)\"],[1.0,\"rgb(5,48,97)\"]],\"cmid\":0.0,\"cmin\":-1.0,\"cmax\":1.0},\"title\":{\"text\":\"OV Copying Score for each head in GPT-2 Small\"}},                        {\"responsive\": true}                    ).then(function(){\n",
                            "                            \n",
                            "var gd = document.getElementById('a09834af-1357-479f-b958-ca36d205cbf8');\n",
                            "var x = new MutationObserver(function (mutations, observer) {{\n",
                            "        var display = window.getComputedStyle(gd).display;\n",
                            "        if (!display || display === 'none') {{\n",
                            "            console.log([gd, 'removed!']);\n",
                            "            Plotly.purge(gd);\n",
                            "            observer.disconnect();\n",
                            "        }}\n",
                            "}});\n",
                            "\n",
                            "// Listen for the removal of the full notebook cells\n",
                            "var notebookContainer = gd.closest('#notebook-container');\n",
                            "if (notebookContainer) {{\n",
                            "    x.observe(notebookContainer, {childList: true});\n",
                            "}}\n",
                            "\n",
                            "// Listen for the clearing of the current output cell\n",
                            "var outputEl = gd.closest('.output');\n",
                            "if (outputEl) {{\n",
                            "    x.observe(outputEl, {childList: true});\n",
                            "}}\n",
                            "\n",
                            "                        })                };                            </script>        </div>\n",
                            "</body>\n",
                            "</html>"
                        ]
                    },
                    "metadata": {},
                    "output_type": "display_data"
                }
            ],
            "source": [
                "OV_copying_score = OV_circuit_all_heads_eigenvalues.sum(\n",
                "    dim=-1\n",
                ").real / OV_circuit_all_heads_eigenvalues.abs().sum(dim=-1)\n",
                "imshow(\n",
                "    utils.to_numpy(OV_copying_score),\n",
                "    xaxis=\"Head\",\n",
                "    yaxis=\"Layer\",\n",
                "    title=\"OV Copying Score for each head in GPT-2 Small\",\n",
                "    zmax=1.0,\n",
                "    zmin=-1.0,\n",
                ")"
            ]
        },
        {
            "cell_type": "markdown",
            "metadata": {},
            "source": [
                "Head 11 in Layer 11 (L11H11) has a high copying score, and if we plot the eigenvalues they look approximately as expected."
            ]
        },
        {
            "cell_type": "code",
            "execution_count": null,
            "metadata": {},
            "outputs": [
                {
                    "data": {
                        "text/html": [
                            "<html>\n",
                            "<head><meta charset=\"utf-8\" /></head>\n",
                            "<body>\n",
                            "    <div>            <script src=\"https://cdnjs.cloudflare.com/ajax/libs/mathjax/2.7.5/MathJax.js?config=TeX-AMS-MML_SVG\"></script><script type=\"text/javascript\">if (window.MathJax && window.MathJax.Hub && window.MathJax.Hub.Config) {window.MathJax.Hub.Config({SVG: {font: \"STIX-Web\"}});}</script>                <script type=\"text/javascript\">window.PlotlyConfig = {MathJaxConfig: 'local'};</script>\n",
                            "        <script charset=\"utf-8\" src=\"https://cdn.plot.ly/plotly-2.26.0.min.js\"></script>                <div id=\"1e3711f8-c7bc-42a1-aea4-6c909a93f24e\" class=\"plotly-graph-div\" style=\"height:525px; width:100%;\"></div>            <script type=\"text/javascript\">                                    window.PLOTLYENV=window.PLOTLYENV || {};                                    if (document.getElementById(\"1e3711f8-c7bc-42a1-aea4-6c909a93f24e\")) {                    Plotly.newPlot(                        \"1e3711f8-c7bc-42a1-aea4-6c909a93f24e\",                        [{\"hovertemplate\":\"Real=%{x}\\u003cbr\\u003eImaginary=%{y}\\u003cextra\\u003e\\u003c\\u002fextra\\u003e\",\"legendgroup\":\"\",\"marker\":{\"color\":\"#636efa\",\"symbol\":\"circle\"},\"mode\":\"markers\",\"name\":\"\",\"orientation\":\"v\",\"showlegend\":false,\"x\":[-2.1397297382354736,1.4152636528015137,3.444455146789551,4.027669906616211,8.882655143737793,4.866769790649414,4.866769790649414,4.843714714050293,4.843714714050293,8.477535247802734,8.216809272766113,8.216809272766113,5.07860803604126,7.855461120605469,7.855461120605469,5.365756034851074,5.365756034851074,5.563426971435547,5.563426971435547,5.4217329025268555,7.769133567810059,7.769133567810059,7.0422773361206055,7.0422773361206055,5.675145626068115,5.675145626068115,7.678577423095703,7.678577423095703,6.573329925537109,6.573329925537109,7.67294979095459,7.17219877243042,7.17219877243042,7.423620223999023,7.423620223999023,7.470810413360596,6.089095115661621,6.089095115661621,6.306834697723389,6.306834697723389,6.511750221252441,6.511750221252441,5.955246448516846,5.955246448516846,5.858811378479004,5.858811378479004,7.147887229919434,7.147887229919434,7.185712814331055,7.185712814331055,6.670608043670654,6.670608043670654,6.735983848571777,6.735983848571777,6.149757385253906,6.149757385253906,6.288776874542236,6.288776874542236,6.344796657562256,6.625571250915527,6.625571250915527,6.8991899490356445,6.8991899490356445,6.85640811920166],\"xaxis\":\"x\",\"y\":[0.0,0.0,0.0,0.0,0.0,0.4185231328010559,-0.4185231328010559,0.09079001098871231,-0.09079001098871231,0.0,0.40868881344795227,-0.40868881344795227,0.0,0.7007214426994324,-0.7007214426994324,0.46421411633491516,-0.46421411633491516,0.5558239817619324,-0.5558239817619324,0.0,0.4705662131309509,-0.4705662131309509,1.0298681259155273,-1.0298681259155273,0.48253530263900757,-0.48253530263900757,0.3356489837169647,-0.3356489837169647,0.9988697171211243,-0.9988697171211243,0.0,0.7531778812408447,-0.7531778812408447,0.4257569909095764,-0.4257569909095764,0.0,0.643626868724823,-0.643626868724823,0.7701709270477295,-0.7701709270477295,0.7558017373085022,-0.7558017373085022,0.25911131501197815,-0.25911131501197815,0.013043955899775028,-0.013043955899775028,0.40166252851486206,-0.40166252851486206,0.28192126750946045,-0.28192126750946045,0.6146255135536194,-0.6146255135536194,0.5391282439231873,-0.5391282439231873,0.28234055638313293,-0.28234055638313293,0.3528330624103546,-0.3528330624103546,0.0,0.24867765605449677,-0.24867765605449677,0.15545639395713806,-0.15545639395713806,0.0],\"yaxis\":\"y\",\"type\":\"scatter\"}],                        {\"template\":{\"data\":{\"histogram2dcontour\":[{\"type\":\"histogram2dcontour\",\"colorbar\":{\"outlinewidth\":0,\"ticks\":\"\"},\"colorscale\":[[0.0,\"#0d0887\"],[0.1111111111111111,\"#46039f\"],[0.2222222222222222,\"#7201a8\"],[0.3333333333333333,\"#9c179e\"],[0.4444444444444444,\"#bd3786\"],[0.5555555555555556,\"#d8576b\"],[0.6666666666666666,\"#ed7953\"],[0.7777777777777778,\"#fb9f3a\"],[0.8888888888888888,\"#fdca26\"],[1.0,\"#f0f921\"]]}],\"choropleth\":[{\"type\":\"choropleth\",\"colorbar\":{\"outlinewidth\":0,\"ticks\":\"\"}}],\"histogram2d\":[{\"type\":\"histogram2d\",\"colorbar\":{\"outlinewidth\":0,\"ticks\":\"\"},\"colorscale\":[[0.0,\"#0d0887\"],[0.1111111111111111,\"#46039f\"],[0.2222222222222222,\"#7201a8\"],[0.3333333333333333,\"#9c179e\"],[0.4444444444444444,\"#bd3786\"],[0.5555555555555556,\"#d8576b\"],[0.6666666666666666,\"#ed7953\"],[0.7777777777777778,\"#fb9f3a\"],[0.8888888888888888,\"#fdca26\"],[1.0,\"#f0f921\"]]}],\"heatmap\":[{\"type\":\"heatmap\",\"colorbar\":{\"outlinewidth\":0,\"ticks\":\"\"},\"colorscale\":[[0.0,\"#0d0887\"],[0.1111111111111111,\"#46039f\"],[0.2222222222222222,\"#7201a8\"],[0.3333333333333333,\"#9c179e\"],[0.4444444444444444,\"#bd3786\"],[0.5555555555555556,\"#d8576b\"],[0.6666666666666666,\"#ed7953\"],[0.7777777777777778,\"#fb9f3a\"],[0.8888888888888888,\"#fdca26\"],[1.0,\"#f0f921\"]]}],\"heatmapgl\":[{\"type\":\"heatmapgl\",\"colorbar\":{\"outlinewidth\":0,\"ticks\":\"\"},\"colorscale\":[[0.0,\"#0d0887\"],[0.1111111111111111,\"#46039f\"],[0.2222222222222222,\"#7201a8\"],[0.3333333333333333,\"#9c179e\"],[0.4444444444444444,\"#bd3786\"],[0.5555555555555556,\"#d8576b\"],[0.6666666666666666,\"#ed7953\"],[0.7777777777777778,\"#fb9f3a\"],[0.8888888888888888,\"#fdca26\"],[1.0,\"#f0f921\"]]}],\"contourcarpet\":[{\"type\":\"contourcarpet\",\"colorbar\":{\"outlinewidth\":0,\"ticks\":\"\"}}],\"contour\":[{\"type\":\"contour\",\"colorbar\":{\"outlinewidth\":0,\"ticks\":\"\"},\"colorscale\":[[0.0,\"#0d0887\"],[0.1111111111111111,\"#46039f\"],[0.2222222222222222,\"#7201a8\"],[0.3333333333333333,\"#9c179e\"],[0.4444444444444444,\"#bd3786\"],[0.5555555555555556,\"#d8576b\"],[0.6666666666666666,\"#ed7953\"],[0.7777777777777778,\"#fb9f3a\"],[0.8888888888888888,\"#fdca26\"],[1.0,\"#f0f921\"]]}],\"surface\":[{\"type\":\"surface\",\"colorbar\":{\"outlinewidth\":0,\"ticks\":\"\"},\"colorscale\":[[0.0,\"#0d0887\"],[0.1111111111111111,\"#46039f\"],[0.2222222222222222,\"#7201a8\"],[0.3333333333333333,\"#9c179e\"],[0.4444444444444444,\"#bd3786\"],[0.5555555555555556,\"#d8576b\"],[0.6666666666666666,\"#ed7953\"],[0.7777777777777778,\"#fb9f3a\"],[0.8888888888888888,\"#fdca26\"],[1.0,\"#f0f921\"]]}],\"mesh3d\":[{\"type\":\"mesh3d\",\"colorbar\":{\"outlinewidth\":0,\"ticks\":\"\"}}],\"scatter\":[{\"fillpattern\":{\"fillmode\":\"overlay\",\"size\":10,\"solidity\":0.2},\"type\":\"scatter\"}],\"parcoords\":[{\"type\":\"parcoords\",\"line\":{\"colorbar\":{\"outlinewidth\":0,\"ticks\":\"\"}}}],\"scatterpolargl\":[{\"type\":\"scatterpolargl\",\"marker\":{\"colorbar\":{\"outlinewidth\":0,\"ticks\":\"\"}}}],\"bar\":[{\"error_x\":{\"color\":\"#2a3f5f\"},\"error_y\":{\"color\":\"#2a3f5f\"},\"marker\":{\"line\":{\"color\":\"#E5ECF6\",\"width\":0.5},\"pattern\":{\"fillmode\":\"overlay\",\"size\":10,\"solidity\":0.2}},\"type\":\"bar\"}],\"scattergeo\":[{\"type\":\"scattergeo\",\"marker\":{\"colorbar\":{\"outlinewidth\":0,\"ticks\":\"\"}}}],\"scatterpolar\":[{\"type\":\"scatterpolar\",\"marker\":{\"colorbar\":{\"outlinewidth\":0,\"ticks\":\"\"}}}],\"histogram\":[{\"marker\":{\"pattern\":{\"fillmode\":\"overlay\",\"size\":10,\"solidity\":0.2}},\"type\":\"histogram\"}],\"scattergl\":[{\"type\":\"scattergl\",\"marker\":{\"colorbar\":{\"outlinewidth\":0,\"ticks\":\"\"}}}],\"scatter3d\":[{\"type\":\"scatter3d\",\"line\":{\"colorbar\":{\"outlinewidth\":0,\"ticks\":\"\"}},\"marker\":{\"colorbar\":{\"outlinewidth\":0,\"ticks\":\"\"}}}],\"scattermapbox\":[{\"type\":\"scattermapbox\",\"marker\":{\"colorbar\":{\"outlinewidth\":0,\"ticks\":\"\"}}}],\"scatterternary\":[{\"type\":\"scatterternary\",\"marker\":{\"colorbar\":{\"outlinewidth\":0,\"ticks\":\"\"}}}],\"scattercarpet\":[{\"type\":\"scattercarpet\",\"marker\":{\"colorbar\":{\"outlinewidth\":0,\"ticks\":\"\"}}}],\"carpet\":[{\"aaxis\":{\"endlinecolor\":\"#2a3f5f\",\"gridcolor\":\"white\",\"linecolor\":\"white\",\"minorgridcolor\":\"white\",\"startlinecolor\":\"#2a3f5f\"},\"baxis\":{\"endlinecolor\":\"#2a3f5f\",\"gridcolor\":\"white\",\"linecolor\":\"white\",\"minorgridcolor\":\"white\",\"startlinecolor\":\"#2a3f5f\"},\"type\":\"carpet\"}],\"table\":[{\"cells\":{\"fill\":{\"color\":\"#EBF0F8\"},\"line\":{\"color\":\"white\"}},\"header\":{\"fill\":{\"color\":\"#C8D4E3\"},\"line\":{\"color\":\"white\"}},\"type\":\"table\"}],\"barpolar\":[{\"marker\":{\"line\":{\"color\":\"#E5ECF6\",\"width\":0.5},\"pattern\":{\"fillmode\":\"overlay\",\"size\":10,\"solidity\":0.2}},\"type\":\"barpolar\"}],\"pie\":[{\"automargin\":true,\"type\":\"pie\"}]},\"layout\":{\"autotypenumbers\":\"strict\",\"colorway\":[\"#636efa\",\"#EF553B\",\"#00cc96\",\"#ab63fa\",\"#FFA15A\",\"#19d3f3\",\"#FF6692\",\"#B6E880\",\"#FF97FF\",\"#FECB52\"],\"font\":{\"color\":\"#2a3f5f\"},\"hovermode\":\"closest\",\"hoverlabel\":{\"align\":\"left\"},\"paper_bgcolor\":\"white\",\"plot_bgcolor\":\"#E5ECF6\",\"polar\":{\"bgcolor\":\"#E5ECF6\",\"angularaxis\":{\"gridcolor\":\"white\",\"linecolor\":\"white\",\"ticks\":\"\"},\"radialaxis\":{\"gridcolor\":\"white\",\"linecolor\":\"white\",\"ticks\":\"\"}},\"ternary\":{\"bgcolor\":\"#E5ECF6\",\"aaxis\":{\"gridcolor\":\"white\",\"linecolor\":\"white\",\"ticks\":\"\"},\"baxis\":{\"gridcolor\":\"white\",\"linecolor\":\"white\",\"ticks\":\"\"},\"caxis\":{\"gridcolor\":\"white\",\"linecolor\":\"white\",\"ticks\":\"\"}},\"coloraxis\":{\"colorbar\":{\"outlinewidth\":0,\"ticks\":\"\"}},\"colorscale\":{\"sequential\":[[0.0,\"#0d0887\"],[0.1111111111111111,\"#46039f\"],[0.2222222222222222,\"#7201a8\"],[0.3333333333333333,\"#9c179e\"],[0.4444444444444444,\"#bd3786\"],[0.5555555555555556,\"#d8576b\"],[0.6666666666666666,\"#ed7953\"],[0.7777777777777778,\"#fb9f3a\"],[0.8888888888888888,\"#fdca26\"],[1.0,\"#f0f921\"]],\"sequentialminus\":[[0.0,\"#0d0887\"],[0.1111111111111111,\"#46039f\"],[0.2222222222222222,\"#7201a8\"],[0.3333333333333333,\"#9c179e\"],[0.4444444444444444,\"#bd3786\"],[0.5555555555555556,\"#d8576b\"],[0.6666666666666666,\"#ed7953\"],[0.7777777777777778,\"#fb9f3a\"],[0.8888888888888888,\"#fdca26\"],[1.0,\"#f0f921\"]],\"diverging\":[[0,\"#8e0152\"],[0.1,\"#c51b7d\"],[0.2,\"#de77ae\"],[0.3,\"#f1b6da\"],[0.4,\"#fde0ef\"],[0.5,\"#f7f7f7\"],[0.6,\"#e6f5d0\"],[0.7,\"#b8e186\"],[0.8,\"#7fbc41\"],[0.9,\"#4d9221\"],[1,\"#276419\"]]},\"xaxis\":{\"gridcolor\":\"white\",\"linecolor\":\"white\",\"ticks\":\"\",\"title\":{\"standoff\":15},\"zerolinecolor\":\"white\",\"automargin\":true,\"zerolinewidth\":2},\"yaxis\":{\"gridcolor\":\"white\",\"linecolor\":\"white\",\"ticks\":\"\",\"title\":{\"standoff\":15},\"zerolinecolor\":\"white\",\"automargin\":true,\"zerolinewidth\":2},\"scene\":{\"xaxis\":{\"backgroundcolor\":\"#E5ECF6\",\"gridcolor\":\"white\",\"linecolor\":\"white\",\"showbackground\":true,\"ticks\":\"\",\"zerolinecolor\":\"white\",\"gridwidth\":2},\"yaxis\":{\"backgroundcolor\":\"#E5ECF6\",\"gridcolor\":\"white\",\"linecolor\":\"white\",\"showbackground\":true,\"ticks\":\"\",\"zerolinecolor\":\"white\",\"gridwidth\":2},\"zaxis\":{\"backgroundcolor\":\"#E5ECF6\",\"gridcolor\":\"white\",\"linecolor\":\"white\",\"showbackground\":true,\"ticks\":\"\",\"zerolinecolor\":\"white\",\"gridwidth\":2}},\"shapedefaults\":{\"line\":{\"color\":\"#2a3f5f\"}},\"annotationdefaults\":{\"arrowcolor\":\"#2a3f5f\",\"arrowhead\":0,\"arrowwidth\":1},\"geo\":{\"bgcolor\":\"white\",\"landcolor\":\"#E5ECF6\",\"subunitcolor\":\"white\",\"showland\":true,\"showlakes\":true,\"lakecolor\":\"white\"},\"title\":{\"x\":0.05},\"mapbox\":{\"style\":\"light\"}}},\"xaxis\":{\"anchor\":\"y\",\"domain\":[0.0,1.0],\"title\":{\"text\":\"Real\"}},\"yaxis\":{\"anchor\":\"x\",\"domain\":[0.0,1.0],\"title\":{\"text\":\"Imaginary\"}},\"legend\":{\"tracegroupgap\":0},\"title\":{\"text\":\"Eigenvalues of Head L11H11 of GPT-2 Small\"}},                        {\"responsive\": true}                    ).then(function(){\n",
                            "                            \n",
                            "var gd = document.getElementById('1e3711f8-c7bc-42a1-aea4-6c909a93f24e');\n",
                            "var x = new MutationObserver(function (mutations, observer) {{\n",
                            "        var display = window.getComputedStyle(gd).display;\n",
                            "        if (!display || display === 'none') {{\n",
                            "            console.log([gd, 'removed!']);\n",
                            "            Plotly.purge(gd);\n",
                            "            observer.disconnect();\n",
                            "        }}\n",
                            "}});\n",
                            "\n",
                            "// Listen for the removal of the full notebook cells\n",
                            "var notebookContainer = gd.closest('#notebook-container');\n",
                            "if (notebookContainer) {{\n",
                            "    x.observe(notebookContainer, {childList: true});\n",
                            "}}\n",
                            "\n",
                            "// Listen for the clearing of the current output cell\n",
                            "var outputEl = gd.closest('.output');\n",
                            "if (outputEl) {{\n",
                            "    x.observe(outputEl, {childList: true});\n",
                            "}}\n",
                            "\n",
                            "                        })                };                            </script>        </div>\n",
                            "</body>\n",
                            "</html>"
                        ]
                    },
                    "metadata": {},
                    "output_type": "display_data"
                }
            ],
            "source": [
                "scatter(\n",
                "    x=OV_circuit_all_heads_eigenvalues[-1, -1, :].real,\n",
                "    y=OV_circuit_all_heads_eigenvalues[-1, -1, :].imag,\n",
                "    title=\"Eigenvalues of Head L11H11 of GPT-2 Small\",\n",
                "    xaxis=\"Real\",\n",
                "    yaxis=\"Imaginary\",\n",
                ")"
            ]
        },
        {
            "cell_type": "markdown",
            "metadata": {},
            "source": [
                "We can even look at the full OV circuit, from the input tokens to output tokens: $W_E W_V W_O W_U$. This is a `[d_vocab, d_vocab]==[50257, 50257]` matrix, so absolutely enormous, even for a single head. But with the FactoredMatrix class, we can compute the full eigenvalue copying score of every head in a few seconds."
            ]
        },
        {
            "cell_type": "code",
            "execution_count": null,
            "metadata": {},
            "outputs": [
                {
                    "name": "stdout",
                    "output_type": "stream",
                    "text": [
                        "FactoredMatrix: Shape(torch.Size([12, 12, 50257, 50257])), Hidden Dim(64)\n"
                    ]
                }
            ],
            "source": [
                "full_OV_circuit = model.embed.W_E @ OV_circuit_all_heads @ model.unembed.W_U\n",
                "print(full_OV_circuit)"
            ]
        },
        {
            "cell_type": "code",
            "execution_count": null,
            "metadata": {},
            "outputs": [
                {
                    "name": "stdout",
                    "output_type": "stream",
                    "text": [
                        "torch.Size([12, 12, 64])\n",
                        "torch.complex64\n"
                    ]
                }
            ],
            "source": [
                "full_OV_circuit_eigenvalues = full_OV_circuit.eigenvalues\n",
                "print(full_OV_circuit_eigenvalues.shape)\n",
                "print(full_OV_circuit_eigenvalues.dtype)"
            ]
        },
        {
            "cell_type": "code",
            "execution_count": null,
            "metadata": {},
            "outputs": [
                {
                    "data": {
                        "text/html": [
                            "<html>\n",
                            "<head><meta charset=\"utf-8\" /></head>\n",
                            "<body>\n",
                            "    <div>            <script src=\"https://cdnjs.cloudflare.com/ajax/libs/mathjax/2.7.5/MathJax.js?config=TeX-AMS-MML_SVG\"></script><script type=\"text/javascript\">if (window.MathJax && window.MathJax.Hub && window.MathJax.Hub.Config) {window.MathJax.Hub.Config({SVG: {font: \"STIX-Web\"}});}</script>                <script type=\"text/javascript\">window.PlotlyConfig = {MathJaxConfig: 'local'};</script>\n",
                            "        <script charset=\"utf-8\" src=\"https://cdn.plot.ly/plotly-2.26.0.min.js\"></script>                <div id=\"c709dad6-6ca6-4c75-8231-0ee7b1e7e752\" class=\"plotly-graph-div\" style=\"height:525px; width:100%;\"></div>            <script type=\"text/javascript\">                                    window.PLOTLYENV=window.PLOTLYENV || {};                                    if (document.getElementById(\"c709dad6-6ca6-4c75-8231-0ee7b1e7e752\")) {                    Plotly.newPlot(                        \"c709dad6-6ca6-4c75-8231-0ee7b1e7e752\",                        [{\"coloraxis\":\"coloraxis\",\"name\":\"0\",\"z\":[[0.8356368541717529,0.5853535532951355,0.5105839967727661,0.7843376398086548,0.8644158840179443,0.7026588320732117,0.8969924449920654,0.5868821740150452,0.4248652160167694,-0.16337503492832184,0.4626856744289398,0.2760537266731262],[-0.05292005464434624,-0.3177315592765808,-0.4810580015182495,-0.783806562423706,-0.6360208988189697,-0.7758680582046509,0.9681803584098816,0.8119115233421326,-0.7510465383529663,-0.6878446340560913,-0.6429886221885681,-0.9985855221748352],[-0.6598327159881592,0.9152501821517944,0.5461500883102417,-0.4874398708343506,0.7720565795898438,-0.7541061639785767,-0.8472450971603394,-0.6948987245559692,-0.1557510942220688,0.24442273378372192,-0.9106623530387878,-0.9439151287078857],[0.6486894488334656,-0.5592910647392273,0.5935594439506531,0.7843042016029358,-0.8150346875190735,0.6130048036575317,0.16785870492458344,0.35195884108543396,-0.6837263107299805,0.22237683832645416,-0.9929219484329224,0.6535818576812744],[0.5740951299667358,0.3640132546424866,0.09609055519104004,0.9359623193740845,-0.9228774309158325,0.6191076636314392,-0.33572638034820557,-0.998464822769165,0.6448631286621094,0.8468661308288574,-0.7557657361030579,0.9527971148490906],[0.7326545715332031,0.532416820526123,0.9732668995857239,0.7239248752593994,0.25538960099220276,0.815841555595398,0.6655788421630859,0.9287101030349731,-0.5660438537597656,-0.890874445438385,0.9834234118461609,-0.9981180429458618],[0.9698693156242371,0.7439671158790588,-0.35639339685440063,0.6022988557815552,0.9708116054534912,-0.9278276562690735,-0.996231734752655,0.8345208168029785,0.9714328050613403,0.8158544898033142,0.5902576446533203,0.8199342489242554],[0.9820225834846497,0.9859328269958496,0.5152459144592285,-0.5610516667366028,0.9663665890693665,0.9495159983634949,-0.5204814076423645,0.3104749917984009,0.9859084486961365,0.7797460556030273,0.6738530397415161,0.3919741213321686],[-0.906204104423523,0.11750980466604233,0.8077875375747681,0.4169303774833679,0.9829014539718628,0.9902303218841553,0.7847102880477905,0.994563102722168,0.9868024587631226,-0.26804423332214355,-0.9908866882324219,0.745792806148529],[0.9906191825866699,-0.18231149017810822,0.97578364610672,0.9986749887466431,0.2544330358505249,-0.954406201839447,0.5869243144989014,-0.23537996411323547,0.9550502896308899,0.25511977076530457,0.9929870963096619,0.09052591770887375],[0.9707273244857788,0.6956093311309814,0.6280022263526917,0.7902867794036865,0.9343841075897217,0.989579439163208,0.9436283707618713,-0.10834993422031403,-0.3431112766265869,0.9986708760261536,0.5086739659309387,0.9949507713317871],[0.8283133506774902,0.9432437419891357,0.9491766095161438,0.9995352029800415,0.5712319612503052,0.8055234551429749,0.6781864166259766,0.8272571563720703,0.8314797282218933,0.8778656721115112,0.9944958686828613,0.9973865151405334]],\"type\":\"heatmap\",\"xaxis\":\"x\",\"yaxis\":\"y\",\"hovertemplate\":\"Head: %{x}\\u003cbr\\u003eLayer: %{y}\\u003cbr\\u003ecolor: %{z}\\u003cextra\\u003e\\u003c\\u002fextra\\u003e\"}],                        {\"template\":{\"data\":{\"histogram2dcontour\":[{\"type\":\"histogram2dcontour\",\"colorbar\":{\"outlinewidth\":0,\"ticks\":\"\"},\"colorscale\":[[0.0,\"#0d0887\"],[0.1111111111111111,\"#46039f\"],[0.2222222222222222,\"#7201a8\"],[0.3333333333333333,\"#9c179e\"],[0.4444444444444444,\"#bd3786\"],[0.5555555555555556,\"#d8576b\"],[0.6666666666666666,\"#ed7953\"],[0.7777777777777778,\"#fb9f3a\"],[0.8888888888888888,\"#fdca26\"],[1.0,\"#f0f921\"]]}],\"choropleth\":[{\"type\":\"choropleth\",\"colorbar\":{\"outlinewidth\":0,\"ticks\":\"\"}}],\"histogram2d\":[{\"type\":\"histogram2d\",\"colorbar\":{\"outlinewidth\":0,\"ticks\":\"\"},\"colorscale\":[[0.0,\"#0d0887\"],[0.1111111111111111,\"#46039f\"],[0.2222222222222222,\"#7201a8\"],[0.3333333333333333,\"#9c179e\"],[0.4444444444444444,\"#bd3786\"],[0.5555555555555556,\"#d8576b\"],[0.6666666666666666,\"#ed7953\"],[0.7777777777777778,\"#fb9f3a\"],[0.8888888888888888,\"#fdca26\"],[1.0,\"#f0f921\"]]}],\"heatmap\":[{\"type\":\"heatmap\",\"colorbar\":{\"outlinewidth\":0,\"ticks\":\"\"},\"colorscale\":[[0.0,\"#0d0887\"],[0.1111111111111111,\"#46039f\"],[0.2222222222222222,\"#7201a8\"],[0.3333333333333333,\"#9c179e\"],[0.4444444444444444,\"#bd3786\"],[0.5555555555555556,\"#d8576b\"],[0.6666666666666666,\"#ed7953\"],[0.7777777777777778,\"#fb9f3a\"],[0.8888888888888888,\"#fdca26\"],[1.0,\"#f0f921\"]]}],\"heatmapgl\":[{\"type\":\"heatmapgl\",\"colorbar\":{\"outlinewidth\":0,\"ticks\":\"\"},\"colorscale\":[[0.0,\"#0d0887\"],[0.1111111111111111,\"#46039f\"],[0.2222222222222222,\"#7201a8\"],[0.3333333333333333,\"#9c179e\"],[0.4444444444444444,\"#bd3786\"],[0.5555555555555556,\"#d8576b\"],[0.6666666666666666,\"#ed7953\"],[0.7777777777777778,\"#fb9f3a\"],[0.8888888888888888,\"#fdca26\"],[1.0,\"#f0f921\"]]}],\"contourcarpet\":[{\"type\":\"contourcarpet\",\"colorbar\":{\"outlinewidth\":0,\"ticks\":\"\"}}],\"contour\":[{\"type\":\"contour\",\"colorbar\":{\"outlinewidth\":0,\"ticks\":\"\"},\"colorscale\":[[0.0,\"#0d0887\"],[0.1111111111111111,\"#46039f\"],[0.2222222222222222,\"#7201a8\"],[0.3333333333333333,\"#9c179e\"],[0.4444444444444444,\"#bd3786\"],[0.5555555555555556,\"#d8576b\"],[0.6666666666666666,\"#ed7953\"],[0.7777777777777778,\"#fb9f3a\"],[0.8888888888888888,\"#fdca26\"],[1.0,\"#f0f921\"]]}],\"surface\":[{\"type\":\"surface\",\"colorbar\":{\"outlinewidth\":0,\"ticks\":\"\"},\"colorscale\":[[0.0,\"#0d0887\"],[0.1111111111111111,\"#46039f\"],[0.2222222222222222,\"#7201a8\"],[0.3333333333333333,\"#9c179e\"],[0.4444444444444444,\"#bd3786\"],[0.5555555555555556,\"#d8576b\"],[0.6666666666666666,\"#ed7953\"],[0.7777777777777778,\"#fb9f3a\"],[0.8888888888888888,\"#fdca26\"],[1.0,\"#f0f921\"]]}],\"mesh3d\":[{\"type\":\"mesh3d\",\"colorbar\":{\"outlinewidth\":0,\"ticks\":\"\"}}],\"scatter\":[{\"fillpattern\":{\"fillmode\":\"overlay\",\"size\":10,\"solidity\":0.2},\"type\":\"scatter\"}],\"parcoords\":[{\"type\":\"parcoords\",\"line\":{\"colorbar\":{\"outlinewidth\":0,\"ticks\":\"\"}}}],\"scatterpolargl\":[{\"type\":\"scatterpolargl\",\"marker\":{\"colorbar\":{\"outlinewidth\":0,\"ticks\":\"\"}}}],\"bar\":[{\"error_x\":{\"color\":\"#2a3f5f\"},\"error_y\":{\"color\":\"#2a3f5f\"},\"marker\":{\"line\":{\"color\":\"#E5ECF6\",\"width\":0.5},\"pattern\":{\"fillmode\":\"overlay\",\"size\":10,\"solidity\":0.2}},\"type\":\"bar\"}],\"scattergeo\":[{\"type\":\"scattergeo\",\"marker\":{\"colorbar\":{\"outlinewidth\":0,\"ticks\":\"\"}}}],\"scatterpolar\":[{\"type\":\"scatterpolar\",\"marker\":{\"colorbar\":{\"outlinewidth\":0,\"ticks\":\"\"}}}],\"histogram\":[{\"marker\":{\"pattern\":{\"fillmode\":\"overlay\",\"size\":10,\"solidity\":0.2}},\"type\":\"histogram\"}],\"scattergl\":[{\"type\":\"scattergl\",\"marker\":{\"colorbar\":{\"outlinewidth\":0,\"ticks\":\"\"}}}],\"scatter3d\":[{\"type\":\"scatter3d\",\"line\":{\"colorbar\":{\"outlinewidth\":0,\"ticks\":\"\"}},\"marker\":{\"colorbar\":{\"outlinewidth\":0,\"ticks\":\"\"}}}],\"scattermapbox\":[{\"type\":\"scattermapbox\",\"marker\":{\"colorbar\":{\"outlinewidth\":0,\"ticks\":\"\"}}}],\"scatterternary\":[{\"type\":\"scatterternary\",\"marker\":{\"colorbar\":{\"outlinewidth\":0,\"ticks\":\"\"}}}],\"scattercarpet\":[{\"type\":\"scattercarpet\",\"marker\":{\"colorbar\":{\"outlinewidth\":0,\"ticks\":\"\"}}}],\"carpet\":[{\"aaxis\":{\"endlinecolor\":\"#2a3f5f\",\"gridcolor\":\"white\",\"linecolor\":\"white\",\"minorgridcolor\":\"white\",\"startlinecolor\":\"#2a3f5f\"},\"baxis\":{\"endlinecolor\":\"#2a3f5f\",\"gridcolor\":\"white\",\"linecolor\":\"white\",\"minorgridcolor\":\"white\",\"startlinecolor\":\"#2a3f5f\"},\"type\":\"carpet\"}],\"table\":[{\"cells\":{\"fill\":{\"color\":\"#EBF0F8\"},\"line\":{\"color\":\"white\"}},\"header\":{\"fill\":{\"color\":\"#C8D4E3\"},\"line\":{\"color\":\"white\"}},\"type\":\"table\"}],\"barpolar\":[{\"marker\":{\"line\":{\"color\":\"#E5ECF6\",\"width\":0.5},\"pattern\":{\"fillmode\":\"overlay\",\"size\":10,\"solidity\":0.2}},\"type\":\"barpolar\"}],\"pie\":[{\"automargin\":true,\"type\":\"pie\"}]},\"layout\":{\"autotypenumbers\":\"strict\",\"colorway\":[\"#636efa\",\"#EF553B\",\"#00cc96\",\"#ab63fa\",\"#FFA15A\",\"#19d3f3\",\"#FF6692\",\"#B6E880\",\"#FF97FF\",\"#FECB52\"],\"font\":{\"color\":\"#2a3f5f\"},\"hovermode\":\"closest\",\"hoverlabel\":{\"align\":\"left\"},\"paper_bgcolor\":\"white\",\"plot_bgcolor\":\"#E5ECF6\",\"polar\":{\"bgcolor\":\"#E5ECF6\",\"angularaxis\":{\"gridcolor\":\"white\",\"linecolor\":\"white\",\"ticks\":\"\"},\"radialaxis\":{\"gridcolor\":\"white\",\"linecolor\":\"white\",\"ticks\":\"\"}},\"ternary\":{\"bgcolor\":\"#E5ECF6\",\"aaxis\":{\"gridcolor\":\"white\",\"linecolor\":\"white\",\"ticks\":\"\"},\"baxis\":{\"gridcolor\":\"white\",\"linecolor\":\"white\",\"ticks\":\"\"},\"caxis\":{\"gridcolor\":\"white\",\"linecolor\":\"white\",\"ticks\":\"\"}},\"coloraxis\":{\"colorbar\":{\"outlinewidth\":0,\"ticks\":\"\"}},\"colorscale\":{\"sequential\":[[0.0,\"#0d0887\"],[0.1111111111111111,\"#46039f\"],[0.2222222222222222,\"#7201a8\"],[0.3333333333333333,\"#9c179e\"],[0.4444444444444444,\"#bd3786\"],[0.5555555555555556,\"#d8576b\"],[0.6666666666666666,\"#ed7953\"],[0.7777777777777778,\"#fb9f3a\"],[0.8888888888888888,\"#fdca26\"],[1.0,\"#f0f921\"]],\"sequentialminus\":[[0.0,\"#0d0887\"],[0.1111111111111111,\"#46039f\"],[0.2222222222222222,\"#7201a8\"],[0.3333333333333333,\"#9c179e\"],[0.4444444444444444,\"#bd3786\"],[0.5555555555555556,\"#d8576b\"],[0.6666666666666666,\"#ed7953\"],[0.7777777777777778,\"#fb9f3a\"],[0.8888888888888888,\"#fdca26\"],[1.0,\"#f0f921\"]],\"diverging\":[[0,\"#8e0152\"],[0.1,\"#c51b7d\"],[0.2,\"#de77ae\"],[0.3,\"#f1b6da\"],[0.4,\"#fde0ef\"],[0.5,\"#f7f7f7\"],[0.6,\"#e6f5d0\"],[0.7,\"#b8e186\"],[0.8,\"#7fbc41\"],[0.9,\"#4d9221\"],[1,\"#276419\"]]},\"xaxis\":{\"gridcolor\":\"white\",\"linecolor\":\"white\",\"ticks\":\"\",\"title\":{\"standoff\":15},\"zerolinecolor\":\"white\",\"automargin\":true,\"zerolinewidth\":2},\"yaxis\":{\"gridcolor\":\"white\",\"linecolor\":\"white\",\"ticks\":\"\",\"title\":{\"standoff\":15},\"zerolinecolor\":\"white\",\"automargin\":true,\"zerolinewidth\":2},\"scene\":{\"xaxis\":{\"backgroundcolor\":\"#E5ECF6\",\"gridcolor\":\"white\",\"linecolor\":\"white\",\"showbackground\":true,\"ticks\":\"\",\"zerolinecolor\":\"white\",\"gridwidth\":2},\"yaxis\":{\"backgroundcolor\":\"#E5ECF6\",\"gridcolor\":\"white\",\"linecolor\":\"white\",\"showbackground\":true,\"ticks\":\"\",\"zerolinecolor\":\"white\",\"gridwidth\":2},\"zaxis\":{\"backgroundcolor\":\"#E5ECF6\",\"gridcolor\":\"white\",\"linecolor\":\"white\",\"showbackground\":true,\"ticks\":\"\",\"zerolinecolor\":\"white\",\"gridwidth\":2}},\"shapedefaults\":{\"line\":{\"color\":\"#2a3f5f\"}},\"annotationdefaults\":{\"arrowcolor\":\"#2a3f5f\",\"arrowhead\":0,\"arrowwidth\":1},\"geo\":{\"bgcolor\":\"white\",\"landcolor\":\"#E5ECF6\",\"subunitcolor\":\"white\",\"showland\":true,\"showlakes\":true,\"lakecolor\":\"white\"},\"title\":{\"x\":0.05},\"mapbox\":{\"style\":\"light\"}}},\"xaxis\":{\"anchor\":\"y\",\"domain\":[0.0,1.0],\"scaleanchor\":\"y\",\"constrain\":\"domain\",\"title\":{\"text\":\"Head\"}},\"yaxis\":{\"anchor\":\"x\",\"domain\":[0.0,1.0],\"autorange\":\"reversed\",\"constrain\":\"domain\",\"title\":{\"text\":\"Layer\"}},\"coloraxis\":{\"colorscale\":[[0.0,\"rgb(103,0,31)\"],[0.1,\"rgb(178,24,43)\"],[0.2,\"rgb(214,96,77)\"],[0.3,\"rgb(244,165,130)\"],[0.4,\"rgb(253,219,199)\"],[0.5,\"rgb(247,247,247)\"],[0.6,\"rgb(209,229,240)\"],[0.7,\"rgb(146,197,222)\"],[0.8,\"rgb(67,147,195)\"],[0.9,\"rgb(33,102,172)\"],[1.0,\"rgb(5,48,97)\"]],\"cmid\":0.0,\"cmin\":-1.0,\"cmax\":1.0},\"title\":{\"text\":\"OV Copying Score for each head in GPT-2 Small\"}},                        {\"responsive\": true}                    ).then(function(){\n",
                            "                            \n",
                            "var gd = document.getElementById('c709dad6-6ca6-4c75-8231-0ee7b1e7e752');\n",
                            "var x = new MutationObserver(function (mutations, observer) {{\n",
                            "        var display = window.getComputedStyle(gd).display;\n",
                            "        if (!display || display === 'none') {{\n",
                            "            console.log([gd, 'removed!']);\n",
                            "            Plotly.purge(gd);\n",
                            "            observer.disconnect();\n",
                            "        }}\n",
                            "}});\n",
                            "\n",
                            "// Listen for the removal of the full notebook cells\n",
                            "var notebookContainer = gd.closest('#notebook-container');\n",
                            "if (notebookContainer) {{\n",
                            "    x.observe(notebookContainer, {childList: true});\n",
                            "}}\n",
                            "\n",
                            "// Listen for the clearing of the current output cell\n",
                            "var outputEl = gd.closest('.output');\n",
                            "if (outputEl) {{\n",
                            "    x.observe(outputEl, {childList: true});\n",
                            "}}\n",
                            "\n",
                            "                        })                };                            </script>        </div>\n",
                            "</body>\n",
                            "</html>"
                        ]
                    },
                    "metadata": {},
                    "output_type": "display_data"
                }
            ],
            "source": [
                "full_OV_copying_score = full_OV_circuit_eigenvalues.sum(\n",
                "    dim=-1\n",
                ").real / full_OV_circuit_eigenvalues.abs().sum(dim=-1)\n",
                "imshow(\n",
                "    utils.to_numpy(full_OV_copying_score),\n",
                "    xaxis=\"Head\",\n",
                "    yaxis=\"Layer\",\n",
                "    title=\"OV Copying Score for each head in GPT-2 Small\",\n",
                "    zmax=1.0,\n",
                "    zmin=-1.0,\n",
                ")"
            ]
        },
        {
            "cell_type": "markdown",
            "metadata": {},
            "source": [
                "Interestingly, these are highly (but not perfectly!) correlated. I'm not sure what to read from this, or what's up with the weird outlier heads!"
            ]
        },
        {
            "cell_type": "code",
            "execution_count": null,
            "metadata": {},
            "outputs": [
                {
                    "data": {
                        "text/html": [
                            "<html>\n",
                            "<head><meta charset=\"utf-8\" /></head>\n",
                            "<body>\n",
                            "    <div>            <script src=\"https://cdnjs.cloudflare.com/ajax/libs/mathjax/2.7.5/MathJax.js?config=TeX-AMS-MML_SVG\"></script><script type=\"text/javascript\">if (window.MathJax && window.MathJax.Hub && window.MathJax.Hub.Config) {window.MathJax.Hub.Config({SVG: {font: \"STIX-Web\"}});}</script>                <script type=\"text/javascript\">window.PlotlyConfig = {MathJaxConfig: 'local'};</script>\n",
                            "        <script charset=\"utf-8\" src=\"https://cdn.plot.ly/plotly-2.26.0.min.js\"></script>                <div id=\"3e59929d-31e9-49b1-ad1a-9d9811d4801d\" class=\"plotly-graph-div\" style=\"height:525px; width:100%;\"></div>            <script type=\"text/javascript\">                                    window.PLOTLYENV=window.PLOTLYENV || {};                                    if (document.getElementById(\"3e59929d-31e9-49b1-ad1a-9d9811d4801d\")) {                    Plotly.newPlot(                        \"3e59929d-31e9-49b1-ad1a-9d9811d4801d\",                        [{\"hovertemplate\":\"\\u003cb\\u003e%{hovertext}\\u003c\\u002fb\\u003e\\u003cbr\\u003e\\u003cbr\\u003eFull OV Copying Score=%{x}\\u003cbr\\u003eOV Copying Score=%{y}\\u003cextra\\u003e\\u003c\\u002fextra\\u003e\",\"hovertext\":[\"L0H0\",\"L0H1\",\"L0H2\",\"L0H3\",\"L0H4\",\"L0H5\",\"L0H6\",\"L0H7\",\"L0H8\",\"L0H9\",\"L0H10\",\"L0H11\",\"L1H0\",\"L1H1\",\"L1H2\",\"L1H3\",\"L1H4\",\"L1H5\",\"L1H6\",\"L1H7\",\"L1H8\",\"L1H9\",\"L1H10\",\"L1H11\",\"L2H0\",\"L2H1\",\"L2H2\",\"L2H3\",\"L2H4\",\"L2H5\",\"L2H6\",\"L2H7\",\"L2H8\",\"L2H9\",\"L2H10\",\"L2H11\",\"L3H0\",\"L3H1\",\"L3H2\",\"L3H3\",\"L3H4\",\"L3H5\",\"L3H6\",\"L3H7\",\"L3H8\",\"L3H9\",\"L3H10\",\"L3H11\",\"L4H0\",\"L4H1\",\"L4H2\",\"L4H3\",\"L4H4\",\"L4H5\",\"L4H6\",\"L4H7\",\"L4H8\",\"L4H9\",\"L4H10\",\"L4H11\",\"L5H0\",\"L5H1\",\"L5H2\",\"L5H3\",\"L5H4\",\"L5H5\",\"L5H6\",\"L5H7\",\"L5H8\",\"L5H9\",\"L5H10\",\"L5H11\",\"L6H0\",\"L6H1\",\"L6H2\",\"L6H3\",\"L6H4\",\"L6H5\",\"L6H6\",\"L6H7\",\"L6H8\",\"L6H9\",\"L6H10\",\"L6H11\",\"L7H0\",\"L7H1\",\"L7H2\",\"L7H3\",\"L7H4\",\"L7H5\",\"L7H6\",\"L7H7\",\"L7H8\",\"L7H9\",\"L7H10\",\"L7H11\",\"L8H0\",\"L8H1\",\"L8H2\",\"L8H3\",\"L8H4\",\"L8H5\",\"L8H6\",\"L8H7\",\"L8H8\",\"L8H9\",\"L8H10\",\"L8H11\",\"L9H0\",\"L9H1\",\"L9H2\",\"L9H3\",\"L9H4\",\"L9H5\",\"L9H6\",\"L9H7\",\"L9H8\",\"L9H9\",\"L9H10\",\"L9H11\",\"L10H0\",\"L10H1\",\"L10H2\",\"L10H3\",\"L10H4\",\"L10H5\",\"L10H6\",\"L10H7\",\"L10H8\",\"L10H9\",\"L10H10\",\"L10H11\",\"L11H0\",\"L11H1\",\"L11H2\",\"L11H3\",\"L11H4\",\"L11H5\",\"L11H6\",\"L11H7\",\"L11H8\",\"L11H9\",\"L11H10\",\"L11H11\"],\"legendgroup\":\"\",\"marker\":{\"color\":\"#636efa\",\"symbol\":\"circle\"},\"mode\":\"markers\",\"name\":\"\",\"orientation\":\"v\",\"showlegend\":false,\"x\":[0.8356368541717529,0.5853535532951355,0.5105839967727661,0.7843376398086548,0.8644158840179443,0.7026588320732117,0.8969924449920654,0.5868821740150452,0.4248652160167694,-0.16337503492832184,0.4626856744289398,0.2760537266731262,-0.05292005464434624,-0.3177315592765808,-0.4810580015182495,-0.783806562423706,-0.6360208988189697,-0.7758680582046509,0.9681803584098816,0.8119115233421326,-0.7510465383529663,-0.6878446340560913,-0.6429886221885681,-0.9985855221748352,-0.6598327159881592,0.9152501821517944,0.5461500883102417,-0.4874398708343506,0.7720565795898438,-0.7541061639785767,-0.8472450971603394,-0.6948987245559692,-0.1557510942220688,0.24442273378372192,-0.9106623530387878,-0.9439151287078857,0.6486894488334656,-0.5592910647392273,0.5935594439506531,0.7843042016029358,-0.8150346875190735,0.6130048036575317,0.16785870492458344,0.35195884108543396,-0.6837263107299805,0.22237683832645416,-0.9929219484329224,0.6535818576812744,0.5740951299667358,0.3640132546424866,0.09609055519104004,0.9359623193740845,-0.9228774309158325,0.6191076636314392,-0.33572638034820557,-0.998464822769165,0.6448631286621094,0.8468661308288574,-0.7557657361030579,0.9527971148490906,0.7326545715332031,0.532416820526123,0.9732668995857239,0.7239248752593994,0.25538960099220276,0.815841555595398,0.6655788421630859,0.9287101030349731,-0.5660438537597656,-0.890874445438385,0.9834234118461609,-0.9981180429458618,0.9698693156242371,0.7439671158790588,-0.35639339685440063,0.6022988557815552,0.9708116054534912,-0.9278276562690735,-0.996231734752655,0.8345208168029785,0.9714328050613403,0.8158544898033142,0.5902576446533203,0.8199342489242554,0.9820225834846497,0.9859328269958496,0.5152459144592285,-0.5610516667366028,0.9663665890693665,0.9495159983634949,-0.5204814076423645,0.3104749917984009,0.9859084486961365,0.7797460556030273,0.6738530397415161,0.3919741213321686,-0.906204104423523,0.11750980466604233,0.8077875375747681,0.4169303774833679,0.9829014539718628,0.9902303218841553,0.7847102880477905,0.994563102722168,0.9868024587631226,-0.26804423332214355,-0.9908866882324219,0.745792806148529,0.9906191825866699,-0.18231149017810822,0.97578364610672,0.9986749887466431,0.2544330358505249,-0.954406201839447,0.5869243144989014,-0.23537996411323547,0.9550502896308899,0.25511977076530457,0.9929870963096619,0.09052591770887375,0.9707273244857788,0.6956093311309814,0.6280022263526917,0.7902867794036865,0.9343841075897217,0.989579439163208,0.9436283707618713,-0.10834993422031403,-0.3431112766265869,0.9986708760261536,0.5086739659309387,0.9949507713317871,0.8283133506774902,0.9432437419891357,0.9491766095161438,0.9995352029800415,0.5712319612503052,0.8055234551429749,0.6781864166259766,0.8272571563720703,0.8314797282218933,0.8778656721115112,0.9944958686828613,0.9973865151405334],\"xaxis\":\"x\",\"y\":[0.7775010466575623,0.3527269959449768,0.25961846113204956,0.6670257449150085,0.8384260535240173,0.5584430694580078,0.8444744944572449,0.4137910008430481,0.24488940834999084,0.028157662600278854,0.3584098219871521,0.16288265585899353,-0.45419126749038696,-0.6529328227043152,-0.5484569072723389,-0.7990369200706482,-0.7736425995826721,-0.8522581458091736,0.9774324893951416,0.6626249551773071,-0.7303224205970764,-0.7007019519805908,-0.6946625709533691,-0.9996722340583801,-0.7837163805961609,0.8967759013175964,0.4750954806804657,-0.667197585105896,0.7881461977958679,-0.8547751307487488,-0.9054184556007385,-0.5749384760856628,-0.32175111770629883,-0.028594352304935455,-0.9247617721557617,-0.9699268341064453,0.5864037275314331,-0.7614347338676453,0.5971695780754089,0.7854393720626831,-0.8788883686065674,0.3908745050430298,0.044738516211509705,0.11028008162975311,-0.8169988989830017,0.22129566967487335,-0.9939578771591187,0.5774399042129517,0.525479257106781,0.3049013912677765,-0.10729152709245682,0.9433151483535767,-0.9314428567886353,0.5273632407188416,-0.4264712631702423,-0.9984429478645325,0.5296756029129028,0.8604294061660767,-0.8895052075386047,0.9556970596313477,0.6629186868667603,0.42956963181495667,0.9736858010292053,0.6555483937263489,0.12201889604330063,0.7442770004272461,0.5037952661514282,0.9525359272956848,-0.6507164239883423,-0.9316279292106628,0.9791510105133057,-0.9972584843635559,0.9613031148910522,0.7501779794692993,-0.3806658685207367,0.6429786682128906,0.9557769298553467,-0.9428839683532715,-0.9948079586029053,0.785298764705658,0.9657301306724548,0.707301676273346,0.3687230050563812,0.8128011226654053,0.9659481644630432,0.9730121493339539,0.31900617480278015,-0.30290520191192627,0.9790953397750854,0.9357923269271851,-0.5550313591957092,-0.005466493312269449,0.9867776036262512,0.8249565958976746,0.566429615020752,0.1000526174902916,-0.9464486837387085,-0.25471997261047363,0.6522327661514282,0.1415255218744278,0.9884140491485596,0.9860583543777466,0.6949270367622375,0.9901810884475708,0.9791202545166016,-0.2359553426504135,-0.9820711612701416,0.6506689190864563,0.9895943999290466,-0.29178157448768616,0.9714024662971497,0.9951602220535278,0.18783769011497498,-0.9460937976837158,0.47801902890205383,-0.2489192932844162,0.9437097907066345,0.11866245418787003,0.9941242933273315,-0.38088178634643555,0.9564487934112549,0.5542725920677185,0.42118048667907715,0.6628789901733398,0.8659590482711792,0.9937117695808411,0.9069075584411621,0.39811065793037415,-0.4134220480918884,0.9971913695335388,0.34596705436706543,0.9938657283782959,0.5891268849372864,0.9313740134239197,0.9268401861190796,0.9993564486503601,0.6227539777755737,0.8463947772979736,0.6584346294403076,0.8423126339912415,0.2978496253490448,0.8728679418563843,0.9963144659996033,0.986752450466156],\"yaxis\":\"y\",\"type\":\"scatter\"}],                        {\"template\":{\"data\":{\"histogram2dcontour\":[{\"type\":\"histogram2dcontour\",\"colorbar\":{\"outlinewidth\":0,\"ticks\":\"\"},\"colorscale\":[[0.0,\"#0d0887\"],[0.1111111111111111,\"#46039f\"],[0.2222222222222222,\"#7201a8\"],[0.3333333333333333,\"#9c179e\"],[0.4444444444444444,\"#bd3786\"],[0.5555555555555556,\"#d8576b\"],[0.6666666666666666,\"#ed7953\"],[0.7777777777777778,\"#fb9f3a\"],[0.8888888888888888,\"#fdca26\"],[1.0,\"#f0f921\"]]}],\"choropleth\":[{\"type\":\"choropleth\",\"colorbar\":{\"outlinewidth\":0,\"ticks\":\"\"}}],\"histogram2d\":[{\"type\":\"histogram2d\",\"colorbar\":{\"outlinewidth\":0,\"ticks\":\"\"},\"colorscale\":[[0.0,\"#0d0887\"],[0.1111111111111111,\"#46039f\"],[0.2222222222222222,\"#7201a8\"],[0.3333333333333333,\"#9c179e\"],[0.4444444444444444,\"#bd3786\"],[0.5555555555555556,\"#d8576b\"],[0.6666666666666666,\"#ed7953\"],[0.7777777777777778,\"#fb9f3a\"],[0.8888888888888888,\"#fdca26\"],[1.0,\"#f0f921\"]]}],\"heatmap\":[{\"type\":\"heatmap\",\"colorbar\":{\"outlinewidth\":0,\"ticks\":\"\"},\"colorscale\":[[0.0,\"#0d0887\"],[0.1111111111111111,\"#46039f\"],[0.2222222222222222,\"#7201a8\"],[0.3333333333333333,\"#9c179e\"],[0.4444444444444444,\"#bd3786\"],[0.5555555555555556,\"#d8576b\"],[0.6666666666666666,\"#ed7953\"],[0.7777777777777778,\"#fb9f3a\"],[0.8888888888888888,\"#fdca26\"],[1.0,\"#f0f921\"]]}],\"heatmapgl\":[{\"type\":\"heatmapgl\",\"colorbar\":{\"outlinewidth\":0,\"ticks\":\"\"},\"colorscale\":[[0.0,\"#0d0887\"],[0.1111111111111111,\"#46039f\"],[0.2222222222222222,\"#7201a8\"],[0.3333333333333333,\"#9c179e\"],[0.4444444444444444,\"#bd3786\"],[0.5555555555555556,\"#d8576b\"],[0.6666666666666666,\"#ed7953\"],[0.7777777777777778,\"#fb9f3a\"],[0.8888888888888888,\"#fdca26\"],[1.0,\"#f0f921\"]]}],\"contourcarpet\":[{\"type\":\"contourcarpet\",\"colorbar\":{\"outlinewidth\":0,\"ticks\":\"\"}}],\"contour\":[{\"type\":\"contour\",\"colorbar\":{\"outlinewidth\":0,\"ticks\":\"\"},\"colorscale\":[[0.0,\"#0d0887\"],[0.1111111111111111,\"#46039f\"],[0.2222222222222222,\"#7201a8\"],[0.3333333333333333,\"#9c179e\"],[0.4444444444444444,\"#bd3786\"],[0.5555555555555556,\"#d8576b\"],[0.6666666666666666,\"#ed7953\"],[0.7777777777777778,\"#fb9f3a\"],[0.8888888888888888,\"#fdca26\"],[1.0,\"#f0f921\"]]}],\"surface\":[{\"type\":\"surface\",\"colorbar\":{\"outlinewidth\":0,\"ticks\":\"\"},\"colorscale\":[[0.0,\"#0d0887\"],[0.1111111111111111,\"#46039f\"],[0.2222222222222222,\"#7201a8\"],[0.3333333333333333,\"#9c179e\"],[0.4444444444444444,\"#bd3786\"],[0.5555555555555556,\"#d8576b\"],[0.6666666666666666,\"#ed7953\"],[0.7777777777777778,\"#fb9f3a\"],[0.8888888888888888,\"#fdca26\"],[1.0,\"#f0f921\"]]}],\"mesh3d\":[{\"type\":\"mesh3d\",\"colorbar\":{\"outlinewidth\":0,\"ticks\":\"\"}}],\"scatter\":[{\"fillpattern\":{\"fillmode\":\"overlay\",\"size\":10,\"solidity\":0.2},\"type\":\"scatter\"}],\"parcoords\":[{\"type\":\"parcoords\",\"line\":{\"colorbar\":{\"outlinewidth\":0,\"ticks\":\"\"}}}],\"scatterpolargl\":[{\"type\":\"scatterpolargl\",\"marker\":{\"colorbar\":{\"outlinewidth\":0,\"ticks\":\"\"}}}],\"bar\":[{\"error_x\":{\"color\":\"#2a3f5f\"},\"error_y\":{\"color\":\"#2a3f5f\"},\"marker\":{\"line\":{\"color\":\"#E5ECF6\",\"width\":0.5},\"pattern\":{\"fillmode\":\"overlay\",\"size\":10,\"solidity\":0.2}},\"type\":\"bar\"}],\"scattergeo\":[{\"type\":\"scattergeo\",\"marker\":{\"colorbar\":{\"outlinewidth\":0,\"ticks\":\"\"}}}],\"scatterpolar\":[{\"type\":\"scatterpolar\",\"marker\":{\"colorbar\":{\"outlinewidth\":0,\"ticks\":\"\"}}}],\"histogram\":[{\"marker\":{\"pattern\":{\"fillmode\":\"overlay\",\"size\":10,\"solidity\":0.2}},\"type\":\"histogram\"}],\"scattergl\":[{\"type\":\"scattergl\",\"marker\":{\"colorbar\":{\"outlinewidth\":0,\"ticks\":\"\"}}}],\"scatter3d\":[{\"type\":\"scatter3d\",\"line\":{\"colorbar\":{\"outlinewidth\":0,\"ticks\":\"\"}},\"marker\":{\"colorbar\":{\"outlinewidth\":0,\"ticks\":\"\"}}}],\"scattermapbox\":[{\"type\":\"scattermapbox\",\"marker\":{\"colorbar\":{\"outlinewidth\":0,\"ticks\":\"\"}}}],\"scatterternary\":[{\"type\":\"scatterternary\",\"marker\":{\"colorbar\":{\"outlinewidth\":0,\"ticks\":\"\"}}}],\"scattercarpet\":[{\"type\":\"scattercarpet\",\"marker\":{\"colorbar\":{\"outlinewidth\":0,\"ticks\":\"\"}}}],\"carpet\":[{\"aaxis\":{\"endlinecolor\":\"#2a3f5f\",\"gridcolor\":\"white\",\"linecolor\":\"white\",\"minorgridcolor\":\"white\",\"startlinecolor\":\"#2a3f5f\"},\"baxis\":{\"endlinecolor\":\"#2a3f5f\",\"gridcolor\":\"white\",\"linecolor\":\"white\",\"minorgridcolor\":\"white\",\"startlinecolor\":\"#2a3f5f\"},\"type\":\"carpet\"}],\"table\":[{\"cells\":{\"fill\":{\"color\":\"#EBF0F8\"},\"line\":{\"color\":\"white\"}},\"header\":{\"fill\":{\"color\":\"#C8D4E3\"},\"line\":{\"color\":\"white\"}},\"type\":\"table\"}],\"barpolar\":[{\"marker\":{\"line\":{\"color\":\"#E5ECF6\",\"width\":0.5},\"pattern\":{\"fillmode\":\"overlay\",\"size\":10,\"solidity\":0.2}},\"type\":\"barpolar\"}],\"pie\":[{\"automargin\":true,\"type\":\"pie\"}]},\"layout\":{\"autotypenumbers\":\"strict\",\"colorway\":[\"#636efa\",\"#EF553B\",\"#00cc96\",\"#ab63fa\",\"#FFA15A\",\"#19d3f3\",\"#FF6692\",\"#B6E880\",\"#FF97FF\",\"#FECB52\"],\"font\":{\"color\":\"#2a3f5f\"},\"hovermode\":\"closest\",\"hoverlabel\":{\"align\":\"left\"},\"paper_bgcolor\":\"white\",\"plot_bgcolor\":\"#E5ECF6\",\"polar\":{\"bgcolor\":\"#E5ECF6\",\"angularaxis\":{\"gridcolor\":\"white\",\"linecolor\":\"white\",\"ticks\":\"\"},\"radialaxis\":{\"gridcolor\":\"white\",\"linecolor\":\"white\",\"ticks\":\"\"}},\"ternary\":{\"bgcolor\":\"#E5ECF6\",\"aaxis\":{\"gridcolor\":\"white\",\"linecolor\":\"white\",\"ticks\":\"\"},\"baxis\":{\"gridcolor\":\"white\",\"linecolor\":\"white\",\"ticks\":\"\"},\"caxis\":{\"gridcolor\":\"white\",\"linecolor\":\"white\",\"ticks\":\"\"}},\"coloraxis\":{\"colorbar\":{\"outlinewidth\":0,\"ticks\":\"\"}},\"colorscale\":{\"sequential\":[[0.0,\"#0d0887\"],[0.1111111111111111,\"#46039f\"],[0.2222222222222222,\"#7201a8\"],[0.3333333333333333,\"#9c179e\"],[0.4444444444444444,\"#bd3786\"],[0.5555555555555556,\"#d8576b\"],[0.6666666666666666,\"#ed7953\"],[0.7777777777777778,\"#fb9f3a\"],[0.8888888888888888,\"#fdca26\"],[1.0,\"#f0f921\"]],\"sequentialminus\":[[0.0,\"#0d0887\"],[0.1111111111111111,\"#46039f\"],[0.2222222222222222,\"#7201a8\"],[0.3333333333333333,\"#9c179e\"],[0.4444444444444444,\"#bd3786\"],[0.5555555555555556,\"#d8576b\"],[0.6666666666666666,\"#ed7953\"],[0.7777777777777778,\"#fb9f3a\"],[0.8888888888888888,\"#fdca26\"],[1.0,\"#f0f921\"]],\"diverging\":[[0,\"#8e0152\"],[0.1,\"#c51b7d\"],[0.2,\"#de77ae\"],[0.3,\"#f1b6da\"],[0.4,\"#fde0ef\"],[0.5,\"#f7f7f7\"],[0.6,\"#e6f5d0\"],[0.7,\"#b8e186\"],[0.8,\"#7fbc41\"],[0.9,\"#4d9221\"],[1,\"#276419\"]]},\"xaxis\":{\"gridcolor\":\"white\",\"linecolor\":\"white\",\"ticks\":\"\",\"title\":{\"standoff\":15},\"zerolinecolor\":\"white\",\"automargin\":true,\"zerolinewidth\":2},\"yaxis\":{\"gridcolor\":\"white\",\"linecolor\":\"white\",\"ticks\":\"\",\"title\":{\"standoff\":15},\"zerolinecolor\":\"white\",\"automargin\":true,\"zerolinewidth\":2},\"scene\":{\"xaxis\":{\"backgroundcolor\":\"#E5ECF6\",\"gridcolor\":\"white\",\"linecolor\":\"white\",\"showbackground\":true,\"ticks\":\"\",\"zerolinecolor\":\"white\",\"gridwidth\":2},\"yaxis\":{\"backgroundcolor\":\"#E5ECF6\",\"gridcolor\":\"white\",\"linecolor\":\"white\",\"showbackground\":true,\"ticks\":\"\",\"zerolinecolor\":\"white\",\"gridwidth\":2},\"zaxis\":{\"backgroundcolor\":\"#E5ECF6\",\"gridcolor\":\"white\",\"linecolor\":\"white\",\"showbackground\":true,\"ticks\":\"\",\"zerolinecolor\":\"white\",\"gridwidth\":2}},\"shapedefaults\":{\"line\":{\"color\":\"#2a3f5f\"}},\"annotationdefaults\":{\"arrowcolor\":\"#2a3f5f\",\"arrowhead\":0,\"arrowwidth\":1},\"geo\":{\"bgcolor\":\"white\",\"landcolor\":\"#E5ECF6\",\"subunitcolor\":\"white\",\"showland\":true,\"showlakes\":true,\"lakecolor\":\"white\"},\"title\":{\"x\":0.05},\"mapbox\":{\"style\":\"light\"}}},\"xaxis\":{\"anchor\":\"y\",\"domain\":[0.0,1.0],\"title\":{\"text\":\"Full OV Copying Score\"}},\"yaxis\":{\"anchor\":\"x\",\"domain\":[0.0,1.0],\"title\":{\"text\":\"OV Copying Score\"}},\"legend\":{\"tracegroupgap\":0},\"title\":{\"text\":\"OV Copying Score for each head in GPT-2 Small\"}},                        {\"responsive\": true}                    ).then(function(){\n",
                            "                            \n",
                            "var gd = document.getElementById('3e59929d-31e9-49b1-ad1a-9d9811d4801d');\n",
                            "var x = new MutationObserver(function (mutations, observer) {{\n",
                            "        var display = window.getComputedStyle(gd).display;\n",
                            "        if (!display || display === 'none') {{\n",
                            "            console.log([gd, 'removed!']);\n",
                            "            Plotly.purge(gd);\n",
                            "            observer.disconnect();\n",
                            "        }}\n",
                            "}});\n",
                            "\n",
                            "// Listen for the removal of the full notebook cells\n",
                            "var notebookContainer = gd.closest('#notebook-container');\n",
                            "if (notebookContainer) {{\n",
                            "    x.observe(notebookContainer, {childList: true});\n",
                            "}}\n",
                            "\n",
                            "// Listen for the clearing of the current output cell\n",
                            "var outputEl = gd.closest('.output');\n",
                            "if (outputEl) {{\n",
                            "    x.observe(outputEl, {childList: true});\n",
                            "}}\n",
                            "\n",
                            "                        })                };                            </script>        </div>\n",
                            "</body>\n",
                            "</html>"
                        ]
                    },
                    "metadata": {},
                    "output_type": "display_data"
                }
            ],
            "source": [
                "scatter(\n",
                "    x=full_OV_copying_score.flatten(),\n",
                "    y=OV_copying_score.flatten(),\n",
                "    hover_name=[f\"L{layer}H{head}\" for layer in range(12) for head in range(12)],\n",
                "    title=\"OV Copying Score for each head in GPT-2 Small\",\n",
                "    xaxis=\"Full OV Copying Score\",\n",
                "    yaxis=\"OV Copying Score\",\n",
                ")"
            ]
        },
        {
            "cell_type": "code",
            "execution_count": null,
            "metadata": {},
            "outputs": [
                {
                    "name": "stdout",
                    "output_type": "stream",
                    "text": [
                        "Token 256 - the most common pair of ASCII characters: | t|\n",
                        "De-Tokenizing the example tokens: <|endoftext|>The first thing you need to figure out is *how* things are tokenized. `model.to_str_tokens` splits a string into the tokens *as a list of substrings*, and so lets you explore what the text looks like. To demonstrate this, let's use it on this paragraph.\n"
                    ]
                }
            ],
            "source": [
                "print(f\"Token 256 - the most common pair of ASCII characters: |{model.to_string(256)}|\")\n",
                "# Squeeze means to remove dimensions of length 1.\n",
                "# Here, that removes the dummy batch dimension so it's a rank 1 tensor and returns a string\n",
                "# Rank 2 tensors map to a list of strings\n",
                "print(f\"De-Tokenizing the example tokens: {model.to_string(example_text_tokens.squeeze())}\")"
            ]
        },
        {
            "attachments": {},
            "cell_type": "markdown",
            "metadata": {},
            "source": [
                "## Generating Text"
            ]
        },
        {
            "cell_type": "markdown",
            "metadata": {},
            "source": [
                "TransformerLens also has basic text generation functionality, which can be useful for generally exploring what the model is capable of (thanks to Ansh Radhakrishnan for adding this!). This is pretty rough functionality, and where possible I recommend using more established libraries like HuggingFace for this."
            ]
        },
        {
            "cell_type": "code",
            "execution_count": null,
            "metadata": {},
            "outputs": [
                {
                    "data": {
                        "application/vnd.jupyter.widget-view+json": {
                            "model_id": "f16e699caef243e3bd730cd876600c4a",
                            "version_major": 2,
                            "version_minor": 0
                        },
                        "text/plain": [
                            "  0%|          | 0/50 [00:00<?, ?it/s]"
                        ]
                    },
                    "metadata": {},
                    "output_type": "display_data"
                },
                {
                    "data": {
                        "text/plain": [
                            "'(CNN) President Barack Obama caught in embarrassing new scandal\\n\\nAmerican voters who backed Hillary Clinton gave President Barack Obama a 9.5-point lead over Republican Mitt Romney in the latest CNN/ORC International poll, his lowest level since the last CNN-ORC poll in 2006.\\n\\nRepublican voters'"
                        ]
                    },
                    "execution_count": 344,
                    "metadata": {},
                    "output_type": "execute_result"
                }
            ],
            "source": [
                "# NBVAL_IGNORE_OUTPUT\n",
                "model.generate(\n",
                "    \"(CNN) President Barack Obama caught in embarrassing new scandal\\n\",\n",
                "    max_new_tokens=50,\n",
                "    temperature=0.7,\n",
                "    prepend_bos=True,\n",
                ")"
            ]
        },
        {
            "attachments": {},
            "cell_type": "markdown",
            "metadata": {},
            "source": [
                "## Hook Points\n",
                "\n",
                "The key part of TransformerLens that lets us access and edit intermediate activations are the HookPoints around every model activation. Importantly, this technique will work for *any* model architecture, not just transformers, so long as you're able to edit the model code to add in HookPoints! This is essentially a lightweight library bundled with TransformerLens that should let you take an arbitrary model and make it easier to study. "
            ]
        },
        {
            "cell_type": "markdown",
            "metadata": {},
            "source": [
                "This is implemented by having a HookPoint layer. Each transformer component has a HookPoint for every activation, which wraps around that activation. The HookPoint acts as an identity function, but has a variety of helper functions that allows us to put PyTorch hooks in to edit and access the relevant activation. \n",
                "\n",
                "There is also a `HookedRootModule` class - this is a utility class that the root module should inherit from (root module = the model we run) - it has several utility functions for using hooks well, notably `reset_hooks`, `run_with_cache` and `run_with_hooks`. \n",
                "\n",
                "The default interface is the `run_with_hooks` function on the root module, which lets us run a forwards pass on the model, and pass on a list of hooks paired with layer names to run on that pass. \n",
                "\n",
                "The syntax for a hook is `function(activation, hook)` where `activation` is the activation the hook is wrapped around, and `hook` is the `HookPoint` class the function is attached to. If the function returns a new activation or edits the activation in-place, that replaces the old one, if it returns None then the activation remains as is.\n"
            ]
        },
        {
            "cell_type": "markdown",
            "metadata": {},
            "source": [
                "### Toy Example"
            ]
        },
        {
            "cell_type": "markdown",
            "metadata": {},
            "source": [
                "\n",
                "Here's a simple example of defining a small network with HookPoints:\n",
                "\n",
                "We define a basic network with two layers that each take a scalar input $x$, square it, and add a constant:\n",
                "$x_0=x$, $x_1=x_0^2+3$, $x_2=x_1^2-4$.\n",
                "\n",
                "We wrap the input, each layer's output, and the intermediate value of each layer (the square) in a hook point.\n",
                "\n"
            ]
        },
        {
            "cell_type": "code",
            "execution_count": null,
            "metadata": {},
            "outputs": [],
            "source": [
                "from transformer_lens.hook_points import HookedRootModule, HookPoint\n",
                "\n",
                "\n",
                "class SquareThenAdd(nn.Module):\n",
                "    def __init__(self, offset):\n",
                "        super().__init__()\n",
                "        self.offset = nn.Parameter(torch.tensor(offset))\n",
                "        self.hook_square = HookPoint()\n",
                "\n",
                "    def forward(self, x):\n",
                "        # The hook_square doesn't change the value, but lets us access it\n",
                "        square = self.hook_square(x * x)\n",
                "        return self.offset + square\n",
                "\n",
                "\n",
                "class TwoLayerModel(HookedRootModule):\n",
                "    def __init__(self):\n",
                "        super().__init__()\n",
                "        self.layer1 = SquareThenAdd(3.0)\n",
                "        self.layer2 = SquareThenAdd(-4.0)\n",
                "        self.hook_in = HookPoint()\n",
                "        self.hook_mid = HookPoint()\n",
                "        self.hook_out = HookPoint()\n",
                "\n",
                "        # We need to call the setup function of HookedRootModule to build an\n",
                "        # internal dictionary of modules and hooks, and to give each hook a name\n",
                "        super().setup()\n",
                "\n",
                "    def forward(self, x):\n",
                "        # We wrap the input and each layer's output in a hook - they leave the\n",
                "        # value unchanged (unless there's a hook added to explicitly change it),\n",
                "        # but allow us to access it.\n",
                "        x_in = self.hook_in(x)\n",
                "        x_mid = self.hook_mid(self.layer1(x_in))\n",
                "        x_out = self.hook_out(self.layer2(x_mid))\n",
                "        return x_out\n",
                "\n",
                "\n",
                "model = TwoLayerModel()"
            ]
        },
        {
            "cell_type": "markdown",
            "metadata": {},
            "source": [
                "\n",
                "We can add a cache, to save the activation at each hook point\n",
                "\n",
                "(There's a custom `run_with_cache` function on the root module as a convenience, which is a wrapper around model.forward that return model_out, cache_object - we could also manually add hooks with `run_with_hooks` that store activations in a global caching dictionary. This is often useful if we only want to store, eg, subsets or functions of some activations.)\n"
            ]
        },
        {
            "cell_type": "code",
            "execution_count": null,
            "metadata": {},
            "outputs": [
                {
                    "name": "stdout",
                    "output_type": "stream",
                    "text": [
                        "Model output: 780.0\n",
                        "Value cached at hook hook_in 5.0\n",
                        "Value cached at hook layer1.hook_square 25.0\n",
                        "Value cached at hook hook_mid 28.0\n",
                        "Value cached at hook layer2.hook_square 784.0\n",
                        "Value cached at hook hook_out 780.0\n"
                    ]
                }
            ],
            "source": [
                "out, cache = model.run_with_cache(torch.tensor(5.0))\n",
                "print(\"Model output:\", out.item())\n",
                "for key in cache:\n",
                "    print(f\"Value cached at hook {key}\", cache[key].item())"
            ]
        },
        {
            "cell_type": "markdown",
            "metadata": {},
            "source": [
                "\n",
                "We can also use hooks to intervene on activations - eg, we can set the intermediate value in layer 2 to zero to change the output to -5\n"
            ]
        },
        {
            "cell_type": "code",
            "execution_count": null,
            "metadata": {},
            "outputs": [
                {
                    "name": "stdout",
                    "output_type": "stream",
                    "text": [
                        "layer2.hook_square\n",
                        "Output after intervening on layer2.hook_scaled -4.0\n"
                    ]
                }
            ],
            "source": [
                "def set_to_zero_hook(tensor, hook):\n",
                "    print(hook.name)\n",
                "    return torch.tensor(0.0)\n",
                "\n",
                "\n",
                "print(\n",
                "    \"Output after intervening on layer2.hook_scaled\",\n",
                "    model.run_with_hooks(\n",
                "        torch.tensor(5.0), fwd_hooks=[(\"layer2.hook_square\", set_to_zero_hook)]\n",
                "    ).item(),\n",
                ")"
            ]
        },
        {
            "cell_type": "markdown",
            "metadata": {},
            "source": [
                "## Loading Pre-Trained Checkpoints\n",
                "\n",
                "There are a lot of interesting questions combining mechanistic interpretability and training dynamics - analysing model capabilities and the underlying circuits that make them possible, and how these change as we train the model. \n",
                "\n",
                "TransformerLens supports these by having several model families with checkpoints throughout training. `HookedTransformer.from_pretrained` can load a checkpoint of a model with the `checkpoint_index` (the label 0 to `num_checkpoints-1`) or `checkpoint_value` (the step or token number, depending on how the checkpoints were labelled)."
            ]
        },
        {
            "cell_type": "markdown",
            "metadata": {},
            "source": [
                "\n",
                "Available models:\n",
                "* All of my interpretability-friendly models have checkpoints available, including:\n",
                "    * The toy models - `attn-only`, `solu`, `gelu` 1L to 4L\n",
                "        * These have ~200 checkpoints, taken on a piecewise linear schedule (more checkpoints near the start of training), up to 22B tokens. Labelled by number of tokens seen.\n",
                "    * The SoLU models trained on 80% Web Text and 20% Python Code (`solu-6l` to `solu-12l`)\n",
                "        * Same checkpoint schedule as the toy models, this time up to 30B tokens\n",
                "    * The SoLU models trained on the pile (`solu-1l-pile` to `solu-12l-pile`)\n",
                "        * These have ~100 checkpoints, taken on a linear schedule, up to 15B tokens. Labelled by number of steps.\n",
                "        * The 12L training crashed around 11B tokens, so is truncated.\n",
                "* The Stanford Centre for Research of Foundation Models trained 5 GPT-2 Small sized and 5 GPT-2 Medium sized models (`stanford-gpt2-small-a` to `e` and `stanford-gpt2-medium-a` to `e`)\n",
                "    * 600 checkpoints, taken on a piecewise linear schedule, labelled by the number of steps."
            ]
        },
        {
            "cell_type": "markdown",
            "metadata": {},
            "source": [
                "The checkpoint structure and labels is somewhat messy and ad-hoc, so I mostly recommend using the `checkpoint_index` syntax (where you can just count from 0 to the number of checkpoints) rather than `checkpoint_value` syntax (where you need to know the checkpoint schedule, and whether it was labelled with the number of tokens or steps). The helper function `get_checkpoint_labels` tells you the checkpoint schedule for a given model - ie what point was each checkpoint taken at, and what type of label was used.\n",
                "\n",
                "Here are graphs of the schedules for several checkpointed models: (note that the first 3 use a log scale, latter 2 use a linear scale)"
            ]
        },
        {
            "cell_type": "code",
            "execution_count": null,
            "metadata": {},
            "outputs": [
                {
                    "data": {
                        "text/html": [
                            "<html>\n",
                            "<head><meta charset=\"utf-8\" /></head>\n",
                            "<body>\n",
                            "    <div>            <script src=\"https://cdnjs.cloudflare.com/ajax/libs/mathjax/2.7.5/MathJax.js?config=TeX-AMS-MML_SVG\"></script><script type=\"text/javascript\">if (window.MathJax && window.MathJax.Hub && window.MathJax.Hub.Config) {window.MathJax.Hub.Config({SVG: {font: \"STIX-Web\"}});}</script>                <script type=\"text/javascript\">window.PlotlyConfig = {MathJaxConfig: 'local'};</script>\n",
                            "        <script charset=\"utf-8\" src=\"https://cdn.plot.ly/plotly-2.26.0.min.js\"></script>                <div id=\"9670aaf8-c497-4268-aefd-f91bf035117f\" class=\"plotly-graph-div\" style=\"height:525px; width:100%;\"></div>            <script type=\"text/javascript\">                                    window.PLOTLYENV=window.PLOTLYENV || {};                                    if (document.getElementById(\"9670aaf8-c497-4268-aefd-f91bf035117f\")) {                    Plotly.newPlot(                        \"9670aaf8-c497-4268-aefd-f91bf035117f\",                        [{\"hovertemplate\":\"variable=0\\u003cbr\\u003eindex=%{x}\\u003cbr\\u003evalue=%{y}\\u003cextra\\u003e\\u003c\\u002fextra\\u003e\",\"legendgroup\":\"0\",\"line\":{\"color\":\"#636efa\",\"dash\":\"solid\"},\"marker\":{\"symbol\":\"circle\"},\"mode\":\"lines+markers\",\"name\":\"0\",\"orientation\":\"v\",\"showlegend\":true,\"x\":[0,1,2,3,4,5,6,7,8,9,10,11,12,13,14,15,16,17,18,19,20,21,22,23,24,25,26,27,28,29,30,31,32,33,34,35,36,37,38,39,40,41,42,43,44,45,46,47,48,49,50,51,52,53,54,55,56,57,58,59,60,61,62,63,64,65,66,67,68,69,70,71,72,73,74,75,76,77,78,79,80,81,82,83,84,85,86,87,88,89,90,91,92,93,94,95,96,97,98,99,100,101,102,103,104,105,106,107,108,109,110,111,112,113,114,115,116,117,118,119,120,121,122,123,124,125,126,127,128,129,130,131,132,133,134,135,136,137,138,139,140,141,142,143,144,145,146,147,148,149,150,151,152,153,154,155,156,157,158,159,160,161,162],\"xaxis\":\"x\",\"y\":[262144,2621440,4718592,7077888,9175040,11272192,13631488,15728640,18087936,20185088,22282240,33292288,44302336,55312384,66322432,77332480,88342528,99352576,110362624,121372672,132382720,143392768,154402816,165412864,176422912,187432960,198443008,209453056,220463104,264503296,308281344,352321536,396361728,440401920,484442112,528482304,572522496,616300544,660340736,704380928,748421120,792461312,836501504,880279552,924319744,968359936,1012400128,1056440320,1100480512,1144520704,1188298752,1232338944,1276379136,1320419328,1364459520,1408499712,1452277760,1496317952,1540358144,1584398336,1628438528,1672478720,1716518912,1760296960,1804337152,1848377344,1892417536,1936457728,1980497920,2024275968,2068316160,2112356352,2156396544,2200436736,2420375552,2640314368,2860515328,3080454144,3300392960,3520331776,3740270592,3960471552,4180410368,4400349184,4620288000,4840488960,5060427776,5280366592,5500305408,5720506368,5940445184,6160384000,6380322816,6600523776,6820462592,7040401408,7260340224,7480279040,7700480000,7920418816,8140357632,8360296448,8580497408,8800436224,9020375040,9240313856,9460514816,9680453632,9900392448,10120331264,10340270080,10560471040,10780409856,11000348672,11220287488,11440488448,11660427264,11880366080,12100304896,12320505856,12540444672,12760383488,12980322304,13200523264,13420462080,13640400896,13860339712,14080278528,14300479488,14520418304,14740357120,14960295936,15180496896,15400435712,15620374528,15840313344,16060514304,16280453120,16500391936,16720330752,16940269568,17160470528,17380409344,17600348160,17820286976,18040487936,18260426752,18480365568,18700304384,18920505344,19140444160,19360382976,19580321792,19800522752,20020461568,20240400384,20460339200,20680278016,20900478976,21120417792,21340356608,21560295424,21780496384],\"yaxis\":\"y\",\"type\":\"scatter\"}],                        {\"template\":{\"data\":{\"histogram2dcontour\":[{\"type\":\"histogram2dcontour\",\"colorbar\":{\"outlinewidth\":0,\"ticks\":\"\"},\"colorscale\":[[0.0,\"#0d0887\"],[0.1111111111111111,\"#46039f\"],[0.2222222222222222,\"#7201a8\"],[0.3333333333333333,\"#9c179e\"],[0.4444444444444444,\"#bd3786\"],[0.5555555555555556,\"#d8576b\"],[0.6666666666666666,\"#ed7953\"],[0.7777777777777778,\"#fb9f3a\"],[0.8888888888888888,\"#fdca26\"],[1.0,\"#f0f921\"]]}],\"choropleth\":[{\"type\":\"choropleth\",\"colorbar\":{\"outlinewidth\":0,\"ticks\":\"\"}}],\"histogram2d\":[{\"type\":\"histogram2d\",\"colorbar\":{\"outlinewidth\":0,\"ticks\":\"\"},\"colorscale\":[[0.0,\"#0d0887\"],[0.1111111111111111,\"#46039f\"],[0.2222222222222222,\"#7201a8\"],[0.3333333333333333,\"#9c179e\"],[0.4444444444444444,\"#bd3786\"],[0.5555555555555556,\"#d8576b\"],[0.6666666666666666,\"#ed7953\"],[0.7777777777777778,\"#fb9f3a\"],[0.8888888888888888,\"#fdca26\"],[1.0,\"#f0f921\"]]}],\"heatmap\":[{\"type\":\"heatmap\",\"colorbar\":{\"outlinewidth\":0,\"ticks\":\"\"},\"colorscale\":[[0.0,\"#0d0887\"],[0.1111111111111111,\"#46039f\"],[0.2222222222222222,\"#7201a8\"],[0.3333333333333333,\"#9c179e\"],[0.4444444444444444,\"#bd3786\"],[0.5555555555555556,\"#d8576b\"],[0.6666666666666666,\"#ed7953\"],[0.7777777777777778,\"#fb9f3a\"],[0.8888888888888888,\"#fdca26\"],[1.0,\"#f0f921\"]]}],\"heatmapgl\":[{\"type\":\"heatmapgl\",\"colorbar\":{\"outlinewidth\":0,\"ticks\":\"\"},\"colorscale\":[[0.0,\"#0d0887\"],[0.1111111111111111,\"#46039f\"],[0.2222222222222222,\"#7201a8\"],[0.3333333333333333,\"#9c179e\"],[0.4444444444444444,\"#bd3786\"],[0.5555555555555556,\"#d8576b\"],[0.6666666666666666,\"#ed7953\"],[0.7777777777777778,\"#fb9f3a\"],[0.8888888888888888,\"#fdca26\"],[1.0,\"#f0f921\"]]}],\"contourcarpet\":[{\"type\":\"contourcarpet\",\"colorbar\":{\"outlinewidth\":0,\"ticks\":\"\"}}],\"contour\":[{\"type\":\"contour\",\"colorbar\":{\"outlinewidth\":0,\"ticks\":\"\"},\"colorscale\":[[0.0,\"#0d0887\"],[0.1111111111111111,\"#46039f\"],[0.2222222222222222,\"#7201a8\"],[0.3333333333333333,\"#9c179e\"],[0.4444444444444444,\"#bd3786\"],[0.5555555555555556,\"#d8576b\"],[0.6666666666666666,\"#ed7953\"],[0.7777777777777778,\"#fb9f3a\"],[0.8888888888888888,\"#fdca26\"],[1.0,\"#f0f921\"]]}],\"surface\":[{\"type\":\"surface\",\"colorbar\":{\"outlinewidth\":0,\"ticks\":\"\"},\"colorscale\":[[0.0,\"#0d0887\"],[0.1111111111111111,\"#46039f\"],[0.2222222222222222,\"#7201a8\"],[0.3333333333333333,\"#9c179e\"],[0.4444444444444444,\"#bd3786\"],[0.5555555555555556,\"#d8576b\"],[0.6666666666666666,\"#ed7953\"],[0.7777777777777778,\"#fb9f3a\"],[0.8888888888888888,\"#fdca26\"],[1.0,\"#f0f921\"]]}],\"mesh3d\":[{\"type\":\"mesh3d\",\"colorbar\":{\"outlinewidth\":0,\"ticks\":\"\"}}],\"scatter\":[{\"fillpattern\":{\"fillmode\":\"overlay\",\"size\":10,\"solidity\":0.2},\"type\":\"scatter\"}],\"parcoords\":[{\"type\":\"parcoords\",\"line\":{\"colorbar\":{\"outlinewidth\":0,\"ticks\":\"\"}}}],\"scatterpolargl\":[{\"type\":\"scatterpolargl\",\"marker\":{\"colorbar\":{\"outlinewidth\":0,\"ticks\":\"\"}}}],\"bar\":[{\"error_x\":{\"color\":\"#2a3f5f\"},\"error_y\":{\"color\":\"#2a3f5f\"},\"marker\":{\"line\":{\"color\":\"#E5ECF6\",\"width\":0.5},\"pattern\":{\"fillmode\":\"overlay\",\"size\":10,\"solidity\":0.2}},\"type\":\"bar\"}],\"scattergeo\":[{\"type\":\"scattergeo\",\"marker\":{\"colorbar\":{\"outlinewidth\":0,\"ticks\":\"\"}}}],\"scatterpolar\":[{\"type\":\"scatterpolar\",\"marker\":{\"colorbar\":{\"outlinewidth\":0,\"ticks\":\"\"}}}],\"histogram\":[{\"marker\":{\"pattern\":{\"fillmode\":\"overlay\",\"size\":10,\"solidity\":0.2}},\"type\":\"histogram\"}],\"scattergl\":[{\"type\":\"scattergl\",\"marker\":{\"colorbar\":{\"outlinewidth\":0,\"ticks\":\"\"}}}],\"scatter3d\":[{\"type\":\"scatter3d\",\"line\":{\"colorbar\":{\"outlinewidth\":0,\"ticks\":\"\"}},\"marker\":{\"colorbar\":{\"outlinewidth\":0,\"ticks\":\"\"}}}],\"scattermapbox\":[{\"type\":\"scattermapbox\",\"marker\":{\"colorbar\":{\"outlinewidth\":0,\"ticks\":\"\"}}}],\"scatterternary\":[{\"type\":\"scatterternary\",\"marker\":{\"colorbar\":{\"outlinewidth\":0,\"ticks\":\"\"}}}],\"scattercarpet\":[{\"type\":\"scattercarpet\",\"marker\":{\"colorbar\":{\"outlinewidth\":0,\"ticks\":\"\"}}}],\"carpet\":[{\"aaxis\":{\"endlinecolor\":\"#2a3f5f\",\"gridcolor\":\"white\",\"linecolor\":\"white\",\"minorgridcolor\":\"white\",\"startlinecolor\":\"#2a3f5f\"},\"baxis\":{\"endlinecolor\":\"#2a3f5f\",\"gridcolor\":\"white\",\"linecolor\":\"white\",\"minorgridcolor\":\"white\",\"startlinecolor\":\"#2a3f5f\"},\"type\":\"carpet\"}],\"table\":[{\"cells\":{\"fill\":{\"color\":\"#EBF0F8\"},\"line\":{\"color\":\"white\"}},\"header\":{\"fill\":{\"color\":\"#C8D4E3\"},\"line\":{\"color\":\"white\"}},\"type\":\"table\"}],\"barpolar\":[{\"marker\":{\"line\":{\"color\":\"#E5ECF6\",\"width\":0.5},\"pattern\":{\"fillmode\":\"overlay\",\"size\":10,\"solidity\":0.2}},\"type\":\"barpolar\"}],\"pie\":[{\"automargin\":true,\"type\":\"pie\"}]},\"layout\":{\"autotypenumbers\":\"strict\",\"colorway\":[\"#636efa\",\"#EF553B\",\"#00cc96\",\"#ab63fa\",\"#FFA15A\",\"#19d3f3\",\"#FF6692\",\"#B6E880\",\"#FF97FF\",\"#FECB52\"],\"font\":{\"color\":\"#2a3f5f\"},\"hovermode\":\"closest\",\"hoverlabel\":{\"align\":\"left\"},\"paper_bgcolor\":\"white\",\"plot_bgcolor\":\"#E5ECF6\",\"polar\":{\"bgcolor\":\"#E5ECF6\",\"angularaxis\":{\"gridcolor\":\"white\",\"linecolor\":\"white\",\"ticks\":\"\"},\"radialaxis\":{\"gridcolor\":\"white\",\"linecolor\":\"white\",\"ticks\":\"\"}},\"ternary\":{\"bgcolor\":\"#E5ECF6\",\"aaxis\":{\"gridcolor\":\"white\",\"linecolor\":\"white\",\"ticks\":\"\"},\"baxis\":{\"gridcolor\":\"white\",\"linecolor\":\"white\",\"ticks\":\"\"},\"caxis\":{\"gridcolor\":\"white\",\"linecolor\":\"white\",\"ticks\":\"\"}},\"coloraxis\":{\"colorbar\":{\"outlinewidth\":0,\"ticks\":\"\"}},\"colorscale\":{\"sequential\":[[0.0,\"#0d0887\"],[0.1111111111111111,\"#46039f\"],[0.2222222222222222,\"#7201a8\"],[0.3333333333333333,\"#9c179e\"],[0.4444444444444444,\"#bd3786\"],[0.5555555555555556,\"#d8576b\"],[0.6666666666666666,\"#ed7953\"],[0.7777777777777778,\"#fb9f3a\"],[0.8888888888888888,\"#fdca26\"],[1.0,\"#f0f921\"]],\"sequentialminus\":[[0.0,\"#0d0887\"],[0.1111111111111111,\"#46039f\"],[0.2222222222222222,\"#7201a8\"],[0.3333333333333333,\"#9c179e\"],[0.4444444444444444,\"#bd3786\"],[0.5555555555555556,\"#d8576b\"],[0.6666666666666666,\"#ed7953\"],[0.7777777777777778,\"#fb9f3a\"],[0.8888888888888888,\"#fdca26\"],[1.0,\"#f0f921\"]],\"diverging\":[[0,\"#8e0152\"],[0.1,\"#c51b7d\"],[0.2,\"#de77ae\"],[0.3,\"#f1b6da\"],[0.4,\"#fde0ef\"],[0.5,\"#f7f7f7\"],[0.6,\"#e6f5d0\"],[0.7,\"#b8e186\"],[0.8,\"#7fbc41\"],[0.9,\"#4d9221\"],[1,\"#276419\"]]},\"xaxis\":{\"gridcolor\":\"white\",\"linecolor\":\"white\",\"ticks\":\"\",\"title\":{\"standoff\":15},\"zerolinecolor\":\"white\",\"automargin\":true,\"zerolinewidth\":2},\"yaxis\":{\"gridcolor\":\"white\",\"linecolor\":\"white\",\"ticks\":\"\",\"title\":{\"standoff\":15},\"zerolinecolor\":\"white\",\"automargin\":true,\"zerolinewidth\":2},\"scene\":{\"xaxis\":{\"backgroundcolor\":\"#E5ECF6\",\"gridcolor\":\"white\",\"linecolor\":\"white\",\"showbackground\":true,\"ticks\":\"\",\"zerolinecolor\":\"white\",\"gridwidth\":2},\"yaxis\":{\"backgroundcolor\":\"#E5ECF6\",\"gridcolor\":\"white\",\"linecolor\":\"white\",\"showbackground\":true,\"ticks\":\"\",\"zerolinecolor\":\"white\",\"gridwidth\":2},\"zaxis\":{\"backgroundcolor\":\"#E5ECF6\",\"gridcolor\":\"white\",\"linecolor\":\"white\",\"showbackground\":true,\"ticks\":\"\",\"zerolinecolor\":\"white\",\"gridwidth\":2}},\"shapedefaults\":{\"line\":{\"color\":\"#2a3f5f\"}},\"annotationdefaults\":{\"arrowcolor\":\"#2a3f5f\",\"arrowhead\":0,\"arrowwidth\":1},\"geo\":{\"bgcolor\":\"white\",\"landcolor\":\"#E5ECF6\",\"subunitcolor\":\"white\",\"showland\":true,\"showlakes\":true,\"lakecolor\":\"white\"},\"title\":{\"x\":0.05},\"mapbox\":{\"style\":\"light\"}}},\"xaxis\":{\"anchor\":\"y\",\"domain\":[0.0,1.0],\"title\":{\"text\":\"index\"}},\"yaxis\":{\"anchor\":\"x\",\"domain\":[0.0,1.0],\"title\":{\"text\":\"value\"},\"type\":\"log\"},\"legend\":{\"title\":{\"text\":\"variable\"},\"tracegroupgap\":0},\"title\":{\"text\":\"Checkpoint Values for attn-only-2l (Log scale)\"}},                        {\"responsive\": true}                    ).then(function(){\n",
                            "                            \n",
                            "var gd = document.getElementById('9670aaf8-c497-4268-aefd-f91bf035117f');\n",
                            "var x = new MutationObserver(function (mutations, observer) {{\n",
                            "        var display = window.getComputedStyle(gd).display;\n",
                            "        if (!display || display === 'none') {{\n",
                            "            console.log([gd, 'removed!']);\n",
                            "            Plotly.purge(gd);\n",
                            "            observer.disconnect();\n",
                            "        }}\n",
                            "}});\n",
                            "\n",
                            "// Listen for the removal of the full notebook cells\n",
                            "var notebookContainer = gd.closest('#notebook-container');\n",
                            "if (notebookContainer) {{\n",
                            "    x.observe(notebookContainer, {childList: true});\n",
                            "}}\n",
                            "\n",
                            "// Listen for the clearing of the current output cell\n",
                            "var outputEl = gd.closest('.output');\n",
                            "if (outputEl) {{\n",
                            "    x.observe(outputEl, {childList: true});\n",
                            "}}\n",
                            "\n",
                            "                        })                };                            </script>        </div>\n",
                            "</body>\n",
                            "</html>"
                        ]
                    },
                    "metadata": {},
                    "output_type": "display_data"
                },
                {
                    "data": {
                        "text/html": [
                            "<html>\n",
                            "<head><meta charset=\"utf-8\" /></head>\n",
                            "<body>\n",
                            "    <div>            <script src=\"https://cdnjs.cloudflare.com/ajax/libs/mathjax/2.7.5/MathJax.js?config=TeX-AMS-MML_SVG\"></script><script type=\"text/javascript\">if (window.MathJax && window.MathJax.Hub && window.MathJax.Hub.Config) {window.MathJax.Hub.Config({SVG: {font: \"STIX-Web\"}});}</script>                <script type=\"text/javascript\">window.PlotlyConfig = {MathJaxConfig: 'local'};</script>\n",
                            "        <script charset=\"utf-8\" src=\"https://cdn.plot.ly/plotly-2.26.0.min.js\"></script>                <div id=\"87db2943-c842-478c-8c64-5289a60ba868\" class=\"plotly-graph-div\" style=\"height:525px; width:100%;\"></div>            <script type=\"text/javascript\">                                    window.PLOTLYENV=window.PLOTLYENV || {};                                    if (document.getElementById(\"87db2943-c842-478c-8c64-5289a60ba868\")) {                    Plotly.newPlot(                        \"87db2943-c842-478c-8c64-5289a60ba868\",                        [{\"hovertemplate\":\"variable=0\\u003cbr\\u003eindex=%{x}\\u003cbr\\u003evalue=%{y}\\u003cextra\\u003e\\u003c\\u002fextra\\u003e\",\"legendgroup\":\"0\",\"line\":{\"color\":\"#636efa\",\"dash\":\"solid\"},\"marker\":{\"symbol\":\"circle\"},\"mode\":\"lines+markers\",\"name\":\"0\",\"orientation\":\"v\",\"showlegend\":true,\"x\":[0,1,2,3,4,5,6,7,8,9,10,11,12,13,14,15,16,17,18,19,20,21,22,23,24,25,26,27,28,29,30,31,32,33,34,35,36,37,38,39,40,41,42,43,44,45,46,47,48,49,50,51,52,53,54,55,56,57,58,59,60,61,62,63,64,65,66,67,68,69,70,71,72,73,74,75,76,77,78,79,80,81,82,83,84,85,86,87,88,89,90,91,92,93,94,95,96,97,98,99,100,101,102,103,104,105,106,107,108,109,110,111,112,113,114,115,116,117,118,119,120,121,122,123,124,125,126,127,128,129,130,131,132,133,134,135,136,137,138,139,140,141,142,143,144,145,146,147,148,149,150,151,152,153,154,155,156,157,158,159,160,161,162],\"xaxis\":\"x\",\"y\":[196608,3342336,6291456,9240576,12386304,15335424,18284544,21233664,24379392,27328512,30277632,45219840,60358656,75300864,90243072,105381888,120324096,135266304,150208512,165347328,180289536,195231744,210370560,225312768,240254976,255197184,270336000,285278208,300220416,360382464,420347904,480313344,540278784,600244224,660209664,720371712,780337152,840302592,900268032,960233472,1020198912,1080360960,1140326400,1200291840,1260257280,1320222720,1380384768,1440350208,1500315648,1560281088,1620246528,1680211968,1740374016,1800339456,1860304896,1920270336,1980235776,2040201216,2100363264,2160328704,2220294144,2280259584,2340225024,2400387072,2460352512,2520317952,2580283392,2640248832,2700214272,2760376320,2820341760,2880307200,2940272640,3000238080,3300261888,3600285696,3900309504,4200333312,4500357120,4800380928,5100208128,5400231936,5700255744,6000279552,6300303360,6600327168,6900350976,7200374784,7500201984,7800225792,8100249600,8400273408,8700297216,9000321024,9300344832,9600368640,9900392448,10200219648,10500243456,10800267264,11100291072,11400314880,11700338688,12000362496,12300386304,12600213504,12900237312,13200261120,13500284928,13800308736,14100332544,14400356352,14700380160,15000207360,15300231168,15600254976,15900278784,16200302592,16500326400,16800350208,17100374016,17400201216,17700225024,18000248832,18300272640,18600296448,18900320256,19200344064,19500367872,19800391680,20100218880,20400242688,20700266496,21000290304,21300314112,21600337920,21900361728,22200385536,22500212736,22800236544,23100260352,23400284160,23700307968,24000331776,24300355584,24600379392,24900206592,25200230400,25500254208,25800278016,26100301824,26400325632,26700349440,27000373248,27300200448,27600224256,27900248064,28200271872,28500295680,28800319488,29100343296,29400367104,29700390912],\"yaxis\":\"y\",\"type\":\"scatter\"}],                        {\"template\":{\"data\":{\"histogram2dcontour\":[{\"type\":\"histogram2dcontour\",\"colorbar\":{\"outlinewidth\":0,\"ticks\":\"\"},\"colorscale\":[[0.0,\"#0d0887\"],[0.1111111111111111,\"#46039f\"],[0.2222222222222222,\"#7201a8\"],[0.3333333333333333,\"#9c179e\"],[0.4444444444444444,\"#bd3786\"],[0.5555555555555556,\"#d8576b\"],[0.6666666666666666,\"#ed7953\"],[0.7777777777777778,\"#fb9f3a\"],[0.8888888888888888,\"#fdca26\"],[1.0,\"#f0f921\"]]}],\"choropleth\":[{\"type\":\"choropleth\",\"colorbar\":{\"outlinewidth\":0,\"ticks\":\"\"}}],\"histogram2d\":[{\"type\":\"histogram2d\",\"colorbar\":{\"outlinewidth\":0,\"ticks\":\"\"},\"colorscale\":[[0.0,\"#0d0887\"],[0.1111111111111111,\"#46039f\"],[0.2222222222222222,\"#7201a8\"],[0.3333333333333333,\"#9c179e\"],[0.4444444444444444,\"#bd3786\"],[0.5555555555555556,\"#d8576b\"],[0.6666666666666666,\"#ed7953\"],[0.7777777777777778,\"#fb9f3a\"],[0.8888888888888888,\"#fdca26\"],[1.0,\"#f0f921\"]]}],\"heatmap\":[{\"type\":\"heatmap\",\"colorbar\":{\"outlinewidth\":0,\"ticks\":\"\"},\"colorscale\":[[0.0,\"#0d0887\"],[0.1111111111111111,\"#46039f\"],[0.2222222222222222,\"#7201a8\"],[0.3333333333333333,\"#9c179e\"],[0.4444444444444444,\"#bd3786\"],[0.5555555555555556,\"#d8576b\"],[0.6666666666666666,\"#ed7953\"],[0.7777777777777778,\"#fb9f3a\"],[0.8888888888888888,\"#fdca26\"],[1.0,\"#f0f921\"]]}],\"heatmapgl\":[{\"type\":\"heatmapgl\",\"colorbar\":{\"outlinewidth\":0,\"ticks\":\"\"},\"colorscale\":[[0.0,\"#0d0887\"],[0.1111111111111111,\"#46039f\"],[0.2222222222222222,\"#7201a8\"],[0.3333333333333333,\"#9c179e\"],[0.4444444444444444,\"#bd3786\"],[0.5555555555555556,\"#d8576b\"],[0.6666666666666666,\"#ed7953\"],[0.7777777777777778,\"#fb9f3a\"],[0.8888888888888888,\"#fdca26\"],[1.0,\"#f0f921\"]]}],\"contourcarpet\":[{\"type\":\"contourcarpet\",\"colorbar\":{\"outlinewidth\":0,\"ticks\":\"\"}}],\"contour\":[{\"type\":\"contour\",\"colorbar\":{\"outlinewidth\":0,\"ticks\":\"\"},\"colorscale\":[[0.0,\"#0d0887\"],[0.1111111111111111,\"#46039f\"],[0.2222222222222222,\"#7201a8\"],[0.3333333333333333,\"#9c179e\"],[0.4444444444444444,\"#bd3786\"],[0.5555555555555556,\"#d8576b\"],[0.6666666666666666,\"#ed7953\"],[0.7777777777777778,\"#fb9f3a\"],[0.8888888888888888,\"#fdca26\"],[1.0,\"#f0f921\"]]}],\"surface\":[{\"type\":\"surface\",\"colorbar\":{\"outlinewidth\":0,\"ticks\":\"\"},\"colorscale\":[[0.0,\"#0d0887\"],[0.1111111111111111,\"#46039f\"],[0.2222222222222222,\"#7201a8\"],[0.3333333333333333,\"#9c179e\"],[0.4444444444444444,\"#bd3786\"],[0.5555555555555556,\"#d8576b\"],[0.6666666666666666,\"#ed7953\"],[0.7777777777777778,\"#fb9f3a\"],[0.8888888888888888,\"#fdca26\"],[1.0,\"#f0f921\"]]}],\"mesh3d\":[{\"type\":\"mesh3d\",\"colorbar\":{\"outlinewidth\":0,\"ticks\":\"\"}}],\"scatter\":[{\"fillpattern\":{\"fillmode\":\"overlay\",\"size\":10,\"solidity\":0.2},\"type\":\"scatter\"}],\"parcoords\":[{\"type\":\"parcoords\",\"line\":{\"colorbar\":{\"outlinewidth\":0,\"ticks\":\"\"}}}],\"scatterpolargl\":[{\"type\":\"scatterpolargl\",\"marker\":{\"colorbar\":{\"outlinewidth\":0,\"ticks\":\"\"}}}],\"bar\":[{\"error_x\":{\"color\":\"#2a3f5f\"},\"error_y\":{\"color\":\"#2a3f5f\"},\"marker\":{\"line\":{\"color\":\"#E5ECF6\",\"width\":0.5},\"pattern\":{\"fillmode\":\"overlay\",\"size\":10,\"solidity\":0.2}},\"type\":\"bar\"}],\"scattergeo\":[{\"type\":\"scattergeo\",\"marker\":{\"colorbar\":{\"outlinewidth\":0,\"ticks\":\"\"}}}],\"scatterpolar\":[{\"type\":\"scatterpolar\",\"marker\":{\"colorbar\":{\"outlinewidth\":0,\"ticks\":\"\"}}}],\"histogram\":[{\"marker\":{\"pattern\":{\"fillmode\":\"overlay\",\"size\":10,\"solidity\":0.2}},\"type\":\"histogram\"}],\"scattergl\":[{\"type\":\"scattergl\",\"marker\":{\"colorbar\":{\"outlinewidth\":0,\"ticks\":\"\"}}}],\"scatter3d\":[{\"type\":\"scatter3d\",\"line\":{\"colorbar\":{\"outlinewidth\":0,\"ticks\":\"\"}},\"marker\":{\"colorbar\":{\"outlinewidth\":0,\"ticks\":\"\"}}}],\"scattermapbox\":[{\"type\":\"scattermapbox\",\"marker\":{\"colorbar\":{\"outlinewidth\":0,\"ticks\":\"\"}}}],\"scatterternary\":[{\"type\":\"scatterternary\",\"marker\":{\"colorbar\":{\"outlinewidth\":0,\"ticks\":\"\"}}}],\"scattercarpet\":[{\"type\":\"scattercarpet\",\"marker\":{\"colorbar\":{\"outlinewidth\":0,\"ticks\":\"\"}}}],\"carpet\":[{\"aaxis\":{\"endlinecolor\":\"#2a3f5f\",\"gridcolor\":\"white\",\"linecolor\":\"white\",\"minorgridcolor\":\"white\",\"startlinecolor\":\"#2a3f5f\"},\"baxis\":{\"endlinecolor\":\"#2a3f5f\",\"gridcolor\":\"white\",\"linecolor\":\"white\",\"minorgridcolor\":\"white\",\"startlinecolor\":\"#2a3f5f\"},\"type\":\"carpet\"}],\"table\":[{\"cells\":{\"fill\":{\"color\":\"#EBF0F8\"},\"line\":{\"color\":\"white\"}},\"header\":{\"fill\":{\"color\":\"#C8D4E3\"},\"line\":{\"color\":\"white\"}},\"type\":\"table\"}],\"barpolar\":[{\"marker\":{\"line\":{\"color\":\"#E5ECF6\",\"width\":0.5},\"pattern\":{\"fillmode\":\"overlay\",\"size\":10,\"solidity\":0.2}},\"type\":\"barpolar\"}],\"pie\":[{\"automargin\":true,\"type\":\"pie\"}]},\"layout\":{\"autotypenumbers\":\"strict\",\"colorway\":[\"#636efa\",\"#EF553B\",\"#00cc96\",\"#ab63fa\",\"#FFA15A\",\"#19d3f3\",\"#FF6692\",\"#B6E880\",\"#FF97FF\",\"#FECB52\"],\"font\":{\"color\":\"#2a3f5f\"},\"hovermode\":\"closest\",\"hoverlabel\":{\"align\":\"left\"},\"paper_bgcolor\":\"white\",\"plot_bgcolor\":\"#E5ECF6\",\"polar\":{\"bgcolor\":\"#E5ECF6\",\"angularaxis\":{\"gridcolor\":\"white\",\"linecolor\":\"white\",\"ticks\":\"\"},\"radialaxis\":{\"gridcolor\":\"white\",\"linecolor\":\"white\",\"ticks\":\"\"}},\"ternary\":{\"bgcolor\":\"#E5ECF6\",\"aaxis\":{\"gridcolor\":\"white\",\"linecolor\":\"white\",\"ticks\":\"\"},\"baxis\":{\"gridcolor\":\"white\",\"linecolor\":\"white\",\"ticks\":\"\"},\"caxis\":{\"gridcolor\":\"white\",\"linecolor\":\"white\",\"ticks\":\"\"}},\"coloraxis\":{\"colorbar\":{\"outlinewidth\":0,\"ticks\":\"\"}},\"colorscale\":{\"sequential\":[[0.0,\"#0d0887\"],[0.1111111111111111,\"#46039f\"],[0.2222222222222222,\"#7201a8\"],[0.3333333333333333,\"#9c179e\"],[0.4444444444444444,\"#bd3786\"],[0.5555555555555556,\"#d8576b\"],[0.6666666666666666,\"#ed7953\"],[0.7777777777777778,\"#fb9f3a\"],[0.8888888888888888,\"#fdca26\"],[1.0,\"#f0f921\"]],\"sequentialminus\":[[0.0,\"#0d0887\"],[0.1111111111111111,\"#46039f\"],[0.2222222222222222,\"#7201a8\"],[0.3333333333333333,\"#9c179e\"],[0.4444444444444444,\"#bd3786\"],[0.5555555555555556,\"#d8576b\"],[0.6666666666666666,\"#ed7953\"],[0.7777777777777778,\"#fb9f3a\"],[0.8888888888888888,\"#fdca26\"],[1.0,\"#f0f921\"]],\"diverging\":[[0,\"#8e0152\"],[0.1,\"#c51b7d\"],[0.2,\"#de77ae\"],[0.3,\"#f1b6da\"],[0.4,\"#fde0ef\"],[0.5,\"#f7f7f7\"],[0.6,\"#e6f5d0\"],[0.7,\"#b8e186\"],[0.8,\"#7fbc41\"],[0.9,\"#4d9221\"],[1,\"#276419\"]]},\"xaxis\":{\"gridcolor\":\"white\",\"linecolor\":\"white\",\"ticks\":\"\",\"title\":{\"standoff\":15},\"zerolinecolor\":\"white\",\"automargin\":true,\"zerolinewidth\":2},\"yaxis\":{\"gridcolor\":\"white\",\"linecolor\":\"white\",\"ticks\":\"\",\"title\":{\"standoff\":15},\"zerolinecolor\":\"white\",\"automargin\":true,\"zerolinewidth\":2},\"scene\":{\"xaxis\":{\"backgroundcolor\":\"#E5ECF6\",\"gridcolor\":\"white\",\"linecolor\":\"white\",\"showbackground\":true,\"ticks\":\"\",\"zerolinecolor\":\"white\",\"gridwidth\":2},\"yaxis\":{\"backgroundcolor\":\"#E5ECF6\",\"gridcolor\":\"white\",\"linecolor\":\"white\",\"showbackground\":true,\"ticks\":\"\",\"zerolinecolor\":\"white\",\"gridwidth\":2},\"zaxis\":{\"backgroundcolor\":\"#E5ECF6\",\"gridcolor\":\"white\",\"linecolor\":\"white\",\"showbackground\":true,\"ticks\":\"\",\"zerolinecolor\":\"white\",\"gridwidth\":2}},\"shapedefaults\":{\"line\":{\"color\":\"#2a3f5f\"}},\"annotationdefaults\":{\"arrowcolor\":\"#2a3f5f\",\"arrowhead\":0,\"arrowwidth\":1},\"geo\":{\"bgcolor\":\"white\",\"landcolor\":\"#E5ECF6\",\"subunitcolor\":\"white\",\"showland\":true,\"showlakes\":true,\"lakecolor\":\"white\"},\"title\":{\"x\":0.05},\"mapbox\":{\"style\":\"light\"}}},\"xaxis\":{\"anchor\":\"y\",\"domain\":[0.0,1.0],\"title\":{\"text\":\"index\"}},\"yaxis\":{\"anchor\":\"x\",\"domain\":[0.0,1.0],\"title\":{\"text\":\"value\"},\"type\":\"log\"},\"legend\":{\"title\":{\"text\":\"variable\"},\"tracegroupgap\":0},\"title\":{\"text\":\"Checkpoint Values for solu-12l (Log scale)\"}},                        {\"responsive\": true}                    ).then(function(){\n",
                            "                            \n",
                            "var gd = document.getElementById('87db2943-c842-478c-8c64-5289a60ba868');\n",
                            "var x = new MutationObserver(function (mutations, observer) {{\n",
                            "        var display = window.getComputedStyle(gd).display;\n",
                            "        if (!display || display === 'none') {{\n",
                            "            console.log([gd, 'removed!']);\n",
                            "            Plotly.purge(gd);\n",
                            "            observer.disconnect();\n",
                            "        }}\n",
                            "}});\n",
                            "\n",
                            "// Listen for the removal of the full notebook cells\n",
                            "var notebookContainer = gd.closest('#notebook-container');\n",
                            "if (notebookContainer) {{\n",
                            "    x.observe(notebookContainer, {childList: true});\n",
                            "}}\n",
                            "\n",
                            "// Listen for the clearing of the current output cell\n",
                            "var outputEl = gd.closest('.output');\n",
                            "if (outputEl) {{\n",
                            "    x.observe(outputEl, {childList: true});\n",
                            "}}\n",
                            "\n",
                            "                        })                };                            </script>        </div>\n",
                            "</body>\n",
                            "</html>"
                        ]
                    },
                    "metadata": {},
                    "output_type": "display_data"
                },
                {
                    "data": {
                        "text/html": [
                            "<html>\n",
                            "<head><meta charset=\"utf-8\" /></head>\n",
                            "<body>\n",
                            "    <div>            <script src=\"https://cdnjs.cloudflare.com/ajax/libs/mathjax/2.7.5/MathJax.js?config=TeX-AMS-MML_SVG\"></script><script type=\"text/javascript\">if (window.MathJax && window.MathJax.Hub && window.MathJax.Hub.Config) {window.MathJax.Hub.Config({SVG: {font: \"STIX-Web\"}});}</script>                <script type=\"text/javascript\">window.PlotlyConfig = {MathJaxConfig: 'local'};</script>\n",
                            "        <script charset=\"utf-8\" src=\"https://cdn.plot.ly/plotly-2.26.0.min.js\"></script>                <div id=\"a5b83399-2637-48e9-980b-098ce30dc2fd\" class=\"plotly-graph-div\" style=\"height:525px; width:100%;\"></div>            <script type=\"text/javascript\">                                    window.PLOTLYENV=window.PLOTLYENV || {};                                    if (document.getElementById(\"a5b83399-2637-48e9-980b-098ce30dc2fd\")) {                    Plotly.newPlot(                        \"a5b83399-2637-48e9-980b-098ce30dc2fd\",                        [{\"hovertemplate\":\"variable=0\\u003cbr\\u003eindex=%{x}\\u003cbr\\u003evalue=%{y}\\u003cextra\\u003e\\u003c\\u002fextra\\u003e\",\"legendgroup\":\"0\",\"line\":{\"color\":\"#636efa\",\"dash\":\"solid\"},\"marker\":{\"symbol\":\"circle\"},\"mode\":\"lines+markers\",\"name\":\"0\",\"orientation\":\"v\",\"showlegend\":true,\"x\":[0,1,2,3,4,5,6,7,8,9,10,11,12,13,14,15,16,17,18,19,20,21,22,23,24,25,26,27,28,29,30,31,32,33,34,35,36,37,38,39,40,41,42,43,44,45,46,47,48,49,50,51,52,53,54,55,56,57,58,59,60,61,62,63,64,65,66,67,68,69,70,71,72,73,74,75,76,77,78,79,80,81,82,83,84,85,86,87,88,89,90,91,92,93,94,95,96,97,98,99,100,101,102,103,104,105,106,107,108,109,110,111,112,113,114,115,116,117,118,119,120,121,122,123,124,125,126,127,128,129,130,131,132,133,134,135,136,137,138,139,140,141,142,143,144,145,146,147,148,149,150,151,152,153,154,155,156,157,158,159,160,161,162,163,164,165,166,167,168,169,170,171,172,173,174,175,176,177,178,179,180,181,182,183,184,185,186,187,188,189,190,191,192,193,194,195,196,197,198,199,200,201,202,203,204,205,206,207,208,209,210,211,212,213,214,215,216,217,218,219,220,221,222,223,224,225,226,227,228,229,230,231,232,233,234,235,236,237,238,239,240,241,242,243,244,245,246,247,248,249,250,251,252,253,254,255,256,257,258,259,260,261,262,263,264,265,266,267,268,269,270,271,272,273,274,275,276,277,278,279,280,281,282,283,284,285,286,287,288,289,290,291,292,293,294,295,296,297,298,299,300,301,302,303,304,305,306,307,308,309,310,311,312,313,314,315,316,317,318,319,320,321,322,323,324,325,326,327,328,329,330,331,332,333,334,335,336,337,338,339,340,341,342,343,344,345,346,347,348,349,350,351,352,353,354,355,356,357,358,359,360,361,362,363,364,365,366,367,368,369,370,371,372,373,374,375,376,377,378,379,380,381,382,383,384,385,386,387,388,389,390,391,392,393,394,395,396,397,398,399,400,401,402,403,404,405,406,407,408,409,410,411,412,413,414,415,416,417,418,419,420,421,422,423,424,425,426,427,428,429,430,431,432,433,434,435,436,437,438,439,440,441,442,443,444,445,446,447,448,449,450,451,452,453,454,455,456,457,458,459,460,461,462,463,464,465,466,467,468,469,470,471,472,473,474,475,476,477,478,479,480,481,482,483,484,485,486,487,488,489,490,491,492,493,494,495,496,497,498,499,500,501,502,503,504,505,506,507,508,509,510,511,512,513,514,515,516,517,518,519,520,521,522,523,524,525,526,527,528,529,530,531,532,533,534,535,536,537,538,539,540,541,542,543,544,545,546,547,548,549,550,551,552,553,554,555,556,557,558,559,560,561,562,563,564,565,566,567,568,569,570,571,572,573,574,575,576,577,578,579,580,581,582,583,584,585,586,587,588,589,590,591,592,593,594,595,596,597,598,599,600,601,602,603,604,605,606,607,608],\"xaxis\":\"x\",\"y\":[0,10,20,30,40,50,60,70,80,90,100,150,200,250,300,350,400,450,500,550,600,650,700,750,800,850,900,950,1000,1050,1100,1150,1200,1250,1300,1350,1400,1450,1500,1550,1600,1650,1700,1750,1800,1850,1900,1950,2000,2100,2200,2300,2400,2500,2600,2700,2800,2900,3000,3100,3200,3300,3400,3500,3600,3700,3800,3900,4000,4100,4200,4300,4400,4500,4600,4700,4800,4900,5000,5100,5200,5300,5400,5500,5600,5700,5800,5900,6000,6100,6200,6300,6400,6500,6600,6700,6800,6900,7000,7100,7200,7300,7400,7500,7600,7700,7800,7900,8000,8100,8200,8300,8400,8500,8600,8700,8800,8900,9000,9100,9200,9300,9400,9500,9600,9700,9800,9900,10000,10100,10200,10300,10400,10500,10600,10700,10800,10900,11000,11100,11200,11300,11400,11500,11600,11700,11800,11900,12000,12100,12200,12300,12400,12500,12600,12700,12800,12900,13000,13100,13200,13300,13400,13500,13600,13700,13800,13900,14000,14100,14200,14300,14400,14500,14600,14700,14800,14900,15000,15100,15200,15300,15400,15500,15600,15700,15800,15900,16000,16100,16200,16300,16400,16500,16600,16700,16800,16900,17000,17100,17200,17300,17400,17500,17600,17700,17800,17900,18000,18100,18200,18300,18400,18500,18600,18700,18800,18900,19000,19100,19200,19300,19400,19500,19600,19700,19800,19900,20000,21000,22000,23000,24000,25000,26000,27000,28000,29000,30000,31000,32000,33000,34000,35000,36000,37000,38000,39000,40000,41000,42000,43000,44000,45000,46000,47000,48000,49000,50000,51000,52000,53000,54000,55000,56000,57000,58000,59000,60000,61000,62000,63000,64000,65000,66000,67000,68000,69000,70000,71000,72000,73000,74000,75000,76000,77000,78000,79000,80000,81000,82000,83000,84000,85000,86000,87000,88000,89000,90000,91000,92000,93000,94000,95000,96000,97000,98000,99000,100000,101000,102000,103000,104000,105000,106000,107000,108000,109000,110000,111000,112000,113000,114000,115000,116000,117000,118000,119000,120000,121000,122000,123000,124000,125000,126000,127000,128000,129000,130000,131000,132000,133000,134000,135000,136000,137000,138000,139000,140000,141000,142000,143000,144000,145000,146000,147000,148000,149000,150000,151000,152000,153000,154000,155000,156000,157000,158000,159000,160000,161000,162000,163000,164000,165000,166000,167000,168000,169000,170000,171000,172000,173000,174000,175000,176000,177000,178000,179000,180000,181000,182000,183000,184000,185000,186000,187000,188000,189000,190000,191000,192000,193000,194000,195000,196000,197000,198000,199000,200000,201000,202000,203000,204000,205000,206000,207000,208000,209000,210000,211000,212000,213000,214000,215000,216000,217000,218000,219000,220000,221000,222000,223000,224000,225000,226000,227000,228000,229000,230000,231000,232000,233000,234000,235000,236000,237000,238000,239000,240000,241000,242000,243000,244000,245000,246000,247000,248000,249000,250000,251000,252000,253000,254000,255000,256000,257000,258000,259000,260000,261000,262000,263000,264000,265000,266000,267000,268000,269000,270000,271000,272000,273000,274000,275000,276000,277000,278000,279000,280000,281000,282000,283000,284000,285000,286000,287000,288000,289000,290000,291000,292000,293000,294000,295000,296000,297000,298000,299000,300000,301000,302000,303000,304000,305000,306000,307000,308000,309000,310000,311000,312000,313000,314000,315000,316000,317000,318000,319000,320000,321000,322000,323000,324000,325000,326000,327000,328000,329000,330000,331000,332000,333000,334000,335000,336000,337000,338000,339000,340000,341000,342000,343000,344000,345000,346000,347000,348000,349000,350000,351000,352000,353000,354000,355000,356000,357000,358000,359000,360000,361000,362000,363000,364000,365000,366000,367000,368000,369000,370000,371000,372000,373000,374000,375000,376000,377000,378000,379000,380000,381000,382000,383000,384000,385000,386000,387000,388000,389000,390000,391000,392000,393000,394000,395000,396000,397000,398000,399000,400000],\"yaxis\":\"y\",\"type\":\"scatter\"}],                        {\"template\":{\"data\":{\"histogram2dcontour\":[{\"type\":\"histogram2dcontour\",\"colorbar\":{\"outlinewidth\":0,\"ticks\":\"\"},\"colorscale\":[[0.0,\"#0d0887\"],[0.1111111111111111,\"#46039f\"],[0.2222222222222222,\"#7201a8\"],[0.3333333333333333,\"#9c179e\"],[0.4444444444444444,\"#bd3786\"],[0.5555555555555556,\"#d8576b\"],[0.6666666666666666,\"#ed7953\"],[0.7777777777777778,\"#fb9f3a\"],[0.8888888888888888,\"#fdca26\"],[1.0,\"#f0f921\"]]}],\"choropleth\":[{\"type\":\"choropleth\",\"colorbar\":{\"outlinewidth\":0,\"ticks\":\"\"}}],\"histogram2d\":[{\"type\":\"histogram2d\",\"colorbar\":{\"outlinewidth\":0,\"ticks\":\"\"},\"colorscale\":[[0.0,\"#0d0887\"],[0.1111111111111111,\"#46039f\"],[0.2222222222222222,\"#7201a8\"],[0.3333333333333333,\"#9c179e\"],[0.4444444444444444,\"#bd3786\"],[0.5555555555555556,\"#d8576b\"],[0.6666666666666666,\"#ed7953\"],[0.7777777777777778,\"#fb9f3a\"],[0.8888888888888888,\"#fdca26\"],[1.0,\"#f0f921\"]]}],\"heatmap\":[{\"type\":\"heatmap\",\"colorbar\":{\"outlinewidth\":0,\"ticks\":\"\"},\"colorscale\":[[0.0,\"#0d0887\"],[0.1111111111111111,\"#46039f\"],[0.2222222222222222,\"#7201a8\"],[0.3333333333333333,\"#9c179e\"],[0.4444444444444444,\"#bd3786\"],[0.5555555555555556,\"#d8576b\"],[0.6666666666666666,\"#ed7953\"],[0.7777777777777778,\"#fb9f3a\"],[0.8888888888888888,\"#fdca26\"],[1.0,\"#f0f921\"]]}],\"heatmapgl\":[{\"type\":\"heatmapgl\",\"colorbar\":{\"outlinewidth\":0,\"ticks\":\"\"},\"colorscale\":[[0.0,\"#0d0887\"],[0.1111111111111111,\"#46039f\"],[0.2222222222222222,\"#7201a8\"],[0.3333333333333333,\"#9c179e\"],[0.4444444444444444,\"#bd3786\"],[0.5555555555555556,\"#d8576b\"],[0.6666666666666666,\"#ed7953\"],[0.7777777777777778,\"#fb9f3a\"],[0.8888888888888888,\"#fdca26\"],[1.0,\"#f0f921\"]]}],\"contourcarpet\":[{\"type\":\"contourcarpet\",\"colorbar\":{\"outlinewidth\":0,\"ticks\":\"\"}}],\"contour\":[{\"type\":\"contour\",\"colorbar\":{\"outlinewidth\":0,\"ticks\":\"\"},\"colorscale\":[[0.0,\"#0d0887\"],[0.1111111111111111,\"#46039f\"],[0.2222222222222222,\"#7201a8\"],[0.3333333333333333,\"#9c179e\"],[0.4444444444444444,\"#bd3786\"],[0.5555555555555556,\"#d8576b\"],[0.6666666666666666,\"#ed7953\"],[0.7777777777777778,\"#fb9f3a\"],[0.8888888888888888,\"#fdca26\"],[1.0,\"#f0f921\"]]}],\"surface\":[{\"type\":\"surface\",\"colorbar\":{\"outlinewidth\":0,\"ticks\":\"\"},\"colorscale\":[[0.0,\"#0d0887\"],[0.1111111111111111,\"#46039f\"],[0.2222222222222222,\"#7201a8\"],[0.3333333333333333,\"#9c179e\"],[0.4444444444444444,\"#bd3786\"],[0.5555555555555556,\"#d8576b\"],[0.6666666666666666,\"#ed7953\"],[0.7777777777777778,\"#fb9f3a\"],[0.8888888888888888,\"#fdca26\"],[1.0,\"#f0f921\"]]}],\"mesh3d\":[{\"type\":\"mesh3d\",\"colorbar\":{\"outlinewidth\":0,\"ticks\":\"\"}}],\"scatter\":[{\"fillpattern\":{\"fillmode\":\"overlay\",\"size\":10,\"solidity\":0.2},\"type\":\"scatter\"}],\"parcoords\":[{\"type\":\"parcoords\",\"line\":{\"colorbar\":{\"outlinewidth\":0,\"ticks\":\"\"}}}],\"scatterpolargl\":[{\"type\":\"scatterpolargl\",\"marker\":{\"colorbar\":{\"outlinewidth\":0,\"ticks\":\"\"}}}],\"bar\":[{\"error_x\":{\"color\":\"#2a3f5f\"},\"error_y\":{\"color\":\"#2a3f5f\"},\"marker\":{\"line\":{\"color\":\"#E5ECF6\",\"width\":0.5},\"pattern\":{\"fillmode\":\"overlay\",\"size\":10,\"solidity\":0.2}},\"type\":\"bar\"}],\"scattergeo\":[{\"type\":\"scattergeo\",\"marker\":{\"colorbar\":{\"outlinewidth\":0,\"ticks\":\"\"}}}],\"scatterpolar\":[{\"type\":\"scatterpolar\",\"marker\":{\"colorbar\":{\"outlinewidth\":0,\"ticks\":\"\"}}}],\"histogram\":[{\"marker\":{\"pattern\":{\"fillmode\":\"overlay\",\"size\":10,\"solidity\":0.2}},\"type\":\"histogram\"}],\"scattergl\":[{\"type\":\"scattergl\",\"marker\":{\"colorbar\":{\"outlinewidth\":0,\"ticks\":\"\"}}}],\"scatter3d\":[{\"type\":\"scatter3d\",\"line\":{\"colorbar\":{\"outlinewidth\":0,\"ticks\":\"\"}},\"marker\":{\"colorbar\":{\"outlinewidth\":0,\"ticks\":\"\"}}}],\"scattermapbox\":[{\"type\":\"scattermapbox\",\"marker\":{\"colorbar\":{\"outlinewidth\":0,\"ticks\":\"\"}}}],\"scatterternary\":[{\"type\":\"scatterternary\",\"marker\":{\"colorbar\":{\"outlinewidth\":0,\"ticks\":\"\"}}}],\"scattercarpet\":[{\"type\":\"scattercarpet\",\"marker\":{\"colorbar\":{\"outlinewidth\":0,\"ticks\":\"\"}}}],\"carpet\":[{\"aaxis\":{\"endlinecolor\":\"#2a3f5f\",\"gridcolor\":\"white\",\"linecolor\":\"white\",\"minorgridcolor\":\"white\",\"startlinecolor\":\"#2a3f5f\"},\"baxis\":{\"endlinecolor\":\"#2a3f5f\",\"gridcolor\":\"white\",\"linecolor\":\"white\",\"minorgridcolor\":\"white\",\"startlinecolor\":\"#2a3f5f\"},\"type\":\"carpet\"}],\"table\":[{\"cells\":{\"fill\":{\"color\":\"#EBF0F8\"},\"line\":{\"color\":\"white\"}},\"header\":{\"fill\":{\"color\":\"#C8D4E3\"},\"line\":{\"color\":\"white\"}},\"type\":\"table\"}],\"barpolar\":[{\"marker\":{\"line\":{\"color\":\"#E5ECF6\",\"width\":0.5},\"pattern\":{\"fillmode\":\"overlay\",\"size\":10,\"solidity\":0.2}},\"type\":\"barpolar\"}],\"pie\":[{\"automargin\":true,\"type\":\"pie\"}]},\"layout\":{\"autotypenumbers\":\"strict\",\"colorway\":[\"#636efa\",\"#EF553B\",\"#00cc96\",\"#ab63fa\",\"#FFA15A\",\"#19d3f3\",\"#FF6692\",\"#B6E880\",\"#FF97FF\",\"#FECB52\"],\"font\":{\"color\":\"#2a3f5f\"},\"hovermode\":\"closest\",\"hoverlabel\":{\"align\":\"left\"},\"paper_bgcolor\":\"white\",\"plot_bgcolor\":\"#E5ECF6\",\"polar\":{\"bgcolor\":\"#E5ECF6\",\"angularaxis\":{\"gridcolor\":\"white\",\"linecolor\":\"white\",\"ticks\":\"\"},\"radialaxis\":{\"gridcolor\":\"white\",\"linecolor\":\"white\",\"ticks\":\"\"}},\"ternary\":{\"bgcolor\":\"#E5ECF6\",\"aaxis\":{\"gridcolor\":\"white\",\"linecolor\":\"white\",\"ticks\":\"\"},\"baxis\":{\"gridcolor\":\"white\",\"linecolor\":\"white\",\"ticks\":\"\"},\"caxis\":{\"gridcolor\":\"white\",\"linecolor\":\"white\",\"ticks\":\"\"}},\"coloraxis\":{\"colorbar\":{\"outlinewidth\":0,\"ticks\":\"\"}},\"colorscale\":{\"sequential\":[[0.0,\"#0d0887\"],[0.1111111111111111,\"#46039f\"],[0.2222222222222222,\"#7201a8\"],[0.3333333333333333,\"#9c179e\"],[0.4444444444444444,\"#bd3786\"],[0.5555555555555556,\"#d8576b\"],[0.6666666666666666,\"#ed7953\"],[0.7777777777777778,\"#fb9f3a\"],[0.8888888888888888,\"#fdca26\"],[1.0,\"#f0f921\"]],\"sequentialminus\":[[0.0,\"#0d0887\"],[0.1111111111111111,\"#46039f\"],[0.2222222222222222,\"#7201a8\"],[0.3333333333333333,\"#9c179e\"],[0.4444444444444444,\"#bd3786\"],[0.5555555555555556,\"#d8576b\"],[0.6666666666666666,\"#ed7953\"],[0.7777777777777778,\"#fb9f3a\"],[0.8888888888888888,\"#fdca26\"],[1.0,\"#f0f921\"]],\"diverging\":[[0,\"#8e0152\"],[0.1,\"#c51b7d\"],[0.2,\"#de77ae\"],[0.3,\"#f1b6da\"],[0.4,\"#fde0ef\"],[0.5,\"#f7f7f7\"],[0.6,\"#e6f5d0\"],[0.7,\"#b8e186\"],[0.8,\"#7fbc41\"],[0.9,\"#4d9221\"],[1,\"#276419\"]]},\"xaxis\":{\"gridcolor\":\"white\",\"linecolor\":\"white\",\"ticks\":\"\",\"title\":{\"standoff\":15},\"zerolinecolor\":\"white\",\"automargin\":true,\"zerolinewidth\":2},\"yaxis\":{\"gridcolor\":\"white\",\"linecolor\":\"white\",\"ticks\":\"\",\"title\":{\"standoff\":15},\"zerolinecolor\":\"white\",\"automargin\":true,\"zerolinewidth\":2},\"scene\":{\"xaxis\":{\"backgroundcolor\":\"#E5ECF6\",\"gridcolor\":\"white\",\"linecolor\":\"white\",\"showbackground\":true,\"ticks\":\"\",\"zerolinecolor\":\"white\",\"gridwidth\":2},\"yaxis\":{\"backgroundcolor\":\"#E5ECF6\",\"gridcolor\":\"white\",\"linecolor\":\"white\",\"showbackground\":true,\"ticks\":\"\",\"zerolinecolor\":\"white\",\"gridwidth\":2},\"zaxis\":{\"backgroundcolor\":\"#E5ECF6\",\"gridcolor\":\"white\",\"linecolor\":\"white\",\"showbackground\":true,\"ticks\":\"\",\"zerolinecolor\":\"white\",\"gridwidth\":2}},\"shapedefaults\":{\"line\":{\"color\":\"#2a3f5f\"}},\"annotationdefaults\":{\"arrowcolor\":\"#2a3f5f\",\"arrowhead\":0,\"arrowwidth\":1},\"geo\":{\"bgcolor\":\"white\",\"landcolor\":\"#E5ECF6\",\"subunitcolor\":\"white\",\"showland\":true,\"showlakes\":true,\"lakecolor\":\"white\"},\"title\":{\"x\":0.05},\"mapbox\":{\"style\":\"light\"}}},\"xaxis\":{\"anchor\":\"y\",\"domain\":[0.0,1.0],\"title\":{\"text\":\"index\"}},\"yaxis\":{\"anchor\":\"x\",\"domain\":[0.0,1.0],\"title\":{\"text\":\"value\"},\"type\":\"log\"},\"legend\":{\"title\":{\"text\":\"variable\"},\"tracegroupgap\":0},\"title\":{\"text\":\"Checkpoint Values for stanford-gpt2-small-a (Log scale)\"}},                        {\"responsive\": true}                    ).then(function(){\n",
                            "                            \n",
                            "var gd = document.getElementById('a5b83399-2637-48e9-980b-098ce30dc2fd');\n",
                            "var x = new MutationObserver(function (mutations, observer) {{\n",
                            "        var display = window.getComputedStyle(gd).display;\n",
                            "        if (!display || display === 'none') {{\n",
                            "            console.log([gd, 'removed!']);\n",
                            "            Plotly.purge(gd);\n",
                            "            observer.disconnect();\n",
                            "        }}\n",
                            "}});\n",
                            "\n",
                            "// Listen for the removal of the full notebook cells\n",
                            "var notebookContainer = gd.closest('#notebook-container');\n",
                            "if (notebookContainer) {{\n",
                            "    x.observe(notebookContainer, {childList: true});\n",
                            "}}\n",
                            "\n",
                            "// Listen for the clearing of the current output cell\n",
                            "var outputEl = gd.closest('.output');\n",
                            "if (outputEl) {{\n",
                            "    x.observe(outputEl, {childList: true});\n",
                            "}}\n",
                            "\n",
                            "                        })                };                            </script>        </div>\n",
                            "</body>\n",
                            "</html>"
                        ]
                    },
                    "metadata": {},
                    "output_type": "display_data"
                },
                {
                    "data": {
                        "text/html": [
                            "<html>\n",
                            "<head><meta charset=\"utf-8\" /></head>\n",
                            "<body>\n",
                            "    <div>            <script src=\"https://cdnjs.cloudflare.com/ajax/libs/mathjax/2.7.5/MathJax.js?config=TeX-AMS-MML_SVG\"></script><script type=\"text/javascript\">if (window.MathJax && window.MathJax.Hub && window.MathJax.Hub.Config) {window.MathJax.Hub.Config({SVG: {font: \"STIX-Web\"}});}</script>                <script type=\"text/javascript\">window.PlotlyConfig = {MathJaxConfig: 'local'};</script>\n",
                            "        <script charset=\"utf-8\" src=\"https://cdn.plot.ly/plotly-2.26.0.min.js\"></script>                <div id=\"4c28ffe1-8565-4e92-babd-d57cc8bc847d\" class=\"plotly-graph-div\" style=\"height:525px; width:100%;\"></div>            <script type=\"text/javascript\">                                    window.PLOTLYENV=window.PLOTLYENV || {};                                    if (document.getElementById(\"4c28ffe1-8565-4e92-babd-d57cc8bc847d\")) {                    Plotly.newPlot(                        \"4c28ffe1-8565-4e92-babd-d57cc8bc847d\",                        [{\"hovertemplate\":\"variable=0\\u003cbr\\u003eindex=%{x}\\u003cbr\\u003evalue=%{y}\\u003cextra\\u003e\\u003c\\u002fextra\\u003e\",\"legendgroup\":\"0\",\"line\":{\"color\":\"#636efa\",\"dash\":\"solid\"},\"marker\":{\"symbol\":\"circle\"},\"mode\":\"lines+markers\",\"name\":\"0\",\"orientation\":\"v\",\"showlegend\":true,\"x\":[0,1,2,3,4,5,6,7,8,9,10,11,12,13,14,15,16,17,18,19,20,21,22,23,24,25,26,27,28,29,30,31,32,33,34,35,36,37,38,39,40,41,42,43,44,45,46,47,48,49],\"xaxis\":\"x\",\"y\":[832,1664,2496,3328,4160,4992,5824,6656,7488,8320,9152,9984,10816,11648,12480,13312,14144,14976,15808,16640,17472,18304,19136,19968,20800,21632,22464,23296,24128,24960,25792,26624,27456,28288,29120,29952,30784,31616,32448,33280,34112,34944,35776,36608,37440,38272,39104,39936,40768,41600],\"yaxis\":\"y\",\"type\":\"scatter\"}],                        {\"template\":{\"data\":{\"histogram2dcontour\":[{\"type\":\"histogram2dcontour\",\"colorbar\":{\"outlinewidth\":0,\"ticks\":\"\"},\"colorscale\":[[0.0,\"#0d0887\"],[0.1111111111111111,\"#46039f\"],[0.2222222222222222,\"#7201a8\"],[0.3333333333333333,\"#9c179e\"],[0.4444444444444444,\"#bd3786\"],[0.5555555555555556,\"#d8576b\"],[0.6666666666666666,\"#ed7953\"],[0.7777777777777778,\"#fb9f3a\"],[0.8888888888888888,\"#fdca26\"],[1.0,\"#f0f921\"]]}],\"choropleth\":[{\"type\":\"choropleth\",\"colorbar\":{\"outlinewidth\":0,\"ticks\":\"\"}}],\"histogram2d\":[{\"type\":\"histogram2d\",\"colorbar\":{\"outlinewidth\":0,\"ticks\":\"\"},\"colorscale\":[[0.0,\"#0d0887\"],[0.1111111111111111,\"#46039f\"],[0.2222222222222222,\"#7201a8\"],[0.3333333333333333,\"#9c179e\"],[0.4444444444444444,\"#bd3786\"],[0.5555555555555556,\"#d8576b\"],[0.6666666666666666,\"#ed7953\"],[0.7777777777777778,\"#fb9f3a\"],[0.8888888888888888,\"#fdca26\"],[1.0,\"#f0f921\"]]}],\"heatmap\":[{\"type\":\"heatmap\",\"colorbar\":{\"outlinewidth\":0,\"ticks\":\"\"},\"colorscale\":[[0.0,\"#0d0887\"],[0.1111111111111111,\"#46039f\"],[0.2222222222222222,\"#7201a8\"],[0.3333333333333333,\"#9c179e\"],[0.4444444444444444,\"#bd3786\"],[0.5555555555555556,\"#d8576b\"],[0.6666666666666666,\"#ed7953\"],[0.7777777777777778,\"#fb9f3a\"],[0.8888888888888888,\"#fdca26\"],[1.0,\"#f0f921\"]]}],\"heatmapgl\":[{\"type\":\"heatmapgl\",\"colorbar\":{\"outlinewidth\":0,\"ticks\":\"\"},\"colorscale\":[[0.0,\"#0d0887\"],[0.1111111111111111,\"#46039f\"],[0.2222222222222222,\"#7201a8\"],[0.3333333333333333,\"#9c179e\"],[0.4444444444444444,\"#bd3786\"],[0.5555555555555556,\"#d8576b\"],[0.6666666666666666,\"#ed7953\"],[0.7777777777777778,\"#fb9f3a\"],[0.8888888888888888,\"#fdca26\"],[1.0,\"#f0f921\"]]}],\"contourcarpet\":[{\"type\":\"contourcarpet\",\"colorbar\":{\"outlinewidth\":0,\"ticks\":\"\"}}],\"contour\":[{\"type\":\"contour\",\"colorbar\":{\"outlinewidth\":0,\"ticks\":\"\"},\"colorscale\":[[0.0,\"#0d0887\"],[0.1111111111111111,\"#46039f\"],[0.2222222222222222,\"#7201a8\"],[0.3333333333333333,\"#9c179e\"],[0.4444444444444444,\"#bd3786\"],[0.5555555555555556,\"#d8576b\"],[0.6666666666666666,\"#ed7953\"],[0.7777777777777778,\"#fb9f3a\"],[0.8888888888888888,\"#fdca26\"],[1.0,\"#f0f921\"]]}],\"surface\":[{\"type\":\"surface\",\"colorbar\":{\"outlinewidth\":0,\"ticks\":\"\"},\"colorscale\":[[0.0,\"#0d0887\"],[0.1111111111111111,\"#46039f\"],[0.2222222222222222,\"#7201a8\"],[0.3333333333333333,\"#9c179e\"],[0.4444444444444444,\"#bd3786\"],[0.5555555555555556,\"#d8576b\"],[0.6666666666666666,\"#ed7953\"],[0.7777777777777778,\"#fb9f3a\"],[0.8888888888888888,\"#fdca26\"],[1.0,\"#f0f921\"]]}],\"mesh3d\":[{\"type\":\"mesh3d\",\"colorbar\":{\"outlinewidth\":0,\"ticks\":\"\"}}],\"scatter\":[{\"fillpattern\":{\"fillmode\":\"overlay\",\"size\":10,\"solidity\":0.2},\"type\":\"scatter\"}],\"parcoords\":[{\"type\":\"parcoords\",\"line\":{\"colorbar\":{\"outlinewidth\":0,\"ticks\":\"\"}}}],\"scatterpolargl\":[{\"type\":\"scatterpolargl\",\"marker\":{\"colorbar\":{\"outlinewidth\":0,\"ticks\":\"\"}}}],\"bar\":[{\"error_x\":{\"color\":\"#2a3f5f\"},\"error_y\":{\"color\":\"#2a3f5f\"},\"marker\":{\"line\":{\"color\":\"#E5ECF6\",\"width\":0.5},\"pattern\":{\"fillmode\":\"overlay\",\"size\":10,\"solidity\":0.2}},\"type\":\"bar\"}],\"scattergeo\":[{\"type\":\"scattergeo\",\"marker\":{\"colorbar\":{\"outlinewidth\":0,\"ticks\":\"\"}}}],\"scatterpolar\":[{\"type\":\"scatterpolar\",\"marker\":{\"colorbar\":{\"outlinewidth\":0,\"ticks\":\"\"}}}],\"histogram\":[{\"marker\":{\"pattern\":{\"fillmode\":\"overlay\",\"size\":10,\"solidity\":0.2}},\"type\":\"histogram\"}],\"scattergl\":[{\"type\":\"scattergl\",\"marker\":{\"colorbar\":{\"outlinewidth\":0,\"ticks\":\"\"}}}],\"scatter3d\":[{\"type\":\"scatter3d\",\"line\":{\"colorbar\":{\"outlinewidth\":0,\"ticks\":\"\"}},\"marker\":{\"colorbar\":{\"outlinewidth\":0,\"ticks\":\"\"}}}],\"scattermapbox\":[{\"type\":\"scattermapbox\",\"marker\":{\"colorbar\":{\"outlinewidth\":0,\"ticks\":\"\"}}}],\"scatterternary\":[{\"type\":\"scatterternary\",\"marker\":{\"colorbar\":{\"outlinewidth\":0,\"ticks\":\"\"}}}],\"scattercarpet\":[{\"type\":\"scattercarpet\",\"marker\":{\"colorbar\":{\"outlinewidth\":0,\"ticks\":\"\"}}}],\"carpet\":[{\"aaxis\":{\"endlinecolor\":\"#2a3f5f\",\"gridcolor\":\"white\",\"linecolor\":\"white\",\"minorgridcolor\":\"white\",\"startlinecolor\":\"#2a3f5f\"},\"baxis\":{\"endlinecolor\":\"#2a3f5f\",\"gridcolor\":\"white\",\"linecolor\":\"white\",\"minorgridcolor\":\"white\",\"startlinecolor\":\"#2a3f5f\"},\"type\":\"carpet\"}],\"table\":[{\"cells\":{\"fill\":{\"color\":\"#EBF0F8\"},\"line\":{\"color\":\"white\"}},\"header\":{\"fill\":{\"color\":\"#C8D4E3\"},\"line\":{\"color\":\"white\"}},\"type\":\"table\"}],\"barpolar\":[{\"marker\":{\"line\":{\"color\":\"#E5ECF6\",\"width\":0.5},\"pattern\":{\"fillmode\":\"overlay\",\"size\":10,\"solidity\":0.2}},\"type\":\"barpolar\"}],\"pie\":[{\"automargin\":true,\"type\":\"pie\"}]},\"layout\":{\"autotypenumbers\":\"strict\",\"colorway\":[\"#636efa\",\"#EF553B\",\"#00cc96\",\"#ab63fa\",\"#FFA15A\",\"#19d3f3\",\"#FF6692\",\"#B6E880\",\"#FF97FF\",\"#FECB52\"],\"font\":{\"color\":\"#2a3f5f\"},\"hovermode\":\"closest\",\"hoverlabel\":{\"align\":\"left\"},\"paper_bgcolor\":\"white\",\"plot_bgcolor\":\"#E5ECF6\",\"polar\":{\"bgcolor\":\"#E5ECF6\",\"angularaxis\":{\"gridcolor\":\"white\",\"linecolor\":\"white\",\"ticks\":\"\"},\"radialaxis\":{\"gridcolor\":\"white\",\"linecolor\":\"white\",\"ticks\":\"\"}},\"ternary\":{\"bgcolor\":\"#E5ECF6\",\"aaxis\":{\"gridcolor\":\"white\",\"linecolor\":\"white\",\"ticks\":\"\"},\"baxis\":{\"gridcolor\":\"white\",\"linecolor\":\"white\",\"ticks\":\"\"},\"caxis\":{\"gridcolor\":\"white\",\"linecolor\":\"white\",\"ticks\":\"\"}},\"coloraxis\":{\"colorbar\":{\"outlinewidth\":0,\"ticks\":\"\"}},\"colorscale\":{\"sequential\":[[0.0,\"#0d0887\"],[0.1111111111111111,\"#46039f\"],[0.2222222222222222,\"#7201a8\"],[0.3333333333333333,\"#9c179e\"],[0.4444444444444444,\"#bd3786\"],[0.5555555555555556,\"#d8576b\"],[0.6666666666666666,\"#ed7953\"],[0.7777777777777778,\"#fb9f3a\"],[0.8888888888888888,\"#fdca26\"],[1.0,\"#f0f921\"]],\"sequentialminus\":[[0.0,\"#0d0887\"],[0.1111111111111111,\"#46039f\"],[0.2222222222222222,\"#7201a8\"],[0.3333333333333333,\"#9c179e\"],[0.4444444444444444,\"#bd3786\"],[0.5555555555555556,\"#d8576b\"],[0.6666666666666666,\"#ed7953\"],[0.7777777777777778,\"#fb9f3a\"],[0.8888888888888888,\"#fdca26\"],[1.0,\"#f0f921\"]],\"diverging\":[[0,\"#8e0152\"],[0.1,\"#c51b7d\"],[0.2,\"#de77ae\"],[0.3,\"#f1b6da\"],[0.4,\"#fde0ef\"],[0.5,\"#f7f7f7\"],[0.6,\"#e6f5d0\"],[0.7,\"#b8e186\"],[0.8,\"#7fbc41\"],[0.9,\"#4d9221\"],[1,\"#276419\"]]},\"xaxis\":{\"gridcolor\":\"white\",\"linecolor\":\"white\",\"ticks\":\"\",\"title\":{\"standoff\":15},\"zerolinecolor\":\"white\",\"automargin\":true,\"zerolinewidth\":2},\"yaxis\":{\"gridcolor\":\"white\",\"linecolor\":\"white\",\"ticks\":\"\",\"title\":{\"standoff\":15},\"zerolinecolor\":\"white\",\"automargin\":true,\"zerolinewidth\":2},\"scene\":{\"xaxis\":{\"backgroundcolor\":\"#E5ECF6\",\"gridcolor\":\"white\",\"linecolor\":\"white\",\"showbackground\":true,\"ticks\":\"\",\"zerolinecolor\":\"white\",\"gridwidth\":2},\"yaxis\":{\"backgroundcolor\":\"#E5ECF6\",\"gridcolor\":\"white\",\"linecolor\":\"white\",\"showbackground\":true,\"ticks\":\"\",\"zerolinecolor\":\"white\",\"gridwidth\":2},\"zaxis\":{\"backgroundcolor\":\"#E5ECF6\",\"gridcolor\":\"white\",\"linecolor\":\"white\",\"showbackground\":true,\"ticks\":\"\",\"zerolinecolor\":\"white\",\"gridwidth\":2}},\"shapedefaults\":{\"line\":{\"color\":\"#2a3f5f\"}},\"annotationdefaults\":{\"arrowcolor\":\"#2a3f5f\",\"arrowhead\":0,\"arrowwidth\":1},\"geo\":{\"bgcolor\":\"white\",\"landcolor\":\"#E5ECF6\",\"subunitcolor\":\"white\",\"showland\":true,\"showlakes\":true,\"lakecolor\":\"white\"},\"title\":{\"x\":0.05},\"mapbox\":{\"style\":\"light\"}}},\"xaxis\":{\"anchor\":\"y\",\"domain\":[0.0,1.0],\"title\":{\"text\":\"index\"}},\"yaxis\":{\"anchor\":\"x\",\"domain\":[0.0,1.0],\"title\":{\"text\":\"value\"}},\"legend\":{\"title\":{\"text\":\"variable\"},\"tracegroupgap\":0},\"title\":{\"text\":\"Checkpoint Values for solu-1l-pile (Linear scale)\"}},                        {\"responsive\": true}                    ).then(function(){\n",
                            "                            \n",
                            "var gd = document.getElementById('4c28ffe1-8565-4e92-babd-d57cc8bc847d');\n",
                            "var x = new MutationObserver(function (mutations, observer) {{\n",
                            "        var display = window.getComputedStyle(gd).display;\n",
                            "        if (!display || display === 'none') {{\n",
                            "            console.log([gd, 'removed!']);\n",
                            "            Plotly.purge(gd);\n",
                            "            observer.disconnect();\n",
                            "        }}\n",
                            "}});\n",
                            "\n",
                            "// Listen for the removal of the full notebook cells\n",
                            "var notebookContainer = gd.closest('#notebook-container');\n",
                            "if (notebookContainer) {{\n",
                            "    x.observe(notebookContainer, {childList: true});\n",
                            "}}\n",
                            "\n",
                            "// Listen for the clearing of the current output cell\n",
                            "var outputEl = gd.closest('.output');\n",
                            "if (outputEl) {{\n",
                            "    x.observe(outputEl, {childList: true});\n",
                            "}}\n",
                            "\n",
                            "                        })                };                            </script>        </div>\n",
                            "</body>\n",
                            "</html>"
                        ]
                    },
                    "metadata": {},
                    "output_type": "display_data"
                },
                {
                    "data": {
                        "text/html": [
                            "<html>\n",
                            "<head><meta charset=\"utf-8\" /></head>\n",
                            "<body>\n",
                            "    <div>            <script src=\"https://cdnjs.cloudflare.com/ajax/libs/mathjax/2.7.5/MathJax.js?config=TeX-AMS-MML_SVG\"></script><script type=\"text/javascript\">if (window.MathJax && window.MathJax.Hub && window.MathJax.Hub.Config) {window.MathJax.Hub.Config({SVG: {font: \"STIX-Web\"}});}</script>                <script type=\"text/javascript\">window.PlotlyConfig = {MathJaxConfig: 'local'};</script>\n",
                            "        <script charset=\"utf-8\" src=\"https://cdn.plot.ly/plotly-2.26.0.min.js\"></script>                <div id=\"d92c9f04-9700-4de1-9237-9cba28fcdafb\" class=\"plotly-graph-div\" style=\"height:525px; width:100%;\"></div>            <script type=\"text/javascript\">                                    window.PLOTLYENV=window.PLOTLYENV || {};                                    if (document.getElementById(\"d92c9f04-9700-4de1-9237-9cba28fcdafb\")) {                    Plotly.newPlot(                        \"d92c9f04-9700-4de1-9237-9cba28fcdafb\",                        [{\"hovertemplate\":\"variable=0\\u003cbr\\u003eindex=%{x}\\u003cbr\\u003evalue=%{y}\\u003cextra\\u003e\\u003c\\u002fextra\\u003e\",\"legendgroup\":\"0\",\"line\":{\"color\":\"#636efa\",\"dash\":\"solid\"},\"marker\":{\"symbol\":\"circle\"},\"mode\":\"lines+markers\",\"name\":\"0\",\"orientation\":\"v\",\"showlegend\":true,\"x\":[0,1,2,3,4,5,6,7,8,9,10,11,12,13,14,15,16,17,18,19,20,21,22,23,24,25,26,27,28,29,30,31,32,33,34,35,36,37,38,39,40,41,42,43,44,45,46,47,48,49,50,51,52,53,54,55,56,57,58,59,60,61,62,63,64,65,66,67,68,69,70,71,72,73,74,75,76,77,78,79,80,81,82,83,84,85,86,87,88,89,90,91,92,93,94,95,96,97,98,99],\"xaxis\":\"x\",\"y\":[326,652,978,1304,1630,1956,2282,2608,2934,3260,3586,3912,4238,4564,4890,5216,5542,5868,6194,6520,6846,7172,7498,7824,8150,8476,8802,9128,9454,9780,10106,10432,10758,11084,11410,11736,12062,12388,12714,13040,13366,13692,14018,14344,14670,14996,15322,15648,15974,16300,16626,16952,17278,17604,17930,18256,18582,18908,19234,19560,19886,20212,20538,20864,21190,21516,21842,22168,22494,22820,23146,23472,23798,24124,24450,24776,25102,25428,25754,26080,26406,26732,27058,27384,27710,28036,28362,28688,29014,29340,29666,29992,30318,30644,30970,31296,31622,31948,32274,32600],\"yaxis\":\"y\",\"type\":\"scatter\"}],                        {\"template\":{\"data\":{\"histogram2dcontour\":[{\"type\":\"histogram2dcontour\",\"colorbar\":{\"outlinewidth\":0,\"ticks\":\"\"},\"colorscale\":[[0.0,\"#0d0887\"],[0.1111111111111111,\"#46039f\"],[0.2222222222222222,\"#7201a8\"],[0.3333333333333333,\"#9c179e\"],[0.4444444444444444,\"#bd3786\"],[0.5555555555555556,\"#d8576b\"],[0.6666666666666666,\"#ed7953\"],[0.7777777777777778,\"#fb9f3a\"],[0.8888888888888888,\"#fdca26\"],[1.0,\"#f0f921\"]]}],\"choropleth\":[{\"type\":\"choropleth\",\"colorbar\":{\"outlinewidth\":0,\"ticks\":\"\"}}],\"histogram2d\":[{\"type\":\"histogram2d\",\"colorbar\":{\"outlinewidth\":0,\"ticks\":\"\"},\"colorscale\":[[0.0,\"#0d0887\"],[0.1111111111111111,\"#46039f\"],[0.2222222222222222,\"#7201a8\"],[0.3333333333333333,\"#9c179e\"],[0.4444444444444444,\"#bd3786\"],[0.5555555555555556,\"#d8576b\"],[0.6666666666666666,\"#ed7953\"],[0.7777777777777778,\"#fb9f3a\"],[0.8888888888888888,\"#fdca26\"],[1.0,\"#f0f921\"]]}],\"heatmap\":[{\"type\":\"heatmap\",\"colorbar\":{\"outlinewidth\":0,\"ticks\":\"\"},\"colorscale\":[[0.0,\"#0d0887\"],[0.1111111111111111,\"#46039f\"],[0.2222222222222222,\"#7201a8\"],[0.3333333333333333,\"#9c179e\"],[0.4444444444444444,\"#bd3786\"],[0.5555555555555556,\"#d8576b\"],[0.6666666666666666,\"#ed7953\"],[0.7777777777777778,\"#fb9f3a\"],[0.8888888888888888,\"#fdca26\"],[1.0,\"#f0f921\"]]}],\"heatmapgl\":[{\"type\":\"heatmapgl\",\"colorbar\":{\"outlinewidth\":0,\"ticks\":\"\"},\"colorscale\":[[0.0,\"#0d0887\"],[0.1111111111111111,\"#46039f\"],[0.2222222222222222,\"#7201a8\"],[0.3333333333333333,\"#9c179e\"],[0.4444444444444444,\"#bd3786\"],[0.5555555555555556,\"#d8576b\"],[0.6666666666666666,\"#ed7953\"],[0.7777777777777778,\"#fb9f3a\"],[0.8888888888888888,\"#fdca26\"],[1.0,\"#f0f921\"]]}],\"contourcarpet\":[{\"type\":\"contourcarpet\",\"colorbar\":{\"outlinewidth\":0,\"ticks\":\"\"}}],\"contour\":[{\"type\":\"contour\",\"colorbar\":{\"outlinewidth\":0,\"ticks\":\"\"},\"colorscale\":[[0.0,\"#0d0887\"],[0.1111111111111111,\"#46039f\"],[0.2222222222222222,\"#7201a8\"],[0.3333333333333333,\"#9c179e\"],[0.4444444444444444,\"#bd3786\"],[0.5555555555555556,\"#d8576b\"],[0.6666666666666666,\"#ed7953\"],[0.7777777777777778,\"#fb9f3a\"],[0.8888888888888888,\"#fdca26\"],[1.0,\"#f0f921\"]]}],\"surface\":[{\"type\":\"surface\",\"colorbar\":{\"outlinewidth\":0,\"ticks\":\"\"},\"colorscale\":[[0.0,\"#0d0887\"],[0.1111111111111111,\"#46039f\"],[0.2222222222222222,\"#7201a8\"],[0.3333333333333333,\"#9c179e\"],[0.4444444444444444,\"#bd3786\"],[0.5555555555555556,\"#d8576b\"],[0.6666666666666666,\"#ed7953\"],[0.7777777777777778,\"#fb9f3a\"],[0.8888888888888888,\"#fdca26\"],[1.0,\"#f0f921\"]]}],\"mesh3d\":[{\"type\":\"mesh3d\",\"colorbar\":{\"outlinewidth\":0,\"ticks\":\"\"}}],\"scatter\":[{\"fillpattern\":{\"fillmode\":\"overlay\",\"size\":10,\"solidity\":0.2},\"type\":\"scatter\"}],\"parcoords\":[{\"type\":\"parcoords\",\"line\":{\"colorbar\":{\"outlinewidth\":0,\"ticks\":\"\"}}}],\"scatterpolargl\":[{\"type\":\"scatterpolargl\",\"marker\":{\"colorbar\":{\"outlinewidth\":0,\"ticks\":\"\"}}}],\"bar\":[{\"error_x\":{\"color\":\"#2a3f5f\"},\"error_y\":{\"color\":\"#2a3f5f\"},\"marker\":{\"line\":{\"color\":\"#E5ECF6\",\"width\":0.5},\"pattern\":{\"fillmode\":\"overlay\",\"size\":10,\"solidity\":0.2}},\"type\":\"bar\"}],\"scattergeo\":[{\"type\":\"scattergeo\",\"marker\":{\"colorbar\":{\"outlinewidth\":0,\"ticks\":\"\"}}}],\"scatterpolar\":[{\"type\":\"scatterpolar\",\"marker\":{\"colorbar\":{\"outlinewidth\":0,\"ticks\":\"\"}}}],\"histogram\":[{\"marker\":{\"pattern\":{\"fillmode\":\"overlay\",\"size\":10,\"solidity\":0.2}},\"type\":\"histogram\"}],\"scattergl\":[{\"type\":\"scattergl\",\"marker\":{\"colorbar\":{\"outlinewidth\":0,\"ticks\":\"\"}}}],\"scatter3d\":[{\"type\":\"scatter3d\",\"line\":{\"colorbar\":{\"outlinewidth\":0,\"ticks\":\"\"}},\"marker\":{\"colorbar\":{\"outlinewidth\":0,\"ticks\":\"\"}}}],\"scattermapbox\":[{\"type\":\"scattermapbox\",\"marker\":{\"colorbar\":{\"outlinewidth\":0,\"ticks\":\"\"}}}],\"scatterternary\":[{\"type\":\"scatterternary\",\"marker\":{\"colorbar\":{\"outlinewidth\":0,\"ticks\":\"\"}}}],\"scattercarpet\":[{\"type\":\"scattercarpet\",\"marker\":{\"colorbar\":{\"outlinewidth\":0,\"ticks\":\"\"}}}],\"carpet\":[{\"aaxis\":{\"endlinecolor\":\"#2a3f5f\",\"gridcolor\":\"white\",\"linecolor\":\"white\",\"minorgridcolor\":\"white\",\"startlinecolor\":\"#2a3f5f\"},\"baxis\":{\"endlinecolor\":\"#2a3f5f\",\"gridcolor\":\"white\",\"linecolor\":\"white\",\"minorgridcolor\":\"white\",\"startlinecolor\":\"#2a3f5f\"},\"type\":\"carpet\"}],\"table\":[{\"cells\":{\"fill\":{\"color\":\"#EBF0F8\"},\"line\":{\"color\":\"white\"}},\"header\":{\"fill\":{\"color\":\"#C8D4E3\"},\"line\":{\"color\":\"white\"}},\"type\":\"table\"}],\"barpolar\":[{\"marker\":{\"line\":{\"color\":\"#E5ECF6\",\"width\":0.5},\"pattern\":{\"fillmode\":\"overlay\",\"size\":10,\"solidity\":0.2}},\"type\":\"barpolar\"}],\"pie\":[{\"automargin\":true,\"type\":\"pie\"}]},\"layout\":{\"autotypenumbers\":\"strict\",\"colorway\":[\"#636efa\",\"#EF553B\",\"#00cc96\",\"#ab63fa\",\"#FFA15A\",\"#19d3f3\",\"#FF6692\",\"#B6E880\",\"#FF97FF\",\"#FECB52\"],\"font\":{\"color\":\"#2a3f5f\"},\"hovermode\":\"closest\",\"hoverlabel\":{\"align\":\"left\"},\"paper_bgcolor\":\"white\",\"plot_bgcolor\":\"#E5ECF6\",\"polar\":{\"bgcolor\":\"#E5ECF6\",\"angularaxis\":{\"gridcolor\":\"white\",\"linecolor\":\"white\",\"ticks\":\"\"},\"radialaxis\":{\"gridcolor\":\"white\",\"linecolor\":\"white\",\"ticks\":\"\"}},\"ternary\":{\"bgcolor\":\"#E5ECF6\",\"aaxis\":{\"gridcolor\":\"white\",\"linecolor\":\"white\",\"ticks\":\"\"},\"baxis\":{\"gridcolor\":\"white\",\"linecolor\":\"white\",\"ticks\":\"\"},\"caxis\":{\"gridcolor\":\"white\",\"linecolor\":\"white\",\"ticks\":\"\"}},\"coloraxis\":{\"colorbar\":{\"outlinewidth\":0,\"ticks\":\"\"}},\"colorscale\":{\"sequential\":[[0.0,\"#0d0887\"],[0.1111111111111111,\"#46039f\"],[0.2222222222222222,\"#7201a8\"],[0.3333333333333333,\"#9c179e\"],[0.4444444444444444,\"#bd3786\"],[0.5555555555555556,\"#d8576b\"],[0.6666666666666666,\"#ed7953\"],[0.7777777777777778,\"#fb9f3a\"],[0.8888888888888888,\"#fdca26\"],[1.0,\"#f0f921\"]],\"sequentialminus\":[[0.0,\"#0d0887\"],[0.1111111111111111,\"#46039f\"],[0.2222222222222222,\"#7201a8\"],[0.3333333333333333,\"#9c179e\"],[0.4444444444444444,\"#bd3786\"],[0.5555555555555556,\"#d8576b\"],[0.6666666666666666,\"#ed7953\"],[0.7777777777777778,\"#fb9f3a\"],[0.8888888888888888,\"#fdca26\"],[1.0,\"#f0f921\"]],\"diverging\":[[0,\"#8e0152\"],[0.1,\"#c51b7d\"],[0.2,\"#de77ae\"],[0.3,\"#f1b6da\"],[0.4,\"#fde0ef\"],[0.5,\"#f7f7f7\"],[0.6,\"#e6f5d0\"],[0.7,\"#b8e186\"],[0.8,\"#7fbc41\"],[0.9,\"#4d9221\"],[1,\"#276419\"]]},\"xaxis\":{\"gridcolor\":\"white\",\"linecolor\":\"white\",\"ticks\":\"\",\"title\":{\"standoff\":15},\"zerolinecolor\":\"white\",\"automargin\":true,\"zerolinewidth\":2},\"yaxis\":{\"gridcolor\":\"white\",\"linecolor\":\"white\",\"ticks\":\"\",\"title\":{\"standoff\":15},\"zerolinecolor\":\"white\",\"automargin\":true,\"zerolinewidth\":2},\"scene\":{\"xaxis\":{\"backgroundcolor\":\"#E5ECF6\",\"gridcolor\":\"white\",\"linecolor\":\"white\",\"showbackground\":true,\"ticks\":\"\",\"zerolinecolor\":\"white\",\"gridwidth\":2},\"yaxis\":{\"backgroundcolor\":\"#E5ECF6\",\"gridcolor\":\"white\",\"linecolor\":\"white\",\"showbackground\":true,\"ticks\":\"\",\"zerolinecolor\":\"white\",\"gridwidth\":2},\"zaxis\":{\"backgroundcolor\":\"#E5ECF6\",\"gridcolor\":\"white\",\"linecolor\":\"white\",\"showbackground\":true,\"ticks\":\"\",\"zerolinecolor\":\"white\",\"gridwidth\":2}},\"shapedefaults\":{\"line\":{\"color\":\"#2a3f5f\"}},\"annotationdefaults\":{\"arrowcolor\":\"#2a3f5f\",\"arrowhead\":0,\"arrowwidth\":1},\"geo\":{\"bgcolor\":\"white\",\"landcolor\":\"#E5ECF6\",\"subunitcolor\":\"white\",\"showland\":true,\"showlakes\":true,\"lakecolor\":\"white\"},\"title\":{\"x\":0.05},\"mapbox\":{\"style\":\"light\"}}},\"xaxis\":{\"anchor\":\"y\",\"domain\":[0.0,1.0],\"title\":{\"text\":\"index\"}},\"yaxis\":{\"anchor\":\"x\",\"domain\":[0.0,1.0],\"title\":{\"text\":\"value\"}},\"legend\":{\"title\":{\"text\":\"variable\"},\"tracegroupgap\":0},\"title\":{\"text\":\"Checkpoint Values for solu-6l-pile (Linear scale)\"}},                        {\"responsive\": true}                    ).then(function(){\n",
                            "                            \n",
                            "var gd = document.getElementById('d92c9f04-9700-4de1-9237-9cba28fcdafb');\n",
                            "var x = new MutationObserver(function (mutations, observer) {{\n",
                            "        var display = window.getComputedStyle(gd).display;\n",
                            "        if (!display || display === 'none') {{\n",
                            "            console.log([gd, 'removed!']);\n",
                            "            Plotly.purge(gd);\n",
                            "            observer.disconnect();\n",
                            "        }}\n",
                            "}});\n",
                            "\n",
                            "// Listen for the removal of the full notebook cells\n",
                            "var notebookContainer = gd.closest('#notebook-container');\n",
                            "if (notebookContainer) {{\n",
                            "    x.observe(notebookContainer, {childList: true});\n",
                            "}}\n",
                            "\n",
                            "// Listen for the clearing of the current output cell\n",
                            "var outputEl = gd.closest('.output');\n",
                            "if (outputEl) {{\n",
                            "    x.observe(outputEl, {childList: true});\n",
                            "}}\n",
                            "\n",
                            "                        })                };                            </script>        </div>\n",
                            "</body>\n",
                            "</html>"
                        ]
                    },
                    "metadata": {},
                    "output_type": "display_data"
                }
            ],
            "source": [
                "from transformer_lens.loading_from_pretrained import get_checkpoint_labels\n",
                "\n",
                "for model_name in [\"attn-only-2l\", \"solu-12l\", \"stanford-gpt2-small-a\"]:\n",
                "    checkpoint_labels, checkpoint_label_type = get_checkpoint_labels(model_name)\n",
                "    line(\n",
                "        checkpoint_labels,\n",
                "        xaxis=\"Checkpoint Index\",\n",
                "        yaxis=f\"Checkpoint Value ({checkpoint_label_type})\",\n",
                "        title=f\"Checkpoint Values for {model_name} (Log scale)\",\n",
                "        log_y=True,\n",
                "        markers=True,\n",
                "    )\n",
                "for model_name in [\"solu-1l-pile\", \"solu-6l-pile\"]:\n",
                "    checkpoint_labels, checkpoint_label_type = get_checkpoint_labels(model_name)\n",
                "    line(\n",
                "        checkpoint_labels,\n",
                "        xaxis=\"Checkpoint Index\",\n",
                "        yaxis=f\"Checkpoint Value ({checkpoint_label_type})\",\n",
                "        title=f\"Checkpoint Values for {model_name} (Linear scale)\",\n",
                "        log_y=False,\n",
                "        markers=True,\n",
                "    )"
            ]
        },
        {
            "cell_type": "markdown",
            "metadata": {},
            "source": [
                "### Example: Induction Head Phase Transition"
            ]
        },
        {
            "cell_type": "markdown",
            "metadata": {},
            "source": [
                "One of the more interesting results analysing circuit formation during training is the [induction head phase transition](https://transformer-circuits.pub/2022/in-context-learning-and-induction-heads/index.html). They find a pretty dramatic shift in models during training - there's a brief period where models go from not having induction heads to having them, which leads to the models suddenly becoming much better at in-context learning (using far back tokens to predict the next token, eg over 500 words back). This is enough of a big deal that it leads to a visible *bump* in the loss curve, where the model's rate of improvement briefly increases. "
            ]
        },
        {
            "cell_type": "markdown",
            "metadata": {},
            "source": [
                "As a brief demonstration of the existence of the phase transition, let's load some checkpoints of a two layer model, and see whether they have induction heads. An easy test, as we used above, is to give the model a repeated sequence of random tokens, and to check how good its loss is on the second half. `evals.induction_loss` is a rough util that runs this test on a model.\n",
                "(Note - this is deliberately a rough, non-rigorous test for the purposes of demonstration, eg `evals.induction_loss` by default just runs it on 4 sequences of 384 tokens repeated twice. These results totally don't do the paper justice - go check it out if you want to see the full results!)"
            ]
        },
        {
            "cell_type": "markdown",
            "metadata": {},
            "source": [
                "In the interests of time and memory, let's look at a handful of checkpoints (chosen to be around the phase change), indices `[10, 25, 35, 60, -1]`. These are roughly 22M, 200M, 500M, 1.6B and 21.8B tokens through training, respectively. (I generally recommend looking things up based on indices, rather than checkpoint value!). "
            ]
        },
        {
            "cell_type": "code",
            "execution_count": null,
            "metadata": {},
            "outputs": [],
            "source": [
                "from transformer_lens import evals\n",
                "\n",
                "# We use the two layer model with SoLU activations, chosen fairly arbitrarily as being both small (so fast to download and keep in memory) and pretty good at the induction task.\n",
                "model_name = \"solu-2l\"\n",
                "# We can load a model from a checkpoint by specifying the checkpoint_index, -1 means the final checkpoint\n",
                "checkpoint_indices = [10, 25, 35, 60, -1]\n",
                "checkpointed_models = []\n",
                "tokens_trained_on = []\n",
                "induction_losses = []"
            ]
        },
        {
            "cell_type": "markdown",
            "metadata": {},
            "source": [
                "We load the models, cache them in a list, and "
            ]
        },
        {
            "cell_type": "code",
            "execution_count": null,
            "metadata": {},
            "outputs": [],
            "source": [
                "if not IN_GITHUB:\n",
                "    for index in checkpoint_indices:\n",
                "        # Load the model from the relevant checkpoint by index\n",
                "        model_for_this_checkpoint = HookedTransformer.from_pretrained(\n",
                "            model_name, checkpoint_index=index, device=device\n",
                "        )\n",
                "        checkpointed_models.append(model_for_this_checkpoint)\n",
                "\n",
                "        tokens_seen_for_this_checkpoint = model_for_this_checkpoint.cfg.checkpoint_value\n",
                "        tokens_trained_on.append(tokens_seen_for_this_checkpoint)\n",
                "\n",
                "        induction_loss_for_this_checkpoint = evals.induction_loss(\n",
                "            model_for_this_checkpoint, device=device\n",
                "        ).item()\n",
                "        induction_losses.append(induction_loss_for_this_checkpoint)"
            ]
        },
        {
            "cell_type": "markdown",
            "metadata": {},
            "source": [
                "We can plot this, and see there's a sharp shift from ~200-500M tokens trained on (note the log scale on the x axis). Interestingly, this is notably earlier than the phase transition in the paper, I'm not sure what's up with that.\n",
                "\n",
                "(To contextualise the numbers, the tokens in the random sequence are uniformly chosen from the first 20,000 tokens (out of ~48,000 total), so random performance is at least $\\ln(20000)\\approx 10$. A naive strategy like \"randomly choose a token that's already appeared in the first half of the sequence (384 elements)\" would get $\\ln(384)\\approx 5.95$, so the model is doing pretty well here.)"
            ]
        },
        {
            "cell_type": "code",
            "execution_count": null,
            "metadata": {},
            "outputs": [
                {
                    "data": {
                        "text/html": [
                            "<html>\n",
                            "<head><meta charset=\"utf-8\" /></head>\n",
                            "<body>\n",
                            "    <div>            <script src=\"https://cdnjs.cloudflare.com/ajax/libs/mathjax/2.7.5/MathJax.js?config=TeX-AMS-MML_SVG\"></script><script type=\"text/javascript\">if (window.MathJax && window.MathJax.Hub && window.MathJax.Hub.Config) {window.MathJax.Hub.Config({SVG: {font: \"STIX-Web\"}});}</script>                <script type=\"text/javascript\">window.PlotlyConfig = {MathJaxConfig: 'local'};</script>\n",
                            "        <script charset=\"utf-8\" src=\"https://cdn.plot.ly/plotly-2.26.0.min.js\"></script>                <div id=\"1b82f6dc-4619-4786-ac45-c3cf11921de0\" class=\"plotly-graph-div\" style=\"height:525px; width:100%;\"></div>            <script type=\"text/javascript\">                                    window.PLOTLYENV=window.PLOTLYENV || {};                                    if (document.getElementById(\"1b82f6dc-4619-4786-ac45-c3cf11921de0\")) {                    Plotly.newPlot(                        \"1b82f6dc-4619-4786-ac45-c3cf11921de0\",                        [],                        {\"template\":{\"data\":{\"histogram2dcontour\":[{\"type\":\"histogram2dcontour\",\"colorbar\":{\"outlinewidth\":0,\"ticks\":\"\"},\"colorscale\":[[0.0,\"#0d0887\"],[0.1111111111111111,\"#46039f\"],[0.2222222222222222,\"#7201a8\"],[0.3333333333333333,\"#9c179e\"],[0.4444444444444444,\"#bd3786\"],[0.5555555555555556,\"#d8576b\"],[0.6666666666666666,\"#ed7953\"],[0.7777777777777778,\"#fb9f3a\"],[0.8888888888888888,\"#fdca26\"],[1.0,\"#f0f921\"]]}],\"choropleth\":[{\"type\":\"choropleth\",\"colorbar\":{\"outlinewidth\":0,\"ticks\":\"\"}}],\"histogram2d\":[{\"type\":\"histogram2d\",\"colorbar\":{\"outlinewidth\":0,\"ticks\":\"\"},\"colorscale\":[[0.0,\"#0d0887\"],[0.1111111111111111,\"#46039f\"],[0.2222222222222222,\"#7201a8\"],[0.3333333333333333,\"#9c179e\"],[0.4444444444444444,\"#bd3786\"],[0.5555555555555556,\"#d8576b\"],[0.6666666666666666,\"#ed7953\"],[0.7777777777777778,\"#fb9f3a\"],[0.8888888888888888,\"#fdca26\"],[1.0,\"#f0f921\"]]}],\"heatmap\":[{\"type\":\"heatmap\",\"colorbar\":{\"outlinewidth\":0,\"ticks\":\"\"},\"colorscale\":[[0.0,\"#0d0887\"],[0.1111111111111111,\"#46039f\"],[0.2222222222222222,\"#7201a8\"],[0.3333333333333333,\"#9c179e\"],[0.4444444444444444,\"#bd3786\"],[0.5555555555555556,\"#d8576b\"],[0.6666666666666666,\"#ed7953\"],[0.7777777777777778,\"#fb9f3a\"],[0.8888888888888888,\"#fdca26\"],[1.0,\"#f0f921\"]]}],\"heatmapgl\":[{\"type\":\"heatmapgl\",\"colorbar\":{\"outlinewidth\":0,\"ticks\":\"\"},\"colorscale\":[[0.0,\"#0d0887\"],[0.1111111111111111,\"#46039f\"],[0.2222222222222222,\"#7201a8\"],[0.3333333333333333,\"#9c179e\"],[0.4444444444444444,\"#bd3786\"],[0.5555555555555556,\"#d8576b\"],[0.6666666666666666,\"#ed7953\"],[0.7777777777777778,\"#fb9f3a\"],[0.8888888888888888,\"#fdca26\"],[1.0,\"#f0f921\"]]}],\"contourcarpet\":[{\"type\":\"contourcarpet\",\"colorbar\":{\"outlinewidth\":0,\"ticks\":\"\"}}],\"contour\":[{\"type\":\"contour\",\"colorbar\":{\"outlinewidth\":0,\"ticks\":\"\"},\"colorscale\":[[0.0,\"#0d0887\"],[0.1111111111111111,\"#46039f\"],[0.2222222222222222,\"#7201a8\"],[0.3333333333333333,\"#9c179e\"],[0.4444444444444444,\"#bd3786\"],[0.5555555555555556,\"#d8576b\"],[0.6666666666666666,\"#ed7953\"],[0.7777777777777778,\"#fb9f3a\"],[0.8888888888888888,\"#fdca26\"],[1.0,\"#f0f921\"]]}],\"surface\":[{\"type\":\"surface\",\"colorbar\":{\"outlinewidth\":0,\"ticks\":\"\"},\"colorscale\":[[0.0,\"#0d0887\"],[0.1111111111111111,\"#46039f\"],[0.2222222222222222,\"#7201a8\"],[0.3333333333333333,\"#9c179e\"],[0.4444444444444444,\"#bd3786\"],[0.5555555555555556,\"#d8576b\"],[0.6666666666666666,\"#ed7953\"],[0.7777777777777778,\"#fb9f3a\"],[0.8888888888888888,\"#fdca26\"],[1.0,\"#f0f921\"]]}],\"mesh3d\":[{\"type\":\"mesh3d\",\"colorbar\":{\"outlinewidth\":0,\"ticks\":\"\"}}],\"scatter\":[{\"fillpattern\":{\"fillmode\":\"overlay\",\"size\":10,\"solidity\":0.2},\"type\":\"scatter\"}],\"parcoords\":[{\"type\":\"parcoords\",\"line\":{\"colorbar\":{\"outlinewidth\":0,\"ticks\":\"\"}}}],\"scatterpolargl\":[{\"type\":\"scatterpolargl\",\"marker\":{\"colorbar\":{\"outlinewidth\":0,\"ticks\":\"\"}}}],\"bar\":[{\"error_x\":{\"color\":\"#2a3f5f\"},\"error_y\":{\"color\":\"#2a3f5f\"},\"marker\":{\"line\":{\"color\":\"#E5ECF6\",\"width\":0.5},\"pattern\":{\"fillmode\":\"overlay\",\"size\":10,\"solidity\":0.2}},\"type\":\"bar\"}],\"scattergeo\":[{\"type\":\"scattergeo\",\"marker\":{\"colorbar\":{\"outlinewidth\":0,\"ticks\":\"\"}}}],\"scatterpolar\":[{\"type\":\"scatterpolar\",\"marker\":{\"colorbar\":{\"outlinewidth\":0,\"ticks\":\"\"}}}],\"histogram\":[{\"marker\":{\"pattern\":{\"fillmode\":\"overlay\",\"size\":10,\"solidity\":0.2}},\"type\":\"histogram\"}],\"scattergl\":[{\"type\":\"scattergl\",\"marker\":{\"colorbar\":{\"outlinewidth\":0,\"ticks\":\"\"}}}],\"scatter3d\":[{\"type\":\"scatter3d\",\"line\":{\"colorbar\":{\"outlinewidth\":0,\"ticks\":\"\"}},\"marker\":{\"colorbar\":{\"outlinewidth\":0,\"ticks\":\"\"}}}],\"scattermapbox\":[{\"type\":\"scattermapbox\",\"marker\":{\"colorbar\":{\"outlinewidth\":0,\"ticks\":\"\"}}}],\"scatterternary\":[{\"type\":\"scatterternary\",\"marker\":{\"colorbar\":{\"outlinewidth\":0,\"ticks\":\"\"}}}],\"scattercarpet\":[{\"type\":\"scattercarpet\",\"marker\":{\"colorbar\":{\"outlinewidth\":0,\"ticks\":\"\"}}}],\"carpet\":[{\"aaxis\":{\"endlinecolor\":\"#2a3f5f\",\"gridcolor\":\"white\",\"linecolor\":\"white\",\"minorgridcolor\":\"white\",\"startlinecolor\":\"#2a3f5f\"},\"baxis\":{\"endlinecolor\":\"#2a3f5f\",\"gridcolor\":\"white\",\"linecolor\":\"white\",\"minorgridcolor\":\"white\",\"startlinecolor\":\"#2a3f5f\"},\"type\":\"carpet\"}],\"table\":[{\"cells\":{\"fill\":{\"color\":\"#EBF0F8\"},\"line\":{\"color\":\"white\"}},\"header\":{\"fill\":{\"color\":\"#C8D4E3\"},\"line\":{\"color\":\"white\"}},\"type\":\"table\"}],\"barpolar\":[{\"marker\":{\"line\":{\"color\":\"#E5ECF6\",\"width\":0.5},\"pattern\":{\"fillmode\":\"overlay\",\"size\":10,\"solidity\":0.2}},\"type\":\"barpolar\"}],\"pie\":[{\"automargin\":true,\"type\":\"pie\"}]},\"layout\":{\"autotypenumbers\":\"strict\",\"colorway\":[\"#636efa\",\"#EF553B\",\"#00cc96\",\"#ab63fa\",\"#FFA15A\",\"#19d3f3\",\"#FF6692\",\"#B6E880\",\"#FF97FF\",\"#FECB52\"],\"font\":{\"color\":\"#2a3f5f\"},\"hovermode\":\"closest\",\"hoverlabel\":{\"align\":\"left\"},\"paper_bgcolor\":\"white\",\"plot_bgcolor\":\"#E5ECF6\",\"polar\":{\"bgcolor\":\"#E5ECF6\",\"angularaxis\":{\"gridcolor\":\"white\",\"linecolor\":\"white\",\"ticks\":\"\"},\"radialaxis\":{\"gridcolor\":\"white\",\"linecolor\":\"white\",\"ticks\":\"\"}},\"ternary\":{\"bgcolor\":\"#E5ECF6\",\"aaxis\":{\"gridcolor\":\"white\",\"linecolor\":\"white\",\"ticks\":\"\"},\"baxis\":{\"gridcolor\":\"white\",\"linecolor\":\"white\",\"ticks\":\"\"},\"caxis\":{\"gridcolor\":\"white\",\"linecolor\":\"white\",\"ticks\":\"\"}},\"coloraxis\":{\"colorbar\":{\"outlinewidth\":0,\"ticks\":\"\"}},\"colorscale\":{\"sequential\":[[0.0,\"#0d0887\"],[0.1111111111111111,\"#46039f\"],[0.2222222222222222,\"#7201a8\"],[0.3333333333333333,\"#9c179e\"],[0.4444444444444444,\"#bd3786\"],[0.5555555555555556,\"#d8576b\"],[0.6666666666666666,\"#ed7953\"],[0.7777777777777778,\"#fb9f3a\"],[0.8888888888888888,\"#fdca26\"],[1.0,\"#f0f921\"]],\"sequentialminus\":[[0.0,\"#0d0887\"],[0.1111111111111111,\"#46039f\"],[0.2222222222222222,\"#7201a8\"],[0.3333333333333333,\"#9c179e\"],[0.4444444444444444,\"#bd3786\"],[0.5555555555555556,\"#d8576b\"],[0.6666666666666666,\"#ed7953\"],[0.7777777777777778,\"#fb9f3a\"],[0.8888888888888888,\"#fdca26\"],[1.0,\"#f0f921\"]],\"diverging\":[[0,\"#8e0152\"],[0.1,\"#c51b7d\"],[0.2,\"#de77ae\"],[0.3,\"#f1b6da\"],[0.4,\"#fde0ef\"],[0.5,\"#f7f7f7\"],[0.6,\"#e6f5d0\"],[0.7,\"#b8e186\"],[0.8,\"#7fbc41\"],[0.9,\"#4d9221\"],[1,\"#276419\"]]},\"xaxis\":{\"gridcolor\":\"white\",\"linecolor\":\"white\",\"ticks\":\"\",\"title\":{\"standoff\":15},\"zerolinecolor\":\"white\",\"automargin\":true,\"zerolinewidth\":2},\"yaxis\":{\"gridcolor\":\"white\",\"linecolor\":\"white\",\"ticks\":\"\",\"title\":{\"standoff\":15},\"zerolinecolor\":\"white\",\"automargin\":true,\"zerolinewidth\":2},\"scene\":{\"xaxis\":{\"backgroundcolor\":\"#E5ECF6\",\"gridcolor\":\"white\",\"linecolor\":\"white\",\"showbackground\":true,\"ticks\":\"\",\"zerolinecolor\":\"white\",\"gridwidth\":2},\"yaxis\":{\"backgroundcolor\":\"#E5ECF6\",\"gridcolor\":\"white\",\"linecolor\":\"white\",\"showbackground\":true,\"ticks\":\"\",\"zerolinecolor\":\"white\",\"gridwidth\":2},\"zaxis\":{\"backgroundcolor\":\"#E5ECF6\",\"gridcolor\":\"white\",\"linecolor\":\"white\",\"showbackground\":true,\"ticks\":\"\",\"zerolinecolor\":\"white\",\"gridwidth\":2}},\"shapedefaults\":{\"line\":{\"color\":\"#2a3f5f\"}},\"annotationdefaults\":{\"arrowcolor\":\"#2a3f5f\",\"arrowhead\":0,\"arrowwidth\":1},\"geo\":{\"bgcolor\":\"white\",\"landcolor\":\"#E5ECF6\",\"subunitcolor\":\"white\",\"showland\":true,\"showlakes\":true,\"lakecolor\":\"white\"},\"title\":{\"x\":0.05},\"mapbox\":{\"style\":\"light\"}}},\"xaxis\":{\"anchor\":\"y\",\"domain\":[0.0,1.0],\"title\":{\"text\":\"value\"},\"type\":\"log\"},\"yaxis\":{\"anchor\":\"x\",\"domain\":[0.0,1.0],\"title\":{\"text\":\"index\"}},\"legend\":{\"tracegroupgap\":0},\"title\":{\"text\":\"Induction Loss over training: solu-2l\"}},                        {\"responsive\": true}                    ).then(function(){\n",
                            "                            \n",
                            "var gd = document.getElementById('1b82f6dc-4619-4786-ac45-c3cf11921de0');\n",
                            "var x = new MutationObserver(function (mutations, observer) {{\n",
                            "        var display = window.getComputedStyle(gd).display;\n",
                            "        if (!display || display === 'none') {{\n",
                            "            console.log([gd, 'removed!']);\n",
                            "            Plotly.purge(gd);\n",
                            "            observer.disconnect();\n",
                            "        }}\n",
                            "}});\n",
                            "\n",
                            "// Listen for the removal of the full notebook cells\n",
                            "var notebookContainer = gd.closest('#notebook-container');\n",
                            "if (notebookContainer) {{\n",
                            "    x.observe(notebookContainer, {childList: true});\n",
                            "}}\n",
                            "\n",
                            "// Listen for the clearing of the current output cell\n",
                            "var outputEl = gd.closest('.output');\n",
                            "if (outputEl) {{\n",
                            "    x.observe(outputEl, {childList: true});\n",
                            "}}\n",
                            "\n",
                            "                        })                };                            </script>        </div>\n",
                            "</body>\n",
                            "</html>"
                        ]
                    },
                    "metadata": {},
                    "output_type": "display_data"
                }
            ],
            "source": [
                "line(\n",
                "    induction_losses,\n",
                "    x=tokens_trained_on,\n",
                "    xaxis=\"Tokens Trained On\",\n",
                "    yaxis=\"Induction Loss\",\n",
                "    title=\"Induction Loss over training: solu-2l\",\n",
                "    markers=True,\n",
                "    log_x=True,\n",
                ")"
            ]
        }
    ],
    "metadata": {
        "kernelspec": {
            "display_name": ".venv",
            "language": "python",
            "name": "python3"
        },
        "language_info": {
            "codemirror_mode": {
                "name": "ipython",
                "version": 3
            },
            "file_extension": ".py",
            "mimetype": "text/x-python",
            "name": "python",
            "nbconvert_exporter": "python",
            "pygments_lexer": "ipython3",
            "version": "3.11.2"
        },
        "orig_nbformat": 4,
        "vscode": {
            "interpreter": {
                "hash": "eb812820b5094695c8a581672e17220e30dd2c15d704c018326e3cc2e1a566f1"
            }
        }
    },
    "nbformat": 4,
    "nbformat_minor": 2
}
